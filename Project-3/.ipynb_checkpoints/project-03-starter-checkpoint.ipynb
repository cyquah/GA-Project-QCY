{
 "cells": [
  {
   "cell_type": "markdown",
   "metadata": {},
   "source": [
    "<img src=\"http://imgur.com/1ZcRyrc.png\" style=\"float: left; margin: 15px; height: 80px\">\n",
    "\n",
    "# Project 3\n",
    "\n",
    "### Regression and Classification with the Ames Housing Data\n",
    "\n",
    "---\n",
    "\n",
    "You have just joined a new \"full stack\" real estate company in Ames, Iowa. The strategy of the firm is two-fold:\n",
    "- Own the entire process from the purchase of the land all the way to sale of the house, and anything in between.\n",
    "- Use statistical analysis to optimize investment and maximize return.\n",
    "\n",
    "The company is still small, and though investment is substantial the short-term goals of the company are more oriented towards purchasing existing houses and flipping them as opposed to constructing entirely new houses. That being said, the company has access to a large construction workforce operating at rock-bottom prices.\n",
    "\n",
    "This project uses the [Ames housing data recently made available on kaggle](https://www.kaggle.com/c/house-prices-advanced-regression-techniques)."
   ]
  },
  {
   "cell_type": "code",
   "execution_count": 364,
   "metadata": {
    "collapsed": true
   },
   "outputs": [],
   "source": [
    "import numpy as np\n",
    "import scipy.stats as stats\n",
    "import seaborn as sns\n",
    "import matplotlib.pyplot as plt\n",
    "import pandas as pd\n",
    "import patsy\n",
    "\n",
    "sns.set_style('whitegrid')\n",
    "\n",
    "%config InlineBackend.figure_format = 'retina'\n",
    "%matplotlib inline"
   ]
  },
  {
   "cell_type": "markdown",
   "metadata": {},
   "source": [
    "<img src=\"http://imgur.com/l5NasQj.png\" style=\"float: left; margin: 25px 15px 0px 0px; height: 25px\">\n",
    "\n",
    "## 1. Estimating the value of homes from fixed characteristics.\n",
    "\n",
    "---\n",
    "\n",
    "Your superiors have outlined this year's strategy for the company:\n",
    "1. Develop an algorithm to reliably estimate the value of residential houses based on *fixed* characteristics.\n",
    "2. Identify characteristics of houses that the company can cost-effectively change/renovate with their construction team.\n",
    "3. Evaluate the mean dollar value of different renovations.\n",
    "\n",
    "Then we can use that to buy houses that are likely to sell for more than the cost of the purchase plus renovations.\n",
    "\n",
    "Your first job is to tackle #1. You have a dataset of housing sale data with a huge amount of features identifying different aspects of the house. The full description of the data features can be found in a separate file:\n",
    "\n",
    "    housing.csv\n",
    "    data_description.txt\n",
    "    \n",
    "You need to build a reliable estimator for the price of the house given characteristics of the house that cannot be renovated. Some examples include:\n",
    "- The neighborhood\n",
    "- Square feet\n",
    "- Bedrooms, bathrooms\n",
    "- Basement and garage space\n",
    "\n",
    "and many more. \n",
    "\n",
    "Some examples of things that **ARE renovate-able:**\n",
    "- Roof and exterior features\n",
    "- \"Quality\" metrics, such as kitchen quality\n",
    "- \"Condition\" metrics, such as condition of garage\n",
    "- Heating and electrical components\n",
    "\n",
    "and generally anything you deem can be modified without having to undergo major construction on the house.\n",
    "\n",
    "---\n",
    "\n",
    "**Your goals:**\n",
    "1. Perform any cleaning, feature engineering, and EDA you deem necessary.\n",
    "- Be sure to remove any houses that are not residential from the dataset.\n",
    "- Identify **fixed** features that can predict price.\n",
    "- Train a model on pre-2010 data and evaluate its performance on the 2010 houses.\n",
    "- Characterize your model. How well does it perform? What are the best estimates of price?\n",
    "\n",
    "> **Note:** The EDA and feature engineering component to this project is not trivial! Be sure to always think critically and creatively. Justify your actions! Use the data description file!"
   ]
  },
  {
   "cell_type": "code",
   "execution_count": 365,
   "metadata": {
    "collapsed": true
   },
   "outputs": [],
   "source": [
    "# Load the data\n",
    "house = pd.read_csv('./housing.csv')"
   ]
  },
  {
   "cell_type": "code",
   "execution_count": 366,
   "metadata": {},
   "outputs": [
    {
     "data": {
      "text/html": [
       "<div>\n",
       "<style>\n",
       "    .dataframe thead tr:only-child th {\n",
       "        text-align: right;\n",
       "    }\n",
       "\n",
       "    .dataframe thead th {\n",
       "        text-align: left;\n",
       "    }\n",
       "\n",
       "    .dataframe tbody tr th {\n",
       "        vertical-align: top;\n",
       "    }\n",
       "</style>\n",
       "<table border=\"1\" class=\"dataframe\">\n",
       "  <thead>\n",
       "    <tr style=\"text-align: right;\">\n",
       "      <th></th>\n",
       "      <th>Id</th>\n",
       "      <th>MSSubClass</th>\n",
       "      <th>MSZoning</th>\n",
       "      <th>LotFrontage</th>\n",
       "      <th>LotArea</th>\n",
       "      <th>Street</th>\n",
       "      <th>Alley</th>\n",
       "      <th>LotShape</th>\n",
       "      <th>LandContour</th>\n",
       "      <th>Utilities</th>\n",
       "      <th>...</th>\n",
       "      <th>PoolArea</th>\n",
       "      <th>PoolQC</th>\n",
       "      <th>Fence</th>\n",
       "      <th>MiscFeature</th>\n",
       "      <th>MiscVal</th>\n",
       "      <th>MoSold</th>\n",
       "      <th>YrSold</th>\n",
       "      <th>SaleType</th>\n",
       "      <th>SaleCondition</th>\n",
       "      <th>SalePrice</th>\n",
       "    </tr>\n",
       "  </thead>\n",
       "  <tbody>\n",
       "    <tr>\n",
       "      <th>0</th>\n",
       "      <td>1</td>\n",
       "      <td>60</td>\n",
       "      <td>RL</td>\n",
       "      <td>65.0</td>\n",
       "      <td>8450</td>\n",
       "      <td>Pave</td>\n",
       "      <td>NaN</td>\n",
       "      <td>Reg</td>\n",
       "      <td>Lvl</td>\n",
       "      <td>AllPub</td>\n",
       "      <td>...</td>\n",
       "      <td>0</td>\n",
       "      <td>NaN</td>\n",
       "      <td>NaN</td>\n",
       "      <td>NaN</td>\n",
       "      <td>0</td>\n",
       "      <td>2</td>\n",
       "      <td>2008</td>\n",
       "      <td>WD</td>\n",
       "      <td>Normal</td>\n",
       "      <td>208500</td>\n",
       "    </tr>\n",
       "    <tr>\n",
       "      <th>1</th>\n",
       "      <td>2</td>\n",
       "      <td>20</td>\n",
       "      <td>RL</td>\n",
       "      <td>80.0</td>\n",
       "      <td>9600</td>\n",
       "      <td>Pave</td>\n",
       "      <td>NaN</td>\n",
       "      <td>Reg</td>\n",
       "      <td>Lvl</td>\n",
       "      <td>AllPub</td>\n",
       "      <td>...</td>\n",
       "      <td>0</td>\n",
       "      <td>NaN</td>\n",
       "      <td>NaN</td>\n",
       "      <td>NaN</td>\n",
       "      <td>0</td>\n",
       "      <td>5</td>\n",
       "      <td>2007</td>\n",
       "      <td>WD</td>\n",
       "      <td>Normal</td>\n",
       "      <td>181500</td>\n",
       "    </tr>\n",
       "    <tr>\n",
       "      <th>2</th>\n",
       "      <td>3</td>\n",
       "      <td>60</td>\n",
       "      <td>RL</td>\n",
       "      <td>68.0</td>\n",
       "      <td>11250</td>\n",
       "      <td>Pave</td>\n",
       "      <td>NaN</td>\n",
       "      <td>IR1</td>\n",
       "      <td>Lvl</td>\n",
       "      <td>AllPub</td>\n",
       "      <td>...</td>\n",
       "      <td>0</td>\n",
       "      <td>NaN</td>\n",
       "      <td>NaN</td>\n",
       "      <td>NaN</td>\n",
       "      <td>0</td>\n",
       "      <td>9</td>\n",
       "      <td>2008</td>\n",
       "      <td>WD</td>\n",
       "      <td>Normal</td>\n",
       "      <td>223500</td>\n",
       "    </tr>\n",
       "    <tr>\n",
       "      <th>3</th>\n",
       "      <td>4</td>\n",
       "      <td>70</td>\n",
       "      <td>RL</td>\n",
       "      <td>60.0</td>\n",
       "      <td>9550</td>\n",
       "      <td>Pave</td>\n",
       "      <td>NaN</td>\n",
       "      <td>IR1</td>\n",
       "      <td>Lvl</td>\n",
       "      <td>AllPub</td>\n",
       "      <td>...</td>\n",
       "      <td>0</td>\n",
       "      <td>NaN</td>\n",
       "      <td>NaN</td>\n",
       "      <td>NaN</td>\n",
       "      <td>0</td>\n",
       "      <td>2</td>\n",
       "      <td>2006</td>\n",
       "      <td>WD</td>\n",
       "      <td>Abnorml</td>\n",
       "      <td>140000</td>\n",
       "    </tr>\n",
       "    <tr>\n",
       "      <th>4</th>\n",
       "      <td>5</td>\n",
       "      <td>60</td>\n",
       "      <td>RL</td>\n",
       "      <td>84.0</td>\n",
       "      <td>14260</td>\n",
       "      <td>Pave</td>\n",
       "      <td>NaN</td>\n",
       "      <td>IR1</td>\n",
       "      <td>Lvl</td>\n",
       "      <td>AllPub</td>\n",
       "      <td>...</td>\n",
       "      <td>0</td>\n",
       "      <td>NaN</td>\n",
       "      <td>NaN</td>\n",
       "      <td>NaN</td>\n",
       "      <td>0</td>\n",
       "      <td>12</td>\n",
       "      <td>2008</td>\n",
       "      <td>WD</td>\n",
       "      <td>Normal</td>\n",
       "      <td>250000</td>\n",
       "    </tr>\n",
       "  </tbody>\n",
       "</table>\n",
       "<p>5 rows × 81 columns</p>\n",
       "</div>"
      ],
      "text/plain": [
       "   Id  MSSubClass MSZoning  LotFrontage  LotArea Street Alley LotShape  \\\n",
       "0   1          60       RL         65.0     8450   Pave   NaN      Reg   \n",
       "1   2          20       RL         80.0     9600   Pave   NaN      Reg   \n",
       "2   3          60       RL         68.0    11250   Pave   NaN      IR1   \n",
       "3   4          70       RL         60.0     9550   Pave   NaN      IR1   \n",
       "4   5          60       RL         84.0    14260   Pave   NaN      IR1   \n",
       "\n",
       "  LandContour Utilities    ...     PoolArea PoolQC Fence MiscFeature MiscVal  \\\n",
       "0         Lvl    AllPub    ...            0    NaN   NaN         NaN       0   \n",
       "1         Lvl    AllPub    ...            0    NaN   NaN         NaN       0   \n",
       "2         Lvl    AllPub    ...            0    NaN   NaN         NaN       0   \n",
       "3         Lvl    AllPub    ...            0    NaN   NaN         NaN       0   \n",
       "4         Lvl    AllPub    ...            0    NaN   NaN         NaN       0   \n",
       "\n",
       "  MoSold YrSold  SaleType  SaleCondition  SalePrice  \n",
       "0      2   2008        WD         Normal     208500  \n",
       "1      5   2007        WD         Normal     181500  \n",
       "2      9   2008        WD         Normal     223500  \n",
       "3      2   2006        WD        Abnorml     140000  \n",
       "4     12   2008        WD         Normal     250000  \n",
       "\n",
       "[5 rows x 81 columns]"
      ]
     },
     "execution_count": 366,
     "metadata": {},
     "output_type": "execute_result"
    }
   ],
   "source": [
    "# A:\n",
    "house.head()"
   ]
  },
  {
   "cell_type": "code",
   "execution_count": null,
   "metadata": {},
   "outputs": [],
   "source": [
    "house.info()"
   ]
  },
  {
   "cell_type": "code",
   "execution_count": 368,
   "metadata": {
    "scrolled": false
   },
   "outputs": [],
   "source": [
    "# remove those rows that are not residential\n",
    "house = house[house['MSZoning'].isin(['FV', 'RH', 'RL', 'RP', 'RM'])]"
   ]
  },
  {
   "cell_type": "code",
   "execution_count": 369,
   "metadata": {},
   "outputs": [],
   "source": [
    "# change NaN to None for object variables\n",
    "house['MasVnrType'] = house.MasVnrType.fillna('None')\n",
    "house['BsmtCond'] = house.BsmtCond.fillna('None')\n",
    "house['BsmtFinType2'] = house.BsmtFinType2.fillna('None')\n",
    "house['BsmtQual'] = house.BsmtQual.fillna('None')\n",
    "house['BsmtExposure'] = house.BsmtExposure.fillna('None')\n",
    "house['BsmtFinType1'] = house.BsmtFinType1.fillna('None')\n",
    "house['FireplaceQu'] = house.FireplaceQu.fillna('None')\n",
    "house['GarageType'] = house.GarageType.fillna('None')\n",
    "house['GarageFinish'] = house.GarageFinish.fillna('None')\n",
    "house['GarageQual'] = house.GarageQual.fillna('None')\n",
    "house['GarageCond'] = house.GarageCond.fillna('None')"
   ]
  },
  {
   "cell_type": "code",
   "execution_count": 370,
   "metadata": {},
   "outputs": [],
   "source": [
    "# change Nan to 0 for numeric variables\n",
    "house['MasVnrArea'] = house.MasVnrArea.fillna(0)\n",
    "house['LotFrontage'] = house.LotFrontage.fillna(0)"
   ]
  },
  {
   "cell_type": "code",
   "execution_count": 371,
   "metadata": {},
   "outputs": [
    {
     "data": {
      "text/plain": [
       "SBrkr    1328\n",
       "FuseA      90\n",
       "FuseF      27\n",
       "FuseP       3\n",
       "Mix         1\n",
       "Name: Electrical, dtype: int64"
      ]
     },
     "execution_count": 371,
     "metadata": {},
     "output_type": "execute_result"
    }
   ],
   "source": [
    "house.Electrical.value_counts()"
   ]
  },
  {
   "cell_type": "code",
   "execution_count": null,
   "metadata": {},
   "outputs": [],
   "source": [
    "# investigate Electrical null object and set it to most common value\n",
    "Elec_null = house.Electrical[house.Electrical.isnull()]\n",
    "# print Elec_null\n",
    "# print house.iloc[1379,:]\n",
    "house.set_value(1379, 'Electrical', 'SBrkr')"
   ]
  },
  {
   "cell_type": "code",
   "execution_count": 373,
   "metadata": {},
   "outputs": [],
   "source": [
    "# rename column names that start with an integer for use with patsy\n",
    "house = house.rename(columns={'1stFlrSF': 'FirstFlrSF', '2ndFlrSF': 'SecondFlrSF'})\n",
    "\n",
    "# convert selected columns from numerical to string\n",
    "house['MSSubClass'] = house.MSSubClass.map(lambda x : str(x))\n",
    "house['OverallQual'] = house.OverallQual.map(lambda x : str(x))\n",
    "house['OverallCond'] = house.OverallCond.map(lambda x : str(x))\n",
    "\n",
    "# convert all areas/price columns to float\n",
    "house['LotArea'] = house.LotArea.map(lambda x : float(x))\n",
    "house['BsmtFinSF1'] = house.BsmtFinSF1.map(lambda x : float(x))\n",
    "house['BsmtFinSF2'] = house.BsmtFinSF2.map(lambda x :float(x))\n",
    "house['BsmtUnfSF'] = house.BsmtUnfSF.map(lambda x : float(x))\n",
    "house['FirstFlrSF'] = house.FirstFlrSF.map(lambda x : float(x))\n",
    "house['TotalBsmtSF'] = house.TotalBsmtSF.map(lambda x : float(x))\n",
    "house['SecondFlrSF'] = house.SecondFlrSF.map(lambda x : float(x))\n",
    "house['GrLivArea'] = house.GrLivArea.map(lambda x : float(x))\n",
    "house['GarageArea'] = house.GarageArea.map(lambda x : float(x))\n",
    "house['OpenPorchSF'] = house.OpenPorchSF.map(lambda x : float(x))\n",
    "house['SalePrice'] = house.SalePrice.map(lambda x : float(x))\n",
    "\n",
    "# drop the Id & GarageYrBlt columns and those with less than 1/3 non-null or non-zero values\n",
    "house = house.drop(['Id', 'Alley', 'PoolQC', 'Fence', 'MiscFeature', 'LowQualFinSF','BsmtFullBath', 'PoolArea', \n",
    "                    'MiscVal','BsmtHalfBath', 'HalfBath', 'WoodDeckSF','EnclosedPorch','3SsnPorch','ScreenPorch',\n",
    "                   'GarageYrBlt'], axis=1)"
   ]
  },
  {
   "cell_type": "code",
   "execution_count": 464,
   "metadata": {},
   "outputs": [
    {
     "data": {
      "text/html": [
       "<div>\n",
       "<style>\n",
       "    .dataframe thead tr:only-child th {\n",
       "        text-align: right;\n",
       "    }\n",
       "\n",
       "    .dataframe thead th {\n",
       "        text-align: left;\n",
       "    }\n",
       "\n",
       "    .dataframe tbody tr th {\n",
       "        vertical-align: top;\n",
       "    }\n",
       "</style>\n",
       "<table border=\"1\" class=\"dataframe\">\n",
       "  <thead>\n",
       "    <tr style=\"text-align: right;\">\n",
       "      <th></th>\n",
       "      <th>LotFrontage</th>\n",
       "      <th>LotArea</th>\n",
       "      <th>YearBuilt</th>\n",
       "      <th>YearRemodAdd</th>\n",
       "      <th>MasVnrArea</th>\n",
       "      <th>BsmtFinSF1</th>\n",
       "      <th>BsmtFinSF2</th>\n",
       "      <th>BsmtUnfSF</th>\n",
       "      <th>TotalBsmtSF</th>\n",
       "      <th>FirstFlrSF</th>\n",
       "      <th>SecondFlrSF</th>\n",
       "    </tr>\n",
       "  </thead>\n",
       "  <tbody>\n",
       "    <tr>\n",
       "      <th>count</th>\n",
       "      <td>1450.00000</td>\n",
       "      <td>1450.000000</td>\n",
       "      <td>1450.000000</td>\n",
       "      <td>1450.000000</td>\n",
       "      <td>1450.000000</td>\n",
       "      <td>1450.000000</td>\n",
       "      <td>1450.000000</td>\n",
       "      <td>1450.000000</td>\n",
       "      <td>1450.000000</td>\n",
       "      <td>1450.000000</td>\n",
       "      <td>1450.000000</td>\n",
       "    </tr>\n",
       "    <tr>\n",
       "      <th>mean</th>\n",
       "      <td>57.54000</td>\n",
       "      <td>10523.831724</td>\n",
       "      <td>1971.593103</td>\n",
       "      <td>1985.049655</td>\n",
       "      <td>103.828276</td>\n",
       "      <td>445.162759</td>\n",
       "      <td>46.870345</td>\n",
       "      <td>567.375862</td>\n",
       "      <td>1059.408966</td>\n",
       "      <td>1164.773103</td>\n",
       "      <td>347.394483</td>\n",
       "    </tr>\n",
       "    <tr>\n",
       "      <th>std</th>\n",
       "      <td>34.71992</td>\n",
       "      <td>10012.185355</td>\n",
       "      <td>30.022696</td>\n",
       "      <td>20.552319</td>\n",
       "      <td>181.150114</td>\n",
       "      <td>456.353871</td>\n",
       "      <td>161.828458</td>\n",
       "      <td>442.584978</td>\n",
       "      <td>439.207322</td>\n",
       "      <td>386.646095</td>\n",
       "      <td>437.094261</td>\n",
       "    </tr>\n",
       "    <tr>\n",
       "      <th>min</th>\n",
       "      <td>0.00000</td>\n",
       "      <td>1300.000000</td>\n",
       "      <td>1872.000000</td>\n",
       "      <td>1950.000000</td>\n",
       "      <td>0.000000</td>\n",
       "      <td>0.000000</td>\n",
       "      <td>0.000000</td>\n",
       "      <td>0.000000</td>\n",
       "      <td>0.000000</td>\n",
       "      <td>334.000000</td>\n",
       "      <td>0.000000</td>\n",
       "    </tr>\n",
       "    <tr>\n",
       "      <th>25%</th>\n",
       "      <td>41.25000</td>\n",
       "      <td>7544.500000</td>\n",
       "      <td>1954.000000</td>\n",
       "      <td>1967.000000</td>\n",
       "      <td>0.000000</td>\n",
       "      <td>0.000000</td>\n",
       "      <td>0.000000</td>\n",
       "      <td>223.000000</td>\n",
       "      <td>796.000000</td>\n",
       "      <td>882.500000</td>\n",
       "      <td>0.000000</td>\n",
       "    </tr>\n",
       "    <tr>\n",
       "      <th>50%</th>\n",
       "      <td>63.00000</td>\n",
       "      <td>9496.000000</td>\n",
       "      <td>1973.000000</td>\n",
       "      <td>1994.000000</td>\n",
       "      <td>0.000000</td>\n",
       "      <td>384.000000</td>\n",
       "      <td>0.000000</td>\n",
       "      <td>475.000000</td>\n",
       "      <td>992.000000</td>\n",
       "      <td>1088.000000</td>\n",
       "      <td>0.000000</td>\n",
       "    </tr>\n",
       "    <tr>\n",
       "      <th>75%</th>\n",
       "      <td>79.00000</td>\n",
       "      <td>11613.500000</td>\n",
       "      <td>2001.000000</td>\n",
       "      <td>2004.000000</td>\n",
       "      <td>166.000000</td>\n",
       "      <td>713.750000</td>\n",
       "      <td>0.000000</td>\n",
       "      <td>808.000000</td>\n",
       "      <td>1301.500000</td>\n",
       "      <td>1392.000000</td>\n",
       "      <td>728.000000</td>\n",
       "    </tr>\n",
       "    <tr>\n",
       "      <th>max</th>\n",
       "      <td>313.00000</td>\n",
       "      <td>215245.000000</td>\n",
       "      <td>2010.000000</td>\n",
       "      <td>2010.000000</td>\n",
       "      <td>1600.000000</td>\n",
       "      <td>5644.000000</td>\n",
       "      <td>1474.000000</td>\n",
       "      <td>2336.000000</td>\n",
       "      <td>6110.000000</td>\n",
       "      <td>4692.000000</td>\n",
       "      <td>2065.000000</td>\n",
       "    </tr>\n",
       "  </tbody>\n",
       "</table>\n",
       "</div>"
      ],
      "text/plain": [
       "       LotFrontage        LotArea    YearBuilt  YearRemodAdd   MasVnrArea  \\\n",
       "count   1450.00000    1450.000000  1450.000000   1450.000000  1450.000000   \n",
       "mean      57.54000   10523.831724  1971.593103   1985.049655   103.828276   \n",
       "std       34.71992   10012.185355    30.022696     20.552319   181.150114   \n",
       "min        0.00000    1300.000000  1872.000000   1950.000000     0.000000   \n",
       "25%       41.25000    7544.500000  1954.000000   1967.000000     0.000000   \n",
       "50%       63.00000    9496.000000  1973.000000   1994.000000     0.000000   \n",
       "75%       79.00000   11613.500000  2001.000000   2004.000000   166.000000   \n",
       "max      313.00000  215245.000000  2010.000000   2010.000000  1600.000000   \n",
       "\n",
       "        BsmtFinSF1   BsmtFinSF2    BsmtUnfSF  TotalBsmtSF   FirstFlrSF  \\\n",
       "count  1450.000000  1450.000000  1450.000000  1450.000000  1450.000000   \n",
       "mean    445.162759    46.870345   567.375862  1059.408966  1164.773103   \n",
       "std     456.353871   161.828458   442.584978   439.207322   386.646095   \n",
       "min       0.000000     0.000000     0.000000     0.000000   334.000000   \n",
       "25%       0.000000     0.000000   223.000000   796.000000   882.500000   \n",
       "50%     384.000000     0.000000   475.000000   992.000000  1088.000000   \n",
       "75%     713.750000     0.000000   808.000000  1301.500000  1392.000000   \n",
       "max    5644.000000  1474.000000  2336.000000  6110.000000  4692.000000   \n",
       "\n",
       "       SecondFlrSF  \n",
       "count  1450.000000  \n",
       "mean    347.394483  \n",
       "std     437.094261  \n",
       "min       0.000000  \n",
       "25%       0.000000  \n",
       "50%       0.000000  \n",
       "75%     728.000000  \n",
       "max    2065.000000  "
      ]
     },
     "execution_count": 464,
     "metadata": {},
     "output_type": "execute_result"
    }
   ],
   "source": [
    "a = house.iloc[:,:43]\n",
    "a.describe()"
   ]
  },
  {
   "cell_type": "code",
   "execution_count": 465,
   "metadata": {},
   "outputs": [
    {
     "data": {
      "text/html": [
       "<div>\n",
       "<style>\n",
       "    .dataframe thead tr:only-child th {\n",
       "        text-align: right;\n",
       "    }\n",
       "\n",
       "    .dataframe thead th {\n",
       "        text-align: left;\n",
       "    }\n",
       "\n",
       "    .dataframe tbody tr th {\n",
       "        vertical-align: top;\n",
       "    }\n",
       "</style>\n",
       "<table border=\"1\" class=\"dataframe\">\n",
       "  <thead>\n",
       "    <tr style=\"text-align: right;\">\n",
       "      <th></th>\n",
       "      <th>GrLivArea</th>\n",
       "      <th>FullBath</th>\n",
       "      <th>BedroomAbvGr</th>\n",
       "      <th>KitchenAbvGr</th>\n",
       "      <th>TotRmsAbvGrd</th>\n",
       "      <th>Fireplaces</th>\n",
       "      <th>GarageCars</th>\n",
       "      <th>GarageArea</th>\n",
       "      <th>OpenPorchSF</th>\n",
       "      <th>MoSold</th>\n",
       "      <th>YrSold</th>\n",
       "      <th>SalePrice</th>\n",
       "    </tr>\n",
       "  </thead>\n",
       "  <tbody>\n",
       "    <tr>\n",
       "      <th>count</th>\n",
       "      <td>1450.000000</td>\n",
       "      <td>1450.000000</td>\n",
       "      <td>1450.000000</td>\n",
       "      <td>1450.000000</td>\n",
       "      <td>1450.000000</td>\n",
       "      <td>1450.000000</td>\n",
       "      <td>1450.000000</td>\n",
       "      <td>1450.000000</td>\n",
       "      <td>1450.000000</td>\n",
       "      <td>1450.000000</td>\n",
       "      <td>1450.000000</td>\n",
       "      <td>1450.000000</td>\n",
       "    </tr>\n",
       "    <tr>\n",
       "      <th>mean</th>\n",
       "      <td>1517.698621</td>\n",
       "      <td>1.568966</td>\n",
       "      <td>2.870345</td>\n",
       "      <td>1.046207</td>\n",
       "      <td>6.522069</td>\n",
       "      <td>0.616552</td>\n",
       "      <td>1.770345</td>\n",
       "      <td>473.277931</td>\n",
       "      <td>46.537931</td>\n",
       "      <td>6.312414</td>\n",
       "      <td>2007.812414</td>\n",
       "      <td>181654.942069</td>\n",
       "    </tr>\n",
       "    <tr>\n",
       "      <th>std</th>\n",
       "      <td>525.154207</td>\n",
       "      <td>0.549549</td>\n",
       "      <td>0.814645</td>\n",
       "      <td>0.219643</td>\n",
       "      <td>1.625324</td>\n",
       "      <td>0.644991</td>\n",
       "      <td>0.745136</td>\n",
       "      <td>212.687621</td>\n",
       "      <td>65.222761</td>\n",
       "      <td>2.698244</td>\n",
       "      <td>1.326321</td>\n",
       "      <td>79176.485241</td>\n",
       "    </tr>\n",
       "    <tr>\n",
       "      <th>min</th>\n",
       "      <td>334.000000</td>\n",
       "      <td>0.000000</td>\n",
       "      <td>0.000000</td>\n",
       "      <td>0.000000</td>\n",
       "      <td>2.000000</td>\n",
       "      <td>0.000000</td>\n",
       "      <td>0.000000</td>\n",
       "      <td>0.000000</td>\n",
       "      <td>0.000000</td>\n",
       "      <td>1.000000</td>\n",
       "      <td>2006.000000</td>\n",
       "      <td>37900.000000</td>\n",
       "    </tr>\n",
       "    <tr>\n",
       "      <th>25%</th>\n",
       "      <td>1131.250000</td>\n",
       "      <td>1.000000</td>\n",
       "      <td>2.000000</td>\n",
       "      <td>1.000000</td>\n",
       "      <td>5.000000</td>\n",
       "      <td>0.000000</td>\n",
       "      <td>1.000000</td>\n",
       "      <td>336.000000</td>\n",
       "      <td>0.000000</td>\n",
       "      <td>5.000000</td>\n",
       "      <td>2007.000000</td>\n",
       "      <td>130000.000000</td>\n",
       "    </tr>\n",
       "    <tr>\n",
       "      <th>50%</th>\n",
       "      <td>1466.000000</td>\n",
       "      <td>2.000000</td>\n",
       "      <td>3.000000</td>\n",
       "      <td>1.000000</td>\n",
       "      <td>6.000000</td>\n",
       "      <td>1.000000</td>\n",
       "      <td>2.000000</td>\n",
       "      <td>480.000000</td>\n",
       "      <td>25.000000</td>\n",
       "      <td>6.000000</td>\n",
       "      <td>2008.000000</td>\n",
       "      <td>163945.000000</td>\n",
       "    </tr>\n",
       "    <tr>\n",
       "      <th>75%</th>\n",
       "      <td>1779.000000</td>\n",
       "      <td>2.000000</td>\n",
       "      <td>3.000000</td>\n",
       "      <td>1.000000</td>\n",
       "      <td>7.000000</td>\n",
       "      <td>1.000000</td>\n",
       "      <td>2.000000</td>\n",
       "      <td>576.000000</td>\n",
       "      <td>68.000000</td>\n",
       "      <td>8.000000</td>\n",
       "      <td>2009.000000</td>\n",
       "      <td>214000.000000</td>\n",
       "    </tr>\n",
       "    <tr>\n",
       "      <th>max</th>\n",
       "      <td>5642.000000</td>\n",
       "      <td>3.000000</td>\n",
       "      <td>8.000000</td>\n",
       "      <td>3.000000</td>\n",
       "      <td>14.000000</td>\n",
       "      <td>3.000000</td>\n",
       "      <td>4.000000</td>\n",
       "      <td>1418.000000</td>\n",
       "      <td>547.000000</td>\n",
       "      <td>12.000000</td>\n",
       "      <td>2010.000000</td>\n",
       "      <td>755000.000000</td>\n",
       "    </tr>\n",
       "  </tbody>\n",
       "</table>\n",
       "</div>"
      ],
      "text/plain": [
       "         GrLivArea     FullBath  BedroomAbvGr  KitchenAbvGr  TotRmsAbvGrd  \\\n",
       "count  1450.000000  1450.000000   1450.000000   1450.000000   1450.000000   \n",
       "mean   1517.698621     1.568966      2.870345      1.046207      6.522069   \n",
       "std     525.154207     0.549549      0.814645      0.219643      1.625324   \n",
       "min     334.000000     0.000000      0.000000      0.000000      2.000000   \n",
       "25%    1131.250000     1.000000      2.000000      1.000000      5.000000   \n",
       "50%    1466.000000     2.000000      3.000000      1.000000      6.000000   \n",
       "75%    1779.000000     2.000000      3.000000      1.000000      7.000000   \n",
       "max    5642.000000     3.000000      8.000000      3.000000     14.000000   \n",
       "\n",
       "        Fireplaces   GarageCars   GarageArea  OpenPorchSF       MoSold  \\\n",
       "count  1450.000000  1450.000000  1450.000000  1450.000000  1450.000000   \n",
       "mean      0.616552     1.770345   473.277931    46.537931     6.312414   \n",
       "std       0.644991     0.745136   212.687621    65.222761     2.698244   \n",
       "min       0.000000     0.000000     0.000000     0.000000     1.000000   \n",
       "25%       0.000000     1.000000   336.000000     0.000000     5.000000   \n",
       "50%       1.000000     2.000000   480.000000    25.000000     6.000000   \n",
       "75%       1.000000     2.000000   576.000000    68.000000     8.000000   \n",
       "max       3.000000     4.000000  1418.000000   547.000000    12.000000   \n",
       "\n",
       "            YrSold      SalePrice  \n",
       "count  1450.000000    1450.000000  \n",
       "mean   2007.812414  181654.942069  \n",
       "std       1.326321   79176.485241  \n",
       "min    2006.000000   37900.000000  \n",
       "25%    2007.000000  130000.000000  \n",
       "50%    2008.000000  163945.000000  \n",
       "75%    2009.000000  214000.000000  \n",
       "max    2010.000000  755000.000000  "
      ]
     },
     "execution_count": 465,
     "metadata": {},
     "output_type": "execute_result"
    }
   ],
   "source": [
    "house.iloc[:,43:].describe()"
   ]
  },
  {
   "cell_type": "code",
   "execution_count": 376,
   "metadata": {},
   "outputs": [
    {
     "name": "stdout",
     "output_type": "stream",
     "text": [
      "['MSSubClass' 'MSZoning' 'LotFrontage' 'LotArea' 'Street' 'LotShape'\n",
      " 'LandContour' 'Utilities' 'LotConfig' 'LandSlope' 'Neighborhood'\n",
      " 'Condition1' 'Condition2' 'BldgType' 'HouseStyle' 'OverallQual'\n",
      " 'OverallCond' 'YearBuilt' 'YearRemodAdd' 'RoofStyle' 'RoofMatl'\n",
      " 'Exterior1st' 'Exterior2nd' 'MasVnrType' 'MasVnrArea' 'ExterQual'\n",
      " 'ExterCond' 'Foundation' 'BsmtQual' 'BsmtCond' 'BsmtExposure'\n",
      " 'BsmtFinType1' 'BsmtFinSF1' 'BsmtFinType2' 'BsmtFinSF2' 'BsmtUnfSF'\n",
      " 'TotalBsmtSF' 'Heating' 'HeatingQC' 'CentralAir' 'Electrical' 'FirstFlrSF'\n",
      " 'SecondFlrSF' 'GrLivArea' 'FullBath' 'BedroomAbvGr' 'KitchenAbvGr'\n",
      " 'KitchenQual' 'TotRmsAbvGrd' 'Functional' 'Fireplaces' 'FireplaceQu'\n",
      " 'GarageType' 'GarageFinish' 'GarageCars' 'GarageArea' 'GarageQual'\n",
      " 'GarageCond' 'PavedDrive' 'OpenPorchSF' 'MoSold' 'YrSold' 'SaleType'\n",
      " 'SaleCondition' 'SalePrice']\n"
     ]
    }
   ],
   "source": [
    "print house.columns.values"
   ]
  },
  {
   "cell_type": "code",
   "execution_count": 532,
   "metadata": {},
   "outputs": [
    {
     "name": "stdout",
     "output_type": "stream",
     "text": [
      "36\n"
     ]
    }
   ],
   "source": [
    "# Choose just the fixed features for X\n",
    "fixed = ['MSSubClass','MSZoning','LotFrontage','LotArea','Street','LotShape','LandContour','LotConfig','LandSlope',\n",
    "         'Neighborhood','Condition1','Condition2','BldgType','HouseStyle','YearBuilt','YearRemodAdd', 'MasVnrArea',\n",
    "         'BsmtQual','BsmtFinSF1','BsmtFinSF2','BsmtUnfSF','TotalBsmtSF','FirstFlrSF','SecondFlrSF','GrLivArea',\n",
    "         'FullBath','BedroomAbvGr','KitchenAbvGr','TotRmsAbvGrd','Fireplaces','GarageType','GarageCars','GarageArea',\n",
    "         'OpenPorchSF','YrSold', 'MoSold']\n",
    "\n",
    "f = ' ~ '+' + '.join(fixed)+' -1'\n",
    "print len(fixed)"
   ]
  },
  {
   "cell_type": "code",
   "execution_count": 533,
   "metadata": {},
   "outputs": [],
   "source": [
    "# Set up the predictors X_train, X_test and target y_train, y_test based on pre 2010 and post 2010\n",
    "house = house.sort_values('YrSold')\n",
    "\n",
    "y_train = house[house['YrSold'] < 2010]['SalePrice']\n",
    "y_test = house[house['YrSold'] >= 2010]['SalePrice']\n",
    "\n",
    "X = patsy.dmatrix(f, data=house, return_type='dataframe')\n",
    "X_train = X[X['YrSold'] < 2010]\n",
    "X_test = X[X['YrSold'] >= 2010]"
   ]
  },
  {
   "cell_type": "code",
   "execution_count": 534,
   "metadata": {},
   "outputs": [
    {
     "name": "stdout",
     "output_type": "stream",
     "text": [
      "(1278, 113)\n",
      "(172, 113)\n"
     ]
    }
   ],
   "source": [
    "print X_train.shape\n",
    "print X_test.shape"
   ]
  },
  {
   "cell_type": "code",
   "execution_count": 535,
   "metadata": {},
   "outputs": [],
   "source": [
    "from sklearn.linear_model import LogisticRegression, LinearRegression, RidgeCV, LassoCV, ElasticNetCV, \\\n",
    "LogisticRegressionCV, Ridge, Lasso, ElasticNet\n",
    "from sklearn.neighbors import KNeighborsClassifier\n",
    "from sklearn.model_selection import cross_val_score, train_test_split, cross_val_predict, GridSearchCV, KFold, \\\n",
    "StratifiedKFold\n",
    "from sklearn.preprocessing import StandardScaler\n",
    "from sklearn.metrics import classification_report, confusion_matrix, accuracy_score, roc_curve, auc, r2_score\n",
    "from sklearn.feature_selection import SelectKBest, chi2, f_classif, RFECV, f_regression, mutual_info_regression\n",
    "from sklearn.pipeline import Pipeline\n",
    "from sklearn.pipeline import FeatureUnion"
   ]
  },
  {
   "cell_type": "code",
   "execution_count": 536,
   "metadata": {},
   "outputs": [
    {
     "name": "stdout",
     "output_type": "stream",
     "text": [
      "-1.85775155979e+25\n"
     ]
    }
   ],
   "source": [
    "# Standardise features\n",
    "ss = StandardScaler()\n",
    "X_train_s = ss.fit_transform(X_train)\n",
    "\n",
    "# Use Linear Regression to get a base score \n",
    "lnr = LinearRegression()\n",
    "seed = 7\n",
    "kfold = KFold(n_splits=10, random_state=seed)\n",
    "\n",
    "y_predict = cross_val_predict(lnr, X_train_s, y_train, cv=kfold)\n",
    "lnr_score = r2_score(y_train, y_predict)\n",
    "\n",
    "print lnr_score\n",
    "\n",
    "# score showed that using all predictors do not yield meaningful results and suggest multicollinearity \n",
    "# amongst the predictors. Need regularisation"
   ]
  },
  {
   "cell_type": "code",
   "execution_count": 537,
   "metadata": {},
   "outputs": [
    {
     "data": {
      "text/plain": [
       "719.68567300115217"
      ]
     },
     "execution_count": 537,
     "metadata": {},
     "output_type": "execute_result"
    }
   ],
   "source": [
    "# Perform Ridge regularisation\n",
    "# Choose the best alpha\n",
    "alpha_range = np.logspace(0, 5, 50)\n",
    "ridgeregcv = RidgeCV(alphas=alpha_range, cv=kfold)\n",
    "ridgeregcv.fit(X_train_s, y_train)\n",
    "a = ridgeregcv.alpha_\n",
    "a"
   ]
  },
  {
   "cell_type": "code",
   "execution_count": 538,
   "metadata": {},
   "outputs": [
    {
     "name": "stdout",
     "output_type": "stream",
     "text": [
      "0.775893026207\n"
     ]
    }
   ],
   "source": [
    "ridge = Ridge(alpha=a)\n",
    "\n",
    "y_predict = cross_val_predict(ridge, X_train_s, y_train, cv=kfold)\n",
    "ridge_score = r2_score(y_train, y_predict)\n",
    "\n",
    "print ridge_score"
   ]
  },
  {
   "cell_type": "code",
   "execution_count": 539,
   "metadata": {},
   "outputs": [
    {
     "data": {
      "text/plain": [
       "996.88098611502539"
      ]
     },
     "execution_count": 539,
     "metadata": {},
     "output_type": "execute_result"
    }
   ],
   "source": [
    "# Perform Lasso regularisation\n",
    "# Choose the best alpha\n",
    "lassoregcv = LassoCV(n_alphas=500, cv=kfold)\n",
    "lassoregcv.fit(X_train_s, y_train)\n",
    "b = lassoregcv.alpha_\n",
    "b"
   ]
  },
  {
   "cell_type": "code",
   "execution_count": 540,
   "metadata": {},
   "outputs": [
    {
     "name": "stdout",
     "output_type": "stream",
     "text": [
      "0.762533768778\n"
     ]
    }
   ],
   "source": [
    "lasso = Lasso(alpha=b)\n",
    "\n",
    "y_predict = cross_val_predict(lasso, X_train_s, y_train, cv=kfold)\n",
    "lasso_score = r2_score(y_train, y_predict)\n",
    "\n",
    "print lasso_score"
   ]
  },
  {
   "cell_type": "code",
   "execution_count": null,
   "metadata": {},
   "outputs": [],
   "source": [
    "# Perform ElasticNet regularisation\n",
    "# Choose the best ridge-lasso ratio and alpha \n",
    "l1_ratios = np.linspace(0.01, 1.0, 25)\n",
    "enetregcv = ElasticNetCV(l1_ratio=l1_ratios, n_alphas=500, cv=kfold, verbose=1)\n",
    "enetregcv.fit(X_train_s, y_train)\n",
    "c = enetregcv.alpha_\n",
    "d = enetregcv.l1_ratio_"
   ]
  },
  {
   "cell_type": "code",
   "execution_count": 542,
   "metadata": {},
   "outputs": [
    {
     "name": "stdout",
     "output_type": "stream",
     "text": [
      "996.880986115 1.0\n"
     ]
    }
   ],
   "source": [
    "print c, d\n",
    "\n",
    "# ratio of 1 indicate full lasso"
   ]
  },
  {
   "cell_type": "code",
   "execution_count": 543,
   "metadata": {},
   "outputs": [
    {
     "name": "stdout",
     "output_type": "stream",
     "text": [
      "0.762533768778\n"
     ]
    }
   ],
   "source": [
    "enet = ElasticNet(alpha=c, l1_ratio=d)\n",
    "\n",
    "y_predict = cross_val_predict(enet, X_train_s, y_train, cv=kfold)\n",
    "enet_score = r2_score(y_train, y_predict)\n",
    "\n",
    "print enet_score"
   ]
  },
  {
   "cell_type": "code",
   "execution_count": 544,
   "metadata": {},
   "outputs": [
    {
     "name": "stdout",
     "output_type": "stream",
     "text": [
      "113\n",
      "55 ['MSSubClass[160]' 'MSSubClass[30]' 'MSSubClass[60]' 'MSSubClass[90]'\n",
      " 'MSZoning[T.RM]' 'LotShape[T.IR2]' 'LotShape[T.IR3]' 'LotShape[T.Reg]'\n",
      " 'LandContour[T.HLS]' 'LotConfig[T.CulDSac]' 'Neighborhood[T.Crawfor]'\n",
      " 'Neighborhood[T.Edwards]' 'Neighborhood[T.Gilbert]'\n",
      " 'Neighborhood[T.Mitchel]' 'Neighborhood[T.NAmes]' 'Neighborhood[T.NWAmes]'\n",
      " 'Neighborhood[T.NoRidge]' 'Neighborhood[T.NridgHt]'\n",
      " 'Neighborhood[T.OldTown]' 'Neighborhood[T.Sawyer]'\n",
      " 'Neighborhood[T.Somerst]' 'Neighborhood[T.StoneBr]'\n",
      " 'Neighborhood[T.Veenker]' 'Condition1[T.Feedr]' 'Condition1[T.Norm]'\n",
      " 'Condition2[T.PosA]' 'Condition2[T.PosN]' 'BldgType[T.Duplex]'\n",
      " 'BldgType[T.Twnhs]' 'BldgType[T.TwnhsE]' 'BsmtQual[T.Fa]' 'BsmtQual[T.Gd]'\n",
      " 'BsmtQual[T.None]' 'BsmtQual[T.TA]' 'GarageType[T.BuiltIn]'\n",
      " 'GarageType[T.CarPort]' 'GarageType[T.Detchd]' 'LotFrontage' 'LotArea'\n",
      " 'YearBuilt' 'YearRemodAdd' 'MasVnrArea' 'BsmtFinSF1' 'TotalBsmtSF'\n",
      " 'FirstFlrSF' 'SecondFlrSF' 'GrLivArea' 'FullBath' 'BedroomAbvGr'\n",
      " 'KitchenAbvGr' 'TotRmsAbvGrd' 'Fireplaces' 'GarageCars' 'GarageArea'\n",
      " 'OpenPorchSF']\n"
     ]
    }
   ],
   "source": [
    "# Wrapper feature selection using RFECV and ridge\n",
    "selector = RFECV(ridge, step=1, cv=10)\n",
    "selector = selector.fit(X_train_s, y_train)\n",
    "\n",
    "cols = list(X_train.columns)\n",
    "print len(cols)\n",
    "selector.support_\n",
    "selector.ranking_  \n",
    "rfecv_columns = np.array(cols)[selector.support_]  \n",
    "print len(rfecv_columns), rfecv_columns\n",
    "\n",
    "fixed = ['MSSubClass','MSZoning','LotFrontage','LotArea','Street','LotShape','LandContour','LotConfig','LandSlope',\n",
    "         'Neighborhood','Condition1','Condition2','BldgType','HouseStyle','YearBuilt','YearRemodAdd', 'MasVnrArea',\n",
    "         'BsmtQual','BsmtFinSF1','BsmtFinSF2','BsmtUnfSF','TotalBsmtSF','FirstFlrSF','SecondFlrSF','GrLivArea',\n",
    "         'FullBath','BedroomAbvGr','KitchenAbvGr','TotRmsAbvGrd','Fireplaces','GarageType','GarageCars','GarageArea',\n",
    "         'OpenPorchSF','YrSold', 'MoSold']"
   ]
  },
  {
   "cell_type": "code",
   "execution_count": 545,
   "metadata": {
    "collapsed": true
   },
   "outputs": [],
   "source": [
    "# Build new X_train based on features selected from RFE\n",
    "X_train_rfe = X_train[rfecv_columns]\n",
    "\n",
    "X_train_rfe_s = ss.fit_transform(X_train_rfe)"
   ]
  },
  {
   "cell_type": "code",
   "execution_count": 546,
   "metadata": {},
   "outputs": [
    {
     "data": {
      "text/plain": [
       "568.98660290182988"
      ]
     },
     "execution_count": 546,
     "metadata": {},
     "output_type": "execute_result"
    }
   ],
   "source": [
    "alpha_range = np.logspace(0, 5, 50)\n",
    "ridgeregcv = RidgeCV(alphas=alpha_range, cv=kfold)\n",
    "ridgeregcv.fit(X_train_rfe_s, y_train)\n",
    "a_rfe = ridgeregcv.alpha_\n",
    "a_rfe"
   ]
  },
  {
   "cell_type": "code",
   "execution_count": 547,
   "metadata": {},
   "outputs": [
    {
     "name": "stdout",
     "output_type": "stream",
     "text": [
      "0.781642648695\n"
     ]
    }
   ],
   "source": [
    "ridge_rfe = Ridge(alpha=a_rfe)\n",
    "\n",
    "y_predict = cross_val_predict(ridge_rfe, X_train_rfe_s, y_train, cv=kfold)\n",
    "ridge_rfe_score = r2_score(y_train, y_predict)\n",
    "\n",
    "print ridge_rfe_score"
   ]
  },
  {
   "cell_type": "code",
   "execution_count": 548,
   "metadata": {
    "collapsed": true
   },
   "outputs": [],
   "source": [
    "# Perform features selection using Filter methods for regression (f_regression, mutual_info_regression)\n",
    "# skb_fr = SelectKBest(f_regression, k=20)  \n",
    "# skb_mir = SelectKBest(mutual_info_regression, k=20)"
   ]
  },
  {
   "cell_type": "code",
   "execution_count": 549,
   "metadata": {},
   "outputs": [],
   "source": [
    "# create feature union for skb_fr and skb_mir\n",
    "features = []\n",
    "features.append(('skb_fr', SelectKBest(f_regression, k=20)))\n",
    "features.append(('skb_mir', SelectKBest(mutual_info_regression, k=20)))\n",
    "feature_union = FeatureUnion(features)"
   ]
  },
  {
   "cell_type": "code",
   "execution_count": 550,
   "metadata": {
    "collapsed": true
   },
   "outputs": [],
   "source": [
    "# create pipeline\n",
    "estimators = []\n",
    "estimators.append(('feature_union', feature_union))\n",
    "estimators.append(('standardize', StandardScaler()))\n",
    "estimators.append(('ridge', Ridge(alpha = a)))\n",
    "model = Pipeline(estimators)"
   ]
  },
  {
   "cell_type": "code",
   "execution_count": 551,
   "metadata": {},
   "outputs": [
    {
     "name": "stdout",
     "output_type": "stream",
     "text": [
      "0.741585101301\n"
     ]
    }
   ],
   "source": [
    "# evaluate pipeline\n",
    "seed = 7\n",
    "kfold = KFold(n_splits=10, random_state=seed)\n",
    "y_predict = cross_val_predict(model, X_train, y_train, cv=kfold)\n",
    "filter_score = r2_score(y_train, y_predict)\n",
    "\n",
    "print filter_score"
   ]
  },
  {
   "cell_type": "code",
   "execution_count": 552,
   "metadata": {
    "collapsed": true
   },
   "outputs": [],
   "source": [
    "# Summary of scores for test set"
   ]
  },
  {
   "cell_type": "code",
   "execution_count": 553,
   "metadata": {},
   "outputs": [],
   "source": [
    "# Build new X_test based on features selected from RFE\n",
    "X_test_rfe = X_test[rfecv_columns]\n",
    "\n",
    "X_test_rfe_s = ss.fit_transform(X_test_rfe)"
   ]
  },
  {
   "cell_type": "code",
   "execution_count": 554,
   "metadata": {},
   "outputs": [
    {
     "name": "stdout",
     "output_type": "stream",
     "text": [
      "0.700798964079\n"
     ]
    }
   ],
   "source": [
    "ridge_rfe = Ridge(alpha=a_rfe)\n",
    "\n",
    "y_predict = cross_val_predict(ridge_rfe, X_test_rfe_s, y_test, cv=kfold)\n",
    "ridge_rfe_score_test = r2_score(y_test, y_predict)\n",
    "\n",
    "print ridge_rfe_score_test"
   ]
  },
  {
   "cell_type": "markdown",
   "metadata": {},
   "source": [
    "<img src=\"http://imgur.com/l5NasQj.png\" style=\"float: left; margin: 25px 15px 0px 0px; height: 25px\">\n",
    "\n",
    "## 2. Determine any value of *changeable* property characteristics unexplained by the *fixed* ones.\n",
    "\n",
    "---\n",
    "\n",
    "Now that you have a model that estimates the price of a house based on its static characteristics, we can move forward with part 2 and 3 of the plan: what are the costs/benefits of quality, condition, and renovations?\n",
    "\n",
    "There are two specific requirements for these estimates:\n",
    "1. The estimates of effects must be in terms of dollars added or subtracted from the house value. \n",
    "2. The effects must be on the variance in price remaining from the first model.\n",
    "\n",
    "The residuals from the first model (training and testing) represent the variance in price unexplained by the fixed characteristics. Of that variance in price remaining, how much of it can be explained by the easy-to-change aspects of the property?\n",
    "\n",
    "---\n",
    "\n",
    "**Your goals:**\n",
    "1. Evaluate the effect in dollars of the renovate-able features. \n",
    "- How would your company use this second model and its coefficients to determine whether they should buy a property or not? Explain how the company can use the two models you have built to determine if they can make money. \n",
    "- Investigate how much of the variance in price remaining is explained by these features.\n",
    "- Do you trust your model? Should it be used to evaluate which properties to buy and fix up?"
   ]
  },
  {
   "cell_type": "code",
   "execution_count": 586,
   "metadata": {},
   "outputs": [
    {
     "name": "stdout",
     "output_type": "stream",
     "text": [
      "34\n"
     ]
    }
   ],
   "source": [
    "# Set the changeable property characteristics\n",
    "\n",
    "changeable = ['Utilities','OverallQual','OverallCond','RoofStyle','RoofMatl','Exterior1st','Exterior2nd','MasVnrType',\n",
    "              'ExterQual','ExterCond','Foundation','BsmtCond','BsmtExposure','BsmtFinType1','BsmtFinType2','Heating',\n",
    "              'HeatingQC','CentralAir','Electrical','KitchenQual','Functional','FireplaceQu','GarageFinish',\n",
    "              'GarageQual','GarageCond','PavedDrive','YrSold']\n",
    "\n",
    "c = ' ~ '+' + '.join(changeable)+' -1'\n",
    "print len(fixed)"
   ]
  },
  {
   "cell_type": "code",
   "execution_count": 587,
   "metadata": {},
   "outputs": [
    {
     "name": "stdout",
     "output_type": "stream",
     "text": [
      "(1278, 139)\n",
      "(172, 139)\n"
     ]
    }
   ],
   "source": [
    "# Set up the predictors X_train, X_test and target y_train, y_test based on pre 2010 and post 2010\n",
    "house = house.sort_values('YrSold')\n",
    "\n",
    "y_train = house[house['YrSold'] < 2010]['SalePrice']\n",
    "y_test = house[house['YrSold'] >= 2010]['SalePrice']\n",
    "\n",
    "Xc = patsy.dmatrix(c, data=house, return_type='dataframe')\n",
    "Xc_train = Xc[Xc['YrSold'] < 2010]\n",
    "Xc_test = Xc[Xc['YrSold'] >= 2010]\n",
    "\n",
    "print Xc_train.shape\n",
    "print Xc_test.shape"
   ]
  },
  {
   "cell_type": "code",
   "execution_count": 562,
   "metadata": {},
   "outputs": [
    {
     "name": "stdout",
     "output_type": "stream",
     "text": [
      "-2.85215150741e+25\n"
     ]
    }
   ],
   "source": [
    "# Standardise features\n",
    "ss = StandardScaler()\n",
    "Xc_train_s = ss.fit_transform(Xc_train)\n",
    "\n",
    "# Use Linear Regression to get a base score \n",
    "lnr = LinearRegression()\n",
    "seed = 7\n",
    "kfold = KFold(n_splits=10, random_state=seed)\n",
    "\n",
    "y_predict = cross_val_predict(lnr, Xc_train_s, y_train, cv=kfold)\n",
    "lnr_score = r2_score(y_train, y_predict)\n",
    "\n",
    "print lnr_score\n",
    "\n",
    "# score worse than fixed characteristics"
   ]
  },
  {
   "cell_type": "code",
   "execution_count": 563,
   "metadata": {},
   "outputs": [
    {
     "data": {
      "text/plain": [
       "138.94954943731375"
      ]
     },
     "execution_count": 563,
     "metadata": {},
     "output_type": "execute_result"
    }
   ],
   "source": [
    "# Perform Ridge regularisation\n",
    "# Choose the best alpha\n",
    "alpha_range = np.logspace(0, 5, 50)\n",
    "ridgeregcv = RidgeCV(alphas=alpha_range, cv=kfold)\n",
    "ridgeregcv.fit(Xc_train_s, y_train)\n",
    "a = ridgeregcv.alpha_\n",
    "a"
   ]
  },
  {
   "cell_type": "code",
   "execution_count": 564,
   "metadata": {},
   "outputs": [
    {
     "name": "stdout",
     "output_type": "stream",
     "text": [
      "0.727692295163\n"
     ]
    }
   ],
   "source": [
    "ridge = Ridge(alpha=a)\n",
    "\n",
    "y_predict = cross_val_predict(ridge, Xc_train_s, y_train, cv=kfold)\n",
    "ridge_score = r2_score(y_train, y_predict)\n",
    "\n",
    "print ridge_score"
   ]
  },
  {
   "cell_type": "code",
   "execution_count": 565,
   "metadata": {},
   "outputs": [
    {
     "data": {
      "text/plain": [
       "650.88286227455944"
      ]
     },
     "execution_count": 565,
     "metadata": {},
     "output_type": "execute_result"
    }
   ],
   "source": [
    "# Perform Lasso regularisation\n",
    "# Choose the best alpha\n",
    "lassoregcv = LassoCV(n_alphas=500, cv=kfold)\n",
    "lassoregcv.fit(Xc_train_s, y_train)\n",
    "b = lassoregcv.alpha_\n",
    "b"
   ]
  },
  {
   "cell_type": "code",
   "execution_count": 566,
   "metadata": {},
   "outputs": [
    {
     "name": "stdout",
     "output_type": "stream",
     "text": [
      "0.734573416562\n"
     ]
    }
   ],
   "source": [
    "lasso = Lasso(alpha=b)\n",
    "\n",
    "y_predict = cross_val_predict(lasso, Xc_train_s, y_train, cv=kfold)\n",
    "lasso_score = r2_score(y_train, y_predict)\n",
    "\n",
    "print lasso_score\n",
    "\n",
    "# Lasso perform slightly better than Ridge in this case"
   ]
  },
  {
   "cell_type": "code",
   "execution_count": null,
   "metadata": {},
   "outputs": [],
   "source": [
    "# Perform ElasticNet regularisation\n",
    "# Choose the best ridge-lasso ratio and alpha \n",
    "l1_ratios = np.linspace(0.01, 1.0, 25)\n",
    "enetregcv = ElasticNetCV(l1_ratio=l1_ratios, n_alphas=500, cv=kfold, verbose=1)\n",
    "enetregcv.fit(Xc_train_s, y_train)\n",
    "c = enetregcv.alpha_\n",
    "d = enetregcv.l1_ratio_"
   ]
  },
  {
   "cell_type": "code",
   "execution_count": 568,
   "metadata": {},
   "outputs": [
    {
     "name": "stdout",
     "output_type": "stream",
     "text": [
      "650.882862275 1.0\n"
     ]
    }
   ],
   "source": [
    "print c, d\n",
    "\n",
    "# ratio of 1 indicate full lasso"
   ]
  },
  {
   "cell_type": "code",
   "execution_count": 569,
   "metadata": {},
   "outputs": [
    {
     "name": "stdout",
     "output_type": "stream",
     "text": [
      "0.734573416562\n"
     ]
    }
   ],
   "source": [
    "enet = ElasticNet(alpha=c, l1_ratio=d)\n",
    "\n",
    "y_predict = cross_val_predict(enet, Xc_train_s, y_train, cv=kfold)\n",
    "enet_score = r2_score(y_train, y_predict)\n",
    "\n",
    "print enet_score"
   ]
  },
  {
   "cell_type": "code",
   "execution_count": 571,
   "metadata": {},
   "outputs": [
    {
     "name": "stdout",
     "output_type": "stream",
     "text": [
      "139\n",
      "66 ['Utilities[AllPub]' 'OverallQual[T.10]' 'OverallQual[T.2]'\n",
      " 'OverallQual[T.3]' 'OverallQual[T.4]' 'OverallQual[T.5]'\n",
      " 'OverallQual[T.7]' 'OverallQual[T.8]' 'OverallQual[T.9]'\n",
      " 'OverallCond[T.3]' 'OverallCond[T.4]' 'OverallCond[T.5]'\n",
      " 'OverallCond[T.7]' 'OverallCond[T.9]' 'RoofStyle[T.Gable]'\n",
      " 'RoofMatl[T.CompShg]' 'RoofMatl[T.WdShngl]' 'Exterior1st[T.BrkComm]'\n",
      " 'Exterior1st[T.BrkFace]' 'Exterior1st[T.Stone]' 'Exterior1st[T.Stucco]'\n",
      " 'Exterior1st[T.WdShing]' 'Exterior2nd[T.ImStucc]' 'Exterior2nd[T.MetalSd]'\n",
      " 'Exterior2nd[T.Plywood]' 'Exterior2nd[T.VinylSd]' 'Exterior2nd[T.Wd Sdng]'\n",
      " 'Exterior2nd[T.Wd Shng]' 'MasVnrType[T.None]' 'MasVnrType[T.Stone]'\n",
      " 'ExterQual[T.Fa]' 'ExterQual[T.TA]' 'Foundation[T.PConc]'\n",
      " 'Foundation[T.Wood]' 'BsmtCond[T.Po]' 'BsmtExposure[T.Gd]'\n",
      " 'BsmtExposure[T.Mn]' 'BsmtExposure[T.No]' 'BsmtExposure[T.None]'\n",
      " 'BsmtFinType1[T.GLQ]' 'BsmtFinType1[T.Unf]' 'BsmtFinType2[T.Unf]'\n",
      " 'Heating[T.GasW]' 'HeatingQC[T.Fa]' 'HeatingQC[T.Gd]' 'HeatingQC[T.TA]'\n",
      " 'CentralAir[T.Y]' 'Electrical[T.FuseF]' 'KitchenQual[T.Fa]'\n",
      " 'KitchenQual[T.Gd]' 'KitchenQual[T.TA]' 'Functional[T.Maj2]'\n",
      " 'Functional[T.Mod]' 'FireplaceQu[T.Fa]' 'FireplaceQu[T.None]'\n",
      " 'FireplaceQu[T.Po]' 'FireplaceQu[T.TA]' 'GarageFinish[T.None]'\n",
      " 'GarageFinish[T.Unf]' 'GarageQual[T.None]' 'GarageQual[T.TA]'\n",
      " 'GarageCond[T.Gd]' 'GarageCond[T.TA]' 'PavedDrive[T.P]' 'PavedDrive[T.Y]'\n",
      " 'YrSold']\n"
     ]
    }
   ],
   "source": [
    "# Wrapper feature selection using RFECV and lasso\n",
    "selector = RFECV(lasso, step=1, cv=10)\n",
    "selector = selector.fit(Xc_train_s, y_train)\n",
    "\n",
    "cols = list(Xc_train.columns)\n",
    "print len(cols)\n",
    "selector.support_\n",
    "selector.ranking_  \n",
    "rfecv_columns = np.array(cols)[selector.support_]  \n",
    "print len(rfecv_columns), rfecv_columns\n",
    "\n",
    "changeable = ['Utilities','OverallQual','OverallCond','RoofStyle','RoofMatl','Exterior1st','Exterior2nd','MasVnrType',\n",
    "              'ExterQual','ExterCond','Foundation','BsmtCond','BsmtExposure','BsmtFinType1','BsmtFinType2','Heating',\n",
    "              'HeatingQC','CentralAir','Electrical','KitchenQual','Functional','FireplaceQu','GarageFinish',\n",
    "              'GarageQual','GarageCond','PavedDrive','YrSold']"
   ]
  },
  {
   "cell_type": "code",
   "execution_count": 588,
   "metadata": {
    "collapsed": true
   },
   "outputs": [],
   "source": [
    "# Build new Xc_train based on features selected from RFE\n",
    "Xc_train_rfe = Xc_train[rfecv_columns]\n",
    "\n",
    "Xc_train_rfe_s = ss.fit_transform(Xc_train_rfe)"
   ]
  },
  {
   "cell_type": "code",
   "execution_count": 589,
   "metadata": {},
   "outputs": [
    {
     "data": {
      "text/plain": [
       "268.36958688728311"
      ]
     },
     "execution_count": 589,
     "metadata": {},
     "output_type": "execute_result"
    }
   ],
   "source": [
    "lassoregcv = LassoCV(n_alphas=500, cv=kfold)\n",
    "lassoregcv.fit(Xc_train_rfe_s, y_train)\n",
    "b_rfe = lassoregcv.alpha_\n",
    "b_rfe"
   ]
  },
  {
   "cell_type": "code",
   "execution_count": 590,
   "metadata": {},
   "outputs": [
    {
     "name": "stdout",
     "output_type": "stream",
     "text": [
      "0.742111545247\n"
     ]
    }
   ],
   "source": [
    "lasso_rfe = Lasso(alpha=b_rfe)\n",
    "\n",
    "y_predict = cross_val_predict(lasso_rfe, Xc_train_rfe_s, y_train, cv=kfold)\n",
    "lasso_rfe_score = r2_score(y_train, y_predict)\n",
    "\n",
    "print lasso_rfe_score"
   ]
  },
  {
   "cell_type": "code",
   "execution_count": 599,
   "metadata": {},
   "outputs": [
    {
     "name": "stdout",
     "output_type": "stream",
     "text": [
      "Utilities[AllPub] 0.0\n",
      "OverallQual[T.10] 187894.036495\n",
      "OverallQual[T.2] -0.0\n",
      "OverallQual[T.3] -8479.89049582\n",
      "OverallQual[T.4] -15316.5720351\n",
      "OverallQual[T.5] -7709.64149388\n",
      "OverallQual[T.7] 22361.4397039\n",
      "OverallQual[T.8] 68396.5166499\n",
      "OverallQual[T.9] 131632.630897\n",
      "OverallCond[T.3] -6178.67449257\n",
      "OverallCond[T.4] -2578.19354441\n",
      "OverallCond[T.5] -2430.75595184\n",
      "OverallCond[T.7] 6657.99805343\n",
      "OverallCond[T.9] 0.0\n",
      "RoofStyle[T.Gable] -7811.08489414\n",
      "RoofMatl[T.CompShg] -0.0\n",
      "RoofMatl[T.WdShngl] 32440.1644696\n",
      "Exterior1st[T.BrkComm] -0.0\n",
      "Exterior1st[T.BrkFace] 12274.6639603\n",
      "Exterior1st[T.Stone] 0.0\n",
      "Exterior1st[T.Stucco] -0.0\n",
      "Exterior1st[T.WdShing] -0.0\n",
      "Exterior2nd[T.ImStucc] 0.0\n",
      "Exterior2nd[T.MetalSd] -1099.43455049\n",
      "Exterior2nd[T.Plywood] 6513.46370217\n",
      "Exterior2nd[T.VinylSd] 3121.56230456\n",
      "Exterior2nd[T.Wd Sdng] -0.0\n",
      "Exterior2nd[T.Wd Shng] -4908.67195367\n",
      "MasVnrType[T.None] -4688.70144486\n",
      "MasVnrType[T.Stone] 1115.03811535\n",
      "ExterQual[T.Fa] -0.0\n",
      "ExterQual[T.TA] -10489.0635702\n",
      "Foundation[T.PConc] 6602.22012963\n",
      "Foundation[T.Wood] 0.0\n",
      "BsmtCond[T.Po] -0.0\n",
      "BsmtExposure[T.Gd] 19958.616869\n",
      "BsmtExposure[T.Mn] 2022.3851716\n",
      "BsmtExposure[T.No] -3157.89817658\n",
      "BsmtExposure[T.None] -10014.8536445\n",
      "BsmtFinType1[T.GLQ] 6979.84705708\n",
      "BsmtFinType1[T.Unf] -7075.35824697\n",
      "BsmtFinType2[T.Unf] -193.945518209\n",
      "Heating[T.GasW] 4847.45495441\n",
      "HeatingQC[T.Fa] -6307.63337769\n",
      "HeatingQC[T.Gd] -3751.6691756\n",
      "HeatingQC[T.TA] -3093.68299424\n",
      "CentralAir[T.Y] 4125.75964299\n",
      "Electrical[T.FuseF] -0.0\n",
      "KitchenQual[T.Fa] -25665.0215382\n",
      "KitchenQual[T.Gd] -11390.1467287\n",
      "KitchenQual[T.TA] -25108.8471857\n",
      "Functional[T.Maj2] -0.0\n",
      "Functional[T.Mod] 0.0\n",
      "FireplaceQu[T.Fa] -0.0\n",
      "FireplaceQu[T.None] -24167.2924287\n",
      "FireplaceQu[T.Po] -3676.31222592\n",
      "FireplaceQu[T.TA] 3325.20416518\n",
      "GarageFinish[T.None] -11505.6386907\n",
      "GarageFinish[T.Unf] -9606.70772517\n",
      "GarageQual[T.None] -5899.18820315\n",
      "GarageQual[T.TA] 2218.29029221\n",
      "GarageCond[T.Gd] 0.0\n",
      "GarageCond[T.TA] 5299.76066597\n",
      "PavedDrive[T.P] -0.0\n",
      "PavedDrive[T.Y] 3836.20929245\n",
      "YrSold -1528.80425415\n"
     ]
    }
   ],
   "source": [
    "# Find the coefficients\n",
    "lasso_rfe.fit(Xc_train_rfe, y_train)\n",
    "\n",
    "for i in range(len(rfecv_columns)):\n",
    "    print rfecv_columns[i], lasso_rfe.coef_[i]"
   ]
  },
  {
   "cell_type": "code",
   "execution_count": 591,
   "metadata": {
    "collapsed": true
   },
   "outputs": [],
   "source": [
    "# Build new Xc_test based on features selected from RFE\n",
    "Xc_test_rfe = Xc_test[rfecv_columns]\n",
    "\n",
    "Xc_test_rfe_s = ss.fit_transform(Xc_test_rfe)"
   ]
  },
  {
   "cell_type": "code",
   "execution_count": 594,
   "metadata": {},
   "outputs": [
    {
     "name": "stdout",
     "output_type": "stream",
     "text": [
      "0.643819250974\n"
     ]
    }
   ],
   "source": [
    "lasso_rfe = Lasso(alpha=b_rfe)\n",
    "\n",
    "y_predict = cross_val_predict(lasso_rfe, Xc_test_rfe_s, y_test, cv=kfold)\n",
    "lasso_rfe_score = r2_score(y_test, y_predict)\n",
    "\n",
    "print lasso_rfe_score"
   ]
  },
  {
   "cell_type": "markdown",
   "metadata": {},
   "source": [
    "<img src=\"http://imgur.com/GCAf1UX.png\" style=\"float: left; margin: 25px 15px 0px 0px; height: 25px\">\n",
    "\n",
    "## 3. What property characteristics predict an \"abnormal\" sale?\n",
    "\n",
    "---\n",
    "\n",
    "The `SaleCondition` feature indicates the circumstances of the house sale. From the data file, we can see that the possibilities are:\n",
    "\n",
    "       Normal\tNormal Sale\n",
    "       Abnorml\tAbnormal Sale -  trade, foreclosure, short sale\n",
    "       AdjLand\tAdjoining Land Purchase\n",
    "       Alloca\tAllocation - two linked properties with separate deeds, typically condo with a garage unit\t\n",
    "       Family\tSale between family members\n",
    "       Partial\tHome was not completed when last assessed (associated with New Homes)\n",
    "       \n",
    "One of the executives at your company has an \"in\" with higher-ups at the major regional bank. His friends at the bank have made him a proposal: if he can reliably indicate what features, if any, predict \"abnormal\" sales (foreclosures, short sales, etc.), then in return the bank will give him first dibs on the pre-auction purchase of those properties (at a dirt-cheap price).\n",
    "\n",
    "He has tasked you with determining (and adequately validating) which features of a property predict this type of sale. \n",
    "\n",
    "---\n",
    "\n",
    "**Your task:**\n",
    "1. Determine which features predict the `Abnorml` category in the `SaleCondition` feature.\n",
    "- Justify your results.\n",
    "\n",
    "This is a challenging task that tests your ability to perform classification analysis in the face of severe class imbalance. You may find that simply running a classifier on the full dataset to predict the category ends up useless: when there is bad class imbalance classifiers often tend to simply guess the majority class.\n",
    "\n",
    "It is up to you to determine how you will tackle this problem. I recommend doing some research to find out how others have dealt with the problem in the past. Make sure to justify your solution. Don't worry about it being \"the best\" solution, but be rigorous.\n",
    "\n",
    "Be sure to indicate which features are predictive (if any) and whether they are positive or negative predictors of abnormal sales."
   ]
  },
  {
   "cell_type": "code",
   "execution_count": 117,
   "metadata": {
    "collapsed": true
   },
   "outputs": [],
   "source": [
    "# A:"
   ]
  }
 ],
 "metadata": {
  "kernelspec": {
   "display_name": "Python 2",
   "language": "python",
   "name": "python2"
  },
  "language_info": {
   "codemirror_mode": {
    "name": "ipython",
    "version": 2
   },
   "file_extension": ".py",
   "mimetype": "text/x-python",
   "name": "python",
   "nbconvert_exporter": "python",
   "pygments_lexer": "ipython2",
   "version": "2.7.13"
  }
 },
 "nbformat": 4,
 "nbformat_minor": 2
}

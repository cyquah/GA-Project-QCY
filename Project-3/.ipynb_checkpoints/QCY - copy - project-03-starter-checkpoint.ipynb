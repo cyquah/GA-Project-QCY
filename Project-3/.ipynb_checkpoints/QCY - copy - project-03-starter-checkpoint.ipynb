{
 "cells": [
  {
   "cell_type": "markdown",
   "metadata": {},
   "source": [
    "<img src=\"http://imgur.com/1ZcRyrc.png\" style=\"float: left; margin: 15px; height: 80px\">\n",
    "\n",
    "# Project 3\n",
    "\n",
    "### Regression and Classification with the Ames Housing Data\n",
    "\n",
    "---\n",
    "\n",
    "You have just joined a new \"full stack\" real estate company in Ames, Iowa. The strategy of the firm is two-fold:\n",
    "- Own the entire process from the purchase of the land all the way to sale of the house, and anything in between.\n",
    "- Use statistical analysis to optimize investment and maximize return.\n",
    "\n",
    "The company is still small, and though investment is substantial the short-term goals of the company are more oriented towards purchasing existing houses and flipping them as opposed to constructing entirely new houses. That being said, the company has access to a large construction workforce operating at rock-bottom prices.\n",
    "\n",
    "This project uses the [Ames housing data recently made available on kaggle](https://www.kaggle.com/c/house-prices-advanced-regression-techniques)."
   ]
  },
  {
   "cell_type": "code",
   "execution_count": 2,
   "metadata": {
    "collapsed": true
   },
   "outputs": [],
   "source": [
    "import numpy as np\n",
    "import scipy.stats as stats\n",
    "import seaborn as sns\n",
    "import matplotlib.pyplot as plt\n",
    "import pandas as pd\n",
    "import patsy\n",
    "\n",
    "sns.set_style('whitegrid')\n",
    "\n",
    "%config InlineBackend.figure_format = 'retina'\n",
    "%matplotlib inline"
   ]
  },
  {
   "cell_type": "markdown",
   "metadata": {},
   "source": [
    "<img src=\"http://imgur.com/l5NasQj.png\" style=\"float: left; margin: 25px 15px 0px 0px; height: 25px\">\n",
    "\n",
    "## 1. Estimating the value of homes from fixed characteristics.\n",
    "\n",
    "---\n",
    "\n",
    "Your superiors have outlined this year's strategy for the company:\n",
    "1. Develop an algorithm to reliably estimate the value of residential houses based on *fixed* characteristics.\n",
    "2. Identify characteristics of houses that the company can cost-effectively change/renovate with their construction team.\n",
    "3. Evaluate the mean dollar value of different renovations.\n",
    "\n",
    "Then we can use that to buy houses that are likely to sell for more than the cost of the purchase plus renovations.\n",
    "\n",
    "Your first job is to tackle #1. You have a dataset of housing sale data with a huge amount of features identifying different aspects of the house. The full description of the data features can be found in a separate file:\n",
    "\n",
    "    housing.csv\n",
    "    data_description.txt\n",
    "    \n",
    "You need to build a reliable estimator for the price of the house given characteristics of the house that cannot be renovated. Some examples include:\n",
    "- The neighborhood\n",
    "- Square feet\n",
    "- Bedrooms, bathrooms\n",
    "- Basement and garage space\n",
    "\n",
    "and many more. \n",
    "\n",
    "Some examples of things that **ARE renovate-able:**\n",
    "- Roof and exterior features\n",
    "- \"Quality\" metrics, such as kitchen quality\n",
    "- \"Condition\" metrics, such as condition of garage\n",
    "- Heating and electrical components\n",
    "\n",
    "and generally anything you deem can be modified without having to undergo major construction on the house.\n",
    "\n",
    "---\n",
    "\n",
    "**Your goals:**\n",
    "1. Perform any cleaning, feature engineering, and EDA you deem necessary.\n",
    "- Be sure to remove any houses that are not residential from the dataset.\n",
    "- Identify **fixed** features that can predict price.\n",
    "- Train a model on pre-2010 data and evaluate its performance on the 2010 houses.\n",
    "- Characterize your model. How well does it perform? What are the best estimates of price?\n",
    "\n",
    "> **Note:** The EDA and feature engineering component to this project is not trivial! Be sure to always think critically and creatively. Justify your actions! Use the data description file!"
   ]
  },
  {
   "cell_type": "code",
   "execution_count": 3,
   "metadata": {
    "collapsed": true
   },
   "outputs": [],
   "source": [
    "# Load the data\n",
    "house = pd.read_csv('./housing.csv')"
   ]
  },
  {
   "cell_type": "code",
   "execution_count": null,
   "metadata": {
    "collapsed": true
   },
   "outputs": [],
   "source": [
    "house.head()"
   ]
  },
  {
   "cell_type": "code",
   "execution_count": null,
   "metadata": {
    "collapsed": true
   },
   "outputs": [],
   "source": [
    "house.info()"
   ]
  },
  {
   "cell_type": "code",
   "execution_count": 6,
   "metadata": {
    "collapsed": true,
    "scrolled": false
   },
   "outputs": [],
   "source": [
    "# remove those rows that are not residential\n",
    "house = house[house['MSZoning'].isin(['FV', 'RH', 'RL', 'RP', 'RM'])]"
   ]
  },
  {
   "cell_type": "code",
   "execution_count": 7,
   "metadata": {
    "collapsed": true
   },
   "outputs": [],
   "source": [
    "# change NaN to None for object variables\n",
    "house['MasVnrType'] = house.MasVnrType.fillna('None')\n",
    "house['BsmtCond'] = house.BsmtCond.fillna('None')\n",
    "house['BsmtFinType2'] = house.BsmtFinType2.fillna('None')\n",
    "house['BsmtQual'] = house.BsmtQual.fillna('None')\n",
    "house['BsmtExposure'] = house.BsmtExposure.fillna('None')\n",
    "house['BsmtFinType1'] = house.BsmtFinType1.fillna('None')\n",
    "house['FireplaceQu'] = house.FireplaceQu.fillna('None')\n",
    "house['GarageType'] = house.GarageType.fillna('None')\n",
    "house['GarageFinish'] = house.GarageFinish.fillna('None')\n",
    "house['GarageQual'] = house.GarageQual.fillna('None')\n",
    "house['GarageCond'] = house.GarageCond.fillna('None')"
   ]
  },
  {
   "cell_type": "code",
   "execution_count": 8,
   "metadata": {
    "collapsed": true
   },
   "outputs": [],
   "source": [
    "# change Nan to 0 for numeric variables\n",
    "house['MasVnrArea'] = house.MasVnrArea.fillna(0)\n",
    "house['LotFrontage'] = house.LotFrontage.fillna(0)"
   ]
  },
  {
   "cell_type": "code",
   "execution_count": 9,
   "metadata": {},
   "outputs": [
    {
     "data": {
      "text/plain": [
       "SBrkr    1328\n",
       "FuseA      90\n",
       "FuseF      27\n",
       "FuseP       3\n",
       "Mix         1\n",
       "Name: Electrical, dtype: int64"
      ]
     },
     "execution_count": 9,
     "metadata": {},
     "output_type": "execute_result"
    }
   ],
   "source": [
    "house.Electrical.value_counts()"
   ]
  },
  {
   "cell_type": "code",
   "execution_count": null,
   "metadata": {
    "collapsed": true
   },
   "outputs": [],
   "source": [
    "# investigate Electrical null object and set it to most common value\n",
    "Elec_null = house.Electrical[house.Electrical.isnull()]\n",
    "# print Elec_null\n",
    "# print house.iloc[1379,:]\n",
    "house.set_value(1379, 'Electrical', 'SBrkr')"
   ]
  },
  {
   "cell_type": "code",
   "execution_count": 11,
   "metadata": {
    "collapsed": true
   },
   "outputs": [],
   "source": [
    "# rename column names that start with an integer for use with patsy\n",
    "house = house.rename(columns={'1stFlrSF': 'FirstFlrSF', '2ndFlrSF': 'SecondFlrSF'})\n",
    "\n",
    "# convert selected columns from numerical to string\n",
    "house['MSSubClass'] = house.MSSubClass.map(lambda x : str(x))\n",
    "house['OverallQual'] = house.OverallQual.map(lambda x : str(x))\n",
    "house['OverallCond'] = house.OverallCond.map(lambda x : str(x))\n",
    "\n",
    "# convert all areas/price columns to float\n",
    "house['LotArea'] = house.LotArea.map(lambda x : float(x))\n",
    "house['BsmtFinSF1'] = house.BsmtFinSF1.map(lambda x : float(x))\n",
    "house['BsmtFinSF2'] = house.BsmtFinSF2.map(lambda x :float(x))\n",
    "house['BsmtUnfSF'] = house.BsmtUnfSF.map(lambda x : float(x))\n",
    "house['FirstFlrSF'] = house.FirstFlrSF.map(lambda x : float(x))\n",
    "house['TotalBsmtSF'] = house.TotalBsmtSF.map(lambda x : float(x))\n",
    "house['SecondFlrSF'] = house.SecondFlrSF.map(lambda x : float(x))\n",
    "house['GrLivArea'] = house.GrLivArea.map(lambda x : float(x))\n",
    "house['GarageArea'] = house.GarageArea.map(lambda x : float(x))\n",
    "house['OpenPorchSF'] = house.OpenPorchSF.map(lambda x : float(x))\n",
    "house['SalePrice'] = house.SalePrice.map(lambda x : float(x))\n",
    "\n",
    "# drop the Id & GarageYrBlt columns and those with less than 1/3 of non-null or non-zero values\n",
    "house = house.drop(['Id', 'Alley', 'PoolQC', 'Fence', 'MiscFeature', 'LowQualFinSF','BsmtFullBath', 'PoolArea', \n",
    "                    'MiscVal','BsmtHalfBath', 'HalfBath', 'WoodDeckSF','EnclosedPorch','3SsnPorch','ScreenPorch',\n",
    "                   'GarageYrBlt'], axis=1)"
   ]
  },
  {
   "cell_type": "code",
   "execution_count": 12,
   "metadata": {},
   "outputs": [
    {
     "data": {
      "text/html": [
       "<div>\n",
       "<style>\n",
       "    .dataframe thead tr:only-child th {\n",
       "        text-align: right;\n",
       "    }\n",
       "\n",
       "    .dataframe thead th {\n",
       "        text-align: left;\n",
       "    }\n",
       "\n",
       "    .dataframe tbody tr th {\n",
       "        vertical-align: top;\n",
       "    }\n",
       "</style>\n",
       "<table border=\"1\" class=\"dataframe\">\n",
       "  <thead>\n",
       "    <tr style=\"text-align: right;\">\n",
       "      <th></th>\n",
       "      <th>LotFrontage</th>\n",
       "      <th>LotArea</th>\n",
       "      <th>YearBuilt</th>\n",
       "      <th>YearRemodAdd</th>\n",
       "      <th>MasVnrArea</th>\n",
       "      <th>BsmtFinSF1</th>\n",
       "      <th>BsmtFinSF2</th>\n",
       "      <th>BsmtUnfSF</th>\n",
       "      <th>TotalBsmtSF</th>\n",
       "      <th>FirstFlrSF</th>\n",
       "      <th>SecondFlrSF</th>\n",
       "    </tr>\n",
       "  </thead>\n",
       "  <tbody>\n",
       "    <tr>\n",
       "      <th>count</th>\n",
       "      <td>1450.00000</td>\n",
       "      <td>1450.000000</td>\n",
       "      <td>1450.000000</td>\n",
       "      <td>1450.000000</td>\n",
       "      <td>1450.000000</td>\n",
       "      <td>1450.000000</td>\n",
       "      <td>1450.000000</td>\n",
       "      <td>1450.000000</td>\n",
       "      <td>1450.000000</td>\n",
       "      <td>1450.000000</td>\n",
       "      <td>1450.000000</td>\n",
       "    </tr>\n",
       "    <tr>\n",
       "      <th>mean</th>\n",
       "      <td>57.54000</td>\n",
       "      <td>10523.831724</td>\n",
       "      <td>1971.593103</td>\n",
       "      <td>1985.049655</td>\n",
       "      <td>103.828276</td>\n",
       "      <td>445.162759</td>\n",
       "      <td>46.870345</td>\n",
       "      <td>567.375862</td>\n",
       "      <td>1059.408966</td>\n",
       "      <td>1164.773103</td>\n",
       "      <td>347.394483</td>\n",
       "    </tr>\n",
       "    <tr>\n",
       "      <th>std</th>\n",
       "      <td>34.71992</td>\n",
       "      <td>10012.185355</td>\n",
       "      <td>30.022696</td>\n",
       "      <td>20.552319</td>\n",
       "      <td>181.150114</td>\n",
       "      <td>456.353871</td>\n",
       "      <td>161.828458</td>\n",
       "      <td>442.584978</td>\n",
       "      <td>439.207322</td>\n",
       "      <td>386.646095</td>\n",
       "      <td>437.094261</td>\n",
       "    </tr>\n",
       "    <tr>\n",
       "      <th>min</th>\n",
       "      <td>0.00000</td>\n",
       "      <td>1300.000000</td>\n",
       "      <td>1872.000000</td>\n",
       "      <td>1950.000000</td>\n",
       "      <td>0.000000</td>\n",
       "      <td>0.000000</td>\n",
       "      <td>0.000000</td>\n",
       "      <td>0.000000</td>\n",
       "      <td>0.000000</td>\n",
       "      <td>334.000000</td>\n",
       "      <td>0.000000</td>\n",
       "    </tr>\n",
       "    <tr>\n",
       "      <th>25%</th>\n",
       "      <td>41.25000</td>\n",
       "      <td>7544.500000</td>\n",
       "      <td>1954.000000</td>\n",
       "      <td>1967.000000</td>\n",
       "      <td>0.000000</td>\n",
       "      <td>0.000000</td>\n",
       "      <td>0.000000</td>\n",
       "      <td>223.000000</td>\n",
       "      <td>796.000000</td>\n",
       "      <td>882.500000</td>\n",
       "      <td>0.000000</td>\n",
       "    </tr>\n",
       "    <tr>\n",
       "      <th>50%</th>\n",
       "      <td>63.00000</td>\n",
       "      <td>9496.000000</td>\n",
       "      <td>1973.000000</td>\n",
       "      <td>1994.000000</td>\n",
       "      <td>0.000000</td>\n",
       "      <td>384.000000</td>\n",
       "      <td>0.000000</td>\n",
       "      <td>475.000000</td>\n",
       "      <td>992.000000</td>\n",
       "      <td>1088.000000</td>\n",
       "      <td>0.000000</td>\n",
       "    </tr>\n",
       "    <tr>\n",
       "      <th>75%</th>\n",
       "      <td>79.00000</td>\n",
       "      <td>11613.500000</td>\n",
       "      <td>2001.000000</td>\n",
       "      <td>2004.000000</td>\n",
       "      <td>166.000000</td>\n",
       "      <td>713.750000</td>\n",
       "      <td>0.000000</td>\n",
       "      <td>808.000000</td>\n",
       "      <td>1301.500000</td>\n",
       "      <td>1392.000000</td>\n",
       "      <td>728.000000</td>\n",
       "    </tr>\n",
       "    <tr>\n",
       "      <th>max</th>\n",
       "      <td>313.00000</td>\n",
       "      <td>215245.000000</td>\n",
       "      <td>2010.000000</td>\n",
       "      <td>2010.000000</td>\n",
       "      <td>1600.000000</td>\n",
       "      <td>5644.000000</td>\n",
       "      <td>1474.000000</td>\n",
       "      <td>2336.000000</td>\n",
       "      <td>6110.000000</td>\n",
       "      <td>4692.000000</td>\n",
       "      <td>2065.000000</td>\n",
       "    </tr>\n",
       "  </tbody>\n",
       "</table>\n",
       "</div>"
      ],
      "text/plain": [
       "       LotFrontage        LotArea    YearBuilt  YearRemodAdd   MasVnrArea  \\\n",
       "count   1450.00000    1450.000000  1450.000000   1450.000000  1450.000000   \n",
       "mean      57.54000   10523.831724  1971.593103   1985.049655   103.828276   \n",
       "std       34.71992   10012.185355    30.022696     20.552319   181.150114   \n",
       "min        0.00000    1300.000000  1872.000000   1950.000000     0.000000   \n",
       "25%       41.25000    7544.500000  1954.000000   1967.000000     0.000000   \n",
       "50%       63.00000    9496.000000  1973.000000   1994.000000     0.000000   \n",
       "75%       79.00000   11613.500000  2001.000000   2004.000000   166.000000   \n",
       "max      313.00000  215245.000000  2010.000000   2010.000000  1600.000000   \n",
       "\n",
       "        BsmtFinSF1   BsmtFinSF2    BsmtUnfSF  TotalBsmtSF   FirstFlrSF  \\\n",
       "count  1450.000000  1450.000000  1450.000000  1450.000000  1450.000000   \n",
       "mean    445.162759    46.870345   567.375862  1059.408966  1164.773103   \n",
       "std     456.353871   161.828458   442.584978   439.207322   386.646095   \n",
       "min       0.000000     0.000000     0.000000     0.000000   334.000000   \n",
       "25%       0.000000     0.000000   223.000000   796.000000   882.500000   \n",
       "50%     384.000000     0.000000   475.000000   992.000000  1088.000000   \n",
       "75%     713.750000     0.000000   808.000000  1301.500000  1392.000000   \n",
       "max    5644.000000  1474.000000  2336.000000  6110.000000  4692.000000   \n",
       "\n",
       "       SecondFlrSF  \n",
       "count  1450.000000  \n",
       "mean    347.394483  \n",
       "std     437.094261  \n",
       "min       0.000000  \n",
       "25%       0.000000  \n",
       "50%       0.000000  \n",
       "75%     728.000000  \n",
       "max    2065.000000  "
      ]
     },
     "execution_count": 12,
     "metadata": {},
     "output_type": "execute_result"
    }
   ],
   "source": [
    "a = house.iloc[:,:43]\n",
    "a.describe()"
   ]
  },
  {
   "cell_type": "code",
   "execution_count": 13,
   "metadata": {},
   "outputs": [
    {
     "data": {
      "text/html": [
       "<div>\n",
       "<style>\n",
       "    .dataframe thead tr:only-child th {\n",
       "        text-align: right;\n",
       "    }\n",
       "\n",
       "    .dataframe thead th {\n",
       "        text-align: left;\n",
       "    }\n",
       "\n",
       "    .dataframe tbody tr th {\n",
       "        vertical-align: top;\n",
       "    }\n",
       "</style>\n",
       "<table border=\"1\" class=\"dataframe\">\n",
       "  <thead>\n",
       "    <tr style=\"text-align: right;\">\n",
       "      <th></th>\n",
       "      <th>GrLivArea</th>\n",
       "      <th>FullBath</th>\n",
       "      <th>BedroomAbvGr</th>\n",
       "      <th>KitchenAbvGr</th>\n",
       "      <th>TotRmsAbvGrd</th>\n",
       "      <th>Fireplaces</th>\n",
       "      <th>GarageCars</th>\n",
       "      <th>GarageArea</th>\n",
       "      <th>OpenPorchSF</th>\n",
       "      <th>MoSold</th>\n",
       "      <th>YrSold</th>\n",
       "      <th>SalePrice</th>\n",
       "    </tr>\n",
       "  </thead>\n",
       "  <tbody>\n",
       "    <tr>\n",
       "      <th>count</th>\n",
       "      <td>1450.000000</td>\n",
       "      <td>1450.000000</td>\n",
       "      <td>1450.000000</td>\n",
       "      <td>1450.000000</td>\n",
       "      <td>1450.000000</td>\n",
       "      <td>1450.000000</td>\n",
       "      <td>1450.000000</td>\n",
       "      <td>1450.000000</td>\n",
       "      <td>1450.000000</td>\n",
       "      <td>1450.000000</td>\n",
       "      <td>1450.000000</td>\n",
       "      <td>1450.000000</td>\n",
       "    </tr>\n",
       "    <tr>\n",
       "      <th>mean</th>\n",
       "      <td>1517.698621</td>\n",
       "      <td>1.568966</td>\n",
       "      <td>2.870345</td>\n",
       "      <td>1.046207</td>\n",
       "      <td>6.522069</td>\n",
       "      <td>0.616552</td>\n",
       "      <td>1.770345</td>\n",
       "      <td>473.277931</td>\n",
       "      <td>46.537931</td>\n",
       "      <td>6.312414</td>\n",
       "      <td>2007.812414</td>\n",
       "      <td>181654.942069</td>\n",
       "    </tr>\n",
       "    <tr>\n",
       "      <th>std</th>\n",
       "      <td>525.154207</td>\n",
       "      <td>0.549549</td>\n",
       "      <td>0.814645</td>\n",
       "      <td>0.219643</td>\n",
       "      <td>1.625324</td>\n",
       "      <td>0.644991</td>\n",
       "      <td>0.745136</td>\n",
       "      <td>212.687621</td>\n",
       "      <td>65.222761</td>\n",
       "      <td>2.698244</td>\n",
       "      <td>1.326321</td>\n",
       "      <td>79176.485241</td>\n",
       "    </tr>\n",
       "    <tr>\n",
       "      <th>min</th>\n",
       "      <td>334.000000</td>\n",
       "      <td>0.000000</td>\n",
       "      <td>0.000000</td>\n",
       "      <td>0.000000</td>\n",
       "      <td>2.000000</td>\n",
       "      <td>0.000000</td>\n",
       "      <td>0.000000</td>\n",
       "      <td>0.000000</td>\n",
       "      <td>0.000000</td>\n",
       "      <td>1.000000</td>\n",
       "      <td>2006.000000</td>\n",
       "      <td>37900.000000</td>\n",
       "    </tr>\n",
       "    <tr>\n",
       "      <th>25%</th>\n",
       "      <td>1131.250000</td>\n",
       "      <td>1.000000</td>\n",
       "      <td>2.000000</td>\n",
       "      <td>1.000000</td>\n",
       "      <td>5.000000</td>\n",
       "      <td>0.000000</td>\n",
       "      <td>1.000000</td>\n",
       "      <td>336.000000</td>\n",
       "      <td>0.000000</td>\n",
       "      <td>5.000000</td>\n",
       "      <td>2007.000000</td>\n",
       "      <td>130000.000000</td>\n",
       "    </tr>\n",
       "    <tr>\n",
       "      <th>50%</th>\n",
       "      <td>1466.000000</td>\n",
       "      <td>2.000000</td>\n",
       "      <td>3.000000</td>\n",
       "      <td>1.000000</td>\n",
       "      <td>6.000000</td>\n",
       "      <td>1.000000</td>\n",
       "      <td>2.000000</td>\n",
       "      <td>480.000000</td>\n",
       "      <td>25.000000</td>\n",
       "      <td>6.000000</td>\n",
       "      <td>2008.000000</td>\n",
       "      <td>163945.000000</td>\n",
       "    </tr>\n",
       "    <tr>\n",
       "      <th>75%</th>\n",
       "      <td>1779.000000</td>\n",
       "      <td>2.000000</td>\n",
       "      <td>3.000000</td>\n",
       "      <td>1.000000</td>\n",
       "      <td>7.000000</td>\n",
       "      <td>1.000000</td>\n",
       "      <td>2.000000</td>\n",
       "      <td>576.000000</td>\n",
       "      <td>68.000000</td>\n",
       "      <td>8.000000</td>\n",
       "      <td>2009.000000</td>\n",
       "      <td>214000.000000</td>\n",
       "    </tr>\n",
       "    <tr>\n",
       "      <th>max</th>\n",
       "      <td>5642.000000</td>\n",
       "      <td>3.000000</td>\n",
       "      <td>8.000000</td>\n",
       "      <td>3.000000</td>\n",
       "      <td>14.000000</td>\n",
       "      <td>3.000000</td>\n",
       "      <td>4.000000</td>\n",
       "      <td>1418.000000</td>\n",
       "      <td>547.000000</td>\n",
       "      <td>12.000000</td>\n",
       "      <td>2010.000000</td>\n",
       "      <td>755000.000000</td>\n",
       "    </tr>\n",
       "  </tbody>\n",
       "</table>\n",
       "</div>"
      ],
      "text/plain": [
       "         GrLivArea     FullBath  BedroomAbvGr  KitchenAbvGr  TotRmsAbvGrd  \\\n",
       "count  1450.000000  1450.000000   1450.000000   1450.000000   1450.000000   \n",
       "mean   1517.698621     1.568966      2.870345      1.046207      6.522069   \n",
       "std     525.154207     0.549549      0.814645      0.219643      1.625324   \n",
       "min     334.000000     0.000000      0.000000      0.000000      2.000000   \n",
       "25%    1131.250000     1.000000      2.000000      1.000000      5.000000   \n",
       "50%    1466.000000     2.000000      3.000000      1.000000      6.000000   \n",
       "75%    1779.000000     2.000000      3.000000      1.000000      7.000000   \n",
       "max    5642.000000     3.000000      8.000000      3.000000     14.000000   \n",
       "\n",
       "        Fireplaces   GarageCars   GarageArea  OpenPorchSF       MoSold  \\\n",
       "count  1450.000000  1450.000000  1450.000000  1450.000000  1450.000000   \n",
       "mean      0.616552     1.770345   473.277931    46.537931     6.312414   \n",
       "std       0.644991     0.745136   212.687621    65.222761     2.698244   \n",
       "min       0.000000     0.000000     0.000000     0.000000     1.000000   \n",
       "25%       0.000000     1.000000   336.000000     0.000000     5.000000   \n",
       "50%       1.000000     2.000000   480.000000    25.000000     6.000000   \n",
       "75%       1.000000     2.000000   576.000000    68.000000     8.000000   \n",
       "max       3.000000     4.000000  1418.000000   547.000000    12.000000   \n",
       "\n",
       "            YrSold      SalePrice  \n",
       "count  1450.000000    1450.000000  \n",
       "mean   2007.812414  181654.942069  \n",
       "std       1.326321   79176.485241  \n",
       "min    2006.000000   37900.000000  \n",
       "25%    2007.000000  130000.000000  \n",
       "50%    2008.000000  163945.000000  \n",
       "75%    2009.000000  214000.000000  \n",
       "max    2010.000000  755000.000000  "
      ]
     },
     "execution_count": 13,
     "metadata": {},
     "output_type": "execute_result"
    }
   ],
   "source": [
    "house.iloc[:,43:].describe()"
   ]
  },
  {
   "cell_type": "code",
   "execution_count": 14,
   "metadata": {},
   "outputs": [
    {
     "name": "stdout",
     "output_type": "stream",
     "text": [
      "['MSSubClass' 'MSZoning' 'LotFrontage' 'LotArea' 'Street' 'LotShape'\n",
      " 'LandContour' 'Utilities' 'LotConfig' 'LandSlope' 'Neighborhood'\n",
      " 'Condition1' 'Condition2' 'BldgType' 'HouseStyle' 'OverallQual'\n",
      " 'OverallCond' 'YearBuilt' 'YearRemodAdd' 'RoofStyle' 'RoofMatl'\n",
      " 'Exterior1st' 'Exterior2nd' 'MasVnrType' 'MasVnrArea' 'ExterQual'\n",
      " 'ExterCond' 'Foundation' 'BsmtQual' 'BsmtCond' 'BsmtExposure'\n",
      " 'BsmtFinType1' 'BsmtFinSF1' 'BsmtFinType2' 'BsmtFinSF2' 'BsmtUnfSF'\n",
      " 'TotalBsmtSF' 'Heating' 'HeatingQC' 'CentralAir' 'Electrical' 'FirstFlrSF'\n",
      " 'SecondFlrSF' 'GrLivArea' 'FullBath' 'BedroomAbvGr' 'KitchenAbvGr'\n",
      " 'KitchenQual' 'TotRmsAbvGrd' 'Functional' 'Fireplaces' 'FireplaceQu'\n",
      " 'GarageType' 'GarageFinish' 'GarageCars' 'GarageArea' 'GarageQual'\n",
      " 'GarageCond' 'PavedDrive' 'OpenPorchSF' 'MoSold' 'YrSold' 'SaleType'\n",
      " 'SaleCondition' 'SalePrice']\n"
     ]
    }
   ],
   "source": [
    "print house.columns.values"
   ]
  },
  {
   "cell_type": "code",
   "execution_count": 15,
   "metadata": {},
   "outputs": [
    {
     "name": "stdout",
     "output_type": "stream",
     "text": [
      "36\n"
     ]
    }
   ],
   "source": [
    "# Choose just the fixed features\n",
    "fixed = ['MSSubClass','MSZoning','LotFrontage','LotArea','Street','LotShape','LandContour','LotConfig','LandSlope',\n",
    "         'Neighborhood','Condition1','Condition2','BldgType','HouseStyle','YearBuilt','YearRemodAdd', 'MasVnrArea',\n",
    "         'BsmtQual','BsmtFinSF1','BsmtFinSF2','BsmtUnfSF','TotalBsmtSF','FirstFlrSF','SecondFlrSF','GrLivArea',\n",
    "         'FullBath','BedroomAbvGr','KitchenAbvGr','TotRmsAbvGrd','Fireplaces','GarageType','GarageCars','GarageArea',\n",
    "         'OpenPorchSF','YrSold', 'MoSold']\n",
    "\n",
    "f = ' ~ '+' + '.join(fixed)+' -1'\n",
    "print len(fixed)"
   ]
  },
  {
   "cell_type": "code",
   "execution_count": 16,
   "metadata": {
    "collapsed": true
   },
   "outputs": [],
   "source": [
    "# Set up the predictors X_train, X_test and target y_train, y_test based on pre 2010 and post 2010 data\n",
    "house = house.sort_values('YrSold')\n",
    "\n",
    "y_train = house[house['YrSold'] < 2010]['SalePrice']\n",
    "y_test = house[house['YrSold'] >= 2010]['SalePrice']\n",
    "\n",
    "Xf = patsy.dmatrix(f, data=house, return_type='dataframe')\n",
    "Xf_train = Xf[Xf['YrSold'] < 2010]\n",
    "Xf_test = Xf[Xf['YrSold'] >= 2010]"
   ]
  },
  {
   "cell_type": "code",
   "execution_count": 17,
   "metadata": {},
   "outputs": [
    {
     "name": "stdout",
     "output_type": "stream",
     "text": [
      "(1278, 113)\n",
      "(172, 113)\n"
     ]
    }
   ],
   "source": [
    "print Xf_train.shape\n",
    "print Xf_test.shape"
   ]
  },
  {
   "cell_type": "code",
   "execution_count": 1,
   "metadata": {
    "collapsed": true
   },
   "outputs": [],
   "source": [
    "from sklearn.linear_model import LogisticRegression, LinearRegression, RidgeCV, LassoCV, ElasticNetCV, \\\n",
    "LogisticRegressionCV, Ridge, Lasso, ElasticNet, SGDRegressor, SGDClassifier\n",
    "from sklearn.neighbors import KNeighborsClassifier\n",
    "from sklearn.model_selection import cross_val_score, train_test_split, cross_val_predict, GridSearchCV, KFold, \\\n",
    "StratifiedKFold\n",
    "from sklearn.preprocessing import StandardScaler\n",
    "from sklearn.metrics import classification_report, confusion_matrix, accuracy_score, roc_curve, auc, r2_score\n",
    "from sklearn.feature_selection import SelectKBest, chi2, f_classif, RFECV, f_regression, mutual_info_regression\n",
    "from sklearn.pipeline import Pipeline\n",
    "from sklearn.pipeline import FeatureUnion\n",
    "from imblearn.over_sampling import SMOTE\n",
    "from sklearn.svm import SVC"
   ]
  },
  {
   "cell_type": "code",
   "execution_count": 19,
   "metadata": {},
   "outputs": [
    {
     "name": "stdout",
     "output_type": "stream",
     "text": [
      "-2.050137671e+24\n"
     ]
    }
   ],
   "source": [
    "# Standardise features\n",
    "ss = StandardScaler()\n",
    "Xf_train_s = ss.fit_transform(Xf_train)\n",
    "\n",
    "# Use Linear Regression to get a base score (cross validation)\n",
    "lnr = LinearRegression()\n",
    "seed = 7\n",
    "kfold = KFold(n_splits=10, random_state=seed)\n",
    "\n",
    "y_predict = cross_val_predict(lnr, Xf_train_s, y_train, cv=kfold)\n",
    "lnr_score = r2_score(y_train, y_predict)\n",
    "\n",
    "print lnr_score"
   ]
  },
  {
   "cell_type": "markdown",
   "metadata": {},
   "source": [
    "** *negative R^2 score showed that using all the fixed predictors do not yield meaningful results and suggest multicollinearity amongst the predictors. Need regularisation* **"
   ]
  },
  {
   "cell_type": "code",
   "execution_count": 20,
   "metadata": {},
   "outputs": [
    {
     "data": {
      "text/plain": [
       "719.68567300115217"
      ]
     },
     "execution_count": 20,
     "metadata": {},
     "output_type": "execute_result"
    }
   ],
   "source": [
    "# Perform Ridge regularisation\n",
    "# Choose the best alpha\n",
    "alpha_range = np.logspace(0, 5, 50)\n",
    "ridgeregcv = RidgeCV(alphas=alpha_range, cv=kfold)\n",
    "ridgeregcv.fit(Xf_train_s, y_train)\n",
    "a = ridgeregcv.alpha_\n",
    "a"
   ]
  },
  {
   "cell_type": "code",
   "execution_count": 21,
   "metadata": {},
   "outputs": [
    {
     "name": "stdout",
     "output_type": "stream",
     "text": [
      "0.775946290243\n"
     ]
    }
   ],
   "source": [
    "# Use best alpha to cross validate predit and get overall ridge score\n",
    "ridge = Ridge(alpha=a)\n",
    "\n",
    "y_predict = cross_val_predict(ridge, Xf_train_s, y_train, cv=kfold)\n",
    "ridge_score = r2_score(y_train, y_predict)\n",
    "\n",
    "print ridge_score"
   ]
  },
  {
   "cell_type": "code",
   "execution_count": 22,
   "metadata": {},
   "outputs": [
    {
     "data": {
      "text/plain": [
       "892.37443548186855"
      ]
     },
     "execution_count": 22,
     "metadata": {},
     "output_type": "execute_result"
    }
   ],
   "source": [
    "# Perform Lasso regularisation\n",
    "# Choose the best alpha\n",
    "lassoregcv = LassoCV(n_alphas=500, cv=kfold)\n",
    "lassoregcv.fit(Xf_train_s, y_train)\n",
    "b = lassoregcv.alpha_\n",
    "b"
   ]
  },
  {
   "cell_type": "code",
   "execution_count": 23,
   "metadata": {},
   "outputs": [
    {
     "name": "stdout",
     "output_type": "stream",
     "text": [
      "0.763401551146\n"
     ]
    }
   ],
   "source": [
    "# Use best alpha to cross validate predit and get overall lasso score\n",
    "lasso = Lasso(alpha=b)\n",
    "\n",
    "y_predict = cross_val_predict(lasso, Xf_train_s, y_train, cv=kfold)\n",
    "lasso_score = r2_score(y_train, y_predict)\n",
    "\n",
    "print lasso_score"
   ]
  },
  {
   "cell_type": "code",
   "execution_count": null,
   "metadata": {
    "collapsed": true
   },
   "outputs": [],
   "source": [
    "# Perform ElasticNet regularisation\n",
    "# Find the best ridge-lasso ratio and alpha \n",
    "l1_ratios = np.linspace(0.01, 1.0, 25)\n",
    "enetregcv = ElasticNetCV(l1_ratio=l1_ratios, n_alphas=500, cv=kfold, verbose=1)\n",
    "enetregcv.fit(Xf_train_s, y_train)\n",
    "c = enetregcv.alpha_\n",
    "d = enetregcv.l1_ratio_"
   ]
  },
  {
   "cell_type": "code",
   "execution_count": 25,
   "metadata": {},
   "outputs": [
    {
     "name": "stdout",
     "output_type": "stream",
     "text": [
      "best alpha = 892.374435482\n",
      "best ridge-lasso ratio = 1.0\n"
     ]
    }
   ],
   "source": [
    "print 'best alpha =', c \n",
    "print 'best ridge-lasso ratio =', d"
   ]
  },
  {
   "cell_type": "code",
   "execution_count": 26,
   "metadata": {},
   "outputs": [
    {
     "name": "stdout",
     "output_type": "stream",
     "text": [
      "0.763401551146\n"
     ]
    }
   ],
   "source": [
    "# Use best alpha and ridge-lasso ration to cross validate predit and get overall elasticnet score\n",
    "enet = ElasticNet(alpha=c, l1_ratio=d)\n",
    "\n",
    "y_predict = cross_val_predict(enet, Xf_train_s, y_train, cv=kfold)\n",
    "enet_score = r2_score(y_train, y_predict)\n",
    "\n",
    "print enet_score"
   ]
  },
  {
   "cell_type": "markdown",
   "metadata": {},
   "source": [
    "** *ridge-lasso ratio of 1 indicate full lasso is best, but ridge score higher in this case* **"
   ]
  },
  {
   "cell_type": "code",
   "execution_count": 27,
   "metadata": {},
   "outputs": [
    {
     "name": "stdout",
     "output_type": "stream",
     "text": [
      "original number of patsy features = 113\n",
      "number of features after Recursive Feature Elimination = 57\n",
      "\n",
      "['MSSubClass[160]' 'MSSubClass[30]' 'MSSubClass[60]' 'MSSubClass[90]'\n",
      " 'MSZoning[T.RM]' 'LotShape[T.IR2]' 'LotShape[T.IR3]' 'LotShape[T.Reg]'\n",
      " 'LandContour[T.HLS]' 'LotConfig[T.CulDSac]' 'LotConfig[T.FR2]'\n",
      " 'Neighborhood[T.Crawfor]' 'Neighborhood[T.Edwards]'\n",
      " 'Neighborhood[T.Gilbert]' 'Neighborhood[T.Mitchel]'\n",
      " 'Neighborhood[T.NAmes]' 'Neighborhood[T.NWAmes]' 'Neighborhood[T.NoRidge]'\n",
      " 'Neighborhood[T.NridgHt]' 'Neighborhood[T.OldTown]'\n",
      " 'Neighborhood[T.Sawyer]' 'Neighborhood[T.Somerst]'\n",
      " 'Neighborhood[T.StoneBr]' 'Neighborhood[T.Veenker]' 'Condition1[T.Feedr]'\n",
      " 'Condition1[T.Norm]' 'Condition1[T.RRAe]' 'Condition2[T.PosA]'\n",
      " 'Condition2[T.PosN]' 'BldgType[T.Duplex]' 'BldgType[T.Twnhs]'\n",
      " 'BldgType[T.TwnhsE]' 'BsmtQual[T.Fa]' 'BsmtQual[T.Gd]' 'BsmtQual[T.None]'\n",
      " 'BsmtQual[T.TA]' 'GarageType[T.BuiltIn]' 'GarageType[T.CarPort]'\n",
      " 'GarageType[T.Detchd]' 'LotFrontage' 'LotArea' 'YearBuilt' 'YearRemodAdd'\n",
      " 'MasVnrArea' 'BsmtFinSF1' 'TotalBsmtSF' 'FirstFlrSF' 'SecondFlrSF'\n",
      " 'GrLivArea' 'FullBath' 'BedroomAbvGr' 'KitchenAbvGr' 'TotRmsAbvGrd'\n",
      " 'Fireplaces' 'GarageCars' 'GarageArea' 'OpenPorchSF']\n"
     ]
    }
   ],
   "source": [
    "# Wrapper feature selection using RFECV and ridge\n",
    "selector = RFECV(ridge, step=1, cv=10)\n",
    "selector = selector.fit(Xf_train_s, y_train)\n",
    "\n",
    "cols = list(Xf_train.columns)\n",
    "print 'original number of patsy features =', len(cols)\n",
    "selector.support_\n",
    "selector.ranking_  \n",
    "rfecv_columns = np.array(cols)[selector.support_]  \n",
    "print 'number of features after Recursive Feature Elimination =', len(rfecv_columns)\n",
    "print ''\n",
    "print rfecv_columns\n",
    "\n",
    "fixed = ['MSSubClass','MSZoning','LotFrontage','LotArea','Street','LotShape','LandContour','LotConfig','LandSlope',\n",
    "         'Neighborhood','Condition1','Condition2','BldgType','HouseStyle','YearBuilt','YearRemodAdd', 'MasVnrArea',\n",
    "         'BsmtQual','BsmtFinSF1','BsmtFinSF2','BsmtUnfSF','TotalBsmtSF','FirstFlrSF','SecondFlrSF','GrLivArea',\n",
    "         'FullBath','BedroomAbvGr','KitchenAbvGr','TotRmsAbvGrd','Fireplaces','GarageType','GarageCars','GarageArea',\n",
    "         'OpenPorchSF','YrSold', 'MoSold']"
   ]
  },
  {
   "cell_type": "markdown",
   "metadata": {},
   "source": [
    "** *Main features basically intact. The reductions came mostly from the sub-features within the main ones* **"
   ]
  },
  {
   "cell_type": "code",
   "execution_count": 28,
   "metadata": {
    "collapsed": true
   },
   "outputs": [],
   "source": [
    "# Build new X_train based on features selected from RFE\n",
    "Xf_train_rfe = Xf_train[rfecv_columns]\n",
    "\n",
    "Xf_train_rfe_s = ss.fit_transform(Xf_train_rfe)"
   ]
  },
  {
   "cell_type": "code",
   "execution_count": 29,
   "metadata": {},
   "outputs": [
    {
     "data": {
      "text/plain": [
       "568.98660290182988"
      ]
     },
     "execution_count": 29,
     "metadata": {},
     "output_type": "execute_result"
    }
   ],
   "source": [
    "# Find the best alpha using ridge since it returns the best score previously\n",
    "alpha_range = np.logspace(0, 5, 50)\n",
    "ridgeregcv = RidgeCV(alphas=alpha_range, cv=kfold)\n",
    "ridgeregcv.fit(Xf_train_rfe_s, y_train)\n",
    "a_rfe = ridgeregcv.alpha_\n",
    "a_rfe"
   ]
  },
  {
   "cell_type": "code",
   "execution_count": 30,
   "metadata": {},
   "outputs": [
    {
     "name": "stdout",
     "output_type": "stream",
     "text": [
      "0.78289750969\n"
     ]
    }
   ],
   "source": [
    "# Calculate the ridge_rfe score\n",
    "ridge_rfe = Ridge(alpha=a_rfe)\n",
    "\n",
    "y_predict = cross_val_predict(ridge_rfe, Xf_train_rfe_s, y_train, cv=kfold)\n",
    "ridge_rfe_score = r2_score(y_train, y_predict)\n",
    "\n",
    "print ridge_rfe_score"
   ]
  },
  {
   "cell_type": "code",
   "execution_count": 31,
   "metadata": {},
   "outputs": [
    {
     "data": {
      "text/plain": [
       "'\\nPerform features selection using Filter methods for regression (f_regression, mutual_info_regression)\\nskb_fr = SelectKBest(f_regression, k=20)  \\nskb_mir = SelectKBest(mutual_info_regression, k=20)\\n'"
      ]
     },
     "execution_count": 31,
     "metadata": {},
     "output_type": "execute_result"
    }
   ],
   "source": [
    "\"\"\"\n",
    "Perform features selection using Filter methods for regression (f_regression, mutual_info_regression)\n",
    "skb_fr = SelectKBest(f_regression, k=20)  \n",
    "skb_mir = SelectKBest(mutual_info_regression, k=20)\n",
    "\"\"\""
   ]
  },
  {
   "cell_type": "code",
   "execution_count": 32,
   "metadata": {
    "collapsed": true
   },
   "outputs": [],
   "source": [
    "# create feature union for skb_fr and skb_mir\n",
    "features = []\n",
    "features.append(('skb_fr', SelectKBest(f_regression, k=20)))\n",
    "features.append(('skb_mir', SelectKBest(mutual_info_regression, k=20)))\n",
    "feature_union = FeatureUnion(features)"
   ]
  },
  {
   "cell_type": "code",
   "execution_count": 33,
   "metadata": {
    "collapsed": true
   },
   "outputs": [],
   "source": [
    "# create pipeline\n",
    "estimators = []\n",
    "estimators.append(('feature_union', feature_union))\n",
    "estimators.append(('standardize', StandardScaler()))\n",
    "estimators.append(('ridge', Ridge(alpha = a_rfe)))\n",
    "model = Pipeline(estimators)"
   ]
  },
  {
   "cell_type": "code",
   "execution_count": 74,
   "metadata": {},
   "outputs": [
    {
     "name": "stderr",
     "output_type": "stream",
     "text": [
      "/Users/cheeyongquah/anaconda/lib/python2.7/site-packages/sklearn/utils/validation.py:444: DataConversionWarning: Data with input dtype int64 was converted to float64 by the scale function.\n",
      "  warnings.warn(msg, DataConversionWarning)\n"
     ]
    },
    {
     "name": "stdout",
     "output_type": "stream",
     "text": [
      "-0.006056998914\n"
     ]
    }
   ],
   "source": [
    "# evaluate pipeline\n",
    "seed = 7\n",
    "kfold = KFold(n_splits=10, random_state=seed)\n",
    "y_predict = cross_val_predict(model, Xf_train_rfe, y_train, cv=kfold)\n",
    "filter_rfe_score = r2_score(y_train, y_predict)\n",
    "\n",
    "print filter_rfe_score"
   ]
  },
  {
   "cell_type": "code",
   "execution_count": 35,
   "metadata": {},
   "outputs": [
    {
     "data": {
      "text/html": [
       "<div>\n",
       "<style>\n",
       "    .dataframe thead tr:only-child th {\n",
       "        text-align: right;\n",
       "    }\n",
       "\n",
       "    .dataframe thead th {\n",
       "        text-align: left;\n",
       "    }\n",
       "\n",
       "    .dataframe tbody tr th {\n",
       "        vertical-align: top;\n",
       "    }\n",
       "</style>\n",
       "<table border=\"1\" class=\"dataframe\">\n",
       "  <thead>\n",
       "    <tr style=\"text-align: right;\">\n",
       "      <th></th>\n",
       "      <th>base score</th>\n",
       "      <th>ridge_score</th>\n",
       "      <th>lasso_score</th>\n",
       "      <th>enet_score</th>\n",
       "      <th>ridge_rfe_score</th>\n",
       "    </tr>\n",
       "  </thead>\n",
       "  <tbody>\n",
       "    <tr>\n",
       "      <th>0</th>\n",
       "      <td>-2.050138e+24</td>\n",
       "      <td>0.775946</td>\n",
       "      <td>0.763402</td>\n",
       "      <td>0.763402</td>\n",
       "      <td>0.782898</td>\n",
       "    </tr>\n",
       "  </tbody>\n",
       "</table>\n",
       "</div>"
      ],
      "text/plain": [
       "     base score  ridge_score  lasso_score  enet_score  ridge_rfe_score\n",
       "0 -2.050138e+24     0.775946     0.763402    0.763402         0.782898"
      ]
     },
     "execution_count": 35,
     "metadata": {},
     "output_type": "execute_result"
    }
   ],
   "source": [
    "# Summary of scores for training set\n",
    "scores = [[lnr_score, ridge_score, lasso_score, enet_score, ridge_rfe_score]]\n",
    "col = ['base score', 'ridge_score', 'lasso_score', 'enet_score', 'ridge_rfe_score']\n",
    "\n",
    "pd.DataFrame(scores, columns=col)"
   ]
  },
  {
   "cell_type": "code",
   "execution_count": 36,
   "metadata": {
    "collapsed": true
   },
   "outputs": [],
   "source": [
    "# Build new X_test based on features selected from RFE\n",
    "Xf_test_rfe = Xf_test[rfecv_columns]\n",
    "\n",
    "Xf_test_rfe_s = ss.fit_transform(Xf_test_rfe)"
   ]
  },
  {
   "cell_type": "code",
   "execution_count": 37,
   "metadata": {},
   "outputs": [
    {
     "name": "stdout",
     "output_type": "stream",
     "text": [
      "ridge_rfe_score based on test set = 0.705591785277\n"
     ]
    }
   ],
   "source": [
    "# Calculate ridge_rfe score based on test data set\n",
    "ridge_rfe = Ridge(alpha=a_rfe)\n",
    "\n",
    "y_predict = cross_val_predict(ridge_rfe, Xf_test_rfe_s, y_test, cv=kfold)\n",
    "ridge_rfe_score_test = r2_score(y_test, y_predict)\n",
    "\n",
    "print 'ridge_rfe_score based on test set =', ridge_rfe_score_test"
   ]
  },
  {
   "cell_type": "markdown",
   "metadata": {},
   "source": [
    "<img src=\"http://imgur.com/l5NasQj.png\" style=\"float: left; margin: 25px 15px 0px 0px; height: 25px\">\n",
    "\n",
    "## 2. Determine any value of *changeable* property characteristics unexplained by the *fixed* ones.\n",
    "\n",
    "---\n",
    "\n",
    "Now that you have a model that estimates the price of a house based on its static characteristics, we can move forward with part 2 and 3 of the plan: what are the costs/benefits of quality, condition, and renovations?\n",
    "\n",
    "There are two specific requirements for these estimates:\n",
    "1. The estimates of effects must be in terms of dollars added or subtracted from the house value. \n",
    "2. The effects must be on the variance in price remaining from the first model.\n",
    "\n",
    "The residuals from the first model (training and testing) represent the variance in price unexplained by the fixed characteristics. Of that variance in price remaining, how much of it can be explained by the easy-to-change aspects of the property?\n",
    "\n",
    "---\n",
    "\n",
    "**Your goals:**\n",
    "1. Evaluate the effect in dollars of the renovate-able features. \n",
    "- How would your company use this second model and its coefficients to determine whether they should buy a property or not? Explain how the company can use the two models you have built to determine if they can make money. \n",
    "- Investigate how much of the variance in price remaining is explained by these features.\n",
    "- Do you trust your model? Should it be used to evaluate which properties to buy and fix up?"
   ]
  },
  {
   "cell_type": "code",
   "execution_count": 38,
   "metadata": {},
   "outputs": [
    {
     "name": "stdout",
     "output_type": "stream",
     "text": [
      "36\n"
     ]
    }
   ],
   "source": [
    "# Set the changeable property characteristics\n",
    "\n",
    "changeable = ['Utilities','OverallQual','OverallCond','RoofStyle','RoofMatl','Exterior1st','Exterior2nd','MasVnrType',\n",
    "              'ExterQual','ExterCond','Foundation','BsmtCond','BsmtExposure','BsmtFinType1','BsmtFinType2','Heating',\n",
    "              'HeatingQC','CentralAir','Electrical','KitchenQual','Functional','FireplaceQu','GarageFinish',\n",
    "              'GarageQual','GarageCond','PavedDrive','YrSold']\n",
    "\n",
    "c = ' ~ '+' + '.join(changeable)+' -1'\n",
    "print len(fixed)"
   ]
  },
  {
   "cell_type": "code",
   "execution_count": 39,
   "metadata": {},
   "outputs": [
    {
     "name": "stdout",
     "output_type": "stream",
     "text": [
      "(1278, 139)\n",
      "(172, 139)\n"
     ]
    }
   ],
   "source": [
    "# Set up the predictors X_train, X_test and target y_train, y_test based on pre 2010 and post 2010\n",
    "house = house.sort_values('YrSold')\n",
    "\n",
    "y_train = house[house['YrSold'] < 2010]['SalePrice']\n",
    "y_test = house[house['YrSold'] >= 2010]['SalePrice']\n",
    "\n",
    "Xc = patsy.dmatrix(c, data=house, return_type='dataframe')\n",
    "Xc_train = Xc[Xc['YrSold'] < 2010]\n",
    "Xc_test = Xc[Xc['YrSold'] >= 2010]\n",
    "\n",
    "print Xc_train.shape\n",
    "print Xc_test.shape"
   ]
  },
  {
   "cell_type": "code",
   "execution_count": 40,
   "metadata": {},
   "outputs": [
    {
     "name": "stdout",
     "output_type": "stream",
     "text": [
      "-8.79116190747e+24\n"
     ]
    }
   ],
   "source": [
    "# Standardise features\n",
    "ss = StandardScaler()\n",
    "Xc_train_s = ss.fit_transform(Xc_train)\n",
    "\n",
    "# Use Linear Regression to get a base score \n",
    "lnr = LinearRegression()\n",
    "seed = 7\n",
    "kfold = KFold(n_splits=10, random_state=seed)\n",
    "\n",
    "y_predict = cross_val_predict(lnr, Xc_train_s, y_train, cv=kfold)\n",
    "lnr_score = r2_score(y_train, y_predict)\n",
    "\n",
    "print lnr_score"
   ]
  },
  {
   "cell_type": "code",
   "execution_count": 41,
   "metadata": {},
   "outputs": [
    {
     "data": {
      "text/plain": [
       "138.94954943731375"
      ]
     },
     "execution_count": 41,
     "metadata": {},
     "output_type": "execute_result"
    }
   ],
   "source": [
    "# Perform Ridge regularisation\n",
    "# Choose the best alpha\n",
    "alpha_range = np.logspace(0, 5, 50)\n",
    "ridgeregcv = RidgeCV(alphas=alpha_range, cv=kfold)\n",
    "ridgeregcv.fit(Xc_train_s, y_train)\n",
    "a = ridgeregcv.alpha_\n",
    "a"
   ]
  },
  {
   "cell_type": "code",
   "execution_count": 42,
   "metadata": {},
   "outputs": [
    {
     "name": "stdout",
     "output_type": "stream",
     "text": [
      "0.732673651083\n"
     ]
    }
   ],
   "source": [
    "ridge = Ridge(alpha=a)\n",
    "\n",
    "y_predict = cross_val_predict(ridge, Xc_train_s, y_train, cv=kfold)\n",
    "ridge_score = r2_score(y_train, y_predict)\n",
    "\n",
    "print ridge_score"
   ]
  },
  {
   "cell_type": "code",
   "execution_count": 43,
   "metadata": {},
   "outputs": [
    {
     "data": {
      "text/plain": [
       "624.40556433998552"
      ]
     },
     "execution_count": 43,
     "metadata": {},
     "output_type": "execute_result"
    }
   ],
   "source": [
    "# Perform Lasso regularisation\n",
    "# Choose the best alpha\n",
    "lassoregcv = LassoCV(n_alphas=500, cv=kfold)\n",
    "lassoregcv.fit(Xc_train_s, y_train)\n",
    "b = lassoregcv.alpha_\n",
    "b"
   ]
  },
  {
   "cell_type": "code",
   "execution_count": 44,
   "metadata": {},
   "outputs": [
    {
     "name": "stdout",
     "output_type": "stream",
     "text": [
      "0.739277188401\n"
     ]
    }
   ],
   "source": [
    "lasso = Lasso(alpha=b)\n",
    "\n",
    "y_predict = cross_val_predict(lasso, Xc_train_s, y_train, cv=kfold)\n",
    "lasso_score = r2_score(y_train, y_predict)\n",
    "\n",
    "print lasso_score"
   ]
  },
  {
   "cell_type": "markdown",
   "metadata": {},
   "source": [
    "** *Lasso perform slightly better than Ridge in this case* **"
   ]
  },
  {
   "cell_type": "code",
   "execution_count": null,
   "metadata": {
    "collapsed": true
   },
   "outputs": [],
   "source": [
    "# Perform ElasticNet regularisation\n",
    "# Choose the best ridge-lasso ratio and alpha \n",
    "l1_ratios = np.linspace(0.01, 1.0, 25)\n",
    "enetregcv = ElasticNetCV(l1_ratio=l1_ratios, n_alphas=500, cv=kfold, verbose=1)\n",
    "enetregcv.fit(Xc_train_s, y_train)\n",
    "c = enetregcv.alpha_\n",
    "d = enetregcv.l1_ratio_"
   ]
  },
  {
   "cell_type": "code",
   "execution_count": 46,
   "metadata": {},
   "outputs": [
    {
     "name": "stdout",
     "output_type": "stream",
     "text": [
      "best alpha = 624.40556434\n",
      "best ridge-lasso ratio = 1.0\n"
     ]
    }
   ],
   "source": [
    "print 'best alpha =', c \n",
    "print 'best ridge-lasso ratio =', d"
   ]
  },
  {
   "cell_type": "code",
   "execution_count": 47,
   "metadata": {},
   "outputs": [
    {
     "name": "stdout",
     "output_type": "stream",
     "text": [
      "0.739277188401\n"
     ]
    }
   ],
   "source": [
    "enet = ElasticNet(alpha=c, l1_ratio=d)\n",
    "\n",
    "y_predict = cross_val_predict(enet, Xc_train_s, y_train, cv=kfold)\n",
    "enet_score = r2_score(y_train, y_predict)\n",
    "\n",
    "print enet_score"
   ]
  },
  {
   "cell_type": "markdown",
   "metadata": {},
   "source": [
    "** *ridge-lasso ratio of 1 indicate again full lasso is best and lasso indeed scored better in this case* **"
   ]
  },
  {
   "cell_type": "code",
   "execution_count": 48,
   "metadata": {},
   "outputs": [
    {
     "name": "stdout",
     "output_type": "stream",
     "text": [
      "original number of patsy features = 139\n",
      "number of features after Recursive Feature Elimination = 71\n"
     ]
    }
   ],
   "source": [
    "# Wrapper feature selection using RFECV and lasso\n",
    "selector = RFECV(lasso, step=1, cv=10)\n",
    "selector = selector.fit(Xc_train_s, y_train)\n",
    "\n",
    "cols = list(Xc_train.columns)\n",
    "print 'original number of patsy features =', len(cols)\n",
    "selector.support_\n",
    "selector.ranking_  \n",
    "rfecv_columns = np.array(cols)[selector.support_]  \n",
    "print 'number of features after Recursive Feature Elimination =', len(rfecv_columns)\n",
    "\n",
    "changeable = ['Utilities','OverallQual','OverallCond','RoofStyle','RoofMatl','Exterior1st','Exterior2nd','MasVnrType',\n",
    "              'ExterQual','ExterCond','Foundation','BsmtCond','BsmtExposure','BsmtFinType1','BsmtFinType2','Heating',\n",
    "              'HeatingQC','CentralAir','Electrical','KitchenQual','Functional','FireplaceQu','GarageFinish',\n",
    "              'GarageQual','GarageCond','PavedDrive','YrSold']"
   ]
  },
  {
   "cell_type": "code",
   "execution_count": 49,
   "metadata": {
    "collapsed": true
   },
   "outputs": [],
   "source": [
    "# Build new Xc_train based on features selected from RFE\n",
    "Xc_train_rfe = Xc_train[rfecv_columns]\n",
    "\n",
    "Xc_train_rfe_s = ss.fit_transform(Xc_train_rfe)"
   ]
  },
  {
   "cell_type": "code",
   "execution_count": 50,
   "metadata": {},
   "outputs": [
    {
     "data": {
      "text/plain": [
       "299.79852378336318"
      ]
     },
     "execution_count": 50,
     "metadata": {},
     "output_type": "execute_result"
    }
   ],
   "source": [
    "lassoregcv = LassoCV(n_alphas=500, cv=kfold)\n",
    "lassoregcv.fit(Xc_train_rfe_s, y_train)\n",
    "b_rfe = lassoregcv.alpha_\n",
    "b_rfe"
   ]
  },
  {
   "cell_type": "code",
   "execution_count": 51,
   "metadata": {},
   "outputs": [
    {
     "name": "stdout",
     "output_type": "stream",
     "text": [
      "0.74428832891\n"
     ]
    }
   ],
   "source": [
    "lasso_rfe = Lasso(alpha=b_rfe)\n",
    "\n",
    "y_predict = cross_val_predict(lasso_rfe, Xc_train_rfe_s, y_train, cv=kfold)\n",
    "lasso_rfe_score = r2_score(y_train, y_predict)\n",
    "\n",
    "print lasso_rfe_score"
   ]
  },
  {
   "cell_type": "code",
   "execution_count": 52,
   "metadata": {},
   "outputs": [
    {
     "data": {
      "text/html": [
       "<div>\n",
       "<style>\n",
       "    .dataframe thead tr:only-child th {\n",
       "        text-align: right;\n",
       "    }\n",
       "\n",
       "    .dataframe thead th {\n",
       "        text-align: left;\n",
       "    }\n",
       "\n",
       "    .dataframe tbody tr th {\n",
       "        vertical-align: top;\n",
       "    }\n",
       "</style>\n",
       "<table border=\"1\" class=\"dataframe\">\n",
       "  <thead>\n",
       "    <tr style=\"text-align: right;\">\n",
       "      <th></th>\n",
       "      <th>Changeable Features</th>\n",
       "      <th>Associated Coefficients</th>\n",
       "    </tr>\n",
       "  </thead>\n",
       "  <tbody>\n",
       "    <tr>\n",
       "      <th>59</th>\n",
       "      <td>FireplaceQu[T.None]</td>\n",
       "      <td>-24491.360558</td>\n",
       "    </tr>\n",
       "    <tr>\n",
       "      <th>55</th>\n",
       "      <td>KitchenQual[T.TA]</td>\n",
       "      <td>-24342.391280</td>\n",
       "    </tr>\n",
       "    <tr>\n",
       "      <th>53</th>\n",
       "      <td>KitchenQual[T.Fa]</td>\n",
       "      <td>-23788.014492</td>\n",
       "    </tr>\n",
       "    <tr>\n",
       "      <th>4</th>\n",
       "      <td>OverallQual[T.4]</td>\n",
       "      <td>-15114.912796</td>\n",
       "    </tr>\n",
       "    <tr>\n",
       "      <th>62</th>\n",
       "      <td>GarageFinish[T.None]</td>\n",
       "      <td>-11415.789041</td>\n",
       "    </tr>\n",
       "    <tr>\n",
       "      <th>33</th>\n",
       "      <td>ExterQual[T.TA]</td>\n",
       "      <td>-11014.921005</td>\n",
       "    </tr>\n",
       "    <tr>\n",
       "      <th>54</th>\n",
       "      <td>KitchenQual[T.Gd]</td>\n",
       "      <td>-10373.016486</td>\n",
       "    </tr>\n",
       "    <tr>\n",
       "      <th>63</th>\n",
       "      <td>GarageFinish[T.Unf]</td>\n",
       "      <td>-9638.993659</td>\n",
       "    </tr>\n",
       "    <tr>\n",
       "      <th>41</th>\n",
       "      <td>BsmtExposure[T.None]</td>\n",
       "      <td>-9419.661873</td>\n",
       "    </tr>\n",
       "    <tr>\n",
       "      <th>14</th>\n",
       "      <td>RoofStyle[T.Gable]</td>\n",
       "      <td>-7951.645838</td>\n",
       "    </tr>\n",
       "    <tr>\n",
       "      <th>5</th>\n",
       "      <td>OverallQual[T.5]</td>\n",
       "      <td>-7526.397420</td>\n",
       "    </tr>\n",
       "    <tr>\n",
       "      <th>44</th>\n",
       "      <td>BsmtFinType1[T.Unf]</td>\n",
       "      <td>-6923.065332</td>\n",
       "    </tr>\n",
       "    <tr>\n",
       "      <th>3</th>\n",
       "      <td>OverallQual[T.3]</td>\n",
       "      <td>-5952.611662</td>\n",
       "    </tr>\n",
       "    <tr>\n",
       "      <th>64</th>\n",
       "      <td>GarageQual[T.None]</td>\n",
       "      <td>-5792.640901</td>\n",
       "    </tr>\n",
       "    <tr>\n",
       "      <th>48</th>\n",
       "      <td>HeatingQC[T.Fa]</td>\n",
       "      <td>-5473.809524</td>\n",
       "    </tr>\n",
       "    <tr>\n",
       "      <th>30</th>\n",
       "      <td>MasVnrType[T.None]</td>\n",
       "      <td>-4690.875048</td>\n",
       "    </tr>\n",
       "    <tr>\n",
       "      <th>9</th>\n",
       "      <td>OverallCond[T.3]</td>\n",
       "      <td>-4641.524343</td>\n",
       "    </tr>\n",
       "    <tr>\n",
       "      <th>29</th>\n",
       "      <td>Exterior2nd[T.Wd Shng]</td>\n",
       "      <td>-3596.214244</td>\n",
       "    </tr>\n",
       "    <tr>\n",
       "      <th>49</th>\n",
       "      <td>HeatingQC[T.Gd]</td>\n",
       "      <td>-3387.494473</td>\n",
       "    </tr>\n",
       "    <tr>\n",
       "      <th>40</th>\n",
       "      <td>BsmtExposure[T.No]</td>\n",
       "      <td>-3241.018270</td>\n",
       "    </tr>\n",
       "    <tr>\n",
       "      <th>50</th>\n",
       "      <td>HeatingQC[T.TA]</td>\n",
       "      <td>-2722.224006</td>\n",
       "    </tr>\n",
       "    <tr>\n",
       "      <th>11</th>\n",
       "      <td>OverallCond[T.5]</td>\n",
       "      <td>-1863.072857</td>\n",
       "    </tr>\n",
       "    <tr>\n",
       "      <th>10</th>\n",
       "      <td>OverallCond[T.4]</td>\n",
       "      <td>-1854.330356</td>\n",
       "    </tr>\n",
       "    <tr>\n",
       "      <th>60</th>\n",
       "      <td>FireplaceQu[T.Po]</td>\n",
       "      <td>-1774.903101</td>\n",
       "    </tr>\n",
       "    <tr>\n",
       "      <th>70</th>\n",
       "      <td>YrSold</td>\n",
       "      <td>-1488.936091</td>\n",
       "    </tr>\n",
       "    <tr>\n",
       "      <th>24</th>\n",
       "      <td>Exterior2nd[T.MetalSd]</td>\n",
       "      <td>-1011.943408</td>\n",
       "    </tr>\n",
       "    <tr>\n",
       "      <th>43</th>\n",
       "      <td>BsmtFinType1[T.Rec]</td>\n",
       "      <td>0.000000</td>\n",
       "    </tr>\n",
       "    <tr>\n",
       "      <th>56</th>\n",
       "      <td>Functional[T.Maj2]</td>\n",
       "      <td>-0.000000</td>\n",
       "    </tr>\n",
       "    <tr>\n",
       "      <th>47</th>\n",
       "      <td>Heating[T.OthW]</td>\n",
       "      <td>-0.000000</td>\n",
       "    </tr>\n",
       "    <tr>\n",
       "      <th>52</th>\n",
       "      <td>Electrical[T.FuseF]</td>\n",
       "      <td>-0.000000</td>\n",
       "    </tr>\n",
       "    <tr>\n",
       "      <th>...</th>\n",
       "      <td>...</td>\n",
       "      <td>...</td>\n",
       "    </tr>\n",
       "    <tr>\n",
       "      <th>17</th>\n",
       "      <td>Exterior1st[T.BrkComm]</td>\n",
       "      <td>-0.000000</td>\n",
       "    </tr>\n",
       "    <tr>\n",
       "      <th>19</th>\n",
       "      <td>Exterior1st[T.ImStucc]</td>\n",
       "      <td>-0.000000</td>\n",
       "    </tr>\n",
       "    <tr>\n",
       "      <th>36</th>\n",
       "      <td>Foundation[T.Wood]</td>\n",
       "      <td>0.000000</td>\n",
       "    </tr>\n",
       "    <tr>\n",
       "      <th>21</th>\n",
       "      <td>Exterior1st[T.Stucco]</td>\n",
       "      <td>-0.000000</td>\n",
       "    </tr>\n",
       "    <tr>\n",
       "      <th>22</th>\n",
       "      <td>Exterior1st[T.WdShing]</td>\n",
       "      <td>-0.000000</td>\n",
       "    </tr>\n",
       "    <tr>\n",
       "      <th>23</th>\n",
       "      <td>Exterior2nd[T.ImStucc]</td>\n",
       "      <td>0.000000</td>\n",
       "    </tr>\n",
       "    <tr>\n",
       "      <th>35</th>\n",
       "      <td>Foundation[T.Stone]</td>\n",
       "      <td>0.000000</td>\n",
       "    </tr>\n",
       "    <tr>\n",
       "      <th>28</th>\n",
       "      <td>Exterior2nd[T.Wd Sdng]</td>\n",
       "      <td>-0.000000</td>\n",
       "    </tr>\n",
       "    <tr>\n",
       "      <th>26</th>\n",
       "      <td>Exterior2nd[T.Stone]</td>\n",
       "      <td>0.000000</td>\n",
       "    </tr>\n",
       "    <tr>\n",
       "      <th>32</th>\n",
       "      <td>ExterQual[T.Fa]</td>\n",
       "      <td>-0.000000</td>\n",
       "    </tr>\n",
       "    <tr>\n",
       "      <th>31</th>\n",
       "      <td>MasVnrType[T.Stone]</td>\n",
       "      <td>962.711737</td>\n",
       "    </tr>\n",
       "    <tr>\n",
       "      <th>39</th>\n",
       "      <td>BsmtExposure[T.Mn]</td>\n",
       "      <td>1581.750781</td>\n",
       "    </tr>\n",
       "    <tr>\n",
       "      <th>65</th>\n",
       "      <td>GarageQual[T.TA]</td>\n",
       "      <td>1890.923500</td>\n",
       "    </tr>\n",
       "    <tr>\n",
       "      <th>46</th>\n",
       "      <td>Heating[T.GasW]</td>\n",
       "      <td>2033.831483</td>\n",
       "    </tr>\n",
       "    <tr>\n",
       "      <th>27</th>\n",
       "      <td>Exterior2nd[T.VinylSd]</td>\n",
       "      <td>2866.067397</td>\n",
       "    </tr>\n",
       "    <tr>\n",
       "      <th>61</th>\n",
       "      <td>FireplaceQu[T.TA]</td>\n",
       "      <td>3048.266801</td>\n",
       "    </tr>\n",
       "    <tr>\n",
       "      <th>69</th>\n",
       "      <td>PavedDrive[T.Y]</td>\n",
       "      <td>3783.888860</td>\n",
       "    </tr>\n",
       "    <tr>\n",
       "      <th>51</th>\n",
       "      <td>CentralAir[T.Y]</td>\n",
       "      <td>4227.245244</td>\n",
       "    </tr>\n",
       "    <tr>\n",
       "      <th>67</th>\n",
       "      <td>GarageCond[T.TA]</td>\n",
       "      <td>5816.716365</td>\n",
       "    </tr>\n",
       "    <tr>\n",
       "      <th>25</th>\n",
       "      <td>Exterior2nd[T.Plywood]</td>\n",
       "      <td>5931.829266</td>\n",
       "    </tr>\n",
       "    <tr>\n",
       "      <th>34</th>\n",
       "      <td>Foundation[T.PConc]</td>\n",
       "      <td>6551.163104</td>\n",
       "    </tr>\n",
       "    <tr>\n",
       "      <th>12</th>\n",
       "      <td>OverallCond[T.7]</td>\n",
       "      <td>6668.702313</td>\n",
       "    </tr>\n",
       "    <tr>\n",
       "      <th>42</th>\n",
       "      <td>BsmtFinType1[T.GLQ]</td>\n",
       "      <td>7129.957099</td>\n",
       "    </tr>\n",
       "    <tr>\n",
       "      <th>18</th>\n",
       "      <td>Exterior1st[T.BrkFace]</td>\n",
       "      <td>11275.402429</td>\n",
       "    </tr>\n",
       "    <tr>\n",
       "      <th>38</th>\n",
       "      <td>BsmtExposure[T.Gd]</td>\n",
       "      <td>20002.649938</td>\n",
       "    </tr>\n",
       "    <tr>\n",
       "      <th>6</th>\n",
       "      <td>OverallQual[T.7]</td>\n",
       "      <td>21827.449326</td>\n",
       "    </tr>\n",
       "    <tr>\n",
       "      <th>16</th>\n",
       "      <td>RoofMatl[T.WdShngl]</td>\n",
       "      <td>26297.364752</td>\n",
       "    </tr>\n",
       "    <tr>\n",
       "      <th>7</th>\n",
       "      <td>OverallQual[T.8]</td>\n",
       "      <td>67634.015581</td>\n",
       "    </tr>\n",
       "    <tr>\n",
       "      <th>8</th>\n",
       "      <td>OverallQual[T.9]</td>\n",
       "      <td>130489.295279</td>\n",
       "    </tr>\n",
       "    <tr>\n",
       "      <th>1</th>\n",
       "      <td>OverallQual[T.10]</td>\n",
       "      <td>186179.057216</td>\n",
       "    </tr>\n",
       "  </tbody>\n",
       "</table>\n",
       "<p>71 rows × 2 columns</p>\n",
       "</div>"
      ],
      "text/plain": [
       "       Changeable Features  Associated Coefficients\n",
       "59     FireplaceQu[T.None]            -24491.360558\n",
       "55       KitchenQual[T.TA]            -24342.391280\n",
       "53       KitchenQual[T.Fa]            -23788.014492\n",
       "4         OverallQual[T.4]            -15114.912796\n",
       "62    GarageFinish[T.None]            -11415.789041\n",
       "33         ExterQual[T.TA]            -11014.921005\n",
       "54       KitchenQual[T.Gd]            -10373.016486\n",
       "63     GarageFinish[T.Unf]             -9638.993659\n",
       "41    BsmtExposure[T.None]             -9419.661873\n",
       "14      RoofStyle[T.Gable]             -7951.645838\n",
       "5         OverallQual[T.5]             -7526.397420\n",
       "44     BsmtFinType1[T.Unf]             -6923.065332\n",
       "3         OverallQual[T.3]             -5952.611662\n",
       "64      GarageQual[T.None]             -5792.640901\n",
       "48         HeatingQC[T.Fa]             -5473.809524\n",
       "30      MasVnrType[T.None]             -4690.875048\n",
       "9         OverallCond[T.3]             -4641.524343\n",
       "29  Exterior2nd[T.Wd Shng]             -3596.214244\n",
       "49         HeatingQC[T.Gd]             -3387.494473\n",
       "40      BsmtExposure[T.No]             -3241.018270\n",
       "50         HeatingQC[T.TA]             -2722.224006\n",
       "11        OverallCond[T.5]             -1863.072857\n",
       "10        OverallCond[T.4]             -1854.330356\n",
       "60       FireplaceQu[T.Po]             -1774.903101\n",
       "70                  YrSold             -1488.936091\n",
       "24  Exterior2nd[T.MetalSd]             -1011.943408\n",
       "43     BsmtFinType1[T.Rec]                 0.000000\n",
       "56      Functional[T.Maj2]                -0.000000\n",
       "47         Heating[T.OthW]                -0.000000\n",
       "52     Electrical[T.FuseF]                -0.000000\n",
       "..                     ...                      ...\n",
       "17  Exterior1st[T.BrkComm]                -0.000000\n",
       "19  Exterior1st[T.ImStucc]                -0.000000\n",
       "36      Foundation[T.Wood]                 0.000000\n",
       "21   Exterior1st[T.Stucco]                -0.000000\n",
       "22  Exterior1st[T.WdShing]                -0.000000\n",
       "23  Exterior2nd[T.ImStucc]                 0.000000\n",
       "35     Foundation[T.Stone]                 0.000000\n",
       "28  Exterior2nd[T.Wd Sdng]                -0.000000\n",
       "26    Exterior2nd[T.Stone]                 0.000000\n",
       "32         ExterQual[T.Fa]                -0.000000\n",
       "31     MasVnrType[T.Stone]               962.711737\n",
       "39      BsmtExposure[T.Mn]              1581.750781\n",
       "65        GarageQual[T.TA]              1890.923500\n",
       "46         Heating[T.GasW]              2033.831483\n",
       "27  Exterior2nd[T.VinylSd]              2866.067397\n",
       "61       FireplaceQu[T.TA]              3048.266801\n",
       "69         PavedDrive[T.Y]              3783.888860\n",
       "51         CentralAir[T.Y]              4227.245244\n",
       "67        GarageCond[T.TA]              5816.716365\n",
       "25  Exterior2nd[T.Plywood]              5931.829266\n",
       "34     Foundation[T.PConc]              6551.163104\n",
       "12        OverallCond[T.7]              6668.702313\n",
       "42     BsmtFinType1[T.GLQ]              7129.957099\n",
       "18  Exterior1st[T.BrkFace]             11275.402429\n",
       "38      BsmtExposure[T.Gd]             20002.649938\n",
       "6         OverallQual[T.7]             21827.449326\n",
       "16     RoofMatl[T.WdShngl]             26297.364752\n",
       "7         OverallQual[T.8]             67634.015581\n",
       "8         OverallQual[T.9]            130489.295279\n",
       "1        OverallQual[T.10]            186179.057216\n",
       "\n",
       "[71 rows x 2 columns]"
      ]
     },
     "execution_count": 52,
     "metadata": {},
     "output_type": "execute_result"
    }
   ],
   "source": [
    "# Find the coefficients\n",
    "lasso_rfe.fit(Xc_train_rfe, y_train)\n",
    "\n",
    "rfecv = []\n",
    "for i in range(len(rfecv_columns)):\n",
    "    rfecv.append((rfecv_columns[i], lasso_rfe.coef_[i]))\n",
    "    \n",
    "df = pd.DataFrame(rfecv, columns=['Changeable Features', 'Associated Coefficients'])\n",
    "\n",
    "df = df.sort_values('Associated Coefficients')\n",
    "df"
   ]
  },
  {
   "cell_type": "markdown",
   "metadata": {},
   "source": [
    "** *Negative coefficients have negative impact on SalePrice (reverse is True), bigger the value, the higher the impact* **"
   ]
  },
  {
   "cell_type": "code",
   "execution_count": 53,
   "metadata": {
    "collapsed": true
   },
   "outputs": [],
   "source": [
    "# Build new Xc_test based on features selected from RFE\n",
    "Xc_test_rfe = Xc_test[rfecv_columns]\n",
    "\n",
    "Xc_test_rfe_s = ss.fit_transform(Xc_test_rfe)"
   ]
  },
  {
   "cell_type": "code",
   "execution_count": 54,
   "metadata": {},
   "outputs": [
    {
     "name": "stdout",
     "output_type": "stream",
     "text": [
      "lasso_rfe_score based on test set = 0.681414795398\n"
     ]
    }
   ],
   "source": [
    "lasso_rfe = Lasso(alpha=b_rfe)\n",
    "\n",
    "y_predict = cross_val_predict(lasso_rfe, Xc_test_rfe_s, y_test, cv=kfold)\n",
    "lasso_rfe_score_test = r2_score(y_test, y_predict)\n",
    "\n",
    "print 'lasso_rfe_score based on test set =', lasso_rfe_score_test"
   ]
  },
  {
   "cell_type": "markdown",
   "metadata": {},
   "source": [
    "<img src=\"http://imgur.com/GCAf1UX.png\" style=\"float: left; margin: 25px 15px 0px 0px; height: 25px\">\n",
    "\n",
    "## 3. What property characteristics predict an \"abnormal\" sale?\n",
    "\n",
    "---\n",
    "\n",
    "The `SaleCondition` feature indicates the circumstances of the house sale. From the data file, we can see that the possibilities are:\n",
    "\n",
    "       Normal\tNormal Sale\n",
    "       Abnorml\tAbnormal Sale -  trade, foreclosure, short sale\n",
    "       AdjLand\tAdjoining Land Purchase\n",
    "       Alloca\tAllocation - two linked properties with separate deeds, typically condo with a garage unit\t\n",
    "       Family\tSale between family members\n",
    "       Partial\tHome was not completed when last assessed (associated with New Homes)\n",
    "       \n",
    "One of the executives at your company has an \"in\" with higher-ups at the major regional bank. His friends at the bank have made him a proposal: if he can reliably indicate what features, if any, predict \"abnormal\" sales (foreclosures, short sales, etc.), then in return the bank will give him first dibs on the pre-auction purchase of those properties (at a dirt-cheap price).\n",
    "\n",
    "He has tasked you with determining (and adequately validating) which features of a property predict this type of sale. \n",
    "\n",
    "---\n",
    "\n",
    "**Your task:**\n",
    "1. Determine which features predict the `Abnorml` category in the `SaleCondition` feature.\n",
    "- Justify your results.\n",
    "\n",
    "This is a challenging task that tests your ability to perform classification analysis in the face of severe class imbalance. You may find that simply running a classifier on the full dataset to predict the category ends up useless: when there is bad class imbalance classifiers often tend to simply guess the majority class.\n",
    "\n",
    "It is up to you to determine how you will tackle this problem. I recommend doing some research to find out how others have dealt with the problem in the past. Make sure to justify your solution. Don't worry about it being \"the best\" solution, but be rigorous.\n",
    "\n",
    "Be sure to indicate which features are predictive (if any) and whether they are positive or negative predictors of abnormal sales."
   ]
  },
  {
   "cell_type": "code",
   "execution_count": 55,
   "metadata": {},
   "outputs": [
    {
     "name": "stdout",
     "output_type": "stream",
     "text": [
      "64\n"
     ]
    }
   ],
   "source": [
    "# Choose all the features for X\n",
    "all = ['MSSubClass','MSZoning','LotFrontage','LotArea','Street','LotShape','LandContour','Utilities','LotConfig',\n",
    "       'LandSlope','Neighborhood','Condition1','Condition2','BldgType','HouseStyle','OverallQual','OverallCond',\n",
    "       'YearBuilt','YearRemodAdd','RoofStyle', 'RoofMatl','Exterior1st','Exterior2nd','MasVnrType','MasVnrArea',\n",
    "       'ExterQual','ExterCond','Foundation','BsmtQual','BsmtCond','BsmtExposure','BsmtFinType1','BsmtFinSF1',\n",
    "       'BsmtFinType2','BsmtFinSF2','BsmtUnfSF','TotalBsmtSF','Heating','HeatingQC','CentralAir','Electrical',\n",
    "       'FirstFlrSF','SecondFlrSF','GrLivArea','FullBath','BedroomAbvGr','KitchenAbvGr','KitchenQual','TotRmsAbvGrd', \n",
    "       'Functional','Fireplaces','FireplaceQu','GarageType','GarageFinish','GarageCars','GarageArea','GarageQual',\n",
    "       'GarageCond','PavedDrive','OpenPorchSF','MoSold','YrSold','SaleType','SalePrice']\n",
    "\n",
    "f = ' ~ '+' + '.join(all)+' -1'\n",
    "print len(all)"
   ]
  },
  {
   "cell_type": "code",
   "execution_count": 56,
   "metadata": {
    "collapsed": true
   },
   "outputs": [],
   "source": [
    "house.SaleCondition = house.SaleCondition.map(lambda x : 1 if x == 'Abnorml' else 0)"
   ]
  },
  {
   "cell_type": "code",
   "execution_count": 57,
   "metadata": {},
   "outputs": [
    {
     "name": "stdout",
     "output_type": "stream",
     "text": [
      "number of Abnormal sales = 96\n",
      "total number of sales = 1450\n"
     ]
    }
   ],
   "source": [
    "s = house.SaleCondition[house.SaleCondition == 1]\n",
    "print 'number of Abnormal sales =', len(s)\n",
    "print 'total number of sales =', len(house)"
   ]
  },
  {
   "cell_type": "code",
   "execution_count": 58,
   "metadata": {
    "collapsed": true
   },
   "outputs": [],
   "source": [
    "# Set up the predictors Xa_train, Xa_test and target y_train, y_test based on pre 2010 and post 2010\n",
    "house = house.sort_values('YrSold')\n",
    "\n",
    "y_train = house[house['YrSold'] < 2010]['SaleCondition']\n",
    "y_test = house[house['YrSold'] >= 2010]['SaleCondition']\n",
    "\n",
    "Xa = patsy.dmatrix(f, data=house, return_type='dataframe')\n",
    "Xa_train = Xa[Xa['YrSold'] < 2010]\n",
    "Xa_test = Xa[Xa['YrSold'] >= 2010]"
   ]
  },
  {
   "cell_type": "code",
   "execution_count": 59,
   "metadata": {},
   "outputs": [
    {
     "name": "stdout",
     "output_type": "stream",
     "text": [
      "training set base accuracy : 0.931924882629\n",
      "testing set base accuracy : 0.947674418605\n"
     ]
    }
   ],
   "source": [
    "# Calculate base accuracy\n",
    "print 'training set base accuracy :', 1-np.mean(y_train)\n",
    "print 'testing set base accuracy :', 1-np.mean(y_test)"
   ]
  },
  {
   "cell_type": "code",
   "execution_count": 60,
   "metadata": {
    "collapsed": true
   },
   "outputs": [],
   "source": [
    "# Imbalance data. Use SMOTE (Synthetic Minority Oversampling Technique) to upsample minority class 'Abnorml' \n",
    "# in the training set.\n",
    "\"\"\"\n",
    "1. Finding the k-nearest-neighbors for minority class observations (finding similar observations)\n",
    "2. Randomly choosing one of the k-nearest-neighbors and using it to create a similar, but randomly tweaked, \n",
    "new observation.\n",
    "\"\"\"\n",
    "# use ratio = 'auto' \n",
    "# The classes targeted will be over-sampled (minority) or under-sampled (majority) to achieve an equal number of \n",
    "# sample with the majority or minority class.\n",
    "\n",
    "sm = SMOTE(random_state=12, ratio = 'auto')\n",
    "Xa_train_res, y_train_res = sm.fit_sample(Xa_train, y_train)"
   ]
  },
  {
   "cell_type": "code",
   "execution_count": 61,
   "metadata": {
    "collapsed": true
   },
   "outputs": [],
   "source": [
    "# Standardise features\n",
    "ss = StandardScaler()\n",
    "Xa_train_res_s = ss.fit_transform(Xa_train_res)\n",
    "\n",
    "# Find the best SGDClassifier using GridSearchCV\n",
    "sgd_cls_params = {\n",
    "    'loss':['log', 'hinge'],\n",
    "    'penalty':['l1','l2'],\n",
    "    'alpha':np.logspace(-5,2,50)\n",
    "}\n",
    "\n",
    "sgd_cls = SGDClassifier(max_iter=50, tol= None)\n",
    "sgd_cls_gs = GridSearchCV(sgd_cls, sgd_cls_params, cv=10, verbose=1)"
   ]
  },
  {
   "cell_type": "code",
   "execution_count": 62,
   "metadata": {},
   "outputs": [
    {
     "name": "stdout",
     "output_type": "stream",
     "text": [
      "Fitting 10 folds for each of 200 candidates, totalling 2000 fits\n",
      "\n",
      "best hyper-parameters = {'penalty': 'l1', 'alpha': 0.00026826957952797245, 'loss': 'hinge'}\n",
      "best score = 0.928631402183\n",
      "\n",
      "SGDClassifier(alpha=0.00026826957952797245, average=False, class_weight=None,\n",
      "       epsilon=0.1, eta0=0.0, fit_intercept=True, l1_ratio=0.15,\n",
      "       learning_rate='optimal', loss='hinge', max_iter=50, n_iter=None,\n",
      "       n_jobs=1, penalty='l1', power_t=0.5, random_state=None,\n",
      "       shuffle=True, tol=None, verbose=0, warm_start=False)\n"
     ]
    },
    {
     "name": "stderr",
     "output_type": "stream",
     "text": [
      "[Parallel(n_jobs=1)]: Done 2000 out of 2000 | elapsed:  4.9min finished\n"
     ]
    }
   ],
   "source": [
    "sgd_cls_gs.fit(Xa_train_res_s, y_train_res)\n",
    "\n",
    "print ''\n",
    "print 'best hyper-parameters =', sgd_cls_gs.best_params_\n",
    "print 'best score =', sgd_cls_gs.best_score_\n",
    "print ''\n",
    "sgd_cls = sgd_cls_gs.best_estimator_\n",
    "print sgd_cls"
   ]
  },
  {
   "cell_type": "code",
   "execution_count": 63,
   "metadata": {
    "collapsed": true
   },
   "outputs": [],
   "source": [
    "# Wrapper feature selection using RFECV and sgd_cls\n",
    "selector = RFECV(sgd_cls, step=1, cv=10)\n",
    "selector = selector.fit(Xa_train_res_s, y_train_res)"
   ]
  },
  {
   "cell_type": "code",
   "execution_count": 64,
   "metadata": {},
   "outputs": [
    {
     "name": "stdout",
     "output_type": "stream",
     "text": [
      "original number of patsy features = 259\n",
      "number of features after Recursive Feature Elimination = 237\n",
      "\n",
      "Dropped features : ['Neighborhood[T.Timber]', 'Condition2[T.RRAe]', 'BldgType[T.Twnhs]', 'HouseStyle[T.2.5Fin]', 'OverallQual[T.6]', 'OverallCond[T.6]', 'RoofStyle[T.Shed]', 'RoofMatl[T.Membran]', 'RoofMatl[T.Roll]', 'Exterior1st[T.AsphShn]', 'Exterior2nd[T.CmentBd]', 'Exterior2nd[T.HdBoard]', 'Exterior2nd[T.Other]', 'ExterQual[T.TA]', 'BsmtQual[T.Gd]', 'BsmtCond[T.Po]', 'HeatingQC[T.Po]', 'GarageQual[T.Fa]', 'GarageQual[T.TA]', 'GarageCond[T.Gd]', 'SaleType[T.Con]', 'YearBuilt']\n"
     ]
    }
   ],
   "source": [
    "cols = list(Xa_train.columns)\n",
    "print 'original number of patsy features =', len(cols)\n",
    "selector.support_\n",
    "selector.ranking_  \n",
    "rfecv_columns = np.array(cols)[selector.support_]  \n",
    "print 'number of features after Recursive Feature Elimination =', len(rfecv_columns)\n",
    "print ''\n",
    "\n",
    "all = ['MSSubClass','MSZoning','LotFrontage','LotArea','Street','LotShape','LandContour','Utilities','LotConfig',\n",
    "       'LandSlope','Neighborhood','Condition1','Condition2','BldgType','HouseStyle','OverallQual','OverallCond',\n",
    "       'YearBuilt','YearRemodAdd','RoofStyle', 'RoofMatl','Exterior1st','Exterior2nd','MasVnrType','MasVnrArea',\n",
    "       'ExterQual','ExterCond','Foundation','BsmtQual','BsmtCond','BsmtExposure','BsmtFinType1','BsmtFinSF1',\n",
    "       'BsmtFinType2','BsmtFinSF2','BsmtUnfSF','TotalBsmtSF','Heating','HeatingQC','CentralAir','Electrical',\n",
    "       'FirstFlrSF','SecondFlrSF','GrLivArea','FullBath','BedroomAbvGr','KitchenAbvGr','KitchenQual','TotRmsAbvGrd', \n",
    "       'Functional','Fireplaces','FireplaceQu','GarageType','GarageFinish','GarageCars','GarageArea','GarageQual',\n",
    "       'GarageCond','PavedDrive','OpenPorchSF','MoSold','YrSold','SaleType','SalePrice']\n",
    "\n",
    "dropped = []\n",
    "for col in cols:\n",
    "    if col not in rfecv_columns:\n",
    "        dropped.append(col)\n",
    "        \n",
    "print 'Dropped features :', dropped        "
   ]
  },
  {
   "cell_type": "code",
   "execution_count": 65,
   "metadata": {
    "collapsed": true
   },
   "outputs": [],
   "source": [
    "# Build new Xa_train based on features selected from RFE\n",
    "Xa_train_rfe = Xa_train[rfecv_columns]"
   ]
  },
  {
   "cell_type": "code",
   "execution_count": 66,
   "metadata": {
    "collapsed": true
   },
   "outputs": [],
   "source": [
    "# Resample using SMOTE\n",
    "sm = SMOTE(random_state=12, ratio = 'auto')\n",
    "Xa_train_rfe_res, y_train_res = sm.fit_sample(Xa_train_rfe, y_train)"
   ]
  },
  {
   "cell_type": "code",
   "execution_count": 67,
   "metadata": {
    "collapsed": true
   },
   "outputs": [],
   "source": [
    "# Standardise\n",
    "Xa_train_rfe_res_s = ss.fit_transform(Xa_train_rfe_res)"
   ]
  },
  {
   "cell_type": "code",
   "execution_count": 68,
   "metadata": {
    "collapsed": true
   },
   "outputs": [],
   "source": [
    "# Find the best SGDClassifier again using GridSearchCV\n",
    "sgd_cls_params = {\n",
    "    'loss':['log', 'hinge'],\n",
    "    'penalty':['l1','l2'],\n",
    "    'alpha':np.logspace(-5,2,50)\n",
    "}\n",
    "\n",
    "sgd_cls = SGDClassifier(max_iter=50, tol= None)\n",
    "sgd_cls_gs = GridSearchCV(sgd_cls, sgd_cls_params, cv=10, verbose=1)"
   ]
  },
  {
   "cell_type": "code",
   "execution_count": 69,
   "metadata": {},
   "outputs": [
    {
     "name": "stdout",
     "output_type": "stream",
     "text": [
      "Fitting 10 folds for each of 200 candidates, totalling 2000 fits\n",
      "\n",
      "best hyper-parameters = {'penalty': 'l1', 'alpha': 7.1968567300115141e-05, 'loss': 'hinge'}\n",
      "best score = 0.926112510495\n",
      "\n",
      "SGDClassifier(alpha=7.1968567300115141e-05, average=False, class_weight=None,\n",
      "       epsilon=0.1, eta0=0.0, fit_intercept=True, l1_ratio=0.15,\n",
      "       learning_rate='optimal', loss='hinge', max_iter=50, n_iter=None,\n",
      "       n_jobs=1, penalty='l1', power_t=0.5, random_state=None,\n",
      "       shuffle=True, tol=None, verbose=0, warm_start=False)\n"
     ]
    },
    {
     "name": "stderr",
     "output_type": "stream",
     "text": [
      "[Parallel(n_jobs=1)]: Done 2000 out of 2000 | elapsed:  4.3min finished\n"
     ]
    }
   ],
   "source": [
    "sgd_cls_gs.fit(Xa_train_rfe_res_s, y_train_res)\n",
    "\n",
    "print ''\n",
    "print 'best hyper-parameters =', sgd_cls_gs.best_params_\n",
    "print 'best score =', sgd_cls_gs.best_score_\n",
    "print ''\n",
    "\n",
    "sgd_cls = sgd_cls_gs.best_estimator_\n",
    "print sgd_cls"
   ]
  },
  {
   "cell_type": "code",
   "execution_count": 70,
   "metadata": {
    "collapsed": true
   },
   "outputs": [],
   "source": [
    "# Build new Xa_test based on features selected from RFE\n",
    "Xa_test_rfe = Xa_test[rfecv_columns]\n",
    "\n",
    "Xa_test_rfe_s = ss.fit_transform(Xa_test_rfe)"
   ]
  },
  {
   "cell_type": "code",
   "execution_count": 77,
   "metadata": {},
   "outputs": [
    {
     "name": "stdout",
     "output_type": "stream",
     "text": [
      "0.639534883721\n"
     ]
    }
   ],
   "source": [
    "# Use best estimator to predict test set\n",
    "y_predict = sgd_cls.predict(Xa_test_rfe_s)\n",
    "score = sgd_cls.score(Xa_test_rfe_s, y_test)\n",
    "print score"
   ]
  },
  {
   "cell_type": "code",
   "execution_count": 78,
   "metadata": {},
   "outputs": [
    {
     "name": "stdout",
     "output_type": "stream",
     "text": [
      "             precision    recall  f1-score   support\n",
      "\n",
      "          0       0.97      0.64      0.77       163\n",
      "          1       0.09      0.67      0.16         9\n",
      "\n",
      "avg / total       0.93      0.64      0.74       172\n",
      "\n"
     ]
    }
   ],
   "source": [
    "print classification_report(y_test, y_predict)"
   ]
  },
  {
   "cell_type": "code",
   "execution_count": 82,
   "metadata": {},
   "outputs": [
    {
     "data": {
      "image/png": "[encoded data removed]",
      "text/plain": [
       "<matplotlib.figure.Figure at 0x1a1d901090>"
      ]
     },
     "metadata": {
      "image/png": {
       "height": 283,
       "width": 395
      }
     },
     "output_type": "display_data"
    }
   ],
   "source": [
    "# Plotting the ROC curve\n",
    "fpr, tpr, _ = roc_curve(y_test, y_predict)\n",
    "roc_auc = auc(fpr, tpr)\n",
    "# fpr = false positive rate\n",
    "# tpr = true positive rate\n",
    "\n",
    "plt.plot(fpr, tpr, label='ROC curve (area = %0.2f)' % roc_auc, linewidth=4)\n",
    "plt.plot([0, 1], [0, 1], 'k--', linewidth=4)\n",
    "plt.xlim([-0.05, 1.0])\n",
    "plt.ylim([-0.05, 1.05])\n",
    "plt.xlabel('False Positive Rate', fontsize=15)\n",
    "plt.ylabel('True Positive Rate', fontsize=15)\n",
    "plt.title('Receiver operating characteristic: is Abnormal Sale', fontsize=15)\n",
    "plt.show()"
   ]
  },
  {
   "cell_type": "code",
   "execution_count": null,
   "metadata": {
    "collapsed": true
   },
   "outputs": [],
   "source": []
  }
 ],
 "metadata": {
  "kernelspec": {
   "display_name": "Python 2",
   "language": "python",
   "name": "python2"
  },
  "language_info": {
   "codemirror_mode": {
    "name": "ipython",
    "version": 2
   },
   "file_extension": ".py",
   "mimetype": "text/x-python",
   "name": "python",
   "nbconvert_exporter": "python",
   "pygments_lexer": "ipython2",
   "version": "2.7.13"
  }
 },
 "nbformat": 4,
 "nbformat_minor": 2
}

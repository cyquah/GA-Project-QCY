{
 "cells": [
  {
   "cell_type": "code",
   "execution_count": 171,
   "metadata": {},
   "outputs": [],
   "source": [
    "import pandas as pd\n",
    "import numpy as np\n",
    "import time\n",
    "import nltk\n",
    "import re\n",
    "import pickle\n",
    "\n",
    "from gensim import corpora, models, matutils, similarities\n",
    "from sklearn.feature_extraction.text import CountVectorizer, TfidfVectorizer\n",
    "from collections import defaultdict\n",
    "from textacy.preprocess import preprocess_text\n",
    "from sklearn.feature_extraction.stop_words import ENGLISH_STOP_WORDS\n",
    "from nltk.corpus import stopwords\n",
    "from vaderSentiment.vaderSentiment import SentimentIntensityAnalyzer"
   ]
  },
  {
   "cell_type": "code",
   "execution_count": 172,
   "metadata": {},
   "outputs": [
    {
     "name": "stdout",
     "output_type": "stream",
     "text": [
      "2573\n"
     ]
    },
    {
     "data": {
      "text/html": [
       "<div>\n",
       "<style>\n",
       "    .dataframe thead tr:only-child th {\n",
       "        text-align: right;\n",
       "    }\n",
       "\n",
       "    .dataframe thead th {\n",
       "        text-align: left;\n",
       "    }\n",
       "\n",
       "    .dataframe tbody tr th {\n",
       "        vertical-align: top;\n",
       "    }\n",
       "</style>\n",
       "<table border=\"1\" class=\"dataframe\">\n",
       "  <thead>\n",
       "    <tr style=\"text-align: right;\">\n",
       "      <th></th>\n",
       "      <th>Title</th>\n",
       "      <th>Details</th>\n",
       "      <th>Date</th>\n",
       "      <th>Processed Summary</th>\n",
       "      <th>Processed Detail</th>\n",
       "      <th>Word_count</th>\n",
       "      <th>Summary</th>\n",
       "    </tr>\n",
       "  </thead>\n",
       "  <tbody>\n",
       "    <tr>\n",
       "      <th>0</th>\n",
       "      <td>Great Deals That Reward You When Dining With P...</td>\n",
       "      <td>Singapore might be known for many things, but ...</td>\n",
       "      <td>Oct 31st, 2017</td>\n",
       "      <td>great deal reward dining paradise group</td>\n",
       "      <td>known thing stand colourful scene flavour borr...</td>\n",
       "      <td>503</td>\n",
       "      <td>Others like their Crispy BBQ Honey Pork Bun ($...</td>\n",
       "    </tr>\n",
       "    <tr>\n",
       "      <th>1</th>\n",
       "      <td>10 Exciting Highlights at AccorHotels Food &amp; W...</td>\n",
       "      <td>\\n AccorHotels, the largest and most prestigio...</td>\n",
       "      <td>Oct 31st, 2017</td>\n",
       "      <td>exciting highlight accorhotels wine festival</td>\n",
       "      <td>accorhotels largest prestigious hotel operator...</td>\n",
       "      <td>907</td>\n",
       "      <td>During the festival from 4 to 12 November, mor...</td>\n",
       "    </tr>\n",
       "    <tr>\n",
       "      <th>2</th>\n",
       "      <td>Man Man Unagi – Delicious Unagi that Received ...</td>\n",
       "      <td>Since the release of the Singapore Michelin Gu...</td>\n",
       "      <td>Oct 30th, 2017</td>\n",
       "      <td>man man unagi delicious unagi received bib gou...</td>\n",
       "      <td>release michelin guide bib gourmand awardees q...</td>\n",
       "      <td>362</td>\n",
       "      <td>Each portion features a bed of rice topped wit...</td>\n",
       "    </tr>\n",
       "    <tr>\n",
       "      <th>3</th>\n",
       "      <td>Kopi More – Brewing Traditional Nanyang Kopi W...</td>\n",
       "      <td>Since I first opened my eyes, and heart, to th...</td>\n",
       "      <td>Oct 29th, 2017</td>\n",
       "      <td>kopi brewing traditional nanyang kopi espresso...</td>\n",
       "      <td>opened eye heart world coffee going looking go...</td>\n",
       "      <td>145</td>\n",
       "      <td>Well, he makes traditional Nanyang coffee usin...</td>\n",
       "    </tr>\n",
       "    <tr>\n",
       "      <th>4</th>\n",
       "      <td>11 Finger-Licking-Good Biryanis That You Will ...</td>\n",
       "      <td>In Indian culture, eating with your hands is a...</td>\n",
       "      <td>Oct 28th, 2017</td>\n",
       "      <td>fingerlickinggood biryani love</td>\n",
       "      <td>indian culture eating hand mark respect host s...</td>\n",
       "      <td>694</td>\n",
       "      <td>I liked the generous serving of rice, and robu...</td>\n",
       "    </tr>\n",
       "  </tbody>\n",
       "</table>\n",
       "</div>"
      ],
      "text/plain": [
       "                                               Title  \\\n",
       "0  Great Deals That Reward You When Dining With P...   \n",
       "1  10 Exciting Highlights at AccorHotels Food & W...   \n",
       "2  Man Man Unagi – Delicious Unagi that Received ...   \n",
       "3  Kopi More – Brewing Traditional Nanyang Kopi W...   \n",
       "4  11 Finger-Licking-Good Biryanis That You Will ...   \n",
       "\n",
       "                                             Details            Date  \\\n",
       "0  Singapore might be known for many things, but ...  Oct 31st, 2017   \n",
       "1  \\n AccorHotels, the largest and most prestigio...  Oct 31st, 2017   \n",
       "2  Since the release of the Singapore Michelin Gu...  Oct 30th, 2017   \n",
       "3  Since I first opened my eyes, and heart, to th...  Oct 29th, 2017   \n",
       "4  In Indian culture, eating with your hands is a...  Oct 28th, 2017   \n",
       "\n",
       "                                   Processed Summary  \\\n",
       "0            great deal reward dining paradise group   \n",
       "1       exciting highlight accorhotels wine festival   \n",
       "2  man man unagi delicious unagi received bib gou...   \n",
       "3  kopi brewing traditional nanyang kopi espresso...   \n",
       "4                     fingerlickinggood biryani love   \n",
       "\n",
       "                                    Processed Detail  Word_count  \\\n",
       "0  known thing stand colourful scene flavour borr...         503   \n",
       "1  accorhotels largest prestigious hotel operator...         907   \n",
       "2  release michelin guide bib gourmand awardees q...         362   \n",
       "3  opened eye heart world coffee going looking go...         145   \n",
       "4  indian culture eating hand mark respect host s...         694   \n",
       "\n",
       "                                             Summary  \n",
       "0  Others like their Crispy BBQ Honey Pork Bun ($...  \n",
       "1  During the festival from 4 to 12 November, mor...  \n",
       "2  Each portion features a bed of rice topped wit...  \n",
       "3  Well, he makes traditional Nanyang coffee usin...  \n",
       "4  I liked the generous serving of rice, and robu...  "
      ]
     },
     "execution_count": 172,
     "metadata": {},
     "output_type": "execute_result"
    }
   ],
   "source": [
    "txt = pd.read_pickle('../Data-Source-Foodblogs/Foodblogs/combined_blogs.pickle')\n",
    "print len(txt)\n",
    "txt.head()"
   ]
  },
  {
   "cell_type": "code",
   "execution_count": 173,
   "metadata": {},
   "outputs": [
    {
     "data": {
      "text/plain": [
       "2573"
      ]
     },
     "execution_count": 173,
     "metadata": {},
     "output_type": "execute_result"
    }
   ],
   "source": [
    "txt.drop_duplicates(inplace=True)\n",
    "len(txt)"
   ]
  },
  {
   "cell_type": "code",
   "execution_count": 174,
   "metadata": {
    "collapsed": true
   },
   "outputs": [],
   "source": [
    "document = txt['Processed Detail']\n",
    "doc_summary = txt['Summary']"
   ]
  },
  {
   "cell_type": "code",
   "execution_count": 175,
   "metadata": {
    "collapsed": true,
    "scrolled": true
   },
   "outputs": [],
   "source": [
    "# convert each document into list of tokens \n",
    "# also need to convert each token to unicode rather than having entire list as 1 unicode, else Dictionary cannot process\n",
    "texts = [[token for token in text.split()] for text in document]"
   ]
  },
  {
   "cell_type": "code",
   "execution_count": 176,
   "metadata": {},
   "outputs": [
    {
     "name": "stdout",
     "output_type": "stream",
     "text": [
      "[u'known', u'thing', u'stand', u'colourful', u'scene', u'flavour', u'borrowed', u'global', u'neighbour', u'variety']\n"
     ]
    }
   ],
   "source": [
    "print texts[0][:10]"
   ]
  },
  {
   "cell_type": "code",
   "execution_count": 177,
   "metadata": {},
   "outputs": [
    {
     "name": "stdout",
     "output_type": "stream",
     "text": [
      "fawn 30820\n",
      "nodaiwa 18100\n",
      "gai 5616\n"
     ]
    }
   ],
   "source": [
    "# convert texts to dictionary where every token in texts is indexed\n",
    "dictionary = corpora.Dictionary(texts)\n",
    "\n",
    "# token to id shows the id(index) for each token\n",
    "d = dictionary.token2id\n",
    "for key, value in d.items()[:3]:\n",
    "    print key, value"
   ]
  },
  {
   "cell_type": "code",
   "execution_count": 178,
   "metadata": {},
   "outputs": [
    {
     "name": "stdout",
     "output_type": "stream",
     "text": [
      "[(0, 2), (1, 2), (2, 1), (3, 1), (4, 2), (5, 2), (6, 1), (7, 2), (8, 2), (9, 1)]\n"
     ]
    }
   ],
   "source": [
    "# doc to bag of words (bow) converts the words to its dictionary indices(ids) and their respective counts in each text doc\n",
    "corpus = [dictionary.doc2bow(text) for text in texts]\n",
    "print corpus[0][:10]"
   ]
  },
  {
   "cell_type": "code",
   "execution_count": 179,
   "metadata": {},
   "outputs": [
    {
     "name": "stdout",
     "output_type": "stream",
     "text": [
      "Time taken : 2.25385686556  minutes\n"
     ]
    }
   ],
   "source": [
    "# Set up and run LDA model\n",
    "number_of_topics = 10\n",
    "start = time.time()\n",
    "\n",
    "lda = models.LdaModel(corpus, num_topics=number_of_topics, iterations=1000, passes=5, id2word=dictionary)\n",
    "\n",
    "end = time.time()\n",
    "exe_time = (end - start)/60\n",
    "print 'Time taken :',(exe_time),' minutes'"
   ]
  },
  {
   "cell_type": "code",
   "execution_count": 180,
   "metadata": {
    "collapsed": true
   },
   "outputs": [],
   "source": [
    "# lda model can be saved and loaded \n",
    "# lda.save('foodblog.lda')\n",
    "# models.LdaModel.load('foodblog.lda')"
   ]
  },
  {
   "cell_type": "code",
   "execution_count": 181,
   "metadata": {},
   "outputs": [],
   "source": [
    "# Objective 1 : Identify the topics (trends)\n",
    "topics = lda.print_topics(num_topics=number_of_topics, num_words=7)"
   ]
  },
  {
   "cell_type": "code",
   "execution_count": 182,
   "metadata": {},
   "outputs": [
    {
     "data": {
      "text/plain": [
       "[(5,\n",
       "  u'0.012*\"chicken\" + 0.012*\"rice\" + 0.009*\"sauce\" + 0.007*\"pork\" + 0.007*\"fish\" + 0.007*\"soup\" + 0.007*\"meat\"'),\n",
       " (6,\n",
       "  u'0.013*\"sushi\" + 0.012*\"egg\" + 0.010*\"tart\" + 0.009*\"mooncakes\" + 0.008*\"salted\" + 0.007*\"japan\" + 0.006*\"gelato\"'),\n",
       " (7,\n",
       "  u'0.019*\"coffee\" + 0.016*\"cafe\" + 0.008*\"brunch\" + 0.007*\"taipei\" + 0.006*\"bar\" + 0.004*\"road\" + 0.004*\"burger\"'),\n",
       " (8,\n",
       "  u'0.020*\"restaurant\" + 0.012*\"new\" + 0.011*\"road\" + 0.007*\"menu\" + 0.007*\"cafe\" + 0.006*\"chef\" + 0.005*\"bar\"'),\n",
       " (9,\n",
       "  u'0.014*\"ramen\" + 0.012*\"restaurant\" + 0.010*\"korean\" + 0.008*\"soup\" + 0.007*\"noodle\" + 0.006*\"japanese\" + 0.005*\"stall\"')]"
      ]
     },
     "execution_count": 182,
     "metadata": {},
     "output_type": "execute_result"
    }
   ],
   "source": [
    "topics[5:]"
   ]
  },
  {
   "cell_type": "code",
   "execution_count": 183,
   "metadata": {},
   "outputs": [
    {
     "data": {
      "text/plain": [
       "['restaurant buffet bar lunch kong hong prata',\n",
       " 'cafe coffee thai tea road cake milk',\n",
       " 'crab flavour cheese cake dessert chocolate cream',\n",
       " 'restaurant best world market bangkok airline like',\n",
       " 'tea cake durian cream cheese ice matcha',\n",
       " 'chicken rice sauce pork fish soup meat',\n",
       " 'sushi egg tart mooncakes salted japan gelato',\n",
       " 'coffee cafe brunch taipei bar road burger',\n",
       " 'restaurant new road menu cafe chef bar',\n",
       " 'ramen restaurant korean soup noodle japanese stall']"
      ]
     },
     "execution_count": 183,
     "metadata": {},
     "output_type": "execute_result"
    }
   ],
   "source": [
    "# Extract topic words without the probability\n",
    "topics_str = []\n",
    "for i in topics:\n",
    "    t = re.findall('[a-z]+', str(i))\n",
    "    T = ' '.join(t[1:])\n",
    "    topics_str.append(T)\n",
    "    \n",
    "topics_str"
   ]
  },
  {
   "cell_type": "code",
   "execution_count": 184,
   "metadata": {
    "collapsed": true
   },
   "outputs": [],
   "source": [
    "# Pickle topics_str for web application. Need to set protocol to -1 else load pickle in flask won't work\n",
    "with open('topics_str.pkl', 'wb') as f:\n",
    "    pickle.dump(topics_str, f, -1)\n",
    "# with open('topics_str.pkl', 'rb') as f:\n",
    "#    topics_str = pickle.load(f)"
   ]
  },
  {
   "cell_type": "code",
   "execution_count": 185,
   "metadata": {},
   "outputs": [
    {
     "name": "stdout",
     "output_type": "stream",
     "text": [
      "<class 'gensim.interfaces.TransformedCorpus'>\n",
      "2573\n",
      "[(1, 0.027099208916214874), (5, 0.97131303979359906)]\n"
     ]
    }
   ],
   "source": [
    "# Pick the documents that best matches the selected topics accordingly to their corresponding probabiities\n",
    "\n",
    "# convert to lda transformed corpus. for each doc in lda_corpus, it provides the probability of that doc to the topic,\n",
    "# in descending order of probability - (topic, probability)\n",
    "lda_corpus = lda[corpus]\n",
    "\n",
    "print type(lda[corpus])\n",
    "print len(lda_corpus)\n",
    "print lda_corpus[0]"
   ]
  },
  {
   "cell_type": "code",
   "execution_count": 186,
   "metadata": {},
   "outputs": [
    {
     "name": "stdout",
     "output_type": "stream",
     "text": [
      "0.281618467054\n"
     ]
    }
   ],
   "source": [
    "# Determine the threshold - use the average of topic probability for all the docs\n",
    "# Use the threshold to select desired documents\n",
    "scores = []\n",
    "for doc in lda_corpus:\n",
    "    for topic in doc:\n",
    "        # topic here is a tuple containing the topic and associated probability. topic[1] is the probability\n",
    "        scores.append(topic[1])\n",
    "            \n",
    "threshold = sum(scores)/len(scores)\n",
    "\n",
    "print threshold"
   ]
  },
  {
   "cell_type": "code",
   "execution_count": 187,
   "metadata": {},
   "outputs": [
    {
     "name": "stdout",
     "output_type": "stream",
     "text": [
      "Time taken :  1.14169971943  minutes\n"
     ]
    }
   ],
   "source": [
    "# Following select the documents with sorted probabilities (descending) that are associated with a particular topic\n",
    "start = time.time()\n",
    "\n",
    "Topics = []\n",
    "# loop through the number of topics stated for the lda model\n",
    "for topic in range(number_of_topics):\n",
    "    cluster = []\n",
    "    # link the lda transformed corpus (refer above) to the summary document\n",
    "    for i,j in zip(lda_corpus, doc_summary):\n",
    "        # check if first doc in corpus belongs to the topic specified and that its probability is above threshold\n",
    "        if ((i[0][0] == topic) and (i[0][1] > threshold)):\n",
    "            cluster.append((i[0][1], j))\n",
    "\n",
    "    cluster_sorted = sorted(cluster, key=lambda item: -item[0])\n",
    "\n",
    "    Topics.append(cluster_sorted)\n",
    "    \n",
    "end = time.time()\n",
    "exe_time = (end-start)/60\n",
    "print 'Time taken : ', exe_time, ' minutes'"
   ]
  },
  {
   "cell_type": "code",
   "execution_count": 188,
   "metadata": {
    "collapsed": true
   },
   "outputs": [],
   "source": [
    "# Pickle Topics for web application\n",
    "with open ('Topics.pkl', 'wb') as f:\n",
    "    pickle.dump(Topics, f)"
   ]
  },
  {
   "cell_type": "code",
   "execution_count": 189,
   "metadata": {},
   "outputs": [
    {
     "name": "stdout",
     "output_type": "stream",
     "text": [
      "205\n",
      "184\n",
      "180\n",
      "67\n",
      "1\n",
      "269\n",
      "1\n",
      "10\n",
      "10\n",
      "0\n"
     ]
    }
   ],
   "source": [
    "# Check how how many documents cross the threshold for each topic\n",
    "for i in range(10):\n",
    "    print len(Topics[i])"
   ]
  },
  {
   "cell_type": "code",
   "execution_count": 190,
   "metadata": {},
   "outputs": [
    {
     "name": "stdout",
     "output_type": "stream",
     "text": [
      "Topic 10\n",
      "\n",
      "Keywords :  ramen restaurant korean soup noodle japanese stall\n",
      "\n"
     ]
    }
   ],
   "source": [
    "# print first 5 summaries associated with Topic 9\n",
    "print 'Topic 10' # Topics[9]\n",
    "print\n",
    "print 'Keywords : ', T\n",
    "print\n",
    "try:\n",
    "    for topic in Topics[9][:5]:\n",
    "        # topic is a tuple containing the probability and the summary\n",
    "        print topic[1]\n",
    "        print\n",
    "except:\n",
    "    print 'No snippets found !'"
   ]
  },
  {
   "cell_type": "code",
   "execution_count": 191,
   "metadata": {
    "collapsed": true
   },
   "outputs": [],
   "source": [
    "# Objective 2 : Search for food categories topics"
   ]
  },
  {
   "cell_type": "code",
   "execution_count": 192,
   "metadata": {
    "collapsed": true
   },
   "outputs": [],
   "source": [
    "query = 'korean food'\n",
    "\n",
    "nl = []\n",
    "for item in txt['Summary']:  \n",
    "        if query.lower() in item.lower():\n",
    "            nl.append(item)"
   ]
  },
  {
   "cell_type": "code",
   "execution_count": 193,
   "metadata": {},
   "outputs": [
    {
     "data": {
      "text/plain": [
       "9"
      ]
     },
     "execution_count": 193,
     "metadata": {},
     "output_type": "execute_result"
    }
   ],
   "source": [
    "len(nl)"
   ]
  },
  {
   "cell_type": "code",
   "execution_count": 194,
   "metadata": {},
   "outputs": [
    {
     "name": "stdout",
     "output_type": "stream",
     "text": [
      "Baro Baro's rendition of a Tuna Kimbab won't blow your mind to the ends of the globe, but good enough to keep your Korean food cravings on hold.For the noodles and soup, I'm sure that we all know how it tastes like.After gobbling down like ten chewy rice cakes, it might be a tad spicy for some.There is nothing amazing about this Korean eatery, but I wouldn't mind popping by to enjoy some Kimbab.Baro Baro is having a promotion now - order any set meal and you'll receive a light bulb cooler on the house.\n",
      "\n",
      "While K-Tower's rendition is very likeable, it doesn't scratch the itch of eating traditional Korean pancake.Besides the seafood pancake, the other item with the word \"signature\" in its name is the signature pork rib stew with instant noodles ($16).To quote Mr Fitness, \"Just because they are in the majority doesn't mean they are right.\" I like it because underneath the sweetness, there is a potent taste of soy bean, which is the foundation of many Korean dishes.-Wang Dae Bak Korean Restaurant Written by A.Nathanael Ho. Twins Korean Restaurant at Tanjong Pagar serves fantastic fried chicken and other Korean food.\n",
      "\n",
      ", honestbee FOOD delivery will be partnering up with 41 food merchants to offer signature dishes from notable names such as Poulet, Miam Miam, District 10 and A-One Claypot House at up to 50% off!  Presenting an enticing new promo--HONESTLY SHIOK!--honestbee FOOD is bent on ensuring that everyone is able to dine lavishly in the comfort of their own homes at only a margin of the original price.  Photo Credit: JK Don JK DON JK Don dishes out a wide variety of delicious Japanese and Korean food at affordable prices.\n",
      "\n",
      "Daily: 11am - 10pm 85 REDHILL TEOCHEW FISHBALL NOODLE #B2-39 Plaza SingapuraDaily: 10am - 10pm DAEBAK KOREAN FOOD EXPRESS #B2-44 Plaza SingapuraDaily: 10am - 10pm MUCHOS MEXICAN BAR & RESTAURANT #01-34 Plaza SingapuraDaily: 11am - 10pm OLD CHANG KEE #B2-02 Plaza SingapuraDaily: 11am - 10pm OLD STREET BAK KUT TEH #B2-07 Plaza SingapuraDaily: 11.30am - 10pm PIZZA HUT #B2-01 Plaza SingapuraDaily: 10.30am - 10pm Photo Credit: sapporolionsg RIVE GAUCHE PATISSERIE #B2-57 Plaza SingapuraDaily: 11.30am - 10pm SAKAE TEPPANYAKI #B2-5254 Plaza SingapuraDaily: 11am - 10pm Photo Credit: plazasingapura SEORAE #02-01 Plaza SingapuraDaily: 24 hours SUKI-YA #04-6367 Plaza Singapura\n",
      "\n",
      "After we made our choices, Minji prepared the dishes in the kitchen and the food was served in less than 10 minutes.While we were still enjoying the starters, Minji emerged from the kitchen again with two main dishes - tteokbokki and Korean instant noodles with egg.While chatting with Minji over the meal, she said, \"I get very angry when I eat outside and the rice cake is 20-over dollars but the food they serve is so pathetic.\" To serve authentic Korean food at affordable prices was what gave her the idea of joining Dine Inn as a host.\n",
      "\n"
     ]
    }
   ],
   "source": [
    "# print out search results\n",
    "try:\n",
    "    for i in range(5):\n",
    "        print nl[i]\n",
    "        print\n",
    "except:\n",
    "    print 'No snippets found ! explore another category'"
   ]
  },
  {
   "cell_type": "code",
   "execution_count": 195,
   "metadata": {
    "collapsed": true
   },
   "outputs": [],
   "source": [
    "# Objective 3 : Sentiment Analysis on eateries"
   ]
  },
  {
   "cell_type": "code",
   "execution_count": 196,
   "metadata": {
    "collapsed": true
   },
   "outputs": [],
   "source": [
    "query = \"bak kut teh\"\n",
    "\n",
    "nl = []\n",
    "for item in txt['Summary']:  \n",
    "        if query.lower() in item.lower():\n",
    "            nl.append(item)"
   ]
  },
  {
   "cell_type": "code",
   "execution_count": 197,
   "metadata": {},
   "outputs": [
    {
     "data": {
      "text/plain": [
       "21"
      ]
     },
     "execution_count": 197,
     "metadata": {},
     "output_type": "execute_result"
    }
   ],
   "source": [
    "len(nl)"
   ]
  },
  {
   "cell_type": "code",
   "execution_count": 198,
   "metadata": {
    "collapsed": true
   },
   "outputs": [],
   "source": [
    "# Load Vader sentiment analyzer\n",
    "analyzer = SentimentIntensityAnalyzer()"
   ]
  },
  {
   "cell_type": "code",
   "execution_count": 199,
   "metadata": {},
   "outputs": [
    {
     "name": "stdout",
     "output_type": "stream",
     "text": [
      "CPU times: user 4 µs, sys: 1 µs, total: 5 µs\n",
      "Wall time: 9.06 µs\n"
     ]
    }
   ],
   "source": [
    "# Use the compound scores with specified threshold to segregate into positive, negative and neutral groups\n",
    "% time\n",
    "sent_threshold = 0.7\n",
    "try:\n",
    "    pos = []\n",
    "    neu = []\n",
    "    neg = []\n",
    "    for i in range(len(nl)):\n",
    "        vs = analyzer.polarity_scores(nl[i])\n",
    "        \n",
    "        if vs['compound'] > sent_threshold:\n",
    "            pos.append((vs['compound'], nl[i]))\n",
    "        elif vs['compound'] < -sent_threshold:\n",
    "            neg.append((vs['compound'], nl[i]))\n",
    "        else:\n",
    "            neu.append((vs['compound'], nl[i]))\n",
    "        \n",
    "except:\n",
    "    print 'No snippets found ! explore another category'      "
   ]
  },
  {
   "cell_type": "code",
   "execution_count": 200,
   "metadata": {},
   "outputs": [
    {
     "name": "stdout",
     "output_type": "stream",
     "text": [
      "76.19 0.0 23.81\n"
     ]
    }
   ],
   "source": [
    "# print the percentage of each sentiment group\n",
    "\n",
    "pos_percent = round(float(len(pos)) / float(len(nl)) * 100, 2)\n",
    "neg_percent = round(float(len(neg)) / float(len(nl)) * 100, 2)\n",
    "neu_percent = round(float(len(neu)) / float(len(nl)) * 100, 2)\n",
    "\n",
    "print pos_percent, neg_percent, neu_percent"
   ]
  },
  {
   "cell_type": "code",
   "execution_count": 201,
   "metadata": {},
   "outputs": [
    {
     "name": "stdout",
     "output_type": "stream",
     "text": [
      "Positive Sentiment score :  0.7463\n",
      "Expanding from their Balestier and Hotel Boss outlets, Founder Bak Kut Teh has set up a new branch in Bugis (conveniently located just across the street from Bugis Junction).Look forward to mouthwatering new dishes, which are exclusive to the Bugis outlet, to complete your BKT experience!The Steamed Cod Fish ($18.80) is the most eye-catching dish on the menu which comprises around 3 dozen options.The Steamed Minced Meat ($6.80) is another classic Chinese dish that is easy to prepare, but not easy to perfect.Founder BKT's new outlet is situated in such a convenient location, so there's nothing separating you and this quintessential Chinese dish.\n",
      "\n",
      "Positive Sentiment score :  0.9184\n",
      "However, if we compare across eateries that serve Klang style bak kut teh in Singapore, Leong Kee is the undisputed winner!The Bak Kut Teh ($19.80 for 3 pax) comes with pork ribs, liver, stomach, intestine, beancurd skin, and vegetables, soaked in a broth that has a strong and pleasant herbal aroma.The Dry Bak Kut Teh ($10) contains pieces of pork ribs cooked with dark soya sauce, enhanced with dried chilli.Open till late in the vibrant Geylang district, Leong Kee (Klang) Bak Kut Teh is one of our favourite supper spots to go to whenever we crave a bowl of comforting soup, especially on cold nights.\n",
      "\n",
      "Positive Sentiment score :  0.8016\n",
      "The U-Mian Dry ($6.50) has its noodles separated from the ingredients and comes with a blob of xiang chun sauce, a type sauce made with Chinese toon leaves.*Note that it contains garlic* While the soup may taste a little bland for some, rest assured that you're getting in your five a day with the amount of chinese spinach (amaranth) in the bowl!Its surprising to find a vegetarian version of bak kut teh, as the name translates directly into 'meat bone tea'.I would recommend if you're looking for a healthier choice, but you're better off getting some non-vegetarian bak kut teh if you're craving for something heavier.\n",
      "\n",
      "Positive Sentiment score :  0.8013\n",
      "He manages 7 stalls within this coffeeshop, and we were drawn to one of his latest creations - BeefLamb Kut Teh. Yusof hopes to whet appetites by offering this Halal version of locals' favourite \"Bak Kut Teh\" dish.To be honest, I'm not a huge fan of mutton, but Padi Emas' Lamb Kut Teh has no gamey taste.Each portion of Lamb Kut Teh costs $7, and is best savoured on a cool rainy day.Padi Emas Coffeeshop also serves sambal stingray and other seafood choices.Address: #01-441, Blk 214 Jurong East Street 21, Singapore 600214 Opening Hours: Claypot & Kut Teh Stall 12pm to 11pm.\n",
      "\n",
      "Positive Sentiment score :  0.9804\n",
      "There are great Singapore food bloggers that will reveal the best places to go for your Char Kway Teow or your Bak Kut Teh. But if you're after restaurant reviews that offer an impartial and independent opinion about the entire eating experience then you need to delve deeper.A lot of food bloggers write about meals they've enjoyed as part of a 'media event' where the restaurant is closed to the public so that VIPs can enjoy dedicated service in an environment fully prepared to wow them with every bell and whistle to hand.\n",
      "\n"
     ]
    }
   ],
   "source": [
    "# Positive sentiment group\n",
    "try:\n",
    "    for i,j in pos[:5]:\n",
    "        print 'Positive Sentiment score : ',i\n",
    "        print j\n",
    "        print\n",
    "except:\n",
    "    pass"
   ]
  },
  {
   "cell_type": "code",
   "execution_count": 202,
   "metadata": {
    "collapsed": true
   },
   "outputs": [],
   "source": [
    "# Negative sentiment group\n",
    "try:\n",
    "    for i,j in neg[:5]:\n",
    "        print 'Negative Sentiment score : ',i\n",
    "        print j\n",
    "        print\n",
    "except:\n",
    "    pass"
   ]
  },
  {
   "cell_type": "code",
   "execution_count": 203,
   "metadata": {},
   "outputs": [
    {
     "name": "stdout",
     "output_type": "stream",
     "text": [
      "Neutral Sentiment score :  0.0\n",
      "Daily: 11am - 10pm BBQ EXPRESS 53 Ang Mo Kio Avenue 3,Sat & Sun: 7am - 11pm BURGER KING 53 Ang Mo Kio Avenue 3,Mon to Fri: 9am - 10.30pm CHOCOEXPRESS 53 Ang Mo Kio Avenue 3,Daily: 10.30am - 10pm COFFEE KAKI 53 Ang Mo Kio Avenue 3,Daily: 8am - 11pm MR BEAN 53 Ang Mo Kio Avenue 3,Daily: 8.30am - 10pm NEW MANLEE BAK KUT TEH 53 Ang Mo Kio Avenue 3,Sat & Sun: 8am - 10.30pm THE COFFEE BEAN & TEA LEAF 53 Ang Mo Kio Avenue 3,\n",
      "\n",
      "Neutral Sentiment score :  0.6369\n",
      "Daily: 11am - 10pm 85 REDHILL TEOCHEW FISHBALL NOODLE #B2-39 Plaza SingapuraDaily: 10am - 10pm DAEBAK KOREAN FOOD EXPRESS #B2-44 Plaza SingapuraDaily: 10am - 10pm MUCHOS MEXICAN BAR & RESTAURANT #01-34 Plaza SingapuraDaily: 11am - 10pm OLD CHANG KEE #B2-02 Plaza SingapuraDaily: 11am - 10pm OLD STREET BAK KUT TEH #B2-07 Plaza SingapuraDaily: 11.30am - 10pm PIZZA HUT #B2-01 Plaza SingapuraDaily: 10.30am - 10pm Photo Credit: sapporolionsg RIVE GAUCHE PATISSERIE #B2-57 Plaza SingapuraDaily: 11.30am - 10pm SAKAE TEPPANYAKI #B2-5254 Plaza SingapuraDaily: 11am - 10pm Photo Credit: plazasingapura SEORAE #02-01 Plaza SingapuraDaily: 24 hours SUKI-YA #04-6367 Plaza Singapura\n",
      "\n",
      "Neutral Sentiment score :  0.5994\n",
      "Shreds of tau pok and slices of fish cake were mixed into the slightly chewy noodles that didn't clump together.My dry order of their Fish Ball Mee Tai Mak ($2.80) value meal came with two fish balls, fish cake slices, lettuce, and was garnished with fried shallots.This is the fourth outlet by Dong Dong Food Express which sells claypot dishes like Claypot Fragrant Rice with Smoked Duck ($5$8$10) and Herbal Bak Kut Teh ($4.50) that can be ordered with shabu shabu pork belly.\n",
      "\n",
      "Neutral Sentiment score :  0.697\n",
      "I took a sip of the soup and was glad that despite its light and clean taste, it didn't lack in umami flavour and was not too peppery.I liked that the sauce was savoury without tasting too salty or greasy.Bak kut teh isn't complete without you tiao (dough fritters), so we paired our soup with a side of Fried Dough ($2).A quick dip into soup softened them slightly and added some of the bak kut teh's flavours to it.Bakbak's Pork Rib Soup with Sea Cucumber is my favourite main dish but it's quite pricey, and perhaps should be shared between two.\n",
      "\n",
      "Neutral Sentiment score :  0.6124\n",
      "It serves up Singapore food and zhi char fare with a modern and playful take, all at affordable everyday prices.Some of the dishes you can expect from Jiakpalang include Bak Kut Teh Jelly with You Tiao ($9), Charcoal Katarosu Pork Collar ($16), Yuzu Lala Clams ($12), Salted Egg Soft Shell Crab ($12), 'Ang Ji Kao' Stout-Braised Beef Cheek ($17), and Low's unique take on the iconic Milo Dinosaur ($8).Overall, I think that Jiakpalang is promising, but it needs some fine tuning here and there, especially in terms of its identity and the naming of some of the dishes.\n",
      "\n"
     ]
    }
   ],
   "source": [
    "# Neutral sentiment group\n",
    "try:\n",
    "    for i,j in neu[:5]:\n",
    "        print 'Neutral Sentiment score : ',i\n",
    "        print j\n",
    "        print\n",
    "except:\n",
    "    pass"
   ]
  },
  {
   "cell_type": "code",
   "execution_count": null,
   "metadata": {
    "collapsed": true
   },
   "outputs": [],
   "source": []
  }
 ],
 "metadata": {
  "kernelspec": {
   "display_name": "Python 2",
   "language": "python",
   "name": "python2"
  },
  "language_info": {
   "codemirror_mode": {
    "name": "ipython",
    "version": 2
   },
   "file_extension": ".py",
   "mimetype": "text/x-python",
   "name": "python",
   "nbconvert_exporter": "python",
   "pygments_lexer": "ipython2",
   "version": "2.7.13"
  }
 },
 "nbformat": 4,
 "nbformat_minor": 2
}

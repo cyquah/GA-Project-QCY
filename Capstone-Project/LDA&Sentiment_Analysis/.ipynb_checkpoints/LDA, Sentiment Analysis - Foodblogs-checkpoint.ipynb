{
 "cells": [
  {
   "cell_type": "code",
   "execution_count": 423,
   "metadata": {
    "collapsed": true
   },
   "outputs": [],
   "source": [
    "import pandas as pd\n",
    "import numpy as np\n",
    "import time\n",
    "import nltk\n",
    "\n",
    "from gensim import corpora, models, matutils, similarities\n",
    "from sklearn.feature_extraction.text import CountVectorizer, TfidfVectorizer\n",
    "from collections import defaultdict\n",
    "from textacy.preprocess import preprocess_text\n",
    "from sklearn.feature_extraction.stop_words import ENGLISH_STOP_WORDS\n",
    "from nltk.corpus import stopwords\n",
    "from vaderSentiment.vaderSentiment import SentimentIntensityAnalyzer"
   ]
  },
  {
   "cell_type": "code",
   "execution_count": 372,
   "metadata": {},
   "outputs": [
    {
     "name": "stdout",
     "output_type": "stream",
     "text": [
      "2573\n"
     ]
    },
    {
     "data": {
      "text/html": [
       "<div>\n",
       "<style>\n",
       "    .dataframe thead tr:only-child th {\n",
       "        text-align: right;\n",
       "    }\n",
       "\n",
       "    .dataframe thead th {\n",
       "        text-align: left;\n",
       "    }\n",
       "\n",
       "    .dataframe tbody tr th {\n",
       "        vertical-align: top;\n",
       "    }\n",
       "</style>\n",
       "<table border=\"1\" class=\"dataframe\">\n",
       "  <thead>\n",
       "    <tr style=\"text-align: right;\">\n",
       "      <th></th>\n",
       "      <th>Title</th>\n",
       "      <th>Details</th>\n",
       "      <th>Date</th>\n",
       "      <th>Processed Summary</th>\n",
       "      <th>Processed Detail</th>\n",
       "      <th>Word_count</th>\n",
       "      <th>Summary</th>\n",
       "    </tr>\n",
       "  </thead>\n",
       "  <tbody>\n",
       "    <tr>\n",
       "      <th>0</th>\n",
       "      <td>Great Deals That Reward You When Dining With P...</td>\n",
       "      <td>Singapore might be known for many things, but ...</td>\n",
       "      <td>Oct 31st, 2017</td>\n",
       "      <td>great deal reward dining paradise group</td>\n",
       "      <td>known thing stand colourful scene flavour borr...</td>\n",
       "      <td>504</td>\n",
       "      <td>Others like their Crispy BBQ Honey Pork Bun ($...</td>\n",
       "    </tr>\n",
       "    <tr>\n",
       "      <th>1</th>\n",
       "      <td>10 Exciting Highlights at AccorHotels Food &amp; W...</td>\n",
       "      <td>\\n AccorHotels, the largest and most prestigio...</td>\n",
       "      <td>Oct 31st, 2017</td>\n",
       "      <td>exciting highlight accorhotels wine festival</td>\n",
       "      <td>accorhotels largest prestigious hotel operator...</td>\n",
       "      <td>920</td>\n",
       "      <td>During the festival from 4 to 12 November, mor...</td>\n",
       "    </tr>\n",
       "    <tr>\n",
       "      <th>2</th>\n",
       "      <td>Man Man Unagi – Delicious Unagi that Received ...</td>\n",
       "      <td>Since the release of the Singapore Michelin Gu...</td>\n",
       "      <td>Oct 30th, 2017</td>\n",
       "      <td>man man unagi delicious unagi received bib gou...</td>\n",
       "      <td>release michelin guide bib gourmand awardees q...</td>\n",
       "      <td>366</td>\n",
       "      <td>Each portion features a bed of rice topped wit...</td>\n",
       "    </tr>\n",
       "    <tr>\n",
       "      <th>3</th>\n",
       "      <td>Kopi More – Brewing Traditional Nanyang Kopi W...</td>\n",
       "      <td>Since I first opened my eyes, and heart, to th...</td>\n",
       "      <td>Oct 29th, 2017</td>\n",
       "      <td>kopi brewing traditional nanyang kopi espresso...</td>\n",
       "      <td>opened eye heart world coffee going looking go...</td>\n",
       "      <td>147</td>\n",
       "      <td>Well, he makes traditional Nanyang coffee usin...</td>\n",
       "    </tr>\n",
       "    <tr>\n",
       "      <th>4</th>\n",
       "      <td>11 Finger-Licking-Good Biryanis That You Will ...</td>\n",
       "      <td>In Indian culture, eating with your hands is a...</td>\n",
       "      <td>Oct 28th, 2017</td>\n",
       "      <td>fingerlickinggood biryani love</td>\n",
       "      <td>indian culture eating hand mark respect host s...</td>\n",
       "      <td>697</td>\n",
       "      <td>I liked the generous serving of rice, and robu...</td>\n",
       "    </tr>\n",
       "  </tbody>\n",
       "</table>\n",
       "</div>"
      ],
      "text/plain": [
       "                                               Title  \\\n",
       "0  Great Deals That Reward You When Dining With P...   \n",
       "1  10 Exciting Highlights at AccorHotels Food & W...   \n",
       "2  Man Man Unagi – Delicious Unagi that Received ...   \n",
       "3  Kopi More – Brewing Traditional Nanyang Kopi W...   \n",
       "4  11 Finger-Licking-Good Biryanis That You Will ...   \n",
       "\n",
       "                                             Details            Date  \\\n",
       "0  Singapore might be known for many things, but ...  Oct 31st, 2017   \n",
       "1  \\n AccorHotels, the largest and most prestigio...  Oct 31st, 2017   \n",
       "2  Since the release of the Singapore Michelin Gu...  Oct 30th, 2017   \n",
       "3  Since I first opened my eyes, and heart, to th...  Oct 29th, 2017   \n",
       "4  In Indian culture, eating with your hands is a...  Oct 28th, 2017   \n",
       "\n",
       "                                   Processed Summary  \\\n",
       "0            great deal reward dining paradise group   \n",
       "1       exciting highlight accorhotels wine festival   \n",
       "2  man man unagi delicious unagi received bib gou...   \n",
       "3  kopi brewing traditional nanyang kopi espresso...   \n",
       "4                     fingerlickinggood biryani love   \n",
       "\n",
       "                                    Processed Detail  Word_count  \\\n",
       "0  known thing stand colourful scene flavour borr...         504   \n",
       "1  accorhotels largest prestigious hotel operator...         920   \n",
       "2  release michelin guide bib gourmand awardees q...         366   \n",
       "3  opened eye heart world coffee going looking go...         147   \n",
       "4  indian culture eating hand mark respect host s...         697   \n",
       "\n",
       "                                             Summary  \n",
       "0  Others like their Crispy BBQ Honey Pork Bun ($...  \n",
       "1  During the festival from 4 to 12 November, mor...  \n",
       "2  Each portion features a bed of rice topped wit...  \n",
       "3  Well, he makes traditional Nanyang coffee usin...  \n",
       "4  I liked the generous serving of rice, and robu...  "
      ]
     },
     "execution_count": 372,
     "metadata": {},
     "output_type": "execute_result"
    }
   ],
   "source": [
    "txt = pd.read_pickle('combined_blogs.pickle')\n",
    "print len(txt)\n",
    "txt.head()"
   ]
  },
  {
   "cell_type": "code",
   "execution_count": 373,
   "metadata": {},
   "outputs": [
    {
     "data": {
      "text/plain": [
       "2573"
      ]
     },
     "execution_count": 373,
     "metadata": {},
     "output_type": "execute_result"
    }
   ],
   "source": [
    "txt.drop_duplicates(inplace=True)\n",
    "len(txt)"
   ]
  },
  {
   "cell_type": "code",
   "execution_count": 374,
   "metadata": {
    "collapsed": true
   },
   "outputs": [],
   "source": [
    "document = txt['Processed Detail']\n",
    "doc_summary = txt['Summary']"
   ]
  },
  {
   "cell_type": "code",
   "execution_count": 375,
   "metadata": {
    "scrolled": true
   },
   "outputs": [
    {
     "name": "stdout",
     "output_type": "stream",
     "text": [
      "2573\n"
     ]
    }
   ],
   "source": [
    "# need to convert each token to unicode rather than having entire list as 1 unicode, else Dictionary cannot process\n",
    "texts = [[token for token in text.split()] for text in document]\n",
    "print len(texts)"
   ]
  },
  {
   "cell_type": "code",
   "execution_count": 376,
   "metadata": {},
   "outputs": [
    {
     "name": "stdout",
     "output_type": "stream",
     "text": [
      "[u'known', u'thing', u'stand', u'colourful', u'scene', u'flavour', u'borrowed', u'global', u'neighbour', u'variety', u'option', u'packed', u'little', u'red', u'dot', u'adding', u'diversity', u'paradise', u'group', u'arm', u'chinese', u'culinary', u'concept', u'canton', u'paradise', u'classic', u'cantonese', u'fare', u'nourishing', u'soup', u'base', u'beauty', u'pot', u'explore', u'familiar', u'taste', u'oriental', u'cooking', u'colourful', u'variant', u'member', u'paradise', u'gourmet', u'reward', u'pgr', u'loyalty', u'scheme', u'reward', u'member', u'dine', u'participating', u'paradise', u'group', u'restaurant', u'acquainted', u'paradise', u'group', u'offer', u'know', u'right', u'pgr', u'slew', u'memberexclusive', u'discount', u'celebrate', u'6th', u'anniversary', u'making', u'attractive', u'dine', u'exciting', u'host', u'restaurant', u'whats', u'member', u'pay', u'maybank', u'card', u'receive', u'worth', u'rebate', u'canton', u'paradise', u'reckon', u'better', u'way', u'start', u'spend', u'lazy', u'afternoon', u'warming', u'tummy', u'piping', u'hot', u'dim', u'sum', u'canton', u'paradise', u'serf', u'hong', u'kong', u'classic', u'egg', u'tart', u'siew', u'mai', u'milk', u'tea', u'steal', u'heart', u'like', u'steamed', u'molten', u'salted', u'egg', u'yolk', u'custard', u'piggy', u'bun', u'3pcs', u'taste', u'good', u'look', u'liked', u'bbq', u'combination', u'variety', u'bbq', u'pork', u'belly', u'honey', u'sauce', u'crackling', u'pork', u'belly', u'crispy', u'roasted', u'irish', u'duck', u'generous', u'cut', u'perfect', u'meattofat', u'ratio', u'like', u'crispy', u'bbq', u'honey', u'pork', u'bun', u'3pcs', u'silky', u'smooth', u'handmade', u'meatball', u'congee', u'signature', u'canton', u'jumbo', u'prawn', u'wanton', u'noodle', u'4pcs', u'missed', u'familyfriendly', u'menu', u'make', u'canton', u'paradise', u'great', u'loved', u'one', u'pgr', u'member', u'enjoy', u'dim', u'sum', u'congee', u'noodle', u'excluding', u'noodle', u'roast', u'item', u'weekday', u'5pm', u'seafood', u'paradise', u'indulge', u'seafood', u'feast', u'seafood', u'paradise', u'worry', u'getting', u'hand', u'dirty', u'safely', u'wrestle', u'piece', u'juicy', u'meat', u'signature', u'creamy', u'butter', u'crab', u'seasonal', u'price', u'singaporestyle', u'chilli', u'crab', u'seasonal', u'price', u'collateral', u'damage', u'plastic', u'glove', u'bib', u'provided', u'miss', u'quintessential', u'mantou', u'pc', u'soak', u'bit', u'milkybuttery', u'sauce', u'prize', u'guessing', u'favourite', u'crab', u'remember', u'save', u'space', u'crispy', u'kang', u'kong', u'topped', u'cuttlefish', u'homemade', u'seafood', u'sauce', u'spicy', u'kick', u'tasty', u'sauce', u'perfect', u'complement', u'crunchy', u'leaf', u'tender', u'cuttlefish', u'chuck', u'confident', u'win', u'vegetablehaters', u'paradise', u'classic', u'flavour', u'little', u'closer', u'home', u'head', u'paradise', u'classic', u'nanyangstyle', u'dish', u'seek', u'comfort', u'doubleboiled', u'chicken', u'soup', u'chinese', u'herb', u'soothing', u'herbal', u'elixir', u'thats', u'great', u'body', u'main', u'stewed', u'silver', u'needle', u'noodle', u'salted', u'fish', u'claypot', u'disappoint', u'bright', u'citrus', u'note', u'salted', u'fish', u'lime', u'sauce', u'medley', u'texture', u'ingredient', u'suspended', u'luscious', u'sauce', u'lenu', u'noodle', u'preferred', u'choice', u'carbs', u'lenu', u'noodle', u'bar', u'satisfy', u'craving', u'chef', u'recommended', u'spicy', u'japanese', u'scallop', u'dry', u'noodle', u'hot', u'favourite', u'fiery', u'punch', u'tangy', u'sauce', u'coming', u'prefer', u'soupbased', u'noodle', u'delighted', u'lenus', u'signature', u'broth', u'collagenrich', u'pork', u'bone', u'broth', u'hearty', u'braised', u'beef', u'broth', u'try', u'braised', u'pork', u'rib', u'scallion', u'noodle', u'chopsticktender', u'marinated', u'meat', u'lipsmacking', u'soup', u'base', u'braised', u'beef', u'combination', u'noodle', u'premium', u'beef', u'tendon', u'shank', u'quality', u'ingredient', u'bowl', u'make', u'worth', u'buck', u'better', u'lenu', u'happy', u'teatime', u'promotion', u'5pm', u'weekday', u'noodle', u'gst', u'promotion', u'nonpgr', u'member', u'enjoy', u'beauty', u'pot', u'dining', u'beauty', u'pot', u'everyones', u'musteat', u'list', u'known', u'beauty', u'collagen', u'broth', u'work', u'go', u'concocting', u'rich', u'milky', u'potion', u'filled', u'collagen', u'looking', u'fine', u'youthful', u'limit', u'soup', u'base', u'quart', u'pot', u'enjoy', u'wholesome', u'broth', u'spicy', u'nourishing', u'broth', u'pork', u'bone', u'cooling', u'coconut', u'broth', u'herbal', u'drunken', u'chicken', u'broth', u'mild', u'sweetness', u'coconut', u'broth', u'make', u'great', u'base', u'live', u'drunken', u'prawn', u'300g', u'vegetable', u'want', u'save', u'spicy', u'nourishing', u'soup', u'fried', u'beancurd', u'skin', u'soak', u'tonguenumbing', u'soup', u'specialty', u'meat', u'platter', u'feature', u'premium', u'cut', u'beef', u'kurobuta', u'pork', u'best', u'result', u'set', u'seafood', u'item', u'signature', u'handmade', u'fish', u'tofu', u'pc', u'ebiko', u'prawn', u'paste', u'sliced', u'toman', u'fish', u'usdnumberusdnumber', u'collagen', u'broth', u'arent', u'pgr', u'member', u'sign', u'oct', u'receive', u'evouchers', u'minimum', u'spending', u'minimum', u'spending', u'effectively', u'half', u'price', u'head', u'paradise', u'group', u'outlet', u'lenu', u'paradisegpcom', u'pgr', u'member', u'remember', u'pay', u'maybank', u'debit', u'card', u'earn', u'rebate', u'form', u'pusd']\n"
     ]
    }
   ],
   "source": [
    "print texts[0]"
   ]
  },
  {
   "cell_type": "code",
   "execution_count": 377,
   "metadata": {},
   "outputs": [
    {
     "name": "stdout",
     "output_type": "stream",
     "text": [
      "<class 'gensim.corpora.dictionary.Dictionary'>\n",
      "<type 'dict'>\n",
      "37987\n",
      "fawn 31504\n",
      "nodaiwa 18387\n"
     ]
    }
   ],
   "source": [
    "# Convert texts to dictionary where every word in texts is indexed\n",
    "dictionary = corpora.Dictionary(texts)\n",
    "\n",
    "# token to id shows the id(index) for each token\n",
    "d = dictionary.token2id\n",
    "print type(dictionary)\n",
    "print type (d)\n",
    "print len(d)\n",
    "for key, value in d.items()[:2]:\n",
    "    print key, value"
   ]
  },
  {
   "cell_type": "code",
   "execution_count": 378,
   "metadata": {},
   "outputs": [
    {
     "name": "stdout",
     "output_type": "stream",
     "text": [
      "<type 'list'>\n",
      "2573\n",
      "[(0, 2), (1, 2), (2, 1), (3, 1), (4, 2), (5, 2), (6, 1), (7, 2), (8, 2), (9, 1), (10, 1), (11, 1), (12, 1), (13, 1), (14, 1), (15, 2), (16, 1), (17, 1), (18, 1), (19, 1), (20, 2), (21, 1), (22, 1), (23, 2), (24, 4), (25, 1), (26, 1), (27, 1), (28, 1), (29, 2), (30, 1), (31, 2), (32, 2), (33, 1), (34, 1), (35, 1), (36, 2), (37, 1), (38, 7), (39, 2), (40, 1), (41, 2), (42, 1), (43, 1), (44, 2), (45, 1), (46, 2), (47, 1), (48, 1), (49, 1), (50, 13), (51, 1), (52, 1), (53, 1), (54, 1), (55, 1), (56, 3), (57, 1), (58, 1), (59, 1), (60, 1), (61, 1), (62, 1), (63, 1), (64, 2), (65, 1), (66, 1), (67, 1), (68, 2), (69, 1), (70, 1), (71, 1), (72, 1), (73, 1), (74, 1), (75, 3), (76, 1), (77, 2), (78, 1), (79, 1), (80, 1), (81, 1), (82, 1), (83, 1), (84, 1), (85, 2), (86, 1), (87, 3), (88, 1), (89, 7), (90, 1), (91, 1), (92, 1), (93, 4), (94, 1), (95, 3), (96, 1), (97, 1), (98, 1), (99, 7), (100, 1), (101, 1), (102, 1), (103, 2), (104, 1), (105, 1), (106, 1), (107, 1), (108, 1), (109, 1), (110, 6), (111, 3), (112, 2), (113, 1), (114, 1), (115, 1), (116, 1), (117, 1), (118, 1), (119, 1), (120, 2), (121, 1), (122, 1), (123, 1), (124, 1), (125, 1), (126, 1), (127, 1), (128, 1), (129, 1), (130, 1), (131, 1), (132, 4), (133, 1), (134, 1), (135, 1), (136, 1), (137, 1), (138, 2), (139, 2), (140, 1), (141, 1), (142, 3), (143, 1), (144, 1), (145, 2), (146, 1), (147, 1), (148, 1), (149, 1), (150, 1), (151, 4), (152, 1), (153, 2), (154, 2), (155, 1), (156, 1), (157, 1), (158, 2), (159, 1), (160, 1), (161, 1), (162, 4), (163, 3), (164, 1), (165, 1), (166, 1), (167, 1), (168, 1), (169, 1), (170, 5), (171, 1), (172, 1), (173, 1), (174, 1), (175, 1), (176, 2), (177, 1), (178, 2), (179, 2), (180, 4), (181, 1), (182, 1), (183, 4), (184, 1), (185, 1), (186, 1), (187, 1), (188, 1), (189, 1), (190, 1), (191, 1), (192, 1), (193, 1), (194, 10), (195, 3), (196, 1), (197, 1), (198, 4), (199, 1), (200, 1), (201, 1), (202, 1), (203, 1), (204, 1), (205, 1), (206, 1), (207, 1), (208, 2), (209, 2), (210, 1), (211, 1), (212, 1), (213, 1), (214, 2), (215, 1), (216, 1), (217, 2), (218, 1), (219, 1), (220, 2), (221, 1), (222, 1), (223, 2), (224, 1), (225, 1), (226, 1), (227, 1), (228, 2), (229, 1), (230, 1), (231, 1), (232, 1), (233, 1), (234, 1), (235, 1), (236, 5), (237, 3), (238, 1), (239, 1), (240, 1), (241, 1), (242, 2), (243, 3), (244, 1), (245, 2), (246, 1), (247, 1), (248, 2), (249, 1), (250, 2), (251, 1), (252, 1), (253, 1), (254, 1), (255, 1), (256, 1), (257, 1), (258, 2), (259, 1), (260, 1), (261, 1), (262, 1), (263, 1), (264, 1), (265, 1), (266, 1), (267, 1), (268, 2), (269, 2), (270, 1), (271, 3), (272, 1), (273, 1), (274, 1), (275, 1), (276, 5), (277, 1), (278, 1), (279, 1), (280, 1), (281, 1), (282, 1), (283, 1), (284, 1), (285, 1), (286, 1), (287, 1), (288, 1), (289, 1), (290, 1), (291, 1), (292, 4), (293, 1), (294, 2), (295, 2), (296, 3), (297, 1), (298, 1), (299, 1), (300, 1), (301, 1), (302, 4), (303, 1), (304, 1), (305, 1), (306, 1), (307, 1), (308, 2), (309, 1), (310, 1), (311, 1), (312, 1), (313, 11), (314, 1), (315, 1), (316, 1), (317, 2), (318, 1), (319, 3), (320, 1), (321, 1), (322, 2), (323, 1), (324, 1), (325, 1), (326, 2), (327, 1), (328, 1)]\n"
     ]
    }
   ],
   "source": [
    "# doc to bag of words (bow) converts the words to its dictionary indices(ids) and their respective counts in the doc\n",
    "corpus = [dictionary.doc2bow(text) for text in texts]\n",
    "print type(corpus)\n",
    "print len(corpus)\n",
    "print corpus[0]"
   ]
  },
  {
   "cell_type": "code",
   "execution_count": 381,
   "metadata": {},
   "outputs": [
    {
     "name": "stdout",
     "output_type": "stream",
     "text": [
      "Time taken : 2.30750739972  minutes\n"
     ]
    }
   ],
   "source": [
    "# Set up and run LDA model\n",
    "number_of_topics = 10\n",
    "start = time.time()\n",
    "\n",
    "lda = models.LdaModel(corpus, num_topics=number_of_topics, iterations=1000, passes=5, id2word=dictionary)\n",
    "\n",
    "end = time.time()\n",
    "exe_time = (end - start)/60\n",
    "print 'Time taken :',(exe_time),' minutes'"
   ]
  },
  {
   "cell_type": "code",
   "execution_count": 382,
   "metadata": {
    "collapsed": true
   },
   "outputs": [],
   "source": [
    "# Identify the topics\n",
    "topics = lda.print_topics(num_topics=number_of_topics, num_words=10)"
   ]
  },
  {
   "cell_type": "code",
   "execution_count": 722,
   "metadata": {},
   "outputs": [
    {
     "data": {
      "text/plain": [
       "[(0,\n",
       "  u'0.018*\"rice\" + 0.018*\"chicken\" + 0.009*\"sauce\" + 0.008*\"fried\" + 0.007*\"bowl\" + 0.007*\"korean\" + 0.005*\"like\" + 0.005*\"pork\" + 0.005*\"meat\" + 0.005*\"spicy\"'),\n",
       " (1,\n",
       "  u'0.017*\"tokyo\" + 0.014*\"japanese\" + 0.012*\"tendon\" + 0.012*\"japan\" + 0.011*\"tempura\" + 0.008*\"matcha\" + 0.008*\"shinjuku\" + 0.006*\"bowl\" + 0.006*\"entry\" + 0.006*\"rice\"'),\n",
       " (2,\n",
       "  u'0.019*\"noodle\" + 0.015*\"soup\" + 0.013*\"fish\" + 0.012*\"stall\" + 0.010*\"mee\" + 0.009*\"prawn\" + 0.008*\"pork\" + 0.007*\"sauce\" + 0.007*\"egg\" + 0.006*\"road\"'),\n",
       " (3,\n",
       "  u'0.011*\"taipei\" + 0.007*\"restaurant\" + 0.006*\"road\" + 0.006*\"fu\" + 0.005*\"market\" + 0.004*\"city\" + 0.004*\"taiwan\" + 0.004*\"shi\" + 0.003*\"rice\" + 0.003*\"xiao\"'),\n",
       " (4,\n",
       "  u'0.028*\"cafe\" + 0.022*\"coffee\" + 0.010*\"road\" + 0.008*\"tea\" + 0.007*\"cake\" + 0.006*\"new\" + 0.006*\"dessert\" + 0.006*\"cream\" + 0.005*\"matcha\" + 0.004*\"drink\"')]"
      ]
     },
     "execution_count": 722,
     "metadata": {},
     "output_type": "execute_result"
    }
   ],
   "source": [
    "topics[:5]"
   ]
  },
  {
   "cell_type": "code",
   "execution_count": 402,
   "metadata": {},
   "outputs": [
    {
     "data": {
      "text/plain": [
       "(4,\n",
       " u'0.028*\"cafe\" + 0.022*\"coffee\" + 0.010*\"road\" + 0.008*\"tea\" + 0.007*\"cake\" + 0.006*\"new\" + 0.006*\"dessert\" + 0.006*\"cream\" + 0.005*\"matcha\" + 0.004*\"drink\"')"
      ]
     },
     "execution_count": 402,
     "metadata": {},
     "output_type": "execute_result"
    }
   ],
   "source": [
    "topics[4]"
   ]
  },
  {
   "cell_type": "code",
   "execution_count": 403,
   "metadata": {},
   "outputs": [
    {
     "data": {
      "text/plain": [
       "['u',\n",
       " 'cafe',\n",
       " 'coffee',\n",
       " 'road',\n",
       " 'tea',\n",
       " 'cake',\n",
       " 'new',\n",
       " 'dessert',\n",
       " 'cream',\n",
       " 'matcha',\n",
       " 'drink']"
      ]
     },
     "execution_count": 403,
     "metadata": {},
     "output_type": "execute_result"
    }
   ],
   "source": [
    "# Extract topic words without the probability\n",
    "t = re.findall('[a-z]+', str(topics[4]))\n",
    "t"
   ]
  },
  {
   "cell_type": "code",
   "execution_count": 404,
   "metadata": {},
   "outputs": [
    {
     "data": {
      "text/plain": [
       "'cafe coffee road tea cake new dessert cream matcha drink'"
      ]
     },
     "execution_count": 404,
     "metadata": {},
     "output_type": "execute_result"
    }
   ],
   "source": [
    "T = ' '.join(t[1:])\n",
    "T"
   ]
  },
  {
   "cell_type": "code",
   "execution_count": 399,
   "metadata": {},
   "outputs": [
    {
     "name": "stdout",
     "output_type": "stream",
     "text": [
      "<class 'gensim.models.ldamodel.LdaModel'>\n",
      "<class 'gensim.interfaces.TransformedCorpus'>\n",
      "2573\n",
      "[(2, 0.6484826224665613), (5, 0.067623978329643161), (9, 0.27298788171893718)]\n"
     ]
    }
   ],
   "source": [
    "# Pick the document that best matches the selected topics\n",
    "\n",
    "print type(lda)\n",
    "print type(lda[corpus])\n",
    "\n",
    "# convert to lda transformed corpus. for each doc in lda_corpus, it provides the probability of that doc to the topic,\n",
    "# in descending order of probability\n",
    "lda_corpus = lda[corpus]\n",
    "\n",
    "print len(lda_corpus)\n",
    "print lda_corpus[0]"
   ]
  },
  {
   "cell_type": "code",
   "execution_count": 389,
   "metadata": {},
   "outputs": [
    {
     "name": "stdout",
     "output_type": "stream",
     "text": [
      "0.264977445014\n"
     ]
    }
   ],
   "source": [
    "# Determine the threshold - use the average of topic probability for all the docs\n",
    "\n",
    "scores = []\n",
    "for doc in lda_corpus:\n",
    "    for topic in doc:\n",
    "        # topic is a tuple containing the topic and associated probability. topic[1] is the probability\n",
    "        scores.append(topic[1])\n",
    "            \n",
    "threshold = sum(scores)/len(scores)\n",
    "\n",
    "print threshold"
   ]
  },
  {
   "cell_type": "code",
   "execution_count": 64,
   "metadata": {
    "collapsed": true
   },
   "outputs": [],
   "source": [
    "# the cluster zips the lda_corpus with the original document(docs list) and check if probability of 1st item is\n",
    "# greater than threshold\n",
    "\n",
    "cluster = [(i[0][1],j) for i,j in zip(lda_corpus,document) if i[0][1] > threshold]"
   ]
  },
  {
   "cell_type": "code",
   "execution_count": 390,
   "metadata": {},
   "outputs": [
    {
     "name": "stdout",
     "output_type": "stream",
     "text": [
      "Time taken :  1.23882204692  minutes\n"
     ]
    }
   ],
   "source": [
    "# Following determine the documents with sorted probabilities (descending) that are associated with a particular topic\n",
    "start = time.time()\n",
    "\n",
    "Topics = []\n",
    "# loop through the number of topics stated for the lda model\n",
    "for topic in range(number_of_topics):\n",
    "    cluster = []\n",
    "    # link the lda transformed corpus (refer above) to the text document\n",
    "    for i,j in zip(lda_corpus, doc_summary):\n",
    "        # check if first doc in corpus belongs to the topic specified and that its probability is above threshold\n",
    "        if ((i[0][0] == topic) and (i[0][1] > threshold)):\n",
    "            cluster.append((i[0][1], j))\n",
    "\n",
    "    cluster_sorted = sorted(cluster, key=lambda item: -item[0])\n",
    "\n",
    "    Topics.append(cluster_sorted)\n",
    "    \n",
    "end = time.time()\n",
    "exe_time = (end-start)/60\n",
    "print 'Time taken : ', exe_time, ' minutes'"
   ]
  },
  {
   "cell_type": "code",
   "execution_count": 391,
   "metadata": {},
   "outputs": [
    {
     "data": {
      "text/plain": [
       "10"
      ]
     },
     "execution_count": 391,
     "metadata": {},
     "output_type": "execute_result"
    }
   ],
   "source": [
    "len(Topics)"
   ]
  },
  {
   "cell_type": "code",
   "execution_count": 400,
   "metadata": {},
   "outputs": [
    {
     "name": "stdout",
     "output_type": "stream",
     "text": [
      "687\n",
      "44\n",
      "126\n",
      "59\n",
      "118\n",
      "112\n",
      "9\n",
      "13\n",
      "1\n",
      "6\n"
     ]
    }
   ],
   "source": [
    "for i in range(10):\n",
    "    print len(Topics[i])"
   ]
  },
  {
   "cell_type": "code",
   "execution_count": 406,
   "metadata": {},
   "outputs": [
    {
     "name": "stdout",
     "output_type": "stream",
     "text": [
      "Topic 4\n",
      "\n",
      "Keywords :  cafe coffee road tea cake new dessert cream matcha drink\n",
      "\n",
      "Feed your tea obsession with matcha, houjicha and genmaicha drinks when you visit The Matcha Project.Nothing makes a matcha fan happier than a cup of aromatic Matcha Latte (S$5.50) which makes for a great morning drink before work starts.If a cold drink is what you are looking for to cool off from the heat, their Iced Genmaicha Latte (S$6) is a decent choice.It came with the right balance of cold, creamy milk and rich genmaicha powder which resulted in a robust flavour.Besides matcha, the cafe also offers Cold Brew Soft Serve as well.\n",
      "\n",
      "is unsurprising that we have found yet another cafe that has been building its reputation on great coffee--The Koop Roaster & Cafe.  The Koop Roaster & Cafe is a place that will instantly remind you of home.  There is also the second level where you can have your coffee and cakes as you watch the locals go about their daily lives.Fancy a cup of latte from The Koop Roaster & Cafe?The cafe also has a tea time menu which includes your choice of coffee or tea and snack.\n",
      "\n",
      "Monument Lifestyle is a part retail store, part cafe.I liked how the entire space was done up, in a stylish yet cosy setting.The lifestyle store was at the front, while the cafe blended unobtrusively at the back.Kind of like your Los Angeles neighbourhood cafe.Monument Lifestyle75 Duxton Road, Singapore 089534 (8 -10 min from Tanjong Pagar MRT)Ninja Bowl (Duxton Road)Alchemist (Tanjong Pagar)Matchaya (Tanjong Pagar)Japan Rail Cafe (Tanjong Pagar) * Follow @DanielFoodDiary on Facebook and Instagram for more food news, food videos and travel highl\n",
      "\n",
      "My first experience with Dutch Colony was at PasarBella a few years ago, when Keropokman told me of this \"very good coffee you must have\" hidden within the market.The Dutch Colony Coffee Co. team is working on the savouries at the moment, and we shall be looking forward to an expanded menu soon.Dutch Colony Coffee Co. UE Square, 81 Clemenceau Avenue #01-21 Singapore 239917Opening Hours: 7:30am - 5:30pm (Mon - Fri), 8am - 4pm (Sat - Sun) Other branches:Opening Hours: 9am - 5pm (Mon - Thurs), 9am - 7pm (Fri - Sun) 113 Frankel Avenue, Singapore 458230\n",
      "\n",
      "wn for its pretty floral cupcakes, gorgeous customised cakes and stunning dessert tables, Creme Maison Bakery is our go-to bakery for every occasion.  The new Creme Maison Bakery at 30 Tai Seng Street will be a much bigger space.Fans of Creme Maison Bakery will find it a lot easier to pick up their customised cakes as the building has a multi-story carpark and it is only a short walk from Tai Seng MRT.Creme Maison Bakery's iconic Unicorn and Mermaid cupcake collection are customised and they require reservations in advance.\n",
      "\n"
     ]
    }
   ],
   "source": [
    "# print first 5 summaries associated with Topic 4\n",
    "print 'Topic 4' # Topics[3]\n",
    "print\n",
    "print 'Keywords : ', T\n",
    "print\n",
    "for topic in Topics[4][:5]:\n",
    "    # topic is a tuple containing the probability and the summary\n",
    "    print topic[1]\n",
    "    print"
   ]
  },
  {
   "cell_type": "code",
   "execution_count": 154,
   "metadata": {
    "collapsed": true
   },
   "outputs": [],
   "source": [
    "# Search for food categories topics"
   ]
  },
  {
   "cell_type": "code",
   "execution_count": 716,
   "metadata": {
    "collapsed": true
   },
   "outputs": [],
   "source": [
    "query = 'korean food'\n",
    "\n",
    "nl = []\n",
    "for item in txt['Summary']:  \n",
    "        if query.lower() in item.lower():\n",
    "            nl.append(item)"
   ]
  },
  {
   "cell_type": "code",
   "execution_count": 717,
   "metadata": {},
   "outputs": [
    {
     "data": {
      "text/plain": [
       "9"
      ]
     },
     "execution_count": 717,
     "metadata": {},
     "output_type": "execute_result"
    }
   ],
   "source": [
    "len(nl)"
   ]
  },
  {
   "cell_type": "code",
   "execution_count": 718,
   "metadata": {},
   "outputs": [
    {
     "name": "stdout",
     "output_type": "stream",
     "text": [
      "Baro Baro's rendition of a Tuna Kimbab won't blow your mind to the ends of the globe, but good enough to keep your Korean food cravings on hold.For the noodles and soup, I'm sure that we all know how it tastes like.After gobbling down like ten chewy rice cakes, it might be a tad spicy for some.There is nothing amazing about this Korean eatery, but I wouldn't mind popping by to enjoy some Kimbab.Baro Baro is having a promotion now - order any set meal and you'll receive a light bulb cooler on the house.\n",
      "\n",
      "While K-Tower's rendition is very likeable, it doesn't scratch the itch of eating traditional Korean pancake.Besides the seafood pancake, the other item with the word \"signature\" in its name is the signature pork rib stew with instant noodles ($16).To quote Mr Fitness, \"Just because they are in the majority doesn't mean they are right.\" I like it because underneath the sweetness, there is a potent taste of soy bean, which is the foundation of many Korean dishes.-Wang Dae Bak Korean Restaurant Written by A.Nathanael Ho. Twins Korean Restaurant at Tanjong Pagar serves fantastic fried chicken and other Korean food.\n",
      "\n",
      "  Presenting an enticing new promo--HONESTLY SHIOK!--honestbee FOOD is bent on ensuring that everyone is able to dine lavishly in the comfort of their own homes at only a margin of the original price.Photo Credit: Poulet POULET From classic French roast chicken served with a homemade cranberry sauce and double mustard to other rustic bites, Poulet's sumptuous French-inspired menu will make your mouth water before you even take your first bite!  Photo Credit: JK Don JK DON JK Don dishes out a wide variety of delicious Japanese and Korean food at affordable prices.\n",
      "\n",
      "Daily: 11am - 10pm 85 REDHILL TEOCHEW FISHBALL NOODLE #B2-39 Plaza SingapuraDaily: 10am - 10pm DAEBAK KOREAN FOOD EXPRESS #B2-44 Plaza SingapuraDaily: 10am - 10pm MUCHOS MEXICAN BAR & RESTAURANT #01-34 Plaza SingapuraDaily: 11am - 10pm OLD CHANG KEE #B2-02 Plaza SingapuraDaily: 11am - 10pm OLD STREET BAK KUT TEH #B2-07 Plaza SingapuraDaily: 10.30am - 10pm Photo Credit: sapporolionsg RIVE GAUCHE PATISSERIE #B2-57 Plaza SingapuraDaily: 11.30am - 10pm SAKAE TEPPANYAKI #B2-5254 Plaza SingapuraDaily: 11am - 10pm Photo Credit: plazasingapura SEORAE #02-01 Plaza SingapuraDaily: 8am - 9.30pm SKINNY PIZZA #03-7983 Plaza SingapuraDaily: 24 hours SUKI-YA #04-6367 Plaza Singapura\n",
      "\n",
      "After we made our choices, Minji prepared the dishes in the kitchen and the food was served in less than 10 minutes.While we were still enjoying the starters, Minji emerged from the kitchen again with two main dishes - tteokbokki and Korean instant noodles with egg.While chatting with Minji over the meal, she said, \"I get very angry when I eat outside and the rice cake is 20-over dollars but the food they serve is so pathetic.\" To serve authentic Korean food at affordable prices was what gave her the idea of joining Dine Inn as a host.\n",
      "\n"
     ]
    }
   ],
   "source": [
    "try:\n",
    "    for i in range(5):\n",
    "        print nl[i]\n",
    "        print\n",
    "except:\n",
    "    print 'No snippets found ! explore another category'"
   ]
  },
  {
   "cell_type": "code",
   "execution_count": null,
   "metadata": {
    "collapsed": true
   },
   "outputs": [],
   "source": [
    "# Sentiment Analysis on eateries"
   ]
  },
  {
   "cell_type": "code",
   "execution_count": 710,
   "metadata": {
    "collapsed": true
   },
   "outputs": [],
   "source": [
    "query = \"bak kut teh\"\n",
    "\n",
    "nl = []\n",
    "for item in txt['Summary']:  \n",
    "        if query.lower() in item.lower():\n",
    "            nl.append(item)"
   ]
  },
  {
   "cell_type": "code",
   "execution_count": 711,
   "metadata": {},
   "outputs": [
    {
     "data": {
      "text/plain": [
       "21"
      ]
     },
     "execution_count": 711,
     "metadata": {},
     "output_type": "execute_result"
    }
   ],
   "source": [
    "len(nl)"
   ]
  },
  {
   "cell_type": "code",
   "execution_count": 712,
   "metadata": {
    "collapsed": true
   },
   "outputs": [],
   "source": [
    "analyzer = SentimentIntensityAnalyzer()"
   ]
  },
  {
   "cell_type": "code",
   "execution_count": 713,
   "metadata": {
    "collapsed": true
   },
   "outputs": [],
   "source": [
    "try:\n",
    "    pos = []\n",
    "    neu = []\n",
    "    neg = []\n",
    "    for i in range(len(nl)):\n",
    "        vs = analyzer.polarity_scores(nl[i])\n",
    "        \n",
    "        if vs['compound'] > 0.7:\n",
    "            pos.append((vs['compound'], nl[i]))\n",
    "        elif vs['compound'] < -0.7:\n",
    "            neg.append((vs['compound'], nl[i]))\n",
    "        else:\n",
    "            neu.append((vs['compound'], nl[i]))\n",
    "        \n",
    "except:\n",
    "    print 'No snippets found ! explore another category'\n",
    "        "
   ]
  },
  {
   "cell_type": "code",
   "execution_count": 714,
   "metadata": {},
   "outputs": [
    {
     "name": "stdout",
     "output_type": "stream",
     "text": [
      "76.19 0.0 23.81\n"
     ]
    }
   ],
   "source": [
    "pos_percent = round(float(len(pos)) / float(len(nl)) * 100, 2)\n",
    "neg_percent = round(float(len(neg)) / float(len(nl)) * 100, 2)\n",
    "neu_percent = round(float(len(neu)) / float(len(nl)) * 100, 2)\n",
    "\n",
    "print pos_percent, neg_percent, neu_percent"
   ]
  },
  {
   "cell_type": "code",
   "execution_count": 715,
   "metadata": {},
   "outputs": [
    {
     "name": "stdout",
     "output_type": "stream",
     "text": [
      "Positive Sentiment score :  0.7463\n",
      "Expanding from their Balestier and Hotel Boss outlets, Founder Bak Kut Teh has set up a new branch in Bugis (conveniently located just across the street from Bugis Junction).Look forward to mouthwatering new dishes, which are exclusive to the Bugis outlet, to complete your BKT experience!The Steamed Cod Fish ($18.80) is the most eye-catching dish on the menu which comprises around 3 dozen options.The Steamed Minced Meat ($6.80) is another classic Chinese dish that is easy to prepare, but not easy to perfect.Founder BKT's new outlet is situated in such a convenient location, so there's nothing separating you and this quintessential Chinese dish.\n",
      "\n",
      "Positive Sentiment score :  0.9184\n",
      "However, if we compare across eateries that serve Klang style bak kut teh in Singapore, Leong Kee is the undisputed winner!The Bak Kut Teh ($19.80 for 3 pax) comes with pork ribs, liver, stomach, intestine, beancurd skin, and vegetables, soaked in a broth that has a strong and pleasant herbal aroma.The Dry Bak Kut Teh ($10) contains pieces of pork ribs cooked with dark soya sauce, enhanced with dried chilli.Open till late in the vibrant Geylang district, Leong Kee (Klang) Bak Kut Teh is one of our favourite supper spots to go to whenever we crave a bowl of comforting soup, especially on cold nights.\n",
      "\n",
      "Positive Sentiment score :  0.8016\n",
      "The U-Mian Dry ($6.50) has its noodles separated from the ingredients and comes with a blob of xiang chun sauce, a type sauce made with Chinese toon leaves.*Note that it contains garlic* While the soup may taste a little bland for some, rest assured that you're getting in your five a day with the amount of chinese spinach (amaranth) in the bowl!Its surprising to find a vegetarian version of bak kut teh, as the name translates directly into 'meat bone tea'.I would recommend if you're looking for a healthier choice, but you're better off getting some non-vegetarian bak kut teh if you're craving for something heavier.\n",
      "\n",
      "Positive Sentiment score :  0.8013\n",
      "He manages 7 stalls within this coffeeshop, and we were drawn to one of his latest creations - BeefLamb Kut Teh. Yusof hopes to whet appetites by offering this Halal version of locals' favourite \"Bak Kut Teh\" dish.To be honest, I'm not a huge fan of mutton, but Padi Emas' Lamb Kut Teh has no gamey taste.Each portion of Lamb Kut Teh costs $7, and is best savoured on a cool rainy day.Padi Emas Coffeeshop also serves sambal stingray and other seafood choices.Address: #01-441, Blk 214 Jurong East Street 21, Singapore 600214 Opening Hours: Claypot & Kut Teh Stall 12pm to 11pm.\n",
      "\n",
      "Positive Sentiment score :  0.9804\n",
      "There are great Singapore food bloggers that will reveal the best places to go for your Char Kway Teow or your Bak Kut Teh. But if you're after restaurant reviews that offer an impartial and independent opinion about the entire eating experience then you need to delve deeper.A lot of food bloggers write about meals they've enjoyed as part of a 'media event' where the restaurant is closed to the public so that VIPs can enjoy dedicated service in an environment fully prepared to wow them with every bell and whistle to hand.\n",
      "\n"
     ]
    }
   ],
   "source": [
    "try:\n",
    "    for i,j in pos[:5]:\n",
    "        print 'Positive Sentiment score : ',i\n",
    "        print j\n",
    "        print\n",
    "except:\n",
    "    pass"
   ]
  },
  {
   "cell_type": "code",
   "execution_count": 719,
   "metadata": {
    "collapsed": true
   },
   "outputs": [],
   "source": [
    "try:\n",
    "    for i,j in neg[:5]:\n",
    "        print 'Negative Sentiment score : ',i\n",
    "        print j\n",
    "        print\n",
    "except:\n",
    "    pass"
   ]
  },
  {
   "cell_type": "code",
   "execution_count": 720,
   "metadata": {},
   "outputs": [
    {
     "name": "stdout",
     "output_type": "stream",
     "text": [
      "Neutral Sentiment score :  0.0\n",
      "Daily: 11am - 10pm BBQ EXPRESS 53 Ang Mo Kio Avenue 3,Sat & Sun: 7am - 11pm BURGER KING 53 Ang Mo Kio Avenue 3,Mon to Fri: 9am - 10.30pm CHOCOEXPRESS 53 Ang Mo Kio Avenue 3,Daily: 10.30am - 10pm COFFEE KAKI 53 Ang Mo Kio Avenue 3,Daily: 8am - 11pm MR BEAN 53 Ang Mo Kio Avenue 3,Daily: 8.30am - 10pm NEW MANLEE BAK KUT TEH 53 Ang Mo Kio Avenue 3,Sat & Sun: 8am - 10.30pm THE COFFEE BEAN & TEA LEAF 53 Ang Mo Kio Avenue 3,\n",
      "\n",
      "Neutral Sentiment score :  0.6369\n",
      "Daily: 11am - 10pm 85 REDHILL TEOCHEW FISHBALL NOODLE #B2-39 Plaza SingapuraDaily: 10am - 10pm DAEBAK KOREAN FOOD EXPRESS #B2-44 Plaza SingapuraDaily: 10am - 10pm MUCHOS MEXICAN BAR & RESTAURANT #01-34 Plaza SingapuraDaily: 11am - 10pm OLD CHANG KEE #B2-02 Plaza SingapuraDaily: 11am - 10pm OLD STREET BAK KUT TEH #B2-07 Plaza SingapuraDaily: 10.30am - 10pm Photo Credit: sapporolionsg RIVE GAUCHE PATISSERIE #B2-57 Plaza SingapuraDaily: 11.30am - 10pm SAKAE TEPPANYAKI #B2-5254 Plaza SingapuraDaily: 11am - 10pm Photo Credit: plazasingapura SEORAE #02-01 Plaza SingapuraDaily: 8am - 9.30pm SKINNY PIZZA #03-7983 Plaza SingapuraDaily: 24 hours SUKI-YA #04-6367 Plaza Singapura\n",
      "\n",
      "Neutral Sentiment score :  0.5994\n",
      "Shreds of tau pok and slices of fish cake were mixed into the slightly chewy noodles that didn't clump together.My dry order of their Fish Ball Mee Tai Mak ($2.80) value meal came with two fish balls, fish cake slices, lettuce, and was garnished with fried shallots.This is the fourth outlet by Dong Dong Food Express which sells claypot dishes like Claypot Fragrant Rice with Smoked Duck ($5$8$10) and Herbal Bak Kut Teh ($4.50) that can be ordered with shabu shabu pork belly.\n",
      "\n",
      "Neutral Sentiment score :  0.697\n",
      "I took a sip of the soup and was glad that despite its light and clean taste, it didn't lack in umami flavour and was not too peppery.I liked that the sauce was savoury without tasting too salty or greasy.Bak kut teh isn't complete without you tiao (dough fritters), so we paired our soup with a side of Fried Dough ($2).A quick dip into soup softened them slightly and added some of the bak kut teh's flavours to it.Bakbak's Pork Rib Soup with Sea Cucumber is my favourite main dish but it's quite pricey, and perhaps should be shared between two.\n",
      "\n",
      "Neutral Sentiment score :  0.6124\n",
      "It serves up Singapore food and zhi char fare with a modern and playful take, all at affordable everyday prices.Some of the dishes you can expect from Jiakpalang include Bak Kut Teh Jelly with You Tiao ($9), Charcoal Katarosu Pork Collar ($16), Yuzu Lala Clams ($12), Salted Egg Soft Shell Crab ($12), 'Ang Ji Kao' Stout-Braised Beef Cheek ($17), and Low's unique take on the iconic Milo Dinosaur ($8).Overall, I think that Jiakpalang is promising, but it needs some fine tuning here and there, especially in terms of its identity and the naming of some of the dishes.\n",
      "\n"
     ]
    }
   ],
   "source": [
    "try:\n",
    "    for i,j in neu[:5]:\n",
    "        print 'Neutral Sentiment score : ',i\n",
    "        print j\n",
    "        print\n",
    "except:\n",
    "    pass"
   ]
  },
  {
   "cell_type": "code",
   "execution_count": null,
   "metadata": {
    "collapsed": true
   },
   "outputs": [],
   "source": []
  },
  {
   "cell_type": "code",
   "execution_count": 316,
   "metadata": {
    "collapsed": true
   },
   "outputs": [],
   "source": [
    "stoplist = set(stopwords.words('english') + \\\n",
    "               ['number',\"singapore\", \"food\", \"im\", \"street\", \n",
    "                'porn','watch', 'video', 'centre', '...',\n",
    "                'eat', 'day', 'time', 'cdataadsbygoogle', 'windowadsbygoogle',\n",
    "                'wa', 'ha', 'come', 'place', 'dish', 'bring', 'think', 'quite','located',\n",
    "                'month', 'went', 'probably', 'am', 'pm', 'say', 'said','including','year','item',\n",
    "                'youre', 'sure', 'dont', 'came','really', 'got', 'thing', 'address', 'photo',\n",
    "                'credit', 'opening', 'hour',\n",
    "               'number', 'adsbygoogle', 'cdata', 'susdnumber', 'hour', 'tel', 'website', 'usdnumber', 'numbernumber', \n",
    "                'nearest', 'station', 'october', 'usd', '=', '||', '<', '>', 'push', 'number30am', 'number30pm', \n",
    "                'number00am', 'number00pm', 'mon', 'tue', 'wed', 'thur', 'fri', '10am', '10pm', '11am', '11pm', \n",
    "                'facebook', 'instagram', 'travel', 'highlight', 'news', 'video', 'reviewed', 'unless', 'stated', \n",
    "               'danielfooddiary', 'misstamchiakcom', 'follow', 'update', 'simply', 'comment', 'community', 'let', 'help',\n",
    "               'additional', 'info', 'phone', 'url', 'anonymous', 'visit', 'paid', 'there', 'thanks', 'build', 'daniel',\n",
    "               'diary', 'overall', 'rating', 'featured', '3pm', '6pm', 'sat', 'sun', 'ordinary', 'patron', 'blog', \n",
    "                'review', 'verify', 'advance', 'eatbooksg', 'summary', 'pro', 'nathanael', 'written', 'ho', \n",
    "               'numbernumbernumber'] \\\n",
    "                 + list(ENGLISH_STOP_WORDS))"
   ]
  },
  {
   "cell_type": "code",
   "execution_count": null,
   "metadata": {
    "collapsed": true
   },
   "outputs": [],
   "source": [
    "# Trying out lda first and selecting doc based on highest prob - not much difference\n",
    "query = 'nasi lemak'\n",
    "\n",
    "nl = []\n",
    "for item in txt['Summary']:  \n",
    "        if query.lower() in item.lower():\n",
    "                       \n",
    "            clean = preprocess_text(item, fix_unicode=True, lowercase=True, transliterate=True, \n",
    "                                                no_numbers=True, no_urls=True, no_emails=True, no_phone_numbers=True, \n",
    "                                                no_currency_symbols=True, no_punct=True, no_accents=True)\n",
    "            Tokens = nltk.word_tokenize(clean)\n",
    "            t = [tok for tok in Tokens if tok not in stoplist]\n",
    "            clean_item = ' '.join(t)\n",
    "            \n",
    "            nl.append((item, clean_item))"
   ]
  },
  {
   "cell_type": "code",
   "execution_count": 320,
   "metadata": {},
   "outputs": [
    {
     "name": "stdout",
     "output_type": "stream",
     "text": [
      "52\n"
     ]
    }
   ],
   "source": [
    "# need to convert each token to unicode rather than having entire list as 1 unicode, else Dictionary cannot process\n",
    "strs = [[token for token in clean_text.split()] for text, clean_text in nl]\n",
    "print len(strs)"
   ]
  },
  {
   "cell_type": "code",
   "execution_count": 321,
   "metadata": {
    "collapsed": true
   },
   "outputs": [],
   "source": [
    "dictionaryS = corpora.Dictionary(strs)\n",
    "\n",
    "dic = dictionaryS.token2id\n",
    "\n",
    "corpusS = [dictionaryS.doc2bow(text) for text in strs]"
   ]
  },
  {
   "cell_type": "code",
   "execution_count": 322,
   "metadata": {},
   "outputs": [
    {
     "name": "stdout",
     "output_type": "stream",
     "text": [
      "Time taken : 1.90482902527  seconds\n"
     ]
    }
   ],
   "source": [
    "num_of_topics = 3\n",
    "start = time.time()\n",
    "\n",
    "lda = models.LdaModel(corpusS, num_topics=num_of_topics, iterations=1000, passes=5, id2word=dictionaryS)\n",
    "\n",
    "end = time.time()\n",
    "exe_time = (end - start)\n",
    "print 'Time taken :',(exe_time),' seconds'"
   ]
  },
  {
   "cell_type": "code",
   "execution_count": 323,
   "metadata": {},
   "outputs": [
    {
     "data": {
      "text/plain": [
       "[(0,\n",
       "  u'0.024*\"nasi\" + 0.023*\"lemak\" + 0.013*\"chicken\" + 0.010*\"rice\" + 0.008*\"fried\" + 0.007*\"hours\" + 0.007*\"sambal\" + 0.005*\"dishes\" + 0.004*\"egg\" + 0.004*\"beef\"'),\n",
       " (1,\n",
       "  u'0.019*\"nasi\" + 0.016*\"lemak\" + 0.013*\"chicken\" + 0.011*\"rice\" + 0.009*\"coconut\" + 0.009*\"sambal\" + 0.008*\"fried\" + 0.007*\"egg\" + 0.005*\"hours\" + 0.005*\"fragrant\"'),\n",
       " (2,\n",
       "  u'0.027*\"lemak\" + 0.026*\"nasi\" + 0.011*\"fried\" + 0.007*\"rice\" + 0.007*\"chicken\" + 0.006*\"coconut\" + 0.006*\"stall\" + 0.005*\"good\" + 0.004*\"egg\" + 0.004*\"stalls\"')]"
      ]
     },
     "execution_count": 323,
     "metadata": {},
     "output_type": "execute_result"
    }
   ],
   "source": [
    "topicsS = lda.print_topics(num_topics=num_of_topics, num_words=10)\n",
    "topicsS"
   ]
  },
  {
   "cell_type": "code",
   "execution_count": 324,
   "metadata": {
    "collapsed": true
   },
   "outputs": [],
   "source": [
    "lda_corpusS = lda[corpusS]"
   ]
  },
  {
   "cell_type": "code",
   "execution_count": 325,
   "metadata": {},
   "outputs": [
    {
     "name": "stdout",
     "output_type": "stream",
     "text": [
      "0.98697153125\n"
     ]
    }
   ],
   "source": [
    "scores = []\n",
    "for doc in lda_corpusS:\n",
    "    for topic in doc:\n",
    "        # topic is a tuple containing the topic and associated probability. topic[1] is the probability\n",
    "        scores.append(topic[1])\n",
    "            \n",
    "thresholdS = sum(scores)/len(scores)\n",
    "\n",
    "print thresholdS"
   ]
  },
  {
   "cell_type": "code",
   "execution_count": 332,
   "metadata": {},
   "outputs": [
    {
     "data": {
      "text/plain": [
       "[u'originated from surabaya, indonesia, the nasi rawon is essentially rice served with indonesian beef black soup.to determine whether a plate of nasi lemak is good, we scrutinise the rice.here, the rice in their nasi lemak ($3.50) exudes a subtle coconut aroma.accompanying the rice is a portion of crispy fried chicken ($1.50/pc), ikan kuning, egg, as well as sambal chilli.here are a couple of nasi padang dishes to try when you visit.the ayam merah ($3 - $3.50) which sees tender chicken meat coated with a sweet and tangy sauce, is a must-try too.',\n",
       " u\"launched slightly over a year ago, wonderfull nasi lemak is run by 26-year-old lois er.if you've been keeping up with singapore food festival, you might remember lois as 1 of the 9 pairs of hawkers and chefs from open stoves 2017.lois told me that the recipes of all the food items that the stall serves came from her dad.eunice (left), lois's younger sister, is also following in her sister's footsteps as she readies herself to head their second stall which is opening in yishun park food centre this month!if you've got a bigger appetite, feel free to add more items to your nasi lemak.\"]"
      ]
     },
     "execution_count": 332,
     "metadata": {},
     "output_type": "execute_result"
    }
   ],
   "source": [
    "NL = [txt for txt,clean_txt in nl]\n",
    "NL[:2]"
   ]
  },
  {
   "cell_type": "code",
   "execution_count": 358,
   "metadata": {},
   "outputs": [
    {
     "name": "stdout",
     "output_type": "stream",
     "text": [
      "Time taken :  0.107795953751  seconds\n"
     ]
    }
   ],
   "source": [
    "start = time.time()\n",
    "\n",
    "NL = [txt for txt,clean_txt in nl]\n",
    "\n",
    "TopicsS = []\n",
    "# loop through the number of topics stated for the lda model\n",
    "for topic in range(num_of_topics):\n",
    "    cluster = []\n",
    "    # link the lda transformed corpus (refer above) to the nl summary document\n",
    "    for i,j in zip(lda_corpusS, NL):\n",
    "        # check if first doc in corpus belongs to the topic specified and that its probability is above threshold\n",
    "        if ((i[0][0] == topic) and (i[0][1] > thresholdS)):\n",
    "            cluster.append((i[0][1], j))\n",
    "\n",
    "    cluster_sorted = sorted(cluster, key=lambda item: -item[0])\n",
    "\n",
    "    TopicsS.append(cluster_sorted)\n",
    "    \n",
    "end = time.time()\n",
    "exe_time = (end-start)\n",
    "print 'Time taken : ', exe_time, ' seconds'"
   ]
  },
  {
   "cell_type": "code",
   "execution_count": 356,
   "metadata": {},
   "outputs": [
    {
     "name": "stdout",
     "output_type": "stream",
     "text": [
      "14\n",
      "7\n",
      "6\n"
     ]
    }
   ],
   "source": [
    "for i in range(3):\n",
    "    print len(TopicsS[i])"
   ]
  },
  {
   "cell_type": "code",
   "execution_count": 357,
   "metadata": {},
   "outputs": [
    {
     "name": "stdout",
     "output_type": "stream",
     "text": [
      "Topic 2\n",
      "\n",
      "as for lamb rendang mee pok, i am waiting for someone here to sell it (let me know if you do.) i decided to take a look at the menu online, and saw that chomp chomp nyc featured more familiar dishes, such as popiah, orh luak, murtabak, nasi lemak, hainanese chicken rice, gu bak koay teow, sarawak laksa, char kway teow and fried hokkien mee.(no wonder the criminal minds beyond borders team would have thought singapore was filled with red chinese lantern and ching-chong music.) owner-chef simpson wong first opened cafe asean in the west village way back in 1996, and has decided to show new yorkers an 'authentic' taste of singaporean hawker food.\n",
      "\n",
      "deliveroo will be offering crave's nasi lemak satay chicken (u.p.nasi lemak satay chicken is a seasonal item, and it consists of a piece of grilled chicken, egg, ikan bilis, sambal chilli, and peanut sauce seated atop a bed of fragrant coconut rice.aside from this deal, deliveroo will also be launching meal bundles for two, four, and six people at special prices from 7 august to 3 september.while there isn't much confirmed yet, an example of such a bundle would be crystal jade's steamed assorted flavours xiao long bao, sauteed diced chicken, sauteed kailan with assorted mushroom & fungus, and la mian with scallion oil served with baby abalone.\n",
      "\n",
      "the hawker stall is helmed by ipoh chef ron whose signatures include nasi lemak, penang laksa, penang lam mee, curry chicken ($4.50).the cze char has a Si Da Tian Wang (4 signatures): fish head with bittergourd and fermented black beans ($18/$24); secret recipe pork ribs ($10/$12/$15); deep-fried prawn roll ($8/$10/$12); and sambal potato leaves ($6/$8/$10).in any case, the western food stall focuses different ways of presenting potato but they also have salads and grilled items.in \"new restaurants\" best fried carrot cake in singapore, including both white and black carrot cake in \"$\n",
      "\n",
      "coconut pandan rice forms the base, and is topped with a large pong pong otah, drizzled with your nasi lemak's special sambal chilli and coconut milk.the large pong pong otah is made in house using either tenggiri or batang fish, depending on what the freshest catch of the day is, from their supplier.fly like an angry chicken nasi lemak ($5.80) consists of ayam masak merah, ikan billis, peanuts, an egg, and cucumber slices served with coconut pandan rice and special sambal chilli.this \"angry\" marinade is a blend of the normal sambal chilli and tomato puree, hence you'll get a hint of sweetness.\n",
      "\n",
      "the bistro-bar known for its southern specialities such as southern fried chicken, chicken & waffles, mac & cheese burger, freshly baked cornbread, bourbon pecan pie, has gone on to create its version of nasi lemak burger.these include the beast nasi lemak burger, salted egg yolk chicken & pandan waffles, and beef rendang cheese fries, available for a limited period.on the wooden board was southern fried chicken thigh smothered with house-made sambal topped with a runny egg, sandwiched between deep fried fragrant coconut rice \"buns\", served with a side of luncheon meat fries.\n",
      "\n"
     ]
    }
   ],
   "source": [
    "print 'Topic 2' # TopicsS[1]\n",
    "print\n",
    "\n",
    "for topic in TopicsS[1][:5]:\n",
    "    # topic is a tuple containing the probability and the summary\n",
    "    print topic[1]\n",
    "    print"
   ]
  },
  {
   "cell_type": "code",
   "execution_count": null,
   "metadata": {
    "collapsed": true
   },
   "outputs": [],
   "source": []
  },
  {
   "cell_type": "code",
   "execution_count": 27,
   "metadata": {},
   "outputs": [
    {
     "name": "stdout",
     "output_type": "stream",
     "text": [
      "5\n"
     ]
    }
   ],
   "source": [
    "# corpus is a list of docs. get_document_topics for a doc will return a tuple for each word in the doc which contains\n",
    "# the word id and probability of the word appearing in the topic \n",
    "a_list = []\n",
    "for index, doc in enumerate(corpus):    \n",
    "    # the [0] gets the first word tuple in doc\n",
    "    a = lda.get_document_topics(doc)[0] \n",
    "    # a[0] is the topic and a[1] is the probability of the word to the topic\n",
    "    if ((a[0] == 1) and (a[1] > 0.99)):\n",
    "        a_list.append((index, a[1]))\n",
    "        \n",
    "print len(a_list)"
   ]
  },
  {
   "cell_type": "code",
   "execution_count": 20,
   "metadata": {},
   "outputs": [
    {
     "name": "stdout",
     "output_type": "stream",
     "text": [
      "[(2514, 0.99698026501562542), (2092, 0.99639922771194445), (2425, 0.99565151930617635), (2373, 0.99513442716414535), (2261, 0.99460982464703229)]\n"
     ]
    }
   ],
   "source": [
    "# this sorts the list of words with descending probabilities for topic 1\n",
    "a_sorted = sorted(a_list, key=lambda item: -item[1])\n",
    "print(a_sorted)[:5]"
   ]
  },
  {
   "cell_type": "code",
   "execution_count": 74,
   "metadata": {},
   "outputs": [
    {
     "data": {
      "text/plain": [
       "[(0.99890360283391255,\n",
       "  u'constant warm weather gelato cafe continue open various corner serving sweet treat cool fun gelato shop serve varied interesting flavoursinspired local culture pioneer ice cream shop udder island creamery daily scoop tom palette alfero artisan gelato following newer gelato shop bird paradise gelato boutique east coast road opposite katong i12 roxy square tues 12pm gelato natural delicate flavour bird paradise named shop creates gelato inspired botanical flavour nature small shop katong constantly filled customer weekend unlike gelato shop colour ice cream almosttooartificially vibrant greeted pastelcoloured spectrum flavour loved actually flavour included basil lychee raspberry spiced pear mint cacao strawberry basil pandan white chrysanthemum price single double pint recommendation floral flavoured white chrysanthemum bit cacao nib delicate lychee raspberry bird paradise east coast road click play butterknife folk butterknife folk river valley road 12pm 8pm tues closed cake cafe diverse flavour gelato butterknife folk started known cake gelato gained following special gelato sorbet handcrafted small batch tub run know flavour come previous popular flavour include hojicha daily grind loaded expresso brown butter pecan tried typically smooth rich flavour worked immediately need love hint chitchat owner convince create interesting flavour box butterknife folk river valley road apiary neil road 12pm sunthu 12pm 1am frisat urlsg rich creamy ice cream neil road apiary neil road kinfolktype interior white wall woody element window ceiling natural lighting ootd shot menu kept simple moment ice cream single double triple waffle plain charcoal tart coffee tea saw interesting ice cream flavour despicable reminded minion banana walnut brownie hojicha roasted matcha bergamot sorbet citrus fruit white peach sorbet menu nutella topping provide photogenic moment aware sugar overload apiary neil road geometry jalan bukit merah redhill mrt 12pm suntue thu 12pm frisat closed urlsg gelato tart near abc market near abc market geometry total flavour choose expect interesting flavour earl grey tie guan yin mandarin orange sorbet watermelon lychee sorbet flavour classified premium flavour scoop fresh fruit added scoop bing bong ping pong resembled childhood paddlepop ice cream cone gelato smooth milky slightly sweeter choose tart base bling bling wig lookalike candy floss gelato salted caramel geometry jalan bukit merah creamery boutique tyrwhitt road 9pm monsun popular lava cookie cafe thailand open using recipe main outlet bangkok menu comprises lava cooky chocalot matcha red devil classic brownie gelato single double triple scoop main differentiating factor ice cream cafe lava cooky lava cake cookie form gelato house great local flavour piko piko tiramisu kopiko candy black dog guinness stout calehoyo served honey creamery boutique ice cream tyrwhitt road kosnica sg duxton road 12pm thurs 12pm closed waffle gelato cafe duxton kosnica sg specializing waffle gelato opened duxton road gelato cafe serf variety premium gelato flavour golden vanilla cooky cream mao wang blueberry yogurt strawberry cheesecake earl grey fig matcha green tea azuki bean sea salt caramel almond hazelnut chocolate rocher single scoop go double variety waffle includes buttermilk red velvet matcha waffle single scoop double scoop actually waffle soft pillow texture inside creamy gelato bad reckon sweetness level notch kosnica sg duxton canvas gelato havelock road central square 9am monfri closed quaint ice cream cafe central square near lift lobby central square building central perk canvas gelato sell gelato waffle soontocome bakes limited selection coffee gelato priced according weight 80g small cup 120g medium cup 180g large cup enjoyed matcha latte tinge bitterness tea leaf coffee bean respectively texture slightly icy canvas gelato central square meet melt orchard orchard link numbernumbernumber scape 2pm daily instagrammable gelato lava toast oozing lava toast meet melt insider viral ice cream flavour wacky salted egg kidding white truffle chilli crab curry masala creation pretty trending dessert charcoal waffle shibuya toast overthetop milkshake newest creation charcoal lava toast sauce thai milk tea thai green milk tea curry lava meet melt scape creamier 5a lock road gillman barrack sundaram tagore gallery 12pm tuethu 12pm frisat closed urlsingapore popular ice cream cafe open playground gillman barrack creamier handcrafted ice cream coffee started toa payoh known hipster gelato cafe known produce quality artisanal ice cream small batch menu offering newer gillman barrack similar ice cream single scoop double scoop waffle plain scoop scoop premium flavour set loved macadamia tropicana ice cream rich creamy coconut base infused pineapple macadamia nut milky citrusy touch balance pretty spot overpowering scoop therapy east coast road odeon katong 2pm tuethu 12pm 12mn frisat 12pm closed gelato frozen smore torched marshmallow cafe separated section ice cream bar serving flavour dessert interesting flavour include salted egg yolk apple pie butter beer lychee rose single scoop ice cream cost cone cup charcoal cone double scoop triple scoop hmm trying imagine balance scoop ice cream small ice cream cone lychee rose favourite fragrant floral scent salted egg yolk hand wasnt distinct salted egg taste grainy texture scoop therapy east coast road related entry korean soft serve ice cream shop unique chilli crab poke bowl shop best galaxy cake best unique fry compiled ang nicholas tan stormscape indicated'),\n",
       " (0.99870852005998112,\n",
       "  u'exit gong cha market entry homegrown brand liho cheese topping foamed milk tea appears big beverage foamed drink known macchiato nai gai nai gai bubble tea shop year trendy late milk tea coffee thai milk tea smooth fluffy foamed topping add creamy texture joy course calorie existing drink foamed milk tea make calorie jin mean good liho goodbye gong cha hello liho singaporean worst nightmare woke shock realising outlet islandwide disappeared overnight main paper publishing liho gong cha thought catastrophic happened oh instead gong chas naigai series cheese tea contain dutch gouda cheese touch saltiness creaminess choose sip mouthful cheese sip drink mix welcomed change thought shortlived hype koi blk lorong toa payoh hdb hub till sold known 50lan taiwan rebranded koi expanded country koi remained bubble tea market leader recent launch matcha drink series matcha macchiato matcha latte medium large matcha powder specially imported japan turned fan toa payoh frenzy couple day add current series macchiato drink black tea green tea macchiato medium large peach ovaltine macchiato medium large service crew highly recommended ideal sugar level felt better choice sweetness distinct green tea note cha tra mue maxwell road tanjong pagar xchange b1number number15am monfri 4pm closed thai milk tea foam exclusive cha tra mues tanjong pagar branch cha tra mue known brand original thai tea thailand iconic white cup red bottle cap milk foam available cold drink original thai tea thai milk tea extra gold thai milk green tea milk foam smooth fluffy hint sea salt flavour suit prefer milkier creamier cha yen want instagrammable shot note cup transparent doesnt matter foam inside hvala numbersomerset orchard road b3number monsun yuzu foam look like foam drink gone international local cheese milk tea taiwanese milk tea thai milk tea japanese whisked matcha hvala previously known waffle puffle egglets revamped menu include matcha item soft serve cup cone latte usdnumbernumber ice blend usdnumbernumber creama aka foamed drink usdnumbernumber yuzu foam available different drink choose uji matcha nishio matcha yuzu oishii nishio matcha personal favourite intense umaminess tinge seaweed dalkomm coffee centrepoint numbernumbernumber numbernumbernumber orchard road monsun fan korean series descendant familiar dalkomm coffee chain dot character seen trashing heart cafe iconic scene newest addition cream kiss series left layer white stuff mean foam lip attempted drink include matcha milk chocolate milk strawberry foam latte caramel foam captain yoo approve yuan cha yuan cha far east plaza scott road monsun urlsingapore fan gong cha yuan cha yuan cha distinct tea taste save brand us higher quality tea leaf brew believing pursuit quality farm cup sourcing best tea plantation asia brewing method yuan cha offer hot premium tea basic tea medium large osmanthus series usdnumbernumber medium large topping sorry pearl snow aka milk foam yam ball herbal coconut jelly aiyu konjac available sod cafe hougang avenue ci yuan wedmon closed urlsg bubble tea cafe outlet ci yuan sod cafe offer glass refreshing double froth rosey come roseflavoured soda strawberry pearl burst mouth frothed milk mixed rose soda reminded glass fizzy bandung closed cocorica plus tanjong pagar wallich b2number tanjong pagar mrt thing notice cocorica plus drink largerthanusual cup size cardboard holder handle reason reduce thermal convection drink cool ice cube maintain temperate big cup decide chocolate coffee cocorica signature drink blend dark cocoa liberica coffee topped layer milk updated opps cocorica ended operation day ago agan tea dhoby ghaut mrt b2number right entranceexit plaza singapura agan tea taiwan us specially selected tea leaf high mountain alishan brew wide range green tea fruit tea herbal tea asked server happened branch mentioned dhoby ghaut outlet left milk lid green tea milk lid matcha tea favourite version tea fragrance happened strongest drinking cup personally recommend low zero percent sugar foam sweetness chatime velocitynovena square thomson rd chatime ri chu cha tai taiwanese global franchise teahouse chain based taiwan popular branch novena square downtown east introduced creamy vanilla mousse series offering matcha mousse black tea mousse green tea mousse chocolate mousse peach mousse regular large personally cup slightly sweet requested sugar addition rich creamy vanilla foam related entry liho tanjong pagar teapresso oki machi toa payoh central sharetea bestseller exclusive flavour koi singapor toa payoh smoothie house raffle nicholas tan stormscape ang pay'),\n",
       " (0.99688510421319487,\n",
       "  u'opened 2nd outlet gillman barrack creamier continues set 3rd nest tiong bahru estate yong siak known booming cafe scene early day isnt tiong bahru getting overcrowded cafe cafe close replaces case creamier taken space previously occupied poteato lasted good year interior creamiers outlet tiong bahru downtoearth compared outlet toa payoh gillman barrack expect wooden element stool bench ishinomaki laboratory x supermama window aka natural lighting coffee table specialising hand pour coffee coffee making machine espressobased drink instead pour method used single origin coffee bean ethiopia guatemala brazil cold brew available coffee ice cube noncoffee drinker hand brewed tea exclusive tiong bahru outlet come flavour french peppermint himalayan bouquet organic morocco rosebud houjicha karigane total flavour available smaller selection compared outlet interesting one noted included black glutinous rice aka pulut hitam black charcoal sesame bestseller include earl grey lavender sea salt gula melaka hand flavour exclusive tiong bahru outlet moment make new draw term pricing single scoop ice cream cost double scoop premium flavour charged price relatively reasonable price hike cent scoop icecream compared signature double stacked waffle waffle scoop ice cream waffle pulut hitam rum raisin preferred strong taste rum creamy texture pulut hitam ring nostalgic feeling local traditional dessert form ice cream belgian style waffle known buttery fragrant imparted using market fresh local egg fresh cream pure butter option include optional topping similar sister outlet sunday folk machine new conditioned waffle tad undercooked doughy inside usual creamier standard thankfully smooth creamier ice cream creamier tiong bahru yong siak road 12pm tuethu 12pm frisat 12pm closed urlsingapore related entry creamier toa payoh baby moo creamery toa payoh ice cream shack bt merah central dessert project havelock road geometry jalan bukit merah nicholas tan stormscape love thing new pay'),\n",
       " (0.9966783562791266,\n",
       "  u'japanese kakigori kakibing shaved ice taking space previously occupied new urban male saladstop starbucks coffee cathay handy road mean cathay cineleisure kori king new takeaway kiosk specialising japanese kakigori confused korean bingsu kakigori japanese shaved ice dessert typically flavoured syrup sweetener condensed milk wondered took long dedicatedkakigori shop cafe shari shari kakigori house bing wu popular hong kong kori king signature kakigori come mochi ball cue student nearby smu sota kaplan lasalle nafa appreciate walletfriendly price compared kakigori available nearby priced triple price need recognise machinery ingredient used different kakigori available different flavour strawberry mango tiramisu black sesame gula melaka sour plum matcha peanut butter topping tapioca pearl moshi ball fruit strawberry banana kiwi sauce using natural flavour seasonal fruit colouring preservative kakigori served takeaway cone mainly onthego seat limited queue buzzer given order ordering slightly messy digging pile shaved ice dessert surprisingly soft fluffy like cloud tasted cloud figuratively saying consumption little messy shaved ice toppled easily light weight fluffiness favourite peanut butter kakigori drizzled peanut butter sauce hokkaido milk distinct overpowering kakigori heavy suitable light snack matcha kakigori little matcha sauce flavour eating little boring halfway extra topping ordered hidden shaved ice wont topple way item available include dorayaki know doraemons favourite pancake come differs flavour dark choco matcha lemon custard praline peanut butter classic red bean pancake doraemon sad price point quality shaved ice pretty worth jio kaki aka friend kori mean kakigori kori king cathay handy road related entry best matcha latte antoinette penhas road amamoto cafe raffle pablo cheese tart cafe wisma atrium cafe meal muji plaza singapura nicholas tan stormscape love thing new pay'),\n",
       " (0.99662872064606478,\n",
       "  u'nesuto mean nest japanese latest concept folk shuu koki tamagoyaki kiosk basement raffle city shopping shuu best chou puff expanded nesuto dinein patisserie asked meaning nesuto inspiration drawn sister outlet tamagoyaki tamago aka egg inferred nest nesuto menu offer selection japanesefrench inspired dessert recall chef yamashita flor patisserie extent henri charpentier similar concept vicinity interior painted pastel pink white giving sense comfort minimalism pullfactor taitais ols afternoon respite dessert dainty delicate customer multiple photo signature item include suzette blush berry yuzu raspberry cake suzette named crepe suzette suzette esplanade similarity component breaking santiago tart revealed crosssectional area distinct layer grand marnier cremeux vanilla cream orange caramel respectively entire combination soft light moist citrusy layer orange caramel blended distinctive vanilla cream best paired hojicha dong ding tea oishii desu eye attentionseeking yuzu raspberry cake coated bright pink whipped ganache portion cake bigger rest japanese sponge extremely light fluffy like biting cotton yuzu meringue mousse chunk fresh raspberry citrusy tanginess fruit cut entire combination making cake light refreshing dessert slightly expectation matcha azuki tart unfortunately weakest link using chantilly cream matcha nama ganache azuki bean tart somewhat dry buttery fragrant saving grace matcha nama ganache using gyomuyo maccha powder chou puff koki tamagoyaki distinct tinge bitterness matcha lover adore hidden layer matcha nama ganache layer azuki bean complement bitterness matcha classic combination nesuto fully equipped display chiller furniture promising start term offering nesuto tras tanjong pagar mrt monsun urlnesuto related entry hidden gem tanjong pagar koki tamagoyaki raffle city rive gauche patisserie citylink mall chateraise toa payoh cake spade tanjong pagar nicholas tan stormscape love thing new pay')]"
      ]
     },
     "execution_count": 74,
     "metadata": {},
     "output_type": "execute_result"
    }
   ],
   "source": [
    "cluster_sorted[:5]"
   ]
  },
  {
   "cell_type": "code",
   "execution_count": 28,
   "metadata": {
    "collapsed": true
   },
   "outputs": [],
   "source": [
    "# The following finds the similarity of a document vs other documents\n",
    "\n",
    "# transform corpus to LDA space and index it\n",
    "index = similarities.MatrixSimilarity(lda[corpus])"
   ]
  },
  {
   "cell_type": "code",
   "execution_count": 29,
   "metadata": {
    "collapsed": true
   },
   "outputs": [],
   "source": [
    "# query similarity of a particular document against other documents\n",
    "query = corpus[4]\n",
    "vec_lda = lda[query] # convert the query to LDA space"
   ]
  },
  {
   "cell_type": "code",
   "execution_count": 30,
   "metadata": {},
   "outputs": [
    {
     "name": "stdout",
     "output_type": "stream",
     "text": [
      "2604\n",
      "[(0, 0.57762343), (1, 0.86476409), (2, 0.86714327), (3, 0.92939848), (4, 1.0)]\n"
     ]
    }
   ],
   "source": [
    "# perform a similarity query against the corpus\n",
    "sims = index[vec_lda] \n",
    "\n",
    "print len(sims)\n",
    "# following printed tuple show (document_number in corpus, document_similarity)\n",
    "print(list(enumerate(sims))[:5]) "
   ]
  },
  {
   "cell_type": "code",
   "execution_count": 172,
   "metadata": {},
   "outputs": [
    {
     "name": "stdout",
     "output_type": "stream",
     "text": [
      "[(1241, 0.99190658), (852, 0.98953742), (509, 0.96051264), (390, 0.93497497), (30, 0.93063617)]\n"
     ]
    }
   ],
   "source": [
    "# sort sims on descending probability\n",
    "sims = sorted(enumerate(sims), key=lambda item: -item[1])\n",
    "print(sims)[:5] # print sorted (document number, similarity score)"
   ]
  },
  {
   "cell_type": "code",
   "execution_count": null,
   "metadata": {
    "collapsed": true
   },
   "outputs": [],
   "source": []
  },
  {
   "cell_type": "code",
   "execution_count": 276,
   "metadata": {
    "collapsed": true
   },
   "outputs": [],
   "source": [
    "# convert to tokens before searchng - not necessary ?\n",
    "query = 'cheese tart'\n",
    "q_tokens = nltk.word_tokenize(query.lower())\n",
    "\n",
    "nl = []\n",
    "for item in txt['Summary']:  \n",
    "        Tokens = nltk.word_tokenize(item)\n",
    "        tokens_lower = [tok.lower() for tok in Tokens]\n",
    "        if len(q_tokens) > 5:\n",
    "            print 'No snippets found ! explore another category'\n",
    "        \n",
    "        if len(q_tokens) == 1:\n",
    "            if (q_tokens[0] in tokens_lower):\n",
    "                nl.append(' '.join(Tokens))\n",
    "                \n",
    "        if len(q_tokens) == 2:\n",
    "            if ((q_tokens[0] in tokens_lower) and (q_tokens[1] in tokens_lower)):\n",
    "                nl.append(' '.join(Tokens))\n",
    "                \n",
    "        if len(q_tokens) == 3:\n",
    "            if ((q_tokens[0] in tokens_lower) and (q_tokens[1] in tokens_lower) and (q_tokens[2] in tokens_lower)):\n",
    "                nl.append(' '.join(Tokens))\n",
    "                \n",
    "        if len(q_tokens) == 4:\n",
    "            if ((q_tokens[0] in tokens_lower) and (q_tokens[1] in tokens_lower) and (q_tokens[2] in tokens_lower) and (q_tokens[3] in tokens_lower)):\n",
    "                nl.append(' '.join(Tokens))\n",
    "                \n",
    "        if len(q_tokens) == 5:\n",
    "            if ((q_tokens[0] in tokens_lower) and (q_tokens[1] in tokens_lower) and (q_tokens[2] in tokens_lower) and (q_tokens[3] in tokens_lower) and (q_tokens[4] in tokens_lower)):\n",
    "                nl.append(' '.join(Tokens))"
   ]
  }
 ],
 "metadata": {
  "kernelspec": {
   "display_name": "Python 2",
   "language": "python",
   "name": "python2"
  },
  "language_info": {
   "codemirror_mode": {
    "name": "ipython",
    "version": 2
   },
   "file_extension": ".py",
   "mimetype": "text/x-python",
   "name": "python",
   "nbconvert_exporter": "python",
   "pygments_lexer": "ipython2",
   "version": "2.7.13"
  }
 },
 "nbformat": 4,
 "nbformat_minor": 2
}

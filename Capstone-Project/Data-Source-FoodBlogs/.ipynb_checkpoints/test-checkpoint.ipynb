{
 "cells": [
  {
   "cell_type": "code",
   "execution_count": 1,
   "metadata": {
    "collapsed": true
   },
   "outputs": [],
   "source": [
    "import pandas as pd\n",
    "import re\n",
    "import requests\n",
    "from unidecode import unidecode\n",
    "from bs4 import BeautifulSoup as bs"
   ]
  },
  {
   "cell_type": "code",
   "execution_count": 21,
   "metadata": {
    "collapsed": true
   },
   "outputs": [],
   "source": [
    "url = 'http://www.foodgem.sg/' \n",
    "response = requests.get(url)    "
   ]
  },
  {
   "cell_type": "code",
   "execution_count": 24,
   "metadata": {
    "collapsed": true
   },
   "outputs": [],
   "source": [
    "soup = bs(response.text, 'html.parser')\n",
    "blogs = soup.find_all('h2', {'class' : 'entry-title'})"
   ]
  },
  {
   "cell_type": "code",
   "execution_count": 25,
   "metadata": {},
   "outputs": [
    {
     "name": "stdout",
     "output_type": "stream",
     "text": [
      "5\n",
      "<h2 class=\"title\"><a href=\"http://gninethree.com/2017/08/08/magnum-opens-1st-magnum-pleasure-store-in-singapore-ion-orchard/\" rel=\"bookmark\" title=\"Permalink to MAGNUM Opens 1st Magnum Pleasure Store in Singapore @ ION Orchard\">MAGNUM Opens 1st Magnum Pleasure Store in Singapore @ ION Orchard</a></h2>\n"
     ]
    }
   ],
   "source": [
    "print len(blogs)\n",
    "print blogs[2]"
   ]
  },
  {
   "cell_type": "code",
   "execution_count": 18,
   "metadata": {},
   "outputs": [
    {
     "data": {
      "text/plain": [
       "u'https://ieatandeat.com/original-cake/'"
      ]
     },
     "execution_count": 18,
     "metadata": {},
     "output_type": "execute_result"
    }
   ],
   "source": [
    "href = blogs[2].find('a').get('href')\n",
    "href"
   ]
  },
  {
   "cell_type": "code",
   "execution_count": 19,
   "metadata": {
    "scrolled": false
   },
   "outputs": [
    {
     "name": "stdout",
     "output_type": "stream",
     "text": [
      "Kampong Rojak Review @ East Coast Lagoon Food Village\n",
      "08/10/2017\n",
      "both the rojak and tau kwa pau from  kampong rojak are decent in taste and flavour, opt for the tau kwa pau if you have difficulties accepting the strong prawn paste flavour in the rojak. kampong rojak review @ east coast lagoon food village kampong rojak at east coast lagoon food village serves traditional rojak in chinese style, besides the usual rojak ingredients eg. cucumber, turnip, bean sprouts, apples and pineapple, chinese rojack has more elaborated ingredients include roasted you tiao (fried dough fritters) was added for the crusty bite, mixed with the prawn paste and sprinkled on top the grated peanuts for the extra texture. this asian salad has a good mix of vegetables and fruits, the mark of a good rojak is highly depends on its sauce – particularly the smbal balecan or prawn paste. the prawn paste from kampong rojak has a pungent prawn flavour and could be a little overwhelming in our opinion, luckily, a few drop of the fresh lime juice somewhat helped to neutralise the fishy shrimp smell, perhaps some ginger flower would be welcomed to further elevate the overall taste. besides the rojak, don’t miss out the grilled tau kwa pau (deep fried bean curd cubes) as well, the typical chinese dish may look simply but not easy to perfect it, the tau kwa pau was slit into half and sandwiched with bean spouts and cucumber, the stuff grilled tau kwa pau was then served with the dipping sauce which has a nice medley of sweet and savoury flavour, grated peanuts was drizzled over the sauce for the extra texture and flavour. at kampong rojak, the slight charred bean curd skin and the filling went pretty well with the dipping sauce, in fact, given the choice of rojak and the grilled tau kwa pau, our preference goes to the tau kwa pau. our verdict both the rojak and tau kwa pau from  kampong rojak are decent in taste and flavour, opt for the tau kwa pau if you have difficulties accepting the strong prawn paste flavour in the rojak. kampong rojak @ east coast lagoon food village a: stall 9, east coast lagoon food village, 1220 east coast parkway, singapore 468960 t: 6225 5632 h: daily 10.30am – 11pm, closed on fridays\n",
      "Clementi Fried Carrot Cake review (炒菜頭粿) @ Clementi 448 Market & Food Centre\n",
      "05/10/2017\n",
      "clementi fried carrot cake may have it loyal fans judging from the snaking queue and long waiting time. however, we have slight different opinion of the carrot cake, may be some mishaps on the day but until we can be convinced again, there are definitely some rooms for improvement. clementi fried carrot cake review (炒菜頭粿) @ clementi 448 market & food centre the fried carrot cake stall has no official name and only “fried carrot cake” on the signboard; queue was snaking long. the stall only operates for few hours in the morning session and usually sold out before noon, so you have to be early to have a taste of the carrot cake. the stall serves both the white and black fried carrot cake, we waited for more than 30 minutes in the queue and decided to go with up-size for both white and black version to justify the time spent. black carrot cake $3 / $4 the cake was shredded into tiny bites and fried with copious of eggs and cai poh or preserved radish, the chef was heavy-handed with dark sweet sauce, sweetness was overwhelming and the sugary taste overpowered and masked the flavour of the radish, eggs and the cai poh. the texture was mushy and the black sweet sauce failed to caramelize the surface for a more crisp and char texture. white carrot cake $3 / $4 the white version was savoury and less cloying, but the mushy texture was less ideal compared to the crispy but soft texture that we prefer for the carrot cake. flavour was much better than the black version, at least we can appreciate some elements of a good carrot cake, though it might not able to lure you back for more. the generous serving size is another consolation for an up size plate. clementi fried carrot cake may have it loyal fans judging from the snaking queue and long waiting time. however, we have slight different opinion of the carrot cake, may be some mishaps on the day but until we can be convinced again, there are definitely some rooms for improvement. a: clementi 448 market & food centre, ",
      "block 448 clementi avenue 3 #01-45 ",
      "singapore 120448 h:  7am-11am, closed on mondays  \n",
      "Original Cake 源味本鋪 Review\n",
      "05/10/2017\n",
      "original cake prides itself for whipping up pillows of soft, cottony, and bouncy castella cakes that have a melt-in-your-mouth texture. the og of castella cakes has arrived in singapore, and has set itself on the second level of westgate mall at jurong east. the cakes are available in 3 flavours – videos of these cakes have been going viral online, featuring tall, fluffy domes of sponge cakes taken out of the oven, and sliced while they’re piping hot. freshly baked daily, original cake prides itself for whipping up pillows of soft, cottony, and bouncy castella cakes that have a melt-in-your-mouth texture. for the purists, go for the original ($10, u.p. $11.50). the texture of the cake is very fine, and remains soft even when kept in the fridge overnight. the flavour of egg isn’t very strong, and isn’t overly sweet, so this will definitely appeal to those with lighter taste buds. as for those who prefer something more decadent, the golden cheese ($12, u.p $13.50) comes layered with processed cheddar cheese slices in the middle of the cake. when eaten warm, the cheese takes on an oozy texture, and adds a subtle hint of savouriness. the frozen chocolate ($15, u.p. $16.50) is studded with hershey’s chocolate chips and instead of the latter two, it is served cold. made using chocolate chips, the cake is fudgy and bittersweet, a more indulgent treat for the chocolate lovers. these cakes are great for sharing, with each pillowy slab good for eight to ten people. to prevent the cake from drying out, store them in an airtight box in the refrigerator, and warm them up in the microwave before consuming. original cake address: 3 gateway drive, westgate jurong #02-24, singapore 608532 facebook  \n",
      "Best Castella Cake or Egg Sponge Cake in Singapore\n",
      "30/09/2017\n",
      "castella cake or egg sponge cake has finally found its way into singapore. not one or two brands but three popular brands battling for a slice of the eggy cake business, so which is the best castella cake that you should go for it? best taiwan castella cake or egg sponge cake in singapore the famous taiwan tamsui old street castella cake or egg sponge cake has finally found its way into singapore. not one or two brands but three popular brands battling for a slice of the eggy cake business, so which is the best castella cake that you should go for it? while foreign imported castella cake taking the helm and dominate the market, we have not neglected some of the local players that may worth to explore. we have tried total of five brands including two from the local bakery establishments. the five brands are:   plain without cheese ($8.0) the plain version from ah mah was light and fluffy with a less refined texture, the cake was not as moist as le’ old-time flavor of taiwan or original cake, the sweetness trump among all, too sweet to our liking. aroma of the eggy flavour is the soul of the good castella cake but ah mah seems to be the mildest predominantly masked by the sugary sweet taste. plain with cheese ($11.0) the slices of cheddar cheese melted unevenly within the cake,  however, it has the saltiness that give the cake a more distinctive savoury flavour, unfortunately, the poor layering of the cheddar cheese made the overall flavour less pleasant with some portion of the cake with little or complete missing the cheesy flavour. plain without cheese ($9.9) the plain version from le’ old-time flavor of taiwan has the most dense, moist and heavier variant, may be too heavy that the cake was not able to rise to the right height. the result is the shortest cake among all, you can observe the uneven texture between the top half (fluffy) and bottom half (dense) from the photo. obviously, the cake was suffering from the typical sinking cake syndrome. the nice eggy aroma was rather pronounced and not overly sweet compared to ah mah. plain with cheese ($11.9) less salty and hence cheese flavour was not as distinctive as ah mah. cheese was slightly more evenly distributed in the cake and overall taste was less subtle to provide a balanced and refined cheesy taste needed for a good cheese castella cake. plain without cheese ($11.0) original cake produced the jiggly cake with the best craftsmanship, the cake was, fine, moist with dense texture, not too sweet content and resulting in a subtle yet with beautiful eggy flavour that simply lovely. it has the thickest layer among all of them as well. plain with cheese ($13.0) – our best pick for the cheese version two layers of cheese were well distributed in between the thick slab of wobbly cake. it gives you the nice and balanced cheesy flavour in every bite, not too cheesy or salty. among all the brands, original cake 源味本鋪 stands out to have the best cheese flavour from all aspects, be it the flavour, texture or presentation. this is our best pick for the cheese version. plain without cheese $4.8 we came across this stall during the visit to old airport food centre, obviously most of the customers were after their freshly baked castella cake, we decided to explore their castella cake since we were researching the best castella cake in singapore. the size of the castella cake is smaller than all other competitors; however, the price is proportionally cheaper as well. we don’t have too high the expectations from this little known stall in a food centre at the first place, however, the first bite into the cake immediately made our eyeballs rolling, wow…wow… the featherlike fluffy texture was incredibly good, perfect sweetness and eggy flavour in combination was simply spectacular, it sent us back the memory lane and the truly old-time flavour and nostalgic taste are second to none, the good standard of this home grown castella cake is definitely well-positioned to make them stand tall challenging any of the best foreign castella cake here. a hidden gem just unearthed! this is our best pick for the plain version plain with cheese $6.8 while the plain flavour castella cake was well-loved by all us, the cheese version was less impressive, the cheese flavour was too mild to allow the taste buds to fully appreciate of the cheddar cheese. breadtalk offering an unique version of castella cake, no plain flavour but a salted egg version instead. mashed salted eggs are layered in between the cake, texture and overall flavour were ordinary and nothing to short about. ah mah traditional homemade egg sponge cake 阿嬷老字號 a: vivo city, 1 harbourfront walk, #b2-k7, singapore 098585 1 jelebu road, bukit panjang plaza, #01-18, singapore 677743 t: 6325-4508 h: 10am-10pm daily. fb: www.facebook.com/iloveahmahsg le’ old-time flavor of taiwan 樂古早味蛋糕  a: 10 tampines central 1, #b1-32, singapore 529536 h: 10am – 9pm daily fb: https://www.facebook.com/lecastellasg/ original cake 源味本鋪  a: #02-24, gateway drive, westgate jurong, singapore 608532 h: 10am – 9pm daily t: 9688 7012 w: www.originalcake.com chong pang old-time flavor 忠邦古早味 a: 51 old airport rd, stall #01-79, singapore 390051 h: 7am – 10.30pm daily t: 8228 1726 breadtalk 面包物语 a: various locations, kindly refer to their website w: www.breadtalk.com.sg/    \n"
     ]
    },
    {
     "name": "stdout",
     "output_type": "stream",
     "text": [
      "Tiong Bahru Galicier Pastry Review – One of the best Kueh Dar-Dar\n",
      "27/09/2017\n",
      "we do enjoy the kueh dar-dar and ondeh-ondeh from tiong bahru galicier pastry, other kuehs are reasonably good as well. if you have limited capacity, go try at least the two kueh-kueh mentioned, you wouldn't regret it. tiong bahru galicier pastry review – one of the best kueh dar-dar from the hainanese curry rice at the corner of the coffeeshop to the teochew rice kueh and many other delectable local hawker dishes in the neat and clean food centre, the food here have evoked many nostalgic memories of our childhood’s favorites. tiong bahru – a medley of new and old, while the progression are enthralling viewing, it is a real good place worth the soul searching of our heritage including the exotic food scene. tiong bahru galicier pastry, a typical old shophouse presented in the most traditional manner and unpretentious way, not the environment and setting to attract you but the it is their old-school nonya kueh or pastries that entice your tastebuds. tiong bahru galicier pastry offers an assortment of nonya kuehs, however, our objectives of visiting the shop is clear, the shopping list cannot left out the kueh dar-dar and ondeh-ondeh. the two most sought after kuehs among the array of kueh. kueh dar-dar ($0.80) white grated coconut wrapped in a green-coloured pandan-flavoured thick rice roll, the kueh dar dar here stands out among others with its unique filling, tiong bahru galicier pastry do not add palm sugar or gula melaka for extra sweetness, the snowy white grated coconut is fresh and fragrance, keeping the most original coconut flavour in its form with its mildly sweet taste. one of the best kueh dar dar in singapore? we can concur and endorse the claim. ondeh-ondeh  the round rice balls are filled with melted gula melaka, if you don’t want to stain your clothes or face and hands with the explosive juice encased in the dough, never eat the ondeh-ondeh with a bite, just pop the whole ball in one mouthful and let the gula melaka to burst in the mouth, you will be able to enjoy the essence of the gula melaka and the softness of the dough. every ball is just salivating. others kueh kueh are reasonably good but the real mccoy here are the must try kueh dadar and ondeh-ondeh. our verdict we do enjoy the kueh dar-dar and ondeh-ondeh tiong bahru galicier pastry, other kuehs are reasonably good as well. if you have limited capacity, go try at least the two kueh-kueh mentioned, you wouldn’t regret it. tiong bahru galicier pastry ",
      " a: block 55 tiong bahru road #01-39, singapore 160055 t: 6324 1686 h: 10.00am to 8.30pm daily (closed on monday)\n",
      "Kampong Rojak Review @ East Coast Lagoon Food Village\n",
      "08/10/2017\n",
      "both the rojak and tau kwa pau from  kampong rojak are decent in taste and flavour, opt for the tau kwa pau if you have difficulties accepting the strong prawn paste flavour in the rojak. kampong rojak review @ east coast lagoon food village kampong rojak at east coast lagoon food village serves traditional rojak in chinese style, besides the usual rojak ingredients eg. cucumber, turnip, bean sprouts, apples and pineapple, chinese rojack has more elaborated ingredients include roasted you tiao (fried dough fritters) was added for the crusty bite, mixed with the prawn paste and sprinkled on top the grated peanuts for the extra texture. this asian salad has a good mix of vegetables and fruits, the mark of a good rojak is highly depends on its sauce – particularly the smbal balecan or prawn paste. the prawn paste from kampong rojak has a pungent prawn flavour and could be a little overwhelming in our opinion, luckily, a few drop of the fresh lime juice somewhat helped to neutralise the fishy shrimp smell, perhaps some ginger flower would be welcomed to further elevate the overall taste. besides the rojak, don’t miss out the grilled tau kwa pau (deep fried bean curd cubes) as well, the typical chinese dish may look simply but not easy to perfect it, the tau kwa pau was slit into half and sandwiched with bean spouts and cucumber, the stuff grilled tau kwa pau was then served with the dipping sauce which has a nice medley of sweet and savoury flavour, grated peanuts was drizzled over the sauce for the extra texture and flavour. at kampong rojak, the slight charred bean curd skin and the filling went pretty well with the dipping sauce, in fact, given the choice of rojak and the grilled tau kwa pau, our preference goes to the tau kwa pau. our verdict both the rojak and tau kwa pau from  kampong rojak are decent in taste and flavour, opt for the tau kwa pau if you have difficulties accepting the strong prawn paste flavour in the rojak. kampong rojak @ east coast lagoon food village a: stall 9, east coast lagoon food village, 1220 east coast parkway, singapore 468960 t: 6225 5632 h: daily 10.30am – 11pm, closed on fridays\n",
      "Clementi Fried Carrot Cake review (炒菜頭粿) @ Clementi 448 Market &...\n",
      "05/10/2017\n",
      "clementi fried carrot cake may have it loyal fans judging from the snaking queue and long waiting time. however, we have slight different opinion of the carrot cake, may be some mishaps on the day but until we can be convinced again, there are definitely some rooms for improvement. clementi fried carrot cake review (炒菜頭粿) @ clementi 448 market & food centre the fried carrot cake stall has no official name and only “fried carrot cake” on the signboard; queue was snaking long. the stall only operates for few hours in the morning session and usually sold out before noon, so you have to be early to have a taste of the carrot cake. the stall serves both the white and black fried carrot cake, we waited for more than 30 minutes in the queue and decided to go with up-size for both white and black version to justify the time spent. black carrot cake $3 / $4 the cake was shredded into tiny bites and fried with copious of eggs and cai poh or preserved radish, the chef was heavy-handed with dark sweet sauce, sweetness was overwhelming and the sugary taste overpowered and masked the flavour of the radish, eggs and the cai poh. the texture was mushy and the black sweet sauce failed to caramelize the surface for a more crisp and char texture. white carrot cake $3 / $4 the white version was savoury and less cloying, but the mushy texture was less ideal compared to the crispy but soft texture that we prefer for the carrot cake. flavour was much better than the black version, at least we can appreciate some elements of a good carrot cake, though it might not able to lure you back for more. the generous serving size is another consolation for an up size plate. clementi fried carrot cake may have it loyal fans judging from the snaking queue and long waiting time. however, we have slight different opinion of the carrot cake, may be some mishaps on the day but until we can be convinced again, there are definitely some rooms for improvement. a: clementi 448 market & food centre, ",
      "block 448 clementi avenue 3 #01-45 ",
      "singapore 120448 h:  7am-11am, closed on mondays  \n",
      "Original Cake 源味本鋪 Review\n",
      "05/10/2017\n",
      "original cake prides itself for whipping up pillows of soft, cottony, and bouncy castella cakes that have a melt-in-your-mouth texture. the og of castella cakes has arrived in singapore, and has set itself on the second level of westgate mall at jurong east. the cakes are available in 3 flavours – videos of these cakes have been going viral online, featuring tall, fluffy domes of sponge cakes taken out of the oven, and sliced while they’re piping hot. freshly baked daily, original cake prides itself for whipping up pillows of soft, cottony, and bouncy castella cakes that have a melt-in-your-mouth texture. for the purists, go for the original ($10, u.p. $11.50). the texture of the cake is very fine, and remains soft even when kept in the fridge overnight. the flavour of egg isn’t very strong, and isn’t overly sweet, so this will definitely appeal to those with lighter taste buds. as for those who prefer something more decadent, the golden cheese ($12, u.p $13.50) comes layered with processed cheddar cheese slices in the middle of the cake. when eaten warm, the cheese takes on an oozy texture, and adds a subtle hint of savouriness. the frozen chocolate ($15, u.p. $16.50) is studded with hershey’s chocolate chips and instead of the latter two, it is served cold. made using chocolate chips, the cake is fudgy and bittersweet, a more indulgent treat for the chocolate lovers. these cakes are great for sharing, with each pillowy slab good for eight to ten people. to prevent the cake from drying out, store them in an airtight box in the refrigerator, and warm them up in the microwave before consuming. original cake address: 3 gateway drive, westgate jurong #02-24, singapore 608532 facebook  \n"
     ]
    },
    {
     "name": "stdout",
     "output_type": "stream",
     "text": [
      "Best Castella Cake or Egg Sponge Cake in Singapore\n",
      "30/09/2017\n",
      "castella cake or egg sponge cake has finally found its way into singapore. not one or two brands but three popular brands battling for a slice of the eggy cake business, so which is the best castella cake that you should go for it? best taiwan castella cake or egg sponge cake in singapore the famous taiwan tamsui old street castella cake or egg sponge cake has finally found its way into singapore. not one or two brands but three popular brands battling for a slice of the eggy cake business, so which is the best castella cake that you should go for it? while foreign imported castella cake taking the helm and dominate the market, we have not neglected some of the local players that may worth to explore. we have tried total of five brands including two from the local bakery establishments. the five brands are:   plain without cheese ($8.0) the plain version from ah mah was light and fluffy with a less refined texture, the cake was not as moist as le’ old-time flavor of taiwan or original cake, the sweetness trump among all, too sweet to our liking. aroma of the eggy flavour is the soul of the good castella cake but ah mah seems to be the mildest predominantly masked by the sugary sweet taste. plain with cheese ($11.0) the slices of cheddar cheese melted unevenly within the cake,  however, it has the saltiness that give the cake a more distinctive savoury flavour, unfortunately, the poor layering of the cheddar cheese made the overall flavour less pleasant with some portion of the cake with little or complete missing the cheesy flavour. plain without cheese ($9.9) the plain version from le’ old-time flavor of taiwan has the most dense, moist and heavier variant, may be too heavy that the cake was not able to rise to the right height. the result is the shortest cake among all, you can observe the uneven texture between the top half (fluffy) and bottom half (dense) from the photo. obviously, the cake was suffering from the typical sinking cake syndrome. the nice eggy aroma was rather pronounced and not overly sweet compared to ah mah. plain with cheese ($11.9) less salty and hence cheese flavour was not as distinctive as ah mah. cheese was slightly more evenly distributed in the cake and overall taste was less subtle to provide a balanced and refined cheesy taste needed for a good cheese castella cake. plain without cheese ($11.0) original cake produced the jiggly cake with the best craftsmanship, the cake was, fine, moist with dense texture, not too sweet content and resulting in a subtle yet with beautiful eggy flavour that simply lovely. it has the thickest layer among all of them as well. plain with cheese ($13.0) – our best pick for the cheese version two layers of cheese were well distributed in between the thick slab of wobbly cake. it gives you the nice and balanced cheesy flavour in every bite, not too cheesy or salty. among all the brands, original cake 源味本鋪 stands out to have the best cheese flavour from all aspects, be it the flavour, texture or presentation. this is our best pick for the cheese version. plain without cheese $4.8 we came across this stall during the visit to old airport food centre, obviously most of the customers were after their freshly baked castella cake, we decided to explore their castella cake since we were researching the best castella cake in singapore. the size of the castella cake is smaller than all other competitors; however, the price is proportionally cheaper as well. we don’t have too high the expectations from this little known stall in a food centre at the first place, however, the first bite into the cake immediately made our eyeballs rolling, wow…wow… the featherlike fluffy texture was incredibly good, perfect sweetness and eggy flavour in combination was simply spectacular, it sent us back the memory lane and the truly old-time flavour and nostalgic taste are second to none, the good standard of this home grown castella cake is definitely well-positioned to make them stand tall challenging any of the best foreign castella cake here. a hidden gem just unearthed! this is our best pick for the plain version plain with cheese $6.8 while the plain flavour castella cake was well-loved by all us, the cheese version was less impressive, the cheese flavour was too mild to allow the taste buds to fully appreciate of the cheddar cheese. breadtalk offering an unique version of castella cake, no plain flavour but a salted egg version instead. mashed salted eggs are layered in between the cake, texture and overall flavour were ordinary and nothing to short about. ah mah traditional homemade egg sponge cake 阿嬷老字號 a: vivo city, 1 harbourfront walk, #b2-k7, singapore 098585 1 jelebu road, bukit panjang plaza, #01-18, singapore 677743 t: 6325-4508 h: 10am-10pm daily. fb: www.facebook.com/iloveahmahsg le’ old-time flavor of taiwan 樂古早味蛋糕  a: 10 tampines central 1, #b1-32, singapore 529536 h: 10am – 9pm daily fb: https://www.facebook.com/lecastellasg/ original cake 源味本鋪  a: #02-24, gateway drive, westgate jurong, singapore 608532 h: 10am – 9pm daily t: 9688 7012 w: www.originalcake.com chong pang old-time flavor 忠邦古早味 a: 51 old airport rd, stall #01-79, singapore 390051 h: 7am – 10.30pm daily t: 8228 1726 breadtalk 面包物语 a: various locations, kindly refer to their website w: www.breadtalk.com.sg/    \n",
      "Tiong Bahru Galicier Pastry Review – One of the best Kueh...\n",
      "27/09/2017\n",
      "we do enjoy the kueh dar-dar and ondeh-ondeh from tiong bahru galicier pastry, other kuehs are reasonably good as well. if you have limited capacity, go try at least the two kueh-kueh mentioned, you wouldn't regret it. tiong bahru galicier pastry review – one of the best kueh dar-dar from the hainanese curry rice at the corner of the coffeeshop to the teochew rice kueh and many other delectable local hawker dishes in the neat and clean food centre, the food here have evoked many nostalgic memories of our childhood’s favorites. tiong bahru – a medley of new and old, while the progression are enthralling viewing, it is a real good place worth the soul searching of our heritage including the exotic food scene. tiong bahru galicier pastry, a typical old shophouse presented in the most traditional manner and unpretentious way, not the environment and setting to attract you but the it is their old-school nonya kueh or pastries that entice your tastebuds. tiong bahru galicier pastry offers an assortment of nonya kuehs, however, our objectives of visiting the shop is clear, the shopping list cannot left out the kueh dar-dar and ondeh-ondeh. the two most sought after kuehs among the array of kueh. kueh dar-dar ($0.80) white grated coconut wrapped in a green-coloured pandan-flavoured thick rice roll, the kueh dar dar here stands out among others with its unique filling, tiong bahru galicier pastry do not add palm sugar or gula melaka for extra sweetness, the snowy white grated coconut is fresh and fragrance, keeping the most original coconut flavour in its form with its mildly sweet taste. one of the best kueh dar dar in singapore? we can concur and endorse the claim. ondeh-ondeh  the round rice balls are filled with melted gula melaka, if you don’t want to stain your clothes or face and hands with the explosive juice encased in the dough, never eat the ondeh-ondeh with a bite, just pop the whole ball in one mouthful and let the gula melaka to burst in the mouth, you will be able to enjoy the essence of the gula melaka and the softness of the dough. every ball is just salivating. others kueh kueh are reasonably good but the real mccoy here are the must try kueh dadar and ondeh-ondeh. our verdict we do enjoy the kueh dar-dar and ondeh-ondeh tiong bahru galicier pastry, other kuehs are reasonably good as well. if you have limited capacity, go try at least the two kueh-kueh mentioned, you wouldn’t regret it. tiong bahru galicier pastry ",
      " a: block 55 tiong bahru road #01-39, singapore 160055 t: 6324 1686 h: 10.00am to 8.30pm daily (closed on monday)\n"
     ]
    },
    {
     "ename": "SSLError",
     "evalue": "(\"bad handshake: SysCallError(-1, 'Unexpected EOF')\",)",
     "output_type": "error",
     "traceback": [
      "\u001b[0;31m---------------------------------------------------------------------------\u001b[0m",
      "\u001b[0;31mSSLError\u001b[0m                                  Traceback (most recent call last)",
      "\u001b[0;32m<ipython-input-19-780dc90bd4aa>\u001b[0m in \u001b[0;36m<module>\u001b[0;34m()\u001b[0m\n\u001b[1;32m      1\u001b[0m \u001b[0;32mfor\u001b[0m \u001b[0msummary\u001b[0m \u001b[0;32min\u001b[0m \u001b[0mblogs\u001b[0m\u001b[0;34m:\u001b[0m\u001b[0;34m\u001b[0m\u001b[0m\n\u001b[1;32m      2\u001b[0m         \u001b[0mhref\u001b[0m \u001b[0;34m=\u001b[0m \u001b[0msummary\u001b[0m\u001b[0;34m.\u001b[0m\u001b[0mfind\u001b[0m\u001b[0;34m(\u001b[0m\u001b[0;34m'a'\u001b[0m\u001b[0;34m)\u001b[0m\u001b[0;34m.\u001b[0m\u001b[0mget\u001b[0m\u001b[0;34m(\u001b[0m\u001b[0;34m'href'\u001b[0m\u001b[0;34m)\u001b[0m\u001b[0;34m\u001b[0m\u001b[0m\n\u001b[0;32m----> 3\u001b[0;31m         \u001b[0mr\u001b[0m \u001b[0;34m=\u001b[0m \u001b[0mrequests\u001b[0m\u001b[0;34m.\u001b[0m\u001b[0mget\u001b[0m\u001b[0;34m(\u001b[0m\u001b[0mhref\u001b[0m\u001b[0;34m)\u001b[0m\u001b[0;34m\u001b[0m\u001b[0m\n\u001b[0m\u001b[1;32m      4\u001b[0m         \u001b[0ms\u001b[0m \u001b[0;34m=\u001b[0m \u001b[0mbs\u001b[0m\u001b[0;34m(\u001b[0m\u001b[0mr\u001b[0m\u001b[0;34m.\u001b[0m\u001b[0mtext\u001b[0m\u001b[0;34m,\u001b[0m \u001b[0;34m'html.parser'\u001b[0m\u001b[0;34m)\u001b[0m\u001b[0;34m\u001b[0m\u001b[0m\n\u001b[1;32m      5\u001b[0m \u001b[0;34m\u001b[0m\u001b[0m\n",
      "\u001b[0;32m/Users/cheeyongquah/anaconda/lib/python2.7/site-packages/requests/api.pyc\u001b[0m in \u001b[0;36mget\u001b[0;34m(url, params, **kwargs)\u001b[0m\n\u001b[1;32m     70\u001b[0m \u001b[0;34m\u001b[0m\u001b[0m\n\u001b[1;32m     71\u001b[0m     \u001b[0mkwargs\u001b[0m\u001b[0;34m.\u001b[0m\u001b[0msetdefault\u001b[0m\u001b[0;34m(\u001b[0m\u001b[0;34m'allow_redirects'\u001b[0m\u001b[0;34m,\u001b[0m \u001b[0mTrue\u001b[0m\u001b[0;34m)\u001b[0m\u001b[0;34m\u001b[0m\u001b[0m\n\u001b[0;32m---> 72\u001b[0;31m     \u001b[0;32mreturn\u001b[0m \u001b[0mrequest\u001b[0m\u001b[0;34m(\u001b[0m\u001b[0;34m'get'\u001b[0m\u001b[0;34m,\u001b[0m \u001b[0murl\u001b[0m\u001b[0;34m,\u001b[0m \u001b[0mparams\u001b[0m\u001b[0;34m=\u001b[0m\u001b[0mparams\u001b[0m\u001b[0;34m,\u001b[0m \u001b[0;34m**\u001b[0m\u001b[0mkwargs\u001b[0m\u001b[0;34m)\u001b[0m\u001b[0;34m\u001b[0m\u001b[0m\n\u001b[0m\u001b[1;32m     73\u001b[0m \u001b[0;34m\u001b[0m\u001b[0m\n\u001b[1;32m     74\u001b[0m \u001b[0;34m\u001b[0m\u001b[0m\n",
      "\u001b[0;32m/Users/cheeyongquah/anaconda/lib/python2.7/site-packages/requests/api.pyc\u001b[0m in \u001b[0;36mrequest\u001b[0;34m(method, url, **kwargs)\u001b[0m\n\u001b[1;32m     56\u001b[0m     \u001b[0;31m# cases, and look like a memory leak in others.\u001b[0m\u001b[0;34m\u001b[0m\u001b[0;34m\u001b[0m\u001b[0m\n\u001b[1;32m     57\u001b[0m     \u001b[0;32mwith\u001b[0m \u001b[0msessions\u001b[0m\u001b[0;34m.\u001b[0m\u001b[0mSession\u001b[0m\u001b[0;34m(\u001b[0m\u001b[0;34m)\u001b[0m \u001b[0;32mas\u001b[0m \u001b[0msession\u001b[0m\u001b[0;34m:\u001b[0m\u001b[0;34m\u001b[0m\u001b[0m\n\u001b[0;32m---> 58\u001b[0;31m         \u001b[0;32mreturn\u001b[0m \u001b[0msession\u001b[0m\u001b[0;34m.\u001b[0m\u001b[0mrequest\u001b[0m\u001b[0;34m(\u001b[0m\u001b[0mmethod\u001b[0m\u001b[0;34m=\u001b[0m\u001b[0mmethod\u001b[0m\u001b[0;34m,\u001b[0m \u001b[0murl\u001b[0m\u001b[0;34m=\u001b[0m\u001b[0murl\u001b[0m\u001b[0;34m,\u001b[0m \u001b[0;34m**\u001b[0m\u001b[0mkwargs\u001b[0m\u001b[0;34m)\u001b[0m\u001b[0;34m\u001b[0m\u001b[0m\n\u001b[0m\u001b[1;32m     59\u001b[0m \u001b[0;34m\u001b[0m\u001b[0m\n\u001b[1;32m     60\u001b[0m \u001b[0;34m\u001b[0m\u001b[0m\n",
      "\u001b[0;32m/Users/cheeyongquah/anaconda/lib/python2.7/site-packages/requests/sessions.pyc\u001b[0m in \u001b[0;36mrequest\u001b[0;34m(self, method, url, params, data, headers, cookies, files, auth, timeout, allow_redirects, proxies, hooks, stream, verify, cert, json)\u001b[0m\n\u001b[1;32m    516\u001b[0m         }\n\u001b[1;32m    517\u001b[0m         \u001b[0msend_kwargs\u001b[0m\u001b[0;34m.\u001b[0m\u001b[0mupdate\u001b[0m\u001b[0;34m(\u001b[0m\u001b[0msettings\u001b[0m\u001b[0;34m)\u001b[0m\u001b[0;34m\u001b[0m\u001b[0m\n\u001b[0;32m--> 518\u001b[0;31m         \u001b[0mresp\u001b[0m \u001b[0;34m=\u001b[0m \u001b[0mself\u001b[0m\u001b[0;34m.\u001b[0m\u001b[0msend\u001b[0m\u001b[0;34m(\u001b[0m\u001b[0mprep\u001b[0m\u001b[0;34m,\u001b[0m \u001b[0;34m**\u001b[0m\u001b[0msend_kwargs\u001b[0m\u001b[0;34m)\u001b[0m\u001b[0;34m\u001b[0m\u001b[0m\n\u001b[0m\u001b[1;32m    519\u001b[0m \u001b[0;34m\u001b[0m\u001b[0m\n\u001b[1;32m    520\u001b[0m         \u001b[0;32mreturn\u001b[0m \u001b[0mresp\u001b[0m\u001b[0;34m\u001b[0m\u001b[0m\n",
      "\u001b[0;32m/Users/cheeyongquah/anaconda/lib/python2.7/site-packages/requests/sessions.pyc\u001b[0m in \u001b[0;36msend\u001b[0;34m(self, request, **kwargs)\u001b[0m\n\u001b[1;32m    637\u001b[0m \u001b[0;34m\u001b[0m\u001b[0m\n\u001b[1;32m    638\u001b[0m         \u001b[0;31m# Send the request\u001b[0m\u001b[0;34m\u001b[0m\u001b[0;34m\u001b[0m\u001b[0m\n\u001b[0;32m--> 639\u001b[0;31m         \u001b[0mr\u001b[0m \u001b[0;34m=\u001b[0m \u001b[0madapter\u001b[0m\u001b[0;34m.\u001b[0m\u001b[0msend\u001b[0m\u001b[0;34m(\u001b[0m\u001b[0mrequest\u001b[0m\u001b[0;34m,\u001b[0m \u001b[0;34m**\u001b[0m\u001b[0mkwargs\u001b[0m\u001b[0;34m)\u001b[0m\u001b[0;34m\u001b[0m\u001b[0m\n\u001b[0m\u001b[1;32m    640\u001b[0m \u001b[0;34m\u001b[0m\u001b[0m\n\u001b[1;32m    641\u001b[0m         \u001b[0;31m# Total elapsed time of the request (approximately)\u001b[0m\u001b[0;34m\u001b[0m\u001b[0;34m\u001b[0m\u001b[0m\n",
      "\u001b[0;32m/Users/cheeyongquah/anaconda/lib/python2.7/site-packages/requests/adapters.pyc\u001b[0m in \u001b[0;36msend\u001b[0;34m(self, request, stream, timeout, verify, cert, proxies)\u001b[0m\n\u001b[1;32m    510\u001b[0m         \u001b[0;32mexcept\u001b[0m \u001b[0;34m(\u001b[0m\u001b[0m_SSLError\u001b[0m\u001b[0;34m,\u001b[0m \u001b[0m_HTTPError\u001b[0m\u001b[0;34m)\u001b[0m \u001b[0;32mas\u001b[0m \u001b[0me\u001b[0m\u001b[0;34m:\u001b[0m\u001b[0;34m\u001b[0m\u001b[0m\n\u001b[1;32m    511\u001b[0m             \u001b[0;32mif\u001b[0m \u001b[0misinstance\u001b[0m\u001b[0;34m(\u001b[0m\u001b[0me\u001b[0m\u001b[0;34m,\u001b[0m \u001b[0m_SSLError\u001b[0m\u001b[0;34m)\u001b[0m\u001b[0;34m:\u001b[0m\u001b[0;34m\u001b[0m\u001b[0m\n\u001b[0;32m--> 512\u001b[0;31m                 \u001b[0;32mraise\u001b[0m \u001b[0mSSLError\u001b[0m\u001b[0;34m(\u001b[0m\u001b[0me\u001b[0m\u001b[0;34m,\u001b[0m \u001b[0mrequest\u001b[0m\u001b[0;34m=\u001b[0m\u001b[0mrequest\u001b[0m\u001b[0;34m)\u001b[0m\u001b[0;34m\u001b[0m\u001b[0m\n\u001b[0m\u001b[1;32m    513\u001b[0m             \u001b[0;32melif\u001b[0m \u001b[0misinstance\u001b[0m\u001b[0;34m(\u001b[0m\u001b[0me\u001b[0m\u001b[0;34m,\u001b[0m \u001b[0mReadTimeoutError\u001b[0m\u001b[0;34m)\u001b[0m\u001b[0;34m:\u001b[0m\u001b[0;34m\u001b[0m\u001b[0m\n\u001b[1;32m    514\u001b[0m                 \u001b[0;32mraise\u001b[0m \u001b[0mReadTimeout\u001b[0m\u001b[0;34m(\u001b[0m\u001b[0me\u001b[0m\u001b[0;34m,\u001b[0m \u001b[0mrequest\u001b[0m\u001b[0;34m=\u001b[0m\u001b[0mrequest\u001b[0m\u001b[0;34m)\u001b[0m\u001b[0;34m\u001b[0m\u001b[0m\n",
      "\u001b[0;31mSSLError\u001b[0m: (\"bad handshake: SysCallError(-1, 'Unexpected EOF')\",)"
     ]
    }
   ],
   "source": [
    "for summary in blogs:\n",
    "        href = summary.find('a').get('href')\n",
    "        r = requests.get(href)\n",
    "        s = bs(r.text, 'html.parser')\n",
    "\n",
    "        # find date\n",
    "        date = s.find('span', {'class' : 'dtreviewed'}).find('span').text\n",
    "\n",
    "        # find detail\n",
    "        y = s.find('div', {'class' : \"review\"}).find_all('p')\n",
    "        doc = []\n",
    "        for p in y:\n",
    "            if p.text:\n",
    "                doc.append(p.text.lower())\n",
    "        d = ' '.join(doc)\n",
    "        \n",
    "        print summary.text\n",
    "        print date\n",
    "        print d\n",
    "        "
   ]
  },
  {
   "cell_type": "code",
   "execution_count": null,
   "metadata": {
    "collapsed": true
   },
   "outputs": [],
   "source": []
  }
 ],
 "metadata": {
  "kernelspec": {
   "display_name": "Python 2",
   "language": "python",
   "name": "python2"
  },
  "language_info": {
   "codemirror_mode": {
    "name": "ipython",
    "version": 2
   },
   "file_extension": ".py",
   "mimetype": "text/x-python",
   "name": "python",
   "nbconvert_exporter": "python",
   "pygments_lexer": "ipython2",
   "version": "2.7.13"
  }
 },
 "nbformat": 4,
 "nbformat_minor": 2
}

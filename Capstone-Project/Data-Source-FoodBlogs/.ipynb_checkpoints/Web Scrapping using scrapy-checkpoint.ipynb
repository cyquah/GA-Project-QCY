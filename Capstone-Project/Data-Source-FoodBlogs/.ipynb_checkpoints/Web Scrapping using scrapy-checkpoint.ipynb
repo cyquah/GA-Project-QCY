{
 "cells": [
  {
   "cell_type": "code",
   "execution_count": 4,
   "metadata": {
    "collapsed": true
   },
   "outputs": [],
   "source": [
    "import scrapy\n",
    "from scrapy.selector import Selector\n",
    "from scrapy.http import HtmlResponse\n",
    "\n",
    "import requests"
   ]
  },
  {
   "cell_type": "code",
   "execution_count": 35,
   "metadata": {},
   "outputs": [],
   "source": [
    "url = 'https://www.misstamchiak.com/eat/'\n",
    "\n",
    "response = HtmlResponse(url=url)"
   ]
  },
  {
   "cell_type": "code",
   "execution_count": 36,
   "metadata": {},
   "outputs": [],
   "source": [
    "c = Selector(response=response).xpath(\"//div[@class='archive-item-content-text']\").extract()\n",
    "d = Selector(response=response).xpath(\"//h3[@class='entry-title']\").extract()"
   ]
  },
  {
   "cell_type": "code",
   "execution_count": 37,
   "metadata": {},
   "outputs": [
    {
     "name": "stdout",
     "output_type": "stream",
     "text": [
      "0\n"
     ]
    }
   ],
   "source": [
    "print len(d)"
   ]
  },
  {
   "cell_type": "code",
   "execution_count": 29,
   "metadata": {},
   "outputs": [
    {
     "name": "stdout",
     "output_type": "stream",
     "text": [
      "<h3 class=\"entry-title\"><a href=\"https://www.misstamchiak.com/brunch-at-clarke-quay/\" rel=\"bookmark\">8 Brunch Places to Eat in Clarke Quay – Kid dines free with every 2 paying adults</a></h3>\n",
      "<div class=\"archive-item-content-text\">\n",
      "Clarke Quay is well known for after-work drinks, dinner and partying the night away. But during the day, it is... </div>\n",
      "\n",
      "<h3 class=\"entry-title\"><a href=\"https://www.misstamchiak.com/oscars-conrad-sunday-brunch/\" rel=\"bookmark\">Oscar’s Serves Up New Supercharged Sunday Brunch</a></h3>\n",
      "<div class=\"archive-item-content-text\">\n",
      "Oscar’s at Conrad Centennial Singapore is back with a new look, along with a whole new Sunday brunch offering that... </div>\n",
      "\n",
      "<h3 class=\"entry-title\"><a href=\"https://www.misstamchiak.com/ionfoodie-travels-april-2016/\" rel=\"bookmark\">#IONFoodie Travels – A Trip Through Cuisines Around the World</a></h3>\n",
      "<div class=\"archive-item-content-text\">\n",
      "Go on a #IONFoodie adventure around the world with ION Orchard’s F&amp;B outlets! From now till 31 July 2016, various... </div>\n",
      "\n",
      "<h3 class=\"entry-title\"><a href=\"https://www.misstamchiak.com/toa-payoh-food-guide/\" rel=\"bookmark\">Toa Payoh Food Guide: The Really Local Food Edition</a></h3>\n",
      "<div class=\"archive-item-content-text\">\n",
      "Text &amp; Photos by Jinhua &amp; Maureen As one of the oldest satellite towns in Singapore, Toa Payoh has a... </div>\n",
      "\n",
      "<h3 class=\"entry-title\"><a href=\"https://www.misstamchiak.com/duck-confits/\" rel=\"bookmark\">Love Duck Confit? Here’s 8 DUCculent options under $20!</a></h3>\n",
      "<div class=\"archive-item-content-text\">\n",
      "Canard confit, or duck confit, is a popular French dish.  It isn’t easy finding an affordable yet well-executed duck confit. However, we have good news for you! We’ve found 8 duck... </div>\n",
      "\n",
      "<h3 class=\"entry-title\"><a href=\"https://www.misstamchiak.com/fairmont-jakarta/\" rel=\"bookmark\">Fairmont Jakarta – World of Gastronomy at the heart of Indonesia</a></h3>\n",
      "<div class=\"archive-item-content-text\">\n",
      "The Savoy is one of the most celebrated of London landmarks. A destination for food lovers, I haven’t had the chance to visit the hotel yet. But I am honoured... </div>\n",
      "\n",
      "<h3 class=\"entry-title\"><a href=\"https://www.misstamchiak.com/mei-feng-roasted-chicken-rice/\" rel=\"bookmark\">Mei Feng Roasted Chicken Rice – Great Meats Take Dedication</a></h3>\n",
      "<div class=\"archive-item-content-text\">\n",
      "“You’ve found us!”, screams the signage plastered on the glass display. Behind it hangs all the beautifully charred charsiew, crispy roasted pork belly, and both roasted and poached chicken. Mei... </div>\n",
      "\n",
      "<h3 class=\"entry-title\"><a href=\"https://www.misstamchiak.com/zheng-xing/\" rel=\"bookmark\">Zheng Xing Mei Shi – Traditional Dessert Stall that Opens 4 Days A Week</a></h3>\n",
      "<div class=\"archive-item-content-text\">\n",
      "My aunt loves cooking tau suan so this is my favourite dessert since I was young. She would usually cook a big pot while my grandfather would buy fried dough... </div>\n",
      "\n",
      "<h3 class=\"entry-title\"><a href=\"https://www.misstamchiak.com/knots-cafe/\" rel=\"bookmark\">Knots Cafe and Living – A Great Mix Of Food, Flowers, And Furniture</a></h3>\n",
      "<div class=\"archive-item-content-text\">\n",
      "Multi-concept stores might be aplenty, but few strike a harmonious mix like Knots Cafe and Living. Food, flower, and furniture come together in this sprawling space to create an eclectic... </div>\n",
      "\n",
      "<h3 class=\"entry-title\"><a href=\"https://www.misstamchiak.com/char/\" rel=\"bookmark\">CHAR – New Menu with Premium Slow-Roasted Char Siew (Limited to 10 Portions Per Day!)</a></h3>\n",
      "<div class=\"archive-item-content-text\">\n",
      "CHAR Restaurant first appeared on the dining scene in Singapore in 2014 when it was launched by Anthony and Alvin Ung – two Vietnam born brothers who spent most of... </div>\n",
      "\n",
      "<h3 class=\"entry-title\"><a href=\"https://www.misstamchiak.com/farm-n-pantry/\" rel=\"bookmark\">Fresh Australian Products Direct to You at Farm N Pantry, Tanjong Pagar Centre</a></h3>\n",
      "<div class=\"archive-item-content-text\">\n",
      "There are a growing number of specialty supermarket stores that have a strong focus on imported food products. Do you know how many actually focuses on Australian produce? I can... </div>\n",
      "\n",
      "<h3 class=\"entry-title\"><a href=\"https://www.misstamchiak.com/founder-bak-kut-teh/\" rel=\"bookmark\">Founder Bak Kut Teh (Bugis) – New Outlet, New Items!</a></h3>\n",
      "<div class=\"archive-item-content-text\">\n",
      "Comforting. Peppery. Rich. Garlicky. That is how a memorable bowl of Bak Kut Teh should be like. And when we are talking about the epitome of “soup for the soul”,... </div>\n",
      "\n"
     ]
    }
   ],
   "source": [
    "for i in range(len(c)):\n",
    "    print d[i].strip()\n",
    "    print c[i].strip()    \n",
    "    print ''"
   ]
  },
  {
   "cell_type": "code",
   "execution_count": null,
   "metadata": {
    "collapsed": true
   },
   "outputs": [],
   "source": []
  }
 ],
 "metadata": {
  "kernelspec": {
   "display_name": "Python 2",
   "language": "python",
   "name": "python2"
  },
  "language_info": {
   "codemirror_mode": {
    "name": "ipython",
    "version": 2
   },
   "file_extension": ".py",
   "mimetype": "text/x-python",
   "name": "python",
   "nbconvert_exporter": "python",
   "pygments_lexer": "ipython2",
   "version": "2.7.13"
  }
 },
 "nbformat": 4,
 "nbformat_minor": 2
}

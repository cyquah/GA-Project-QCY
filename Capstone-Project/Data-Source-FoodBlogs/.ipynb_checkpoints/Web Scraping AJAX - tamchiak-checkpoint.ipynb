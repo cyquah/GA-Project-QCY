{
 "cells": [
  {
   "cell_type": "code",
   "execution_count": 1,
   "metadata": {
    "collapsed": true
   },
   "outputs": [],
   "source": [
    "from selenium.webdriver.support.ui import WebDriverWait\n",
    "from selenium.webdriver.support import expected_conditions as EC\n",
    "from selenium.webdriver.common.by import By\n",
    "from selenium import webdriver\n",
    "\n",
    "import requests\n",
    "from bs4 import BeautifulSoup as bs"
   ]
  },
  {
   "cell_type": "code",
   "execution_count": 2,
   "metadata": {
    "collapsed": true
   },
   "outputs": [],
   "source": [
    "url = 'https://www.misstamchiak.com/eat/'"
   ]
  },
  {
   "cell_type": "code",
   "execution_count": null,
   "metadata": {
    "collapsed": true
   },
   "outputs": [],
   "source": [
    "import urllib\n",
    "response = urllib.urlopen(url).read()\n",
    "soup = bs(response, 'html.parser')\n",
    "\n",
    "print soup.prettify()"
   ]
  },
  {
   "cell_type": "code",
   "execution_count": 3,
   "metadata": {
    "collapsed": true
   },
   "outputs": [],
   "source": [
    "# Start the WebDriver and load the page\n",
    "wd = webdriver.Chrome()\n",
    "wd.get(url)"
   ]
  },
  {
   "cell_type": "code",
   "execution_count": null,
   "metadata": {
    "collapsed": true
   },
   "outputs": [],
   "source": [
    "# Wait for the dynamically loaded elements to show up\n",
    "WebDriverWait(wd, 10).until(\n",
    "    EC.visibility_of_element_located((By.CLASS_NAME, \"archive-item-content\")))\n"
   ]
  },
  {
   "cell_type": "code",
   "execution_count": 4,
   "metadata": {
    "collapsed": true
   },
   "outputs": [],
   "source": [
    "# And grab the page HTML source\n",
    "html_page = wd.page_source\n",
    "wd.quit()"
   ]
  },
  {
   "cell_type": "code",
   "execution_count": null,
   "metadata": {
    "scrolled": true
   },
   "outputs": [],
   "source": [
    "# Now you can use html_page as you like\n",
    "soup1 = bs(html_page, 'html.parser')\n",
    "\n",
    "print soup1.prettify()"
   ]
  },
  {
   "cell_type": "code",
   "execution_count": 6,
   "metadata": {
    "scrolled": false
   },
   "outputs": [
    {
     "name": "stdout",
     "output_type": "stream",
     "text": [
      "<class 'bs4.element.ResultSet'>\n",
      "\n",
      "<a href=\"https://www.misstamchiak.com/xiang-ji-cooked-food-porridge/\" rel=\"bookmark\">Xiang Ji Cooked Food – Popular Porridge Stall in Yuhua Village</a>\n",
      "\n",
      "Xiang Ji Cooked Food – Popular Porridge Stall in Yuhua Village\n",
      "\n",
      "https://www.misstamchiak.com/xiang-ji-cooked-food-porridge/\n"
     ]
    }
   ],
   "source": [
    "s = soup1.findAll('div', {'class' : 'archive-item-content'})\n",
    "print type(s)\n",
    "print ''\n",
    "\n",
    "t = s[10].find('h3', {'class' : 'entry-title'}).find('a')\n",
    "\n",
    "print t\n",
    "print ''\n",
    "print t.string\n",
    "print ''\n",
    "\n",
    "u = t.get('href')\n",
    "\n",
    "print u"
   ]
  },
  {
   "cell_type": "code",
   "execution_count": null,
   "metadata": {
    "collapsed": true
   },
   "outputs": [],
   "source": [
    "wd = webdriver.Chrome()\n",
    "wd.get(u)"
   ]
  },
  {
   "cell_type": "code",
   "execution_count": 44,
   "metadata": {
    "collapsed": true
   },
   "outputs": [],
   "source": [
    "blog_page = wd.page_source\n",
    "wd.quit()"
   ]
  },
  {
   "cell_type": "code",
   "execution_count": 45,
   "metadata": {
    "collapsed": true
   },
   "outputs": [],
   "source": [
    "soup2 = bs(blog_page, 'html.parser')"
   ]
  },
  {
   "cell_type": "code",
   "execution_count": 47,
   "metadata": {},
   "outputs": [
    {
     "name": "stdout",
     "output_type": "stream",
     "text": [
      "<p>The unusual Mac &amp; Cheese Escargots ($14) caught our eyes on social media. This dish is served in a hot ceramic pot that is served straight out of the oven, so do be careful! The macaroni was light and wasn’t too cheesy for my taste. I do enjoy the soft texture of the escargots, though it isn’t as flavourful as I would have liked. You might like to grab a cup of refreshing Autumn Sweater Black Tea ($4.50) to balance out the rich, cheesy taste. The mild-tasting tea has a tinge of vanilla flavour, which pairs nicely with the Mac &amp; Cheese.</p>\n"
     ]
    }
   ],
   "source": [
    "d = soup2.find_all('p')\n",
    "print d[3]"
   ]
  },
  {
   "cell_type": "code",
   "execution_count": null,
   "metadata": {
    "collapsed": true
   },
   "outputs": [],
   "source": []
  }
 ],
 "metadata": {
  "kernelspec": {
   "display_name": "Python 2",
   "language": "python",
   "name": "python2"
  },
  "language_info": {
   "codemirror_mode": {
    "name": "ipython",
    "version": 2
   },
   "file_extension": ".py",
   "mimetype": "text/x-python",
   "name": "python",
   "nbconvert_exporter": "python",
   "pygments_lexer": "ipython2",
   "version": "2.7.13"
  }
 },
 "nbformat": 4,
 "nbformat_minor": 2
}

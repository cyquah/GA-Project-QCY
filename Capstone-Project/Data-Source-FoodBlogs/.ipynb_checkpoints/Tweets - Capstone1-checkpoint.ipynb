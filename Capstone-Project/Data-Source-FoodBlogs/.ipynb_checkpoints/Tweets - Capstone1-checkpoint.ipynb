{
 "cells": [
  {
   "cell_type": "code",
   "execution_count": 1,
   "metadata": {
    "collapsed": true
   },
   "outputs": [],
   "source": [
    "import tweepy\n",
    "from tweepy import OAuthHandler\n",
    "import pandas as pd\n",
    "import matplotlib.pyplot as plt\n",
    "import numpy as np\n",
    "import re\n",
    "\n",
    "pd.options.display.max_columns = 50\n",
    "pd.options.display.max_rows = 50\n",
    "pd.options.display.width = 120"
   ]
  },
  {
   "cell_type": "code",
   "execution_count": 2,
   "metadata": {
    "collapsed": true
   },
   "outputs": [],
   "source": [
    "consumer_key = 'yCX0HfM3kJFmanBlHRqt0T1Of'\n",
    "consumer_secret = 'i5i1KS42ueAklCKQBAr5Fh3yAMUzwkR5nmhIqjcRFXprsEpAWj'\n",
    "access_token = '867963177673269248-3C3LGmQablQZKdaM39NI0zdiPFYEhbZ'\n",
    "access_secret = 'WPW5JhGYkWNqRYgCKUJKcvetdemDJeN8Lt1GL4NP650ec'\n",
    "\n",
    "auth = OAuthHandler(consumer_key, consumer_secret)\n",
    "auth.set_access_token(access_token, access_secret)\n",
    "\n",
    "api = tweepy.API(auth)"
   ]
  },
  {
   "cell_type": "code",
   "execution_count": 3,
   "metadata": {},
   "outputs": [
    {
     "name": "stdout",
     "output_type": "stream",
     "text": [
      "35\n"
     ]
    }
   ],
   "source": [
    "import time\n",
    "\n",
    "start = time.time()\n",
    "                                \n",
    "def limit_handled(cursor):\n",
    "    while True:\n",
    "        try:\n",
    "            yield cursor.next()\n",
    "        except tweepy.RateLimitError:\n",
    "            time.sleep(15 * 60)\n",
    "\n",
    "date = '2017-01-01'\n",
    "tweets = limit_handled(tweepy.Cursor(api.search, q='singapore food', since=date).items(100))\n",
    "results = []\n",
    "\n",
    "for tweet in tweets:\n",
    "    if tweet.author.location == \"Singapore\":\n",
    "        if (not tweet.retweeted) and ('RT @' not in tweet.text):\n",
    "                results.append(tweet.text.lower())\n",
    "    \n",
    "print len(results)"
   ]
  },
  {
   "cell_type": "code",
   "execution_count": 4,
   "metadata": {
    "scrolled": false
   },
   "outputs": [
    {
     "name": "stdout",
     "output_type": "stream",
     "text": [
      "22\n"
     ]
    }
   ],
   "source": [
    "def no_duplicates(results):\n",
    "    # to remove duplicate tweets that are not retweets by comparing the first 50 characters of the tweet\n",
    "\n",
    "    no_dupli = []\n",
    "    # initialise empty list to contain duplicate tweets once only \n",
    "    dup_once = []\n",
    "    # initialise dup_once ist to contain truncated tweets for comparison\n",
    "    dup_once_trunc = []\n",
    "    res_trunc = [x[:50] for x in results]\n",
    "\n",
    "    for i in range(len(results)):\n",
    "        # remove truncated item to see if there are other duplicates in the list\n",
    "        del res_trunc[i]\n",
    "        if results[i][:50] not in res_trunc:\n",
    "            no_dupli.append(results[i])\n",
    "        else:\n",
    "            # check and input duplicates once only\n",
    "            if results[i][:50] not in dup_once_trunc:\n",
    "                    dup_once.append(results[i])\n",
    "                    dup_once_trunc.append(results[i][:50])\n",
    "        res_trunc = [x[:50] for x in results]\n",
    "\n",
    "    no_dupli.extend(dup_once)\n",
    "            \n",
    "    return no_dupli\n",
    "\n",
    "no_dup = no_duplicates(results)\n",
    "\n",
    "print len(no_dup)"
   ]
  },
  {
   "cell_type": "code",
   "execution_count": 5,
   "metadata": {},
   "outputs": [
    {
     "name": "stdout",
     "output_type": "stream",
     "text": [
      "22\n"
     ]
    }
   ],
   "source": [
    "# parse html elements\n",
    "import HTMLParser\n",
    "html_parser = HTMLParser.HTMLParser()\n",
    "\n",
    "no_html = []\n",
    "for i in no_dup:\n",
    "    i = html_parser.unescape(i)\n",
    "    no_html.append(i)\n",
    "    \n",
    "print len(no_html)"
   ]
  },
  {
   "cell_type": "code",
   "execution_count": 6,
   "metadata": {},
   "outputs": [
    {
     "name": "stdout",
     "output_type": "stream",
     "text": [
      "22\n"
     ]
    }
   ],
   "source": [
    "# remove urls at the end of the tweet\n",
    "url_re = 'https:\\/\\/t\\.co\\/([a-zA-Z\\d]*)'\n",
    "    \n",
    "no_url = []\n",
    "for i in no_html:\n",
    "    u = re.finditer(url_re , i)\n",
    "    if u:\n",
    "        for a in u:\n",
    "            i = i.replace(a.group(), '')\n",
    "    # remove newline at end of tweet\n",
    "    i = i.replace('\\n', '')\n",
    "    no_url.append(i)\n",
    "    \n",
    "print len(no_url)"
   ]
  },
  {
   "cell_type": "code",
   "execution_count": 7,
   "metadata": {
    "collapsed": true
   },
   "outputs": [],
   "source": [
    "# remove any screen names encountered\n",
    "no_scrname = []\n",
    "scrname_re = '@([a-zA-Z\\d]*)'\n",
    "for i in no_url:\n",
    "    u = re.finditer(scrname_re , i)\n",
    "    if u:\n",
    "        for a in u:\n",
    "            i = i.replace(a.group(), '')\n",
    "    no_scrname.append(i)    "
   ]
  },
  {
   "cell_type": "code",
   "execution_count": 8,
   "metadata": {
    "collapsed": true
   },
   "outputs": [],
   "source": [
    "# remove all hashtags\n",
    "no_hashtag = []\n",
    "hashtag_re = '#([a-z]+)'\n",
    "\n",
    "for i in no_scrname:\n",
    "    u = re.finditer(hashtag_re , i)\n",
    "    if u:\n",
    "        for a in u:\n",
    "            i = i.replace(a.group(), '')\n",
    "    no_hashtag.append(i)"
   ]
  },
  {
   "cell_type": "code",
   "execution_count": 9,
   "metadata": {
    "collapsed": true,
    "scrolled": false
   },
   "outputs": [],
   "source": [
    "# get all a-z characters only and remove emojis, numbers, punctuations and special characters\n",
    "char_only = []\n",
    "not_char_re = '([^a-z\\s]+)'\n",
    "for i in no_scrname:\n",
    "    u = re.finditer(not_char_re , i)\n",
    "    if u:\n",
    "        for a in u:\n",
    "            i = i.replace(a.group(), '')\n",
    "    char_only.append(i)"
   ]
  },
  {
   "cell_type": "code",
   "execution_count": 10,
   "metadata": {},
   "outputs": [
    {
     "data": {
      "text/html": [
       "<div>\n",
       "<style>\n",
       "    .dataframe thead tr:only-child th {\n",
       "        text-align: right;\n",
       "    }\n",
       "\n",
       "    .dataframe thead th {\n",
       "        text-align: left;\n",
       "    }\n",
       "\n",
       "    .dataframe tbody tr th {\n",
       "        vertical-align: top;\n",
       "    }\n",
       "</style>\n",
       "<table border=\"1\" class=\"dataframe\">\n",
       "  <thead>\n",
       "    <tr style=\"text-align: right;\">\n",
       "      <th></th>\n",
       "      <th>Tweets</th>\n",
       "    </tr>\n",
       "  </thead>\n",
       "  <tbody>\n",
       "    <tr>\n",
       "      <th>0</th>\n",
       "      <td>milk tea with flavoured pearls have hit singap...</td>\n",
       "    </tr>\n",
       "    <tr>\n",
       "      <th>1</th>\n",
       "      <td>i gym to eat 😂😂😂gymtoeat food foodie szechu...</td>\n",
       "    </tr>\n",
       "    <tr>\n",
       "      <th>2</th>\n",
       "      <td>flavoured pearls have landed in singapore foll...</td>\n",
       "    </tr>\n",
       "    <tr>\n",
       "      <th>3</th>\n",
       "      <td>surge in freelance drivers in singapore suppor...</td>\n",
       "    </tr>\n",
       "    <tr>\n",
       "      <th>4</th>\n",
       "      <td>for some street food or local delicacies was m...</td>\n",
       "    </tr>\n",
       "    <tr>\n",
       "      <th>5</th>\n",
       "      <td>food is so cheap in the us compared to singapore</td>\n",
       "    </tr>\n",
       "    <tr>\n",
       "      <th>6</th>\n",
       "      <td>enjoy a family staycation at swisstel merchant...</td>\n",
       "    </tr>\n",
       "    <tr>\n",
       "      <th>7</th>\n",
       "      <td>georgeous food at  last wknd chef ryan clift a...</td>\n",
       "    </tr>\n",
       "    <tr>\n",
       "      <th>8</th>\n",
       "      <td>counting down to singapore dates  food list co...</td>\n",
       "    </tr>\n",
       "    <tr>\n",
       "      <th>9</th>\n",
       "      <td>im at old airport road market  food centre in ...</td>\n",
       "    </tr>\n",
       "    <tr>\n",
       "      <th>10</th>\n",
       "      <td>come join us ill give a quick talk on our vr p...</td>\n",
       "    </tr>\n",
       "    <tr>\n",
       "      <th>11</th>\n",
       "      <td>these  restaurants in singapore prove healthy ...</td>\n",
       "    </tr>\n",
       "    <tr>\n",
       "      <th>12</th>\n",
       "      <td>super spicy dinner food foodporn igfood asianf...</td>\n",
       "    </tr>\n",
       "    <tr>\n",
       "      <th>13</th>\n",
       "      <td>one of the worlds top  best bars is serving ga...</td>\n",
       "    </tr>\n",
       "    <tr>\n",
       "      <th>14</th>\n",
       "      <td>sg food i passed by tanjongpagarcentre yesterd...</td>\n",
       "    </tr>\n",
       "    <tr>\n",
       "      <th>15</th>\n",
       "      <td>singapore these are the  most foodsecure natio...</td>\n",
       "    </tr>\n",
       "    <tr>\n",
       "      <th>16</th>\n",
       "      <td>veerascurry menu food idli yummy eat menu sing...</td>\n",
       "    </tr>\n",
       "    <tr>\n",
       "      <th>17</th>\n",
       "      <td>do you buy food products online how do you mak...</td>\n",
       "    </tr>\n",
       "    <tr>\n",
       "      <th>18</th>\n",
       "      <td>veerascurry catering order  catering order sin...</td>\n",
       "    </tr>\n",
       "    <tr>\n",
       "      <th>19</th>\n",
       "      <td>new notforprofit jurong west hawker centre fea...</td>\n",
       "    </tr>\n",
       "    <tr>\n",
       "      <th>20</th>\n",
       "      <td>im at  food loft in singapore</td>\n",
       "    </tr>\n",
       "    <tr>\n",
       "      <th>21</th>\n",
       "      <td>admin  human resources executive  gao ji food ...</td>\n",
       "    </tr>\n",
       "  </tbody>\n",
       "</table>\n",
       "</div>"
      ],
      "text/plain": [
       "                                               Tweets\n",
       "0   milk tea with flavoured pearls have hit singap...\n",
       "1   i gym to eat 😂😂😂gymtoeat food foodie szechu...\n",
       "2   flavoured pearls have landed in singapore foll...\n",
       "3   surge in freelance drivers in singapore suppor...\n",
       "4   for some street food or local delicacies was m...\n",
       "5    food is so cheap in the us compared to singapore\n",
       "6   enjoy a family staycation at swisstel merchant...\n",
       "7   georgeous food at  last wknd chef ryan clift a...\n",
       "8   counting down to singapore dates  food list co...\n",
       "9   im at old airport road market  food centre in ...\n",
       "10  come join us ill give a quick talk on our vr p...\n",
       "11  these  restaurants in singapore prove healthy ...\n",
       "12  super spicy dinner food foodporn igfood asianf...\n",
       "13  one of the worlds top  best bars is serving ga...\n",
       "14  sg food i passed by tanjongpagarcentre yesterd...\n",
       "15  singapore these are the  most foodsecure natio...\n",
       "16  veerascurry menu food idli yummy eat menu sing...\n",
       "17  do you buy food products online how do you mak...\n",
       "18  veerascurry catering order  catering order sin...\n",
       "19  new notforprofit jurong west hawker centre fea...\n",
       "20                     im at  food loft in singapore \n",
       "21  admin  human resources executive  gao ji food ..."
      ]
     },
     "execution_count": 10,
     "metadata": {},
     "output_type": "execute_result"
    }
   ],
   "source": [
    "tweets = pd.DataFrame(char_only, columns = ['Tweets'])\n",
    "tweets"
   ]
  },
  {
   "cell_type": "code",
   "execution_count": null,
   "metadata": {
    "collapsed": true
   },
   "outputs": [],
   "source": [
    "tweets.to_csv('Tweets.csv', encoding='utf-8')"
   ]
  },
  {
   "cell_type": "code",
   "execution_count": null,
   "metadata": {
    "collapsed": true
   },
   "outputs": [],
   "source": [
    "end = time.time()\n",
    "exe_time = end - start\n",
    "print 'Time taken :',(exe_time),' seconds'"
   ]
  }
 ],
 "metadata": {
  "kernelspec": {
   "display_name": "Python 2",
   "language": "python",
   "name": "python2"
  },
  "language_info": {
   "codemirror_mode": {
    "name": "ipython",
    "version": 2
   },
   "file_extension": ".py",
   "mimetype": "text/x-python",
   "name": "python",
   "nbconvert_exporter": "python",
   "pygments_lexer": "ipython2",
   "version": "2.7.13"
  }
 },
 "nbformat": 4,
 "nbformat_minor": 2
}

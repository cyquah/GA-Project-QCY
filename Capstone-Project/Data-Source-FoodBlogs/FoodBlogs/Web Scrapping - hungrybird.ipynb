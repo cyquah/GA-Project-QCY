{
 "cells": [
  {
   "cell_type": "code",
   "execution_count": 1,
   "metadata": {
    "collapsed": true
   },
   "outputs": [],
   "source": [
    "import pandas as pd\n",
    "import re\n",
    "import time\n",
    "from nltk.stem import PorterStemmer, WordNetLemmatizer\n",
    "from sklearn.feature_extraction.stop_words import ENGLISH_STOP_WORDS\n",
    "from nltk.corpus import stopwords\n",
    "from selenium import webdriver\n",
    "from textacy.preprocess import preprocess_text\n",
    "import nltk\n",
    "\n",
    "from bs4 import BeautifulSoup as bs"
   ]
  },
  {
   "cell_type": "code",
   "execution_count": 2,
   "metadata": {
    "scrolled": false
   },
   "outputs": [
    {
     "name": "stdout",
     "output_type": "stream",
     "text": [
      "scrapping page :  1\n",
      "href :  https://hungrybird.sg/2017/10/03/raffles-singapore-mooncakes-2017-bonus-mooncake-hacks/\n",
      "cleaned detail snippet :  mid autumn festival is literally around the corner just tomorrow unlike oth\n",
      "href :  https://hungrybird.sg/2017/09/27/abc-cooking-studio/\n",
      "cleaned detail snippet :  as much as i love eating out i also love making my own food be it cooking o\n",
      "href :  https://hungrybird.sg/2017/09/26/shuu-by-koki-dessert/\n",
      "cleaned detail snippet :  i found the best choux pastry in singapore guys for the longest time i was \n",
      "href :  https://hungrybird.sg/2017/09/24/brawn-brains-brunch/\n",
      "cleaned detail snippet :  im not the sort to cafe hop or have brunch on the regular simply because mo\n",
      "href :  https://hungrybird.sg/2017/09/23/violet-oon-satay-grill-bar-dinner/\n",
      "cleaned detail snippet :  ive been to violet oons kitchen bukit timah and national kitchen national g\n",
      "href :  https://hungrybird.sg/2017/09/17/bao-makers-lunch/\n",
      "cleaned detail snippet :  i generally do not think much of cafes and do not visit them but a friend h\n",
      "href :  https://hungrybird.sg/2017/09/06/pantler-cakes/\n",
      "cleaned detail snippet :  among all the countries ive been to so far japan and france are two of my m\n",
      "scrapping page :  2\n",
      "href :  https://hungrybird.sg/2017/09/03/izakaya-shinjuku-dinner/\n",
      "cleaned detail snippet :  cuppage plaza may not be the nicest looking mall along orchard road probabl\n",
      "href :  https://hungrybird.sg/2017/09/01/the-coconut-club-lunch/\n",
      "cleaned detail snippet :  i love nasi lemak i think if i had to introduce just one die die must try l\n",
      "href :  https://hungrybird.sg/2017/08/27/hamburg-steak-keisuke-dinner/\n",
      "cleaned detail snippet :  this is probably the first hamburg steak specialty restaurant in singapore \n",
      "href :  https://hungrybird.sg/2017/08/26/restaurant-labyrinth-dinner/\n",
      "cleaned detail snippet :  ive always been intrigued by molecular gastronomy traditional cooking can b\n",
      "href :  https://hungrybird.sg/2017/08/12/the-bird-southern-table-bar-invited-tasting/\n",
      "cleaned detail snippet :  i recently got invited down for a food tasting at the bird situated within \n",
      "href :  https://hungrybird.sg/2017/06/24/matsuya-sushi-bar-dinner-invited-tasting/\n",
      "cleaned detail snippet :  japanese tomato with sesame sauce i love starting my japanese meals with th\n",
      "href :  https://hungrybird.sg/2017/06/15/seorae-dinner/\n",
      "cleaned detail snippet :  i am not a fan of korean food at all those korean dishes like their army st\n",
      "scrapping page :  3\n",
      "href :  https://hungrybird.sg/2017/06/02/on-yasai-dinner/\n",
      "cleaned detail snippet :  i love sukiyaki and shabu shabu ive tried both in japan and i love it in si\n",
      "href :  https://hungrybird.sg/2017/05/22/nasi-lemak-in-singapore/\n",
      "cleaned detail snippet :  nasi lemak is one of the most common meals found in singapore you can get t\n",
      "href :  https://hungrybird.sg/2017/04/28/grignoter-by-chef-justin-quek-dinner/\n",
      "cleaned detail snippet :  a while back when i was in the keong saik road area i noticed that a restau\n",
      "href :  https://hungrybird.sg/2017/04/08/british-scones-recipe/\n",
      "cleaned detail snippet :  isnt it amazing that i can be in new york last week and in london this week\n",
      "href :  https://hungrybird.sg/2017/04/08/lemon-curd-recipe/\n",
      "cleaned detail snippet :  sure you can find various brands of lemon curd off the shelves but im sure \n",
      "href :  https://hungrybird.sg/2017/04/01/new-york-cheesecake-recipe/\n",
      "cleaned detail snippet :  i love new york i love cheesecake it is so simple whats there not to love a\n",
      "href :  https://hungrybird.sg/2017/03/12/dorayaki-%e3%81%a9%e3%82%89%e7%84%bc%e3%81%8d-recipe/\n",
      "cleaned detail snippet :  to the rest of the world we probably know about dorayaki from the doraemon \n",
      "href :  https://hungrybird.sg/2017/03/03/mizu-yokan%e6%b0%b4%e7%be%8a%e7%be%b9-recipe/\n",
      "cleaned detail snippet :  so my inspiration to start on making wagashi actually started with mizu yok\n",
      "href :  https://hungrybird.sg/2017/03/03/mizu-shingen-mochi-%e6%b0%b4%e4%bf%a1%e7%8e%84%e9%a4%85-recipe/\n",
      "cleaned detail snippet :  im sure youve seen this all over instagram and viral articles known as the \n",
      "href :  https://hungrybird.sg/2017/03/02/ichigo-daifuku-%e3%82%a4%e3%83%81%e3%82%b4%e5%a4%a7%e7%a6%8fstrawberry-mochi-recipe/\n",
      "cleaned detail snippet :  mochi is a famous wagashi everyone outside of japan knows of im sure many o\n",
      "href :  https://hungrybird.sg/2017/03/01/ingredients-for-wagashi-japanese-sweets-in-singapore/\n",
      "cleaned detail snippet :  so lately ive got a new personal project going on i decided to try making w\n",
      "href :  https://hungrybird.sg/2017/02/28/warabimochi-%e3%82%8f%e3%82%89%e3%81%b3%e9%a4%85-recipe/\n",
      "cleaned detail snippet :  when i first sank my teeth into warabimochi several years ago i fell in lov\n",
      "href :  https://hungrybird.sg/2017/02/24/chendol-recipe/\n",
      "cleaned detail snippet :  it was during my yin yoga teachers training in jakarta that i fell in love \n",
      "href :  https://hungrybird.sg/2017/02/18/matcha-azuki-jelly-recipe/\n",
      "cleaned detail snippet :  ive always loved japanese wagashi and desserts i was so disappointed to hav\n",
      "Time taken : 6.92420911789  minutes\n",
      "28\n"
     ]
    }
   ],
   "source": [
    "start = time.time()\n",
    "\n",
    "wd = webdriver.Chrome()\n",
    "\n",
    "b_summary = []\n",
    "b_detail = []\n",
    "b_date = []\n",
    "b_summary_clean = []\n",
    "b_detail_clean = []\n",
    "\n",
    "for i in range(1,4):\n",
    "    print 'scrapping page : ', i\n",
    "    url = 'https://hungrybird.sg/page/' + str(i) + '/'   \n",
    "\n",
    "    try:\n",
    "        wd.get(url)\n",
    "    except:\n",
    "        continue\n",
    "    response = wd.page_source\n",
    "    soup = bs(response, 'html.parser')\n",
    "    \n",
    "    try:\n",
    "        blogs = soup.find_all('h1', {'class' : 'entry-title'})\n",
    "    except:\n",
    "        continue\n",
    "        \n",
    "    for summary in blogs:\n",
    "        try:\n",
    "            href = summary.find('a').get('href')\n",
    "            print 'href : ', href\n",
    "        except:\n",
    "            continue            \n",
    "        \n",
    "        try:\n",
    "            wd.get(href)\n",
    "        except:\n",
    "            continue\n",
    "        \n",
    "        r = wd.page_source\n",
    "        s = bs(r, 'html.parser')\n",
    "\n",
    "        # find date\n",
    "        try:\n",
    "            date = s.find('time', {'class' : 'entry-date'}).text\n",
    "        except:\n",
    "            continue\n",
    "            \n",
    "        # find detail\n",
    "        try:\n",
    "            y = s.find('div', {'class' : \"entry-content\"}).find_all('p')\n",
    "        except:\n",
    "            continue\n",
    "        doc = []\n",
    "        for p in y:\n",
    "            if p.text:\n",
    "                doc.append(p.text)\n",
    "        d = ' '.join(doc)\n",
    "\n",
    "        b_summary.append(summary.text)\n",
    "        b_detail.append(d)\n",
    "        b_date.append(date)\n",
    "        \n",
    "        # clean summary and detail \n",
    "        clean_summary = preprocess_text(summary.text, fix_unicode=True, lowercase=True, transliterate=True, \n",
    "                                                no_numbers=True, no_urls=True, no_emails=True, no_phone_numbers=True, \n",
    "                                                no_currency_symbols=True, no_punct=True, no_accents=True)\n",
    "        \n",
    "        clean_detail = preprocess_text(d, fix_unicode=True, lowercase=True, transliterate=True, \n",
    "                                                no_numbers=True, no_urls=True, no_emails=True, no_phone_numbers=True, \n",
    "                                                no_currency_symbols=True, no_punct=True, no_accents=True)\n",
    "        \n",
    "        b_summary_clean.append(clean_summary)\n",
    "        b_detail_clean.append(clean_detail)\n",
    "        \n",
    "        print 'cleaned detail snippet : ', clean_detail[:75]\n",
    "        \n",
    "end = time.time()\n",
    "exe_time = (end - start)/60\n",
    "print 'Time taken :',(exe_time),' minutes'\n",
    "\n",
    "print len(b_date)"
   ]
  },
  {
   "cell_type": "code",
   "execution_count": 3,
   "metadata": {
    "collapsed": true
   },
   "outputs": [],
   "source": [
    "# remove stop words from cleaned summary and cleaned detail and lemmatize them\n",
    "\n",
    "stoplist = set(stopwords.words('english') + \\\n",
    "               ['number',\"singapore\", \"food\", \"im\", \"street\", \n",
    "                'porn','watch', 'video', 'centre', '...',\n",
    "                'eat', 'day', 'time', 'cdataadsbygoogle', 'windowadsbygoogle',\n",
    "                'wa', 'ha', 'come', 'place', 'dish', 'bring', 'think', 'quite','located',\n",
    "                'month', 'went', 'probably', 'am', 'pm', 'say', 'said','including','year','item',\n",
    "                'youre', 'sure', 'dont', 'came','really', 'got', 'thing', 'address', 'photo',\n",
    "                'credit', 'opening', 'hour'] \\\n",
    "                 + list(ENGLISH_STOP_WORDS))"
   ]
  },
  {
   "cell_type": "code",
   "execution_count": 4,
   "metadata": {},
   "outputs": [
    {
     "name": "stdout",
     "output_type": "stream",
     "text": [
      "Time taken : 0.186859846115  seconds\n",
      "28\n",
      "28\n"
     ]
    }
   ],
   "source": [
    "start = time.time()\n",
    "\n",
    "summary_tokens = []\n",
    "for item in b_summary_clean:  \n",
    "    try:\n",
    "        Tokens = nltk.word_tokenize(item)\n",
    "        t = [tok for tok in Tokens if tok not in stoplist]\n",
    "    except:\n",
    "        continue\n",
    "    summary_tokens.append(t)\n",
    "    \n",
    "detail_tokens = []\n",
    "for item in b_detail_clean:  \n",
    "    try:\n",
    "        Tokens = nltk.word_tokenize(item)\n",
    "        t = [tok for tok in Tokens if tok not in stoplist]\n",
    "    except:\n",
    "        continue\n",
    "    detail_tokens.append(t)   \n",
    "\n",
    "    \n",
    "end = time.time()\n",
    "exe_time = end - start\n",
    "print 'Time taken :',(exe_time),' seconds'\n",
    "    \n",
    "print len(summary_tokens)\n",
    "print len(detail_tokens)"
   ]
  },
  {
   "cell_type": "code",
   "execution_count": 5,
   "metadata": {},
   "outputs": [
    {
     "name": "stdout",
     "output_type": "stream",
     "text": [
      "Time taken : 3.66977286339  seconds\n",
      "28\n",
      "28\n"
     ]
    }
   ],
   "source": [
    "start = time.time()\n",
    "\n",
    "summary_lem =[]\n",
    "wnl = WordNetLemmatizer()\n",
    "for item in summary_tokens:\n",
    "    t = \" \".join([wnl.lemmatize(i) for i in item])\n",
    "    summary_lem.append(t) \n",
    "    \n",
    "detail_lem =[]\n",
    "wnl = WordNetLemmatizer()\n",
    "for item in detail_tokens:\n",
    "    t = \" \".join([wnl.lemmatize(i) for i in item])\n",
    "    detail_lem.append(t)     \n",
    "   \n",
    "end = time.time()\n",
    "exe_time = end - start\n",
    "print 'Time taken :',(exe_time),' seconds'\n",
    "\n",
    "print len(summary_lem)\n",
    "print len(detail_lem)"
   ]
  },
  {
   "cell_type": "code",
   "execution_count": 6,
   "metadata": {
    "collapsed": true
   },
   "outputs": [],
   "source": [
    "# create final list to fit in dataframe\n",
    "flist = []\n",
    "for i in range(len(b_summary)):\n",
    "    f = [b_summary[i], b_detail[i], b_date[i], summary_lem[i], detail_lem[i]]\n",
    "    flist.append(f)"
   ]
  },
  {
   "cell_type": "code",
   "execution_count": 7,
   "metadata": {},
   "outputs": [
    {
     "data": {
      "text/html": [
       "<div>\n",
       "<style>\n",
       "    .dataframe thead tr:only-child th {\n",
       "        text-align: right;\n",
       "    }\n",
       "\n",
       "    .dataframe thead th {\n",
       "        text-align: left;\n",
       "    }\n",
       "\n",
       "    .dataframe tbody tr th {\n",
       "        vertical-align: top;\n",
       "    }\n",
       "</style>\n",
       "<table border=\"1\" class=\"dataframe\">\n",
       "  <thead>\n",
       "    <tr style=\"text-align: right;\">\n",
       "      <th></th>\n",
       "      <th>Title</th>\n",
       "      <th>Details</th>\n",
       "      <th>Date</th>\n",
       "      <th>Processed Summary</th>\n",
       "      <th>Processed Detail</th>\n",
       "    </tr>\n",
       "  </thead>\n",
       "  <tbody>\n",
       "    <tr>\n",
       "      <th>23</th>\n",
       "      <td>Ichigo Daifuku イチゴ大福(Strawberry Mochi) – Recipe</td>\n",
       "      <td>Mochi is a famous wagashi everyone outside of ...</td>\n",
       "      <td>March 2, 2017</td>\n",
       "      <td>ichigo daifuku ichigoda fu strawberry mochi re...</td>\n",
       "      <td>mochi famous wagashi outside japan know seen r...</td>\n",
       "    </tr>\n",
       "    <tr>\n",
       "      <th>24</th>\n",
       "      <td>Ingredients for Wagashi (Japanese Sweets) in S...</td>\n",
       "      <td>So lately I’ve got a new personal project goin...</td>\n",
       "      <td>March 1, 2017</td>\n",
       "      <td>ingredient wagashi japanese sweet</td>\n",
       "      <td>lately ive new personal project going decided ...</td>\n",
       "    </tr>\n",
       "    <tr>\n",
       "      <th>25</th>\n",
       "      <td>Warabimochi わらび餅 – Recipe</td>\n",
       "      <td>When I first sank my teeth into Warabimochi se...</td>\n",
       "      <td>February 28, 2017</td>\n",
       "      <td>warabimochi warabibing recipe</td>\n",
       "      <td>sank teeth warabimochi year ago fell love moch...</td>\n",
       "    </tr>\n",
       "    <tr>\n",
       "      <th>26</th>\n",
       "      <td>Chendol – Recipe</td>\n",
       "      <td>It was during my Yin Yoga Teacher’s Training i...</td>\n",
       "      <td>February 24, 2017</td>\n",
       "      <td>chendol recipe</td>\n",
       "      <td>yin yoga teacher training jakarta fell love ch...</td>\n",
       "    </tr>\n",
       "    <tr>\n",
       "      <th>27</th>\n",
       "      <td>Matcha Azuki Jelly – Recipe</td>\n",
       "      <td>I’ve always loved Japanese wagashi and dessert...</td>\n",
       "      <td>February 18, 2017</td>\n",
       "      <td>matcha azuki jelly recipe</td>\n",
       "      <td>ive loved japanese wagashi dessert disappointe...</td>\n",
       "    </tr>\n",
       "  </tbody>\n",
       "</table>\n",
       "</div>"
      ],
      "text/plain": [
       "                                                Title  \\\n",
       "23    Ichigo Daifuku イチゴ大福(Strawberry Mochi) – Recipe   \n",
       "24  Ingredients for Wagashi (Japanese Sweets) in S...   \n",
       "25                          Warabimochi わらび餅 – Recipe   \n",
       "26                                   Chendol – Recipe   \n",
       "27                        Matcha Azuki Jelly – Recipe   \n",
       "\n",
       "                                              Details               Date  \\\n",
       "23  Mochi is a famous wagashi everyone outside of ...      March 2, 2017   \n",
       "24  So lately I’ve got a new personal project goin...      March 1, 2017   \n",
       "25  When I first sank my teeth into Warabimochi se...  February 28, 2017   \n",
       "26  It was during my Yin Yoga Teacher’s Training i...  February 24, 2017   \n",
       "27  I’ve always loved Japanese wagashi and dessert...  February 18, 2017   \n",
       "\n",
       "                                    Processed Summary  \\\n",
       "23  ichigo daifuku ichigoda fu strawberry mochi re...   \n",
       "24                  ingredient wagashi japanese sweet   \n",
       "25                      warabimochi warabibing recipe   \n",
       "26                                     chendol recipe   \n",
       "27                          matcha azuki jelly recipe   \n",
       "\n",
       "                                     Processed Detail  \n",
       "23  mochi famous wagashi outside japan know seen r...  \n",
       "24  lately ive new personal project going decided ...  \n",
       "25  sank teeth warabimochi year ago fell love moch...  \n",
       "26  yin yoga teacher training jakarta fell love ch...  \n",
       "27  ive loved japanese wagashi dessert disappointe...  "
      ]
     },
     "execution_count": 7,
     "metadata": {},
     "output_type": "execute_result"
    }
   ],
   "source": [
    "df = pd.DataFrame(flist, columns = ['Title', 'Details', 'Date', 'Processed Summary', 'Processed Detail'])  \n",
    "df.tail()"
   ]
  },
  {
   "cell_type": "code",
   "execution_count": 8,
   "metadata": {},
   "outputs": [
    {
     "data": {
      "text/plain": [
       "28"
      ]
     },
     "execution_count": 8,
     "metadata": {},
     "output_type": "execute_result"
    }
   ],
   "source": [
    "len(df)"
   ]
  },
  {
   "cell_type": "code",
   "execution_count": 9,
   "metadata": {
    "collapsed": true
   },
   "outputs": [],
   "source": [
    "df.drop_duplicates(inplace=True)"
   ]
  },
  {
   "cell_type": "code",
   "execution_count": 10,
   "metadata": {},
   "outputs": [
    {
     "data": {
      "text/plain": [
       "28"
      ]
     },
     "execution_count": 10,
     "metadata": {},
     "output_type": "execute_result"
    }
   ],
   "source": [
    "len(df)"
   ]
  },
  {
   "cell_type": "code",
   "execution_count": 11,
   "metadata": {},
   "outputs": [
    {
     "name": "stdout",
     "output_type": "stream",
     "text": [
      "I’m not the sort to cafe hop or have brunch on the regular, simply because most of the time, food is usually mediocre and people are just there for the vibes. Just like how coffee people can hang out at coffee places everyday for hours (it is true, I am 100% not exaggerating) because they just like being there. Personally, I cannot resonate to that, hence I seldom ever step into cafes. I don’t even drink coffee (nope, I do not need a daily dose of caffeine to function. I just need food). Among the many black sheep around which serves sub par food, there are of course a few hidden gems which fare better. By that, I mean they put in effort into conceptualizing a proper dish and not just whip up something they copied from others. For that, I will visit cafes and again I will mention, I have no interest in cafe vibes of any sort. Just give me good food and I will go! So I happen to have a weekend intensive yoga workshop this weekend at Yoga Inc, which is located at the old badminton hall on Guillemard Road. Despite being not too far from my abode, it is not where I practice yoga at normally and hence I hardly go there. And then I noticed that Brawn & Brains are at this location as well and it became my obvious choice for lunch (or brunch) before/ after classes! It helps that I did hear legit good reviews about their food as well. The cafe menu is kept pretty simple – a few hot dishes made to order, a bread and pastries on display, and drinks (mainly coffee). Oven Baked Molten Eggs – $16.80 The price tag is pretty high for this one, especially since it used to be $9.80 judging from previous reviews with $3.50 additional for smoked salmon. Now smoked salmon is added in by default. This is basically 2 sous vide/ onsen eggs placed on a tortilla, topped with cheese and baked. The result was something like pizza but better (I suspect that the chef loves pizza and eggs too much to want to make a hybrid of them). I liked how some cheese got spilled to the side and was nicely crisped up. The eggs was runny to a perfect texture for dipping. The combination with cherry tomatoes, avocado and smoked salmon was a good one in my opinion, making it look like a mindful and well balanced meal with essential vitamins and fatty acids of omega 3 and 6. Even though it’s overpriced for 2 eggs, I would have it again. Open Face Toast with Slow Cooked Egg and Grilled Bacon – $15.90 For those not so much a fan of vitamins and fatty acids, an option for you to have pure fats is this one – an open faced toast grilled with tomato slices and cheese (with cheese oozing out and becoming crispy), topped with a ridiculous amount of grilled bacon. The bacon wasn’t entirely crispy, but more like a texture in between meaty and crispy. The peas and green apple together with the salad made the whole thing look really green and it was aesthetically pleasing while it balances out this meal. The egg was done perfectly and I am glad, because I’ve seen pictures online where the egg they got was more like soft boiled from yakun than sous vide style at 62 – 64 deg C. Earl Grey Croissant – $4.20 I couldn’t resist getting this even though I was going to have one plate of brunch and then head for inversion workshop (thankfully I did not puke upside down!). It was a regular croissant topped with earl grey flavoured sugar glaze and hazelnuts. It would be better if the croissant was warm and crispy, but I liked the earl grey fragrance from it. As I do not like and do not drink coffee, I can’t comment on the drinks even though the word “coffee” is in their name. Food wise though, it is worth trying if this location works for you! Food: 7/10\n",
      "Ambiance: 6.5/10\n",
      "Value: 6.5/10\n",
      "Overall: Creative brunch options which looks good and tastes good. Brawn & Brains Coffee \n",
      "100 Guillemard Road\n",
      "#01-02\n",
      "Singapore 399718 Tel: 63480501 Tues – Fri: 8:30am – 6pm\n",
      "Sat & Sun: 9:30am – 6pm (Closed on Monday) The Bird Southern Table & Bar - Invited TastingIn \"American\" Loysel’s Toys - BrunchIn \"Brunch\" Symmetry - LunchIn \"Australian\"\n"
     ]
    }
   ],
   "source": [
    "x = df.iloc[3,1]\n",
    "print x"
   ]
  },
  {
   "cell_type": "code",
   "execution_count": 12,
   "metadata": {
    "collapsed": true
   },
   "outputs": [],
   "source": [
    "# pickle dataframe\n",
    "df.to_pickle('hungrybird.pickle')"
   ]
  },
  {
   "cell_type": "code",
   "execution_count": 13,
   "metadata": {
    "collapsed": true
   },
   "outputs": [],
   "source": [
    "wd.quit()"
   ]
  }
 ],
 "metadata": {
  "kernelspec": {
   "display_name": "Python 2",
   "language": "python",
   "name": "python2"
  },
  "language_info": {
   "codemirror_mode": {
    "name": "ipython",
    "version": 2
   },
   "file_extension": ".py",
   "mimetype": "text/x-python",
   "name": "python",
   "nbconvert_exporter": "python",
   "pygments_lexer": "ipython2",
   "version": "2.7.13"
  }
 },
 "nbformat": 4,
 "nbformat_minor": 2
}

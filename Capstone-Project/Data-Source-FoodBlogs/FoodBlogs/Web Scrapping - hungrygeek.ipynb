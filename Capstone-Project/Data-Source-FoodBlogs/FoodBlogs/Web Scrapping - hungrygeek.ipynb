{
 "cells": [
  {
   "cell_type": "code",
   "execution_count": 1,
   "metadata": {
    "collapsed": true
   },
   "outputs": [],
   "source": [
    "import pandas as pd\n",
    "import re\n",
    "import time\n",
    "from nltk.stem import PorterStemmer, WordNetLemmatizer\n",
    "from sklearn.feature_extraction.stop_words import ENGLISH_STOP_WORDS\n",
    "from nltk.corpus import stopwords\n",
    "from selenium import webdriver\n",
    "from textacy.preprocess import preprocess_text\n",
    "import nltk\n",
    "\n",
    "from bs4 import BeautifulSoup as bs"
   ]
  },
  {
   "cell_type": "code",
   "execution_count": 2,
   "metadata": {
    "scrolled": true
   },
   "outputs": [
    {
     "name": "stdout",
     "output_type": "stream",
     "text": [
      "scrapping page :  1\n",
      "href :  http://thehungrygeek.com/2017/10/29/pan-pacific-orchard-10-at-claymore-weekday-lunch-buffet/\n",
      "cleaned detail snippet :  the entrance of number at claymore pan pacific orchard singapore is a very \n",
      "href :  http://thehungrygeek.com/2017/10/07/open-door-policy/\n",
      "cleaned detail snippet :  storefront of open door policy if youre searching for a nice bistro for a h\n",
      "href :  http://thehungrygeek.com/2017/09/19/49-seats-super-delicious-western-food/\n",
      "cleaned detail snippet :  the storefront of number seats here are the highlights number seats is a de\n",
      "href :  http://thehungrygeek.com/2017/09/19/matsuya-sushi-bar/\n",
      "cleaned detail snippet :  fancy of an exquisite japanese meal at an affordable price matsuya sushi ba\n",
      "href :  http://thehungrygeek.com/2017/08/26/provisions-dempsey-skewers-claypot-rice-bar/\n",
      "cleaned detail snippet :  the storefront of provisions dempsey dempsey hill is the place to go for th\n",
      "href :  http://thehungrygeek.com/2017/06/28/the-masses-singapore/\n",
      "cleaned detail snippet :  the storefront of the masses david and i have been fans of saveurs cheap an\n",
      "href :  http://thehungrygeek.com/2017/03/15/crowne-plaza-changi-airport-high-tea-lobby-lounge/\n",
      "cleaned detail snippet :  the lobby lounge crowne plaza changi airport we love changi airport it is o\n",
      "href :  http://thehungrygeek.com/2017/01/05/kumoya-japanese-cafe/\n",
      "cleaned detail snippet :  the storefront of kumoya kumoya at the jalan sultan area has some really de\n",
      "href :  http://thehungrygeek.com/2016/12/19/gecory-ice-cream-cafe-clementi/\n",
      "cleaned detail snippet :  the storefront of gecory ice cream cafe gecory is a cosy little dessert caf\n",
      "href :  http://thehungrygeek.com/2016/12/14/chong-wen-ge/\n",
      "cleaned detail snippet :  the temple entrance to where chong wen ge cafe resides we have been to many\n",
      "href :  http://thehungrygeek.com/2016/11/21/tai-cheong-bakery-cha-chaan-teng-holland-village/\n",
      "cleaned detail snippet :  the storefront of tai cheong bakerys new restaurant holland village for our\n",
      "href :  http://thehungrygeek.com/2016/11/16/morganfields-singapore-delicious-ribs/\n",
      "cleaned detail snippet :  the storefront of morganfields at star vista morganfields has taken singapo\n",
      "href :  http://thehungrygeek.com/2016/11/14/burp-kitchen-bar-the-cafe-with-a-view/\n",
      "cleaned detail snippet :  the storefront of burp kitchen bar looking for a nice place to bring your d\n",
      "href :  http://thehungrygeek.com/2016/09/30/sugar-lips-orchard-gateway/\n",
      "cleaned detail snippet :  the storefront of sugar lips sugar lips is a new dessert cafe that just ope\n",
      "href :  http://thehungrygeek.com/2016/09/20/craftholic-cafe-plushies-japan/\n",
      "cleaned detail snippet :  the storefront of craftholic cafe craftholic is one of the cutest huggable \n",
      "Time taken : 4.97498004834  minutes\n",
      "15\n"
     ]
    }
   ],
   "source": [
    "start = time.time()\n",
    "\n",
    "wd = webdriver.Chrome()\n",
    "\n",
    "b_summary = []\n",
    "b_detail = []\n",
    "b_date = []\n",
    "b_summary_clean = []\n",
    "b_detail_clean = []\n",
    "\n",
    "for i in range(1,2):\n",
    "    print 'scrapping page : ', i\n",
    "    url = 'http://thehungrygeek.com/category/food/singapore-food/page/' + str(i) + '/'   \n",
    "\n",
    "    try:\n",
    "        wd.get(url)\n",
    "    except:\n",
    "        continue\n",
    "    response = wd.page_source\n",
    "    soup = bs(response, 'html.parser')\n",
    "    \n",
    "    try:\n",
    "        blogs = soup.find_all('h2', {'class' : 'entry-title'})\n",
    "    except:\n",
    "        continue\n",
    "        \n",
    "    for summary in blogs:\n",
    "        try:\n",
    "            href = summary.find('a').get('href')\n",
    "            print 'href : ', href\n",
    "        except:\n",
    "            continue            \n",
    "        \n",
    "        try:\n",
    "            wd.get(href)\n",
    "        except:\n",
    "            continue\n",
    "        \n",
    "        r = wd.page_source\n",
    "        s = bs(r, 'html.parser')\n",
    "\n",
    "        # find date\n",
    "        try:\n",
    "            date = s.find('time', {'class' : 'entry-date'}).text\n",
    "        except:\n",
    "            continue\n",
    "            \n",
    "        # find detail\n",
    "        try:\n",
    "            y = s.find('section', {'class' : \"entry-content\"}).find_all('p')\n",
    "        except:\n",
    "            continue\n",
    "        doc = []\n",
    "        for p in y:\n",
    "            if p.text:\n",
    "                doc.append(p.text)\n",
    "        d = ' '.join(doc)\n",
    "\n",
    "        b_summary.append(summary.text)\n",
    "        b_detail.append(d)\n",
    "        b_date.append(date)\n",
    "        \n",
    "        # clean summary and detail \n",
    "        clean_summary = preprocess_text(summary.text, fix_unicode=True, lowercase=True, transliterate=True, \n",
    "                                                no_numbers=True, no_urls=True, no_emails=True, no_phone_numbers=True, \n",
    "                                                no_currency_symbols=True, no_punct=True, no_accents=True)\n",
    "        \n",
    "        clean_detail = preprocess_text(d, fix_unicode=True, lowercase=True, transliterate=True, \n",
    "                                                no_numbers=True, no_urls=True, no_emails=True, no_phone_numbers=True, \n",
    "                                                no_currency_symbols=True, no_punct=True, no_accents=True)\n",
    "        \n",
    "        b_summary_clean.append(clean_summary)\n",
    "        b_detail_clean.append(clean_detail)\n",
    "        \n",
    "        print 'cleaned detail snippet : ', clean_detail[:75]\n",
    "        \n",
    "end = time.time()\n",
    "exe_time = (end - start)/60\n",
    "print 'Time taken :',(exe_time),' minutes'\n",
    "\n",
    "print len(b_date)"
   ]
  },
  {
   "cell_type": "code",
   "execution_count": 3,
   "metadata": {
    "collapsed": true
   },
   "outputs": [],
   "source": [
    "# remove stop words from cleaned summary and cleaned detail and lemmatize them\n",
    "\n",
    "stoplist = set(stopwords.words('english') + \\\n",
    "               ['number',\"singapore\", \"food\", \"im\", \"street\", \n",
    "                'porn','watch', 'video', 'centre', '...',\n",
    "                'eat', 'day', 'time', 'cdataadsbygoogle', 'windowadsbygoogle',\n",
    "                'wa', 'ha', 'come', 'place', 'dish', 'bring', 'think', 'quite','located',\n",
    "                'month', 'went', 'probably', 'am', 'pm', 'say', 'said','including','year','item',\n",
    "                'youre', 'sure', 'dont', 'came','really', 'got', 'thing', 'address', 'photo',\n",
    "                'credit', 'opening', 'hour'] \\\n",
    "                 + list(ENGLISH_STOP_WORDS))"
   ]
  },
  {
   "cell_type": "code",
   "execution_count": 4,
   "metadata": {},
   "outputs": [
    {
     "name": "stdout",
     "output_type": "stream",
     "text": [
      "Time taken : 0.245280981064  seconds\n",
      "15\n",
      "15\n"
     ]
    }
   ],
   "source": [
    "start = time.time()\n",
    "\n",
    "summary_tokens = []\n",
    "for item in b_summary_clean:  \n",
    "    try:\n",
    "        Tokens = nltk.word_tokenize(item)\n",
    "        t = [tok for tok in Tokens if tok not in stoplist]\n",
    "    except:\n",
    "        continue\n",
    "    summary_tokens.append(t)\n",
    "    \n",
    "detail_tokens = []\n",
    "for item in b_detail_clean:  \n",
    "    try:\n",
    "        Tokens = nltk.word_tokenize(item)\n",
    "        t = [tok for tok in Tokens if tok not in stoplist]\n",
    "    except:\n",
    "        continue\n",
    "    detail_tokens.append(t)   \n",
    "\n",
    "    \n",
    "end = time.time()\n",
    "exe_time = end - start\n",
    "print 'Time taken :',(exe_time),' seconds'\n",
    "    \n",
    "print len(summary_tokens)\n",
    "print len(detail_tokens)"
   ]
  },
  {
   "cell_type": "code",
   "execution_count": 5,
   "metadata": {},
   "outputs": [
    {
     "name": "stdout",
     "output_type": "stream",
     "text": [
      "Time taken : 4.2247030735  seconds\n",
      "15\n",
      "15\n"
     ]
    }
   ],
   "source": [
    "start = time.time()\n",
    "\n",
    "summary_lem =[]\n",
    "wnl = WordNetLemmatizer()\n",
    "for item in summary_tokens:\n",
    "    t = \" \".join([wnl.lemmatize(i) for i in item])\n",
    "    summary_lem.append(t) \n",
    "    \n",
    "detail_lem =[]\n",
    "wnl = WordNetLemmatizer()\n",
    "for item in detail_tokens:\n",
    "    t = \" \".join([wnl.lemmatize(i) for i in item])\n",
    "    detail_lem.append(t)     \n",
    "   \n",
    "end = time.time()\n",
    "exe_time = end - start\n",
    "print 'Time taken :',(exe_time),' seconds'\n",
    "\n",
    "print len(summary_lem)\n",
    "print len(detail_lem)"
   ]
  },
  {
   "cell_type": "code",
   "execution_count": 6,
   "metadata": {
    "collapsed": true
   },
   "outputs": [],
   "source": [
    "# create final list to fit in dataframe\n",
    "flist = []\n",
    "for i in range(len(b_summary)):\n",
    "    f = [b_summary[i], b_detail[i], b_date[i], summary_lem[i], detail_lem[i]]\n",
    "    flist.append(f)"
   ]
  },
  {
   "cell_type": "code",
   "execution_count": 7,
   "metadata": {},
   "outputs": [
    {
     "data": {
      "text/html": [
       "<div>\n",
       "<style>\n",
       "    .dataframe thead tr:only-child th {\n",
       "        text-align: right;\n",
       "    }\n",
       "\n",
       "    .dataframe thead th {\n",
       "        text-align: left;\n",
       "    }\n",
       "\n",
       "    .dataframe tbody tr th {\n",
       "        vertical-align: top;\n",
       "    }\n",
       "</style>\n",
       "<table border=\"1\" class=\"dataframe\">\n",
       "  <thead>\n",
       "    <tr style=\"text-align: right;\">\n",
       "      <th></th>\n",
       "      <th>Title</th>\n",
       "      <th>Details</th>\n",
       "      <th>Date</th>\n",
       "      <th>Processed Summary</th>\n",
       "      <th>Processed Detail</th>\n",
       "    </tr>\n",
       "  </thead>\n",
       "  <tbody>\n",
       "    <tr>\n",
       "      <th>10</th>\n",
       "      <td>Tai Cheong Bakery Cha Chaan Teng Opens @ Holla...</td>\n",
       "      <td>The storefront of Tai Cheong Bakery’s new rest...</td>\n",
       "      <td>6 Dec 2016</td>\n",
       "      <td>tai cheong bakery cha chaan teng open holland ...</td>\n",
       "      <td>storefront tai cheong bakery new restaurant ho...</td>\n",
       "    </tr>\n",
       "    <tr>\n",
       "      <th>11</th>\n",
       "      <td>Morganfield’s – These Are Some Really Deliciou...</td>\n",
       "      <td>The storefront of Morganfield’s at Star Vista ...</td>\n",
       "      <td>16 Nov 2016</td>\n",
       "      <td>morganfields delicious rib</td>\n",
       "      <td>storefront morganfields star vista morganfield...</td>\n",
       "    </tr>\n",
       "    <tr>\n",
       "      <th>12</th>\n",
       "      <td>Burp Kitchen &amp; Bar – The Cafe with a View!</td>\n",
       "      <td>The storefront of Burp Kitchen &amp; Bar Looking f...</td>\n",
       "      <td>14 Nov 2016</td>\n",
       "      <td>burp kitchen bar cafe view</td>\n",
       "      <td>storefront burp kitchen bar looking nice date ...</td>\n",
       "    </tr>\n",
       "    <tr>\n",
       "      <th>13</th>\n",
       "      <td>Sugar Lips – Dessert Colour Explosion @ Orchar...</td>\n",
       "      <td>The storefront of Sugar Lips! Sugar Lips is a ...</td>\n",
       "      <td>30 Sep 2016</td>\n",
       "      <td>sugar lip dessert colour explosion orchard gat...</td>\n",
       "      <td>storefront sugar lip sugar lip new dessert caf...</td>\n",
       "    </tr>\n",
       "    <tr>\n",
       "      <th>14</th>\n",
       "      <td>Craftholic Cafe – Super Cute Plushies from Japan!</td>\n",
       "      <td>The storefront of Craftholic Cafe Craftholic i...</td>\n",
       "      <td>20 Sep 2016</td>\n",
       "      <td>craftholic cafe super cute plushies japan</td>\n",
       "      <td>storefront craftholic cafe craftholic cutest h...</td>\n",
       "    </tr>\n",
       "  </tbody>\n",
       "</table>\n",
       "</div>"
      ],
      "text/plain": [
       "                                                Title  \\\n",
       "10  Tai Cheong Bakery Cha Chaan Teng Opens @ Holla...   \n",
       "11  Morganfield’s – These Are Some Really Deliciou...   \n",
       "12         Burp Kitchen & Bar – The Cafe with a View!   \n",
       "13  Sugar Lips – Dessert Colour Explosion @ Orchar...   \n",
       "14  Craftholic Cafe – Super Cute Plushies from Japan!   \n",
       "\n",
       "                                              Details         Date  \\\n",
       "10  The storefront of Tai Cheong Bakery’s new rest...   6 Dec 2016   \n",
       "11  The storefront of Morganfield’s at Star Vista ...  16 Nov 2016   \n",
       "12  The storefront of Burp Kitchen & Bar Looking f...  14 Nov 2016   \n",
       "13  The storefront of Sugar Lips! Sugar Lips is a ...  30 Sep 2016   \n",
       "14  The storefront of Craftholic Cafe Craftholic i...  20 Sep 2016   \n",
       "\n",
       "                                    Processed Summary  \\\n",
       "10  tai cheong bakery cha chaan teng open holland ...   \n",
       "11                         morganfields delicious rib   \n",
       "12                         burp kitchen bar cafe view   \n",
       "13  sugar lip dessert colour explosion orchard gat...   \n",
       "14          craftholic cafe super cute plushies japan   \n",
       "\n",
       "                                     Processed Detail  \n",
       "10  storefront tai cheong bakery new restaurant ho...  \n",
       "11  storefront morganfields star vista morganfield...  \n",
       "12  storefront burp kitchen bar looking nice date ...  \n",
       "13  storefront sugar lip sugar lip new dessert caf...  \n",
       "14  storefront craftholic cafe craftholic cutest h...  "
      ]
     },
     "execution_count": 7,
     "metadata": {},
     "output_type": "execute_result"
    }
   ],
   "source": [
    "df = pd.DataFrame(flist, columns = ['Title', 'Details', 'Date', 'Processed Summary', 'Processed Detail'])  \n",
    "df.tail()"
   ]
  },
  {
   "cell_type": "code",
   "execution_count": 8,
   "metadata": {},
   "outputs": [
    {
     "data": {
      "text/plain": [
       "15"
      ]
     },
     "execution_count": 8,
     "metadata": {},
     "output_type": "execute_result"
    }
   ],
   "source": [
    "len(df)"
   ]
  },
  {
   "cell_type": "code",
   "execution_count": 9,
   "metadata": {
    "collapsed": true
   },
   "outputs": [],
   "source": [
    "df.drop_duplicates(inplace=True)"
   ]
  },
  {
   "cell_type": "code",
   "execution_count": 10,
   "metadata": {},
   "outputs": [
    {
     "data": {
      "text/plain": [
       "15"
      ]
     },
     "execution_count": 10,
     "metadata": {},
     "output_type": "execute_result"
    }
   ],
   "source": [
    "len(df)"
   ]
  },
  {
   "cell_type": "code",
   "execution_count": 11,
   "metadata": {},
   "outputs": [
    {
     "name": "stdout",
     "output_type": "stream",
     "text": [
      "Fancy of an exquisite Japanese meal at an affordable price? Matsuya Sushi Bar might be the right place for you to have a true taste of Japan. Hidden along Seah Street in the Bugis area, this cozy sushi bar serves a wide array of Japanese dishes for both lunch and dinner. There’s no obvious signage in front of the restaurant and it could be easily missed when you pass by. We didn’t notice the eatery until we were invited down to try out their food, including an Omakase course. For the uninitiated, Omakase is a serving style in Japan where patrons will be entrusting the chef to serve them with his choices of food. Storefront of Matsuya Sushi Bar The biggest charm of Omakase is to be served with fresh food and be pleasantly surprised by the chef’s creativity in preparing his choices of food. The ingredients used at Matsuya Sushi Bar are directly imported from Japan. Save yourself the tickets to fly to Japan for an authentic taste of Japan. The Omakase course served to us includes appetizers, Sashimi Mori, side dishes and soup to end the course. We were seated at the sushi bar and jolly served with the food prepared by chef Benson. Aside from Omakase course, there are various food items on Matsuya Sushi Bar’s menu as well. You can find ala carte appetizers, sushi, sashimi, side dishes, noodles & soup as well as various rice bowls. We find the food here at Matsuya Sushi Bar reasonably priced and there is a wide selection of food. The first appetizer served to us was Maguro Yamakake. This dish has a good combination of fresh tuna cubes and yam slices. Unlike the usual Maguro Yamakake that uses mashed yam, Chef Benson’s rendition has the yam cut into thin slices that give a little bit of a crunchy sensation. The dish was simply seasoned with shoyu sauce and wasabi and it tasted so light yet delicious. [4.3/5] This dish usually made up of lady’s finger, radish and ikura (fish roe). Chef Benson added caviar and uni (sea urchin) in place of radish. Even though we are not really a big fan of lady’s finger but the ample amount of savoury fish roe totally won us over. [4/5] Next up, the signature Sashimi Mori. The Sashimi Mori was presented with a beautiful forest theme where flowers and green leaves were used in the decorations. The colourful platter was filled with fresh sashimi including Otoro (Tuna Belly), Amberjack Belly, Scallop, Shiro Ebi (White Shrimp) and Kinmedai (Golden Eye Alfonsino) with truffle sauce. The Otoro is known as the best part of tuna for a reason. The thick slice of premium Otoro was so fresh, juicy and tender. The Kinmedai with truffle sauce is worth mentioning as well. We could already smell the fragrance of truffle before delivering the sashimi into our mouth. Chef Benson told us that this shall be eaten as it is, no sauce dipping required to retain the optimum taste. [4/5] The well seasoned radish was topped with torched fat prawn and drizzled with sweet sauce. The combination was coupled with fish roe and give a sweet and salty sensation. The prawn was fresh and the soft radish matched well with the sweet sauce. But it was such a pity that we took a bit too long to eat so that prawn was not as warm. [3.9/5] There are various rice bowls served at Matsuya Sushi Bar. Wagyu Don appears to be the most premium rice bowl of them all. Wagyu is the most desirable beef due to the unusual intense marbling and the high ratio of monounsaturated fats that make it super tender and juicy. The price for wagyu is definitely not cheap. A serving of mouthwatering Wagyu Don set meal at Matsuya Sushi Bar costs S$40. Indeed, the wagyu was so tender, buttery and succulent. Every mouthful of the rice accompanied with the tender wagyu and runny egg was just super satisfying. We gobbled the whole serving of Wagyu Don in just a blink of en eye. Now I’m drooling again while recalling the taste of this premium bowl of Wagyu Don at Matsuya Sushi Bar. [4.2/5] At the first glance, Negitoro Don looks like a bowl of raw meat topped with raw egg and tons of greens. The regular Negitoro Don is actually made up of minced fatty tuna, scallions and sometimes an egg is added. The set meal of Negitoro Don at Matsuya Sushi Bar costs S$40. To be honest, this is our first time trying a Negitoro Don and we were a bit skeptical of the taste of this dish initially. But to our surprise, this bowl of Negitoro Don tasted so good! We were totally sold from the first bite. In this dish, scallions play a very important role as the fragrance covered every mouthful of the rice. The addition of the egg has given the mixture of the rice, fatty tuna and scallions a smoother texture. We had this dish when we were already full but it was so delicious that we still finished every single bit of it. [4.3/5] *Please take note that the Negitoro Don in the photo is smaller than the regular serving for our tasting purposes. If you order their regular serving the portion is substantially larger. Our course ends with a comforting serving of Seaweed Clam Soup with Clear Broth The experienced Chef Benson Teo has been in this industry for more than 20 years The food quality at Matsuya Sushi Bar is definitely worth the praise. Chef Benson is very experienced with Japanese cuisine and we were very satisfied with the fabulous food served by him. Matsuya Sushi Bar is small and cozy. The small establishment has good ambience to spend some quiet time and have a relaxing meal with good quality. We were pleasantly surprised by Chef Benson’s creativity by refining the popular Japanese dishes to meet the local taste. The Omakase course at Matsuya Sushi Bar starts from S$90. There are also lunch special menu as well as ala carte food items available. If you want to see more delicious food reviews like this, please LIKE our Facebook page and FOLLOW our Instagram!     Matsuya Sushi Bar Directions: Take the MRT to Bugis station (Downtown line) and walk for 8 mins along North Bridge Road. Take the third left turning into Seah St and Matsuya Sushi Bar will be on your left. – Google Maps Signature items: Sushi, Sashimi and Omakase course  Contact: +65 6250 6200 Website: Matsuya Sushi Bar\n"
     ]
    }
   ],
   "source": [
    "x = df.iloc[3,1]\n",
    "print x"
   ]
  },
  {
   "cell_type": "code",
   "execution_count": 12,
   "metadata": {
    "collapsed": true
   },
   "outputs": [],
   "source": [
    "# pickle dataframe\n",
    "df.to_pickle('hungrygeek.pickle')"
   ]
  },
  {
   "cell_type": "code",
   "execution_count": 13,
   "metadata": {
    "collapsed": true
   },
   "outputs": [],
   "source": [
    "wd.quit()"
   ]
  }
 ],
 "metadata": {
  "kernelspec": {
   "display_name": "Python 2",
   "language": "python",
   "name": "python2"
  },
  "language_info": {
   "codemirror_mode": {
    "name": "ipython",
    "version": 2
   },
   "file_extension": ".py",
   "mimetype": "text/x-python",
   "name": "python",
   "nbconvert_exporter": "python",
   "pygments_lexer": "ipython2",
   "version": "2.7.13"
  }
 },
 "nbformat": 4,
 "nbformat_minor": 2
}

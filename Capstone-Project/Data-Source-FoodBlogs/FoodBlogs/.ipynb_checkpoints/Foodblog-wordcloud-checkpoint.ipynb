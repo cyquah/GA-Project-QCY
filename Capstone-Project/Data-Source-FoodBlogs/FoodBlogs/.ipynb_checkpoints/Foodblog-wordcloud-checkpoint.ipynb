{
 "cells": [
  {
   "cell_type": "code",
   "execution_count": 1,
   "metadata": {
    "collapsed": true
   },
   "outputs": [],
   "source": [
    "import pandas as pd\n",
    "import numpy as np\n",
    "import csv\n",
    "import random\n",
    "from PIL import Image\n",
    "from wordcloud import WordCloud, STOPWORDS\n",
    "from palettable.colorbrewer.qualitative import Dark2_8"
   ]
  },
  {
   "cell_type": "code",
   "execution_count": 2,
   "metadata": {
    "collapsed": true
   },
   "outputs": [],
   "source": [
    "def color_func(word, font_size, position, orientation, random_state=None, **kwargs):\n",
    "    return tuple(Dark2_8.colors[random.randint(0,7)])"
   ]
  },
  {
   "cell_type": "code",
   "execution_count": 3,
   "metadata": {},
   "outputs": [
    {
     "data": {
      "text/html": [
       "<div>\n",
       "<style>\n",
       "    .dataframe thead tr:only-child th {\n",
       "        text-align: right;\n",
       "    }\n",
       "\n",
       "    .dataframe thead th {\n",
       "        text-align: left;\n",
       "    }\n",
       "\n",
       "    .dataframe tbody tr th {\n",
       "        vertical-align: top;\n",
       "    }\n",
       "</style>\n",
       "<table border=\"1\" class=\"dataframe\">\n",
       "  <thead>\n",
       "    <tr style=\"text-align: right;\">\n",
       "      <th></th>\n",
       "      <th>Title</th>\n",
       "      <th>Details</th>\n",
       "      <th>Date</th>\n",
       "      <th>Details_processed</th>\n",
       "      <th>Word_count</th>\n",
       "    </tr>\n",
       "  </thead>\n",
       "  <tbody>\n",
       "    <tr>\n",
       "      <th>0</th>\n",
       "      <td>27 Local Breakfast in the East That’s Better T...</td>\n",
       "      <td>image  text by maureen  mu qin breakfast is th...</td>\n",
       "      <td>Jul 26th, 2016</td>\n",
       "      <td>image text by maureen mu qin breakfast is the ...</td>\n",
       "      <td>3750</td>\n",
       "    </tr>\n",
       "    <tr>\n",
       "      <th>1</th>\n",
       "      <td>27 Bak Chor Mee Singaporeans Love (Which is Yo...</td>\n",
       "      <td>bak chor mee which translates to minced meat n...</td>\n",
       "      <td>Mar 3rd, 2017</td>\n",
       "      <td>bak chor mee which translates to minced meat n...</td>\n",
       "      <td>2142</td>\n",
       "    </tr>\n",
       "    <tr>\n",
       "      <th>2</th>\n",
       "      <td>19 Popular Hokkien Prawn Mee in Singapore (We ...</td>\n",
       "      <td>hokkien prawn mee is an iconic singapore dish ...</td>\n",
       "      <td>Dec 15th, 2016</td>\n",
       "      <td>hokkien prawn mee is an iconic singapore dish ...</td>\n",
       "      <td>2918</td>\n",
       "    </tr>\n",
       "    <tr>\n",
       "      <th>3</th>\n",
       "      <td>Waa Cow! Sushi Bar – Quality Wagyu Sushi Sets ...</td>\n",
       "      <td>if youre from nus youve probably treated yours...</td>\n",
       "      <td>Oct 11th, 2017</td>\n",
       "      <td>if youre from nu youve probably treated yourse...</td>\n",
       "      <td>582</td>\n",
       "    </tr>\n",
       "    <tr>\n",
       "      <th>4</th>\n",
       "      <td>Hawkerman – Your Favourite Hawkers Under One r...</td>\n",
       "      <td>the newly opened hawkerman a soontobe halal c...</td>\n",
       "      <td>Oct 10th, 2017</td>\n",
       "      <td>the newly opened hawkerman a soontobe halal ce...</td>\n",
       "      <td>527</td>\n",
       "    </tr>\n",
       "  </tbody>\n",
       "</table>\n",
       "</div>"
      ],
      "text/plain": [
       "                                               Title  \\\n",
       "0  27 Local Breakfast in the East That’s Better T...   \n",
       "1  27 Bak Chor Mee Singaporeans Love (Which is Yo...   \n",
       "2  19 Popular Hokkien Prawn Mee in Singapore (We ...   \n",
       "3  Waa Cow! Sushi Bar – Quality Wagyu Sushi Sets ...   \n",
       "4  Hawkerman – Your Favourite Hawkers Under One r...   \n",
       "\n",
       "                                             Details            Date  \\\n",
       "0  image  text by maureen  mu qin breakfast is th...  Jul 26th, 2016   \n",
       "1  bak chor mee which translates to minced meat n...   Mar 3rd, 2017   \n",
       "2  hokkien prawn mee is an iconic singapore dish ...  Dec 15th, 2016   \n",
       "3  if youre from nus youve probably treated yours...  Oct 11th, 2017   \n",
       "4   the newly opened hawkerman a soontobe halal c...  Oct 10th, 2017   \n",
       "\n",
       "                                   Details_processed  Word_count  \n",
       "0  image text by maureen mu qin breakfast is the ...        3750  \n",
       "1  bak chor mee which translates to minced meat n...        2142  \n",
       "2  hokkien prawn mee is an iconic singapore dish ...        2918  \n",
       "3  if youre from nu youve probably treated yourse...         582  \n",
       "4  the newly opened hawkerman a soontobe halal ce...         527  "
      ]
     },
     "execution_count": 3,
     "metadata": {},
     "output_type": "execute_result"
    }
   ],
   "source": [
    "df = pd.read_csv('combined_blogs.csv', index_col=0, encoding = 'utf-8')\n",
    "df.head()"
   ]
  },
  {
   "cell_type": "code",
   "execution_count": 25,
   "metadata": {},
   "outputs": [
    {
     "name": "stdout",
     "output_type": "stream",
     "text": [
      "chinatownlau pa sat ku ta mambo sentosa place super yummy\n"
     ]
    }
   ],
   "source": [
    "a = df.tw[0]\n",
    "a = a.replace('[','').replace(']','').replace(',','')\n",
    "print a\n"
   ]
  },
  {
   "cell_type": "code",
   "execution_count": 26,
   "metadata": {
    "collapsed": true
   },
   "outputs": [],
   "source": [
    "message = ''\n",
    "for row in df.tweets:\n",
    "    row = row.replace('[','').replace(']','').replace(',','')\n",
    "    message += ' ' + row "
   ]
  },
  {
   "cell_type": "code",
   "execution_count": 27,
   "metadata": {},
   "outputs": [
    {
     "name": "stdout",
     "output_type": "stream",
     "text": [
      " chinatownlau pa sat ku ta mambo sentosa place super yummy krispy kreme doughnut deal outlet tomorrow oct shopper buy convenience item touch giant new vending machine cluster sizzling chilli crab lee kum kee inside travel guide october user announcement fdawu sifst institute science technology alliance sifst tasting gourmet italian snack taste test dont miss deal airline fly review truly sublime excellent service vending machine dispense headscarf fish gardening kit launched giant chilli crab crayfish hawkerstyle comfort yup gon na start lining game cultural performance fun activity lucky drawdetails clementi market giant new vending machine osstv largest vending machine cluster dispenses diy gardening kit grooming product fish osstv ye bois chomp chomp vending machine dispense headscarf fish gardening kit launched giant common chef cafe say nice cafe north read new post local adam road mee rebus teh halia ha published buzz … sure got gong tow inside smb indian muslim airline use ingredient inflight really gaining momentum cna giant installs vending machine gardening tool pet aussie traveller love keen shopping luxury extremely satisfying burrito happening like chef andre chiang close twomichelinstarred restaurant say doesnt want star staying experience gideon batam hotel travel vlog batam indonesia amazing laksam nasi dagang malay breakfast dish selangor travel channel malaysia form tongue crevice harbour particle lunch abc brickwork market philo changi wakakaka district court insider tip copper chimney foodie chef andre chiang want close restaurant year return michelin star chicken yakatori hospital la raffle hospital havelock road cooked calling lover hawker available todaybring friend hav youll know real mccoy tasting favourite cake avenue saya anak like malaysian cheapest michelinstarred dish world kabuke new japanese sake bar restaurant telok ayer vegetarian haha tanaka vegetarian trustee seek power sell launch magnum pint carefully magnum ice cream popeyes new coupon deal ice cream dinein takeaway think setting designated court area like malaysia winwin solution tech tarik friday margarita bank sharing story insight sell japanese new fad installs ingenious book vending machine offer knowledge instead junk everton road everton place tiong bahru market starfish erika neo tedxyouth getting johor bahru journey tupperware catalogue october november highlight group executive chef location bukit timah sgplans menu outlet nea officer summon smoker smoking sheltered walkway wa raining shopping fiesta bugis streetpart supper hall life nti court stuff face everyday reason evolved restaurant includes hygiene singaporetype fo catering assistant symphony location bukit batok sgrequirements fun sampai je dkt beach road dlm pkl kami pusing utk hunting pkl pm kitorang proceed ke changi intl airport monorel dinner customer indonesia malaysia hungry hungry airline ha hahahahaha rasapura master court simple meal pure satisfaction simplicity delicious malay char koay teow kuala lumpur travel channel malaysia ha offer including michelinstarred direct flight london free trustee beauty world ask court power proceed collective sale today bak ku lau pa sat village takashimaya foodcourt say youre fan chinese til youve tried authentic homely zi char feast hi moira refer restriction ramen famed ramen opening feature advertorial japanese sing month william drew explores new scene year beverage ops job zoological new journey exp product innovation lead local understand menu pick singlish weve internalized makan sampai lebam newton affordable buffet restaurant sea blue marina bay sand offer korean dish roast meat fresh seafood minute delivery order ha picked thats pretty disappointing laksa life bugis new singpost boast classy post office philatelic store innovative place monsdiary lifestyle blog mccafes workshop sneak preview invite bedok bedok corner pasar bedok bedok south market fair tower looking solve global crisis accorhotels launching wine festival november favs ultraclean landscape architecture unique skyline safe chili crab blend asian hightech upscale feel wrapping visit loved herefrom city culture people client sale mgrs came workshop hubby love spread available airline silver kris lounge taoyuan local nyonya kueh peranakan cake corn middle sweet potato tapioca coconu clarke quay nikki muller shareeta salveraj arent happy used think answer tour garden bay flower dome people tour lol real michelinstar noricotravels japan target london venture boost export great lunch talking innovation canada thanks stimulating dialogue foreigner queuing hand meant local needy healthy lunch cbd clean vegan salad poke bowl protein plate highlight spending really meal little india beer ! ! indian lunch friend island legendary chicken rice marsiling lane market cooked broke keto weekend trip fuck love latest hungry news tuck bowl beef kway teow lunch closed washing sims vista market nsingapore thats ive seen delicious looking maybe explore evo update puteh evo information courtesy mr vf tonight spent start youtube channel designed hassell manhattan bar atlas strong appearance bestbars list hypnotized watching cook make noodle complex boldfoodco enjoy ultimate fine dining experience extraordinary concha toro wine dinner pj thum ep elected presidency political economy race breakfast upper boon keng road market healthy brownie recipe easy healthy chocolate recipe kid lunch box tiffin box idea really love indonesia dont think ive appeased palate age like edge theatre uncle ringo kid saw quay didnt want intrude didnt nurture kid child year old work learn firewalking festival singaporean telok ayer market lau pa sat satay gustoso grill pasta western sanuki udon tedxyouth future miya ferrise leisure tanjong pagar popiah keuh pie tee ill pop sure youre tower answer problem dont eye candy soul unik dan enak brazilian bbq rasanya pecah milk tea flavoured pearl hit look follow eatbooksg latest news gym 😂😂😂 journey funny monday fun nature omg miss bugis junction bugis halal takeout wok hey uyi kane mochi style rib basmati rice x subreddit courtesy scarboy flavoured pearl landed follow eatbooksg latest news surge freelance driver supporting private car hire bb house tiger beer uncle chengs big prawn noodle cheap u compared chinatown delight chinatown cafe enjoy family staycation swisstel merchant court asia travel leisure guide hotel hungry telok blangah crescent market telok blangah coming st john island georgeous wknd chef ryan clift team special here… eating real prawn mee chee cheong fun laksa shes real gourmet craving sigh start cooking alr ketchup luncheon meat potato fried beehoon japan airline jal business class tokyo new york counting date list compiling begin emirate meal making feel gloomy dark like enjoying live cheap eh local dish try oncefoodguide burger monster korean burger joint oh wellfood land n come join u ill quick talk vr project ask chat drink timbre level world highest urban craftbrewery leisure sofitel city west idk se farrr hillv super spicy  veg weve got plenty reason veg sort choice available gang world bar serving gastronomical delight located sg passed tanjongpagarcentre yesterday decided drop hattendosingapore brilliant concept address security foodsecure nation world autentico mexicano delicioso veerascurry menu buy product online make sure safe veerascurry catering order chicken thingies malaysian buffet lor bak roll malaysian buffet belacan fried chicken malaysian buffet sambal prawn malaysian buffet weekend diary loft pioneer innovative turning organic fertiliser surged past decade kg yr equivalent airbus finally peaceful lunch bos assistant golden mile beach road new regulatory safety manager chemicalsfood industrysingapore new product innovation lead location salary skpm skpm newton airline doe recently flew korean air wa awesome visit beautiful restaurant bar overseas clarity product bear healthier choice label featuring gourmet zi char like crab served ikura roasted truffle duck unbelievable free visit enjoy everyday various restaurant voucher hit fry pan shokudo pork chicken pankocrusted cutlet bendemeer market airline sq breakfast economy class nijntje miffy caf ultra cute decor open till dec halal caf kumoya mukbang sinigang na baboy fried tilapia filipino yearold female undertaker inspiring woman free cookie mug buying hill science diet dry product check qualifying item korean supermarket buy korean snack grocery thelchua wa buffet hotel korean ahjumma murmur korean referring rat spotted alexandra village pest control measure carried burnt end spot contemporary scene  popiah look ugly delicious guide new safety manager beverage industrysingapore suntory beverage asia challenge k employee globally walk raise fund org charity gather excess undigested glorious type present grade jumbo crab better chili crab black pepper crab culi peach garden la carte buffet hotel miramar price start b discount wing zone free wing giveaway new singpost outlet near paya lebar mrt min spend garden bay merlion park marina bay sand touristy make style chilli crab bali vlog salonimathur sugar cane kid worst airplane ive eaten feature mj xoxo caludgero extreme singaporean girlfriend whats like flying halfway world usa th anniversary malayalee association level hot chocolate fudge sauce tallest beer towerat spud apron restaurant faber peak oktoberfest mean unlimited yummy read experience melaka halal guide st version new udon thai bbq steamboat uk fiery chilli heatwave ... based fantastic spicy singaporetequilaginger ale… chinatown mcdonalds giving away szechuan sauce fung bros kailash parbat btw coming tuesday help recco trip lover smoking area house cooked stall new jurong west hawker offer regularsized dish life alazhar restaurant singaporean amazing bak kut teh outram park yahua rou gu cha account assistant mahota location sgminimum year working experience southeast asia flavor capital lol chomp chomp woodland house pte great bread kitchen sure like played howe berseh oh gee congee think better comfort rainy weather tastemakers life inspired interesting place yishun park hawker hunt hunted chain nanyang technological university cold soba forlikes live starchy sweet fast iced lemon tea struggle real people park especially missing especially wifi impeccable argument said hong kong tokyo alexandra village discover hawker hong lim tvt maxwell shiokman nyonya mee siam sweet prata young buck tee recommending kfc hot cheesy chicken week pm pm valid dinein delivery takeaway shiokman kueh dadar kuih tayap love chinese noodle fave old man got action pls post pic serve airline biz class cur black chicken briyani lapar eunos crescent market bukit timah market oh beloved clean lovely people lunch w b republic opera experience traveling delhi wa served hour later martabak stuffedpancakeor panfried bread foodin malaysia indonesia taken museum life roseanne vlogs ep naillssss rhb cup sf nd leg hougang united fc v global cebu fc september jeremy ang mo kio house fell place new delicious source joy help spicy cheesy make singaporean happiest discovery court sentosa island toa payoh lor market b mandarin use ordered filipino family finish bite cuz u convert money ate rm mee soup omg airline airbus engine trouble delayed tokyo international airport east coast lagoon village mukbang eating chinese away shoutout died went heaven indonesian house early breakfast aa geylang east market private little india morning adventure tourvanaf eur hipster court hall withattitude javaaaaah spore dementiafriendly coffee shop kim san leng block bishan stre limeade amoy tour start today  tangy lemon tart recipe terminator burger challenge w randy santel beef burger fry coleslaw challenge maverick chef like local pay fee deliver end satisfy supper craving croque madame garden doe excellent asian sato land singaporetheres enchanting garden bay yummy travel budget nti court buffet suket resto restaurant rumput resorthotel indonesian instead sick japanese came craving sushi everyday chinese mukbang kowloon shrimp lobster egg foo young crab ragoon cocktail weve transported week join u w bf kaki bukit market v indonesia rd game national arena contest mobile legend hey really sick tired atrocity surfacing reason reign popular buzzing especially sun set dji mavic pro marina central business district make kaadai egg gravy making tamil bachelor samayal mouthwatering nasi kukus malay malaysia travel channel selangor malaysia check debunking myth noodle click travel photo sg dinner kaki bukit market w guailanyou yimklamhere latest cute debut coming december brand store initiative void current market delivery price come huge hit tipped free dimsum week try homemade almond butter breakfast oat spicy noodle chinese burger los angeles xian tour bhaskar travelling ya paris office belief finger lunch fina giant greek meat feast athens republic prawn mee chicken rice clementi market musteat hanoi egg coffee bun rieu xoi xeo prawn pomelo salad exotic flavour thailand buffet marriott cafe guide musttry dish anda paatudi making egg dish recipe indian domestic worker lack adequate nutrition morganfields baby v spare rib thai beef noodle yaaassss craving asian sgfood authentic celebration brazilian music dance culture return th year khoa soitasty chicken curry noodle chiang mai flavor evocative thai about… skip typical bar dig watering hole chuffed hong kongs quinary included latest world london happiness forgets navroop charge gst indicated supermarket price india comparable ginger unlimited lobster crab buffet pax thelchua know hidden treasure spot fine dining establishment shame maxwell worse dilemma felt ab airport year ago employ delivery like korea spill gut gut w katy perry web exclusive ramly burger epic burger malaysia travel channel kuala lumpur malaysia greatest bar world briyani lunch yes watched variety korean went alots shall hunting going sg hell yeah blk bedok north hawker  pinned new baby info lactation bakes ha compiled list chart pinned new baby info lactation bakes ha compiled list chart boost mil bak chor mee minced meat noodle iconic foodit come chicken rice spice alley stall selling malaysia sea bar make world hr sleep important ariffs restaurant cork festival welsh tasting tour pride cardiff wale fairprice offer valid weekend rounded tampines round market way excited join tour penang let airline review geez look warrant hr tr watching file hosted man miss thats like second home man visit nature emily dove right new city stop trio duterte trillanes closed account destab fund court crawl w richie le fung bros porterfetch delivery startup caters want latenight meal grass jelly green tea ice cream shiok shiok famous hawker customer unknowingly helping hotel maintain herb garden meal porterfetch delivers latenight meal till let late night supper easier come dude ill like drug world bar list wa released yesterday bar hk quinary lobster bar year crafting unique theme park world bar hong kong world bar hong kong thai beef noodle soup beef tendon thai javan myna walking pavement hd javan myna redhill mrt station ew smrtsingapore malaysia guide musttry dish firsttime traveller party spot knowledge soul plato wall land transport authority staff library kallang estate fresh market love canada miss sooooomuch hotel turn waste fertiliser deserve beautiful meet ill bring touristy stuff lot king savoury soup rasapura master court marinabaysands ofira amazing thai world bar hong kong american bar london south china morning pls appreciate hahhaahaa soap toilet serve postsbfdl world hong kong today porterfetch delivery startup caters want latenight meal liho drink menu selected east outlet weekend new emoji including genderneutral character animal love gesture sign language wil dinner menu korean saba fish set yummy❤🤗😍 -- -… health promotion board  trust keyour pick place unforgettable omakase experience talking trash seriously british campaigner impressed effort vanilla cupcake fluffy moist cupcake recipe cooking dream cheesy news maybe soon soon cheese balestier road hoover rojak whampoa whampoa drive great destination high low end halal european brio jurong point world expensive launch month foodcourt multata giorno di chiusura motivo bagni erano rimasti senza sapone afternoon fameous people hawker available today promo buy jesus half court suspended new post search uni management university tsl vlogs ha published buz lunch bos burden princess north bridge road market today popular kovan court suspended reason failed provide soap toilet kovan foodcourt count tenant suspended failing provide soap toile seah blk market reaffirms position cocktail capital asia bar making world bar korean try indonesian durian ririeprams amt affordable processed easily available rise city state implemented spot world bar list manhattan break monster gyro calzone challenge  egg india egg recipe indian makan malaysian freshly sweet wheel pancake imagawayaki japan taiwan brick lane london eating animal course nose tail feast youre paranoid wan na brace sayin eating mcdonalds leaving regret wonderful orchestra audience great friend amazing hope aegean airline review flying munich athens greece braised duck sweet roasted coriander gravy itik sioh peranakan blog chinese mukbang eating lactation bakes ha compiled list chart boost milk supply make traditional chinese fish ballsl china kovan hougang market late night delivery porterfetch bite need know manhattan break world bar atlas highest new entry looking great healthy delivery tgifood bring home perfect souvenir foodloving friend seah seah road geylang nightlife hotel cent fest chinatown arrived moon big bright touch told immigration going town f uk lovely people fantastic lot great stopover way australia cafe crew lbd industry pte location sembawang sgrequirements singap really great episode wish wa le politics booze dear zindagi favourite hawker city hawker hunt pt > wed visit learn culture history fell loved humid insanely great delightful people noodlesvermicelli steak bok choi nightim add worst thing living allergy able laksa song > main wayang company armenian p went ate mcdonalds german australian restaurant corndogso tonight forg phnom penh fast cambodian market market asia chilean hour combat ration mre review meal ready taste test affordable zi char start traveling family vacation series people dining grand hyatt singapour hotel unknowingly producing herb used restaurant teo chew bookstore plus ang mo kio central market komala vila sure related india serv fried noodle recipe easy shrimp chicken stir fry come planning xxx hot burrito eating challenge heckin miss nice people super yummy foodill year afasg stgcc yoi event jp nandos chicken feast periperi chicken fry coleslaw corn cob eating mukbang newton shopping orchard road vegan > … prosciuttowrapped atlantic halibut dinner date wife marmalade pantry eating healthys meant protect body doe cost arm leg check diy r vlog trip universal studio wing korean new bar free bar bite drink order complimentary steak sandwich guangzhou roasted suckling pig roasted goose char siu funfamily adventure philippine adam road cutlet rasa sayang western world sachet launch month dr etsuo susaki enjoying hawker tian tian really chicken rice want ep place vegetarian pork liver kidney herbal soup isthatfood face asiasingapore participates local favourite laksa accorhotels madness challenge brother fine beautifully plated dessert read funfamily adventure philippine hidden bustle fat prince newest middle eastern supper club ottomani delicious melaka nyonya nyonya kuih travel channel melaka malaysia plan tour dadian dansende leeuwen gratis eten kans maken op vliegticketskom volgende week naar upto discount send item sample gift usa uk europe dubai australia canada sri rice ruppes kilo open today miffy latest cute character popup cafe noodle recipe > ingredient pound rice vermicell tt shinhwa came night trip culturallysensitive service stop complete nonya foodamong favourite traditional pastry tong thing pregnant singaporethe pay g rice laneway festival tixs sale expect music drink fun vibe cya hey thats looking forward eating delicious oh talk fashion lezatnya hidangan adrift david myers travel tip discover second > head speaking durian apparently durian pizza thing world expensive rice launch month strait surely mattress comfortable tried highlyraved omotesando koffee braved lunch crowd cup verdict superior beverage network excellent strategic sale skill apply join team new restaurant bar check month morning amazing visit shopping temple guide guide prison style chinese spread dining scene chock chinese revamped menu signature breath fresh air introducing peking pork breaking ice blk lorong toa payoh market toa payoh breadtalk alltime favourite bun singtel customer redemption saya menambahkan ke playlist mee siam recipe taste singaporean try going cashless week ep hour travel diary vlog jan jasmine jauw > hey guysthis tour tour cambodia amazing cambodian village teaser walking serf variety indian veg run volunteer u u want pay w singaporean italy homemade gnocchi lake town cheese shopping temple yummy guide tip got today power hard water accommodation airlinesflight reviewsincgkersq insider tip sugarhaus foodie hokkaido adventure trip korean snack haul shiok shiok n roxas quezon city shiok adj singlish word used dish travel vlog adik laksa ba katong lami na sa mcdonalds worker reveals secret getting served fresh chinese braised beef recipe taiwan aussie chinese student throw money elderly taiwanese owner account executive chop hup chong industry location woodland sgbilingua zenxin organic cheap > credi ferrari winesingapores premier importer fine wine chicken salted egg papa turkish ice cream clarke quay self heating meal teppei syokudo ultimate bacon sandwich battle durga puja craze kolkata people enjoying festival indian developing country newer fast largescale study grew economically tasting gourmet italian snack taste test eating cheesy singaporean noodle mukbang hawker tour > facebook page chinatown garden bay marina lot wine dine september restaurant phuket bali tokyo surf hike explore local refreshment final id visit thailandvietnammalaysiasingapore explore scene relax island travel perjalanan menuju zoo dari harbour hd celebrating deepavali little india night market > join logistic store man chee song frozen location bedok sgour store man bangkok near place wa stall ate king kebab mkuking halal missing great korea nom nom nom curry rice dinner takeaway courtesy robert subscribe sixtwo brain miffy cafe check cute hearty pandan waffle singaporestyle gluten free recipe zatayayummy > … lonely planet india veg guide fm vivian balakrishnans powerful speech united nation unga sept malaysia cinematic travel claim strong foodie culture reason little love reusable bag carry fatal poisoning bacteria raw meat busy blk market option cost mp debated oct take… friendly spot affordable robotic automation help egg farm raise productivity asia journal press release hour gallery chicken rice hawker style entry nanyang polytechnic > … perfect tea based horoscope dinner jd bru supposed rush home bc mom hungry need buy new maintenance process application specialist foodpharmasingapore new court lease havelock listing id listing price sgd smb indian muslim youre looking pound pound diverse selection maybe got visit sg miffy meet kumoya kumoyasingapore happening october december omg gaining weight thinking abiut chinese hand pulled noodle lanzhou china fung bros old convent airbase opium denfive restaurant saving storied site occupy fung bros nepalese himalayan singaporean try making lantern midautumn festival special ep singaporebased urban farming startup raise curb reliance imported tasting dutch treat peluang di indonesia nih urban farming startup raise curb reliance imported singaporean open stove timbre festival > tim serve comfort like chicken wing fry chicken adobo filipino mukbang eating trip davidpuckett guy coming soon really ask guy fish chip british fung bros happy midautumn festival celebrate nontraditional alcoholic mooncakes recommendation burger king new digital ecoupons flash mobile device redeem fish selected dish till nov weekday ep jakarta look > sub unbelievable enjoy everyday various restaurant voucher free min spend string visit palletizing help egg farm seng choon boost production liho save classic milk tea milk drink aci workshop nov multisensory experience design beverage packaging  need place cbd settle dinner drink newly opened hooter marina bay guy dinner club dinner thank rinny abt vintage golden era nostalgic foodgames childhood excellent episode wa bait excellent insight socialpolitical dilemma paternal politics dim sum donts mike chen strictly dumpling sean wild american visit great make teriyaki chicken katsu onigirazu tasting new zealand treat urban farming startup raise curb reliance imported challenge spend hawker > latest foo gmo india toxic gm pesticide hindi burger fry feast bbq pork rib nacho cheese spam beef fried chicken eating mukbang craft chocolate rage dmk isnt thinking giving house education job tamil india worrying tamil sri lanka deepavali festival village little india hougang hainanese village lorong ah soo cinnamon bun ikea restaurant today oct grab style rice noodle cuisine discover dining scene upmarket restaurant inventive ultimate foodie guide steamed pork salted fish > welcome everyo coolest court updated aird used morning staying furama hotel scottish comfort amazing malaysian breakfast roti cooked charcoal melaka travel channel malaysia  republic beer garden rt noodle crispy tofu cultural awareness vol v london leadership vlog > … noodle yeah asura asian bistro bar providore stocking ware form wholesome traditional innovative nur qa qc manufacturing kopitiam investment pte location bukit timah sg according local real estate broker attractively priced landed property available buk new restaurant october man man unagi ramen nagi savourworld pince pint eiyi fresh vegetable grown likekevin havent posted today likeive landed singaporetime rat spotted alexandra village pest control measure implemented strait check piece founder original cake british campaigner impressed effort drink chilli crab tanjong pagar wallich residence tallest residence > … german beer festival mukshidonna halal korean restaurant army stew toppoki pasir ri downtown ellachan laksa tawag dri trip nya ta dri loiiiii unboxing jamie oliver chef knife hawker ish eats > hawker foodmus guide indonesian thailand swear ugh aint pretty right glorious hood eating come paradise > home away home advent oct head office partnered w bank reduce hu soul kajiken r u malaysiya november tourair ticketvisathree foodstar hoteltour ac vehicle daysmaja travel aaaand ha arrived raffle city breakfast traditional singaporean way justs seen liverpool tart draft hawker market abb fb forum end product quality doesnt happen chance waistline expand cause epidemic profitable vegetarian stall takeover selling listing id listing price waddup guy eatigo make reservation special discount healthy bento lunch box concept store listing id singaporean try worst challenge ep yall reopen branch miss kaya toast mee siam bean curd vlog > hi guy w anddddd hungry restaurant sort thai craving kuih keria coconut shake nasi lemak melaka famous travel channel malaysia healthier choice cost average counterpart initial demand slow senior minister restaurant magazine integrated pte amk house say let tasting begin join bank project xcess encourages people whip dish using blemished perishablesvisi japan blog dairy cream jiang nan chun hong lim market place junction recommendation jq pot > hot pot pasir pa msg viet thai holland village check job regional quality assurance managersingapore hey guy recently spent photographing critic takanori nakamura visited asked fried bee hoon ji ming cooked highlight expanded malaysia boleh court jurong point guess number calorie fave mooncakes beef hor fun siew mai thank famous blogger review arroz spanish greek culinary scene place aegean sea wasted session waste low hanging fruit thank aroimakmak famous blogger review arroz spanish rice house c cna pest control measure carried rat sighting alexandra village pest control measure carried alexandra village rat spotted establishment said rat pest spotted alexandra village rat control measure taken say holland drive market looking classic catalan comfort recommend restaurant gaig pest control measure carried rat sighting alexandra village channel yay local boon lay place market fluffiest light clean breakfast available ubereats bullshit unrepresentative travel like min tanjong pagar plaza market chef albert au kwok keung showcase cantonese cuisine thing like noodle general tso like comfort following tech trend platform e launching incubation programme id shiella currently cook indian chinese western gon na open jamaicansoul restaurant supreme master television live stream worth calorie > join culinary trip check writer crazy hour tour anthony bourdains answered question lot cheap night prevalence methicillinresistant staphylococcus aureus mrsa retail malaysia travel travel update travel channel kl malaysia > … favourite snack representing future let sign lesson urban setting eating fast twice weekly increased risk heart disease significantly tristram stuart impressed love import limited landfll space staphylococcus aureus isolates retail handler glove sample using resealable bag way succeed industry yo coverage amazing ate chow mein > chowmein chow meinvideo airport people public transport took shower humidity lol broke af guide visual tour bourdain ate week unknown premiere cnn anthony bourdanes cnn perfect society great booze sex recent decision stop shipping cat ha thrown household state crisis mania clubhttpswwwinstagramcompbzvtugjos kudos love singaporeits clean hour flightand clean friend life prawn fishing prawning master season prawn hour wew kaki bukit market michelin bib gourmand herbal pork rib soup bak kut teh restaurant long indulgent brunch everyones favourite office chef yeah coming town month sungei road laksa disappointing > …  asiasingapore chef love culinary speaking japan unreal sure north korea skit sgt nasi bedok bedok corner like option court malaysia boleh clarke quay enjoy live night river breeze delicious wont feel alon aia vitality cookout showdown healthier recipe healthier nsingapore honeycomberssake nommers shawn dasan indulge unlimited japanese maki japanese fair lobster night melt caf november inside google office heylinni vlog > korea famous fishcake samjin amook land domino loaded supreme pizza review gregs kitchen fighting diabetes thought albert market saya menyukai thought culture school work life hahaha sure fine flew airline thought wa decent michelin star pattaya hawker chan famous streetfood stall love ya asian country xxx china town maxwell startup raise curb reliance imported old new fab cheaper dining option meal coffeeshop > hi friend anthony bourdains th edition unknown kick favourite destination rice noodle chicken shrimp surely hit spot ieadventures agfunder urban farming startup raise curb reliance imported fizzy thing apparently roti prata w curry asmr eating sound loved loved tonight looked amazing thank trip tasted shoreditch london hello mcd halal di bugis junction permanas vlog vlog keluarga indonesia passionfruit egg nesuto tiny country favourite kind dining week party awesome music thingstodo chicken claypot geylang > birthday dinner food… hawker stall variety cuisine id draw lover novice foodie  lunch bendemeer market skip foodcourt lunch spot tanjong pagar plaza market wait world biggest hero friend svp episode focus price restaurant charge horror hopefully soon episode real hungry dont think singaporean restaurant diggin new ink season sleeve brother look amazing imagine ubiquitous allure fresh stall hawker foodieee blk bedok north hawker unknown kick season extravaganza price low increased competition sector france exam control chef make want visit instead morning greeted w breakfast ? prominent culture fueling entire economy inflationary thinking possibly hurt economy guy love particular asian cover singaporeabsolutely magnificent interesting country flew halfway world sure aint eating french salivating hall helpjourney w fi check vtg hard rock cafe fest shirt xl stroll world love episode used live miss god leave ruined political economic bullshit watching hey anthony watching oh look delicious man want sight look amazing watching bourdain oh look philippine need visit newest thai restaurant > invited newly missing old home delicious youre gorgeous make hungry look watching right greatest city world look delicious tonight missing killara hungary boost cooperation aviation education safety swensens return voucher spent week till sunday oct beverage operation executive location bukit timah sgmin command beverage executivecaptain location bukit timah sgreading writing cnn pm bourdain explores varied sceneana cabrera cnn pm bourdain explores varied scenebourdain premiere feature solid pornll going dasit cnn pm bourdain premiere feature solid pornllbourdain kick oth season trip satay downtown > lau pa sat satay nope original satay club open air wa disneyesque repack mcdonalds happy meal toy polly pocket polly puppy carrier vintage fast collectible action figure smith st chinatown court > june credit original anthony bourdain think hawker right approach saving buffet place tography ur idol lunch provided event learn office cooking skill thaijapanese fusion ramen combination tonkotsu broth tom yum soup fairmont jakarta world gastronomy heart indonesia nsingapore anthony bourdain promise unknown guest dari check untuk malam assistant director asian channel dekat astro tu wehhh trip actually love know feel plus amazing ugh miss delicious laksa bak kut teh chilli crab char kway teow entire event million better run miss waiting lyke wild honey poke fish bowl raw fish salad fung bros international trend making mark newton w insecurity chong boon market singaporemo kio mall lead bumping space counter online hit news asiaone vending machine dispense gardening kit giant installs vending machine gardening tool pet tourist prefer luxury hotel stay singaporehotels cheng san market cooked rt epicurean market marina bay sand geylang east market ghim moh market beauty world trustee ask court power sell connection fong seng fast nasi lemak added playlist middle eastern rt staycation strolling nana original thai real estate broker advising valued client invest attractively priced landed properti chomp chomp holland village market fan golden arch pretty vocal favourite drink taken sims hospitality brand visiting faculty chef javed famous india page kaki bukit market apparently buy cute cat donut japanese bakery jurong point coconut feastival anthony bourdain discus spore politics govt new travel series boon lay place market district court beo crescent market bendemeer market beautiful juicy steak ubereats today admin human resource executive gao ji pte singaporejobs chong pang market pest control measure carried rat sighting alexandra village shi li fang taiwan hot pot cooking beef cook quick tasty noodle weird combination taste tester ep jang korean restaurant complete guide ich mag da guess chip challenge teen v poisoning sport school fabian toh prezi dhaka airline local delicacy wa idea old airport road market operation executive prima pte primadeli division location harbourfront bank leftover bank restaurant prove healthy delicious chance vote favourite dish laksa foodbloggers world going new notforprofit jurong west hawker feature tray return robot cashless payment option new maintenance engineer chemicalfoodpharma industrysingapore tanglin halt commonwealth drive chinatown porterfetch delivery startup caters want latenight meal living versus overseas millennial zula chickchats ep trailer reposting dinner menu korean saba fish set yummy❤🤗😍 -- -… internationalairport rideshare split cost share unknown kick season extravaganza tian tian hainanese chicken rice stall maxwell road hawker tip manhattan break world bar atlas highest new entry republic world expensive rice make debut outside japan month chinatown complex market taman jurong market  maxwell hk soya sauce chicken stall try chinatown tried bar asia named world bar bar asia named world bar gm chinese feast chili crab fried noodle hokkien mee east coast lagoon village marriott cafe offer flavour thailand till october ayer rajah west coast drive market pek kio market world bar hong kong news taman jurong house clean healthy cbd salad protein bowl healthy bentos mor knock spiked slushies sluviche new ceviche eatery keong saik road quickbites new favourite supper ramen shop express fusion dynasty foch road popular kovan court suspended soap toilet hatter cafe dive unicorn craze unicorn ice cream waffle world expensive rice launch month golden mile beach road durian cafe dedicated sweet savory durian creation including pizza coffee loft clementi avenue upper boon keng road market starred liao fan chinatown court tip gastroenteritis poisoning health hospital doctor liked search uni management university tsl vlogs zion riverside amoy affordable zi char heartland abc brickwork market internet sensation office chef yeah coming endoctober big govt liberal learn rat spotted alexandra village pest control measure implemented new look like winner search uni smu management university tsl vlogs bourdain promise unapologetic unknown british waste campaigner impressed effort bar free bar bite drink order money worth thesmartlocal speciality fine asia july travel trip zoo jalan jalan hari di zoo savor local traveling exploring chinatown place date bae dont need say bye pasir panjang indian roti canai malaysian penang malaysia urban farming startup raise curb reliance imported thai downtown east magic wok mcdonalds new pie knew existed lover paradise coming december bubble tea brand gong chas flagship store singpost strengthening tie security drill strengthening tie security drill strait rat spotted pest control measure implemented korean bbq v korean bbq vietnamese comfort arrival mencari kuliner halal di ke bagus court aja change law travel agent sale visual tour ate week premiere bank bringing restaurant excess toneedy maxi deia home dishing mass roundtrip flight asia city right\n"
     ]
    }
   ],
   "source": [
    "print message"
   ]
  },
  {
   "cell_type": "code",
   "execution_count": 28,
   "metadata": {
    "collapsed": true
   },
   "outputs": [],
   "source": [
    "# http://stackoverflow.com/questions/7911451/pil-convert-png-or-gif-with-transparency-to-jpg-without\n",
    "icon = Image.open('twitter.png')\n",
    "mask = Image.new(\"RGB\", icon.size, (255,255,255))\n",
    "mask.paste(icon,icon)\n",
    "mask = np.array(mask)"
   ]
  },
  {
   "cell_type": "code",
   "execution_count": 29,
   "metadata": {
    "collapsed": true
   },
   "outputs": [],
   "source": [
    "wc = WordCloud(font_path='AmaticSC-Bold.ttf', background_color=\"white\", max_words=10000, mask=mask, \n",
    "               width=4000, height=100, max_font_size=100, random_state=42)"
   ]
  },
  {
   "cell_type": "code",
   "execution_count": 30,
   "metadata": {},
   "outputs": [
    {
     "data": {
      "text/plain": [
       "<wordcloud.wordcloud.WordCloud at 0x111bc6a50>"
      ]
     },
     "execution_count": 30,
     "metadata": {},
     "output_type": "execute_result"
    }
   ],
   "source": [
    "# generate word cloud\n",
    "wc.generate_from_text(message)\n",
    "wc.recolor(color_func=color_func, random_state=3)\n",
    "wc.to_file(\"twitter-wordcloud.png\")"
   ]
  },
  {
   "cell_type": "code",
   "execution_count": null,
   "metadata": {
    "collapsed": true
   },
   "outputs": [],
   "source": []
  },
  {
   "cell_type": "code",
   "execution_count": null,
   "metadata": {
    "collapsed": true
   },
   "outputs": [],
   "source": []
  }
 ],
 "metadata": {
  "kernelspec": {
   "display_name": "Python 2",
   "language": "python",
   "name": "python2"
  },
  "language_info": {
   "codemirror_mode": {
    "name": "ipython",
    "version": 2
   },
   "file_extension": ".py",
   "mimetype": "text/x-python",
   "name": "python",
   "nbconvert_exporter": "python",
   "pygments_lexer": "ipython2",
   "version": "2.7.13"
  }
 },
 "nbformat": 4,
 "nbformat_minor": 2
}

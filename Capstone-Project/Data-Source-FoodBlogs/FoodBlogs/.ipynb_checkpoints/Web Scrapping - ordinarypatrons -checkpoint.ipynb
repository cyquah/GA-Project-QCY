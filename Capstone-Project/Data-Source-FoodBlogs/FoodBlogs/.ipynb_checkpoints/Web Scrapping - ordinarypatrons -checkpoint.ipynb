{
 "cells": [
  {
   "cell_type": "code",
   "execution_count": 1,
   "metadata": {
    "collapsed": true
   },
   "outputs": [],
   "source": [
    "import pandas as pd\n",
    "import re\n",
    "import requests\n",
    "from unidecode import unidecode\n",
    "from bs4 import BeautifulSoup as bs"
   ]
  },
  {
   "cell_type": "code",
   "execution_count": 2,
   "metadata": {},
   "outputs": [
    {
     "name": "stdout",
     "output_type": "stream",
     "text": [
      "Time taken : 41.2258548737  seconds\n"
     ]
    }
   ],
   "source": [
    "import time\n",
    "\n",
    "start = time.time()\n",
    "\n",
    "b_summary = []\n",
    "b_detail = []\n",
    "b_date = []\n",
    "for i in range(1, 5):\n",
    "    url = 'https://thechosenglutton.wordpress.com/page/' + str(i) + '/'\n",
    "    \n",
    "    response = requests.get(url)\n",
    "    soup = bs(response.text, 'html.parser')\n",
    "    \n",
    "    blogs = soup.find_all('h1', {'class' : 'entry-title'})\n",
    "\n",
    "    for summary in blogs:\n",
    "        href = summary.find('a').get('href')\n",
    "        r = requests.get(href)\n",
    "        s = bs(r.text, 'html.parser')\n",
    "\n",
    "        # find date\n",
    "        date = s.find('time', {'class' : 'entry-date'}).text\n",
    "\n",
    "        # find detail\n",
    "        y = s.find('div', {'class' : \"entry-content\"}).find_all('p')\n",
    "        doc = []\n",
    "        for p in y:\n",
    "            if p.text:\n",
    "                doc.append(p.text.lower())\n",
    "        d = ' '.join(doc)\n",
    "\n",
    "        b_summary.append(summary.text)\n",
    "        b_detail.append(d)\n",
    "        b_date.append(date)\n",
    "\n",
    "end = time.time()\n",
    "exe_time = end - start\n",
    "print 'Time taken :',(exe_time),' seconds'"
   ]
  },
  {
   "cell_type": "code",
   "execution_count": 3,
   "metadata": {},
   "outputs": [
    {
     "name": "stdout",
     "output_type": "stream",
     "text": [
      "28\n"
     ]
    }
   ],
   "source": [
    "# parse html elements\n",
    "import HTMLParser\n",
    "html_parser = HTMLParser.HTMLParser()\n",
    "\n",
    "no_html = []\n",
    "for i in b_detail:\n",
    "    i = html_parser.unescape(i)\n",
    "    no_html.append(i)\n",
    "    \n",
    "print len(no_html)"
   ]
  },
  {
   "cell_type": "code",
   "execution_count": 4,
   "metadata": {},
   "outputs": [
    {
     "name": "stdout",
     "output_type": "stream",
     "text": [
      "28\n"
     ]
    }
   ],
   "source": [
    "# remove urls \n",
    "url_re = 'https:\\/\\/www\\.([a-zA-Z\\d]+)\\.com\\/([a-zA-Z\\d]+)\\/([a-zA-Z\\d]*)\\/?'\n",
    "    \n",
    "no_url = []\n",
    "for i in no_html:\n",
    "    u = re.finditer(url_re , i)\n",
    "    if u:\n",
    "        for a in u:\n",
    "            i = i.replace(a.group(), '')\n",
    "    # remove newlines including those created when url removed at end of string\n",
    "    i = i.replace('\\n', '')\n",
    "    no_url.append(i)\n",
    "    \n",
    "print len(no_url)"
   ]
  },
  {
   "cell_type": "code",
   "execution_count": 5,
   "metadata": {
    "collapsed": true
   },
   "outputs": [],
   "source": [
    "# remove any screen names encountered\n",
    "no_scrname = []\n",
    "scrname_re = '@([a-zA-Z\\d]*)'\n",
    "for i in no_url:\n",
    "    u = re.finditer(scrname_re , i)\n",
    "    if u:\n",
    "        for a in u:\n",
    "            i = i.replace(a.group(), '')\n",
    "    no_scrname.append(i)   "
   ]
  },
  {
   "cell_type": "code",
   "execution_count": 6,
   "metadata": {
    "collapsed": true
   },
   "outputs": [],
   "source": [
    "# remove all hashtags\n",
    "no_hashtag = []\n",
    "hashtag_re = '#([a-z]+)'\n",
    "\n",
    "for i in no_scrname:\n",
    "    u = re.finditer(hashtag_re , i)\n",
    "    if u:\n",
    "        for a in u:\n",
    "            i = i.replace(a.group(), '')\n",
    "    no_hashtag.append(i)"
   ]
  },
  {
   "cell_type": "code",
   "execution_count": 7,
   "metadata": {
    "collapsed": true
   },
   "outputs": [],
   "source": [
    "no_spec = []\n",
    "spec_char = ['$', '(', ')','{','}','~','@','#','%','^','&','*',':','|','<',';','[',']']\n",
    "\n",
    "for i in no_hashtag:\n",
    "    for char in spec_char:\n",
    "        i = i.replace(char, '')\n",
    "    no_spec.append(i)"
   ]
  },
  {
   "cell_type": "code",
   "execution_count": 8,
   "metadata": {
    "collapsed": true
   },
   "outputs": [],
   "source": [
    "no_num = []\n",
    "num_re = '\\d'\n",
    "\n",
    "for i in no_spec:\n",
    "    u = re.findall(num_re, i)\n",
    "    if u:\n",
    "        for a in u:\n",
    "            i = i.replace(a , '')\n",
    "    no_num.append(i)"
   ]
  },
  {
   "cell_type": "code",
   "execution_count": 9,
   "metadata": {
    "collapsed": true
   },
   "outputs": [],
   "source": [
    "# get all a-z characters only and remove emojis, punctuations and special characters\n",
    "char_only = []\n",
    "not_char_re = '([^a-z\\s]+)'\n",
    "\n",
    "for i in no_num:\n",
    "    u = re.findall(not_char_re , i)\n",
    "    if u:\n",
    "        for a in u:\n",
    "            i = i.replace(a , '')\n",
    "    char_only.append(i)"
   ]
  },
  {
   "cell_type": "code",
   "execution_count": 10,
   "metadata": {
    "collapsed": true
   },
   "outputs": [],
   "source": [
    "# create final list to fit in dataframe\n",
    "flist = []\n",
    "for i in range(len(b_summary)):\n",
    "    f = [b_summary[i], char_only[i], b_date[i]]\n",
    "    flist.append(f)"
   ]
  },
  {
   "cell_type": "code",
   "execution_count": 11,
   "metadata": {},
   "outputs": [
    {
     "data": {
      "text/html": [
       "<div>\n",
       "<style>\n",
       "    .dataframe thead tr:only-child th {\n",
       "        text-align: right;\n",
       "    }\n",
       "\n",
       "    .dataframe thead th {\n",
       "        text-align: left;\n",
       "    }\n",
       "\n",
       "    .dataframe tbody tr th {\n",
       "        vertical-align: top;\n",
       "    }\n",
       "</style>\n",
       "<table border=\"1\" class=\"dataframe\">\n",
       "  <thead>\n",
       "    <tr style=\"text-align: right;\">\n",
       "      <th></th>\n",
       "      <th>Title</th>\n",
       "      <th>Details</th>\n",
       "      <th>Date</th>\n",
       "    </tr>\n",
       "  </thead>\n",
       "  <tbody>\n",
       "    <tr>\n",
       "      <th>23</th>\n",
       "      <td>Steam Box: Hotpot No More, It’s Steampot Now.</td>\n",
       "      <td>steam box  serangoon gardens these days fb est...</td>\n",
       "      <td>July 3, 2016</td>\n",
       "    </tr>\n",
       "    <tr>\n",
       "      <th>24</th>\n",
       "      <td>Axis Bar &amp; Lounge @ Mandarin Oriental Singapor...</td>\n",
       "      <td>axis bar  lounge  mandarin oriental singapore ...</td>\n",
       "      <td>June 16, 2016</td>\n",
       "    </tr>\n",
       "    <tr>\n",
       "      <th>25</th>\n",
       "      <td>FYR Rooftop Bistro &amp; Bar: TheShiokBook 25% Dis...</td>\n",
       "      <td>view from rooftop bar situated in the area of ...</td>\n",
       "      <td>November 23, 2015</td>\n",
       "    </tr>\n",
       "    <tr>\n",
       "      <th>26</th>\n",
       "      <td>Tea Bar @ M Hotel Singapore: Almost 50% Off Hi...</td>\n",
       "      <td>english high tea set  pax yes you heard it rig...</td>\n",
       "      <td>October 19, 2015</td>\n",
       "    </tr>\n",
       "    <tr>\n",
       "      <th>27</th>\n",
       "      <td>Singapore Marriott Tang Plaza Hotel: ‘Captivat...</td>\n",
       "      <td>singapore marriott tang plaza hotel mooncakes ...</td>\n",
       "      <td>August 28, 2015</td>\n",
       "    </tr>\n",
       "  </tbody>\n",
       "</table>\n",
       "</div>"
      ],
      "text/plain": [
       "                                                Title  \\\n",
       "23      Steam Box: Hotpot No More, It’s Steampot Now.   \n",
       "24  Axis Bar & Lounge @ Mandarin Oriental Singapor...   \n",
       "25  FYR Rooftop Bistro & Bar: TheShiokBook 25% Dis...   \n",
       "26  Tea Bar @ M Hotel Singapore: Almost 50% Off Hi...   \n",
       "27  Singapore Marriott Tang Plaza Hotel: ‘Captivat...   \n",
       "\n",
       "                                              Details               Date  \n",
       "23  steam box  serangoon gardens these days fb est...       July 3, 2016  \n",
       "24  axis bar  lounge  mandarin oriental singapore ...      June 16, 2016  \n",
       "25  view from rooftop bar situated in the area of ...  November 23, 2015  \n",
       "26  english high tea set  pax yes you heard it rig...   October 19, 2015  \n",
       "27  singapore marriott tang plaza hotel mooncakes ...    August 28, 2015  "
      ]
     },
     "execution_count": 11,
     "metadata": {},
     "output_type": "execute_result"
    }
   ],
   "source": [
    "df = pd.DataFrame(flist, columns = ['Title', 'Details', 'Date'])  \n",
    "df.tail()"
   ]
  },
  {
   "cell_type": "code",
   "execution_count": 12,
   "metadata": {},
   "outputs": [
    {
     "name": "stdout",
     "output_type": "stream",
     "text": [
      "one fruit many form its durian season again and to celebrate the king of fruits marriott caf  singapore marriott tang plaza hotel has brought back exclusive durian creations alongside its usual variety of mouthwatering international and local buffet offerings happening from pm  pm everyday until  august  indulge in a variety of sweet and savoury treats created by executive pastry chef john evans some of the highlights include the durian crumble durian strudel durian mousse as well as the durian mascarpone pizza the idea of a durian pizza may sound strange to many but it turned out to be a surprisingly delicious combination if you are the adventurous sort you will definitely welcome the different ways in which durian is used in the various desserts danish pastries scones pizza from the makers hand executive pastry chef john evans serving a slice of the durian mascarpone pizza fresh seafood singaporean signatures customisable laksa as it is a high tea buffet you should expect that the buffet selection will not be as extensive as in lunchdinner international buffet however there is still a fairly diverse selection that is bound to leave you satisfied for the rest of the day from buffet mainstays such as freshly shucked oysters and prawns to live cooking stations offering noodles and crepes another highlight is the singaporean signatures being served up  nasi lemak chicken rice bak kut teh char kway teow and many more dishes on rotation the full menu may be found here pricesmonday to friday  saturday  sundayadult   child    age  to  years old card promotiondbs  posb   for  high tea buffet valid till  july  excluding eve of ph and ph words and photos by leon jaredaddress marriott tang plaza  orchard road singapore contact    wwwsingaporemarriottcomdiningreserveatableaccepts reservationsopening hours for high tea buffet pm  pm dailywebsite  facebook  instagram\n"
     ]
    }
   ],
   "source": [
    "x = df.iloc[3,1]\n",
    "print x"
   ]
  },
  {
   "cell_type": "code",
   "execution_count": 13,
   "metadata": {
    "collapsed": true
   },
   "outputs": [],
   "source": [
    "# write to csv file\n",
    "with open ('chosenglutton.csv', 'w') as tc:\n",
    "    df.to_csv(tc, encoding='utf-8')"
   ]
  },
  {
   "cell_type": "code",
   "execution_count": null,
   "metadata": {
    "collapsed": true
   },
   "outputs": [],
   "source": []
  }
 ],
 "metadata": {
  "kernelspec": {
   "display_name": "Python 2",
   "language": "python",
   "name": "python2"
  },
  "language_info": {
   "codemirror_mode": {
    "name": "ipython",
    "version": 2
   },
   "file_extension": ".py",
   "mimetype": "text/x-python",
   "name": "python",
   "nbconvert_exporter": "python",
   "pygments_lexer": "ipython2",
   "version": "2.7.13"
  }
 },
 "nbformat": 4,
 "nbformat_minor": 2
}

{
 "cells": [
  {
   "cell_type": "code",
   "execution_count": 36,
   "metadata": {
    "collapsed": true
   },
   "outputs": [],
   "source": [
    "import pandas as pd\n",
    "import numpy as np\n",
    "import nltk\n",
    "from nltk import ngrams\n",
    "import matplotlib.pyplot as plt\n",
    "import random"
   ]
  },
  {
   "cell_type": "code",
   "execution_count": 29,
   "metadata": {},
   "outputs": [
    {
     "data": {
      "text/html": [
       "<div>\n",
       "<style>\n",
       "    .dataframe thead tr:only-child th {\n",
       "        text-align: right;\n",
       "    }\n",
       "\n",
       "    .dataframe thead th {\n",
       "        text-align: left;\n",
       "    }\n",
       "\n",
       "    .dataframe tbody tr th {\n",
       "        vertical-align: top;\n",
       "    }\n",
       "</style>\n",
       "<table border=\"1\" class=\"dataframe\">\n",
       "  <thead>\n",
       "    <tr style=\"text-align: right;\">\n",
       "      <th></th>\n",
       "      <th>foodblogs_tokenized</th>\n",
       "    </tr>\n",
       "  </thead>\n",
       "  <tbody>\n",
       "    <tr>\n",
       "      <th>0</th>\n",
       "      <td>[bak, chor, mee, translates, minced, meat, noo...</td>\n",
       "    </tr>\n",
       "    <tr>\n",
       "      <th>1</th>\n",
       "      <td>[hokkien, prawn, mee, iconic, variant, penang,...</td>\n",
       "    </tr>\n",
       "    <tr>\n",
       "      <th>2</th>\n",
       "      <td>[nu, youve, treated, indulgent, meal, waa, cow...</td>\n",
       "    </tr>\n",
       "    <tr>\n",
       "      <th>3</th>\n",
       "      <td>[newly, opened, hawkerman, soontobe, halal, ce...</td>\n",
       "    </tr>\n",
       "    <tr>\n",
       "      <th>4</th>\n",
       "      <td>[economical, bee, hoon, singaporean, favourite...</td>\n",
       "    </tr>\n",
       "  </tbody>\n",
       "</table>\n",
       "</div>"
      ],
      "text/plain": [
       "                                 foodblogs_tokenized\n",
       "0  [bak, chor, mee, translates, minced, meat, noo...\n",
       "1  [hokkien, prawn, mee, iconic, variant, penang,...\n",
       "2  [nu, youve, treated, indulgent, meal, waa, cow...\n",
       "3  [newly, opened, hawkerman, soontobe, halal, ce...\n",
       "4  [economical, bee, hoon, singaporean, favourite..."
      ]
     },
     "execution_count": 29,
     "metadata": {},
     "output_type": "execute_result"
    }
   ],
   "source": [
    "# when read from csv, default is text, need to specify dtype=object to preserve info as tokens\n",
    "txt = pd.read_csv('combined_blogs-tokenize.csv', dtype='object', index_col=0, names=['foodblogs_tokenized'], encoding = 'utf-8')\n",
    "txt.head()"
   ]
  },
  {
   "cell_type": "code",
   "execution_count": 30,
   "metadata": {},
   "outputs": [],
   "source": [
    "# combine \n",
    "t=''\n",
    "for i in range(len(txt)):\n",
    "    t += txt.foodblogs_tokenized[i]\n",
    " "
   ]
  },
  {
   "cell_type": "code",
   "execution_count": 31,
   "metadata": {
    "collapsed": true
   },
   "outputs": [],
   "source": [
    "t = str(t)\n",
    "t = t.replace('[','').replace(']','').replace(',','').replace('...','')\n",
    "t = nltk.word_tokenize(t)"
   ]
  },
  {
   "cell_type": "code",
   "execution_count": 32,
   "metadata": {},
   "outputs": [
    {
     "data": {
      "text/plain": [
       "[('bak', 'chor'),\n",
       " ('chor', 'mee'),\n",
       " ('mee', 'translates'),\n",
       " ('translates', 'minced'),\n",
       " ('minced', 'meat')]"
      ]
     },
     "execution_count": 32,
     "metadata": {},
     "output_type": "execute_result"
    }
   ],
   "source": [
    "# remeber to start from top to refresh, else will get wrong results\n",
    "bgs = ngrams(t, 2)\n",
    "bgs = list(bgs)\n",
    "bgs[:5]"
   ]
  },
  {
   "cell_type": "code",
   "execution_count": 33,
   "metadata": {},
   "outputs": [],
   "source": [
    "tfreq = nltk.FreqDist(bgs)\n",
    "#sort the keys by its values\n",
    "tkeys = sorted(tfreq, key=tfreq.__getitem__, reverse=True)\n",
    "tvalues = sorted(tfreq.values(), reverse=True)\n"
   ]
  },
  {
   "cell_type": "code",
   "execution_count": 34,
   "metadata": {},
   "outputs": [
    {
     "name": "stdout",
     "output_type": "stream",
     "text": [
      "[('prawn', 'mee'), ('hokkien', 'prawn'), ('chicken', 'rice'), ('ice', 'cream'), ('hong', 'kong'), ('dim', 'sum'), ('nasi', 'lemak'), ('salted', 'egg'), ('pork', 'belly'), ('fried', 'chicken')]\n",
      "[10, 9, 8, 7, 6, 5, 4, 3, 2, 1]\n",
      "[167, 146, 128, 123, 120, 100, 96, 95, 91, 90]\n"
     ]
    }
   ],
   "source": [
    "print tkeys[:10]\n",
    "y = range(len(tkeys[:10]),0,-1)\n",
    "print y\n",
    "print tvalues[:10]"
   ]
  },
  {
   "cell_type": "code",
   "execution_count": 42,
   "metadata": {},
   "outputs": [
    {
     "data": {
      "image/png": "[encoded data removed]",
      "text/plain": [
       "<matplotlib.figure.Figure at 0x1a18e0b750>"
      ]
     },
     "metadata": {},
     "output_type": "display_data"
    }
   ],
   "source": [
    "t = [tuple(map(str,x)) for x in tkeys[:10]]\n",
    "x = range(len(t))\n",
    "y = range(len(t))\n",
    "random.shuffle(y)\n",
    "# y = range(len(t),0,-1)\n",
    "s = [np.log(float(20*10**n)) for n in tvalues]\n",
    "\n",
    "fig, ax = plt.subplots()\n",
    "ax.scatter(x, y, s=s)\n",
    "\n",
    "for i, txt in enumerate(t):\n",
    "    ax.annotate(txt, (x[i],y[i]))\n",
    "    \n",
    "plt.show()"
   ]
  },
  {
   "cell_type": "code",
   "execution_count": null,
   "metadata": {
    "collapsed": true
   },
   "outputs": [],
   "source": []
  },
  {
   "cell_type": "code",
   "execution_count": null,
   "metadata": {
    "collapsed": true
   },
   "outputs": [],
   "source": []
  },
  {
   "cell_type": "code",
   "execution_count": null,
   "metadata": {
    "collapsed": true
   },
   "outputs": [],
   "source": []
  }
 ],
 "metadata": {
  "kernelspec": {
   "display_name": "Python 2",
   "language": "python",
   "name": "python2"
  },
  "language_info": {
   "codemirror_mode": {
    "name": "ipython",
    "version": 2
   },
   "file_extension": ".py",
   "mimetype": "text/x-python",
   "name": "python",
   "nbconvert_exporter": "python",
   "pygments_lexer": "ipython2",
   "version": "2.7.13"
  }
 },
 "nbformat": 4,
 "nbformat_minor": 2
}

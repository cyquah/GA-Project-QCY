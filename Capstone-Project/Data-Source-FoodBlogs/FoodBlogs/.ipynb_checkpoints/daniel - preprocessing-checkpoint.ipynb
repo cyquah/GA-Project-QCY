{
 "cells": [
  {
   "cell_type": "code",
   "execution_count": 1,
   "metadata": {
    "collapsed": true
   },
   "outputs": [],
   "source": [
    "import pandas as pd\n",
    "from textblob import TextBlob, Word\n",
    "from nltk.stem import PorterStemmer, WordNetLemmatizer"
   ]
  },
  {
   "cell_type": "code",
   "execution_count": 2,
   "metadata": {
    "collapsed": true
   },
   "outputs": [],
   "source": [
    "df = pd.read_csv('daniel.csv', index_col=0)"
   ]
  },
  {
   "cell_type": "code",
   "execution_count": 3,
   "metadata": {},
   "outputs": [
    {
     "data": {
      "text/html": [
       "<div>\n",
       "<style>\n",
       "    .dataframe thead tr:only-child th {\n",
       "        text-align: right;\n",
       "    }\n",
       "\n",
       "    .dataframe thead th {\n",
       "        text-align: left;\n",
       "    }\n",
       "\n",
       "    .dataframe tbody tr th {\n",
       "        vertical-align: top;\n",
       "    }\n",
       "</style>\n",
       "<table border=\"1\" class=\"dataframe\">\n",
       "  <thead>\n",
       "    <tr style=\"text-align: right;\">\n",
       "      <th></th>\n",
       "      <th>Title</th>\n",
       "      <th>Details</th>\n",
       "      <th>Date</th>\n",
       "    </tr>\n",
       "  </thead>\n",
       "  <tbody>\n",
       "    <tr>\n",
       "      <th>0</th>\n",
       "      <td>\\n\\nFeature - Review, Food - Japanese, Singapo...</td>\n",
       "      <td>savourworld has opened at science park ascent ...</td>\n",
       "      <td>October 11, 2017</td>\n",
       "    </tr>\n",
       "    <tr>\n",
       "      <th>1</th>\n",
       "      <td>\\n\\nFeature - Advertorial, Food - Buffet, Sing...</td>\n",
       "      <td>cantonese or yue cuisine is one of the most po...</td>\n",
       "      <td>October 10, 2017</td>\n",
       "    </tr>\n",
       "    <tr>\n",
       "      <th>2</th>\n",
       "      <td>\\n\\nFeature - Advertorial, Food - Japanese, Si...</td>\n",
       "      <td>the famed ramen nagi will be opening its st ou...</td>\n",
       "      <td>October 10, 2017</td>\n",
       "    </tr>\n",
       "    <tr>\n",
       "      <th>3</th>\n",
       "      <td>\\n\\nFeature - Review, Food - Cafe, Singapore -...</td>\n",
       "      <td>there are a number of new gelato cafes opening...</td>\n",
       "      <td>October 09, 2017</td>\n",
       "    </tr>\n",
       "    <tr>\n",
       "      <th>4</th>\n",
       "      <td>\\n\\nFeature - Review, Food - Korean, Overseas ...</td>\n",
       "      <td>seoul both the michelin guide seoul and worlds...</td>\n",
       "      <td>October 08, 2017</td>\n",
       "    </tr>\n",
       "  </tbody>\n",
       "</table>\n",
       "</div>"
      ],
      "text/plain": [
       "                                               Title  \\\n",
       "0  \\n\\nFeature - Review, Food - Japanese, Singapo...   \n",
       "1  \\n\\nFeature - Advertorial, Food - Buffet, Sing...   \n",
       "2  \\n\\nFeature - Advertorial, Food - Japanese, Si...   \n",
       "3  \\n\\nFeature - Review, Food - Cafe, Singapore -...   \n",
       "4  \\n\\nFeature - Review, Food - Korean, Overseas ...   \n",
       "\n",
       "                                             Details               Date  \n",
       "0  savourworld has opened at science park ascent ...   October 11, 2017  \n",
       "1  cantonese or yue cuisine is one of the most po...   October 10, 2017  \n",
       "2  the famed ramen nagi will be opening its st ou...   October 10, 2017  \n",
       "3  there are a number of new gelato cafes opening...   October 09, 2017  \n",
       "4  seoul both the michelin guide seoul and worlds...   October 08, 2017  "
      ]
     },
     "execution_count": 3,
     "metadata": {},
     "output_type": "execute_result"
    }
   ],
   "source": [
    "df.head()"
   ]
  },
  {
   "cell_type": "code",
   "execution_count": 4,
   "metadata": {
    "collapsed": true
   },
   "outputs": [],
   "source": [
    "details = df['Details']"
   ]
  },
  {
   "cell_type": "code",
   "execution_count": 5,
   "metadata": {
    "scrolled": true
   },
   "outputs": [
    {
     "data": {
      "text/plain": [
       "\"\\nimport time\\n\\nstart = time.time()\\n\\nspell_check = []\\nfor item in details:\\n    item = str(item).decode('utf-8')\\n    t = TextBlob(item).correct()\\n    spell_check.append(t)\\n    \\nend = time.time()\\nexe_time = end - start\\nprint 'Time taken :',(exe_time),' seconds'\\n\""
      ]
     },
     "execution_count": 5,
     "metadata": {},
     "output_type": "execute_result"
    }
   ],
   "source": [
    "\"\"\"\n",
    "import time\n",
    "\n",
    "start = time.time()\n",
    "\n",
    "spell_check = []\n",
    "for item in details:\n",
    "    item = str(item).decode('utf-8')\n",
    "    t = TextBlob(item).correct()\n",
    "    spell_check.append(t)\n",
    "    \n",
    "end = time.time()\n",
    "exe_time = end - start\n",
    "print 'Time taken :',(exe_time),' seconds'\n",
    "\"\"\""
   ]
  },
  {
   "cell_type": "code",
   "execution_count": 6,
   "metadata": {},
   "outputs": [
    {
     "name": "stdout",
     "output_type": "stream",
     "text": [
      "Time taken : 4.19961619377  seconds\n"
     ]
    }
   ],
   "source": [
    "import time\n",
    "\n",
    "start = time.time()\n",
    "\n",
    "lemma_check =[]\n",
    "wnl = WordNetLemmatizer()\n",
    "for item in details:\n",
    "    item = str(item).decode('utf-8')\n",
    "    t = \" \".join([wnl.lemmatize(i) for i in item.split()])\n",
    "    lemma_check.append(t) \n",
    "    \n",
    "end = time.time()\n",
    "exe_time = end - start\n",
    "print 'Time taken :',(exe_time),' seconds'"
   ]
  },
  {
   "cell_type": "code",
   "execution_count": 7,
   "metadata": {
    "collapsed": true
   },
   "outputs": [],
   "source": [
    "word_count = []\n",
    "for lemma in lemma_check:\n",
    "    count = len(lemma.split())\n",
    "    word_count.append(count)"
   ]
  },
  {
   "cell_type": "code",
   "execution_count": 8,
   "metadata": {
    "collapsed": true
   },
   "outputs": [],
   "source": [
    "df['Details_processed'] = lemma_check"
   ]
  },
  {
   "cell_type": "code",
   "execution_count": 9,
   "metadata": {},
   "outputs": [
    {
     "data": {
      "text/plain": [
       "319563"
      ]
     },
     "execution_count": 9,
     "metadata": {},
     "output_type": "execute_result"
    }
   ],
   "source": [
    "df['Word_count'] = word_count\n",
    "sum(df['Word_count'])"
   ]
  },
  {
   "cell_type": "code",
   "execution_count": 10,
   "metadata": {},
   "outputs": [
    {
     "name": "stdout",
     "output_type": "stream",
     "text": [
      "Total number of records : 490\n",
      "Total number of words : 319563\n",
      "Average no. of words per record : 652\n"
     ]
    }
   ],
   "source": [
    "print 'Total number of records :', len(df)\n",
    "print 'Total number of words :', sum(df['Word_count'])\n",
    "print 'Average no. of words per record :', sum(df['Word_count'])/len(df)"
   ]
  },
  {
   "cell_type": "code",
   "execution_count": 11,
   "metadata": {},
   "outputs": [
    {
     "data": {
      "text/html": [
       "<div>\n",
       "<style>\n",
       "    .dataframe thead tr:only-child th {\n",
       "        text-align: right;\n",
       "    }\n",
       "\n",
       "    .dataframe thead th {\n",
       "        text-align: left;\n",
       "    }\n",
       "\n",
       "    .dataframe tbody tr th {\n",
       "        vertical-align: top;\n",
       "    }\n",
       "</style>\n",
       "<table border=\"1\" class=\"dataframe\">\n",
       "  <thead>\n",
       "    <tr style=\"text-align: right;\">\n",
       "      <th></th>\n",
       "      <th>Title</th>\n",
       "      <th>Details</th>\n",
       "      <th>Date</th>\n",
       "      <th>Details_processed</th>\n",
       "      <th>Word_count</th>\n",
       "    </tr>\n",
       "  </thead>\n",
       "  <tbody>\n",
       "    <tr>\n",
       "      <th>0</th>\n",
       "      <td>\\n\\nFeature - Review, Food - Japanese, Singapo...</td>\n",
       "      <td>savourworld has opened at science park ascent ...</td>\n",
       "      <td>October 11, 2017</td>\n",
       "      <td>savourworld ha opened at science park ascent b...</td>\n",
       "      <td>395</td>\n",
       "    </tr>\n",
       "    <tr>\n",
       "      <th>1</th>\n",
       "      <td>\\n\\nFeature - Advertorial, Food - Buffet, Sing...</td>\n",
       "      <td>cantonese or yue cuisine is one of the most po...</td>\n",
       "      <td>October 10, 2017</td>\n",
       "      <td>cantonese or yue cuisine is one of the most po...</td>\n",
       "      <td>960</td>\n",
       "    </tr>\n",
       "    <tr>\n",
       "      <th>2</th>\n",
       "      <td>\\n\\nFeature - Advertorial, Food - Japanese, Si...</td>\n",
       "      <td>the famed ramen nagi will be opening its st ou...</td>\n",
       "      <td>October 10, 2017</td>\n",
       "      <td>the famed ramen nagi will be opening it st out...</td>\n",
       "      <td>752</td>\n",
       "    </tr>\n",
       "    <tr>\n",
       "      <th>3</th>\n",
       "      <td>\\n\\nFeature - Review, Food - Cafe, Singapore -...</td>\n",
       "      <td>there are a number of new gelato cafes opening...</td>\n",
       "      <td>October 09, 2017</td>\n",
       "      <td>there are a number of new gelato cafe opening ...</td>\n",
       "      <td>346</td>\n",
       "    </tr>\n",
       "    <tr>\n",
       "      <th>4</th>\n",
       "      <td>\\n\\nFeature - Review, Food - Korean, Overseas ...</td>\n",
       "      <td>seoul both the michelin guide seoul and worlds...</td>\n",
       "      <td>October 08, 2017</td>\n",
       "      <td>seoul both the michelin guide seoul and world ...</td>\n",
       "      <td>710</td>\n",
       "    </tr>\n",
       "  </tbody>\n",
       "</table>\n",
       "</div>"
      ],
      "text/plain": [
       "                                               Title  \\\n",
       "0  \\n\\nFeature - Review, Food - Japanese, Singapo...   \n",
       "1  \\n\\nFeature - Advertorial, Food - Buffet, Sing...   \n",
       "2  \\n\\nFeature - Advertorial, Food - Japanese, Si...   \n",
       "3  \\n\\nFeature - Review, Food - Cafe, Singapore -...   \n",
       "4  \\n\\nFeature - Review, Food - Korean, Overseas ...   \n",
       "\n",
       "                                             Details               Date  \\\n",
       "0  savourworld has opened at science park ascent ...   October 11, 2017   \n",
       "1  cantonese or yue cuisine is one of the most po...   October 10, 2017   \n",
       "2  the famed ramen nagi will be opening its st ou...   October 10, 2017   \n",
       "3  there are a number of new gelato cafes opening...   October 09, 2017   \n",
       "4  seoul both the michelin guide seoul and worlds...   October 08, 2017   \n",
       "\n",
       "                                   Details_processed  Word_count  \n",
       "0  savourworld ha opened at science park ascent b...         395  \n",
       "1  cantonese or yue cuisine is one of the most po...         960  \n",
       "2  the famed ramen nagi will be opening it st out...         752  \n",
       "3  there are a number of new gelato cafe opening ...         346  \n",
       "4  seoul both the michelin guide seoul and world ...         710  "
      ]
     },
     "execution_count": 11,
     "metadata": {},
     "output_type": "execute_result"
    }
   ],
   "source": [
    "df.head()"
   ]
  },
  {
   "cell_type": "code",
   "execution_count": 12,
   "metadata": {
    "collapsed": true
   },
   "outputs": [],
   "source": [
    "f = 'daniel.csv'\n",
    "df.to_csv(f, encoding='utf-8')"
   ]
  },
  {
   "cell_type": "code",
   "execution_count": null,
   "metadata": {
    "collapsed": true
   },
   "outputs": [],
   "source": []
  }
 ],
 "metadata": {
  "kernelspec": {
   "display_name": "Python 2",
   "language": "python",
   "name": "python2"
  },
  "language_info": {
   "codemirror_mode": {
    "name": "ipython",
    "version": 2
   },
   "file_extension": ".py",
   "mimetype": "text/x-python",
   "name": "python",
   "nbconvert_exporter": "python",
   "pygments_lexer": "ipython2",
   "version": "2.7.13"
  }
 },
 "nbformat": 4,
 "nbformat_minor": 2
}

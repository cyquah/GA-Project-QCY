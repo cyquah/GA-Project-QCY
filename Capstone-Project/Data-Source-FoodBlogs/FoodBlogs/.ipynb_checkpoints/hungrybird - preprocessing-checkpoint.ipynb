{
 "cells": [
  {
   "cell_type": "code",
   "execution_count": 1,
   "metadata": {
    "collapsed": true
   },
   "outputs": [],
   "source": [
    "import pandas as pd\n",
    "from textblob import TextBlob, Word\n",
    "from nltk.stem import PorterStemmer, WordNetLemmatizer"
   ]
  },
  {
   "cell_type": "code",
   "execution_count": 2,
   "metadata": {
    "collapsed": true
   },
   "outputs": [],
   "source": [
    "df = pd.read_csv('hungrybird.csv', index_col=0)"
   ]
  },
  {
   "cell_type": "code",
   "execution_count": 3,
   "metadata": {},
   "outputs": [
    {
     "data": {
      "text/html": [
       "<div>\n",
       "<style>\n",
       "    .dataframe thead tr:only-child th {\n",
       "        text-align: right;\n",
       "    }\n",
       "\n",
       "    .dataframe thead th {\n",
       "        text-align: left;\n",
       "    }\n",
       "\n",
       "    .dataframe tbody tr th {\n",
       "        vertical-align: top;\n",
       "    }\n",
       "</style>\n",
       "<table border=\"1\" class=\"dataframe\">\n",
       "  <thead>\n",
       "    <tr style=\"text-align: right;\">\n",
       "      <th></th>\n",
       "      <th>Title</th>\n",
       "      <th>Details</th>\n",
       "      <th>Date</th>\n",
       "    </tr>\n",
       "  </thead>\n",
       "  <tbody>\n",
       "    <tr>\n",
       "      <th>0</th>\n",
       "      <td>Raffles Singapore Mooncakes 2017 (bonus moonca...</td>\n",
       "      <td>mid autumn festival is literally around the co...</td>\n",
       "      <td>October 3, 2017</td>\n",
       "    </tr>\n",
       "    <tr>\n",
       "      <th>1</th>\n",
       "      <td>ABC Cooking Studio</td>\n",
       "      <td>as much as i love eating out i also love makin...</td>\n",
       "      <td>September 27, 2017</td>\n",
       "    </tr>\n",
       "    <tr>\n",
       "      <th>2</th>\n",
       "      <td>Shuu by Koki – Dessert</td>\n",
       "      <td>i found the best choux pastry in singapore guy...</td>\n",
       "      <td>September 26, 2017</td>\n",
       "    </tr>\n",
       "    <tr>\n",
       "      <th>3</th>\n",
       "      <td>Brawn &amp; Brains – Brunch</td>\n",
       "      <td>im not the sort to cafe hop or have brunch on ...</td>\n",
       "      <td>September 24, 2017</td>\n",
       "    </tr>\n",
       "    <tr>\n",
       "      <th>4</th>\n",
       "      <td>Violet Oon Satay Grill &amp; Bar – Dinner</td>\n",
       "      <td>ive been to violet oons kitchen bukit timah an...</td>\n",
       "      <td>September 23, 2017</td>\n",
       "    </tr>\n",
       "  </tbody>\n",
       "</table>\n",
       "</div>"
      ],
      "text/plain": [
       "                                               Title  \\\n",
       "0  Raffles Singapore Mooncakes 2017 (bonus moonca...   \n",
       "1                                 ABC Cooking Studio   \n",
       "2                             Shuu by Koki – Dessert   \n",
       "3                            Brawn & Brains – Brunch   \n",
       "4              Violet Oon Satay Grill & Bar – Dinner   \n",
       "\n",
       "                                             Details                Date  \n",
       "0  mid autumn festival is literally around the co...     October 3, 2017  \n",
       "1  as much as i love eating out i also love makin...  September 27, 2017  \n",
       "2  i found the best choux pastry in singapore guy...  September 26, 2017  \n",
       "3  im not the sort to cafe hop or have brunch on ...  September 24, 2017  \n",
       "4  ive been to violet oons kitchen bukit timah an...  September 23, 2017  "
      ]
     },
     "execution_count": 3,
     "metadata": {},
     "output_type": "execute_result"
    }
   ],
   "source": [
    "df.head()"
   ]
  },
  {
   "cell_type": "code",
   "execution_count": 4,
   "metadata": {
    "collapsed": true
   },
   "outputs": [],
   "source": [
    "details = df['Details']"
   ]
  },
  {
   "cell_type": "code",
   "execution_count": 5,
   "metadata": {},
   "outputs": [
    {
     "name": "stdout",
     "output_type": "stream",
     "text": [
      "Time taken : 2.38907313347  seconds\n"
     ]
    }
   ],
   "source": [
    "import time\n",
    "\n",
    "start = time.time()\n",
    "\n",
    "lemma_check =[]\n",
    "wnl = WordNetLemmatizer()\n",
    "for item in details:\n",
    "    item = str(item).decode('utf-8')\n",
    "    t = \" \".join([wnl.lemmatize(i) for i in item.split()])\n",
    "    lemma_check.append(t) \n",
    "    \n",
    "end = time.time()\n",
    "exe_time = end - start\n",
    "print 'Time taken :',(exe_time),' seconds'"
   ]
  },
  {
   "cell_type": "code",
   "execution_count": 6,
   "metadata": {
    "collapsed": true
   },
   "outputs": [],
   "source": [
    "word_count = []\n",
    "for lemma in lemma_check:\n",
    "    count = len(lemma.split())\n",
    "    word_count.append(count)"
   ]
  },
  {
   "cell_type": "code",
   "execution_count": 7,
   "metadata": {
    "collapsed": true
   },
   "outputs": [],
   "source": [
    "df['Details_processed'] = lemma_check"
   ]
  },
  {
   "cell_type": "code",
   "execution_count": 8,
   "metadata": {},
   "outputs": [
    {
     "data": {
      "text/plain": [
       "16207"
      ]
     },
     "execution_count": 8,
     "metadata": {},
     "output_type": "execute_result"
    }
   ],
   "source": [
    "df['Word_count'] = word_count\n",
    "sum(df['Word_count'])"
   ]
  },
  {
   "cell_type": "code",
   "execution_count": 9,
   "metadata": {},
   "outputs": [
    {
     "name": "stdout",
     "output_type": "stream",
     "text": [
      "Total number of records : 21\n",
      "Total number of words : 16207\n",
      "Average no. of words per record : 771\n"
     ]
    }
   ],
   "source": [
    "print 'Total number of records :', len(df)\n",
    "print 'Total number of words :', sum(df['Word_count'])\n",
    "print 'Average no. of words per record :', sum(df['Word_count'])/len(df)"
   ]
  },
  {
   "cell_type": "code",
   "execution_count": 10,
   "metadata": {},
   "outputs": [
    {
     "data": {
      "text/html": [
       "<div>\n",
       "<style>\n",
       "    .dataframe thead tr:only-child th {\n",
       "        text-align: right;\n",
       "    }\n",
       "\n",
       "    .dataframe thead th {\n",
       "        text-align: left;\n",
       "    }\n",
       "\n",
       "    .dataframe tbody tr th {\n",
       "        vertical-align: top;\n",
       "    }\n",
       "</style>\n",
       "<table border=\"1\" class=\"dataframe\">\n",
       "  <thead>\n",
       "    <tr style=\"text-align: right;\">\n",
       "      <th></th>\n",
       "      <th>Title</th>\n",
       "      <th>Details</th>\n",
       "      <th>Date</th>\n",
       "      <th>Details_processed</th>\n",
       "      <th>Word_count</th>\n",
       "    </tr>\n",
       "  </thead>\n",
       "  <tbody>\n",
       "    <tr>\n",
       "      <th>0</th>\n",
       "      <td>Raffles Singapore Mooncakes 2017 (bonus moonca...</td>\n",
       "      <td>mid autumn festival is literally around the co...</td>\n",
       "      <td>October 3, 2017</td>\n",
       "      <td>mid autumn festival is literally around the co...</td>\n",
       "      <td>702</td>\n",
       "    </tr>\n",
       "    <tr>\n",
       "      <th>1</th>\n",
       "      <td>ABC Cooking Studio</td>\n",
       "      <td>as much as i love eating out i also love makin...</td>\n",
       "      <td>September 27, 2017</td>\n",
       "      <td>a much a i love eating out i also love making ...</td>\n",
       "      <td>1421</td>\n",
       "    </tr>\n",
       "    <tr>\n",
       "      <th>2</th>\n",
       "      <td>Shuu by Koki – Dessert</td>\n",
       "      <td>i found the best choux pastry in singapore guy...</td>\n",
       "      <td>September 26, 2017</td>\n",
       "      <td>i found the best chou pastry in singapore guy ...</td>\n",
       "      <td>445</td>\n",
       "    </tr>\n",
       "    <tr>\n",
       "      <th>3</th>\n",
       "      <td>Brawn &amp; Brains – Brunch</td>\n",
       "      <td>im not the sort to cafe hop or have brunch on ...</td>\n",
       "      <td>September 24, 2017</td>\n",
       "      <td>im not the sort to cafe hop or have brunch on ...</td>\n",
       "      <td>696</td>\n",
       "    </tr>\n",
       "    <tr>\n",
       "      <th>4</th>\n",
       "      <td>Violet Oon Satay Grill &amp; Bar – Dinner</td>\n",
       "      <td>ive been to violet oons kitchen bukit timah an...</td>\n",
       "      <td>September 23, 2017</td>\n",
       "      <td>ive been to violet oons kitchen bukit timah an...</td>\n",
       "      <td>787</td>\n",
       "    </tr>\n",
       "  </tbody>\n",
       "</table>\n",
       "</div>"
      ],
      "text/plain": [
       "                                               Title  \\\n",
       "0  Raffles Singapore Mooncakes 2017 (bonus moonca...   \n",
       "1                                 ABC Cooking Studio   \n",
       "2                             Shuu by Koki – Dessert   \n",
       "3                            Brawn & Brains – Brunch   \n",
       "4              Violet Oon Satay Grill & Bar – Dinner   \n",
       "\n",
       "                                             Details                Date  \\\n",
       "0  mid autumn festival is literally around the co...     October 3, 2017   \n",
       "1  as much as i love eating out i also love makin...  September 27, 2017   \n",
       "2  i found the best choux pastry in singapore guy...  September 26, 2017   \n",
       "3  im not the sort to cafe hop or have brunch on ...  September 24, 2017   \n",
       "4  ive been to violet oons kitchen bukit timah an...  September 23, 2017   \n",
       "\n",
       "                                   Details_processed  Word_count  \n",
       "0  mid autumn festival is literally around the co...         702  \n",
       "1  a much a i love eating out i also love making ...        1421  \n",
       "2  i found the best chou pastry in singapore guy ...         445  \n",
       "3  im not the sort to cafe hop or have brunch on ...         696  \n",
       "4  ive been to violet oons kitchen bukit timah an...         787  "
      ]
     },
     "execution_count": 10,
     "metadata": {},
     "output_type": "execute_result"
    }
   ],
   "source": [
    "df.head()"
   ]
  },
  {
   "cell_type": "code",
   "execution_count": 11,
   "metadata": {
    "collapsed": true
   },
   "outputs": [],
   "source": [
    "f = 'hungrybird.csv'\n",
    "df.to_csv(f, encoding='utf-8')"
   ]
  },
  {
   "cell_type": "code",
   "execution_count": null,
   "metadata": {
    "collapsed": true
   },
   "outputs": [],
   "source": []
  }
 ],
 "metadata": {
  "kernelspec": {
   "display_name": "Python 2",
   "language": "python",
   "name": "python2"
  },
  "language_info": {
   "codemirror_mode": {
    "name": "ipython",
    "version": 2
   },
   "file_extension": ".py",
   "mimetype": "text/x-python",
   "name": "python",
   "nbconvert_exporter": "python",
   "pygments_lexer": "ipython2",
   "version": "2.7.13"
  }
 },
 "nbformat": 4,
 "nbformat_minor": 2
}

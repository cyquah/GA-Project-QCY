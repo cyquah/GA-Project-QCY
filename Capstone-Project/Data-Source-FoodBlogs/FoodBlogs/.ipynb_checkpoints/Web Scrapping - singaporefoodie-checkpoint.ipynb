{
 "cells": [
  {
   "cell_type": "code",
   "execution_count": 1,
   "metadata": {
    "collapsed": true
   },
   "outputs": [],
   "source": [
    "import pandas as pd\n",
    "import re\n",
    "import time\n",
    "from nltk.stem import WordNetLemmatizer\n",
    "from sklearn.feature_extraction.stop_words import ENGLISH_STOP_WORDS\n",
    "from nltk.corpus import stopwords\n",
    "from selenium import webdriver\n",
    "from textacy.preprocess import preprocess_text\n",
    "import nltk\n",
    "\n",
    "from bs4 import BeautifulSoup as bs"
   ]
  },
  {
   "cell_type": "code",
   "execution_count": 2,
   "metadata": {
    "scrolled": false
   },
   "outputs": [
    {
     "name": "stdout",
     "output_type": "stream",
     "text": [
      "scrapping page :  1\n",
      "href :  https://www.singaporefoodie.com/goodbye-singapore-foodie/\n",
      "cleaned detail snippet :  sorry for radio silence over the past month or so you may remember that sin\n",
      "href :  https://www.singaporefoodie.com/10-places-long-lunch-weekend/\n",
      "cleaned detail snippet :  nothing spells leisurely weekend like a long lunch i dont know about you bu\n",
      "href :  https://www.singaporefoodie.com/checking-food-outlets-orchard-road/\n",
      "cleaned detail snippet :  orchard road can be a bit of a minefield when it comes to food and drink op\n",
      "href :  https://www.singaporefoodie.com/foc-sentosa/\n",
      "cleaned detail snippet :  foc sentosa has given me a great excuse to write about sentosa after a long\n",
      "href :  https://www.singaporefoodie.com/new-quayside-vibe/\n",
      "cleaned detail snippet :  if you havent been to quayside at robertson quay for a while youre in for a\n",
      "href :  https://www.singaporefoodie.com/kith-cafe-choose-from-8-locations/\n",
      "cleaned detail snippet :  kith cafe is one of the first cafes i visited in singapore number years ago\n",
      "href :  https://www.singaporefoodie.com/12-ideas-lunch-national-day/\n",
      "cleaned detail snippet :  lunch on national day might just be the perfect solution to a hump day nati\n",
      "href :  https://www.singaporefoodie.com/cheek-jowl-lunch-treat/\n",
      "cleaned detail snippet :  you may recall that i featured cheek by jowl in a post i wrote last year ca\n",
      "href :  https://www.singaporefoodie.com/salted-hung-brunch/\n",
      "cleaned detail snippet :  salted and hung has been a firm favourite of mine for just over a year now \n",
      "href :  https://www.singaporefoodie.com/bakalaki-greek-feast/\n",
      "cleaned detail snippet :  bakalaki is actually a hybrid word from bakaliko which coincidentally is th\n",
      "href :  https://www.singaporefoodie.com/cant-trust-singapore-food-blogs/\n",
      "cleaned detail snippet :  ok its time to get a bit contentious one of the reasons i created singapore\n",
      "href :  https://www.singaporefoodie.com/an-ang-mohs-guide-to-hawker-centres-in-singapore/\n",
      "cleaned detail snippet :  an angmoh or gweilo is a slightly derogatory term used by singapoeans and o\n",
      "href :  https://www.singaporefoodie.com/wet-markets-fresh-food-singapore/\n",
      "cleaned detail snippet :  for the cheapest fresh food in singapore you cant go past wet markets the t\n",
      "href :  https://www.singaporefoodie.com/ultimate-guide-italian-restaurants-singapore/\n",
      "cleaned detail snippet :  updated november 22nd number what started off as a top number italian resta\n",
      "href :  https://www.singaporefoodie.com/better-good-italian-near-arab-street-singapore/\n",
      "cleaned detail snippet :  how often have you visited the area around arab street in singapore otherwi\n",
      "href :  https://www.singaporefoodie.com/knolls-best-outdoor-brunch/\n",
      "cleaned detail snippet :  ah that old chestnut of the the best brunch in singapore so many choices so\n",
      "href :  https://www.singaporefoodie.com/best-things-to-do-with-visitors-in-singapore/\n",
      "cleaned detail snippet :  the newest and shiniest singapore sites often grab the headlines for touris\n",
      "href :  https://www.singaporefoodie.com/simple-and-good-middle-eastern-food/\n",
      "cleaned detail snippet :  note that much of this post was written after my first visit to the old fil\n",
      "href :  https://www.singaporefoodie.com/the-ultimate-guide-to-brunch-in-singapore/\n",
      "cleaned detail snippet :  brunch in singapore has a reputation if youre at all familiar with our city\n",
      "href :  https://www.singaporefoodie.com/tippling-club-fine-dining/\n",
      "cleaned detail snippet :  ah fine dining an often maligned and frequently overused term fine dining i\n",
      "scrapping page :  2\n",
      "href :  https://www.singaporefoodie.com/an-italian-bottega/\n",
      "cleaned detail snippet :  bottega means shop in italian in italy and spain for that matter its a term\n",
      "href :  https://www.singaporefoodie.com/summerlong/\n",
      "cleaned detail snippet :  i was so excited to hear about the opening of summerlong at robertson quay \n",
      "href :  https://www.singaporefoodie.com/spago-review-x-two/\n",
      "cleaned detail snippet :  ive been meaning to write about spago for ages ever since nearly a year ago\n",
      "href :  https://www.singaporefoodie.com/ladies-night-obatignolles/\n",
      "cleaned detail snippet :  im not normally a big one for ladies night wednesday night is a bit early i\n",
      "href :  https://www.singaporefoodie.com/dempsey-cookhouse-bar/\n",
      "cleaned detail snippet :  the dempsey cookhouse and bar opened recently up at you guessed it dempsey \n",
      "href :  https://www.singaporefoodie.com/hawkers-one-star-quality/\n",
      "cleaned detail snippet :  i wonder how singapores fanciest restaurants felt when they were gazumped b\n",
      "href :  https://www.singaporefoodie.com/firebake-bread-spread/\n",
      "cleaned detail snippet :  i read about firebake back in april and a trip to the east coast on the wee\n",
      "href :  https://www.singaporefoodie.com/scream-scream-scream-ice-cream/\n",
      "cleaned detail snippet :  i know weird for me a nondessert person to write a whole post about icecrea\n",
      "href :  https://www.singaporefoodie.com/singapore-foodie-pink-dot/\n",
      "cleaned detail snippet :  you may have heard of singapores annual lgbt pride event pink dot you may n\n",
      "href :  https://www.singaporefoodie.com/real-food-becomes-really-cool/\n",
      "cleaned detail snippet :  every cloud has a silver lining and this week its in the form of real food \n",
      "href :  https://www.singaporefoodie.com/cant-trust-singapore-food-blogs/\n",
      "cleaned detail snippet :  ok its time to get a bit contentious one of the reasons i created singapore\n",
      "href :  https://www.singaporefoodie.com/an-ang-mohs-guide-to-hawker-centres-in-singapore/\n",
      "cleaned detail snippet :  an angmoh or gweilo is a slightly derogatory term used by singapoeans and o\n",
      "href :  https://www.singaporefoodie.com/wet-markets-fresh-food-singapore/\n",
      "cleaned detail snippet :  for the cheapest fresh food in singapore you cant go past wet markets the t\n",
      "href :  https://www.singaporefoodie.com/ultimate-guide-italian-restaurants-singapore/\n",
      "cleaned detail snippet :  updated november 22nd number what started off as a top number italian resta\n",
      "href :  https://www.singaporefoodie.com/better-good-italian-near-arab-street-singapore/\n",
      "cleaned detail snippet :  how often have you visited the area around arab street in singapore otherwi\n",
      "href :  https://www.singaporefoodie.com/knolls-best-outdoor-brunch/\n",
      "cleaned detail snippet :  ah that old chestnut of the the best brunch in singapore so many choices so\n",
      "href :  https://www.singaporefoodie.com/best-things-to-do-with-visitors-in-singapore/\n",
      "cleaned detail snippet :  the newest and shiniest singapore sites often grab the headlines for touris\n",
      "href :  https://www.singaporefoodie.com/simple-and-good-middle-eastern-food/\n",
      "cleaned detail snippet :  note that much of this post was written after my first visit to the old fil\n",
      "href :  https://www.singaporefoodie.com/the-ultimate-guide-to-brunch-in-singapore/\n",
      "cleaned detail snippet :  brunch in singapore has a reputation if youre at all familiar with our city\n",
      "href :  https://www.singaporefoodie.com/tippling-club-fine-dining/\n",
      "cleaned detail snippet :  ah fine dining an often maligned and frequently overused term fine dining i\n",
      "scrapping page :  3\n",
      "href :  https://www.singaporefoodie.com/fill-pita-gets-new-menu/\n",
      "cleaned detail snippet :  fillapita has long been my goto for middle eastern food i first started goi\n",
      "href :  https://www.singaporefoodie.com/rose-kind-day/\n",
      "cleaned detail snippet :  the tropics are pretty much the perfect environment for enjoying rose on an\n",
      "href :  https://www.singaporefoodie.com/lunch-botanic-gardens/\n",
      "cleaned detail snippet :  the botanic gardens are one of many places in singapore where you can enjoy\n",
      "href :  https://www.singaporefoodie.com/green-spirit-open-farm-community/\n",
      "cleaned detail snippet :  every time i visit open farm community ofc im slightly more impressed than \n",
      "href :  https://www.singaporefoodie.com/get-drunk-singapore/\n",
      "cleaned detail snippet :  i know i should preach responsible drinking pretend i never get drunk and g\n",
      "href :  https://www.singaporefoodie.com/pasta-pasta-pasta/\n",
      "cleaned detail snippet :  pasta that five letter word instantly evoking memories of all things italia\n",
      "href :  https://www.singaporefoodie.com/red-meat-feast/\n",
      "cleaned detail snippet :  if i go too long without a fix of red meat i tend to fade a little generall\n",
      "href :  https://www.singaporefoodie.com/not-your-standard-supermarket-steak/\n"
     ]
    },
    {
     "name": "stdout",
     "output_type": "stream",
     "text": [
      "cleaned detail snippet :  regular readers will know that i only write about a restaurant multiple tim\n",
      "href :  https://www.singaporefoodie.com/tips-three-days-perth/\n",
      "cleaned detail snippet :  ive been asked a lot recently about what id do with three days in perth sin\n",
      "href :  https://www.singaporefoodie.com/5-brand-new-brunches/\n",
      "cleaned detail snippet :  its always good to know about new brunches most of you have probably heard \n",
      "href :  https://www.singaporefoodie.com/cant-trust-singapore-food-blogs/\n",
      "cleaned detail snippet :  ok its time to get a bit contentious one of the reasons i created singapore\n",
      "href :  https://www.singaporefoodie.com/an-ang-mohs-guide-to-hawker-centres-in-singapore/\n",
      "cleaned detail snippet :  an angmoh or gweilo is a slightly derogatory term used by singapoeans and o\n",
      "href :  https://www.singaporefoodie.com/wet-markets-fresh-food-singapore/\n",
      "cleaned detail snippet :  for the cheapest fresh food in singapore you cant go past wet markets the t\n",
      "href :  https://www.singaporefoodie.com/ultimate-guide-italian-restaurants-singapore/\n",
      "cleaned detail snippet :  updated november 22nd number what started off as a top number italian resta\n",
      "href :  https://www.singaporefoodie.com/better-good-italian-near-arab-street-singapore/\n",
      "cleaned detail snippet :  how often have you visited the area around arab street in singapore otherwi\n",
      "href :  https://www.singaporefoodie.com/knolls-best-outdoor-brunch/\n",
      "cleaned detail snippet :  ah that old chestnut of the the best brunch in singapore so many choices so\n",
      "href :  https://www.singaporefoodie.com/best-things-to-do-with-visitors-in-singapore/\n",
      "cleaned detail snippet :  the newest and shiniest singapore sites often grab the headlines for touris\n",
      "href :  https://www.singaporefoodie.com/simple-and-good-middle-eastern-food/\n",
      "cleaned detail snippet :  note that much of this post was written after my first visit to the old fil\n",
      "href :  https://www.singaporefoodie.com/the-ultimate-guide-to-brunch-in-singapore/\n",
      "cleaned detail snippet :  brunch in singapore has a reputation if youre at all familiar with our city\n",
      "href :  https://www.singaporefoodie.com/tippling-club-fine-dining/\n",
      "cleaned detail snippet :  ah fine dining an often maligned and frequently overused term fine dining i\n",
      "scrapping page :  4\n",
      "href :  https://www.singaporefoodie.com/fat-prince-middle-eastern/\n",
      "cleaned detail snippet :  i love the exoticism of middle eastern interiors at fat prince its the litt\n",
      "href :  https://www.singaporefoodie.com/a-ramen-mission/\n",
      "cleaned detail snippet :  where was the first place you ever tried ramen it was singapore for me rame\n",
      "href :  https://www.singaporefoodie.com/keep-cup-mission/\n",
      "cleaned detail snippet :  since the start of the month ive been on a keep cup mission ive decided not\n",
      "href :  https://www.singaporefoodie.com/singapores-10-best-asias-50-best-restaurants-2017/\n",
      "cleaned detail snippet :  last month amid a lot of hooha asias number best restaurants number were an\n",
      "href :  https://www.singaporefoodie.com/hotpot-way-go-group/\n",
      "cleaned detail snippet :  hotpot is one of those meals that ive loved since i was a kid my mum had a \n",
      "href :  https://www.singaporefoodie.com/curious-palette-runny-egg-brunch/\n",
      "cleaned detail snippet :  whilst eggs are my thing any time of day a runny egg for breakfast or brunc\n",
      "href :  https://www.singaporefoodie.com/singapore-savvy-traveller/\n",
      "cleaned detail snippet :  whilst singapore is my home i dont normally write about travel in our wonde\n",
      "href :  https://www.singaporefoodie.com/unique-cookbook-review/\n",
      "cleaned detail snippet :  most readers will know i wouldnt normally do a cookbook review when it come\n",
      "href :  https://www.singaporefoodie.com/romantic-dinner-meta/\n",
      "cleaned detail snippet :  i know im a bit late to the idea of a romantic dinner i figured it was poin\n",
      "href :  https://www.singaporefoodie.com/cheap-wine-bars/\n",
      "cleaned detail snippet :  cheap wine bars are few and far between in singapore those of us whove been\n",
      "href :  https://www.singaporefoodie.com/cant-trust-singapore-food-blogs/\n",
      "cleaned detail snippet :  ok its time to get a bit contentious one of the reasons i created singapore\n",
      "href :  https://www.singaporefoodie.com/an-ang-mohs-guide-to-hawker-centres-in-singapore/\n",
      "cleaned detail snippet :  an angmoh or gweilo is a slightly derogatory term used by singapoeans and o\n",
      "href :  https://www.singaporefoodie.com/wet-markets-fresh-food-singapore/\n",
      "cleaned detail snippet :  for the cheapest fresh food in singapore you cant go past wet markets the t\n",
      "href :  https://www.singaporefoodie.com/ultimate-guide-italian-restaurants-singapore/\n",
      "cleaned detail snippet :  updated november 22nd number what started off as a top number italian resta\n",
      "href :  https://www.singaporefoodie.com/better-good-italian-near-arab-street-singapore/\n",
      "cleaned detail snippet :  how often have you visited the area around arab street in singapore otherwi\n",
      "href :  https://www.singaporefoodie.com/knolls-best-outdoor-brunch/\n",
      "cleaned detail snippet :  ah that old chestnut of the the best brunch in singapore so many choices so\n",
      "href :  https://www.singaporefoodie.com/best-things-to-do-with-visitors-in-singapore/\n",
      "cleaned detail snippet :  the newest and shiniest singapore sites often grab the headlines for touris\n",
      "href :  https://www.singaporefoodie.com/simple-and-good-middle-eastern-food/\n",
      "cleaned detail snippet :  note that much of this post was written after my first visit to the old fil\n",
      "href :  https://www.singaporefoodie.com/the-ultimate-guide-to-brunch-in-singapore/\n",
      "cleaned detail snippet :  brunch in singapore has a reputation if youre at all familiar with our city\n",
      "href :  https://www.singaporefoodie.com/tippling-club-fine-dining/\n",
      "cleaned detail snippet :  ah fine dining an often maligned and frequently overused term fine dining i\n",
      "Time taken : 5.81657221715  minutes\n",
      "80\n",
      "80\n"
     ]
    }
   ],
   "source": [
    "start = time.time()\n",
    "\n",
    "wd = webdriver.Chrome()\n",
    "\n",
    "b_summary = []\n",
    "b_detail = []\n",
    "b_date = []\n",
    "b_summary_clean = []\n",
    "b_detail_clean = []\n",
    "\n",
    "for i in range(1,5):\n",
    "    print 'scrapping page : ', i\n",
    "    url = 'https://www.singaporefoodie.com/blogs/page/' + str(i) + '/'    \n",
    "\n",
    "    try:\n",
    "        wd.get(url)\n",
    "    except:\n",
    "        continue\n",
    "    response = wd.page_source\n",
    "    soup = bs(response, 'html.parser')\n",
    "    \n",
    "    try:\n",
    "        blogs = soup.find_all('h2', {'class' : 'entry-title'})\n",
    "    except:\n",
    "        continue\n",
    "        \n",
    "    for summary in blogs:\n",
    "        try:\n",
    "            href = summary.find('a').get('href')\n",
    "            print 'href : ', href\n",
    "        except:\n",
    "            continue            \n",
    "        \n",
    "        try:\n",
    "            wd.get(href)\n",
    "        except:\n",
    "            continue\n",
    "        \n",
    "        r = wd.page_source\n",
    "        s = bs(r, 'html.parser')\n",
    "\n",
    "        # find date\n",
    "        try:\n",
    "            date = s.find('span', {'class' : 'date'}).text\n",
    "        except:\n",
    "            continue\n",
    "            \n",
    "        # find detail\n",
    "        try:\n",
    "            y = s.find('div', {'class' : \"entry-content\"}).find_all('p')\n",
    "        except:\n",
    "            continue\n",
    "        doc = []\n",
    "        for p in y:\n",
    "            if p.text:\n",
    "                doc.append(p.text)\n",
    "        d = ' '.join(doc)\n",
    "\n",
    "        b_summary.append(summary.text)\n",
    "        b_detail.append(d)\n",
    "        b_date.append(date)\n",
    "        \n",
    "        # clean summary and detail \n",
    "        clean_summary = preprocess_text(summary.text, fix_unicode=True, lowercase=True, transliterate=True, \n",
    "                                                no_numbers=True, no_urls=True, no_emails=True, no_phone_numbers=True, \n",
    "                                                no_currency_symbols=True, no_punct=True, no_accents=True)\n",
    "        \n",
    "        clean_detail = preprocess_text(d, fix_unicode=True, lowercase=True, transliterate=True, \n",
    "                                                no_numbers=True, no_urls=True, no_emails=True, no_phone_numbers=True, \n",
    "                                                no_currency_symbols=True, no_punct=True, no_accents=True)\n",
    "        \n",
    "        b_summary_clean.append(clean_summary)\n",
    "        b_detail_clean.append(clean_detail)\n",
    "        \n",
    "        print 'cleaned detail snippet : ', clean_detail[:75]\n",
    "        \n",
    "end = time.time()\n",
    "exe_time = (end - start)/60\n",
    "print 'Time taken :',(exe_time),' minutes'\n",
    "\n",
    "print len(b_summary_clean)\n",
    "print len(b_detail_clean)"
   ]
  },
  {
   "cell_type": "code",
   "execution_count": 3,
   "metadata": {
    "collapsed": true
   },
   "outputs": [],
   "source": [
    "# remove stop words from cleaned summary and cleaned detail and lemmatize them\n",
    "\n",
    "stoplist = set(stopwords.words('english') + \\\n",
    "               ['number',\"singapore\", \"food\", \"im\", \"street\", \n",
    "                'porn','watch', 'video', 'centre', '...',\n",
    "                'eat', 'day', 'time', 'cdataadsbygoogle', 'windowadsbygoogle',\n",
    "                'wa', 'ha', 'come', 'place', 'dish', 'bring', 'think', 'quite','located',\n",
    "                'month', 'went', 'probably', 'am', 'pm', 'say', 'said','including','year','item',\n",
    "                'youre', 'sure', 'dont', 'came','really', 'got', 'thing', 'address', 'photo',\n",
    "                'credit', 'opening', 'hour'] \\\n",
    "                 + list(ENGLISH_STOP_WORDS))"
   ]
  },
  {
   "cell_type": "code",
   "execution_count": 4,
   "metadata": {},
   "outputs": [
    {
     "name": "stdout",
     "output_type": "stream",
     "text": [
      "Time taken : 0.917274951935  seconds\n",
      "80\n",
      "80\n"
     ]
    }
   ],
   "source": [
    "start = time.time()\n",
    "\n",
    "summary_tokens = []\n",
    "for item in b_summary_clean:  \n",
    "    try:\n",
    "        Tokens = nltk.word_tokenize(item)\n",
    "        t = [tok for tok in Tokens if tok not in stoplist]\n",
    "    except:\n",
    "        continue\n",
    "    summary_tokens.append(t)\n",
    "    \n",
    "detail_tokens = []\n",
    "for item in b_detail_clean:  \n",
    "    try:\n",
    "        Tokens = nltk.word_tokenize(item)\n",
    "        t = [tok for tok in Tokens if tok not in stoplist]\n",
    "    except:\n",
    "        continue\n",
    "    detail_tokens.append(t)   \n",
    "\n",
    "    \n",
    "end = time.time()\n",
    "exe_time = end - start\n",
    "print 'Time taken :',(exe_time),' seconds'\n",
    "    \n",
    "print len(summary_tokens)\n",
    "print len(detail_tokens)"
   ]
  },
  {
   "cell_type": "code",
   "execution_count": 5,
   "metadata": {},
   "outputs": [
    {
     "name": "stdout",
     "output_type": "stream",
     "text": [
      "Time taken : 4.30070900917  seconds\n",
      "80\n",
      "80\n"
     ]
    }
   ],
   "source": [
    "start = time.time()\n",
    "\n",
    "summary_lem =[]\n",
    "wnl = WordNetLemmatizer()\n",
    "for item in summary_tokens:\n",
    "    t = \" \".join([wnl.lemmatize(i) for i in item])\n",
    "    summary_lem.append(t) \n",
    "    \n",
    "detail_lem =[]\n",
    "wnl = WordNetLemmatizer()\n",
    "for item in detail_tokens:\n",
    "    t = \" \".join([wnl.lemmatize(i) for i in item])\n",
    "    detail_lem.append(t)     \n",
    "   \n",
    "end = time.time()\n",
    "exe_time = end - start\n",
    "print 'Time taken :',(exe_time),' seconds'\n",
    "\n",
    "print len(summary_lem)\n",
    "print len(detail_lem)"
   ]
  },
  {
   "cell_type": "code",
   "execution_count": 6,
   "metadata": {
    "collapsed": true
   },
   "outputs": [],
   "source": [
    "# create final list to fit in dataframe\n",
    "flist = []\n",
    "for i in range(len(b_summary)):\n",
    "    f = [b_summary[i], b_detail[i], b_date[i], summary_lem[i], detail_lem[i]]\n",
    "    flist.append(f)"
   ]
  },
  {
   "cell_type": "code",
   "execution_count": 7,
   "metadata": {},
   "outputs": [
    {
     "data": {
      "text/html": [
       "<div>\n",
       "<style>\n",
       "    .dataframe thead tr:only-child th {\n",
       "        text-align: right;\n",
       "    }\n",
       "\n",
       "    .dataframe thead th {\n",
       "        text-align: left;\n",
       "    }\n",
       "\n",
       "    .dataframe tbody tr th {\n",
       "        vertical-align: top;\n",
       "    }\n",
       "</style>\n",
       "<table border=\"1\" class=\"dataframe\">\n",
       "  <thead>\n",
       "    <tr style=\"text-align: right;\">\n",
       "      <th></th>\n",
       "      <th>Title</th>\n",
       "      <th>Details</th>\n",
       "      <th>Date</th>\n",
       "      <th>Processed Summary</th>\n",
       "      <th>Processed Detail</th>\n",
       "    </tr>\n",
       "  </thead>\n",
       "  <tbody>\n",
       "    <tr>\n",
       "      <th>75</th>\n",
       "      <td>The Knolls for Best Outdoor Brunch</td>\n",
       "      <td>ah that old chestnut of the “the best brunch ...</td>\n",
       "      <td>November 12, 2014</td>\n",
       "      <td>knoll best outdoor brunch</td>\n",
       "      <td>ah old chestnut best brunch choice favourite b...</td>\n",
       "    </tr>\n",
       "    <tr>\n",
       "      <th>76</th>\n",
       "      <td>14 of the Best Things to do with Visitors in S...</td>\n",
       "      <td>the newest and shiniest singapore sites often ...</td>\n",
       "      <td>October 11, 2013</td>\n",
       "      <td>best thing visitor</td>\n",
       "      <td>newest shiniest site grab headline tourist goo...</td>\n",
       "    </tr>\n",
       "    <tr>\n",
       "      <th>77</th>\n",
       "      <td>Simple and Good Middle Eastern Food</td>\n",
       "      <td>note that much of this post was written after ...</td>\n",
       "      <td>November 3, 2015</td>\n",
       "      <td>simple good middle eastern</td>\n",
       "      <td>note post written visit old fillapita march re...</td>\n",
       "    </tr>\n",
       "    <tr>\n",
       "      <th>78</th>\n",
       "      <td>The Ultimate Guide to Brunch in Singapore</td>\n",
       "      <td>brunch in singapore has a reputation. if you’r...</td>\n",
       "      <td>August 30, 2013</td>\n",
       "      <td>ultimate guide brunch</td>\n",
       "      <td>brunch reputation familiar citystate know famo...</td>\n",
       "    </tr>\n",
       "    <tr>\n",
       "      <th>79</th>\n",
       "      <td>Tippling Club for Fine Dining</td>\n",
       "      <td>ah ‘fine dining’, an often maligned and freque...</td>\n",
       "      <td>February 14, 2014</td>\n",
       "      <td>tippling club fine dining</td>\n",
       "      <td>ah fine dining maligned frequently overused te...</td>\n",
       "    </tr>\n",
       "  </tbody>\n",
       "</table>\n",
       "</div>"
      ],
      "text/plain": [
       "                                                Title  \\\n",
       "75                 The Knolls for Best Outdoor Brunch   \n",
       "76  14 of the Best Things to do with Visitors in S...   \n",
       "77                Simple and Good Middle Eastern Food   \n",
       "78          The Ultimate Guide to Brunch in Singapore   \n",
       "79                      Tippling Club for Fine Dining   \n",
       "\n",
       "                                              Details               Date  \\\n",
       "75   ah that old chestnut of the “the best brunch ...  November 12, 2014   \n",
       "76  the newest and shiniest singapore sites often ...   October 11, 2013   \n",
       "77  note that much of this post was written after ...   November 3, 2015   \n",
       "78  brunch in singapore has a reputation. if you’r...    August 30, 2013   \n",
       "79  ah ‘fine dining’, an often maligned and freque...  February 14, 2014   \n",
       "\n",
       "             Processed Summary  \\\n",
       "75   knoll best outdoor brunch   \n",
       "76          best thing visitor   \n",
       "77  simple good middle eastern   \n",
       "78       ultimate guide brunch   \n",
       "79   tippling club fine dining   \n",
       "\n",
       "                                     Processed Detail  \n",
       "75  ah old chestnut best brunch choice favourite b...  \n",
       "76  newest shiniest site grab headline tourist goo...  \n",
       "77  note post written visit old fillapita march re...  \n",
       "78  brunch reputation familiar citystate know famo...  \n",
       "79  ah fine dining maligned frequently overused te...  "
      ]
     },
     "execution_count": 7,
     "metadata": {},
     "output_type": "execute_result"
    }
   ],
   "source": [
    "df = pd.DataFrame(flist, columns = ['Title', 'Details', 'Date', 'Processed Summary', 'Processed Detail'])  \n",
    "df.tail()"
   ]
  },
  {
   "cell_type": "code",
   "execution_count": 8,
   "metadata": {},
   "outputs": [
    {
     "data": {
      "text/plain": [
       "80"
      ]
     },
     "execution_count": 8,
     "metadata": {},
     "output_type": "execute_result"
    }
   ],
   "source": [
    "len(df)"
   ]
  },
  {
   "cell_type": "code",
   "execution_count": 9,
   "metadata": {
    "collapsed": true
   },
   "outputs": [],
   "source": [
    "df.drop_duplicates(inplace=True)"
   ]
  },
  {
   "cell_type": "code",
   "execution_count": 10,
   "metadata": {},
   "outputs": [
    {
     "data": {
      "text/plain": [
       "50"
      ]
     },
     "execution_count": 10,
     "metadata": {},
     "output_type": "execute_result"
    }
   ],
   "source": [
    "len(df)"
   ]
  },
  {
   "cell_type": "code",
   "execution_count": 11,
   "metadata": {},
   "outputs": [
    {
     "name": "stdout",
     "output_type": "stream",
     "text": [
      "foc sentosa has given me a great excuse to write about sentosa after a long while. i go through love-hate phases with sentosa. i mostly quite like it, there’s a holiday vibe, there’s the beach, and lots of options for things to do. not that i’d live there or anything  the main issue though is the transport. getting over there is usually not too bad, but getting stranded once you’re there is a nightmare. if you end up on the piece of road that only has the public bus, you can spend ages getting from a to b. foc sentosa poses no such problems. the location, at palawan beach, means you can get a taxi straight to the door. which also means that if it’s tipping down with rain you can arrive relatively unscathed. which was handy on our visit i can tell you. seating at foc sentosa is split into two main sections. the main area has tables, mostly inside, with some out on a covered deck (that does get wet if it really rains). next to that there is a bar area that looks out over the pool, and serves a reduced menu. we were in the restaurant on our visit. i can imagine evening would be nice having a few tapas and drinks in the bar area though.  as most of you know, it is very rare that i’d start a blog post about good service. in this case though i have to call out the great service we received on our visit. staff were extremely knowledgable, from the guy explaining the different fishes of the day to the thorough explanation i received about the eggplant sobrassada that left me gob-smacked. thumbs up and thank you foc! again, hard to fault. we enjoyed each of our tapas, and our finale of paella, was stellar. i can’t recall the last time i had a good paella. the meat or seafood is so often over-cooked or under-cooked so even if the rice is good, the dish is ruined. our friends who are sentosa residents (!) and have visited foc sentosa before, picked the iberian pork paella. the rich rice was complemented beautifully by small knuckles of pork (i’m not sure if they weren’t knuckles but they were finger sized bones) where the meat simply fell from the bone. crispy chorizo pieces in between added a tasty bite. and the piece-de-resistance was undoubtedly the crispy edges, we devoured the whole dish even though we were all pretty full by this stage. other highlights were the octopus (always a winner at foc) and the patatas bravas. i hadn’t had this version before, tasty pieces of crispy potato in chip style were topped with dollops of mayo and tomato. addictive enough to order another round. i also love the padron peppers, the simple loveliness of char-grilling and salt is wonderful. lomo, and croquettes (especially the ham ones) were delicious too. calamari was my least favourite, it was deep fried calamari rings and just paled a bit in comparison to everything else. we had loads of food, a few drinks each and our bill came to $75 per head, inclusive of gst and service. that was partly because of our sentosa resident friends who had a super special discount card for 15% off. so find yourself a sentosa resident and off you go! i was going to base this whole article on a comparison between the two, but i decided that would be just regurgitating what i’ve written about tanjong beach club before. the reason, for me, that foc pips is tanjong is probably an age related thing. at the end of the day, i’d rather be chilling out than hanging out with the beautiful people parading their bodies around a beach club. added to that is the fact that foc’s food really is excellent, it’s a no brainer for me. and you’ve still got the pool if you really want the beach club vibe. win-win really. foc sentosa\n",
      "110 tanjong beach walk, sentosa\n",
      "open tuesday to friday 11.30am to 11.00pm (last kitchen order: 9.30pm, fridays: 10.00pm)\u0003\n",
      "saturday & sunday 11.30am to 11.00pm (last kitchen order: 10.00pm, sundays: 9.30pm)\n",
      "\u0003ph eve 11.30am to 11.00pm (last kitchen order: 10.00pm)\u0003\n",
      "ph 11.30am to 11.00pm (last kitchen order: 9.30pm)\n"
     ]
    }
   ],
   "source": [
    "x = df.iloc[3,1]\n",
    "print x"
   ]
  },
  {
   "cell_type": "code",
   "execution_count": 12,
   "metadata": {
    "collapsed": true
   },
   "outputs": [],
   "source": [
    "# pickle dataframe\n",
    "df.to_pickle('singaporefoodie.pickle')"
   ]
  },
  {
   "cell_type": "code",
   "execution_count": 13,
   "metadata": {
    "collapsed": true
   },
   "outputs": [],
   "source": [
    "wd.quit()"
   ]
  },
  {
   "cell_type": "code",
   "execution_count": null,
   "metadata": {
    "collapsed": true
   },
   "outputs": [],
   "source": []
  }
 ],
 "metadata": {
  "kernelspec": {
   "display_name": "Python 2",
   "language": "python",
   "name": "python2"
  },
  "language_info": {
   "codemirror_mode": {
    "name": "ipython",
    "version": 2
   },
   "file_extension": ".py",
   "mimetype": "text/x-python",
   "name": "python",
   "nbconvert_exporter": "python",
   "pygments_lexer": "ipython2",
   "version": "2.7.13"
  }
 },
 "nbformat": 4,
 "nbformat_minor": 2
}

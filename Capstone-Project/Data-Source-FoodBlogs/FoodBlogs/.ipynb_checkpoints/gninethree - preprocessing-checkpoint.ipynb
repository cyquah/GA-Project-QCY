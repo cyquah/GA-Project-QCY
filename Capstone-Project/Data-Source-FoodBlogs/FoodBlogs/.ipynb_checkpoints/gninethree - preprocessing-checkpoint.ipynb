{
 "cells": [
  {
   "cell_type": "code",
   "execution_count": 1,
   "metadata": {
    "collapsed": true
   },
   "outputs": [],
   "source": [
    "import pandas as pd\n",
    "from textblob import TextBlob, Word\n",
    "from nltk.stem import PorterStemmer, WordNetLemmatizer"
   ]
  },
  {
   "cell_type": "code",
   "execution_count": 2,
   "metadata": {
    "collapsed": true
   },
   "outputs": [],
   "source": [
    "df = pd.read_csv('gninethree.csv', index_col=0)"
   ]
  },
  {
   "cell_type": "code",
   "execution_count": 3,
   "metadata": {},
   "outputs": [
    {
     "data": {
      "text/html": [
       "<div>\n",
       "<style>\n",
       "    .dataframe thead tr:only-child th {\n",
       "        text-align: right;\n",
       "    }\n",
       "\n",
       "    .dataframe thead th {\n",
       "        text-align: left;\n",
       "    }\n",
       "\n",
       "    .dataframe tbody tr th {\n",
       "        vertical-align: top;\n",
       "    }\n",
       "</style>\n",
       "<table border=\"1\" class=\"dataframe\">\n",
       "  <thead>\n",
       "    <tr style=\"text-align: right;\">\n",
       "      <th></th>\n",
       "      <th>Title</th>\n",
       "      <th>Details</th>\n",
       "      <th>Date</th>\n",
       "    </tr>\n",
       "  </thead>\n",
       "  <tbody>\n",
       "    <tr>\n",
       "      <th>0</th>\n",
       "      <td>The Bird Southern Table &amp; Bar @ Marina Bay Sands</td>\n",
       "      <td>another franchise has opened in singapore and ...</td>\n",
       "      <td>September 3, 2017</td>\n",
       "    </tr>\n",
       "    <tr>\n",
       "      <th>1</th>\n",
       "      <td>Weekend Brunch @ DON HO – Social Kitchen &amp; Bar</td>\n",
       "      <td>don ho social kitchen  bar opened earlier this...</td>\n",
       "      <td>August 27, 2017</td>\n",
       "    </tr>\n",
       "    <tr>\n",
       "      <th>2</th>\n",
       "      <td>MAGNUM Opens 1st Magnum Pleasure Store in Sing...</td>\n",
       "      <td>if you are one of those who would eagerly anti...</td>\n",
       "      <td>August 8, 2017</td>\n",
       "    </tr>\n",
       "    <tr>\n",
       "      <th>3</th>\n",
       "      <td>Sunday Brunch @ Corner House, Singapore Botani...</td>\n",
       "      <td>occupying the iconic colonial house in singapo...</td>\n",
       "      <td>August 2, 2017</td>\n",
       "    </tr>\n",
       "    <tr>\n",
       "      <th>4</th>\n",
       "      <td>GODIVA Chocolatier Opens Lifestyle Concept Des...</td>\n",
       "      <td>luxury belgian chocolate brand godiva chocolat...</td>\n",
       "      <td>June 30, 2017</td>\n",
       "    </tr>\n",
       "  </tbody>\n",
       "</table>\n",
       "</div>"
      ],
      "text/plain": [
       "                                               Title  \\\n",
       "0   The Bird Southern Table & Bar @ Marina Bay Sands   \n",
       "1     Weekend Brunch @ DON HO – Social Kitchen & Bar   \n",
       "2  MAGNUM Opens 1st Magnum Pleasure Store in Sing...   \n",
       "3  Sunday Brunch @ Corner House, Singapore Botani...   \n",
       "4  GODIVA Chocolatier Opens Lifestyle Concept Des...   \n",
       "\n",
       "                                             Details               Date  \n",
       "0  another franchise has opened in singapore and ...  September 3, 2017  \n",
       "1  don ho social kitchen  bar opened earlier this...    August 27, 2017  \n",
       "2  if you are one of those who would eagerly anti...     August 8, 2017  \n",
       "3  occupying the iconic colonial house in singapo...     August 2, 2017  \n",
       "4  luxury belgian chocolate brand godiva chocolat...      June 30, 2017  "
      ]
     },
     "execution_count": 3,
     "metadata": {},
     "output_type": "execute_result"
    }
   ],
   "source": [
    "df.head()"
   ]
  },
  {
   "cell_type": "code",
   "execution_count": 4,
   "metadata": {
    "collapsed": true
   },
   "outputs": [],
   "source": [
    "details = df['Details']"
   ]
  },
  {
   "cell_type": "code",
   "execution_count": 5,
   "metadata": {},
   "outputs": [
    {
     "name": "stdout",
     "output_type": "stream",
     "text": [
      "Time taken : 2.38647198677  seconds\n"
     ]
    }
   ],
   "source": [
    "import time\n",
    "\n",
    "start = time.time()\n",
    "\n",
    "lemma_check =[]\n",
    "wnl = WordNetLemmatizer()\n",
    "for item in details:\n",
    "    item = str(item).decode('utf-8')\n",
    "    t = \" \".join([wnl.lemmatize(i) for i in item.split()])\n",
    "    lemma_check.append(t) \n",
    "    \n",
    "end = time.time()\n",
    "exe_time = end - start\n",
    "print 'Time taken :',(exe_time),' seconds'"
   ]
  },
  {
   "cell_type": "code",
   "execution_count": 6,
   "metadata": {
    "collapsed": true
   },
   "outputs": [],
   "source": [
    "word_count = []\n",
    "for lemma in lemma_check:\n",
    "    count = len(lemma.split())\n",
    "    word_count.append(count)"
   ]
  },
  {
   "cell_type": "code",
   "execution_count": 7,
   "metadata": {
    "collapsed": true
   },
   "outputs": [],
   "source": [
    "df['Details_processed'] = lemma_check"
   ]
  },
  {
   "cell_type": "code",
   "execution_count": 8,
   "metadata": {},
   "outputs": [
    {
     "data": {
      "text/plain": [
       "12293"
      ]
     },
     "execution_count": 8,
     "metadata": {},
     "output_type": "execute_result"
    }
   ],
   "source": [
    "df['Word_count'] = word_count\n",
    "sum(df['Word_count'])"
   ]
  },
  {
   "cell_type": "code",
   "execution_count": 9,
   "metadata": {},
   "outputs": [
    {
     "name": "stdout",
     "output_type": "stream",
     "text": [
      "Total number of records : 20\n",
      "Total number of words : 12293\n",
      "Average no. of words per record : 614\n"
     ]
    }
   ],
   "source": [
    "print 'Total number of records :', len(df)\n",
    "print 'Total number of words :', sum(df['Word_count'])\n",
    "print 'Average no. of words per record :', sum(df['Word_count'])/len(df)"
   ]
  },
  {
   "cell_type": "code",
   "execution_count": 10,
   "metadata": {},
   "outputs": [
    {
     "data": {
      "text/html": [
       "<div>\n",
       "<style>\n",
       "    .dataframe thead tr:only-child th {\n",
       "        text-align: right;\n",
       "    }\n",
       "\n",
       "    .dataframe thead th {\n",
       "        text-align: left;\n",
       "    }\n",
       "\n",
       "    .dataframe tbody tr th {\n",
       "        vertical-align: top;\n",
       "    }\n",
       "</style>\n",
       "<table border=\"1\" class=\"dataframe\">\n",
       "  <thead>\n",
       "    <tr style=\"text-align: right;\">\n",
       "      <th></th>\n",
       "      <th>Title</th>\n",
       "      <th>Details</th>\n",
       "      <th>Date</th>\n",
       "      <th>Details_processed</th>\n",
       "      <th>Word_count</th>\n",
       "    </tr>\n",
       "  </thead>\n",
       "  <tbody>\n",
       "    <tr>\n",
       "      <th>0</th>\n",
       "      <td>The Bird Southern Table &amp; Bar @ Marina Bay Sands</td>\n",
       "      <td>another franchise has opened in singapore and ...</td>\n",
       "      <td>September 3, 2017</td>\n",
       "      <td>another franchise ha opened in singapore and t...</td>\n",
       "      <td>705</td>\n",
       "    </tr>\n",
       "    <tr>\n",
       "      <th>1</th>\n",
       "      <td>Weekend Brunch @ DON HO – Social Kitchen &amp; Bar</td>\n",
       "      <td>don ho social kitchen  bar opened earlier this...</td>\n",
       "      <td>August 27, 2017</td>\n",
       "      <td>don ho social kitchen bar opened earlier this ...</td>\n",
       "      <td>461</td>\n",
       "    </tr>\n",
       "    <tr>\n",
       "      <th>2</th>\n",
       "      <td>MAGNUM Opens 1st Magnum Pleasure Store in Sing...</td>\n",
       "      <td>if you are one of those who would eagerly anti...</td>\n",
       "      <td>August 8, 2017</td>\n",
       "      <td>if you are one of those who would eagerly anti...</td>\n",
       "      <td>329</td>\n",
       "    </tr>\n",
       "    <tr>\n",
       "      <th>3</th>\n",
       "      <td>Sunday Brunch @ Corner House, Singapore Botani...</td>\n",
       "      <td>occupying the iconic colonial house in singapo...</td>\n",
       "      <td>August 2, 2017</td>\n",
       "      <td>occupying the iconic colonial house in singapo...</td>\n",
       "      <td>675</td>\n",
       "    </tr>\n",
       "    <tr>\n",
       "      <th>4</th>\n",
       "      <td>GODIVA Chocolatier Opens Lifestyle Concept Des...</td>\n",
       "      <td>luxury belgian chocolate brand godiva chocolat...</td>\n",
       "      <td>June 30, 2017</td>\n",
       "      <td>luxury belgian chocolate brand godiva chocolat...</td>\n",
       "      <td>443</td>\n",
       "    </tr>\n",
       "  </tbody>\n",
       "</table>\n",
       "</div>"
      ],
      "text/plain": [
       "                                               Title  \\\n",
       "0   The Bird Southern Table & Bar @ Marina Bay Sands   \n",
       "1     Weekend Brunch @ DON HO – Social Kitchen & Bar   \n",
       "2  MAGNUM Opens 1st Magnum Pleasure Store in Sing...   \n",
       "3  Sunday Brunch @ Corner House, Singapore Botani...   \n",
       "4  GODIVA Chocolatier Opens Lifestyle Concept Des...   \n",
       "\n",
       "                                             Details               Date  \\\n",
       "0  another franchise has opened in singapore and ...  September 3, 2017   \n",
       "1  don ho social kitchen  bar opened earlier this...    August 27, 2017   \n",
       "2  if you are one of those who would eagerly anti...     August 8, 2017   \n",
       "3  occupying the iconic colonial house in singapo...     August 2, 2017   \n",
       "4  luxury belgian chocolate brand godiva chocolat...      June 30, 2017   \n",
       "\n",
       "                                   Details_processed  Word_count  \n",
       "0  another franchise ha opened in singapore and t...         705  \n",
       "1  don ho social kitchen bar opened earlier this ...         461  \n",
       "2  if you are one of those who would eagerly anti...         329  \n",
       "3  occupying the iconic colonial house in singapo...         675  \n",
       "4  luxury belgian chocolate brand godiva chocolat...         443  "
      ]
     },
     "execution_count": 10,
     "metadata": {},
     "output_type": "execute_result"
    }
   ],
   "source": [
    "df.head()"
   ]
  },
  {
   "cell_type": "code",
   "execution_count": 11,
   "metadata": {
    "collapsed": true
   },
   "outputs": [],
   "source": [
    "f = 'gninethree.csv'\n",
    "df.to_csv(f, encoding='utf-8')"
   ]
  },
  {
   "cell_type": "code",
   "execution_count": null,
   "metadata": {
    "collapsed": true
   },
   "outputs": [],
   "source": []
  }
 ],
 "metadata": {
  "kernelspec": {
   "display_name": "Python 2",
   "language": "python",
   "name": "python2"
  },
  "language_info": {
   "codemirror_mode": {
    "name": "ipython",
    "version": 2
   },
   "file_extension": ".py",
   "mimetype": "text/x-python",
   "name": "python",
   "nbconvert_exporter": "python",
   "pygments_lexer": "ipython2",
   "version": "2.7.13"
  }
 },
 "nbformat": 4,
 "nbformat_minor": 2
}

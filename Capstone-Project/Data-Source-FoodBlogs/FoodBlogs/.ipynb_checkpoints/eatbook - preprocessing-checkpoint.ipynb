{
 "cells": [
  {
   "cell_type": "code",
   "execution_count": 1,
   "metadata": {
    "collapsed": true
   },
   "outputs": [],
   "source": [
    "import pandas as pd\n",
    "from textblob import TextBlob, Word\n",
    "from nltk.stem import PorterStemmer, WordNetLemmatizer"
   ]
  },
  {
   "cell_type": "code",
   "execution_count": 2,
   "metadata": {
    "collapsed": true
   },
   "outputs": [],
   "source": [
    "df = pd.read_csv('eatbook.csv', index_col=0)"
   ]
  },
  {
   "cell_type": "code",
   "execution_count": 3,
   "metadata": {},
   "outputs": [
    {
     "data": {
      "text/html": [
       "<div>\n",
       "<style>\n",
       "    .dataframe thead tr:only-child th {\n",
       "        text-align: right;\n",
       "    }\n",
       "\n",
       "    .dataframe thead th {\n",
       "        text-align: left;\n",
       "    }\n",
       "\n",
       "    .dataframe tbody tr th {\n",
       "        vertical-align: top;\n",
       "    }\n",
       "</style>\n",
       "<table border=\"1\" class=\"dataframe\">\n",
       "  <thead>\n",
       "    <tr style=\"text-align: right;\">\n",
       "      <th></th>\n",
       "      <th>Title</th>\n",
       "      <th>Details</th>\n",
       "      <th>Date</th>\n",
       "    </tr>\n",
       "  </thead>\n",
       "  <tbody>\n",
       "    <tr>\n",
       "      <th>0</th>\n",
       "      <td>\\nHawker Reviews\\nI Am Legend Review: Massive ...</td>\n",
       "      <td>i love getting a good and messy ramly burger e...</td>\n",
       "      <td>11th October 2017</td>\n",
       "    </tr>\n",
       "    <tr>\n",
       "      <th>1</th>\n",
       "      <td>\\nFood By Area\\n8 Halal Dessert Spots Near Bug...</td>\n",
       "      <td>whenever i want to look for new dessert spots ...</td>\n",
       "      <td>11th October 2017</td>\n",
       "    </tr>\n",
       "    <tr>\n",
       "      <th>2</th>\n",
       "      <td>\\nHawker Interviews\\nWei Ji Braised Duck: Brai...</td>\n",
       "      <td>braised duck rice is one of those dishes that ...</td>\n",
       "      <td>10th October 2017</td>\n",
       "    </tr>\n",
       "    <tr>\n",
       "      <th>3</th>\n",
       "      <td>\\nFood By Themes\\n9 Halal Zi Char Places To Ji...</td>\n",
       "      <td>when i was in junior college the place to find...</td>\n",
       "      <td>10th October 2017</td>\n",
       "    </tr>\n",
       "    <tr>\n",
       "      <th>4</th>\n",
       "      <td>\\nCafe Reviews\\nPlaymade Review: New Bubble Te...</td>\n",
       "      <td>bubble tea is considered a muchloved drink for...</td>\n",
       "      <td>9th October 2017</td>\n",
       "    </tr>\n",
       "  </tbody>\n",
       "</table>\n",
       "</div>"
      ],
      "text/plain": [
       "                                               Title  \\\n",
       "0  \\nHawker Reviews\\nI Am Legend Review: Massive ...   \n",
       "1  \\nFood By Area\\n8 Halal Dessert Spots Near Bug...   \n",
       "2  \\nHawker Interviews\\nWei Ji Braised Duck: Brai...   \n",
       "3  \\nFood By Themes\\n9 Halal Zi Char Places To Ji...   \n",
       "4  \\nCafe Reviews\\nPlaymade Review: New Bubble Te...   \n",
       "\n",
       "                                             Details               Date  \n",
       "0  i love getting a good and messy ramly burger e...  11th October 2017  \n",
       "1  whenever i want to look for new dessert spots ...  11th October 2017  \n",
       "2  braised duck rice is one of those dishes that ...  10th October 2017  \n",
       "3  when i was in junior college the place to find...  10th October 2017  \n",
       "4  bubble tea is considered a muchloved drink for...   9th October 2017  "
      ]
     },
     "execution_count": 3,
     "metadata": {},
     "output_type": "execute_result"
    }
   ],
   "source": [
    "df.head()"
   ]
  },
  {
   "cell_type": "code",
   "execution_count": 4,
   "metadata": {
    "collapsed": true
   },
   "outputs": [],
   "source": [
    "details = df['Details']"
   ]
  },
  {
   "cell_type": "code",
   "execution_count": 5,
   "metadata": {},
   "outputs": [
    {
     "name": "stdout",
     "output_type": "stream",
     "text": [
      "Time taken : 4.31289482117  seconds\n"
     ]
    }
   ],
   "source": [
    "import time\n",
    "\n",
    "start = time.time()\n",
    "\n",
    "lemma_check =[]\n",
    "wnl = WordNetLemmatizer()\n",
    "for item in details:\n",
    "    item = str(item).decode('utf-8')\n",
    "    t = \" \".join([wnl.lemmatize(i) for i in item.split()])\n",
    "    lemma_check.append(t) \n",
    "    \n",
    "end = time.time()\n",
    "exe_time = end - start\n",
    "print 'Time taken :',(exe_time),' seconds'"
   ]
  },
  {
   "cell_type": "code",
   "execution_count": 6,
   "metadata": {
    "collapsed": true
   },
   "outputs": [],
   "source": [
    "word_count = []\n",
    "for lemma in lemma_check:\n",
    "    count = len(lemma.split())\n",
    "    word_count.append(count)"
   ]
  },
  {
   "cell_type": "code",
   "execution_count": 7,
   "metadata": {
    "collapsed": true
   },
   "outputs": [],
   "source": [
    "df['Details_processed'] = lemma_check"
   ]
  },
  {
   "cell_type": "code",
   "execution_count": 8,
   "metadata": {},
   "outputs": [
    {
     "data": {
      "text/plain": [
       "337832"
      ]
     },
     "execution_count": 8,
     "metadata": {},
     "output_type": "execute_result"
    }
   ],
   "source": [
    "df['Word_count'] = word_count\n",
    "sum(df['Word_count'])"
   ]
  },
  {
   "cell_type": "code",
   "execution_count": 9,
   "metadata": {},
   "outputs": [
    {
     "name": "stdout",
     "output_type": "stream",
     "text": [
      "Total number of records : 390\n",
      "Total number of words : 337832\n",
      "Average no. of words per record : 866\n"
     ]
    }
   ],
   "source": [
    "print 'Total number of records :', len(df)\n",
    "print 'Total number of words :', sum(df['Word_count'])\n",
    "print 'Average no. of words per record :', sum(df['Word_count'])/len(df)"
   ]
  },
  {
   "cell_type": "code",
   "execution_count": 10,
   "metadata": {},
   "outputs": [
    {
     "data": {
      "text/html": [
       "<div>\n",
       "<style>\n",
       "    .dataframe thead tr:only-child th {\n",
       "        text-align: right;\n",
       "    }\n",
       "\n",
       "    .dataframe thead th {\n",
       "        text-align: left;\n",
       "    }\n",
       "\n",
       "    .dataframe tbody tr th {\n",
       "        vertical-align: top;\n",
       "    }\n",
       "</style>\n",
       "<table border=\"1\" class=\"dataframe\">\n",
       "  <thead>\n",
       "    <tr style=\"text-align: right;\">\n",
       "      <th></th>\n",
       "      <th>Title</th>\n",
       "      <th>Details</th>\n",
       "      <th>Date</th>\n",
       "      <th>Details_processed</th>\n",
       "      <th>Word_count</th>\n",
       "    </tr>\n",
       "  </thead>\n",
       "  <tbody>\n",
       "    <tr>\n",
       "      <th>0</th>\n",
       "      <td>\\nHawker Reviews\\nI Am Legend Review: Massive ...</td>\n",
       "      <td>i love getting a good and messy ramly burger e...</td>\n",
       "      <td>11th October 2017</td>\n",
       "      <td>i love getting a good and messy ramly burger e...</td>\n",
       "      <td>719</td>\n",
       "    </tr>\n",
       "    <tr>\n",
       "      <th>1</th>\n",
       "      <td>\\nFood By Area\\n8 Halal Dessert Spots Near Bug...</td>\n",
       "      <td>whenever i want to look for new dessert spots ...</td>\n",
       "      <td>11th October 2017</td>\n",
       "      <td>whenever i want to look for new dessert spot a...</td>\n",
       "      <td>904</td>\n",
       "    </tr>\n",
       "    <tr>\n",
       "      <th>2</th>\n",
       "      <td>\\nHawker Interviews\\nWei Ji Braised Duck: Brai...</td>\n",
       "      <td>braised duck rice is one of those dishes that ...</td>\n",
       "      <td>10th October 2017</td>\n",
       "      <td>braised duck rice is one of those dish that mo...</td>\n",
       "      <td>1306</td>\n",
       "    </tr>\n",
       "    <tr>\n",
       "      <th>3</th>\n",
       "      <td>\\nFood By Themes\\n9 Halal Zi Char Places To Ji...</td>\n",
       "      <td>when i was in junior college the place to find...</td>\n",
       "      <td>10th October 2017</td>\n",
       "      <td>when i wa in junior college the place to find ...</td>\n",
       "      <td>1140</td>\n",
       "    </tr>\n",
       "    <tr>\n",
       "      <th>4</th>\n",
       "      <td>\\nCafe Reviews\\nPlaymade Review: New Bubble Te...</td>\n",
       "      <td>bubble tea is considered a muchloved drink for...</td>\n",
       "      <td>9th October 2017</td>\n",
       "      <td>bubble tea is considered a muchloved drink for...</td>\n",
       "      <td>776</td>\n",
       "    </tr>\n",
       "  </tbody>\n",
       "</table>\n",
       "</div>"
      ],
      "text/plain": [
       "                                               Title  \\\n",
       "0  \\nHawker Reviews\\nI Am Legend Review: Massive ...   \n",
       "1  \\nFood By Area\\n8 Halal Dessert Spots Near Bug...   \n",
       "2  \\nHawker Interviews\\nWei Ji Braised Duck: Brai...   \n",
       "3  \\nFood By Themes\\n9 Halal Zi Char Places To Ji...   \n",
       "4  \\nCafe Reviews\\nPlaymade Review: New Bubble Te...   \n",
       "\n",
       "                                             Details               Date  \\\n",
       "0  i love getting a good and messy ramly burger e...  11th October 2017   \n",
       "1  whenever i want to look for new dessert spots ...  11th October 2017   \n",
       "2  braised duck rice is one of those dishes that ...  10th October 2017   \n",
       "3  when i was in junior college the place to find...  10th October 2017   \n",
       "4  bubble tea is considered a muchloved drink for...   9th October 2017   \n",
       "\n",
       "                                   Details_processed  Word_count  \n",
       "0  i love getting a good and messy ramly burger e...         719  \n",
       "1  whenever i want to look for new dessert spot a...         904  \n",
       "2  braised duck rice is one of those dish that mo...        1306  \n",
       "3  when i wa in junior college the place to find ...        1140  \n",
       "4  bubble tea is considered a muchloved drink for...         776  "
      ]
     },
     "execution_count": 10,
     "metadata": {},
     "output_type": "execute_result"
    }
   ],
   "source": [
    "df.head()"
   ]
  },
  {
   "cell_type": "code",
   "execution_count": 11,
   "metadata": {
    "collapsed": true
   },
   "outputs": [],
   "source": [
    "f = 'eatbook.csv'\n",
    "df.to_csv(f, encoding='utf-8')"
   ]
  },
  {
   "cell_type": "code",
   "execution_count": null,
   "metadata": {
    "collapsed": true
   },
   "outputs": [],
   "source": []
  }
 ],
 "metadata": {
  "kernelspec": {
   "display_name": "Python 2",
   "language": "python",
   "name": "python2"
  },
  "language_info": {
   "codemirror_mode": {
    "name": "ipython",
    "version": 2
   },
   "file_extension": ".py",
   "mimetype": "text/x-python",
   "name": "python",
   "nbconvert_exporter": "python",
   "pygments_lexer": "ipython2",
   "version": "2.7.13"
  }
 },
 "nbformat": 4,
 "nbformat_minor": 2
}

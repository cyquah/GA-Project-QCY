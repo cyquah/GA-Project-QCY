{
 "cells": [
  {
   "cell_type": "code",
   "execution_count": 1,
   "metadata": {
    "collapsed": true
   },
   "outputs": [],
   "source": [
    "import pandas as pd\n",
    "from textblob import TextBlob, Word\n",
    "from nltk.stem import PorterStemmer, WordNetLemmatizer"
   ]
  },
  {
   "cell_type": "code",
   "execution_count": 2,
   "metadata": {
    "collapsed": true
   },
   "outputs": [],
   "source": [
    "df = pd.read_csv('ordinarypatron.csv', index_col=0)"
   ]
  },
  {
   "cell_type": "code",
   "execution_count": 3,
   "metadata": {},
   "outputs": [
    {
     "data": {
      "text/html": [
       "<div>\n",
       "<style>\n",
       "    .dataframe thead tr:only-child th {\n",
       "        text-align: right;\n",
       "    }\n",
       "\n",
       "    .dataframe thead th {\n",
       "        text-align: left;\n",
       "    }\n",
       "\n",
       "    .dataframe tbody tr th {\n",
       "        vertical-align: top;\n",
       "    }\n",
       "</style>\n",
       "<table border=\"1\" class=\"dataframe\">\n",
       "  <thead>\n",
       "    <tr style=\"text-align: right;\">\n",
       "      <th></th>\n",
       "      <th>Title</th>\n",
       "      <th>Details</th>\n",
       "      <th>Date</th>\n",
       "    </tr>\n",
       "  </thead>\n",
       "  <tbody>\n",
       "    <tr>\n",
       "      <th>0</th>\n",
       "      <td>牛一嘴 Núodle – Lanzhou Beef Noodles at SingPost ...</td>\n",
       "      <td>lanzhou is the capital and largest city of gan...</td>\n",
       "      <td>11 October 2017</td>\n",
       "    </tr>\n",
       "    <tr>\n",
       "      <th>1</th>\n",
       "      <td>Drinks at Lobby Bar 1864 Sofitel Singapore Cit...</td>\n",
       "      <td>the lobby bar  sofitel singapore is named afte...</td>\n",
       "      <td>10 October 2017</td>\n",
       "    </tr>\n",
       "    <tr>\n",
       "      <th>2</th>\n",
       "      <td>Racines Sofitel Singapore – new restaurant in ...</td>\n",
       "      <td>racines sofitel singapore is a new restaurant ...</td>\n",
       "      <td>9 October 2017</td>\n",
       "    </tr>\n",
       "    <tr>\n",
       "      <th>3</th>\n",
       "      <td>Hipster Food Courts in Singapore – food halls ...</td>\n",
       "      <td>a recent article in the straits times new hawk...</td>\n",
       "      <td>8 October 2017</td>\n",
       "    </tr>\n",
       "    <tr>\n",
       "      <th>4</th>\n",
       "      <td>The Hawkerman at SingPost Centre</td>\n",
       "      <td>the new mall of the singapore post centre or s...</td>\n",
       "      <td>7 October 2017</td>\n",
       "    </tr>\n",
       "  </tbody>\n",
       "</table>\n",
       "</div>"
      ],
      "text/plain": [
       "                                               Title  \\\n",
       "0  牛一嘴 Núodle – Lanzhou Beef Noodles at SingPost ...   \n",
       "1  Drinks at Lobby Bar 1864 Sofitel Singapore Cit...   \n",
       "2  Racines Sofitel Singapore – new restaurant in ...   \n",
       "3  Hipster Food Courts in Singapore – food halls ...   \n",
       "4                   The Hawkerman at SingPost Centre   \n",
       "\n",
       "                                             Details             Date  \n",
       "0  lanzhou is the capital and largest city of gan...  11 October 2017  \n",
       "1  the lobby bar  sofitel singapore is named afte...  10 October 2017  \n",
       "2  racines sofitel singapore is a new restaurant ...   9 October 2017  \n",
       "3  a recent article in the straits times new hawk...   8 October 2017  \n",
       "4  the new mall of the singapore post centre or s...   7 October 2017  "
      ]
     },
     "execution_count": 3,
     "metadata": {},
     "output_type": "execute_result"
    }
   ],
   "source": [
    "df.head()"
   ]
  },
  {
   "cell_type": "code",
   "execution_count": 4,
   "metadata": {
    "collapsed": true
   },
   "outputs": [],
   "source": [
    "details = df['Details']"
   ]
  },
  {
   "cell_type": "code",
   "execution_count": 5,
   "metadata": {},
   "outputs": [
    {
     "name": "stdout",
     "output_type": "stream",
     "text": [
      "Time taken : 2.35499286652  seconds\n"
     ]
    }
   ],
   "source": [
    "import time\n",
    "\n",
    "start = time.time()\n",
    "\n",
    "lemma_check =[]\n",
    "wnl = WordNetLemmatizer()\n",
    "for item in details:\n",
    "    item = str(item).decode('utf-8')\n",
    "    t = \" \".join([wnl.lemmatize(i) for i in item.split()])\n",
    "    lemma_check.append(t) \n",
    "    \n",
    "end = time.time()\n",
    "exe_time = end - start\n",
    "print 'Time taken :',(exe_time),' seconds'"
   ]
  },
  {
   "cell_type": "code",
   "execution_count": 6,
   "metadata": {
    "collapsed": true
   },
   "outputs": [],
   "source": [
    "word_count = []\n",
    "for lemma in lemma_check:\n",
    "    count = len(lemma.split())\n",
    "    word_count.append(count)"
   ]
  },
  {
   "cell_type": "code",
   "execution_count": 7,
   "metadata": {
    "collapsed": true
   },
   "outputs": [],
   "source": [
    "df['Details_processed'] = lemma_check"
   ]
  },
  {
   "cell_type": "code",
   "execution_count": 8,
   "metadata": {},
   "outputs": [
    {
     "data": {
      "text/plain": [
       "20180"
      ]
     },
     "execution_count": 8,
     "metadata": {},
     "output_type": "execute_result"
    }
   ],
   "source": [
    "df['Word_count'] = word_count\n",
    "sum(df['Word_count'])"
   ]
  },
  {
   "cell_type": "code",
   "execution_count": 9,
   "metadata": {},
   "outputs": [
    {
     "name": "stdout",
     "output_type": "stream",
     "text": [
      "Total number of records : 36\n",
      "Total number of words : 20180\n",
      "Average no. of words per record : 560\n"
     ]
    }
   ],
   "source": [
    "print 'Total number of records :', len(df)\n",
    "print 'Total number of words :', sum(df['Word_count'])\n",
    "print 'Average no. of words per record :', sum(df['Word_count'])/len(df)"
   ]
  },
  {
   "cell_type": "code",
   "execution_count": 10,
   "metadata": {},
   "outputs": [
    {
     "data": {
      "text/html": [
       "<div>\n",
       "<style>\n",
       "    .dataframe thead tr:only-child th {\n",
       "        text-align: right;\n",
       "    }\n",
       "\n",
       "    .dataframe thead th {\n",
       "        text-align: left;\n",
       "    }\n",
       "\n",
       "    .dataframe tbody tr th {\n",
       "        vertical-align: top;\n",
       "    }\n",
       "</style>\n",
       "<table border=\"1\" class=\"dataframe\">\n",
       "  <thead>\n",
       "    <tr style=\"text-align: right;\">\n",
       "      <th></th>\n",
       "      <th>Title</th>\n",
       "      <th>Details</th>\n",
       "      <th>Date</th>\n",
       "      <th>Details_processed</th>\n",
       "      <th>Word_count</th>\n",
       "    </tr>\n",
       "  </thead>\n",
       "  <tbody>\n",
       "    <tr>\n",
       "      <th>0</th>\n",
       "      <td>牛一嘴 Núodle – Lanzhou Beef Noodles at SingPost ...</td>\n",
       "      <td>lanzhou is the capital and largest city of gan...</td>\n",
       "      <td>11 October 2017</td>\n",
       "      <td>lanzhou is the capital and largest city of gan...</td>\n",
       "      <td>540</td>\n",
       "    </tr>\n",
       "    <tr>\n",
       "      <th>1</th>\n",
       "      <td>Drinks at Lobby Bar 1864 Sofitel Singapore Cit...</td>\n",
       "      <td>the lobby bar  sofitel singapore is named afte...</td>\n",
       "      <td>10 October 2017</td>\n",
       "      <td>the lobby bar sofitel singapore is named after...</td>\n",
       "      <td>434</td>\n",
       "    </tr>\n",
       "    <tr>\n",
       "      <th>2</th>\n",
       "      <td>Racines Sofitel Singapore – new restaurant in ...</td>\n",
       "      <td>racines sofitel singapore is a new restaurant ...</td>\n",
       "      <td>9 October 2017</td>\n",
       "      <td>racine sofitel singapore is a new restaurant i...</td>\n",
       "      <td>492</td>\n",
       "    </tr>\n",
       "    <tr>\n",
       "      <th>3</th>\n",
       "      <td>Hipster Food Courts in Singapore – food halls ...</td>\n",
       "      <td>a recent article in the straits times new hawk...</td>\n",
       "      <td>8 October 2017</td>\n",
       "      <td>a recent article in the strait time new hawker...</td>\n",
       "      <td>650</td>\n",
       "    </tr>\n",
       "    <tr>\n",
       "      <th>4</th>\n",
       "      <td>The Hawkerman at SingPost Centre</td>\n",
       "      <td>the new mall of the singapore post centre or s...</td>\n",
       "      <td>7 October 2017</td>\n",
       "      <td>the new mall of the singapore post centre or s...</td>\n",
       "      <td>532</td>\n",
       "    </tr>\n",
       "  </tbody>\n",
       "</table>\n",
       "</div>"
      ],
      "text/plain": [
       "                                               Title  \\\n",
       "0  牛一嘴 Núodle – Lanzhou Beef Noodles at SingPost ...   \n",
       "1  Drinks at Lobby Bar 1864 Sofitel Singapore Cit...   \n",
       "2  Racines Sofitel Singapore – new restaurant in ...   \n",
       "3  Hipster Food Courts in Singapore – food halls ...   \n",
       "4                   The Hawkerman at SingPost Centre   \n",
       "\n",
       "                                             Details             Date  \\\n",
       "0  lanzhou is the capital and largest city of gan...  11 October 2017   \n",
       "1  the lobby bar  sofitel singapore is named afte...  10 October 2017   \n",
       "2  racines sofitel singapore is a new restaurant ...   9 October 2017   \n",
       "3  a recent article in the straits times new hawk...   8 October 2017   \n",
       "4  the new mall of the singapore post centre or s...   7 October 2017   \n",
       "\n",
       "                                   Details_processed  Word_count  \n",
       "0  lanzhou is the capital and largest city of gan...         540  \n",
       "1  the lobby bar sofitel singapore is named after...         434  \n",
       "2  racine sofitel singapore is a new restaurant i...         492  \n",
       "3  a recent article in the strait time new hawker...         650  \n",
       "4  the new mall of the singapore post centre or s...         532  "
      ]
     },
     "execution_count": 10,
     "metadata": {},
     "output_type": "execute_result"
    }
   ],
   "source": [
    "df.head()"
   ]
  },
  {
   "cell_type": "code",
   "execution_count": 11,
   "metadata": {
    "collapsed": true
   },
   "outputs": [],
   "source": [
    "f = 'ordinarypatron.csv'\n",
    "df.to_csv(f, encoding='utf-8')"
   ]
  },
  {
   "cell_type": "code",
   "execution_count": null,
   "metadata": {
    "collapsed": true
   },
   "outputs": [],
   "source": []
  }
 ],
 "metadata": {
  "kernelspec": {
   "display_name": "Python 2",
   "language": "python",
   "name": "python2"
  },
  "language_info": {
   "codemirror_mode": {
    "name": "ipython",
    "version": 2
   },
   "file_extension": ".py",
   "mimetype": "text/x-python",
   "name": "python",
   "nbconvert_exporter": "python",
   "pygments_lexer": "ipython2",
   "version": "2.7.13"
  }
 },
 "nbformat": 4,
 "nbformat_minor": 2
}

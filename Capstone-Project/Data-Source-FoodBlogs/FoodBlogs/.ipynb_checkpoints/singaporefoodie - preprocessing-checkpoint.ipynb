{
 "cells": [
  {
   "cell_type": "code",
   "execution_count": 3,
   "metadata": {
    "collapsed": true
   },
   "outputs": [],
   "source": [
    "import pandas as pd\n",
    "from textblob import TextBlob, Word\n",
    "from nltk.stem import PorterStemmer, WordNetLemmatizer"
   ]
  },
  {
   "cell_type": "code",
   "execution_count": 4,
   "metadata": {},
   "outputs": [],
   "source": [
    "df = pd.read_csv('singaporefoodie.csv', index_col=0)"
   ]
  },
  {
   "cell_type": "code",
   "execution_count": 5,
   "metadata": {},
   "outputs": [
    {
     "data": {
      "text/html": [
       "<div>\n",
       "<style>\n",
       "    .dataframe thead tr:only-child th {\n",
       "        text-align: right;\n",
       "    }\n",
       "\n",
       "    .dataframe thead th {\n",
       "        text-align: left;\n",
       "    }\n",
       "\n",
       "    .dataframe tbody tr th {\n",
       "        vertical-align: top;\n",
       "    }\n",
       "</style>\n",
       "<table border=\"1\" class=\"dataframe\">\n",
       "  <thead>\n",
       "    <tr style=\"text-align: right;\">\n",
       "      <th></th>\n",
       "      <th>Title</th>\n",
       "      <th>Details</th>\n",
       "      <th>Date</th>\n",
       "    </tr>\n",
       "  </thead>\n",
       "  <tbody>\n",
       "    <tr>\n",
       "      <th>0</th>\n",
       "      <td>10 Places for a Long Lunch on the Weekend</td>\n",
       "      <td>nothing spells leisurely weekend like a long l...</td>\n",
       "      <td>September 5, 2017</td>\n",
       "    </tr>\n",
       "    <tr>\n",
       "      <th>1</th>\n",
       "      <td>Checking out Food Outlets in Orchard Road</td>\n",
       "      <td>orchard road can be a bit of a minefield when ...</td>\n",
       "      <td>September 5, 2017</td>\n",
       "    </tr>\n",
       "    <tr>\n",
       "      <th>2</th>\n",
       "      <td>FOC Sentosa</td>\n",
       "      <td>foc sentosa has given me a great excuse to wri...</td>\n",
       "      <td>August 29, 2017</td>\n",
       "    </tr>\n",
       "    <tr>\n",
       "      <th>3</th>\n",
       "      <td>The New Quayside Vibe</td>\n",
       "      <td>if you havent been to quayside at robertson qu...</td>\n",
       "      <td>August 16, 2017</td>\n",
       "    </tr>\n",
       "    <tr>\n",
       "      <th>4</th>\n",
       "      <td>Kith Cafe – Choose from 8 Locations</td>\n",
       "      <td>kith cafe is one of the first cafes i visited ...</td>\n",
       "      <td>August 9, 2017</td>\n",
       "    </tr>\n",
       "  </tbody>\n",
       "</table>\n",
       "</div>"
      ],
      "text/plain": [
       "                                       Title  \\\n",
       "0  10 Places for a Long Lunch on the Weekend   \n",
       "1  Checking out Food Outlets in Orchard Road   \n",
       "2                                FOC Sentosa   \n",
       "3                      The New Quayside Vibe   \n",
       "4        Kith Cafe – Choose from 8 Locations   \n",
       "\n",
       "                                             Details               Date  \n",
       "0  nothing spells leisurely weekend like a long l...  September 5, 2017  \n",
       "1  orchard road can be a bit of a minefield when ...  September 5, 2017  \n",
       "2  foc sentosa has given me a great excuse to wri...    August 29, 2017  \n",
       "3  if you havent been to quayside at robertson qu...    August 16, 2017  \n",
       "4  kith cafe is one of the first cafes i visited ...     August 9, 2017  "
      ]
     },
     "execution_count": 5,
     "metadata": {},
     "output_type": "execute_result"
    }
   ],
   "source": [
    "df.head()"
   ]
  },
  {
   "cell_type": "code",
   "execution_count": 6,
   "metadata": {
    "collapsed": true
   },
   "outputs": [],
   "source": [
    "details = df['Details']"
   ]
  },
  {
   "cell_type": "code",
   "execution_count": 7,
   "metadata": {},
   "outputs": [
    {
     "name": "stdout",
     "output_type": "stream",
     "text": [
      "Time taken : 2.54298520088  seconds\n"
     ]
    }
   ],
   "source": [
    "import time\n",
    "\n",
    "start = time.time()\n",
    "\n",
    "lemma_check =[]\n",
    "wnl = WordNetLemmatizer()\n",
    "for item in details:\n",
    "    item = str(item).decode('utf-8')\n",
    "    t = \" \".join([wnl.lemmatize(i) for i in item.split()])\n",
    "    lemma_check.append(t) \n",
    "    \n",
    "end = time.time()\n",
    "exe_time = end - start\n",
    "print 'Time taken :',(exe_time),' seconds'"
   ]
  },
  {
   "cell_type": "code",
   "execution_count": 8,
   "metadata": {
    "collapsed": true
   },
   "outputs": [],
   "source": [
    "word_count = []\n",
    "for lemma in lemma_check:\n",
    "    count = len(lemma.split())\n",
    "    word_count.append(count)"
   ]
  },
  {
   "cell_type": "code",
   "execution_count": 9,
   "metadata": {
    "collapsed": true
   },
   "outputs": [],
   "source": [
    "df['Details_processed'] = lemma_check"
   ]
  },
  {
   "cell_type": "code",
   "execution_count": 10,
   "metadata": {},
   "outputs": [
    {
     "data": {
      "text/plain": [
       "33871"
      ]
     },
     "execution_count": 10,
     "metadata": {},
     "output_type": "execute_result"
    }
   ],
   "source": [
    "df['Word_count'] = word_count\n",
    "sum(df['Word_count'])"
   ]
  },
  {
   "cell_type": "code",
   "execution_count": 11,
   "metadata": {},
   "outputs": [
    {
     "name": "stdout",
     "output_type": "stream",
     "text": [
      "Total number of records : 40\n",
      "Total number of words : 33871\n",
      "Average no. of words per record : 846\n"
     ]
    }
   ],
   "source": [
    "print 'Total number of records :', len(df)\n",
    "print 'Total number of words :', sum(df['Word_count'])\n",
    "print 'Average no. of words per record :', sum(df['Word_count'])/len(df)"
   ]
  },
  {
   "cell_type": "code",
   "execution_count": 12,
   "metadata": {},
   "outputs": [
    {
     "data": {
      "text/html": [
       "<div>\n",
       "<style>\n",
       "    .dataframe thead tr:only-child th {\n",
       "        text-align: right;\n",
       "    }\n",
       "\n",
       "    .dataframe thead th {\n",
       "        text-align: left;\n",
       "    }\n",
       "\n",
       "    .dataframe tbody tr th {\n",
       "        vertical-align: top;\n",
       "    }\n",
       "</style>\n",
       "<table border=\"1\" class=\"dataframe\">\n",
       "  <thead>\n",
       "    <tr style=\"text-align: right;\">\n",
       "      <th></th>\n",
       "      <th>Title</th>\n",
       "      <th>Details</th>\n",
       "      <th>Date</th>\n",
       "      <th>Details_processed</th>\n",
       "      <th>Word_count</th>\n",
       "    </tr>\n",
       "  </thead>\n",
       "  <tbody>\n",
       "    <tr>\n",
       "      <th>0</th>\n",
       "      <td>10 Places for a Long Lunch on the Weekend</td>\n",
       "      <td>nothing spells leisurely weekend like a long l...</td>\n",
       "      <td>September 5, 2017</td>\n",
       "      <td>nothing spell leisurely weekend like a long lu...</td>\n",
       "      <td>1297</td>\n",
       "    </tr>\n",
       "    <tr>\n",
       "      <th>1</th>\n",
       "      <td>Checking out Food Outlets in Orchard Road</td>\n",
       "      <td>orchard road can be a bit of a minefield when ...</td>\n",
       "      <td>September 5, 2017</td>\n",
       "      <td>orchard road can be a bit of a minefield when ...</td>\n",
       "      <td>461</td>\n",
       "    </tr>\n",
       "    <tr>\n",
       "      <th>2</th>\n",
       "      <td>FOC Sentosa</td>\n",
       "      <td>foc sentosa has given me a great excuse to wri...</td>\n",
       "      <td>August 29, 2017</td>\n",
       "      <td>foc sentosa ha given me a great excuse to writ...</td>\n",
       "      <td>704</td>\n",
       "    </tr>\n",
       "    <tr>\n",
       "      <th>3</th>\n",
       "      <td>The New Quayside Vibe</td>\n",
       "      <td>if you havent been to quayside at robertson qu...</td>\n",
       "      <td>August 16, 2017</td>\n",
       "      <td>if you havent been to quayside at robertson qu...</td>\n",
       "      <td>602</td>\n",
       "    </tr>\n",
       "    <tr>\n",
       "      <th>4</th>\n",
       "      <td>Kith Cafe – Choose from 8 Locations</td>\n",
       "      <td>kith cafe is one of the first cafes i visited ...</td>\n",
       "      <td>August 9, 2017</td>\n",
       "      <td>kith cafe is one of the first cafe i visited i...</td>\n",
       "      <td>479</td>\n",
       "    </tr>\n",
       "  </tbody>\n",
       "</table>\n",
       "</div>"
      ],
      "text/plain": [
       "                                       Title  \\\n",
       "0  10 Places for a Long Lunch on the Weekend   \n",
       "1  Checking out Food Outlets in Orchard Road   \n",
       "2                                FOC Sentosa   \n",
       "3                      The New Quayside Vibe   \n",
       "4        Kith Cafe – Choose from 8 Locations   \n",
       "\n",
       "                                             Details               Date  \\\n",
       "0  nothing spells leisurely weekend like a long l...  September 5, 2017   \n",
       "1  orchard road can be a bit of a minefield when ...  September 5, 2017   \n",
       "2  foc sentosa has given me a great excuse to wri...    August 29, 2017   \n",
       "3  if you havent been to quayside at robertson qu...    August 16, 2017   \n",
       "4  kith cafe is one of the first cafes i visited ...     August 9, 2017   \n",
       "\n",
       "                                   Details_processed  Word_count  \n",
       "0  nothing spell leisurely weekend like a long lu...        1297  \n",
       "1  orchard road can be a bit of a minefield when ...         461  \n",
       "2  foc sentosa ha given me a great excuse to writ...         704  \n",
       "3  if you havent been to quayside at robertson qu...         602  \n",
       "4  kith cafe is one of the first cafe i visited i...         479  "
      ]
     },
     "execution_count": 12,
     "metadata": {},
     "output_type": "execute_result"
    }
   ],
   "source": [
    "df.head()"
   ]
  },
  {
   "cell_type": "code",
   "execution_count": 13,
   "metadata": {
    "collapsed": true
   },
   "outputs": [],
   "source": [
    "f = 'singaporefoodie.csv'\n",
    "df.to_csv(f, encoding='utf-8')"
   ]
  },
  {
   "cell_type": "code",
   "execution_count": null,
   "metadata": {
    "collapsed": true
   },
   "outputs": [],
   "source": []
  }
 ],
 "metadata": {
  "kernelspec": {
   "display_name": "Python 2",
   "language": "python",
   "name": "python2"
  },
  "language_info": {
   "codemirror_mode": {
    "name": "ipython",
    "version": 2
   },
   "file_extension": ".py",
   "mimetype": "text/x-python",
   "name": "python",
   "nbconvert_exporter": "python",
   "pygments_lexer": "ipython2",
   "version": "2.7.13"
  }
 },
 "nbformat": 4,
 "nbformat_minor": 2
}

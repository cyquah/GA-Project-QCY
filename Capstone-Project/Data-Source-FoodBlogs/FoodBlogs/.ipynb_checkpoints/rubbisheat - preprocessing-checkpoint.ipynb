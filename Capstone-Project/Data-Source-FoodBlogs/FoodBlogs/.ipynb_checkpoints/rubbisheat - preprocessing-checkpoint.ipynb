{
 "cells": [
  {
   "cell_type": "code",
   "execution_count": 1,
   "metadata": {
    "collapsed": true
   },
   "outputs": [],
   "source": [
    "import pandas as pd\n",
    "from textblob import TextBlob, Word\n",
    "from nltk.stem import PorterStemmer, WordNetLemmatizer"
   ]
  },
  {
   "cell_type": "code",
   "execution_count": 2,
   "metadata": {
    "collapsed": true
   },
   "outputs": [],
   "source": [
    "df = pd.read_csv('rubbisheat.csv', index_col=0)"
   ]
  },
  {
   "cell_type": "code",
   "execution_count": 3,
   "metadata": {},
   "outputs": [
    {
     "data": {
      "text/html": [
       "<div>\n",
       "<style>\n",
       "    .dataframe thead tr:only-child th {\n",
       "        text-align: right;\n",
       "    }\n",
       "\n",
       "    .dataframe thead th {\n",
       "        text-align: left;\n",
       "    }\n",
       "\n",
       "    .dataframe tbody tr th {\n",
       "        vertical-align: top;\n",
       "    }\n",
       "</style>\n",
       "<table border=\"1\" class=\"dataframe\">\n",
       "  <thead>\n",
       "    <tr style=\"text-align: right;\">\n",
       "      <th></th>\n",
       "      <th>Title</th>\n",
       "      <th>Details</th>\n",
       "      <th>Date</th>\n",
       "    </tr>\n",
       "  </thead>\n",
       "  <tbody>\n",
       "    <tr>\n",
       "      <th>0</th>\n",
       "      <td>\\n\\n\\t\\t\\t.elia Cafe, Jiak Chuan Road: Excelle...</td>\n",
       "      <td>taking over oriole coffee roasters elia cafe a...</td>\n",
       "      <td>October 11, 2017</td>\n",
       "    </tr>\n",
       "    <tr>\n",
       "      <th>1</th>\n",
       "      <td>\\n\\n\\t\\t\\tHolyCrab, Bugis: Home Chef For Seven...</td>\n",
       "      <td>restaurateur jamie lim from joo bar is home ch...</td>\n",
       "      <td>October 9, 2017</td>\n",
       "    </tr>\n",
       "    <tr>\n",
       "      <th>2</th>\n",
       "      <td>\\n\\n\\t\\t\\tButcher Boy, Keong Saik: Asian-Inspi...</td>\n",
       "      <td>cure the best restaurant in  has quietly opene...</td>\n",
       "      <td>October 6, 2017</td>\n",
       "    </tr>\n",
       "    <tr>\n",
       "      <th>3</th>\n",
       "      <td>\\n\\n\\t\\t\\tNew Cafes and Hawkers in Singapore O...</td>\n",
       "      <td>new cafes in oct  handmade gelato made fresh d...</td>\n",
       "      <td>October 4, 2017</td>\n",
       "    </tr>\n",
       "    <tr>\n",
       "      <th>4</th>\n",
       "      <td>\\n\\n\\t\\t\\tNew Restaurants in October\\t\\t\\n</td>\n",
       "      <td>restaurants in oct  not to be confused with al...</td>\n",
       "      <td>October 2, 2017</td>\n",
       "    </tr>\n",
       "  </tbody>\n",
       "</table>\n",
       "</div>"
      ],
      "text/plain": [
       "                                               Title  \\\n",
       "0  \\n\\n\\t\\t\\t.elia Cafe, Jiak Chuan Road: Excelle...   \n",
       "1  \\n\\n\\t\\t\\tHolyCrab, Bugis: Home Chef For Seven...   \n",
       "2  \\n\\n\\t\\t\\tButcher Boy, Keong Saik: Asian-Inspi...   \n",
       "3  \\n\\n\\t\\t\\tNew Cafes and Hawkers in Singapore O...   \n",
       "4         \\n\\n\\t\\t\\tNew Restaurants in October\\t\\t\\n   \n",
       "\n",
       "                                             Details              Date  \n",
       "0  taking over oriole coffee roasters elia cafe a...  October 11, 2017  \n",
       "1  restaurateur jamie lim from joo bar is home ch...   October 9, 2017  \n",
       "2  cure the best restaurant in  has quietly opene...   October 6, 2017  \n",
       "3  new cafes in oct  handmade gelato made fresh d...   October 4, 2017  \n",
       "4  restaurants in oct  not to be confused with al...   October 2, 2017  "
      ]
     },
     "execution_count": 3,
     "metadata": {},
     "output_type": "execute_result"
    }
   ],
   "source": [
    "df.head()"
   ]
  },
  {
   "cell_type": "code",
   "execution_count": 4,
   "metadata": {
    "collapsed": true
   },
   "outputs": [],
   "source": [
    "details = df['Details']"
   ]
  },
  {
   "cell_type": "code",
   "execution_count": 5,
   "metadata": {},
   "outputs": [
    {
     "name": "stdout",
     "output_type": "stream",
     "text": [
      "Time taken : 2.80562996864  seconds\n"
     ]
    }
   ],
   "source": [
    "import time\n",
    "\n",
    "start = time.time()\n",
    "\n",
    "lemma_check =[]\n",
    "wnl = WordNetLemmatizer()\n",
    "for item in details:\n",
    "    item = str(item).decode('utf-8')\n",
    "    t = \" \".join([wnl.lemmatize(i) for i in item.split()])\n",
    "    lemma_check.append(t) \n",
    "    \n",
    "end = time.time()\n",
    "exe_time = end - start\n",
    "print 'Time taken :',(exe_time),' seconds'"
   ]
  },
  {
   "cell_type": "code",
   "execution_count": 6,
   "metadata": {
    "collapsed": true
   },
   "outputs": [],
   "source": [
    "word_count = []\n",
    "for lemma in lemma_check:\n",
    "    count = len(lemma.split())\n",
    "    word_count.append(count)"
   ]
  },
  {
   "cell_type": "code",
   "execution_count": 7,
   "metadata": {
    "collapsed": true
   },
   "outputs": [],
   "source": [
    "df['Details_processed'] = lemma_check"
   ]
  },
  {
   "cell_type": "code",
   "execution_count": 8,
   "metadata": {},
   "outputs": [
    {
     "data": {
      "text/plain": [
       "95966"
      ]
     },
     "execution_count": 8,
     "metadata": {},
     "output_type": "execute_result"
    }
   ],
   "source": [
    "df['Word_count'] = word_count\n",
    "sum(df['Word_count'])"
   ]
  },
  {
   "cell_type": "code",
   "execution_count": 9,
   "metadata": {},
   "outputs": [
    {
     "name": "stdout",
     "output_type": "stream",
     "text": [
      "Total number of records : 133\n",
      "Total number of words : 95966\n",
      "Average no. of words per record : 721\n"
     ]
    }
   ],
   "source": [
    "print 'Total number of records :', len(df)\n",
    "print 'Total number of words :', sum(df['Word_count'])\n",
    "print 'Average no. of words per record :', sum(df['Word_count'])/len(df)"
   ]
  },
  {
   "cell_type": "code",
   "execution_count": 10,
   "metadata": {},
   "outputs": [
    {
     "data": {
      "text/html": [
       "<div>\n",
       "<style>\n",
       "    .dataframe thead tr:only-child th {\n",
       "        text-align: right;\n",
       "    }\n",
       "\n",
       "    .dataframe thead th {\n",
       "        text-align: left;\n",
       "    }\n",
       "\n",
       "    .dataframe tbody tr th {\n",
       "        vertical-align: top;\n",
       "    }\n",
       "</style>\n",
       "<table border=\"1\" class=\"dataframe\">\n",
       "  <thead>\n",
       "    <tr style=\"text-align: right;\">\n",
       "      <th></th>\n",
       "      <th>Title</th>\n",
       "      <th>Details</th>\n",
       "      <th>Date</th>\n",
       "      <th>Details_processed</th>\n",
       "      <th>Word_count</th>\n",
       "    </tr>\n",
       "  </thead>\n",
       "  <tbody>\n",
       "    <tr>\n",
       "      <th>0</th>\n",
       "      <td>\\n\\n\\t\\t\\t.elia Cafe, Jiak Chuan Road: Excelle...</td>\n",
       "      <td>taking over oriole coffee roasters elia cafe a...</td>\n",
       "      <td>October 11, 2017</td>\n",
       "      <td>taking over oriole coffee roaster elia cafe at...</td>\n",
       "      <td>536</td>\n",
       "    </tr>\n",
       "    <tr>\n",
       "      <th>1</th>\n",
       "      <td>\\n\\n\\t\\t\\tHolyCrab, Bugis: Home Chef For Seven...</td>\n",
       "      <td>restaurateur jamie lim from joo bar is home ch...</td>\n",
       "      <td>October 9, 2017</td>\n",
       "      <td>restaurateur jamie lim from joo bar is home ch...</td>\n",
       "      <td>565</td>\n",
       "    </tr>\n",
       "    <tr>\n",
       "      <th>2</th>\n",
       "      <td>\\n\\n\\t\\t\\tButcher Boy, Keong Saik: Asian-Inspi...</td>\n",
       "      <td>cure the best restaurant in  has quietly opene...</td>\n",
       "      <td>October 6, 2017</td>\n",
       "      <td>cure the best restaurant in ha quietly opened ...</td>\n",
       "      <td>637</td>\n",
       "    </tr>\n",
       "    <tr>\n",
       "      <th>3</th>\n",
       "      <td>\\n\\n\\t\\t\\tNew Cafes and Hawkers in Singapore O...</td>\n",
       "      <td>new cafes in oct  handmade gelato made fresh d...</td>\n",
       "      <td>October 4, 2017</td>\n",
       "      <td>new cafe in oct handmade gelato made fresh dai...</td>\n",
       "      <td>606</td>\n",
       "    </tr>\n",
       "    <tr>\n",
       "      <th>4</th>\n",
       "      <td>\\n\\n\\t\\t\\tNew Restaurants in October\\t\\t\\n</td>\n",
       "      <td>restaurants in oct  not to be confused with al...</td>\n",
       "      <td>October 2, 2017</td>\n",
       "      <td>restaurant in oct not to be confused with alat...</td>\n",
       "      <td>702</td>\n",
       "    </tr>\n",
       "  </tbody>\n",
       "</table>\n",
       "</div>"
      ],
      "text/plain": [
       "                                               Title  \\\n",
       "0  \\n\\n\\t\\t\\t.elia Cafe, Jiak Chuan Road: Excelle...   \n",
       "1  \\n\\n\\t\\t\\tHolyCrab, Bugis: Home Chef For Seven...   \n",
       "2  \\n\\n\\t\\t\\tButcher Boy, Keong Saik: Asian-Inspi...   \n",
       "3  \\n\\n\\t\\t\\tNew Cafes and Hawkers in Singapore O...   \n",
       "4         \\n\\n\\t\\t\\tNew Restaurants in October\\t\\t\\n   \n",
       "\n",
       "                                             Details              Date  \\\n",
       "0  taking over oriole coffee roasters elia cafe a...  October 11, 2017   \n",
       "1  restaurateur jamie lim from joo bar is home ch...   October 9, 2017   \n",
       "2  cure the best restaurant in  has quietly opene...   October 6, 2017   \n",
       "3  new cafes in oct  handmade gelato made fresh d...   October 4, 2017   \n",
       "4  restaurants in oct  not to be confused with al...   October 2, 2017   \n",
       "\n",
       "                                   Details_processed  Word_count  \n",
       "0  taking over oriole coffee roaster elia cafe at...         536  \n",
       "1  restaurateur jamie lim from joo bar is home ch...         565  \n",
       "2  cure the best restaurant in ha quietly opened ...         637  \n",
       "3  new cafe in oct handmade gelato made fresh dai...         606  \n",
       "4  restaurant in oct not to be confused with alat...         702  "
      ]
     },
     "execution_count": 10,
     "metadata": {},
     "output_type": "execute_result"
    }
   ],
   "source": [
    "df.head()"
   ]
  },
  {
   "cell_type": "code",
   "execution_count": 11,
   "metadata": {
    "collapsed": true
   },
   "outputs": [],
   "source": [
    "f = 'rubbisheat.csv'\n",
    "df.to_csv(f, encoding='utf-8')"
   ]
  },
  {
   "cell_type": "code",
   "execution_count": null,
   "metadata": {
    "collapsed": true
   },
   "outputs": [],
   "source": []
  }
 ],
 "metadata": {
  "kernelspec": {
   "display_name": "Python 2",
   "language": "python",
   "name": "python2"
  },
  "language_info": {
   "codemirror_mode": {
    "name": "ipython",
    "version": 2
   },
   "file_extension": ".py",
   "mimetype": "text/x-python",
   "name": "python",
   "nbconvert_exporter": "python",
   "pygments_lexer": "ipython2",
   "version": "2.7.13"
  }
 },
 "nbformat": 4,
 "nbformat_minor": 2
}

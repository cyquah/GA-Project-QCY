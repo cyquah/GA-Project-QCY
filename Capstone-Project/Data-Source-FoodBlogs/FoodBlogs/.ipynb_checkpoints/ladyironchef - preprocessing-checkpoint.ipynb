{
 "cells": [
  {
   "cell_type": "code",
   "execution_count": 1,
   "metadata": {
    "collapsed": true
   },
   "outputs": [],
   "source": [
    "import pandas as pd\n",
    "from textblob import TextBlob, Word\n",
    "from nltk.stem import PorterStemmer, WordNetLemmatizer"
   ]
  },
  {
   "cell_type": "code",
   "execution_count": 2,
   "metadata": {
    "collapsed": true
   },
   "outputs": [],
   "source": [
    "df = pd.read_csv('ladyironchef.csv', index_col=0)"
   ]
  },
  {
   "cell_type": "code",
   "execution_count": 3,
   "metadata": {},
   "outputs": [
    {
     "data": {
      "text/html": [
       "<div>\n",
       "<style>\n",
       "    .dataframe thead tr:only-child th {\n",
       "        text-align: right;\n",
       "    }\n",
       "\n",
       "    .dataframe thead th {\n",
       "        text-align: left;\n",
       "    }\n",
       "\n",
       "    .dataframe tbody tr th {\n",
       "        vertical-align: top;\n",
       "    }\n",
       "</style>\n",
       "<table border=\"1\" class=\"dataframe\">\n",
       "  <thead>\n",
       "    <tr style=\"text-align: right;\">\n",
       "      <th></th>\n",
       "      <th>Title</th>\n",
       "      <th>Details</th>\n",
       "      <th>Date</th>\n",
       "    </tr>\n",
       "  </thead>\n",
       "  <tbody>\n",
       "    <tr>\n",
       "      <th>0</th>\n",
       "      <td>Kabuke – New Japanese Sake Bar And Restaurant ...</td>\n",
       "      <td>kabukeis a new japanese sake bar and restauran...</td>\n",
       "      <td>October 11, 2017</td>\n",
       "    </tr>\n",
       "    <tr>\n",
       "      <th>1</th>\n",
       "      <td>Jin Ho Mia – Grain Bowls By Day &amp; Alaskan Crab...</td>\n",
       "      <td>photo credit jin ho mia jin ho miawhich means ...</td>\n",
       "      <td>October 11, 2017</td>\n",
       "    </tr>\n",
       "    <tr>\n",
       "      <th>2</th>\n",
       "      <td>honestbee FOOD – 30% To 50% Off Food Delivery ...</td>\n",
       "      <td>for many the month of october is presumably mo...</td>\n",
       "      <td>October 10, 2017</td>\n",
       "    </tr>\n",
       "    <tr>\n",
       "      <th>3</th>\n",
       "      <td>Jiakpalang Eating House – New Mod-Sin Restaura...</td>\n",
       "      <td>we are seeing a rapid growth in fb establishme...</td>\n",
       "      <td>October 10, 2017</td>\n",
       "    </tr>\n",
       "    <tr>\n",
       "      <th>4</th>\n",
       "      <td>Passion 5 Seoul – Dessert Emporium In Itaewon ...</td>\n",
       "      <td>owned by spc groupthe same conglomeratebehind ...</td>\n",
       "      <td>October 10, 2017</td>\n",
       "    </tr>\n",
       "  </tbody>\n",
       "</table>\n",
       "</div>"
      ],
      "text/plain": [
       "                                               Title  \\\n",
       "0  Kabuke – New Japanese Sake Bar And Restaurant ...   \n",
       "1  Jin Ho Mia – Grain Bowls By Day & Alaskan Crab...   \n",
       "2  honestbee FOOD – 30% To 50% Off Food Delivery ...   \n",
       "3  Jiakpalang Eating House – New Mod-Sin Restaura...   \n",
       "4  Passion 5 Seoul – Dessert Emporium In Itaewon ...   \n",
       "\n",
       "                                             Details              Date  \n",
       "0  kabukeis a new japanese sake bar and restauran...  October 11, 2017  \n",
       "1  photo credit jin ho mia jin ho miawhich means ...  October 11, 2017  \n",
       "2  for many the month of october is presumably mo...  October 10, 2017  \n",
       "3  we are seeing a rapid growth in fb establishme...  October 10, 2017  \n",
       "4  owned by spc groupthe same conglomeratebehind ...  October 10, 2017  "
      ]
     },
     "execution_count": 3,
     "metadata": {},
     "output_type": "execute_result"
    }
   ],
   "source": [
    "df.head()"
   ]
  },
  {
   "cell_type": "code",
   "execution_count": 4,
   "metadata": {
    "collapsed": true
   },
   "outputs": [],
   "source": [
    "details = df['Details']"
   ]
  },
  {
   "cell_type": "code",
   "execution_count": 5,
   "metadata": {
    "scrolled": true
   },
   "outputs": [
    {
     "data": {
      "text/plain": [
       "\"\\nimport time\\n\\nstart = time.time()\\n\\nspell_check = []\\nfor item in details:\\n    item = str(item).decode('utf-8')\\n    t = TextBlob(item).correct()\\n    spell_check.append(t)\\n    \\nend = time.time()\\nexe_time = end - start\\nprint 'Time taken :',(exe_time),' seconds'\\n\""
      ]
     },
     "execution_count": 5,
     "metadata": {},
     "output_type": "execute_result"
    }
   ],
   "source": [
    "\"\"\"\n",
    "import time\n",
    "\n",
    "start = time.time()\n",
    "\n",
    "spell_check = []\n",
    "for item in details:\n",
    "    item = str(item).decode('utf-8')\n",
    "    t = TextBlob(item).correct()\n",
    "    spell_check.append(t)\n",
    "    \n",
    "end = time.time()\n",
    "exe_time = end - start\n",
    "print 'Time taken :',(exe_time),' seconds'\n",
    "\"\"\""
   ]
  },
  {
   "cell_type": "code",
   "execution_count": 6,
   "metadata": {},
   "outputs": [
    {
     "name": "stdout",
     "output_type": "stream",
     "text": [
      "Time taken : 3.93539905548  seconds\n"
     ]
    }
   ],
   "source": [
    "import time\n",
    "\n",
    "start = time.time()\n",
    "\n",
    "lemma_check =[]\n",
    "wnl = WordNetLemmatizer()\n",
    "for item in details:\n",
    "    item = str(item).decode('utf-8')\n",
    "    t = \" \".join([wnl.lemmatize(i) for i in item.split()])\n",
    "    lemma_check.append(t) \n",
    "    \n",
    "end = time.time()\n",
    "exe_time = end - start\n",
    "print 'Time taken :',(exe_time),' seconds'"
   ]
  },
  {
   "cell_type": "code",
   "execution_count": 7,
   "metadata": {
    "collapsed": true
   },
   "outputs": [],
   "source": [
    "word_count = []\n",
    "for lemma in lemma_check:\n",
    "    count = len(lemma.split())\n",
    "    word_count.append(count)"
   ]
  },
  {
   "cell_type": "code",
   "execution_count": 8,
   "metadata": {
    "collapsed": true
   },
   "outputs": [],
   "source": [
    "df['Details_processed'] = lemma_check"
   ]
  },
  {
   "cell_type": "code",
   "execution_count": 9,
   "metadata": {},
   "outputs": [
    {
     "data": {
      "text/plain": [
       "294162"
      ]
     },
     "execution_count": 9,
     "metadata": {},
     "output_type": "execute_result"
    }
   ],
   "source": [
    "df['Word_count'] = word_count\n",
    "sum(df['Word_count'])"
   ]
  },
  {
   "cell_type": "code",
   "execution_count": 10,
   "metadata": {},
   "outputs": [
    {
     "name": "stdout",
     "output_type": "stream",
     "text": [
      "Total number of records : 400\n",
      "Total number of words : 294162\n",
      "Average no. of words per record : 735\n"
     ]
    }
   ],
   "source": [
    "print 'Total number of records :', len(df)\n",
    "print 'Total number of words :', sum(df['Word_count'])\n",
    "print 'Average no. of words per record :', sum(df['Word_count'])/len(df)"
   ]
  },
  {
   "cell_type": "code",
   "execution_count": 11,
   "metadata": {},
   "outputs": [
    {
     "data": {
      "text/html": [
       "<div>\n",
       "<style>\n",
       "    .dataframe thead tr:only-child th {\n",
       "        text-align: right;\n",
       "    }\n",
       "\n",
       "    .dataframe thead th {\n",
       "        text-align: left;\n",
       "    }\n",
       "\n",
       "    .dataframe tbody tr th {\n",
       "        vertical-align: top;\n",
       "    }\n",
       "</style>\n",
       "<table border=\"1\" class=\"dataframe\">\n",
       "  <thead>\n",
       "    <tr style=\"text-align: right;\">\n",
       "      <th></th>\n",
       "      <th>Title</th>\n",
       "      <th>Details</th>\n",
       "      <th>Date</th>\n",
       "      <th>Details_processed</th>\n",
       "      <th>Word_count</th>\n",
       "    </tr>\n",
       "  </thead>\n",
       "  <tbody>\n",
       "    <tr>\n",
       "      <th>0</th>\n",
       "      <td>Kabuke – New Japanese Sake Bar And Restaurant ...</td>\n",
       "      <td>kabukeis a new japanese sake bar and restauran...</td>\n",
       "      <td>October 11, 2017</td>\n",
       "      <td>kabukeis a new japanese sake bar and restauran...</td>\n",
       "      <td>265</td>\n",
       "    </tr>\n",
       "    <tr>\n",
       "      <th>1</th>\n",
       "      <td>Jin Ho Mia – Grain Bowls By Day &amp; Alaskan Crab...</td>\n",
       "      <td>photo credit jin ho mia jin ho miawhich means ...</td>\n",
       "      <td>October 11, 2017</td>\n",
       "      <td>photo credit jin ho mia jin ho miawhich mean a...</td>\n",
       "      <td>310</td>\n",
       "    </tr>\n",
       "    <tr>\n",
       "      <th>2</th>\n",
       "      <td>honestbee FOOD – 30% To 50% Off Food Delivery ...</td>\n",
       "      <td>for many the month of october is presumably mo...</td>\n",
       "      <td>October 10, 2017</td>\n",
       "      <td>for many the month of october is presumably mo...</td>\n",
       "      <td>1191</td>\n",
       "    </tr>\n",
       "    <tr>\n",
       "      <th>3</th>\n",
       "      <td>Jiakpalang Eating House – New Mod-Sin Restaura...</td>\n",
       "      <td>we are seeing a rapid growth in fb establishme...</td>\n",
       "      <td>October 10, 2017</td>\n",
       "      <td>we are seeing a rapid growth in fb establishme...</td>\n",
       "      <td>266</td>\n",
       "    </tr>\n",
       "    <tr>\n",
       "      <th>4</th>\n",
       "      <td>Passion 5 Seoul – Dessert Emporium In Itaewon ...</td>\n",
       "      <td>owned by spc groupthe same conglomeratebehind ...</td>\n",
       "      <td>October 10, 2017</td>\n",
       "      <td>owned by spc groupthe same conglomeratebehind ...</td>\n",
       "      <td>612</td>\n",
       "    </tr>\n",
       "  </tbody>\n",
       "</table>\n",
       "</div>"
      ],
      "text/plain": [
       "                                               Title  \\\n",
       "0  Kabuke – New Japanese Sake Bar And Restaurant ...   \n",
       "1  Jin Ho Mia – Grain Bowls By Day & Alaskan Crab...   \n",
       "2  honestbee FOOD – 30% To 50% Off Food Delivery ...   \n",
       "3  Jiakpalang Eating House – New Mod-Sin Restaura...   \n",
       "4  Passion 5 Seoul – Dessert Emporium In Itaewon ...   \n",
       "\n",
       "                                             Details              Date  \\\n",
       "0  kabukeis a new japanese sake bar and restauran...  October 11, 2017   \n",
       "1  photo credit jin ho mia jin ho miawhich means ...  October 11, 2017   \n",
       "2  for many the month of october is presumably mo...  October 10, 2017   \n",
       "3  we are seeing a rapid growth in fb establishme...  October 10, 2017   \n",
       "4  owned by spc groupthe same conglomeratebehind ...  October 10, 2017   \n",
       "\n",
       "                                   Details_processed  Word_count  \n",
       "0  kabukeis a new japanese sake bar and restauran...         265  \n",
       "1  photo credit jin ho mia jin ho miawhich mean a...         310  \n",
       "2  for many the month of october is presumably mo...        1191  \n",
       "3  we are seeing a rapid growth in fb establishme...         266  \n",
       "4  owned by spc groupthe same conglomeratebehind ...         612  "
      ]
     },
     "execution_count": 11,
     "metadata": {},
     "output_type": "execute_result"
    }
   ],
   "source": [
    "df.head()"
   ]
  },
  {
   "cell_type": "code",
   "execution_count": 12,
   "metadata": {
    "collapsed": true
   },
   "outputs": [],
   "source": [
    "f = 'ladyironchef.csv'\n",
    "df.to_csv(f, encoding='utf-8')"
   ]
  },
  {
   "cell_type": "code",
   "execution_count": null,
   "metadata": {
    "collapsed": true
   },
   "outputs": [],
   "source": []
  }
 ],
 "metadata": {
  "kernelspec": {
   "display_name": "Python 2",
   "language": "python",
   "name": "python2"
  },
  "language_info": {
   "codemirror_mode": {
    "name": "ipython",
    "version": 2
   },
   "file_extension": ".py",
   "mimetype": "text/x-python",
   "name": "python",
   "nbconvert_exporter": "python",
   "pygments_lexer": "ipython2",
   "version": "2.7.13"
  }
 },
 "nbformat": 4,
 "nbformat_minor": 2
}

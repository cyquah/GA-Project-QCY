{
 "cells": [
  {
   "cell_type": "code",
   "execution_count": 1,
   "metadata": {
    "collapsed": true
   },
   "outputs": [],
   "source": [
    "import pandas as pd\n",
    "import re\n",
    "import time\n",
    "from nltk.stem import PorterStemmer, WordNetLemmatizer\n",
    "from sklearn.feature_extraction.stop_words import ENGLISH_STOP_WORDS\n",
    "from nltk.corpus import stopwords\n",
    "from selenium import webdriver\n",
    "from textacy.preprocess import preprocess_text\n",
    "import nltk\n",
    "\n",
    "from bs4 import BeautifulSoup as bs"
   ]
  },
  {
   "cell_type": "code",
   "execution_count": 2,
   "metadata": {
    "scrolled": false
   },
   "outputs": [
    {
     "name": "stdout",
     "output_type": "stream",
     "text": [
      "scrapping page :  1\n",
      "href :  http://ieatishootipost.sg/kyoaji-singaporean-japanese-food/\n",
      "cleaned detail snippet :  the california roll was created over five decades ago in los angeles by che\n",
      "href :  http://ieatishootipost.sg/cabbage-yam-brown-rice-tefal-spherical-bowl-induction-rice-cooker-recipe/\n",
      "cleaned detail snippet :  here is my recipe for cabbage yam brown rice recipe which can all be made i\n",
      "href :  http://ieatishootipost.sg/springleaf-prata-railway-mall-happy-pratamen/\n",
      "cleaned detail snippet :  what is the fundamental difference between a prata and a pizza one ingredie\n",
      "href :  http://ieatishootipost.sg/wee-family-seafood-zi-char-wine-pairing/\n",
      "cleaned detail snippet :  we might be worried about the disappearance of certain hawker dishes like c\n",
      "href :  http://ieatishootipost.sg/jia-xiang-nasi-lemak-blue/\n",
      "cleaned detail snippet :  blue rice is currently the in thing its actually not a new thing but an old\n",
      "href :  http://ieatishootipost.sg/thai-style-prawn-cakes-huai-shan/\n",
      "cleaned detail snippet :  thod man goong or thai prawn cakes are one of my wifes favourite dishes whe\n",
      "href :  http://ieatishootipost.sg/yaowarat-seafood-a-bit-chinese-a-bit-thai/\n",
      "cleaned detail snippet :  i am sure most singaporeans will be familiar with the yaowarat district in \n",
      "href :  http://ieatishootipost.sg/aia-vitality-cookout-showdown-healthier-recipes-healthier/\n",
      "cleaned detail snippet :  there is nothing more important than your health you are only given one bod\n",
      "href :  http://ieatishootipost.sg/chindamani-crispy-prata-thin-crispy/\n",
      "cleaned detail snippet :  after blogging for over a decade i never thought i would come across a new \n",
      "href :  http://ieatishootipost.sg/hainanese-thai-inspired-colonial-chicken-curry-recipe-healthy-recipes-tefal/\n",
      "cleaned detail snippet :  i am excited to share with you my latest recipe creation a hainanese inspir\n",
      "href :  http://ieatishootipost.sg/jb-ah-meng-white-pepper-crabs/\n",
      "cleaned detail snippet :  jb ah meng burst into our zi char scene in number with their white pepper c\n",
      "href :  http://ieatishootipost.sg/leslies-kuih-bingka-bika-ambon-recipe-everything-need-know/\n",
      "cleaned detail snippet :  i dont know what got me started on this kuih bingkabika ambon recipe but my\n",
      "href :  http://ieatishootipost.sg/bai-nian-yong-tau-foo-successful-hawker-formula/\n",
      "cleaned detail snippet :  the formula for success in hawkerpreneurship can be summarized thus goodtas\n",
      "scrapping page :  2\n",
      "href :  http://ieatishootipost.sg/folklore-damian-dsilvas-homage-to-singapore-cuisine/\n",
      "cleaned detail snippet :  our kakis meets each wednesday to try out new places and in short folklore \n",
      "href :  http://ieatishootipost.sg/sin-kee-seafood-soup-somethings-brewing-up-north/\n",
      "cleaned detail snippet :  crayfish has been enjoying a surge of popularity in recent years with the i\n",
      "href :  http://ieatishootipost.sg/ka-soh-bib-gourmand-zi-char/\n",
      "cleaned detail snippet :  it is hard to write about an eatery when expectations are so high firstly k\n",
      "href :  http://ieatishootipost.sg/sunlok-noodle-house-feels-like-hong-kong/\n",
      "cleaned detail snippet :  this restaurant has relocated address updated\n",
      " superbowl jurong is one of t\n",
      "href :  http://ieatishootipost.sg/antoinette-infusing-hakka-flavours-to-french-food/\n",
      "cleaned detail snippet :  i have been a strong advocate for local cafes adopting more singaporean fla\n",
      "href :  http://ieatishootipost.sg/misato/\n",
      "cleaned detail snippet :  we have all come across eateries which we regard as hidden gems before thes\n",
      "href :  http://ieatishootipost.sg/hainanese-chicken-quinoa-happy-healthy-national-day/\n",
      "cleaned detail snippet :  are you familiar with quinoa its one of these superfoods that is high in fi\n",
      "href :  http://ieatishootipost.sg/scissor-cut-curry-rice-the-origins-of-scissor-cut-curry-rice/\n",
      "cleaned detail snippet :  behold the ugly gooey glorious mess that is beach road scissor cut rice tho\n",
      "href :  http://ieatishootipost.sg/lg-signature-fridge/\n",
      "cleaned detail snippet :  the time had come to retire my number year old fridge and as fate would hav\n",
      "href :  http://ieatishootipost.sg/tuan-yuan-bak-kut-teh-good-place-bak-kut-teh/\n",
      "cleaned detail snippet :  there has been spate of bak kut teh restaurants opening up in recent years \n",
      "href :  http://ieatishootipost.sg/jiangnan-lionhead-meatballs-recipe/\n",
      "cleaned detail snippet :  according to legend this dish of pork balls was first invented by a yangzho\n",
      "href :  http://ieatishootipost.sg/tiong-bahru-yong-tau-hu-handmade-fishballs/\n",
      "cleaned detail snippet :  any yong tau foo fan would know about yong xiang yong tau foo at peoples pa\n",
      "scrapping page :  3\n",
      "href :  http://ieatishootipost.sg/fu-ji-char-kway-teow-lost-and-found/\n",
      "cleaned detail snippet :  dont you think that the jalan besar area is like a treasure trove of foodie\n",
      "href :  http://ieatishootipost.sg/public-izakaya-quick-oden-guide/\n",
      "cleaned detail snippet :  what is oden the typical singaporean response would be oh its japanese yong\n",
      "href :  http://ieatishootipost.sg/ang-mo-kio-107-carrot-cake-friendliest-hawker-award/\n",
      "cleaned detail snippet :  a smile can really make your day i am not talking about just a perfunctory \n",
      "href :  http://ieatishootipost.sg/shangri-la-new-lobby-lounge-ultimate-hawker-showcase/\n",
      "cleaned detail snippet :  singapores culinary heritage is largely made up of hawker food which have e\n",
      "href :  http://ieatishootipost.sg/hong-kong-mong-kok-tim-sum-restaurant-quality-dim-sum-hawker-prices/\n",
      "cleaned detail snippet :  hong kong mong kok tim sum has been around for a number of years and has bu\n",
      "href :  http://ieatishootipost.sg/opinion-michelin-guide-2017/\n",
      "cleaned detail snippet :  now that the michelin awards have been announced and i have had some time t\n",
      "href :  http://ieatishootipost.sg/burgs-project-warung-gourmet-burger-4-50-fries/\n",
      "cleaned detail snippet :  there are two young fellas in golden mile food centre who are showing us th\n",
      "href :  http://ieatishootipost.sg/quick-and-easy-beef-rendang-with-tefal-clipso-duo-pressure-cooker/\n",
      "cleaned detail snippet :  ingredients\n",
      "group a\n",
      "shin beef 800g cut into cubes\n",
      "beef rendang premix numbe\n",
      "href :  http://ieatishootipost.sg/daddys-kitchen-come-home-dinner/\n",
      "cleaned detail snippet :  why do people always say homecooked is best well for one thing it is gettin\n",
      "href :  http://ieatishootipost.sg/simon-road-oyster-omelette-back-spot/\n",
      "cleaned detail snippet :  one of the best things about food blogging is to be able to capture bits of\n",
      "href :  http://ieatishootipost.sg/sakana-no-misoyaki-recipe/\n",
      "cleaned detail snippet :  there are a few dishes in my life which are so delicious when i first ate t\n",
      "href :  http://ieatishootipost.sg/matsuya-sushi-bar-sushi-omakase/\n",
      "cleaned detail snippet :  it has been number years since i started eating sushi like most teochew ah \n",
      "scrapping page :  4\n",
      "href :  http://ieatishootipost.sg/royal-js-premium-taste-fried-porridge-and-more/\n",
      "cleaned detail snippet :  this place is closed chef john is now at dynasty ipoh blk number bishan ave\n",
      "href :  http://ieatishootipost.sg/peranakan-khek-nonya-kueh-for-the-next-generation/\n",
      "cleaned detail snippet :  it is good to know that there is a new generation of singaporeans who are p\n",
      "href :  http://ieatishootipost.sg/aunty-oh-bamas-homecooked-indian-curries-on-hcook-app/\n",
      "cleaned detail snippet :  whenever i ask an indian friend where i can find the best indian food in si\n",
      "href :  http://ieatishootipost.sg/mango-sticky-rice-recipe/\n",
      "cleaned detail snippet :  its mango season so make the most of it by making some sticky rice to go wi\n",
      "href :  http://ieatishootipost.sg/nasi-lemak-specialist-basmati-rice/\n",
      "cleaned detail snippet :  the idea of using basmati rice for nasi lemak is not new selera rasa nasi l\n",
      "href :  http://ieatishootipost.sg/neo-bbq-seafood-origins-bbq-stingray/\n",
      "cleaned detail snippet :  my quest for the origins of singapore hawker dishes has brought me to this \n",
      "href :  http://ieatishootipost.sg/fish-soup-recipe-chef-kangs-secret-ingredient/\n",
      "cleaned detail snippet :  one of the most memorable fish soup i have ever had was at chef kangs kitch\n",
      "href :  http://ieatishootipost.sg/bakery-brera-the-evolution-of-hdb-bakeries/\n",
      "cleaned detail snippet :  it is amazing how the hdb bakery has changed over the years i still remembe\n",
      "href :  http://ieatishootipost.sg/eat-first-%e9%a3%9f%e4%b9%8b%e7%82%ba%e9%ae%ae-tale-two-brothers/\n"
     ]
    },
    {
     "name": "stdout",
     "output_type": "stream",
     "text": [
      "cleaned detail snippet :  once upon a time there was a man who ran a very successful restaurant servi\n",
      "href :  http://ieatishootipost.sg/charlies-peranakan-food-is-back/\n",
      "cleaned detail snippet :  you really cant keep a good cook out of the kitchen for too long when i las\n",
      "href :  http://ieatishootipost.sg/tomato-egg-recipe-10-min-meals/\n",
      "cleaned detail snippet :  lots of people have requested quick and easy recipes that they can put toge\n",
      "href :  http://ieatishootipost.sg/yong-he-bak-chor-seafood-noodles-surf-and-turf/\n",
      "cleaned detail snippet :  bak chor mee has always been an understated singaporean dish at least it wa\n",
      "scrapping page :  5\n",
      "href :  http://ieatishootipost.sg/si-yang-steam-soup/\n",
      "cleaned detail snippet :  it really isnt easy being a hawker imagine that you have been working hard \n",
      "href :  http://ieatishootipost.sg/uncle-lees-eating-house-yummy-sand-skin-chicken/\n",
      "cleaned detail snippet :  i think the challenge for anyone entering the zi char business is to be abl\n",
      "href :  http://ieatishootipost.sg/hong-kong-style-kitchen-%e6%b8%af%e5%bc%8f%e5%b0%8f%e7%82%92-cheap-and-good-zi-char/\n",
      "cleaned detail snippet :  if i told you that there is a place in singapore that is run by a hong kong\n",
      "href :  http://ieatishootipost.sg/asahikawa-and-higashikawa-things-to-do-food-to-eat/\n",
      "cleaned detail snippet :  read part number of our hokkaido trip here after our stay at hoshino resort\n",
      "href :  http://ieatishootipost.sg/linas-confectionery-good-olde-nonya-kueh/\n",
      "cleaned detail snippet :  my friend renton brought a box of these nonya kueh for our bible study grou\n",
      "href :  http://ieatishootipost.sg/kims-kuehs-the-end-of-teochew-kuehs/\n",
      "cleaned detail snippet :  i really hate to be a naysayer i really do but just as i said that it is th\n",
      "href :  http://ieatishootipost.sg/hoshino-resorts-tomamu-hokkaido-ski-trip/\n",
      "cleaned detail snippet :  i have a confession to make i dont like the cold i dont like to wake up in \n",
      "href :  http://ieatishootipost.sg/hana-hana-cheap-good-omakase/\n",
      "cleaned detail snippet :  cheap is relative spending usdnumber on a meal isnt cheap especially when y\n",
      "href :  http://ieatishootipost.sg/claypot-chicken-rice-recipe/\n",
      "cleaned detail snippet :  claypot chicken rice is actually very easy to cook at home it only takes nu\n",
      "href :  http://ieatishootipost.sg/hong-yun-seafood-seafood-white-bee-hoon-dry/\n",
      "cleaned detail snippet :  i happened to chance upon this zi char in toa payoh one evening while looki\n",
      "href :  http://ieatishootipost.sg/hainanese-pork-chop-recipe/\n",
      "cleaned detail snippet :  i am starting my hainanese curry rice series with this hainanese pork chop \n",
      "href :  http://ieatishootipost.sg/cut-wolfgang-puck-highland-beef/\n",
      "cleaned detail snippet :  about four years ago i picked up a book from the library that was simply ti\n",
      "scrapping page :  6\n",
      "href :  http://ieatishootipost.sg/sinn-ji-chicken-rice/\n",
      "cleaned detail snippet :  there has been much debate about how to preserve our hawker culture one ide\n",
      "href :  http://ieatishootipost.sg/roots-and-wings-project/\n",
      "cleaned detail snippet :  it is heartening to see the joyful faces of the kids in our root n wings pr\n",
      "href :  http://ieatishootipost.sg/leslie-char-siu-recipe/\n",
      "cleaned detail snippet :  after number years of research trials and failures i have finally succeeded\n",
      "href :  http://ieatishootipost.sg/benson-salted-duck-rice/\n",
      "cleaned detail snippet :  yes i know what you are thinking white duck like this nice meh honestly i s\n",
      "href :  http://ieatishootipost.sg/soon-heng-hot-cold-desserts/\n",
      "cleaned detail snippet :  our hawkers are really a big part of our lives here in singapore dont you t\n",
      "href :  http://ieatishootipost.sg/japanese-butchery-cold-storage-takashimaya/\n",
      "cleaned detail snippet :  i remember the very first time i had a slice of japanese wagyu it was one o\n",
      "href :  http://ieatishootipost.sg/braised-pork-belly-teriyaki-beer-sauce/\n",
      "cleaned detail snippet :  a slice of slow cooked braised pork belly must be one of the most sublime t\n",
      "href :  http://ieatishootipost.sg/vlv-modern-chinese-fine-dining/\n",
      "cleaned detail snippet :  in case you are wondering vlv is short for nothing the three letters dont s\n",
      "href :  http://ieatishootipost.sg/paradise-classic-classy-zi-char-food/\n",
      "cleaned detail snippet :  as a general rule i dont like to write about restaurant chains i think what\n",
      "href :  http://ieatishootipost.sg/teriyaki-chicken-recipe/\n",
      "cleaned detail snippet :  i promised a university student in the uk last year that i would publish a \n",
      "href :  http://ieatishootipost.sg/seafood-white-beehoon-recipe/\n",
      "cleaned detail snippet :  seafood white beehoon is all the rage now it was first made popular by you \n",
      "href :  http://ieatishootipost.sg/lee-do-restaurant-fuzhou-food/\n",
      "cleaned detail snippet :  i must have walked past lee do restaurant countless of times whenever i vis\n",
      "scrapping page :  7\n",
      "href :  http://ieatishootipost.sg/star-yong-kwang-bbq-seafood/\n",
      "cleaned detail snippet :  i remember my first encounter with the bbq stingray it was in a little coff\n",
      "href :  http://ieatishootipost.sg/tefal-cookoff-chilli-crabs-recipe/\n",
      "cleaned detail snippet :  here is the improved version of my chilli crab recipe as i mentioned in my \n",
      "href :  http://ieatishootipost.sg/liang-zhao-ji-braised-duck/\n",
      "cleaned detail snippet :  if a foreigner were to ask you which are the most iconic singaporean dishes\n",
      "href :  http://ieatishootipost.sg/hashida-sushi/\n",
      "cleaned detail snippet :  i first met kenjiro hatch hashida back in number when he had just opened ha\n",
      "href :  http://ieatishootipost.sg/lobster-ee-meen-recipe/\n",
      "cleaned detail snippet :  chinese new year is the time where to we can gather and bless each other wi\n",
      "href :  http://ieatishootipost.sg/original-katong-laksa/\n",
      "cleaned detail snippet :  we are living in the days of fake news fake food fake brands and fake accol\n",
      "href :  http://ieatishootipost.sg/top-10-singapore-food-finds-2016/\n",
      "cleaned detail snippet :  this year is quite special for me as it marks number years of eating shooti\n",
      "href :  http://ieatishootipost.sg/easy-recipe-christmas-leftovers/\n",
      "cleaned detail snippet :  the most wonderful time of the year is upon us again and i am sure we are a\n",
      "href :  http://ieatishootipost.sg/hokkaido-izakaya/\n",
      "cleaned detail snippet :  with its harsh winters remote location and pristine waters hokkaido has gai\n",
      "href :  http://ieatishootipost.sg/leslies-fried-chicken-recipe/\n",
      "cleaned detail snippet :  in this post i am going to present to you the final recipe for my fried chi\n",
      "href :  http://ieatishootipost.sg/wah-kee-prawn-mee/\n",
      "cleaned detail snippet :  singapores hawker food scene has really coming of age of late we are seeing\n",
      "href :  http://ieatishootipost.sg/christmas-tree-kaya-french-toast/\n",
      "cleaned detail snippet :  its christmas time again so here is a fun little recipe for christmas which\n",
      "Time taken : 28.918172284  minutes\n",
      "85\n"
     ]
    }
   ],
   "source": [
    "start = time.time()\n",
    "\n",
    "wd = webdriver.Chrome()\n",
    "\n",
    "b_summary = []\n",
    "b_detail = []\n",
    "b_date = []\n",
    "b_summary_clean = []\n",
    "b_detail_clean = []\n",
    "\n",
    "for i in range(1,8):\n",
    "    print 'scrapping page : ', i\n",
    "    url = 'http://ieatishootipost.sg/page/' + str(i) + '/'   \n",
    "\n",
    "    try:\n",
    "        wd.get(url)\n",
    "    except:\n",
    "        continue\n",
    "    response = wd.page_source\n",
    "    soup = bs(response, 'html.parser')\n",
    "    \n",
    "    try:\n",
    "        blogs = soup.find_all('h3', {'class' : 'entry-title'})\n",
    "    except:\n",
    "        continue\n",
    "        \n",
    "    for summary in blogs:\n",
    "        try:\n",
    "            href = summary.find('a').get('href')\n",
    "            print 'href : ', href\n",
    "        except:\n",
    "            continue            \n",
    "        \n",
    "        try:\n",
    "            wd.get(href)\n",
    "        except:\n",
    "            continue\n",
    "        \n",
    "        r = wd.page_source\n",
    "        s = bs(r, 'html.parser')\n",
    "\n",
    "        # find date\n",
    "        try:\n",
    "            date = s.find('div', {'class' : 'article-date'}).text[11:]\n",
    "        except:\n",
    "            continue\n",
    "            \n",
    "        # find detail\n",
    "        try:\n",
    "            y = s.find('div', {'class' : \"article-content\"}).find_all('p')\n",
    "        except:\n",
    "            continue\n",
    "        doc = []\n",
    "        for p in y:\n",
    "            if p.text:\n",
    "                doc.append(p.text)\n",
    "        d = ' '.join(doc)\n",
    "\n",
    "        b_summary.append(summary.text)\n",
    "        b_detail.append(d)\n",
    "        b_date.append(date)\n",
    "        \n",
    "        # clean summary and detail \n",
    "        clean_summary = preprocess_text(summary.text, fix_unicode=True, lowercase=True, transliterate=True, \n",
    "                                                no_numbers=True, no_urls=True, no_emails=True, no_phone_numbers=True, \n",
    "                                                no_currency_symbols=True, no_punct=True, no_accents=True)\n",
    "        \n",
    "        clean_detail = preprocess_text(d, fix_unicode=True, lowercase=True, transliterate=True, \n",
    "                                                no_numbers=True, no_urls=True, no_emails=True, no_phone_numbers=True, \n",
    "                                                no_currency_symbols=True, no_punct=True, no_accents=True)\n",
    "        \n",
    "        b_summary_clean.append(clean_summary)\n",
    "        b_detail_clean.append(clean_detail)\n",
    "        \n",
    "        print 'cleaned detail snippet : ', clean_detail[:75]\n",
    "        \n",
    "end = time.time()\n",
    "exe_time = (end - start)/60\n",
    "print 'Time taken :',(exe_time),' minutes'\n",
    "\n",
    "print len(b_date)"
   ]
  },
  {
   "cell_type": "code",
   "execution_count": 3,
   "metadata": {
    "collapsed": true
   },
   "outputs": [],
   "source": [
    "# remove stop words from cleaned summary and cleaned detail and lemmatize them\n",
    "\n",
    "stoplist = set(stopwords.words('english') + \\\n",
    "               ['number',\"singapore\", \"food\", \"im\", \"street\", \n",
    "                'porn','watch', 'video', 'centre', '...',\n",
    "                'eat', 'day', 'time', 'cdataadsbygoogle', 'windowadsbygoogle',\n",
    "                'wa', 'ha', 'come', 'place', 'dish', 'bring', 'think', 'quite','located',\n",
    "                'month', 'went', 'probably', 'am', 'pm', 'say', 'said','including','year','item',\n",
    "                'youre', 'sure', 'dont', 'came','really', 'got', 'thing', 'address', 'photo',\n",
    "                'credit', 'opening', 'hour'] \\\n",
    "                 + list(ENGLISH_STOP_WORDS))"
   ]
  },
  {
   "cell_type": "code",
   "execution_count": 4,
   "metadata": {},
   "outputs": [
    {
     "name": "stdout",
     "output_type": "stream",
     "text": [
      "Time taken : 1.26762986183  seconds\n",
      "85\n",
      "85\n"
     ]
    }
   ],
   "source": [
    "start = time.time()\n",
    "\n",
    "summary_tokens = []\n",
    "for item in b_summary_clean:  \n",
    "    try:\n",
    "        Tokens = nltk.word_tokenize(item)\n",
    "        t = [tok for tok in Tokens if tok not in stoplist]\n",
    "    except:\n",
    "        continue\n",
    "    summary_tokens.append(t)\n",
    "    \n",
    "detail_tokens = []\n",
    "for item in b_detail_clean:  \n",
    "    try:\n",
    "        Tokens = nltk.word_tokenize(item)\n",
    "        t = [tok for tok in Tokens if tok not in stoplist]\n",
    "    except:\n",
    "        continue\n",
    "    detail_tokens.append(t)   \n",
    "\n",
    "    \n",
    "end = time.time()\n",
    "exe_time = end - start\n",
    "print 'Time taken :',(exe_time),' seconds'\n",
    "    \n",
    "print len(summary_tokens)\n",
    "print len(detail_tokens)"
   ]
  },
  {
   "cell_type": "code",
   "execution_count": 5,
   "metadata": {},
   "outputs": [
    {
     "name": "stdout",
     "output_type": "stream",
     "text": [
      "Time taken : 13.9090979099  seconds\n",
      "85\n",
      "85\n"
     ]
    }
   ],
   "source": [
    "start = time.time()\n",
    "\n",
    "summary_lem =[]\n",
    "wnl = WordNetLemmatizer()\n",
    "for item in summary_tokens:\n",
    "    t = \" \".join([wnl.lemmatize(i) for i in item])\n",
    "    summary_lem.append(t) \n",
    "    \n",
    "detail_lem =[]\n",
    "wnl = WordNetLemmatizer()\n",
    "for item in detail_tokens:\n",
    "    t = \" \".join([wnl.lemmatize(i) for i in item])\n",
    "    detail_lem.append(t)     \n",
    "   \n",
    "end = time.time()\n",
    "exe_time = end - start\n",
    "print 'Time taken :',(exe_time),' seconds'\n",
    "\n",
    "print len(summary_lem)\n",
    "print len(detail_lem)"
   ]
  },
  {
   "cell_type": "code",
   "execution_count": 6,
   "metadata": {
    "collapsed": true
   },
   "outputs": [],
   "source": [
    "# create final list to fit in dataframe\n",
    "flist = []\n",
    "for i in range(len(b_summary)):\n",
    "    f = [b_summary[i], b_detail[i], b_date[i], summary_lem[i], detail_lem[i]]\n",
    "    flist.append(f)"
   ]
  },
  {
   "cell_type": "code",
   "execution_count": 7,
   "metadata": {},
   "outputs": [
    {
     "data": {
      "text/html": [
       "<div>\n",
       "<style>\n",
       "    .dataframe thead tr:only-child th {\n",
       "        text-align: right;\n",
       "    }\n",
       "\n",
       "    .dataframe thead th {\n",
       "        text-align: left;\n",
       "    }\n",
       "\n",
       "    .dataframe tbody tr th {\n",
       "        vertical-align: top;\n",
       "    }\n",
       "</style>\n",
       "<table border=\"1\" class=\"dataframe\">\n",
       "  <thead>\n",
       "    <tr style=\"text-align: right;\">\n",
       "      <th></th>\n",
       "      <th>Title</th>\n",
       "      <th>Details</th>\n",
       "      <th>Date</th>\n",
       "      <th>Processed Summary</th>\n",
       "      <th>Processed Detail</th>\n",
       "    </tr>\n",
       "  </thead>\n",
       "  <tbody>\n",
       "    <tr>\n",
       "      <th>80</th>\n",
       "      <td>Easy Recipe Ideas for Christmas Leftovers</td>\n",
       "      <td>the most wonderful time of the year is upon us...</td>\n",
       "      <td>December 22, 2016</td>\n",
       "      <td>easy recipe idea christmas leftover</td>\n",
       "      <td>wonderful looking forward spending family frie...</td>\n",
       "    </tr>\n",
       "    <tr>\n",
       "      <th>81</th>\n",
       "      <td>Hokkaido Izakaya: Yummy Hokkaido Food</td>\n",
       "      <td>with its harsh winters, remote location and pr...</td>\n",
       "      <td>December 20, 2016</td>\n",
       "      <td>hokkaido izakaya yummy hokkaido</td>\n",
       "      <td>harsh winter remote location pristine water ho...</td>\n",
       "    </tr>\n",
       "    <tr>\n",
       "      <th>82</th>\n",
       "      <td>Leslie’s Fried Chicken (LFC) Recipe</td>\n",
       "      <td>in this post, i am going to present to you the...</td>\n",
       "      <td>December 16, 2016</td>\n",
       "      <td>leslies fried chicken lfc recipe</td>\n",
       "      <td>post going present final recipe fried chicken ...</td>\n",
       "    </tr>\n",
       "    <tr>\n",
       "      <th>83</th>\n",
       "      <td>Wah Kee Prawn Mee: The Next Generation</td>\n",
       "      <td>singapore’s hawker food scene has really comin...</td>\n",
       "      <td>December 13, 2016</td>\n",
       "      <td>wah kee prawn mee generation</td>\n",
       "      <td>singapore hawker scene coming age late seeing ...</td>\n",
       "    </tr>\n",
       "    <tr>\n",
       "      <th>84</th>\n",
       "      <td>Christmas Tree Kaya French Toast Recipe!</td>\n",
       "      <td>it’s christmas time again so here is a fun lit...</td>\n",
       "      <td>December 12, 2016</td>\n",
       "      <td>christmas tree kaya french toast recipe</td>\n",
       "      <td>christmas fun little recipe christmas kid invo...</td>\n",
       "    </tr>\n",
       "  </tbody>\n",
       "</table>\n",
       "</div>"
      ],
      "text/plain": [
       "                                        Title  \\\n",
       "80  Easy Recipe Ideas for Christmas Leftovers   \n",
       "81      Hokkaido Izakaya: Yummy Hokkaido Food   \n",
       "82        Leslie’s Fried Chicken (LFC) Recipe   \n",
       "83     Wah Kee Prawn Mee: The Next Generation   \n",
       "84   Christmas Tree Kaya French Toast Recipe!   \n",
       "\n",
       "                                              Details               Date  \\\n",
       "80  the most wonderful time of the year is upon us...  December 22, 2016   \n",
       "81  with its harsh winters, remote location and pr...  December 20, 2016   \n",
       "82  in this post, i am going to present to you the...  December 16, 2016   \n",
       "83  singapore’s hawker food scene has really comin...  December 13, 2016   \n",
       "84  it’s christmas time again so here is a fun lit...  December 12, 2016   \n",
       "\n",
       "                          Processed Summary  \\\n",
       "80      easy recipe idea christmas leftover   \n",
       "81          hokkaido izakaya yummy hokkaido   \n",
       "82         leslies fried chicken lfc recipe   \n",
       "83             wah kee prawn mee generation   \n",
       "84  christmas tree kaya french toast recipe   \n",
       "\n",
       "                                     Processed Detail  \n",
       "80  wonderful looking forward spending family frie...  \n",
       "81  harsh winter remote location pristine water ho...  \n",
       "82  post going present final recipe fried chicken ...  \n",
       "83  singapore hawker scene coming age late seeing ...  \n",
       "84  christmas fun little recipe christmas kid invo...  "
      ]
     },
     "execution_count": 7,
     "metadata": {},
     "output_type": "execute_result"
    }
   ],
   "source": [
    "df = pd.DataFrame(flist, columns = ['Title', 'Details', 'Date', 'Processed Summary', 'Processed Detail'])  \n",
    "df.tail()"
   ]
  },
  {
   "cell_type": "code",
   "execution_count": 8,
   "metadata": {},
   "outputs": [
    {
     "data": {
      "text/plain": [
       "85"
      ]
     },
     "execution_count": 8,
     "metadata": {},
     "output_type": "execute_result"
    }
   ],
   "source": [
    "len(df)"
   ]
  },
  {
   "cell_type": "code",
   "execution_count": 9,
   "metadata": {
    "collapsed": true
   },
   "outputs": [],
   "source": [
    "df.drop_duplicates(inplace=True)"
   ]
  },
  {
   "cell_type": "code",
   "execution_count": 10,
   "metadata": {},
   "outputs": [
    {
     "data": {
      "text/plain": [
       "85"
      ]
     },
     "execution_count": 10,
     "metadata": {},
     "output_type": "execute_result"
    }
   ],
   "source": [
    "len(df)"
   ]
  },
  {
   "cell_type": "code",
   "execution_count": 11,
   "metadata": {},
   "outputs": [
    {
     "name": "stdout",
     "output_type": "stream",
     "text": [
      "we might be worried about the disappearance of certain hawker dishes like char kway teow or satay beehoon, but not zi char.  zi char is alive and well and it is easy to understand why.  whereas singaporeans would complain about a plate of char kway teow which costs $6, no one blinks an eye at a plate of fried vegetables with oyster sauce that costs $8 at the zi char.  zi char is good business, which is why there are a lot of zi char out there.  the real challenge with zi char operators is how to come up with a few signature dishes which will help them stand out from the crowd. most zi char stalls serve a handful of tried and tested dishes which is usually a combination of fried proteins viz pork, chicken, tofu, prawns, squid etc in combination with a sauce, eg salted egg, coffee, sweet and sour etc.  most will also do a fish head curry and some fried carbs like fried rice, beehoon, hor fun or noodles.  when you visit a typical neighbourhood zi char, you would probably end up ordering the same few dishes! our makan group has been meeting regularly for a zi char meal for the last few years and after a while, the meal does feel a bit repetitive.  most places do their fried stuff quite competently and it is difficult to differentiate the hae zhor of one zi char from another.  i haven’t really come across one that was infamously bad, but neither have i found one that is so amazing that i could tag it with a “really must try” label!    what i am trying to get at is this:  in order to stand out in the crowded zi char marketplace,  what zi char owners need to do is find something that really makes them stand out. wee family seafood has managed to do just that.  the owner, milton wee,  happens to own a wine boutique and so one of the things he is able to do is to cater to wine lovers who are looking to pair their wines with zi char food. milton has also capitalized on his exposure to fine dining during his early days as a banker to give his dishes a different twist. take his crispy fried pork knuckle for example.  unlike other places that braise their pork knuckle to soften the meat before deep frying, he uses a pork knuckle which has been cured and smoked first.  as a result, the pork knuckle has a texture akin to that of a ham.  the smoke flavour was not as pronounced as i would have liked, but the meat was moist and the skin was crispy.  i won’t say it’s the best crispy pork knuckle i have come across, but it is certainly different pairs very well with a oak chardonnay or a nice shiraz  4.25/5   another dish is the red wine pork ribs which is the result excess bottles of red wine in his storeroom.  the pork ribs are marinated in red wine, then fried and glazed with a red wine reduction made from a bordeaux or cabernet merlot.  you can’t really make out the flavour of the wine in the dish, but it does give the ribs a unique flavour that you can’t find at other zi char.  3.75/5 the dish that did it for me was the salted egg crayfish.  most zi char will capitalize on the shells of the crayfish because they make up 2/3 of its total weight.  so you can have a more substantial looking plate if you leave the shells on.  however,  i find that crays actually taste better if you simply deep fry the meat in a light batter.  i think a lot has to do with the cooking time.  with the shells on, most cooks tend to over cook the meat.  deep frying the meat alone results in a meat that is much more moist and juicy.  the salted egg sauce is also very good at wee’s.  they use fresh crayfish procured from the market and real salted egg yolks to make the dish rather than frozen crayfish and the widely available salted egg powder.  it’s a difference you can easily taste!  4.5/5 the kakis alsol liked the hakka mee sua which was one of the few dishes that can be said to be vegetarian.  milton tells me that he has a group of friends who meet together regularly and one of them doesn’t eat seafood!  so, he and his chef came up with this dish which uses a thick mee sua that has a nice springy texture.  it’s accompanied by a sauce made with century, salted and fresh eggs and two types of mushrooms. it’s actually quite nice, despite it being a vegetarian dish.  worth trying!  4/5 conclusion\n",
      "\n",
      "there is a growing trend of zi chars that are opened by professionals who have made mid life transitions to the food business.  they would often serve dishes which they themselves like to eat which often reflect their own travels.  as a result, our zi char scene is becoming more globalized with places like new ubin seafood introducing ribeye steaks and carabinero prawns.  wee’s family seafood has carved a niche for itself by focusing on the market of wine lovers seeking to enjoy their bottle with zi char food.  however, even if you are not opening a bottle, you will still find a good zi char meal here with 9 dishes for about $20-$30 per pax.\n"
     ]
    }
   ],
   "source": [
    "x = df.iloc[3,1]\n",
    "print x"
   ]
  },
  {
   "cell_type": "code",
   "execution_count": 12,
   "metadata": {
    "collapsed": true
   },
   "outputs": [],
   "source": [
    "# pickle dataframe\n",
    "df.to_pickle('ieatishoot.pickle')"
   ]
  },
  {
   "cell_type": "code",
   "execution_count": 13,
   "metadata": {
    "collapsed": true
   },
   "outputs": [],
   "source": [
    "wd.quit()"
   ]
  }
 ],
 "metadata": {
  "kernelspec": {
   "display_name": "Python 2",
   "language": "python",
   "name": "python2"
  },
  "language_info": {
   "codemirror_mode": {
    "name": "ipython",
    "version": 2
   },
   "file_extension": ".py",
   "mimetype": "text/x-python",
   "name": "python",
   "nbconvert_exporter": "python",
   "pygments_lexer": "ipython2",
   "version": "2.7.13"
  }
 },
 "nbformat": 4,
 "nbformat_minor": 2
}

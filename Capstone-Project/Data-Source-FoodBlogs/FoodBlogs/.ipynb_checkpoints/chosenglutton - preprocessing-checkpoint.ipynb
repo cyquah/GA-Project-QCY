{
 "cells": [
  {
   "cell_type": "code",
   "execution_count": 1,
   "metadata": {
    "collapsed": true
   },
   "outputs": [],
   "source": [
    "import pandas as pd\n",
    "from textblob import TextBlob, Word\n",
    "from nltk.stem import PorterStemmer, WordNetLemmatizer"
   ]
  },
  {
   "cell_type": "code",
   "execution_count": 2,
   "metadata": {
    "collapsed": true
   },
   "outputs": [],
   "source": [
    "df = pd.read_csv('chosenglutton.csv', index_col=0)"
   ]
  },
  {
   "cell_type": "code",
   "execution_count": 3,
   "metadata": {},
   "outputs": [
    {
     "data": {
      "text/html": [
       "<div>\n",
       "<style>\n",
       "    .dataframe thead tr:only-child th {\n",
       "        text-align: right;\n",
       "    }\n",
       "\n",
       "    .dataframe thead th {\n",
       "        text-align: left;\n",
       "    }\n",
       "\n",
       "    .dataframe tbody tr th {\n",
       "        vertical-align: top;\n",
       "    }\n",
       "</style>\n",
       "<table border=\"1\" class=\"dataframe\">\n",
       "  <thead>\n",
       "    <tr style=\"text-align: right;\">\n",
       "      <th></th>\n",
       "      <th>Title</th>\n",
       "      <th>Details</th>\n",
       "      <th>Date</th>\n",
       "    </tr>\n",
       "  </thead>\n",
       "  <tbody>\n",
       "    <tr>\n",
       "      <th>0</th>\n",
       "      <td>Ramen Champion @ Central Clarke Quay: Level 20...</td>\n",
       "      <td>ramen champion  central clarke quay i cant bel...</td>\n",
       "      <td>August 27, 2017</td>\n",
       "    </tr>\n",
       "    <tr>\n",
       "      <th>1</th>\n",
       "      <td>The Lime Truck: Los Angeles Food Truck Offers ...</td>\n",
       "      <td>celebrity chef daniel shemtob flown in from ha...</td>\n",
       "      <td>August 24, 2017</td>\n",
       "    </tr>\n",
       "    <tr>\n",
       "      <th>2</th>\n",
       "      <td>Maison Ikkoku Bar: Happy 6th Birthday Special ...</td>\n",
       "      <td>maison ikkoku bar th birthday special king pra...</td>\n",
       "      <td>July 1, 2017</td>\n",
       "    </tr>\n",
       "    <tr>\n",
       "      <th>3</th>\n",
       "      <td>Marriott Café @ Singapore Marriott Tang Plaza ...</td>\n",
       "      <td>one fruit many form its durian season again an...</td>\n",
       "      <td>June 14, 2017</td>\n",
       "    </tr>\n",
       "    <tr>\n",
       "      <th>4</th>\n",
       "      <td>The Disgruntled Brasserie: 5-Course Weekend Br...</td>\n",
       "      <td>the disgruntled brasserie a sister outlet of t...</td>\n",
       "      <td>May 22, 2017</td>\n",
       "    </tr>\n",
       "  </tbody>\n",
       "</table>\n",
       "</div>"
      ],
      "text/plain": [
       "                                               Title  \\\n",
       "0  Ramen Champion @ Central Clarke Quay: Level 20...   \n",
       "1  The Lime Truck: Los Angeles Food Truck Offers ...   \n",
       "2  Maison Ikkoku Bar: Happy 6th Birthday Special ...   \n",
       "3  Marriott Café @ Singapore Marriott Tang Plaza ...   \n",
       "4  The Disgruntled Brasserie: 5-Course Weekend Br...   \n",
       "\n",
       "                                             Details             Date  \n",
       "0  ramen champion  central clarke quay i cant bel...  August 27, 2017  \n",
       "1  celebrity chef daniel shemtob flown in from ha...  August 24, 2017  \n",
       "2  maison ikkoku bar th birthday special king pra...     July 1, 2017  \n",
       "3  one fruit many form its durian season again an...    June 14, 2017  \n",
       "4  the disgruntled brasserie a sister outlet of t...     May 22, 2017  "
      ]
     },
     "execution_count": 3,
     "metadata": {},
     "output_type": "execute_result"
    }
   ],
   "source": [
    "df.head()"
   ]
  },
  {
   "cell_type": "code",
   "execution_count": 4,
   "metadata": {
    "collapsed": true
   },
   "outputs": [],
   "source": [
    "details = df['Details']"
   ]
  },
  {
   "cell_type": "code",
   "execution_count": 5,
   "metadata": {},
   "outputs": [
    {
     "name": "stdout",
     "output_type": "stream",
     "text": [
      "Time taken : 2.45759296417  seconds\n"
     ]
    }
   ],
   "source": [
    "import time\n",
    "\n",
    "start = time.time()\n",
    "\n",
    "lemma_check =[]\n",
    "wnl = WordNetLemmatizer()\n",
    "for item in details:\n",
    "    item = str(item).decode('utf-8')\n",
    "    t = \" \".join([wnl.lemmatize(i) for i in item.split()])\n",
    "    lemma_check.append(t) \n",
    "    \n",
    "end = time.time()\n",
    "exe_time = end - start\n",
    "print 'Time taken :',(exe_time),' seconds'"
   ]
  },
  {
   "cell_type": "code",
   "execution_count": 6,
   "metadata": {
    "collapsed": true
   },
   "outputs": [],
   "source": [
    "word_count = []\n",
    "for lemma in lemma_check:\n",
    "    count = len(lemma.split())\n",
    "    word_count.append(count)"
   ]
  },
  {
   "cell_type": "code",
   "execution_count": 7,
   "metadata": {
    "collapsed": true
   },
   "outputs": [],
   "source": [
    "df['Details_processed'] = lemma_check"
   ]
  },
  {
   "cell_type": "code",
   "execution_count": 8,
   "metadata": {},
   "outputs": [
    {
     "data": {
      "text/plain": [
       "9731"
      ]
     },
     "execution_count": 8,
     "metadata": {},
     "output_type": "execute_result"
    }
   ],
   "source": [
    "df['Word_count'] = word_count\n",
    "sum(df['Word_count'])"
   ]
  },
  {
   "cell_type": "code",
   "execution_count": 9,
   "metadata": {},
   "outputs": [
    {
     "name": "stdout",
     "output_type": "stream",
     "text": [
      "Total number of records : 14\n",
      "Total number of words : 9731\n",
      "Average no. of words per record : 695\n"
     ]
    }
   ],
   "source": [
    "print 'Total number of records :', len(df)\n",
    "print 'Total number of words :', sum(df['Word_count'])\n",
    "print 'Average no. of words per record :', sum(df['Word_count'])/len(df)"
   ]
  },
  {
   "cell_type": "code",
   "execution_count": 10,
   "metadata": {},
   "outputs": [
    {
     "data": {
      "text/html": [
       "<div>\n",
       "<style>\n",
       "    .dataframe thead tr:only-child th {\n",
       "        text-align: right;\n",
       "    }\n",
       "\n",
       "    .dataframe thead th {\n",
       "        text-align: left;\n",
       "    }\n",
       "\n",
       "    .dataframe tbody tr th {\n",
       "        vertical-align: top;\n",
       "    }\n",
       "</style>\n",
       "<table border=\"1\" class=\"dataframe\">\n",
       "  <thead>\n",
       "    <tr style=\"text-align: right;\">\n",
       "      <th></th>\n",
       "      <th>Title</th>\n",
       "      <th>Details</th>\n",
       "      <th>Date</th>\n",
       "      <th>Details_processed</th>\n",
       "      <th>Word_count</th>\n",
       "    </tr>\n",
       "  </thead>\n",
       "  <tbody>\n",
       "    <tr>\n",
       "      <th>0</th>\n",
       "      <td>Ramen Champion @ Central Clarke Quay: Level 20...</td>\n",
       "      <td>ramen champion  central clarke quay i cant bel...</td>\n",
       "      <td>August 27, 2017</td>\n",
       "      <td>ramen champion central clarke quay i cant beli...</td>\n",
       "      <td>639</td>\n",
       "    </tr>\n",
       "    <tr>\n",
       "      <th>1</th>\n",
       "      <td>The Lime Truck: Los Angeles Food Truck Offers ...</td>\n",
       "      <td>celebrity chef daniel shemtob flown in from ha...</td>\n",
       "      <td>August 24, 2017</td>\n",
       "      <td>celebrity chef daniel shemtob flown in from ha...</td>\n",
       "      <td>942</td>\n",
       "    </tr>\n",
       "    <tr>\n",
       "      <th>2</th>\n",
       "      <td>Maison Ikkoku Bar: Happy 6th Birthday Special ...</td>\n",
       "      <td>maison ikkoku bar th birthday special king pra...</td>\n",
       "      <td>July 1, 2017</td>\n",
       "      <td>maison ikkoku bar th birthday special king pra...</td>\n",
       "      <td>176</td>\n",
       "    </tr>\n",
       "    <tr>\n",
       "      <th>3</th>\n",
       "      <td>Marriott Café @ Singapore Marriott Tang Plaza ...</td>\n",
       "      <td>one fruit many form its durian season again an...</td>\n",
       "      <td>June 14, 2017</td>\n",
       "      <td>one fruit many form it durian season again and...</td>\n",
       "      <td>297</td>\n",
       "    </tr>\n",
       "    <tr>\n",
       "      <th>4</th>\n",
       "      <td>The Disgruntled Brasserie: 5-Course Weekend Br...</td>\n",
       "      <td>the disgruntled brasserie a sister outlet of t...</td>\n",
       "      <td>May 22, 2017</td>\n",
       "      <td>the disgruntled brasserie a sister outlet of t...</td>\n",
       "      <td>661</td>\n",
       "    </tr>\n",
       "  </tbody>\n",
       "</table>\n",
       "</div>"
      ],
      "text/plain": [
       "                                               Title  \\\n",
       "0  Ramen Champion @ Central Clarke Quay: Level 20...   \n",
       "1  The Lime Truck: Los Angeles Food Truck Offers ...   \n",
       "2  Maison Ikkoku Bar: Happy 6th Birthday Special ...   \n",
       "3  Marriott Café @ Singapore Marriott Tang Plaza ...   \n",
       "4  The Disgruntled Brasserie: 5-Course Weekend Br...   \n",
       "\n",
       "                                             Details             Date  \\\n",
       "0  ramen champion  central clarke quay i cant bel...  August 27, 2017   \n",
       "1  celebrity chef daniel shemtob flown in from ha...  August 24, 2017   \n",
       "2  maison ikkoku bar th birthday special king pra...     July 1, 2017   \n",
       "3  one fruit many form its durian season again an...    June 14, 2017   \n",
       "4  the disgruntled brasserie a sister outlet of t...     May 22, 2017   \n",
       "\n",
       "                                   Details_processed  Word_count  \n",
       "0  ramen champion central clarke quay i cant beli...         639  \n",
       "1  celebrity chef daniel shemtob flown in from ha...         942  \n",
       "2  maison ikkoku bar th birthday special king pra...         176  \n",
       "3  one fruit many form it durian season again and...         297  \n",
       "4  the disgruntled brasserie a sister outlet of t...         661  "
      ]
     },
     "execution_count": 10,
     "metadata": {},
     "output_type": "execute_result"
    }
   ],
   "source": [
    "df.head()"
   ]
  },
  {
   "cell_type": "code",
   "execution_count": 11,
   "metadata": {
    "collapsed": true
   },
   "outputs": [],
   "source": [
    "f = 'chosenglutton.csv'\n",
    "df.to_csv(f, encoding='utf-8')"
   ]
  },
  {
   "cell_type": "code",
   "execution_count": null,
   "metadata": {
    "collapsed": true
   },
   "outputs": [],
   "source": []
  }
 ],
 "metadata": {
  "kernelspec": {
   "display_name": "Python 2",
   "language": "python",
   "name": "python2"
  },
  "language_info": {
   "codemirror_mode": {
    "name": "ipython",
    "version": 2
   },
   "file_extension": ".py",
   "mimetype": "text/x-python",
   "name": "python",
   "nbconvert_exporter": "python",
   "pygments_lexer": "ipython2",
   "version": "2.7.13"
  }
 },
 "nbformat": 4,
 "nbformat_minor": 2
}

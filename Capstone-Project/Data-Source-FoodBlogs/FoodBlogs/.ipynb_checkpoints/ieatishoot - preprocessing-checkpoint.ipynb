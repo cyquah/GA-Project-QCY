{
 "cells": [
  {
   "cell_type": "code",
   "execution_count": 1,
   "metadata": {
    "collapsed": true
   },
   "outputs": [],
   "source": [
    "import pandas as pd\n",
    "from textblob import TextBlob, Word\n",
    "from nltk.stem import PorterStemmer, WordNetLemmatizer"
   ]
  },
  {
   "cell_type": "code",
   "execution_count": 2,
   "metadata": {
    "collapsed": true
   },
   "outputs": [],
   "source": [
    "df = pd.read_csv('ieatishoot.csv', index_col=0)"
   ]
  },
  {
   "cell_type": "code",
   "execution_count": 3,
   "metadata": {},
   "outputs": [
    {
     "data": {
      "text/html": [
       "<div>\n",
       "<style>\n",
       "    .dataframe thead tr:only-child th {\n",
       "        text-align: right;\n",
       "    }\n",
       "\n",
       "    .dataframe thead th {\n",
       "        text-align: left;\n",
       "    }\n",
       "\n",
       "    .dataframe tbody tr th {\n",
       "        vertical-align: top;\n",
       "    }\n",
       "</style>\n",
       "<table border=\"1\" class=\"dataframe\">\n",
       "  <thead>\n",
       "    <tr style=\"text-align: right;\">\n",
       "      <th></th>\n",
       "      <th>Title</th>\n",
       "      <th>Details</th>\n",
       "      <th>Date</th>\n",
       "    </tr>\n",
       "  </thead>\n",
       "  <tbody>\n",
       "    <tr>\n",
       "      <th>0</th>\n",
       "      <td>Thai Style Prawn Cakes with Huai Shan</td>\n",
       "      <td>thod man goong or thai prawn cakes are one of ...</td>\n",
       "      <td>October 10, 2017</td>\n",
       "    </tr>\n",
       "    <tr>\n",
       "      <th>1</th>\n",
       "      <td>Yaowarat Seafood: A Bit Chinese, A Bit Thai</td>\n",
       "      <td>i am sure most singaporeans will be familiar w...</td>\n",
       "      <td>October 6, 2017</td>\n",
       "    </tr>\n",
       "    <tr>\n",
       "      <th>2</th>\n",
       "      <td>AIA Vitality Cookout Showdown: Healthier recip...</td>\n",
       "      <td>there is nothing more important than your heal...</td>\n",
       "      <td>October 2, 2017</td>\n",
       "    </tr>\n",
       "    <tr>\n",
       "      <th>3</th>\n",
       "      <td>Chindamani Crispy Prata: Very thin, very crispy!</td>\n",
       "      <td>after blogging for over a decade i never thoug...</td>\n",
       "      <td>September 28, 2017</td>\n",
       "    </tr>\n",
       "    <tr>\n",
       "      <th>4</th>\n",
       "      <td>Hainanese Thai Inspired Colonial Chicken Curry...</td>\n",
       "      <td>i am excited to share with you my latest recip...</td>\n",
       "      <td>September 21, 2017</td>\n",
       "    </tr>\n",
       "  </tbody>\n",
       "</table>\n",
       "</div>"
      ],
      "text/plain": [
       "                                               Title  \\\n",
       "0              Thai Style Prawn Cakes with Huai Shan   \n",
       "1        Yaowarat Seafood: A Bit Chinese, A Bit Thai   \n",
       "2  AIA Vitality Cookout Showdown: Healthier recip...   \n",
       "3   Chindamani Crispy Prata: Very thin, very crispy!   \n",
       "4  Hainanese Thai Inspired Colonial Chicken Curry...   \n",
       "\n",
       "                                             Details                Date  \n",
       "0  thod man goong or thai prawn cakes are one of ...    October 10, 2017  \n",
       "1  i am sure most singaporeans will be familiar w...     October 6, 2017  \n",
       "2  there is nothing more important than your heal...     October 2, 2017  \n",
       "3  after blogging for over a decade i never thoug...  September 28, 2017  \n",
       "4  i am excited to share with you my latest recip...  September 21, 2017  "
      ]
     },
     "execution_count": 3,
     "metadata": {},
     "output_type": "execute_result"
    }
   ],
   "source": [
    "df.head()"
   ]
  },
  {
   "cell_type": "code",
   "execution_count": 4,
   "metadata": {
    "collapsed": true
   },
   "outputs": [],
   "source": [
    "details = df['Details']"
   ]
  },
  {
   "cell_type": "code",
   "execution_count": 5,
   "metadata": {},
   "outputs": [
    {
     "name": "stdout",
     "output_type": "stream",
     "text": [
      "Time taken : 2.66134881973  seconds\n"
     ]
    }
   ],
   "source": [
    "import time\n",
    "\n",
    "start = time.time()\n",
    "\n",
    "lemma_check =[]\n",
    "wnl = WordNetLemmatizer()\n",
    "for item in details:\n",
    "    item = str(item).decode('utf-8')\n",
    "    t = \" \".join([wnl.lemmatize(i) for i in item.split()])\n",
    "    lemma_check.append(t) \n",
    "    \n",
    "end = time.time()\n",
    "exe_time = end - start\n",
    "print 'Time taken :',(exe_time),' seconds'"
   ]
  },
  {
   "cell_type": "code",
   "execution_count": 6,
   "metadata": {
    "collapsed": true
   },
   "outputs": [],
   "source": [
    "word_count = []\n",
    "for lemma in lemma_check:\n",
    "    count = len(lemma.split())\n",
    "    word_count.append(count)"
   ]
  },
  {
   "cell_type": "code",
   "execution_count": 7,
   "metadata": {
    "collapsed": true
   },
   "outputs": [],
   "source": [
    "df['Details_processed'] = lemma_check"
   ]
  },
  {
   "cell_type": "code",
   "execution_count": 8,
   "metadata": {},
   "outputs": [
    {
     "data": {
      "text/plain": [
       "61937"
      ]
     },
     "execution_count": 8,
     "metadata": {},
     "output_type": "execute_result"
    }
   ],
   "source": [
    "df['Word_count'] = word_count\n",
    "sum(df['Word_count'])"
   ]
  },
  {
   "cell_type": "code",
   "execution_count": 9,
   "metadata": {},
   "outputs": [
    {
     "name": "stdout",
     "output_type": "stream",
     "text": [
      "Total number of records : 85\n",
      "Total number of words : 61937\n",
      "Average no. of words per record : 728\n"
     ]
    }
   ],
   "source": [
    "print 'Total number of records :', len(df)\n",
    "print 'Total number of words :', sum(df['Word_count'])\n",
    "print 'Average no. of words per record :', sum(df['Word_count'])/len(df)"
   ]
  },
  {
   "cell_type": "code",
   "execution_count": 10,
   "metadata": {},
   "outputs": [
    {
     "data": {
      "text/html": [
       "<div>\n",
       "<style>\n",
       "    .dataframe thead tr:only-child th {\n",
       "        text-align: right;\n",
       "    }\n",
       "\n",
       "    .dataframe thead th {\n",
       "        text-align: left;\n",
       "    }\n",
       "\n",
       "    .dataframe tbody tr th {\n",
       "        vertical-align: top;\n",
       "    }\n",
       "</style>\n",
       "<table border=\"1\" class=\"dataframe\">\n",
       "  <thead>\n",
       "    <tr style=\"text-align: right;\">\n",
       "      <th></th>\n",
       "      <th>Title</th>\n",
       "      <th>Details</th>\n",
       "      <th>Date</th>\n",
       "      <th>Details_processed</th>\n",
       "      <th>Word_count</th>\n",
       "    </tr>\n",
       "  </thead>\n",
       "  <tbody>\n",
       "    <tr>\n",
       "      <th>0</th>\n",
       "      <td>Thai Style Prawn Cakes with Huai Shan</td>\n",
       "      <td>thod man goong or thai prawn cakes are one of ...</td>\n",
       "      <td>October 10, 2017</td>\n",
       "      <td>thod man goong or thai prawn cake are one of m...</td>\n",
       "      <td>497</td>\n",
       "    </tr>\n",
       "    <tr>\n",
       "      <th>1</th>\n",
       "      <td>Yaowarat Seafood: A Bit Chinese, A Bit Thai</td>\n",
       "      <td>i am sure most singaporeans will be familiar w...</td>\n",
       "      <td>October 6, 2017</td>\n",
       "      <td>i am sure most singaporean will be familiar wi...</td>\n",
       "      <td>642</td>\n",
       "    </tr>\n",
       "    <tr>\n",
       "      <th>2</th>\n",
       "      <td>AIA Vitality Cookout Showdown: Healthier recip...</td>\n",
       "      <td>there is nothing more important than your heal...</td>\n",
       "      <td>October 2, 2017</td>\n",
       "      <td>there is nothing more important than your heal...</td>\n",
       "      <td>550</td>\n",
       "    </tr>\n",
       "    <tr>\n",
       "      <th>3</th>\n",
       "      <td>Chindamani Crispy Prata: Very thin, very crispy!</td>\n",
       "      <td>after blogging for over a decade i never thoug...</td>\n",
       "      <td>September 28, 2017</td>\n",
       "      <td>after blogging for over a decade i never thoug...</td>\n",
       "      <td>404</td>\n",
       "    </tr>\n",
       "    <tr>\n",
       "      <th>4</th>\n",
       "      <td>Hainanese Thai Inspired Colonial Chicken Curry...</td>\n",
       "      <td>i am excited to share with you my latest recip...</td>\n",
       "      <td>September 21, 2017</td>\n",
       "      <td>i am excited to share with you my latest recip...</td>\n",
       "      <td>454</td>\n",
       "    </tr>\n",
       "  </tbody>\n",
       "</table>\n",
       "</div>"
      ],
      "text/plain": [
       "                                               Title  \\\n",
       "0              Thai Style Prawn Cakes with Huai Shan   \n",
       "1        Yaowarat Seafood: A Bit Chinese, A Bit Thai   \n",
       "2  AIA Vitality Cookout Showdown: Healthier recip...   \n",
       "3   Chindamani Crispy Prata: Very thin, very crispy!   \n",
       "4  Hainanese Thai Inspired Colonial Chicken Curry...   \n",
       "\n",
       "                                             Details                Date  \\\n",
       "0  thod man goong or thai prawn cakes are one of ...    October 10, 2017   \n",
       "1  i am sure most singaporeans will be familiar w...     October 6, 2017   \n",
       "2  there is nothing more important than your heal...     October 2, 2017   \n",
       "3  after blogging for over a decade i never thoug...  September 28, 2017   \n",
       "4  i am excited to share with you my latest recip...  September 21, 2017   \n",
       "\n",
       "                                   Details_processed  Word_count  \n",
       "0  thod man goong or thai prawn cake are one of m...         497  \n",
       "1  i am sure most singaporean will be familiar wi...         642  \n",
       "2  there is nothing more important than your heal...         550  \n",
       "3  after blogging for over a decade i never thoug...         404  \n",
       "4  i am excited to share with you my latest recip...         454  "
      ]
     },
     "execution_count": 10,
     "metadata": {},
     "output_type": "execute_result"
    }
   ],
   "source": [
    "df.head()"
   ]
  },
  {
   "cell_type": "code",
   "execution_count": 11,
   "metadata": {
    "collapsed": true
   },
   "outputs": [],
   "source": [
    "f = 'ieatishoot.csv'\n",
    "df.to_csv(f, encoding='utf-8')"
   ]
  },
  {
   "cell_type": "code",
   "execution_count": null,
   "metadata": {
    "collapsed": true
   },
   "outputs": [],
   "source": []
  }
 ],
 "metadata": {
  "kernelspec": {
   "display_name": "Python 2",
   "language": "python",
   "name": "python2"
  },
  "language_info": {
   "codemirror_mode": {
    "name": "ipython",
    "version": 2
   },
   "file_extension": ".py",
   "mimetype": "text/x-python",
   "name": "python",
   "nbconvert_exporter": "python",
   "pygments_lexer": "ipython2",
   "version": "2.7.13"
  }
 },
 "nbformat": 4,
 "nbformat_minor": 2
}

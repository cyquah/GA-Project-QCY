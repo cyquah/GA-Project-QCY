{
 "cells": [
  {
   "cell_type": "code",
   "execution_count": 51,
   "metadata": {
    "collapsed": true
   },
   "outputs": [],
   "source": [
    "import pandas as pd\n",
    "import nltk\n",
    "from nltk import ngrams\n",
    "import matplotlib.pyplot as plt"
   ]
  },
  {
   "cell_type": "code",
   "execution_count": 52,
   "metadata": {},
   "outputs": [
    {
     "data": {
      "text/html": [
       "<div>\n",
       "<style>\n",
       "    .dataframe thead tr:only-child th {\n",
       "        text-align: right;\n",
       "    }\n",
       "\n",
       "    .dataframe thead th {\n",
       "        text-align: left;\n",
       "    }\n",
       "\n",
       "    .dataframe tbody tr th {\n",
       "        vertical-align: top;\n",
       "    }\n",
       "</style>\n",
       "<table border=\"1\" class=\"dataframe\">\n",
       "  <thead>\n",
       "    <tr style=\"text-align: right;\">\n",
       "      <th></th>\n",
       "      <th>foodblogs_tokenized</th>\n",
       "    </tr>\n",
       "  </thead>\n",
       "  <tbody>\n",
       "    <tr>\n",
       "      <th>0</th>\n",
       "      <td>[bak, chor, mee, translates, minced, meat, noo...</td>\n",
       "    </tr>\n",
       "    <tr>\n",
       "      <th>1</th>\n",
       "      <td>[hokkien, prawn, mee, iconic, variant, penang,...</td>\n",
       "    </tr>\n",
       "    <tr>\n",
       "      <th>2</th>\n",
       "      <td>[nu, youve, treated, indulgent, meal, waa, cow...</td>\n",
       "    </tr>\n",
       "    <tr>\n",
       "      <th>3</th>\n",
       "      <td>[newly, opened, hawkerman, soontobe, halal, ce...</td>\n",
       "    </tr>\n",
       "    <tr>\n",
       "      <th>4</th>\n",
       "      <td>[economical, bee, hoon, singaporean, favourite...</td>\n",
       "    </tr>\n",
       "  </tbody>\n",
       "</table>\n",
       "</div>"
      ],
      "text/plain": [
       "                                 foodblogs_tokenized\n",
       "0  [bak, chor, mee, translates, minced, meat, noo...\n",
       "1  [hokkien, prawn, mee, iconic, variant, penang,...\n",
       "2  [nu, youve, treated, indulgent, meal, waa, cow...\n",
       "3  [newly, opened, hawkerman, soontobe, halal, ce...\n",
       "4  [economical, bee, hoon, singaporean, favourite..."
      ]
     },
     "execution_count": 52,
     "metadata": {},
     "output_type": "execute_result"
    }
   ],
   "source": [
    "# when read from csv, default is text, need to specify dtype=object to preserve info as tokens\n",
    "txt = pd.read_csv('combined_blogs-tokenize.csv', dtype='object', index_col=0, names=['foodblogs_tokenized'], encoding = 'utf-8')\n",
    "txt.head()"
   ]
  },
  {
   "cell_type": "code",
   "execution_count": 53,
   "metadata": {},
   "outputs": [
    {
     "data": {
      "text/plain": [
       "u'[bak, chor, mee, translates, minced, meat, noodle, noodle, tossed, vinegar, minced, meat, pork, slice, pork, liver, stewed, sliced, mushroom, meat, ball, bit, deepfried, lard, addition, chilli, optional, choice, mee, pok, flat, egg, noodle, mee, kia, egg, noodle, choose, dry, version, soup, version, traditional, hawker, add, small, piece, fried, crispy, sole, fish, chinese, lettuce, garnishing, collated, list, singaporean, favourite, bak, chor, mee, stall, owner, uncle, yap, start, work, morning, broth, boiled, old, hen, soy, bean, anchovy, bowl, rich, cloudy, soup, tasty, hint, sweetness, uncle, yap, add, power, braised, mushroom, sauce, noodle, serving, flavour, strong, tanginess, presence, black, vinegar, read, macpherson, minced, ...]'"
      ]
     },
     "execution_count": 53,
     "metadata": {},
     "output_type": "execute_result"
    }
   ],
   "source": [
    "t = txt.foodblogs_tokenized[0]\n",
    "t"
   ]
  },
  {
   "cell_type": "code",
   "execution_count": 54,
   "metadata": {},
   "outputs": [],
   "source": [
    "t = str(t)\n",
    "t = t.replace('[','').replace(']','').replace(',','').replace('...','')\n",
    "t = nltk.word_tokenize(t)"
   ]
  },
  {
   "cell_type": "code",
   "execution_count": 55,
   "metadata": {},
   "outputs": [
    {
     "data": {
      "text/plain": [
       "[('bak', 'chor', 'mee'),\n",
       " ('chor', 'mee', 'translates'),\n",
       " ('mee', 'translates', 'minced'),\n",
       " ('translates', 'minced', 'meat'),\n",
       " ('minced', 'meat', 'noodle'),\n",
       " ('meat', 'noodle', 'noodle'),\n",
       " ('noodle', 'noodle', 'tossed'),\n",
       " ('noodle', 'tossed', 'vinegar'),\n",
       " ('tossed', 'vinegar', 'minced'),\n",
       " ('vinegar', 'minced', 'meat'),\n",
       " ('minced', 'meat', 'pork'),\n",
       " ('meat', 'pork', 'slice'),\n",
       " ('pork', 'slice', 'pork'),\n",
       " ('slice', 'pork', 'liver'),\n",
       " ('pork', 'liver', 'stewed'),\n",
       " ('liver', 'stewed', 'sliced'),\n",
       " ('stewed', 'sliced', 'mushroom'),\n",
       " ('sliced', 'mushroom', 'meat'),\n",
       " ('mushroom', 'meat', 'ball'),\n",
       " ('meat', 'ball', 'bit'),\n",
       " ('ball', 'bit', 'deepfried'),\n",
       " ('bit', 'deepfried', 'lard'),\n",
       " ('deepfried', 'lard', 'addition'),\n",
       " ('lard', 'addition', 'chilli'),\n",
       " ('addition', 'chilli', 'optional'),\n",
       " ('chilli', 'optional', 'choice'),\n",
       " ('optional', 'choice', 'mee'),\n",
       " ('choice', 'mee', 'pok'),\n",
       " ('mee', 'pok', 'flat'),\n",
       " ('pok', 'flat', 'egg'),\n",
       " ('flat', 'egg', 'noodle'),\n",
       " ('egg', 'noodle', 'mee'),\n",
       " ('noodle', 'mee', 'kia'),\n",
       " ('mee', 'kia', 'egg'),\n",
       " ('kia', 'egg', 'noodle'),\n",
       " ('egg', 'noodle', 'choose'),\n",
       " ('noodle', 'choose', 'dry'),\n",
       " ('choose', 'dry', 'version'),\n",
       " ('dry', 'version', 'soup'),\n",
       " ('version', 'soup', 'version'),\n",
       " ('soup', 'version', 'traditional'),\n",
       " ('version', 'traditional', 'hawker'),\n",
       " ('traditional', 'hawker', 'add'),\n",
       " ('hawker', 'add', 'small'),\n",
       " ('add', 'small', 'piece'),\n",
       " ('small', 'piece', 'fried'),\n",
       " ('piece', 'fried', 'crispy'),\n",
       " ('fried', 'crispy', 'sole'),\n",
       " ('crispy', 'sole', 'fish'),\n",
       " ('sole', 'fish', 'chinese')]"
      ]
     },
     "execution_count": 55,
     "metadata": {},
     "output_type": "execute_result"
    }
   ],
   "source": [
    "# remeber to start from top to refresh, else will get wrong results\n",
    "bgs = ngrams(t, 3)\n",
    "bgs = list(bgs)\n",
    "bgs[:5]"
   ]
  },
  {
   "cell_type": "code",
   "execution_count": 56,
   "metadata": {},
   "outputs": [
    {
     "name": "stdout",
     "output_type": "stream",
     "text": [
      "{('soup', 'tasty', 'hint'): 1, ('start', 'work', 'morning'): 1, ('read', 'macpherson', 'minced'): 1, ('chor', 'mee', 'stall'): 1, ('chinese', 'lettuce', 'garnishing'): 1, ('garnishing', 'collated', 'list'): 1, ('yap', 'start', 'work'): 1, ('optional', 'choice', 'mee'): 1, ('owner', 'uncle', 'yap'): 1, ('kia', 'egg', 'noodle'): 1, ('boiled', 'old', 'hen'): 1, ('mee', 'kia', 'egg'): 1, ('soy', 'bean', 'anchovy'): 1, ('lard', 'addition', 'chilli'): 1, ('yap', 'add', 'power'): 1, ('small', 'piece', 'fried'): 1, ('sole', 'fish', 'chinese'): 1, ('favourite', 'bak', 'chor'): 1, ('translates', 'minced', 'meat'): 1, ('collated', 'list', 'singaporean'): 1, ('pork', 'slice', 'pork'): 1, ('black', 'vinegar', 'read'): 1, ('mee', 'translates', 'minced'): 1, ('lettuce', 'garnishing', 'collated'): 1, ('bean', 'anchovy', 'bowl'): 1, ('ball', 'bit', 'deepfried'): 1, ('noodle', 'noodle', 'tossed'): 1, ('stall', 'owner', 'uncle'): 1, ('noodle', 'choose', 'dry'): 1, ('tanginess', 'presence', 'black'): 1, ('liver', 'stewed', 'sliced'): 1, ('chor', 'mee', 'translates'): 1, ('meat', 'pork', 'slice'): 1, ('crispy', 'sole', 'fish'): 1, ('uncle', 'yap', 'start'): 1, ('dry', 'version', 'soup'): 1, ('meat', 'noodle', 'noodle'): 1, ('noodle', 'serving', 'flavour'): 1, ('version', 'traditional', 'hawker'): 1, ('stewed', 'sliced', 'mushroom'): 1, ('fried', 'crispy', 'sole'): 1, ('morning', 'broth', 'boiled'): 1, ('minced', 'meat', 'pork'): 1, ('uncle', 'yap', 'add'): 1, ('tossed', 'vinegar', 'minced'): 1, ('bak', 'chor', 'mee'): 2, ('meat', 'ball', 'bit'): 1, ('singaporean', 'favourite', 'bak'): 1, ('serving', 'flavour', 'strong'): 1, ('mushroom', 'sauce', 'noodle'): 1, ('mee', 'pok', 'flat'): 1, ('chilli', 'optional', 'choice'): 1, ('broth', 'boiled', 'old'): 1, ('slice', 'pork', 'liver'): 1, ('fish', 'chinese', 'lettuce'): 1, ('old', 'hen', 'soy'): 1, ('pork', 'liver', 'stewed'): 1, ('traditional', 'hawker', 'add'): 1, ('work', 'morning', 'broth'): 1, ('sauce', 'noodle', 'serving'): 1, ('vinegar', 'read', 'macpherson'): 1, ('egg', 'noodle', 'choose'): 1, ('rich', 'cloudy', 'soup'): 1, ('soup', 'version', 'traditional'): 1, ('egg', 'noodle', 'mee'): 1, ('hen', 'soy', 'bean'): 1, ('mushroom', 'meat', 'ball'): 1, ('mee', 'stall', 'owner'): 1, ('addition', 'chilli', 'optional'): 1, ('bit', 'deepfried', 'lard'): 1, ('noodle', 'tossed', 'vinegar'): 1, ('presence', 'black', 'vinegar'): 1, ('hawker', 'add', 'small'): 1, ('anchovy', 'bowl', 'rich'): 1, ('braised', 'mushroom', 'sauce'): 1, ('flavour', 'strong', 'tanginess'): 1, ('hint', 'sweetness', 'uncle'): 1, ('pok', 'flat', 'egg'): 1, ('bowl', 'rich', 'cloudy'): 1, ('add', 'small', 'piece'): 1, ('choose', 'dry', 'version'): 1, ('sweetness', 'uncle', 'yap'): 1, ('add', 'power', 'braised'): 1, ('power', 'braised', 'mushroom'): 1, ('strong', 'tanginess', 'presence'): 1, ('deepfried', 'lard', 'addition'): 1, ('version', 'soup', 'version'): 1, ('noodle', 'mee', 'kia'): 1, ('sliced', 'mushroom', 'meat'): 1, ('cloudy', 'soup', 'tasty'): 1, ('tasty', 'hint', 'sweetness'): 1, ('vinegar', 'minced', 'meat'): 1, ('minced', 'meat', 'noodle'): 1, ('choice', 'mee', 'pok'): 1, ('list', 'singaporean', 'favourite'): 1, ('piece', 'fried', 'crispy'): 1, ('flat', 'egg', 'noodle'): 1}\n",
      "\n",
      "[('bak', 'chor', 'mee'), ('soup', 'tasty', 'hint'), ('chor', 'mee', 'stall'), ('stall', 'owner', 'uncle'), ('optional', 'choice', 'mee'), ('kia', 'egg', 'noodle'), ('boiled', 'old', 'hen'), ('mee', 'kia', 'egg'), ('soy', 'bean', 'anchovy'), ('lard', 'addition', 'chilli'), ('small', 'piece', 'fried'), ('favourite', 'bak', 'chor'), ('collated', 'list', 'singaporean'), ('pork', 'slice', 'pork'), ('bean', 'anchovy', 'bowl'), ('chinese', 'lettuce', 'garnishing'), ('meat', 'pork', 'slice'), ('dry', 'version', 'soup'), ('meat', 'noodle', 'noodle'), ('stewed', 'sliced', 'mushroom'), ('morning', 'broth', 'boiled'), ('minced', 'meat', 'pork'), ('mushroom', 'sauce', 'noodle'), ('chilli', 'optional', 'choice'), ('broth', 'boiled', 'old'), ('fish', 'chinese', 'lettuce'), ('old', 'hen', 'soy'), ('pork', 'liver', 'stewed'), ('sauce', 'noodle', 'serving'), ('vinegar', 'read', 'macpherson'), ('rich', 'cloudy', 'soup'), ('soup', 'version', 'traditional'), ('egg', 'noodle', 'mee'), ('hen', 'soy', 'bean'), ('mushroom', 'meat', 'ball'), ('addition', 'chilli', 'optional'), ('bit', 'deepfried', 'lard'), ('noodle', 'serving', 'flavour'), ('presence', 'black', 'vinegar'), ('hawker', 'add', 'small'), ('braised', 'mushroom', 'sauce'), ('flavour', 'strong', 'tanginess'), ('add', 'small', 'piece'), ('choose', 'dry', 'version'), ('power', 'braised', 'mushroom'), ('strong', 'tanginess', 'presence'), ('version', 'soup', 'version'), ('cloudy', 'soup', 'tasty'), ('vinegar', 'minced', 'meat'), ('choice', 'mee', 'pok'), ('list', 'singaporean', 'favourite'), ('start', 'work', 'morning'), ('garnishing', 'collated', 'list'), ('yap', 'start', 'work'), ('owner', 'uncle', 'yap'), ('chor', 'mee', 'translates'), ('yap', 'add', 'power'), ('minced', 'meat', 'noodle'), ('sole', 'fish', 'chinese'), ('mee', 'translates', 'minced'), ('noodle', 'noodle', 'tossed'), ('crispy', 'sole', 'fish'), ('noodle', 'choose', 'dry'), ('tanginess', 'presence', 'black'), ('liver', 'stewed', 'sliced'), ('translates', 'minced', 'meat'), ('noodle', 'tossed', 'vinegar'), ('version', 'traditional', 'hawker'), ('fried', 'crispy', 'sole'), ('tossed', 'vinegar', 'minced'), ('deepfried', 'lard', 'addition'), ('serving', 'flavour', 'strong'), ('lettuce', 'garnishing', 'collated'), ('mee', 'pok', 'flat'), ('uncle', 'yap', 'start'), ('slice', 'pork', 'liver'), ('uncle', 'yap', 'add'), ('traditional', 'hawker', 'add'), ('work', 'morning', 'broth'), ('egg', 'noodle', 'choose'), ('add', 'power', 'braised'), ('read', 'macpherson', 'minced'), ('mee', 'stall', 'owner'), ('black', 'vinegar', 'read'), ('meat', 'ball', 'bit'), ('anchovy', 'bowl', 'rich'), ('hint', 'sweetness', 'uncle'), ('pok', 'flat', 'egg'), ('bowl', 'rich', 'cloudy'), ('sweetness', 'uncle', 'yap'), ('ball', 'bit', 'deepfried'), ('noodle', 'mee', 'kia'), ('sliced', 'mushroom', 'meat'), ('singaporean', 'favourite', 'bak'), ('tasty', 'hint', 'sweetness'), ('piece', 'fried', 'crispy'), ('flat', 'egg', 'noodle')]\n",
      "\n",
      "[2, 1, 1, 1, 1, 1, 1, 1, 1, 1, 1, 1, 1, 1, 1, 1, 1, 1, 1, 1, 1, 1, 1, 1, 1, 1, 1, 1, 1, 1, 1, 1, 1, 1, 1, 1, 1, 1, 1, 1, 1, 1, 1, 1, 1, 1, 1, 1, 1, 1, 1, 1, 1, 1, 1, 1, 1, 1, 1, 1, 1, 1, 1, 1, 1, 1, 1, 1, 1, 1, 1, 1, 1, 1, 1, 1, 1, 1, 1, 1, 1, 1, 1, 1, 1, 1, 1, 1, 1, 1, 1, 1, 1, 1, 1, 1, 1]\n"
     ]
    }
   ],
   "source": [
    "tfreq = nltk.FreqDist(bgs)\n",
    "#sort the keys by its values\n",
    "tkeys = sorted(tfreq, key=tfreq.__getitem__, reverse=True)\n",
    "tvalues = sorted(tfreq.values(), reverse=True)\n",
    "\n",
    "print dict(tfreq)\n",
    "print ''\n",
    "print tkeys\n",
    "print ''\n",
    "print tvalues"
   ]
  },
  {
   "cell_type": "code",
   "execution_count": 57,
   "metadata": {},
   "outputs": [
    {
     "name": "stdout",
     "output_type": "stream",
     "text": [
      "[('bak', 'chor', 'mee'), ('soup', 'tasty', 'hint'), ('chor', 'mee', 'stall'), ('stall', 'owner', 'uncle'), ('optional', 'choice', 'mee'), ('kia', 'egg', 'noodle'), ('boiled', 'old', 'hen'), ('mee', 'kia', 'egg'), ('soy', 'bean', 'anchovy'), ('lard', 'addition', 'chilli')]\n",
      "[10, 9, 8, 7, 6, 5, 4, 3, 2, 1]\n"
     ]
    }
   ],
   "source": [
    "print tkeys[:10]\n",
    "y = range(len(tkeys[:10]),0,-1)\n",
    "print y"
   ]
  },
  {
   "cell_type": "code",
   "execution_count": 58,
   "metadata": {},
   "outputs": [
    {
     "data": {
      "image/png": "[encoded data removed]",
      "text/plain": [
       "<matplotlib.figure.Figure at 0x1132ae350>"
      ]
     },
     "metadata": {},
     "output_type": "display_data"
    }
   ],
   "source": [
    "t = [tuple(map(str,x)) for x in tkeys[:10]]\n",
    "x = range(len(t))\n",
    "y = range(len(t),0,-1)\n",
    "s = [20*2**n for n in tvalues]\n",
    "\n",
    "fig, ax = plt.subplots()\n",
    "ax.scatter(x, y, s=s)\n",
    "\n",
    "for i, txt in enumerate(t):\n",
    "    ax.annotate(txt, (x[i],y[i]))\n",
    "    \n",
    "plt.show()"
   ]
  },
  {
   "cell_type": "code",
   "execution_count": null,
   "metadata": {
    "collapsed": true
   },
   "outputs": [],
   "source": []
  },
  {
   "cell_type": "code",
   "execution_count": null,
   "metadata": {
    "collapsed": true
   },
   "outputs": [],
   "source": []
  },
  {
   "cell_type": "code",
   "execution_count": null,
   "metadata": {
    "collapsed": true
   },
   "outputs": [],
   "source": []
  }
 ],
 "metadata": {
  "kernelspec": {
   "display_name": "Python 2",
   "language": "python",
   "name": "python2"
  },
  "language_info": {
   "codemirror_mode": {
    "name": "ipython",
    "version": 2
   },
   "file_extension": ".py",
   "mimetype": "text/x-python",
   "name": "python",
   "nbconvert_exporter": "python",
   "pygments_lexer": "ipython2",
   "version": "2.7.13"
  }
 },
 "nbformat": 4,
 "nbformat_minor": 2
}

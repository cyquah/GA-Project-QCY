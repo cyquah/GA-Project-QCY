{
 "cells": [
  {
   "cell_type": "code",
   "execution_count": 1,
   "metadata": {
    "collapsed": true
   },
   "outputs": [],
   "source": [
    "import pandas as pd\n",
    "from textblob import TextBlob, Word\n",
    "from nltk.stem import PorterStemmer, WordNetLemmatizer"
   ]
  },
  {
   "cell_type": "code",
   "execution_count": 2,
   "metadata": {
    "collapsed": true
   },
   "outputs": [],
   "source": [
    "df = pd.read_csv('hungrygeek.csv', index_col=0)"
   ]
  },
  {
   "cell_type": "code",
   "execution_count": 3,
   "metadata": {},
   "outputs": [
    {
     "data": {
      "text/html": [
       "<div>\n",
       "<style>\n",
       "    .dataframe thead tr:only-child th {\n",
       "        text-align: right;\n",
       "    }\n",
       "\n",
       "    .dataframe thead th {\n",
       "        text-align: left;\n",
       "    }\n",
       "\n",
       "    .dataframe tbody tr th {\n",
       "        vertical-align: top;\n",
       "    }\n",
       "</style>\n",
       "<table border=\"1\" class=\"dataframe\">\n",
       "  <thead>\n",
       "    <tr style=\"text-align: right;\">\n",
       "      <th></th>\n",
       "      <th>Title</th>\n",
       "      <th>Details</th>\n",
       "      <th>Date</th>\n",
       "    </tr>\n",
       "  </thead>\n",
       "  <tbody>\n",
       "    <tr>\n",
       "      <th>0</th>\n",
       "      <td>Open Door Policy – Healthy Gluten-Free Delight...</td>\n",
       "      <td>storefront of open door policy if youre search...</td>\n",
       "      <td>7 Oct 2017</td>\n",
       "    </tr>\n",
       "    <tr>\n",
       "      <th>1</th>\n",
       "      <td>49 Seats – Super Delicious Western Food!</td>\n",
       "      <td>the storefront of  seats here are the highligh...</td>\n",
       "      <td>19 Sep 2017</td>\n",
       "    </tr>\n",
       "    <tr>\n",
       "      <th>2</th>\n",
       "      <td>Matsuya Sushi Bar – Sushi Omakase hidden in Bugis</td>\n",
       "      <td>fancy of an exquisite japanese meal at an affo...</td>\n",
       "      <td>19 Sep 2017</td>\n",
       "    </tr>\n",
       "    <tr>\n",
       "      <th>3</th>\n",
       "      <td>Provisions @ Dempsey – Skewers &amp; Claypot Rice ...</td>\n",
       "      <td>the storefront of provisions  dempsey dempsey ...</td>\n",
       "      <td>26 Aug 2017</td>\n",
       "    </tr>\n",
       "    <tr>\n",
       "      <th>4</th>\n",
       "      <td>The Masses – Another Great Creation by Saveur’...</td>\n",
       "      <td>the storefront of the masses david and i have ...</td>\n",
       "      <td>28 Jun 2017</td>\n",
       "    </tr>\n",
       "  </tbody>\n",
       "</table>\n",
       "</div>"
      ],
      "text/plain": [
       "                                               Title  \\\n",
       "0  Open Door Policy – Healthy Gluten-Free Delight...   \n",
       "1           49 Seats – Super Delicious Western Food!   \n",
       "2  Matsuya Sushi Bar – Sushi Omakase hidden in Bugis   \n",
       "3  Provisions @ Dempsey – Skewers & Claypot Rice ...   \n",
       "4  The Masses – Another Great Creation by Saveur’...   \n",
       "\n",
       "                                             Details         Date  \n",
       "0  storefront of open door policy if youre search...   7 Oct 2017  \n",
       "1  the storefront of  seats here are the highligh...  19 Sep 2017  \n",
       "2  fancy of an exquisite japanese meal at an affo...  19 Sep 2017  \n",
       "3  the storefront of provisions  dempsey dempsey ...  26 Aug 2017  \n",
       "4  the storefront of the masses david and i have ...  28 Jun 2017  "
      ]
     },
     "execution_count": 3,
     "metadata": {},
     "output_type": "execute_result"
    }
   ],
   "source": [
    "df.head()"
   ]
  },
  {
   "cell_type": "code",
   "execution_count": 4,
   "metadata": {
    "collapsed": true
   },
   "outputs": [],
   "source": [
    "details = df['Details']"
   ]
  },
  {
   "cell_type": "code",
   "execution_count": 5,
   "metadata": {},
   "outputs": [
    {
     "name": "stdout",
     "output_type": "stream",
     "text": [
      "Time taken : 2.32311892509  seconds\n"
     ]
    }
   ],
   "source": [
    "import time\n",
    "\n",
    "start = time.time()\n",
    "\n",
    "lemma_check =[]\n",
    "wnl = WordNetLemmatizer()\n",
    "for item in details:\n",
    "    item = str(item).decode('utf-8')\n",
    "    t = \" \".join([wnl.lemmatize(i) for i in item.split()])\n",
    "    lemma_check.append(t) \n",
    "    \n",
    "end = time.time()\n",
    "exe_time = end - start\n",
    "print 'Time taken :',(exe_time),' seconds'"
   ]
  },
  {
   "cell_type": "code",
   "execution_count": 6,
   "metadata": {
    "collapsed": true
   },
   "outputs": [],
   "source": [
    "word_count = []\n",
    "for lemma in lemma_check:\n",
    "    count = len(lemma.split())\n",
    "    word_count.append(count)"
   ]
  },
  {
   "cell_type": "code",
   "execution_count": 7,
   "metadata": {
    "collapsed": true
   },
   "outputs": [],
   "source": [
    "df['Details_processed'] = lemma_check"
   ]
  },
  {
   "cell_type": "code",
   "execution_count": 8,
   "metadata": {},
   "outputs": [
    {
     "data": {
      "text/plain": [
       "12668"
      ]
     },
     "execution_count": 8,
     "metadata": {},
     "output_type": "execute_result"
    }
   ],
   "source": [
    "df['Word_count'] = word_count\n",
    "sum(df['Word_count'])"
   ]
  },
  {
   "cell_type": "code",
   "execution_count": 9,
   "metadata": {},
   "outputs": [
    {
     "name": "stdout",
     "output_type": "stream",
     "text": [
      "Total number of records : 15\n",
      "Total number of words : 12668\n",
      "Average no. of words per record : 844\n"
     ]
    }
   ],
   "source": [
    "print 'Total number of records :', len(df)\n",
    "print 'Total number of words :', sum(df['Word_count'])\n",
    "print 'Average no. of words per record :', sum(df['Word_count'])/len(df)"
   ]
  },
  {
   "cell_type": "code",
   "execution_count": 10,
   "metadata": {},
   "outputs": [
    {
     "data": {
      "text/html": [
       "<div>\n",
       "<style>\n",
       "    .dataframe thead tr:only-child th {\n",
       "        text-align: right;\n",
       "    }\n",
       "\n",
       "    .dataframe thead th {\n",
       "        text-align: left;\n",
       "    }\n",
       "\n",
       "    .dataframe tbody tr th {\n",
       "        vertical-align: top;\n",
       "    }\n",
       "</style>\n",
       "<table border=\"1\" class=\"dataframe\">\n",
       "  <thead>\n",
       "    <tr style=\"text-align: right;\">\n",
       "      <th></th>\n",
       "      <th>Title</th>\n",
       "      <th>Details</th>\n",
       "      <th>Date</th>\n",
       "      <th>Details_processed</th>\n",
       "      <th>Word_count</th>\n",
       "    </tr>\n",
       "  </thead>\n",
       "  <tbody>\n",
       "    <tr>\n",
       "      <th>0</th>\n",
       "      <td>Open Door Policy – Healthy Gluten-Free Delight...</td>\n",
       "      <td>storefront of open door policy if youre search...</td>\n",
       "      <td>7 Oct 2017</td>\n",
       "      <td>storefront of open door policy if youre search...</td>\n",
       "      <td>1066</td>\n",
       "    </tr>\n",
       "    <tr>\n",
       "      <th>1</th>\n",
       "      <td>49 Seats – Super Delicious Western Food!</td>\n",
       "      <td>the storefront of  seats here are the highligh...</td>\n",
       "      <td>19 Sep 2017</td>\n",
       "      <td>the storefront of seat here are the highlight ...</td>\n",
       "      <td>633</td>\n",
       "    </tr>\n",
       "    <tr>\n",
       "      <th>2</th>\n",
       "      <td>Matsuya Sushi Bar – Sushi Omakase hidden in Bugis</td>\n",
       "      <td>fancy of an exquisite japanese meal at an affo...</td>\n",
       "      <td>19 Sep 2017</td>\n",
       "      <td>fancy of an exquisite japanese meal at an affo...</td>\n",
       "      <td>1010</td>\n",
       "    </tr>\n",
       "    <tr>\n",
       "      <th>3</th>\n",
       "      <td>Provisions @ Dempsey – Skewers &amp; Claypot Rice ...</td>\n",
       "      <td>the storefront of provisions  dempsey dempsey ...</td>\n",
       "      <td>26 Aug 2017</td>\n",
       "      <td>the storefront of provision dempsey dempsey hi...</td>\n",
       "      <td>464</td>\n",
       "    </tr>\n",
       "    <tr>\n",
       "      <th>4</th>\n",
       "      <td>The Masses – Another Great Creation by Saveur’...</td>\n",
       "      <td>the storefront of the masses david and i have ...</td>\n",
       "      <td>28 Jun 2017</td>\n",
       "      <td>the storefront of the mass david and i have be...</td>\n",
       "      <td>858</td>\n",
       "    </tr>\n",
       "  </tbody>\n",
       "</table>\n",
       "</div>"
      ],
      "text/plain": [
       "                                               Title  \\\n",
       "0  Open Door Policy – Healthy Gluten-Free Delight...   \n",
       "1           49 Seats – Super Delicious Western Food!   \n",
       "2  Matsuya Sushi Bar – Sushi Omakase hidden in Bugis   \n",
       "3  Provisions @ Dempsey – Skewers & Claypot Rice ...   \n",
       "4  The Masses – Another Great Creation by Saveur’...   \n",
       "\n",
       "                                             Details         Date  \\\n",
       "0  storefront of open door policy if youre search...   7 Oct 2017   \n",
       "1  the storefront of  seats here are the highligh...  19 Sep 2017   \n",
       "2  fancy of an exquisite japanese meal at an affo...  19 Sep 2017   \n",
       "3  the storefront of provisions  dempsey dempsey ...  26 Aug 2017   \n",
       "4  the storefront of the masses david and i have ...  28 Jun 2017   \n",
       "\n",
       "                                   Details_processed  Word_count  \n",
       "0  storefront of open door policy if youre search...        1066  \n",
       "1  the storefront of seat here are the highlight ...         633  \n",
       "2  fancy of an exquisite japanese meal at an affo...        1010  \n",
       "3  the storefront of provision dempsey dempsey hi...         464  \n",
       "4  the storefront of the mass david and i have be...         858  "
      ]
     },
     "execution_count": 10,
     "metadata": {},
     "output_type": "execute_result"
    }
   ],
   "source": [
    "df.head()"
   ]
  },
  {
   "cell_type": "code",
   "execution_count": 11,
   "metadata": {
    "collapsed": true
   },
   "outputs": [],
   "source": [
    "f = 'hungrygeek.csv'\n",
    "df.to_csv(f, encoding='utf-8')"
   ]
  },
  {
   "cell_type": "code",
   "execution_count": null,
   "metadata": {
    "collapsed": true
   },
   "outputs": [],
   "source": []
  }
 ],
 "metadata": {
  "kernelspec": {
   "display_name": "Python 2",
   "language": "python",
   "name": "python2"
  },
  "language_info": {
   "codemirror_mode": {
    "name": "ipython",
    "version": 2
   },
   "file_extension": ".py",
   "mimetype": "text/x-python",
   "name": "python",
   "nbconvert_exporter": "python",
   "pygments_lexer": "ipython2",
   "version": "2.7.13"
  }
 },
 "nbformat": 4,
 "nbformat_minor": 2
}

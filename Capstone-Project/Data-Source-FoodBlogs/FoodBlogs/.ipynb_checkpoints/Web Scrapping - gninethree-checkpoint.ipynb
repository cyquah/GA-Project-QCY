{
 "cells": [
  {
   "cell_type": "code",
   "execution_count": 1,
   "metadata": {
    "collapsed": true
   },
   "outputs": [],
   "source": [
    "import pandas as pd\n",
    "import re\n",
    "import time\n",
    "from nltk.stem import PorterStemmer, WordNetLemmatizer\n",
    "from sklearn.feature_extraction.stop_words import ENGLISH_STOP_WORDS\n",
    "from nltk.corpus import stopwords\n",
    "from selenium import webdriver\n",
    "from textacy.preprocess import preprocess_text\n",
    "import nltk\n",
    "\n",
    "from bs4 import BeautifulSoup as bs"
   ]
  },
  {
   "cell_type": "code",
   "execution_count": 2,
   "metadata": {
    "scrolled": true
   },
   "outputs": [
    {
     "name": "stdout",
     "output_type": "stream",
     "text": [
      "scrapping page :  1\n",
      "href :  http://gninethree.com/2017/10/24/ps-cafe-opens-one-fullerton/\n",
      "cleaned detail snippet :  pscafe has opened an outlet at one fullerton this wellloved caferestaurant \n",
      "href :  http://gninethree.com/2017/10/17/travel-mutekiya-ramen-%e7%84%a1%e6%95%b5%e5%ae%b6-in-tokyo/\n",
      "cleaned detail snippet :  when my colleague first told read incessantly nagged at me to visit this ra\n",
      "href :  http://gninethree.com/2017/09/03/the-bird-southern-table-bar-marina-bay-sands/\n",
      "cleaned detail snippet :  another franchise has opened in singapore and this time it is one that is s\n",
      "href :  http://gninethree.com/2017/08/27/weekend-brunch-don-ho-social-kitchen-bar/\n",
      "cleaned detail snippet :  don ho social kitchen bar opened earlier this year as the newest kid on the\n",
      "href :  http://gninethree.com/2017/08/08/magnum-opens-1st-magnum-pleasure-store-in-singapore-ion-orchard/\n",
      "cleaned detail snippet :  if you are one of those who would eagerly anticipate whenever magnum launch\n",
      "scrapping page :  2\n",
      "href :  http://gninethree.com/2017/08/02/sunday-brunch-corner-house-singapore-botanic-gardens/\n",
      "cleaned detail snippet :  occupying the iconic colonial house in singapore botanic gardens that forme\n",
      "href :  http://gninethree.com/2017/06/30/godiva-chocolatier-opens-lifestyle-concept-dessert-cafe-ion-orchard/\n",
      "cleaned detail snippet :  luxury belgian chocolate brand godiva chocolatier has opened its very first\n",
      "href :  http://gninethree.com/2017/06/26/spring-inspired-heritage-afternoon-tea-au-jardin-at-the-lobby-lounge-intercontinental-singapore/\n",
      "cleaned detail snippet :  the lobby lounge at intercontinental singapore has just launched their new \n",
      "href :  http://gninethree.com/2017/06/19/ding-dong-115-amoy-street/\n",
      "cleaned detail snippet :  established in number ding dong has been the gotorestaurant for many diners\n",
      "href :  http://gninethree.com/2017/05/21/boru-boru-x-candour-coffee-lunch-pop-concept-serving-japanese-bowls/\n",
      "cleaned detail snippet :  as its name suggests boru boru a popup japanese cafe sharing the space with\n",
      "scrapping page :  3\n",
      "href :  http://gninethree.com/2017/05/09/12-nett-porridge-buffet-every-last-friday-of-the-month-the-art-aps/\n",
      "href :  http://gninethree.com/2017/04/27/weekend-brunch-birds-of-a-feather-115-amoy-street/\n",
      "href :  http://gninethree.com/2017/03/28/osteria-mozza-by-mario-batali-marina-bay-sands-singapore/\n",
      "href :  http://gninethree.com/2017/03/23/same-day-delivery-flowers-from-a-better-florist/\n",
      "href :  http://gninethree.com/2017/02/07/botanico-by-the-garage-singapore-botanic-gardens-cluny-park-road/\n",
      "scrapping page :  4\n",
      "Time taken : 199.327702049  minutes\n",
      "10\n"
     ]
    }
   ],
   "source": [
    "start = time.time()\n",
    "\n",
    "wd = webdriver.Chrome()\n",
    "\n",
    "b_summary = []\n",
    "b_detail = []\n",
    "b_date = []\n",
    "b_summary_clean = []\n",
    "b_detail_clean = []\n",
    "\n",
    "for i in range(1,5):\n",
    "    print 'scrapping page : ', i\n",
    "    url = 'http://gninethree.com/page/' + str(i) + '/'   \n",
    "\n",
    "    try:\n",
    "        wd.get(url)\n",
    "    except:\n",
    "        continue\n",
    "    response = wd.page_source\n",
    "    soup = bs(response, 'html.parser')\n",
    "    \n",
    "    try:\n",
    "        blogs = soup.find_all('h2', {'class' : 'title'})\n",
    "    except:\n",
    "        continue\n",
    "        \n",
    "    for summary in blogs:\n",
    "        try:\n",
    "            href = summary.find('a').get('href')\n",
    "            print 'href : ', href\n",
    "        except:\n",
    "            continue            \n",
    "        \n",
    "        try:\n",
    "            wd.get(href)\n",
    "        except:\n",
    "            continue\n",
    "        \n",
    "        r = wd.page_source\n",
    "        s = bs(r, 'html.parser')\n",
    "\n",
    "        # find date\n",
    "        try:\n",
    "            date = s.find('span', {'class' : 'meta_date'}).text\n",
    "        except:\n",
    "            continue\n",
    "            \n",
    "        # find detail\n",
    "        try:\n",
    "            y = s.find('div', {'class' : \"entry\"}).find_all('p')\n",
    "        except:\n",
    "            continue\n",
    "        doc = []\n",
    "        for p in y:\n",
    "            if p.text:\n",
    "                doc.append(p.text)\n",
    "        d = ' '.join(doc)\n",
    "\n",
    "        b_summary.append(summary.text)\n",
    "        b_detail.append(d)\n",
    "        b_date.append(date)\n",
    "        \n",
    "        # clean summary and detail \n",
    "        clean_summary = preprocess_text(summary.text, fix_unicode=True, lowercase=True, transliterate=True, \n",
    "                                                no_numbers=True, no_urls=True, no_emails=True, no_phone_numbers=True, \n",
    "                                                no_currency_symbols=True, no_punct=True, no_accents=True)\n",
    "        \n",
    "        clean_detail = preprocess_text(d, fix_unicode=True, lowercase=True, transliterate=True, \n",
    "                                                no_numbers=True, no_urls=True, no_emails=True, no_phone_numbers=True, \n",
    "                                                no_currency_symbols=True, no_punct=True, no_accents=True)\n",
    "        \n",
    "        b_summary_clean.append(clean_summary)\n",
    "        b_detail_clean.append(clean_detail)\n",
    "        \n",
    "        print 'cleaned detail snippet : ', clean_detail[:75]\n",
    "        \n",
    "end = time.time()\n",
    "exe_time = (end - start)/60\n",
    "print 'Time taken :',(exe_time),' minutes'\n",
    "\n",
    "print len(b_date)"
   ]
  },
  {
   "cell_type": "code",
   "execution_count": 3,
   "metadata": {
    "collapsed": true
   },
   "outputs": [],
   "source": [
    "# remove stop words from cleaned summary and cleaned detail and lemmatize them\n",
    "\n",
    "stoplist = set(stopwords.words('english') + \\\n",
    "               ['number',\"singapore\", \"food\", \"im\", \"street\", \n",
    "                'porn','watch', 'video', 'centre', '...',\n",
    "                'eat', 'day', 'time', 'cdataadsbygoogle', 'windowadsbygoogle',\n",
    "                'wa', 'ha', 'come', 'place', 'dish', 'bring', 'think', 'quite','located',\n",
    "                'month', 'went', 'probably', 'am', 'pm', 'say', 'said','including','year','item',\n",
    "                'youre', 'sure', 'dont', 'came','really', 'got', 'thing', 'address', 'photo',\n",
    "                'credit', 'opening', 'hour'] \\\n",
    "                 + list(ENGLISH_STOP_WORDS))"
   ]
  },
  {
   "cell_type": "code",
   "execution_count": 4,
   "metadata": {},
   "outputs": [
    {
     "name": "stdout",
     "output_type": "stream",
     "text": [
      "Time taken : 0.216902971268  seconds\n",
      "10\n",
      "10\n"
     ]
    }
   ],
   "source": [
    "start = time.time()\n",
    "\n",
    "summary_tokens = []\n",
    "for item in b_summary_clean:  \n",
    "    try:\n",
    "        Tokens = nltk.word_tokenize(item)\n",
    "        t = [tok for tok in Tokens if tok not in stoplist]\n",
    "    except:\n",
    "        continue\n",
    "    summary_tokens.append(t)\n",
    "    \n",
    "detail_tokens = []\n",
    "for item in b_detail_clean:  \n",
    "    try:\n",
    "        Tokens = nltk.word_tokenize(item)\n",
    "        t = [tok for tok in Tokens if tok not in stoplist]\n",
    "    except:\n",
    "        continue\n",
    "    detail_tokens.append(t)   \n",
    "\n",
    "    \n",
    "end = time.time()\n",
    "exe_time = end - start\n",
    "print 'Time taken :',(exe_time),' seconds'\n",
    "    \n",
    "print len(summary_tokens)\n",
    "print len(detail_tokens)"
   ]
  },
  {
   "cell_type": "code",
   "execution_count": 5,
   "metadata": {},
   "outputs": [
    {
     "name": "stdout",
     "output_type": "stream",
     "text": [
      "Time taken : 1037.42628407  seconds\n",
      "10\n",
      "10\n"
     ]
    }
   ],
   "source": [
    "start = time.time()\n",
    "\n",
    "summary_lem =[]\n",
    "wnl = WordNetLemmatizer()\n",
    "for item in summary_tokens:\n",
    "    t = \" \".join([wnl.lemmatize(i) for i in item])\n",
    "    summary_lem.append(t) \n",
    "    \n",
    "detail_lem =[]\n",
    "wnl = WordNetLemmatizer()\n",
    "for item in detail_tokens:\n",
    "    t = \" \".join([wnl.lemmatize(i) for i in item])\n",
    "    detail_lem.append(t)     \n",
    "   \n",
    "end = time.time()\n",
    "exe_time = end - start\n",
    "print 'Time taken :',(exe_time),' seconds'\n",
    "\n",
    "print len(summary_lem)\n",
    "print len(detail_lem)"
   ]
  },
  {
   "cell_type": "code",
   "execution_count": 6,
   "metadata": {
    "collapsed": true
   },
   "outputs": [],
   "source": [
    "# create final list to fit in dataframe\n",
    "flist = []\n",
    "for i in range(len(b_summary)):\n",
    "    f = [b_summary[i], b_detail[i], b_date[i], summary_lem[i], detail_lem[i]]\n",
    "    flist.append(f)"
   ]
  },
  {
   "cell_type": "code",
   "execution_count": 7,
   "metadata": {},
   "outputs": [
    {
     "data": {
      "text/html": [
       "<div>\n",
       "<style>\n",
       "    .dataframe thead tr:only-child th {\n",
       "        text-align: right;\n",
       "    }\n",
       "\n",
       "    .dataframe thead th {\n",
       "        text-align: left;\n",
       "    }\n",
       "\n",
       "    .dataframe tbody tr th {\n",
       "        vertical-align: top;\n",
       "    }\n",
       "</style>\n",
       "<table border=\"1\" class=\"dataframe\">\n",
       "  <thead>\n",
       "    <tr style=\"text-align: right;\">\n",
       "      <th></th>\n",
       "      <th>Title</th>\n",
       "      <th>Details</th>\n",
       "      <th>Date</th>\n",
       "      <th>Processed Summary</th>\n",
       "      <th>Processed Detail</th>\n",
       "    </tr>\n",
       "  </thead>\n",
       "  <tbody>\n",
       "    <tr>\n",
       "      <th>5</th>\n",
       "      <td>Sunday Brunch @ Corner House, Singapore Botani...</td>\n",
       "      <td>occupying the iconic colonial house in singapo...</td>\n",
       "      <td>August 2, 2017</td>\n",
       "      <td>sunday brunch corner house botanic garden</td>\n",
       "      <td>occupying iconic colonial house botanic garden...</td>\n",
       "    </tr>\n",
       "    <tr>\n",
       "      <th>6</th>\n",
       "      <td>GODIVA Chocolatier Opens Lifestyle Concept Des...</td>\n",
       "      <td>luxury belgian chocolate brand godiva chocolat...</td>\n",
       "      <td>June 30, 2017</td>\n",
       "      <td>godiva chocolatier open lifestyle concept dess...</td>\n",
       "      <td>luxury belgian chocolate brand godiva chocolat...</td>\n",
       "    </tr>\n",
       "    <tr>\n",
       "      <th>7</th>\n",
       "      <td>Spring-Inspired Heritage Afternoon Tea: Au Jar...</td>\n",
       "      <td>the lobby lounge at intercontinental singapore...</td>\n",
       "      <td>June 26, 2017</td>\n",
       "      <td>springinspired heritage afternoon tea au jardi...</td>\n",
       "      <td>lobby lounge intercontinental launched new spr...</td>\n",
       "    </tr>\n",
       "    <tr>\n",
       "      <th>8</th>\n",
       "      <td>Ding Dong @ 115 Amoy Street</td>\n",
       "      <td>established in 2013, ding dong has been the go...</td>\n",
       "      <td>June 19, 2017</td>\n",
       "      <td>ding dong amoy</td>\n",
       "      <td>established ding dong gotorestaurant diner exp...</td>\n",
       "    </tr>\n",
       "    <tr>\n",
       "      <th>9</th>\n",
       "      <td>Boru Boru X Candour Coffee | A Lunch-Only Pop-...</td>\n",
       "      <td>as its name suggests, boru boru (a pop-up japa...</td>\n",
       "      <td>May 21, 2017</td>\n",
       "      <td>boru boru x candour coffee | lunchonly popup c...</td>\n",
       "      <td>suggests boru boru popup japanese cafe sharing...</td>\n",
       "    </tr>\n",
       "  </tbody>\n",
       "</table>\n",
       "</div>"
      ],
      "text/plain": [
       "                                               Title  \\\n",
       "5  Sunday Brunch @ Corner House, Singapore Botani...   \n",
       "6  GODIVA Chocolatier Opens Lifestyle Concept Des...   \n",
       "7  Spring-Inspired Heritage Afternoon Tea: Au Jar...   \n",
       "8                        Ding Dong @ 115 Amoy Street   \n",
       "9  Boru Boru X Candour Coffee | A Lunch-Only Pop-...   \n",
       "\n",
       "                                             Details            Date  \\\n",
       "5  occupying the iconic colonial house in singapo...  August 2, 2017   \n",
       "6  luxury belgian chocolate brand godiva chocolat...   June 30, 2017   \n",
       "7  the lobby lounge at intercontinental singapore...   June 26, 2017   \n",
       "8  established in 2013, ding dong has been the go...   June 19, 2017   \n",
       "9  as its name suggests, boru boru (a pop-up japa...    May 21, 2017   \n",
       "\n",
       "                                   Processed Summary  \\\n",
       "5          sunday brunch corner house botanic garden   \n",
       "6  godiva chocolatier open lifestyle concept dess...   \n",
       "7  springinspired heritage afternoon tea au jardi...   \n",
       "8                                     ding dong amoy   \n",
       "9  boru boru x candour coffee | lunchonly popup c...   \n",
       "\n",
       "                                    Processed Detail  \n",
       "5  occupying iconic colonial house botanic garden...  \n",
       "6  luxury belgian chocolate brand godiva chocolat...  \n",
       "7  lobby lounge intercontinental launched new spr...  \n",
       "8  established ding dong gotorestaurant diner exp...  \n",
       "9  suggests boru boru popup japanese cafe sharing...  "
      ]
     },
     "execution_count": 7,
     "metadata": {},
     "output_type": "execute_result"
    }
   ],
   "source": [
    "df = pd.DataFrame(flist, columns = ['Title', 'Details', 'Date', 'Processed Summary', 'Processed Detail'])  \n",
    "df.tail()"
   ]
  },
  {
   "cell_type": "code",
   "execution_count": 8,
   "metadata": {},
   "outputs": [
    {
     "data": {
      "text/plain": [
       "10"
      ]
     },
     "execution_count": 8,
     "metadata": {},
     "output_type": "execute_result"
    }
   ],
   "source": [
    "len(df)"
   ]
  },
  {
   "cell_type": "code",
   "execution_count": 9,
   "metadata": {
    "collapsed": true
   },
   "outputs": [],
   "source": [
    "df.drop_duplicates(inplace=True)"
   ]
  },
  {
   "cell_type": "code",
   "execution_count": 10,
   "metadata": {},
   "outputs": [
    {
     "data": {
      "text/plain": [
       "10"
      ]
     },
     "execution_count": 10,
     "metadata": {},
     "output_type": "execute_result"
    }
   ],
   "source": [
    "len(df)"
   ]
  },
  {
   "cell_type": "code",
   "execution_count": 11,
   "metadata": {},
   "outputs": [
    {
     "name": "stdout",
     "output_type": "stream",
     "text": [
      "don ho- social kitchen & bar opened earlier this year as the newest kid on the block along keong saik road. sassy and stylish with just a little bit of funk, this tropical-themed restaurant served up australian-fusion food with a touch of middle-east in the evenings paired with vibrant eclectic cocktails. not too long ago however, don ho also rolled out their brunch menu which is now available only on weekends. decidedly modest, the menu features ten dishes which are sufficient for a complete weekend brunch experience, island-style. we started with two smoothies, the flamingo paradise $12 for me and winter is coming $12 for him (he is an avid game of thrones fan you see). the pink one which was mine could not be faulted for it was creamy, sweet and refreshing. made up of strawberry, mango, banana and coconut milk, you probably can understand why i enjoyed it so much. his on the other hand, was the green one- made up of all things good and detoxifying. kale, cinnamon, ginger, apricot and almond. quite peculiar tasting at first but you get used it after a while. well, he did finish the whole glass, right to the last drop. for the food, we ordered the slow cooked eggs $18 that is sure to win the hearts of vegetarians. eggs, wild mushrooms atop toasted brioche and a sprinkle of arugula, what’s not to love? the mushrooms were hearty and perfectly sautéed while the brioche was nicely buttered. this was dressed with red wine sauce for added decadence. another healthy option was the hot smoked salmon $20 that was served with a decent sized salmon and a generous portion of deep fried potato bites. the orange dressing gave the dish a sweet tangy zest and the runny yolk made it complete. nothing too spectacular though, we thought this one was less impressive than the previous. for something pretty and dessert-like, the brioche french toast $22 with its eye-catching baby-pink raspberry cream cheese ought to do the trick. we had high hopes for this one but unfortunately the best part was probably the bananas that were adequately ripe. apart from that, the toast was a tad dry, the cream cheese was tart and all the elements did not come together as harmoniously as we had hoped. nonetheless, don ho is indeed an interesting addition to the keong saik enclave and a great new hangout for after-work drinks. you can also come by for brunch on a lazy sunday morning and enjoy the different facade the restaurant presents when natural light flows in, and brings out the vivid colour palette and larger-than-life motifs on the walls that make for great backdrops for photographs. 1 keong saik road\n",
      " singapore 089109\n",
      " tel: +65 6223 5001 opening hrs:\n",
      " dinner\n",
      " tuesday – saturday\n",
      " 6pm til midnight brunch\n",
      " sat – sun | 10am til 4pm\n",
      " last order 2.30pm\n"
     ]
    }
   ],
   "source": [
    "x = df.iloc[3,1]\n",
    "print x"
   ]
  },
  {
   "cell_type": "code",
   "execution_count": 12,
   "metadata": {
    "collapsed": true
   },
   "outputs": [],
   "source": [
    "# pickle dataframe\n",
    "df.to_pickle('gninethree.pickle')"
   ]
  },
  {
   "cell_type": "code",
   "execution_count": 13,
   "metadata": {
    "collapsed": true
   },
   "outputs": [],
   "source": [
    "wd.quit()"
   ]
  }
 ],
 "metadata": {
  "kernelspec": {
   "display_name": "Python 2",
   "language": "python",
   "name": "python2"
  },
  "language_info": {
   "codemirror_mode": {
    "name": "ipython",
    "version": 2
   },
   "file_extension": ".py",
   "mimetype": "text/x-python",
   "name": "python",
   "nbconvert_exporter": "python",
   "pygments_lexer": "ipython2",
   "version": "2.7.13"
  }
 },
 "nbformat": 4,
 "nbformat_minor": 2
}

{
 "cells": [
  {
   "cell_type": "code",
   "execution_count": 1,
   "metadata": {
    "collapsed": true
   },
   "outputs": [],
   "source": [
    "import pandas as pd\n",
    "import re\n",
    "import time\n",
    "from nltk.stem import PorterStemmer, WordNetLemmatizer\n",
    "from sklearn.feature_extraction.stop_words import ENGLISH_STOP_WORDS\n",
    "from nltk.corpus import stopwords\n",
    "from selenium import webdriver\n",
    "from textacy.preprocess import preprocess_text\n",
    "import nltk\n",
    "\n",
    "from bs4 import BeautifulSoup as bs"
   ]
  },
  {
   "cell_type": "code",
   "execution_count": 2,
   "metadata": {
    "scrolled": false
   },
   "outputs": [
    {
     "name": "stdout",
     "output_type": "stream",
     "text": [
      "scrapping page :  1\n",
      "href :  https://thechosenglutton.wordpress.com/2017/10/29/level33craftbeerinspiredmenu/\n",
      "cleaned detail snippet :  level33 level33 worlds highest urban craftbrewery when level33 prides itsel\n",
      "href :  https://thechosenglutton.wordpress.com/2017/10/22/soi47/\n",
      "cleaned detail snippet :  soi number toa payoh soi number sits on the ground floor of a hdb block in \n",
      "href :  https://thechosenglutton.wordpress.com/2017/08/27/ramenchampioncentral/\n",
      "cleaned detail snippet :  ramen champion central clarke quay i cant believe it has been more than six\n",
      "href :  https://thechosenglutton.wordpress.com/2017/08/24/thelimetruck/\n",
      "cleaned detail snippet :  celebrity chef daniel shemtob flown in from halfway across the world in los\n",
      "href :  https://thechosenglutton.wordpress.com/2017/07/01/maisonikkokubar/\n",
      "cleaned detail snippet :  maison ikkoku bar 6th birthday special king prawn udon king prawn udon usdn\n",
      "href :  https://thechosenglutton.wordpress.com/2017/06/14/marriottdurianhighteabuffet/\n",
      "cleaned detail snippet :  one fruit many form its durian season again and to celebrate the king of fr\n",
      "href :  https://thechosenglutton.wordpress.com/2017/05/22/thedisgruntledbrasserieweekendbrunch/\n",
      "cleaned detail snippet :  the disgruntled brasserie a sister outlet of the disgruntled chef dempsey t\n",
      "scrapping page :  2\n",
      "href :  https://thechosenglutton.wordpress.com/2017/05/11/donhosingapore/\n",
      "cleaned detail snippet :  don ho social kitchen bar mod australian communal dining experience go easy\n",
      "href :  https://thechosenglutton.wordpress.com/2017/05/03/axisbarafternoonteamay2017/\n",
      "cleaned detail snippet :  axis bar lounge mandarin oriental singapore we must have been to axis bar l\n",
      "href :  https://thechosenglutton.wordpress.com/2017/05/01/thecarveryhearthandheatbuffet/\n",
      "cleaned detail snippet :  the carvery park hotel alexandra the carvery park hotel alexandra argentini\n",
      "href :  https://thechosenglutton.wordpress.com/2017/04/11/coastessentosa/\n",
      "cleaned detail snippet :  coastes siloso beach coastes siloso beach coastes siloso beach coastes silo\n",
      "href :  https://thechosenglutton.wordpress.com/2017/04/09/flyingmonkey/\n",
      "cleaned detail snippet :  flying monkey bussorah street at the heart of kampong glam and along bussor\n",
      "href :  https://thechosenglutton.wordpress.com/2017/04/07/parkroyalcrabbuffet/\n",
      "cleaned detail snippet :  curry crab meat kueh pie tee stirfried green mussels with lemongrass fresh \n",
      "href :  https://thechosenglutton.wordpress.com/2017/03/31/j65hoteljen/\n",
      "cleaned detail snippet :  j65 hotel jen tanglin earlier this month j65 hotel jen tanglin by shangrila\n",
      "Time taken : 2.70371916691  minutes\n",
      "14\n"
     ]
    }
   ],
   "source": [
    "start = time.time()\n",
    "\n",
    "wd = webdriver.Chrome()\n",
    "\n",
    "b_summary = []\n",
    "b_detail = []\n",
    "b_date = []\n",
    "b_summary_clean = []\n",
    "b_detail_clean = []\n",
    "\n",
    "for i in range(1,3):\n",
    "    print 'scrapping page : ', i\n",
    "    url = 'https://thechosenglutton.wordpress.com/page/' + str(i) + '/'   \n",
    "\n",
    "    try:\n",
    "        wd.get(url)\n",
    "    except:\n",
    "        continue\n",
    "    response = wd.page_source\n",
    "    soup = bs(response, 'html.parser')\n",
    "    \n",
    "    try:\n",
    "        blogs = soup.find_all('h1', {'class' : 'entry-title'})\n",
    "    except:\n",
    "        continue\n",
    "        \n",
    "    for summary in blogs:\n",
    "        try:\n",
    "            href = summary.find('a').get('href')\n",
    "            print 'href : ', href\n",
    "        except:\n",
    "            continue            \n",
    "        \n",
    "        try:\n",
    "            wd.get(href)\n",
    "        except:\n",
    "            continue\n",
    "        \n",
    "        r = wd.page_source\n",
    "        s = bs(r, 'html.parser')\n",
    "\n",
    "        # find date\n",
    "        try:\n",
    "            date = s.find('time', {'class' : 'entry-date'}).text\n",
    "        except:\n",
    "            continue\n",
    "            \n",
    "        # find detail\n",
    "        try:\n",
    "            y = s.find('div', {'class' : \"entry-content\"}).find_all('p')\n",
    "        except:\n",
    "            continue\n",
    "        doc = []\n",
    "        for p in y:\n",
    "            if p.text:\n",
    "                doc.append(p.text)\n",
    "        d = ' '.join(doc)\n",
    "\n",
    "        b_summary.append(summary.text)\n",
    "        b_detail.append(d)\n",
    "        b_date.append(date)\n",
    "        \n",
    "        # clean summary and detail \n",
    "        clean_summary = preprocess_text(summary.text, fix_unicode=True, lowercase=True, transliterate=True, \n",
    "                                                no_numbers=True, no_urls=True, no_emails=True, no_phone_numbers=True, \n",
    "                                                no_currency_symbols=True, no_punct=True, no_accents=True)\n",
    "        \n",
    "        clean_detail = preprocess_text(d, fix_unicode=True, lowercase=True, transliterate=True, \n",
    "                                                no_numbers=True, no_urls=True, no_emails=True, no_phone_numbers=True, \n",
    "                                                no_currency_symbols=True, no_punct=True, no_accents=True)\n",
    "        \n",
    "        b_summary_clean.append(clean_summary)\n",
    "        b_detail_clean.append(clean_detail)\n",
    "        \n",
    "        print 'cleaned detail snippet : ', clean_detail[:75]\n",
    "        \n",
    "end = time.time()\n",
    "exe_time = (end - start)/60\n",
    "print 'Time taken :',(exe_time),' minutes'\n",
    "\n",
    "print len(b_date)"
   ]
  },
  {
   "cell_type": "code",
   "execution_count": 3,
   "metadata": {
    "collapsed": true
   },
   "outputs": [],
   "source": [
    "# remove stop words from cleaned summary and cleaned detail and lemmatize them\n",
    "\n",
    "stoplist = set(stopwords.words('english') + \\\n",
    "               ['number',\"singapore\", \"food\", \"im\", \"street\", \n",
    "                'porn','watch', 'video', 'centre', '...',\n",
    "                'eat', 'day', 'time', 'cdataadsbygoogle', 'windowadsbygoogle',\n",
    "                'wa', 'ha', 'come', 'place', 'dish', 'bring', 'think', 'quite','located',\n",
    "                'month', 'went', 'probably', 'am', 'pm', 'say', 'said','including','year','item',\n",
    "                'youre', 'sure', 'dont', 'came','really', 'got', 'thing', 'address', 'photo',\n",
    "                'credit', 'opening', 'hour'] \\\n",
    "                 + list(ENGLISH_STOP_WORDS))"
   ]
  },
  {
   "cell_type": "code",
   "execution_count": 4,
   "metadata": {},
   "outputs": [
    {
     "name": "stdout",
     "output_type": "stream",
     "text": [
      "Time taken : 0.135245084763  seconds\n",
      "14\n",
      "14\n"
     ]
    }
   ],
   "source": [
    "start = time.time()\n",
    "\n",
    "summary_tokens = []\n",
    "for item in b_summary_clean:  \n",
    "    try:\n",
    "        Tokens = nltk.word_tokenize(item)\n",
    "        t = [tok for tok in Tokens if tok not in stoplist]\n",
    "    except:\n",
    "        continue\n",
    "    summary_tokens.append(t)\n",
    "    \n",
    "detail_tokens = []\n",
    "for item in b_detail_clean:  \n",
    "    try:\n",
    "        Tokens = nltk.word_tokenize(item)\n",
    "        t = [tok for tok in Tokens if tok not in stoplist]\n",
    "    except:\n",
    "        continue\n",
    "    detail_tokens.append(t)   \n",
    "\n",
    "    \n",
    "end = time.time()\n",
    "exe_time = end - start\n",
    "print 'Time taken :',(exe_time),' seconds'\n",
    "    \n",
    "print len(summary_tokens)\n",
    "print len(detail_tokens)"
   ]
  },
  {
   "cell_type": "code",
   "execution_count": 5,
   "metadata": {},
   "outputs": [
    {
     "name": "stdout",
     "output_type": "stream",
     "text": [
      "Time taken : 5.59376883507  seconds\n",
      "14\n",
      "14\n"
     ]
    }
   ],
   "source": [
    "start = time.time()\n",
    "\n",
    "summary_lem =[]\n",
    "wnl = WordNetLemmatizer()\n",
    "for item in summary_tokens:\n",
    "    t = \" \".join([wnl.lemmatize(i) for i in item])\n",
    "    summary_lem.append(t) \n",
    "    \n",
    "detail_lem =[]\n",
    "wnl = WordNetLemmatizer()\n",
    "for item in detail_tokens:\n",
    "    t = \" \".join([wnl.lemmatize(i) for i in item])\n",
    "    detail_lem.append(t)     \n",
    "   \n",
    "end = time.time()\n",
    "exe_time = end - start\n",
    "print 'Time taken :',(exe_time),' seconds'\n",
    "\n",
    "print len(summary_lem)\n",
    "print len(detail_lem)"
   ]
  },
  {
   "cell_type": "code",
   "execution_count": 6,
   "metadata": {
    "collapsed": true
   },
   "outputs": [],
   "source": [
    "# create final list to fit in dataframe\n",
    "flist = []\n",
    "for i in range(len(b_summary)):\n",
    "    f = [b_summary[i], b_detail[i], b_date[i], summary_lem[i], detail_lem[i]]\n",
    "    flist.append(f)"
   ]
  },
  {
   "cell_type": "code",
   "execution_count": 7,
   "metadata": {},
   "outputs": [
    {
     "data": {
      "text/html": [
       "<div>\n",
       "<style>\n",
       "    .dataframe thead tr:only-child th {\n",
       "        text-align: right;\n",
       "    }\n",
       "\n",
       "    .dataframe thead th {\n",
       "        text-align: left;\n",
       "    }\n",
       "\n",
       "    .dataframe tbody tr th {\n",
       "        vertical-align: top;\n",
       "    }\n",
       "</style>\n",
       "<table border=\"1\" class=\"dataframe\">\n",
       "  <thead>\n",
       "    <tr style=\"text-align: right;\">\n",
       "      <th></th>\n",
       "      <th>Title</th>\n",
       "      <th>Details</th>\n",
       "      <th>Date</th>\n",
       "      <th>Processed Summary</th>\n",
       "      <th>Processed Detail</th>\n",
       "    </tr>\n",
       "  </thead>\n",
       "  <tbody>\n",
       "    <tr>\n",
       "      <th>9</th>\n",
       "      <td>The Carvery @ Park Hotel Alexandra: Weekend Wo...</td>\n",
       "      <td>the carvery @ park hotel alexandra the carvery...</td>\n",
       "      <td>May 1, 2017</td>\n",
       "      <td>carvery park hotel alexandra weekend woodfired...</td>\n",
       "      <td>carvery park hotel alexandra carvery park hote...</td>\n",
       "    </tr>\n",
       "    <tr>\n",
       "      <th>10</th>\n",
       "      <td>Coastes: A Beachside Dining Experience</td>\n",
       "      <td>coastes @ siloso beach coastes @ siloso beach ...</td>\n",
       "      <td>April 11, 2017</td>\n",
       "      <td>coastes beachside dining experience</td>\n",
       "      <td>coastes siloso beach coastes siloso beach coas...</td>\n",
       "    </tr>\n",
       "    <tr>\n",
       "      <th>11</th>\n",
       "      <td>Flying Monkey: Promising Indian Tapas &amp; Indian...</td>\n",
       "      <td>flying monkey @ bussorah street at the heart o...</td>\n",
       "      <td>April 9, 2017</td>\n",
       "      <td>flying monkey promising indian tapa indianinsp...</td>\n",
       "      <td>flying monkey bussorah heart kampong glam buss...</td>\n",
       "    </tr>\n",
       "    <tr>\n",
       "      <th>12</th>\n",
       "      <td>Plaza Brasserie @ PARKROYAL on Beach Road: Ret...</td>\n",
       "      <td>curry crab meat kueh pie tee stir-fried green ...</td>\n",
       "      <td>April 7, 2017</td>\n",
       "      <td>plaza brasserie parkroyal beach road return cr...</td>\n",
       "      <td>curry crab meat kueh pie tee stirfried green m...</td>\n",
       "    </tr>\n",
       "    <tr>\n",
       "      <th>13</th>\n",
       "      <td>J65 @ Hotel Jen Tanglin: Different Day of the ...</td>\n",
       "      <td>j65 @ hotel jen tanglin earlier this month, j6...</td>\n",
       "      <td>March 31, 2017</td>\n",
       "      <td>j65 hotel jen tanglin different week different...</td>\n",
       "      <td>j65 hotel jen tanglin earlier j65 hotel jen ta...</td>\n",
       "    </tr>\n",
       "  </tbody>\n",
       "</table>\n",
       "</div>"
      ],
      "text/plain": [
       "                                                Title  \\\n",
       "9   The Carvery @ Park Hotel Alexandra: Weekend Wo...   \n",
       "10             Coastes: A Beachside Dining Experience   \n",
       "11  Flying Monkey: Promising Indian Tapas & Indian...   \n",
       "12  Plaza Brasserie @ PARKROYAL on Beach Road: Ret...   \n",
       "13  J65 @ Hotel Jen Tanglin: Different Day of the ...   \n",
       "\n",
       "                                              Details            Date  \\\n",
       "9   the carvery @ park hotel alexandra the carvery...     May 1, 2017   \n",
       "10  coastes @ siloso beach coastes @ siloso beach ...  April 11, 2017   \n",
       "11  flying monkey @ bussorah street at the heart o...   April 9, 2017   \n",
       "12  curry crab meat kueh pie tee stir-fried green ...   April 7, 2017   \n",
       "13  j65 @ hotel jen tanglin earlier this month, j6...  March 31, 2017   \n",
       "\n",
       "                                    Processed Summary  \\\n",
       "9   carvery park hotel alexandra weekend woodfired...   \n",
       "10                coastes beachside dining experience   \n",
       "11  flying monkey promising indian tapa indianinsp...   \n",
       "12  plaza brasserie parkroyal beach road return cr...   \n",
       "13  j65 hotel jen tanglin different week different...   \n",
       "\n",
       "                                     Processed Detail  \n",
       "9   carvery park hotel alexandra carvery park hote...  \n",
       "10  coastes siloso beach coastes siloso beach coas...  \n",
       "11  flying monkey bussorah heart kampong glam buss...  \n",
       "12  curry crab meat kueh pie tee stirfried green m...  \n",
       "13  j65 hotel jen tanglin earlier j65 hotel jen ta...  "
      ]
     },
     "execution_count": 7,
     "metadata": {},
     "output_type": "execute_result"
    }
   ],
   "source": [
    "df = pd.DataFrame(flist, columns = ['Title', 'Details', 'Date', 'Processed Summary', 'Processed Detail'])  \n",
    "df.tail()"
   ]
  },
  {
   "cell_type": "code",
   "execution_count": 8,
   "metadata": {},
   "outputs": [
    {
     "data": {
      "text/plain": [
       "14"
      ]
     },
     "execution_count": 8,
     "metadata": {},
     "output_type": "execute_result"
    }
   ],
   "source": [
    "len(df)"
   ]
  },
  {
   "cell_type": "code",
   "execution_count": 9,
   "metadata": {
    "collapsed": true
   },
   "outputs": [],
   "source": [
    "df.drop_duplicates(inplace=True)"
   ]
  },
  {
   "cell_type": "code",
   "execution_count": 10,
   "metadata": {},
   "outputs": [
    {
     "data": {
      "text/plain": [
       "14"
      ]
     },
     "execution_count": 10,
     "metadata": {},
     "output_type": "execute_result"
    }
   ],
   "source": [
    "len(df)"
   ]
  },
  {
   "cell_type": "code",
   "execution_count": 11,
   "metadata": {},
   "outputs": [
    {
     "name": "stdout",
     "output_type": "stream",
     "text": [
      "celebrity chef daniel shemtob flown in from halfway across the world in los angeles is the lime truck, an award-winning food truck. it is a concept that has yet to find its way through or around the local legislation (i am guessing due to licensing, hygiene and cleanliness issues), but essentially a mobile eatery serving up typically handcrafted cuisines to where the demand is. but that has not stopped the winner of food network’s “the great food truck race” and yahoo!’s “top 10 trucks in america” from setting up shop here (literally, since mobile food trucks ain’t a thing yet) in the little red dot, because let’s be frank, nothing can prevent our food culture from flourishing into an even bigger melting pot of vibrant cuisines and concepts. parking its “truck” at pasarbella at suntec city, one can already imagine it to be based in a casual and high-spirited setting, not too far off from how it is like back at their hometown. interestingly, it is the celebrity chef daniel shemtob’s first venture out of america with the lime truck, and i cannot feel more proud and honoured to fly the singapore flag. guacamole ($3.90) as a food truck that prides itself as representing ingredient-driven new american cuisine, with mexican and latin american influences, the team behind the wheels make tacos built from scratch – that includes moulding the dough on a daily basis to churn out fresh tortillas, ready to be embellished with multi-coloured locally sourced ingredients. side dishes are also available – i say tackle anything with their guacamole ($3.90). it is one-of-a-kind, packed with a punch from a mixture of avocado, lime juice, garlic, coriander, black beans, sweet corn and jalapenos. it is one of the less ordinary and more memorable guacamole i have had. the brussel sprouts ($3.90) is also worth being health-conscious for, if you are able to get over the inherent smell and taste of it to begin with. the reward is a mouthful of juicy and crunchy sprouts with hints of tanginess, probably from the chipotle honey sauce, perfect to sufficiently cut the sometimes overpowering taste of the sprouts itself. no #1 steak taco ($4.60) the main highlights themselves comprise of tacos with various flavours. my favourite of the lot has to be the no #1 steak taco ($4.60). the marinated flat iron cut is lightly grilled and accompanied with ginger slaw, sesame, cilantro chimchurri and wontons. it gives an overall dominant taste profile of sweetness, but even as someone who prefers to have the sweetness reserved for desserts, i find it acceptable, probably due to the complementary touch of spiciness and sourness at the same time. the steak itself was reasonable considering how affordably priced it is; while it has a chewy texture, the chewing does not go on endlessly. importantly, the portion of the steak itself is generous. braised pork belly taco ($4) its counterpart, braised pork belly taco ($4), unfortunately sounded more promising on paper. first, i lament the fact that the “pork belly” itself has a much high proportion of lean meat than the fats – and because they are chopped up into rather small parts, much of my bites comprised the monotonous lean meat. i guess it is all about expectations here; i do always expect a good portion of fats and meat when i see “pork belly”, regardless of how unhealthy that may be. second, the sweet and soy sauce doused on the meat was excessive in quantity and overpowering in its combined sweetness and saltiness. the outcome was a sharp contrast between the meat and the sauce, and it felt like i was at a crossroad of decisions – to continue eating or not. as it is now, i would suggest passing this up for the steak taco. potato taco ($3.50) to cater to the gluten-free and/or vegan eaters, the lime truck also put together potato taco ($3.50). the few of us nodded in agreement that it was overly starchy as a dish itself. at the same time, i note that vegan eaters may be accustomed to that heavyweight combination. the potato itself was pretty amazing though, with the slightly crusty outside. tortilla freshly made daily despite its painstaking efforts to hand-make its tacos on a daily basis, with respect, i find it hard to appreciate what comes out of it. it might be that the kitchen was not ready to deal with the large crowd. it felt like they were in a hurry because while the time the tortilla was supposed to be heated is fixed for an ideal product, the tortilla turned out to be undercooked in my humble opinion. it was still slightly doughy, plus, it was so soft and fragile that it proved to be a challenge finishing the tacos without the tortilla first breaking. the messy experience of tucking in tacos with your fingers was thus lessened to a tidier “posh” experience of fork and knife. depending on how you see it, it could be a good or bad thing. the lime truck opens its truck doors to the public tomorrow, 26 august 2017, from 10am onwards. goods news if you are around the area, or intend to be the first kiasu singaporean to check it out: from 2pm to 8pm, stand a chance to get your hands on exclusive freebies (like the lime truck merchandise) and 2-for-1 tacos! snag those no #1 steak taco! or maybe other flavours including buttermilk fried chicken taco ($4) and grilled barramundi taco ($4.40). i do hope the team is ready for a crowd now, otherwise the effort put into these is going to a waste. what’s worth ordering:\n",
      "guacamole\n",
      "brussel sprouts\n",
      "no #1 steak taco address: pasarbella @ suntec city, 3 temasek boulevard, suntec city, north wing, #01-k39\n",
      "opening hours: 10am – 10pm (daily)\n",
      "facebook | instagram it might not be as apt, posting a holiday itinerary here on a food blog, but hey, occasional exceptions are well needed to spice things up a little every now and then, right. since hong kong is a nearby destination, that many singaporeans like you and i travel to (and some, making… in \"lists / others\" it can be hard for me to find traveling companions, considering my heightened keenness for exploration of places of food isn't necessarily as much a priority as many others. now, with inflation and the limited number of annual leave we have, constant traveling isn't an option. but i'm thinking bay… in \"media invites\" everyone can use some nostalgia in their lives. themed 'a walk down memory lane', this year's singapore food festival (sff) by the singapore tourism board (stb) will see some reminiscing and re-enactment of the best of the past two decades of the festival. first launched in 1994, the festival has… in \"media invites\"\n"
     ]
    }
   ],
   "source": [
    "x = df.iloc[3,1]\n",
    "print x"
   ]
  },
  {
   "cell_type": "code",
   "execution_count": 12,
   "metadata": {
    "collapsed": true
   },
   "outputs": [],
   "source": [
    "# pickle dataframe\n",
    "df.to_pickle('chosenglutton.pickle')"
   ]
  },
  {
   "cell_type": "code",
   "execution_count": 13,
   "metadata": {
    "collapsed": true
   },
   "outputs": [],
   "source": [
    "wd.quit()"
   ]
  }
 ],
 "metadata": {
  "kernelspec": {
   "display_name": "Python 2",
   "language": "python",
   "name": "python2"
  },
  "language_info": {
   "codemirror_mode": {
    "name": "ipython",
    "version": 2
   },
   "file_extension": ".py",
   "mimetype": "text/x-python",
   "name": "python",
   "nbconvert_exporter": "python",
   "pygments_lexer": "ipython2",
   "version": "2.7.13"
  }
 },
 "nbformat": 4,
 "nbformat_minor": 2
}

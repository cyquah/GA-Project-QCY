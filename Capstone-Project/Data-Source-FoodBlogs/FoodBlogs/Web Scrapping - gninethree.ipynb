{
 "cells": [
  {
   "cell_type": "code",
   "execution_count": 1,
   "metadata": {
    "collapsed": true
   },
   "outputs": [],
   "source": [
    "import pandas as pd\n",
    "import re\n",
    "import time\n",
    "from nltk.stem import PorterStemmer, WordNetLemmatizer\n",
    "from sklearn.feature_extraction.stop_words import ENGLISH_STOP_WORDS\n",
    "from nltk.corpus import stopwords\n",
    "from selenium import webdriver\n",
    "from textacy.preprocess import preprocess_text\n",
    "import nltk\n",
    "\n",
    "from bs4 import BeautifulSoup as bs"
   ]
  },
  {
   "cell_type": "code",
   "execution_count": 2,
   "metadata": {
    "scrolled": false
   },
   "outputs": [
    {
     "name": "stdout",
     "output_type": "stream",
     "text": [
      "scrapping page :  1\n",
      "href :  http://gninethree.com/2017/10/24/ps-cafe-opens-one-fullerton/\n",
      "cleaned detail snippet :  pscafe has opened an outlet at one fullerton this wellloved caferestaurant \n",
      "href :  http://gninethree.com/2017/10/17/travel-mutekiya-ramen-%e7%84%a1%e6%95%b5%e5%ae%b6-in-tokyo/\n",
      "cleaned detail snippet :  when my colleague first told read incessantly nagged at me to visit this ra\n",
      "href :  http://gninethree.com/2017/09/03/the-bird-southern-table-bar-marina-bay-sands/\n",
      "cleaned detail snippet :  another franchise has opened in singapore and this time it is one that is s\n",
      "href :  http://gninethree.com/2017/08/27/weekend-brunch-don-ho-social-kitchen-bar/\n",
      "cleaned detail snippet :  don ho social kitchen bar opened earlier this year as the newest kid on the\n",
      "href :  http://gninethree.com/2017/08/08/magnum-opens-1st-magnum-pleasure-store-in-singapore-ion-orchard/\n",
      "cleaned detail snippet :  if you are one of those who would eagerly anticipate whenever magnum launch\n",
      "scrapping page :  2\n",
      "href :  http://gninethree.com/2017/08/02/sunday-brunch-corner-house-singapore-botanic-gardens/\n",
      "cleaned detail snippet :  occupying the iconic colonial house in singapore botanic gardens that forme\n",
      "href :  http://gninethree.com/2017/06/30/godiva-chocolatier-opens-lifestyle-concept-dessert-cafe-ion-orchard/\n",
      "href :  http://gninethree.com/2017/06/26/spring-inspired-heritage-afternoon-tea-au-jardin-at-the-lobby-lounge-intercontinental-singapore/\n",
      "cleaned detail snippet :  the lobby lounge at intercontinental singapore has just launched their new \n",
      "href :  http://gninethree.com/2017/06/19/ding-dong-115-amoy-street/\n",
      "cleaned detail snippet :  established in number ding dong has been the gotorestaurant for many diners\n",
      "href :  http://gninethree.com/2017/05/21/boru-boru-x-candour-coffee-lunch-pop-concept-serving-japanese-bowls/\n",
      "cleaned detail snippet :  as its name suggests boru boru a popup japanese cafe sharing the space with\n",
      "scrapping page :  3\n",
      "href :  http://gninethree.com/2017/05/09/12-nett-porridge-buffet-every-last-friday-of-the-month-the-art-aps/\n",
      "cleaned detail snippet :  i have blogged about the assumption restaurant for training art a few times\n",
      "href :  http://gninethree.com/2017/04/27/weekend-brunch-birds-of-a-feather-115-amoy-street/\n",
      "cleaned detail snippet :  i heard many great things about birds of a feather before my first visit he\n",
      "href :  http://gninethree.com/2017/03/28/osteria-mozza-by-mario-batali-marina-bay-sands-singapore/\n",
      "cleaned detail snippet :  osteria mozza offers diners an assortment of dishes inspired by their chefs\n",
      "href :  http://gninethree.com/2017/03/23/same-day-delivery-flowers-from-a-better-florist/\n",
      "cleaned detail snippet :  ever needed to get flowers delivered to your girlfriend or loved one at the\n",
      "href :  http://gninethree.com/2017/02/07/botanico-by-the-garage-singapore-botanic-gardens-cluny-park-road/\n",
      "cleaned detail snippet :  as mentioned in my earlier post botanico is one of two dining destinations \n",
      "scrapping page :  4\n",
      "href :  http://gninethree.com/2017/01/30/bees-knees-cafe-by-the-garage-singapore-botanic-gardens-cluny-park-road/\n",
      "cleaned detail snippet :  from the same people who opened one rochester group and numberaltitude come\n",
      "href :  http://gninethree.com/2017/01/24/cny-17-oriental-celebration-in-luxurious-paradise-cassia-capella-sentosa/\n",
      "cleaned detail snippet :  the lunar new year is less than a week away and if you are looking for a re\n",
      "href :  http://gninethree.com/2017/01/07/tai-cheong-bakery-holland-village/\n",
      "cleaned detail snippet :  if you have not heard of tai cheong bakery then you my friend might just be\n",
      "href :  http://gninethree.com/2017/01/01/ah-hua-kelong-seafood-restaurant-pasarbella-grandstand-200-turf-club-road/\n",
      "cleaned detail snippet :  singaporeans love their seafood and having seafood in a bag is fast becomin\n",
      "href :  http://gninethree.com/2016/12/23/christmas-16-clinton-street-baking-co-christmas-menu-specials/\n",
      "cleaned detail snippet :  christmas is just around the corner and if you have not yet found the right\n",
      "Time taken : 40.7438688318  minutes\n",
      "19\n"
     ]
    }
   ],
   "source": [
    "start = time.time()\n",
    "\n",
    "wd = webdriver.Chrome()\n",
    "\n",
    "b_summary = []\n",
    "b_detail = []\n",
    "b_date = []\n",
    "b_summary_clean = []\n",
    "b_detail_clean = []\n",
    "\n",
    "for i in range(1,5):\n",
    "    print 'scrapping page : ', i\n",
    "    url = 'http://gninethree.com/page/' + str(i) + '/'   \n",
    "\n",
    "    try:\n",
    "        wd.get(url)\n",
    "    except:\n",
    "        continue\n",
    "    response = wd.page_source\n",
    "    soup = bs(response, 'html.parser')\n",
    "    \n",
    "    try:\n",
    "        blogs = soup.find_all('h2', {'class' : 'title'})\n",
    "    except:\n",
    "        continue\n",
    "        \n",
    "    for summary in blogs:\n",
    "        try:\n",
    "            href = summary.find('a').get('href')\n",
    "            print 'href : ', href\n",
    "        except:\n",
    "            continue            \n",
    "        \n",
    "        try:\n",
    "            wd.get(href)\n",
    "        except:\n",
    "            continue\n",
    "        \n",
    "        r = wd.page_source\n",
    "        s = bs(r, 'html.parser')\n",
    "\n",
    "        # find date\n",
    "        try:\n",
    "            date = s.find('span', {'class' : 'meta_date'}).text\n",
    "        except:\n",
    "            continue\n",
    "            \n",
    "        # find detail\n",
    "        try:\n",
    "            y = s.find('div', {'class' : \"entry\"}).find_all('p')\n",
    "        except:\n",
    "            continue\n",
    "        doc = []\n",
    "        for p in y:\n",
    "            if p.text:\n",
    "                doc.append(p.text)\n",
    "        d = ' '.join(doc)\n",
    "\n",
    "        b_summary.append(summary.text)\n",
    "        b_detail.append(d)\n",
    "        b_date.append(date)\n",
    "        \n",
    "        # clean summary and detail \n",
    "        clean_summary = preprocess_text(summary.text, fix_unicode=True, lowercase=True, transliterate=True, \n",
    "                                                no_numbers=True, no_urls=True, no_emails=True, no_phone_numbers=True, \n",
    "                                                no_currency_symbols=True, no_punct=True, no_accents=True)\n",
    "        \n",
    "        clean_detail = preprocess_text(d, fix_unicode=True, lowercase=True, transliterate=True, \n",
    "                                                no_numbers=True, no_urls=True, no_emails=True, no_phone_numbers=True, \n",
    "                                                no_currency_symbols=True, no_punct=True, no_accents=True)\n",
    "        \n",
    "        b_summary_clean.append(clean_summary)\n",
    "        b_detail_clean.append(clean_detail)\n",
    "        \n",
    "        print 'cleaned detail snippet : ', clean_detail[:75]\n",
    "        \n",
    "end = time.time()\n",
    "exe_time = (end - start)/60\n",
    "print 'Time taken :',(exe_time),' minutes'\n",
    "\n",
    "print len(b_date)"
   ]
  },
  {
   "cell_type": "code",
   "execution_count": 3,
   "metadata": {
    "collapsed": true
   },
   "outputs": [],
   "source": [
    "# remove stop words from cleaned summary and cleaned detail and lemmatize them\n",
    "\n",
    "stoplist = set(stopwords.words('english') + \\\n",
    "               ['number',\"singapore\", \"food\", \"im\", \"street\", \n",
    "                'porn','watch', 'video', 'centre', '...',\n",
    "                'eat', 'day', 'time', 'cdataadsbygoogle', 'windowadsbygoogle',\n",
    "                'wa', 'ha', 'come', 'place', 'dish', 'bring', 'think', 'quite','located',\n",
    "                'month', 'went', 'probably', 'am', 'pm', 'say', 'said','including','year','item',\n",
    "                'youre', 'sure', 'dont', 'came','really', 'got', 'thing', 'address', 'photo',\n",
    "                'credit', 'opening', 'hour'] \\\n",
    "                 + list(ENGLISH_STOP_WORDS))"
   ]
  },
  {
   "cell_type": "code",
   "execution_count": 4,
   "metadata": {},
   "outputs": [
    {
     "name": "stdout",
     "output_type": "stream",
     "text": [
      "Time taken : 0.134683847427  seconds\n",
      "19\n",
      "19\n"
     ]
    }
   ],
   "source": [
    "start = time.time()\n",
    "\n",
    "summary_tokens = []\n",
    "for item in b_summary_clean:  \n",
    "    try:\n",
    "        Tokens = nltk.word_tokenize(item)\n",
    "        t = [tok for tok in Tokens if tok not in stoplist]\n",
    "    except:\n",
    "        continue\n",
    "    summary_tokens.append(t)\n",
    "    \n",
    "detail_tokens = []\n",
    "for item in b_detail_clean:  \n",
    "    try:\n",
    "        Tokens = nltk.word_tokenize(item)\n",
    "        t = [tok for tok in Tokens if tok not in stoplist]\n",
    "    except:\n",
    "        continue\n",
    "    detail_tokens.append(t)   \n",
    "\n",
    "    \n",
    "end = time.time()\n",
    "exe_time = end - start\n",
    "print 'Time taken :',(exe_time),' seconds'\n",
    "    \n",
    "print len(summary_tokens)\n",
    "print len(detail_tokens)"
   ]
  },
  {
   "cell_type": "code",
   "execution_count": 5,
   "metadata": {},
   "outputs": [
    {
     "name": "stdout",
     "output_type": "stream",
     "text": [
      "Time taken : 3.19562101364  seconds\n",
      "19\n",
      "19\n"
     ]
    }
   ],
   "source": [
    "start = time.time()\n",
    "\n",
    "summary_lem =[]\n",
    "wnl = WordNetLemmatizer()\n",
    "for item in summary_tokens:\n",
    "    t = \" \".join([wnl.lemmatize(i) for i in item])\n",
    "    summary_lem.append(t) \n",
    "    \n",
    "detail_lem =[]\n",
    "wnl = WordNetLemmatizer()\n",
    "for item in detail_tokens:\n",
    "    t = \" \".join([wnl.lemmatize(i) for i in item])\n",
    "    detail_lem.append(t)     \n",
    "   \n",
    "end = time.time()\n",
    "exe_time = end - start\n",
    "print 'Time taken :',(exe_time),' seconds'\n",
    "\n",
    "print len(summary_lem)\n",
    "print len(detail_lem)"
   ]
  },
  {
   "cell_type": "code",
   "execution_count": 6,
   "metadata": {
    "collapsed": true
   },
   "outputs": [],
   "source": [
    "# create final list to fit in dataframe\n",
    "flist = []\n",
    "for i in range(len(b_summary)):\n",
    "    f = [b_summary[i], b_detail[i], b_date[i], summary_lem[i], detail_lem[i]]\n",
    "    flist.append(f)"
   ]
  },
  {
   "cell_type": "code",
   "execution_count": 7,
   "metadata": {},
   "outputs": [
    {
     "data": {
      "text/html": [
       "<div>\n",
       "<style>\n",
       "    .dataframe thead tr:only-child th {\n",
       "        text-align: right;\n",
       "    }\n",
       "\n",
       "    .dataframe thead th {\n",
       "        text-align: left;\n",
       "    }\n",
       "\n",
       "    .dataframe tbody tr th {\n",
       "        vertical-align: top;\n",
       "    }\n",
       "</style>\n",
       "<table border=\"1\" class=\"dataframe\">\n",
       "  <thead>\n",
       "    <tr style=\"text-align: right;\">\n",
       "      <th></th>\n",
       "      <th>Title</th>\n",
       "      <th>Details</th>\n",
       "      <th>Date</th>\n",
       "      <th>Processed Summary</th>\n",
       "      <th>Processed Detail</th>\n",
       "    </tr>\n",
       "  </thead>\n",
       "  <tbody>\n",
       "    <tr>\n",
       "      <th>14</th>\n",
       "      <td>Bee’s Knees Cafe by The Garage @ Singapore Bot...</td>\n",
       "      <td>From the same people who opened One Rochester ...</td>\n",
       "      <td>January 30, 2017</td>\n",
       "      <td>bee knee cafe garage botanic garden cluny park...</td>\n",
       "      <td>people opened rochester group numberaltitude c...</td>\n",
       "    </tr>\n",
       "    <tr>\n",
       "      <th>15</th>\n",
       "      <td>CNY ’17: Oriental Celebration in Luxurious Par...</td>\n",
       "      <td>The Lunar New Year is less than a week away an...</td>\n",
       "      <td>January 24, 2017</td>\n",
       "      <td>cny oriental celebration luxurious paradise ca...</td>\n",
       "      <td>lunar new week away looking restaurant celebra...</td>\n",
       "    </tr>\n",
       "    <tr>\n",
       "      <th>16</th>\n",
       "      <td>Tai Cheong Bakery @ Holland Village, 31 Lorong...</td>\n",
       "      <td>If you have not heard of “Tai Cheong Bakery”, ...</td>\n",
       "      <td>January 7, 2017</td>\n",
       "      <td>tai cheong bakery holland village lorong liput</td>\n",
       "      <td>heard tai cheong bakery friend missing deemed ...</td>\n",
       "    </tr>\n",
       "    <tr>\n",
       "      <th>17</th>\n",
       "      <td>Ah Hua Kelong Seafood Restaurant @ Pasarbella,...</td>\n",
       "      <td>Singaporeans love their seafood and having sea...</td>\n",
       "      <td>January 1, 2017</td>\n",
       "      <td>ah hua kelong seafood restaurant pasarbella gr...</td>\n",
       "      <td>singaporean love seafood seafood bag fast comm...</td>\n",
       "    </tr>\n",
       "    <tr>\n",
       "      <th>18</th>\n",
       "      <td>Christmas ’16: Clinton Street Baking Co. Chris...</td>\n",
       "      <td>Christmas is just around the corner and if you...</td>\n",
       "      <td>December 23, 2016</td>\n",
       "      <td>christmas clinton baking christmas menu special</td>\n",
       "      <td>christmas corner right celebrate special occas...</td>\n",
       "    </tr>\n",
       "  </tbody>\n",
       "</table>\n",
       "</div>"
      ],
      "text/plain": [
       "                                                Title  \\\n",
       "14  Bee’s Knees Cafe by The Garage @ Singapore Bot...   \n",
       "15  CNY ’17: Oriental Celebration in Luxurious Par...   \n",
       "16  Tai Cheong Bakery @ Holland Village, 31 Lorong...   \n",
       "17  Ah Hua Kelong Seafood Restaurant @ Pasarbella,...   \n",
       "18  Christmas ’16: Clinton Street Baking Co. Chris...   \n",
       "\n",
       "                                              Details               Date  \\\n",
       "14  From the same people who opened One Rochester ...   January 30, 2017   \n",
       "15  The Lunar New Year is less than a week away an...   January 24, 2017   \n",
       "16  If you have not heard of “Tai Cheong Bakery”, ...    January 7, 2017   \n",
       "17  Singaporeans love their seafood and having sea...    January 1, 2017   \n",
       "18  Christmas is just around the corner and if you...  December 23, 2016   \n",
       "\n",
       "                                    Processed Summary  \\\n",
       "14  bee knee cafe garage botanic garden cluny park...   \n",
       "15  cny oriental celebration luxurious paradise ca...   \n",
       "16     tai cheong bakery holland village lorong liput   \n",
       "17  ah hua kelong seafood restaurant pasarbella gr...   \n",
       "18    christmas clinton baking christmas menu special   \n",
       "\n",
       "                                     Processed Detail  \n",
       "14  people opened rochester group numberaltitude c...  \n",
       "15  lunar new week away looking restaurant celebra...  \n",
       "16  heard tai cheong bakery friend missing deemed ...  \n",
       "17  singaporean love seafood seafood bag fast comm...  \n",
       "18  christmas corner right celebrate special occas...  "
      ]
     },
     "execution_count": 7,
     "metadata": {},
     "output_type": "execute_result"
    }
   ],
   "source": [
    "df = pd.DataFrame(flist, columns = ['Title', 'Details', 'Date', 'Processed Summary', 'Processed Detail'])  \n",
    "df.tail()"
   ]
  },
  {
   "cell_type": "code",
   "execution_count": 8,
   "metadata": {},
   "outputs": [
    {
     "data": {
      "text/plain": [
       "19"
      ]
     },
     "execution_count": 8,
     "metadata": {},
     "output_type": "execute_result"
    }
   ],
   "source": [
    "len(df)"
   ]
  },
  {
   "cell_type": "code",
   "execution_count": 9,
   "metadata": {
    "collapsed": true
   },
   "outputs": [],
   "source": [
    "df.drop_duplicates(inplace=True)"
   ]
  },
  {
   "cell_type": "code",
   "execution_count": 10,
   "metadata": {},
   "outputs": [
    {
     "data": {
      "text/plain": [
       "19"
      ]
     },
     "execution_count": 10,
     "metadata": {},
     "output_type": "execute_result"
    }
   ],
   "source": [
    "len(df)"
   ]
  },
  {
   "cell_type": "code",
   "execution_count": 11,
   "metadata": {},
   "outputs": [
    {
     "name": "stdout",
     "output_type": "stream",
     "text": [
      "DON HO- Social Kitchen & Bar opened earlier this year as the newest kid on the block along Keong Saik road. Sassy and stylish with just a little bit of funk, this tropical-themed restaurant served up Australian-fusion food with a touch of Middle-east in the evenings paired with vibrant eclectic cocktails. Not too long ago however, DON HO also rolled out their Brunch menu which is now available only on weekends. Decidedly modest, the menu features ten dishes which are sufficient for a complete weekend brunch experience, island-style. We started with two smoothies, the Flamingo Paradise $12 for me and Winter is Coming $12 for him (he is an avid Game of Thrones fan you see). The pink one which was mine could not be faulted for it was creamy, sweet and refreshing. Made up of strawberry, mango, banana and coconut milk, you probably can understand why I enjoyed it so much. His on the other hand, was the green one- made up of all things good and detoxifying. Kale, cinnamon, ginger, apricot and almond. Quite peculiar tasting at first but you get used it after a while. Well, he did finish the whole glass, right to the last drop. For the food, we ordered the Slow Cooked Eggs $18 that is sure to win the hearts of vegetarians. Eggs, wild mushrooms atop toasted brioche and a sprinkle of Arugula, what’s not to love? The mushrooms were hearty and perfectly sautéed while the brioche was nicely buttered. This was dressed with red wine sauce for added decadence. Another healthy option was the Hot Smoked Salmon $20 that was served with a decent sized salmon and a generous portion of deep fried potato bites. The orange dressing gave the dish a sweet tangy zest and the runny yolk made it complete. Nothing too spectacular though, we thought this one was less impressive than the previous. For something pretty and dessert-like, the Brioche French Toast $22 with its eye-catching baby-pink raspberry cream cheese ought to do the trick. We had high hopes for this one but unfortunately the best part was probably the bananas that were adequately ripe. Apart from that, the toast was a tad dry, the cream cheese was tart and all the elements did not come together as harmoniously as we had hoped. Nonetheless, DON HO is indeed an interesting addition to the Keong Saik enclave and a great new hangout for after-work drinks. You can also come by for brunch on a lazy Sunday morning and enjoy the different facade the restaurant presents when natural light flows in, and brings out the vivid colour palette and larger-than-life motifs on the walls that make for great backdrops for photographs. 1 Keong Saik Road\n",
      " Singapore 089109\n",
      " Tel: +65 6223 5001 Opening hrs:\n",
      " DINNER\n",
      " Tuesday – Saturday\n",
      " 6pm til midnight BRUNCH\n",
      " Sat – Sun | 10am til 4pm\n",
      " Last order 2.30pm\n"
     ]
    }
   ],
   "source": [
    "x = df.iloc[3,1]\n",
    "print x"
   ]
  },
  {
   "cell_type": "code",
   "execution_count": 12,
   "metadata": {
    "collapsed": true
   },
   "outputs": [],
   "source": [
    "# pickle dataframe\n",
    "df.to_pickle('gninethree.pickle')"
   ]
  },
  {
   "cell_type": "code",
   "execution_count": 13,
   "metadata": {
    "collapsed": true
   },
   "outputs": [],
   "source": [
    "wd.quit()"
   ]
  }
 ],
 "metadata": {
  "kernelspec": {
   "display_name": "Python 2",
   "language": "python",
   "name": "python2"
  },
  "language_info": {
   "codemirror_mode": {
    "name": "ipython",
    "version": 2
   },
   "file_extension": ".py",
   "mimetype": "text/x-python",
   "name": "python",
   "nbconvert_exporter": "python",
   "pygments_lexer": "ipython2",
   "version": "2.7.13"
  }
 },
 "nbformat": 4,
 "nbformat_minor": 2
}

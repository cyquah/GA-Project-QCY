{
 "cells": [
  {
   "cell_type": "code",
   "execution_count": 1,
   "metadata": {
    "collapsed": true
   },
   "outputs": [],
   "source": [
    "import pandas as pd\n",
    "import re\n",
    "import time\n",
    "from nltk.stem import PorterStemmer, WordNetLemmatizer\n",
    "from sklearn.feature_extraction.stop_words import ENGLISH_STOP_WORDS\n",
    "from nltk.corpus import stopwords\n",
    "from selenium import webdriver\n",
    "from textacy.preprocess import preprocess_text\n",
    "import nltk\n",
    "\n",
    "from bs4 import BeautifulSoup as bs"
   ]
  },
  {
   "cell_type": "code",
   "execution_count": 2,
   "metadata": {
    "scrolled": false
   },
   "outputs": [
    {
     "name": "stdout",
     "output_type": "stream",
     "text": [
      "scrapping page :  1\n",
      "href :  http://ieatishootipost.sg/stir-fried-potatoes-pork-simple-homecooked-meals/\n",
      "cleaned detail snippet :  potatoes and pork go so well together if you have never tried this dish bef\n",
      "href :  http://ieatishootipost.sg/kyoaji-singaporean-japanese-food/\n",
      "cleaned detail snippet :  the california roll was created over five decades ago in los angeles by che\n",
      "href :  http://ieatishootipost.sg/cabbage-yam-brown-rice-tefal-spherical-bowl-induction-rice-cooker-recipe/\n",
      "cleaned detail snippet :  here is my recipe for cabbage yam brown rice recipe which can all be made i\n",
      "href :  http://ieatishootipost.sg/springleaf-prata-railway-mall-happy-pratamen/\n",
      "cleaned detail snippet :  what is the fundamental difference between a prata and a pizza one ingredie\n",
      "href :  http://ieatishootipost.sg/wee-family-seafood-zi-char-wine-pairing/\n",
      "cleaned detail snippet :  we might be worried about the disappearance of certain hawker dishes like c\n",
      "href :  http://ieatishootipost.sg/jia-xiang-nasi-lemak-blue/\n",
      "cleaned detail snippet :  blue rice is currently the in thing its actually not a new thing but an old\n",
      "href :  http://ieatishootipost.sg/thai-style-prawn-cakes-huai-shan/\n",
      "cleaned detail snippet :  thod man goong or thai prawn cakes are one of my wifes favourite dishes whe\n",
      "href :  http://ieatishootipost.sg/yaowarat-seafood-a-bit-chinese-a-bit-thai/\n",
      "cleaned detail snippet :  i am sure most singaporeans will be familiar with the yaowarat district in \n",
      "href :  http://ieatishootipost.sg/aia-vitality-cookout-showdown-healthier-recipes-healthier/\n",
      "cleaned detail snippet :  there is nothing more important than your health you are only given one bod\n",
      "href :  http://ieatishootipost.sg/chindamani-crispy-prata-thin-crispy/\n",
      "cleaned detail snippet :  after blogging for over a decade i never thought i would come across a new \n",
      "href :  http://ieatishootipost.sg/hainanese-thai-inspired-colonial-chicken-curry-recipe-healthy-recipes-tefal/\n",
      "cleaned detail snippet :  i am excited to share with you my latest recipe creation a hainanese inspir\n",
      "href :  http://ieatishootipost.sg/jb-ah-meng-white-pepper-crabs/\n",
      "cleaned detail snippet :  jb ah meng burst into our zi char scene in number with their white pepper c\n",
      "href :  http://ieatishootipost.sg/leslies-kuih-bingka-bika-ambon-recipe-everything-need-know/\n",
      "cleaned detail snippet :  i dont know what got me started on this kuih bingkabika ambon recipe but my\n",
      "scrapping page :  2\n",
      "href :  http://ieatishootipost.sg/bai-nian-yong-tau-foo-successful-hawker-formula/\n",
      "cleaned detail snippet :  the formula for success in hawkerpreneurship can be summarized thus goodtas\n",
      "href :  http://ieatishootipost.sg/folklore-damian-dsilvas-homage-to-singapore-cuisine/\n",
      "cleaned detail snippet :  our kakis meets each wednesday to try out new places and in short folklore \n",
      "href :  http://ieatishootipost.sg/sin-kee-seafood-soup-somethings-brewing-up-north/\n",
      "cleaned detail snippet :  crayfish has been enjoying a surge of popularity in recent years with the i\n",
      "href :  http://ieatishootipost.sg/ka-soh-bib-gourmand-zi-char/\n",
      "cleaned detail snippet :  it is hard to write about an eatery when expectations are so high firstly k\n",
      "href :  http://ieatishootipost.sg/sunlok-noodle-house-feels-like-hong-kong/\n",
      "cleaned detail snippet :  this restaurant has relocated address updated\n",
      " superbowl jurong is one of t\n",
      "href :  http://ieatishootipost.sg/antoinette-infusing-hakka-flavours-to-french-food/\n",
      "cleaned detail snippet :  i have been a strong advocate for local cafes adopting more singaporean fla\n",
      "href :  http://ieatishootipost.sg/misato/\n",
      "cleaned detail snippet :  we have all come across eateries which we regard as hidden gems before thes\n",
      "href :  http://ieatishootipost.sg/hainanese-chicken-quinoa-happy-healthy-national-day/\n",
      "cleaned detail snippet :  are you familiar with quinoa its one of these superfoods that is high in fi\n",
      "href :  http://ieatishootipost.sg/scissor-cut-curry-rice-the-origins-of-scissor-cut-curry-rice/\n",
      "cleaned detail snippet :  behold the ugly gooey glorious mess that is beach road scissor cut rice tho\n",
      "href :  http://ieatishootipost.sg/lg-signature-fridge/\n",
      "cleaned detail snippet :  the time had come to retire my number year old fridge and as fate would hav\n",
      "href :  http://ieatishootipost.sg/tuan-yuan-bak-kut-teh-good-place-bak-kut-teh/\n",
      "cleaned detail snippet :  there has been spate of bak kut teh restaurants opening up in recent years \n",
      "href :  http://ieatishootipost.sg/jiangnan-lionhead-meatballs-recipe/\n",
      "cleaned detail snippet :  according to legend this dish of pork balls was first invented by a yangzho\n",
      "scrapping page :  3\n",
      "href :  http://ieatishootipost.sg/tiong-bahru-yong-tau-hu-handmade-fishballs/\n",
      "cleaned detail snippet :  any yong tau foo fan would know about yong xiang yong tau foo at peoples pa\n",
      "href :  http://ieatishootipost.sg/fu-ji-char-kway-teow-lost-and-found/\n",
      "cleaned detail snippet :  dont you think that the jalan besar area is like a treasure trove of foodie\n",
      "href :  http://ieatishootipost.sg/public-izakaya-quick-oden-guide/\n",
      "cleaned detail snippet :  what is oden the typical singaporean response would be oh its japanese yong\n",
      "href :  http://ieatishootipost.sg/ang-mo-kio-107-carrot-cake-friendliest-hawker-award/\n",
      "cleaned detail snippet :  a smile can really make your day i am not talking about just a perfunctory \n",
      "href :  http://ieatishootipost.sg/shangri-la-new-lobby-lounge-ultimate-hawker-showcase/\n",
      "cleaned detail snippet :  singapores culinary heritage is largely made up of hawker food which have e\n",
      "href :  http://ieatishootipost.sg/hong-kong-mong-kok-tim-sum-restaurant-quality-dim-sum-hawker-prices/\n",
      "cleaned detail snippet :  hong kong mong kok tim sum has been around for a number of years and has bu\n",
      "href :  http://ieatishootipost.sg/opinion-michelin-guide-2017/\n",
      "cleaned detail snippet :  now that the michelin awards have been announced and i have had some time t\n",
      "href :  http://ieatishootipost.sg/burgs-project-warung-gourmet-burger-4-50-fries/\n",
      "cleaned detail snippet :  there are two young fellas in golden mile food centre who are showing us th\n",
      "href :  http://ieatishootipost.sg/quick-and-easy-beef-rendang-with-tefal-clipso-duo-pressure-cooker/\n",
      "cleaned detail snippet :  ingredients\n",
      "group a\n",
      "shin beef 800g cut into cubes\n",
      "beef rendang premix numbe\n",
      "href :  http://ieatishootipost.sg/daddys-kitchen-come-home-dinner/\n",
      "cleaned detail snippet :  why do people always say homecooked is best well for one thing it is gettin\n",
      "href :  http://ieatishootipost.sg/simon-road-oyster-omelette-back-spot/\n",
      "cleaned detail snippet :  one of the best things about food blogging is to be able to capture bits of\n",
      "href :  http://ieatishootipost.sg/sakana-no-misoyaki-recipe/\n",
      "cleaned detail snippet :  there are a few dishes in my life which are so delicious when i first ate t\n",
      "scrapping page :  4\n",
      "href :  http://ieatishootipost.sg/matsuya-sushi-bar-sushi-omakase/\n",
      "cleaned detail snippet :  it has been number years since i started eating sushi like most teochew ah \n",
      "href :  http://ieatishootipost.sg/royal-js-premium-taste-fried-porridge-and-more/\n",
      "cleaned detail snippet :  this place is closed chef john is now at dynasty ipoh blk number bishan ave\n",
      "href :  http://ieatishootipost.sg/peranakan-khek-nonya-kueh-for-the-next-generation/\n",
      "cleaned detail snippet :  it is good to know that there is a new generation of singaporeans who are p\n",
      "href :  http://ieatishootipost.sg/aunty-oh-bamas-homecooked-indian-curries-on-hcook-app/\n",
      "cleaned detail snippet :  whenever i ask an indian friend where i can find the best indian food in si\n",
      "href :  http://ieatishootipost.sg/mango-sticky-rice-recipe/\n",
      "cleaned detail snippet :  its mango season so make the most of it by making some sticky rice to go wi\n",
      "href :  http://ieatishootipost.sg/nasi-lemak-specialist-basmati-rice/\n",
      "cleaned detail snippet :  the idea of using basmati rice for nasi lemak is not new selera rasa nasi l\n",
      "href :  http://ieatishootipost.sg/neo-bbq-seafood-origins-bbq-stingray/\n",
      "cleaned detail snippet :  my quest for the origins of singapore hawker dishes has brought me to this \n",
      "href :  http://ieatishootipost.sg/fish-soup-recipe-chef-kangs-secret-ingredient/\n",
      "cleaned detail snippet :  one of the most memorable fish soup i have ever had was at chef kangs kitch\n",
      "href :  http://ieatishootipost.sg/bakery-brera-the-evolution-of-hdb-bakeries/\n"
     ]
    },
    {
     "name": "stdout",
     "output_type": "stream",
     "text": [
      "cleaned detail snippet :  it is amazing how the hdb bakery has changed over the years i still remembe\n",
      "href :  http://ieatishootipost.sg/eat-first-%e9%a3%9f%e4%b9%8b%e7%82%ba%e9%ae%ae-tale-two-brothers/\n",
      "cleaned detail snippet :  once upon a time there was a man who ran a very successful restaurant servi\n",
      "href :  http://ieatishootipost.sg/charlies-peranakan-food-is-back/\n",
      "cleaned detail snippet :  you really cant keep a good cook out of the kitchen for too long when i las\n",
      "href :  http://ieatishootipost.sg/tomato-egg-recipe-10-min-meals/\n",
      "cleaned detail snippet :  lots of people have requested quick and easy recipes that they can put toge\n",
      "scrapping page :  5\n",
      "href :  http://ieatishootipost.sg/yong-he-bak-chor-seafood-noodles-surf-and-turf/\n",
      "cleaned detail snippet :  bak chor mee has always been an understated singaporean dish at least it wa\n",
      "href :  http://ieatishootipost.sg/si-yang-steam-soup/\n",
      "cleaned detail snippet :  it really isnt easy being a hawker imagine that you have been working hard \n",
      "href :  http://ieatishootipost.sg/uncle-lees-eating-house-yummy-sand-skin-chicken/\n",
      "cleaned detail snippet :  i think the challenge for anyone entering the zi char business is to be abl\n",
      "href :  http://ieatishootipost.sg/hong-kong-style-kitchen-%e6%b8%af%e5%bc%8f%e5%b0%8f%e7%82%92-cheap-and-good-zi-char/\n",
      "cleaned detail snippet :  if i told you that there is a place in singapore that is run by a hong kong\n",
      "href :  http://ieatishootipost.sg/asahikawa-and-higashikawa-things-to-do-food-to-eat/\n",
      "cleaned detail snippet :  read part number of our hokkaido trip here after our stay at hoshino resort\n",
      "href :  http://ieatishootipost.sg/linas-confectionery-good-olde-nonya-kueh/\n",
      "cleaned detail snippet :  my friend renton brought a box of these nonya kueh for our bible study grou\n",
      "href :  http://ieatishootipost.sg/kims-kuehs-the-end-of-teochew-kuehs/\n",
      "cleaned detail snippet :  i really hate to be a naysayer i really do but just as i said that it is th\n",
      "href :  http://ieatishootipost.sg/hoshino-resorts-tomamu-hokkaido-ski-trip/\n",
      "cleaned detail snippet :  i have a confession to make i dont like the cold i dont like to wake up in \n",
      "href :  http://ieatishootipost.sg/hana-hana-cheap-good-omakase/\n",
      "cleaned detail snippet :  cheap is relative spending usdnumber on a meal isnt cheap especially when y\n",
      "href :  http://ieatishootipost.sg/claypot-chicken-rice-recipe/\n",
      "cleaned detail snippet :  claypot chicken rice is actually very easy to cook at home it only takes nu\n",
      "href :  http://ieatishootipost.sg/hong-yun-seafood-seafood-white-bee-hoon-dry/\n",
      "cleaned detail snippet :  i happened to chance upon this zi char in toa payoh one evening while looki\n",
      "href :  http://ieatishootipost.sg/hainanese-pork-chop-recipe/\n",
      "cleaned detail snippet :  i am starting my hainanese curry rice series with this hainanese pork chop \n",
      "scrapping page :  6\n",
      "href :  http://ieatishootipost.sg/cut-wolfgang-puck-highland-beef/\n",
      "cleaned detail snippet :  about four years ago i picked up a book from the library that was simply ti\n",
      "href :  http://ieatishootipost.sg/sinn-ji-chicken-rice/\n",
      "cleaned detail snippet :  there has been much debate about how to preserve our hawker culture one ide\n",
      "href :  http://ieatishootipost.sg/roots-and-wings-project/\n",
      "cleaned detail snippet :  it is heartening to see the joyful faces of the kids in our root n wings pr\n",
      "href :  http://ieatishootipost.sg/leslie-char-siu-recipe/\n",
      "cleaned detail snippet :  after number years of research trials and failures i have finally succeeded\n",
      "href :  http://ieatishootipost.sg/benson-salted-duck-rice/\n",
      "cleaned detail snippet :  yes i know what you are thinking white duck like this nice meh honestly i s\n",
      "href :  http://ieatishootipost.sg/soon-heng-hot-cold-desserts/\n",
      "cleaned detail snippet :  our hawkers are really a big part of our lives here in singapore dont you t\n",
      "href :  http://ieatishootipost.sg/japanese-butchery-cold-storage-takashimaya/\n",
      "cleaned detail snippet :  i remember the very first time i had a slice of japanese wagyu it was one o\n",
      "href :  http://ieatishootipost.sg/braised-pork-belly-teriyaki-beer-sauce/\n",
      "cleaned detail snippet :  a slice of slow cooked braised pork belly must be one of the most sublime t\n",
      "href :  http://ieatishootipost.sg/vlv-modern-chinese-fine-dining/\n",
      "cleaned detail snippet :  in case you are wondering vlv is short for nothing the three letters dont s\n",
      "href :  http://ieatishootipost.sg/paradise-classic-classy-zi-char-food/\n",
      "cleaned detail snippet :  as a general rule i dont like to write about restaurant chains i think what\n",
      "href :  http://ieatishootipost.sg/teriyaki-chicken-recipe/\n",
      "cleaned detail snippet :  i promised a university student in the uk last year that i would publish a \n",
      "href :  http://ieatishootipost.sg/seafood-white-beehoon-recipe/\n",
      "cleaned detail snippet :  seafood white beehoon is all the rage now it was first made popular by you \n",
      "scrapping page :  7\n",
      "href :  http://ieatishootipost.sg/lee-do-restaurant-fuzhou-food/\n",
      "cleaned detail snippet :  i must have walked past lee do restaurant countless of times whenever i vis\n",
      "href :  http://ieatishootipost.sg/star-yong-kwang-bbq-seafood/\n",
      "cleaned detail snippet :  i remember my first encounter with the bbq stingray it was in a little coff\n",
      "href :  http://ieatishootipost.sg/tefal-cookoff-chilli-crabs-recipe/\n",
      "cleaned detail snippet :  here is the improved version of my chilli crab recipe as i mentioned in my \n",
      "href :  http://ieatishootipost.sg/liang-zhao-ji-braised-duck/\n",
      "cleaned detail snippet :  if a foreigner were to ask you which are the most iconic singaporean dishes\n",
      "href :  http://ieatishootipost.sg/hashida-sushi/\n",
      "cleaned detail snippet :  i first met kenjiro hatch hashida back in number when he had just opened ha\n",
      "href :  http://ieatishootipost.sg/lobster-ee-meen-recipe/\n",
      "cleaned detail snippet :  chinese new year is the time where to we can gather and bless each other wi\n",
      "href :  http://ieatishootipost.sg/original-katong-laksa/\n",
      "cleaned detail snippet :  we are living in the days of fake news fake food fake brands and fake accol\n",
      "href :  http://ieatishootipost.sg/top-10-singapore-food-finds-2016/\n",
      "cleaned detail snippet :  this year is quite special for me as it marks number years of eating shooti\n",
      "href :  http://ieatishootipost.sg/easy-recipe-christmas-leftovers/\n",
      "cleaned detail snippet :  the most wonderful time of the year is upon us again and i am sure we are a\n",
      "href :  http://ieatishootipost.sg/hokkaido-izakaya/\n",
      "cleaned detail snippet :  with its harsh winters remote location and pristine waters hokkaido has gai\n",
      "href :  http://ieatishootipost.sg/leslies-fried-chicken-recipe/\n",
      "cleaned detail snippet :  in this post i am going to present to you the final recipe for my fried chi\n",
      "href :  http://ieatishootipost.sg/wah-kee-prawn-mee/\n",
      "cleaned detail snippet :  singapores hawker food scene has really coming of age of late we are seeing\n",
      "Time taken : 48.0598618348  minutes\n",
      "85\n"
     ]
    }
   ],
   "source": [
    "start = time.time()\n",
    "\n",
    "wd = webdriver.Chrome()\n",
    "\n",
    "b_summary = []\n",
    "b_detail = []\n",
    "b_date = []\n",
    "b_summary_clean = []\n",
    "b_detail_clean = []\n",
    "\n",
    "for i in range(1,8):\n",
    "    print 'scrapping page : ', i\n",
    "    url = 'http://ieatishootipost.sg/page/' + str(i) + '/'   \n",
    "\n",
    "    try:\n",
    "        wd.get(url)\n",
    "    except:\n",
    "        continue\n",
    "    response = wd.page_source\n",
    "    soup = bs(response, 'html.parser')\n",
    "    \n",
    "    try:\n",
    "        blogs = soup.find_all('h3', {'class' : 'entry-title'})\n",
    "    except:\n",
    "        continue\n",
    "        \n",
    "    for summary in blogs:\n",
    "        try:\n",
    "            href = summary.find('a').get('href')\n",
    "            print 'href : ', href\n",
    "        except:\n",
    "            continue            \n",
    "        \n",
    "        try:\n",
    "            wd.get(href)\n",
    "        except:\n",
    "            continue\n",
    "        \n",
    "        r = wd.page_source\n",
    "        s = bs(r, 'html.parser')\n",
    "\n",
    "        # find date\n",
    "        try:\n",
    "            date = s.find('div', {'class' : 'article-date'}).text[11:]\n",
    "        except:\n",
    "            continue\n",
    "            \n",
    "        # find detail\n",
    "        try:\n",
    "            y = s.find('div', {'class' : \"article-content\"}).find_all('p')\n",
    "        except:\n",
    "            continue\n",
    "        doc = []\n",
    "        for p in y:\n",
    "            if p.text:\n",
    "                doc.append(p.text)\n",
    "        d = ' '.join(doc)\n",
    "\n",
    "        b_summary.append(summary.text)\n",
    "        b_detail.append(d)\n",
    "        b_date.append(date)\n",
    "        \n",
    "        # clean summary and detail \n",
    "        clean_summary = preprocess_text(summary.text, fix_unicode=True, lowercase=True, transliterate=True, \n",
    "                                                no_numbers=True, no_urls=True, no_emails=True, no_phone_numbers=True, \n",
    "                                                no_currency_symbols=True, no_punct=True, no_accents=True)\n",
    "        \n",
    "        clean_detail = preprocess_text(d, fix_unicode=True, lowercase=True, transliterate=True, \n",
    "                                                no_numbers=True, no_urls=True, no_emails=True, no_phone_numbers=True, \n",
    "                                                no_currency_symbols=True, no_punct=True, no_accents=True)\n",
    "        \n",
    "        b_summary_clean.append(clean_summary)\n",
    "        b_detail_clean.append(clean_detail)\n",
    "        \n",
    "        print 'cleaned detail snippet : ', clean_detail[:75]\n",
    "        \n",
    "end = time.time()\n",
    "exe_time = (end - start)/60\n",
    "print 'Time taken :',(exe_time),' minutes'\n",
    "\n",
    "print len(b_date)"
   ]
  },
  {
   "cell_type": "code",
   "execution_count": 3,
   "metadata": {
    "collapsed": true
   },
   "outputs": [],
   "source": [
    "# remove stop words from cleaned summary and cleaned detail and lemmatize them\n",
    "\n",
    "stoplist = set(stopwords.words('english') + \\\n",
    "               ['number',\"singapore\", \"food\", \"im\", \"street\", \n",
    "                'porn','watch', 'video', 'centre', '...',\n",
    "                'eat', 'day', 'time', 'cdataadsbygoogle', 'windowadsbygoogle',\n",
    "                'wa', 'ha', 'come', 'place', 'dish', 'bring', 'think', 'quite','located',\n",
    "                'month', 'went', 'probably', 'am', 'pm', 'say', 'said','including','year','item',\n",
    "                'youre', 'sure', 'dont', 'came','really', 'got', 'thing', 'address', 'photo',\n",
    "                'credit', 'opening', 'hour'] \\\n",
    "                 + list(ENGLISH_STOP_WORDS))"
   ]
  },
  {
   "cell_type": "code",
   "execution_count": 4,
   "metadata": {},
   "outputs": [
    {
     "name": "stdout",
     "output_type": "stream",
     "text": [
      "Time taken : 0.515434980392  seconds\n",
      "85\n",
      "85\n"
     ]
    }
   ],
   "source": [
    "start = time.time()\n",
    "\n",
    "summary_tokens = []\n",
    "for item in b_summary_clean:  \n",
    "    try:\n",
    "        Tokens = nltk.word_tokenize(item)\n",
    "        t = [tok for tok in Tokens if tok not in stoplist]\n",
    "    except:\n",
    "        continue\n",
    "    summary_tokens.append(t)\n",
    "    \n",
    "detail_tokens = []\n",
    "for item in b_detail_clean:  \n",
    "    try:\n",
    "        Tokens = nltk.word_tokenize(item)\n",
    "        t = [tok for tok in Tokens if tok not in stoplist]\n",
    "    except:\n",
    "        continue\n",
    "    detail_tokens.append(t)   \n",
    "\n",
    "    \n",
    "end = time.time()\n",
    "exe_time = end - start\n",
    "print 'Time taken :',(exe_time),' seconds'\n",
    "    \n",
    "print len(summary_tokens)\n",
    "print len(detail_tokens)"
   ]
  },
  {
   "cell_type": "code",
   "execution_count": 5,
   "metadata": {},
   "outputs": [
    {
     "name": "stdout",
     "output_type": "stream",
     "text": [
      "Time taken : 4.01454114914  seconds\n",
      "85\n",
      "85\n"
     ]
    }
   ],
   "source": [
    "start = time.time()\n",
    "\n",
    "summary_lem =[]\n",
    "wnl = WordNetLemmatizer()\n",
    "for item in summary_tokens:\n",
    "    t = \" \".join([wnl.lemmatize(i) for i in item])\n",
    "    summary_lem.append(t) \n",
    "    \n",
    "detail_lem =[]\n",
    "wnl = WordNetLemmatizer()\n",
    "for item in detail_tokens:\n",
    "    t = \" \".join([wnl.lemmatize(i) for i in item])\n",
    "    detail_lem.append(t)     \n",
    "   \n",
    "end = time.time()\n",
    "exe_time = end - start\n",
    "print 'Time taken :',(exe_time),' seconds'\n",
    "\n",
    "print len(summary_lem)\n",
    "print len(detail_lem)"
   ]
  },
  {
   "cell_type": "code",
   "execution_count": 6,
   "metadata": {
    "collapsed": true
   },
   "outputs": [],
   "source": [
    "# create final list to fit in dataframe\n",
    "flist = []\n",
    "for i in range(len(b_summary)):\n",
    "    f = [b_summary[i], b_detail[i], b_date[i], summary_lem[i], detail_lem[i]]\n",
    "    flist.append(f)"
   ]
  },
  {
   "cell_type": "code",
   "execution_count": 7,
   "metadata": {},
   "outputs": [
    {
     "data": {
      "text/html": [
       "<div>\n",
       "<style>\n",
       "    .dataframe thead tr:only-child th {\n",
       "        text-align: right;\n",
       "    }\n",
       "\n",
       "    .dataframe thead th {\n",
       "        text-align: left;\n",
       "    }\n",
       "\n",
       "    .dataframe tbody tr th {\n",
       "        vertical-align: top;\n",
       "    }\n",
       "</style>\n",
       "<table border=\"1\" class=\"dataframe\">\n",
       "  <thead>\n",
       "    <tr style=\"text-align: right;\">\n",
       "      <th></th>\n",
       "      <th>Title</th>\n",
       "      <th>Details</th>\n",
       "      <th>Date</th>\n",
       "      <th>Processed Summary</th>\n",
       "      <th>Processed Detail</th>\n",
       "    </tr>\n",
       "  </thead>\n",
       "  <tbody>\n",
       "    <tr>\n",
       "      <th>80</th>\n",
       "      <td>Top 10 Singapore Food Finds of 2016!</td>\n",
       "      <td>This year is quite special for me as it marks ...</td>\n",
       "      <td>December 28, 2016</td>\n",
       "      <td>find</td>\n",
       "      <td>special mark year eating shooting posting adve...</td>\n",
       "    </tr>\n",
       "    <tr>\n",
       "      <th>81</th>\n",
       "      <td>Easy Recipe Ideas for Christmas Leftovers</td>\n",
       "      <td>The most wonderful time of the year is upon us...</td>\n",
       "      <td>December 22, 2016</td>\n",
       "      <td>easy recipe idea christmas leftover</td>\n",
       "      <td>wonderful looking forward spending family frie...</td>\n",
       "    </tr>\n",
       "    <tr>\n",
       "      <th>82</th>\n",
       "      <td>Hokkaido Izakaya: Yummy Hokkaido Food</td>\n",
       "      <td>With its harsh winters, remote location and pr...</td>\n",
       "      <td>December 20, 2016</td>\n",
       "      <td>hokkaido izakaya yummy hokkaido</td>\n",
       "      <td>harsh winter remote location pristine water ho...</td>\n",
       "    </tr>\n",
       "    <tr>\n",
       "      <th>83</th>\n",
       "      <td>Leslie’s Fried Chicken (LFC) Recipe</td>\n",
       "      <td>In this post, I am going to present to you the...</td>\n",
       "      <td>December 16, 2016</td>\n",
       "      <td>leslies fried chicken lfc recipe</td>\n",
       "      <td>post going present final recipe fried chicken ...</td>\n",
       "    </tr>\n",
       "    <tr>\n",
       "      <th>84</th>\n",
       "      <td>Wah Kee Prawn Mee: The Next Generation</td>\n",
       "      <td>Singapore’s hawker food scene has really comin...</td>\n",
       "      <td>December 13, 2016</td>\n",
       "      <td>wah kee prawn mee generation</td>\n",
       "      <td>singapore hawker scene coming age late seeing ...</td>\n",
       "    </tr>\n",
       "  </tbody>\n",
       "</table>\n",
       "</div>"
      ],
      "text/plain": [
       "                                        Title  \\\n",
       "80       Top 10 Singapore Food Finds of 2016!   \n",
       "81  Easy Recipe Ideas for Christmas Leftovers   \n",
       "82      Hokkaido Izakaya: Yummy Hokkaido Food   \n",
       "83        Leslie’s Fried Chicken (LFC) Recipe   \n",
       "84     Wah Kee Prawn Mee: The Next Generation   \n",
       "\n",
       "                                              Details               Date  \\\n",
       "80  This year is quite special for me as it marks ...  December 28, 2016   \n",
       "81  The most wonderful time of the year is upon us...  December 22, 2016   \n",
       "82  With its harsh winters, remote location and pr...  December 20, 2016   \n",
       "83  In this post, I am going to present to you the...  December 16, 2016   \n",
       "84  Singapore’s hawker food scene has really comin...  December 13, 2016   \n",
       "\n",
       "                      Processed Summary  \\\n",
       "80                                 find   \n",
       "81  easy recipe idea christmas leftover   \n",
       "82      hokkaido izakaya yummy hokkaido   \n",
       "83     leslies fried chicken lfc recipe   \n",
       "84         wah kee prawn mee generation   \n",
       "\n",
       "                                     Processed Detail  \n",
       "80  special mark year eating shooting posting adve...  \n",
       "81  wonderful looking forward spending family frie...  \n",
       "82  harsh winter remote location pristine water ho...  \n",
       "83  post going present final recipe fried chicken ...  \n",
       "84  singapore hawker scene coming age late seeing ...  "
      ]
     },
     "execution_count": 7,
     "metadata": {},
     "output_type": "execute_result"
    }
   ],
   "source": [
    "df = pd.DataFrame(flist, columns = ['Title', 'Details', 'Date', 'Processed Summary', 'Processed Detail'])  \n",
    "df.tail()"
   ]
  },
  {
   "cell_type": "code",
   "execution_count": 8,
   "metadata": {},
   "outputs": [
    {
     "data": {
      "text/plain": [
       "85"
      ]
     },
     "execution_count": 8,
     "metadata": {},
     "output_type": "execute_result"
    }
   ],
   "source": [
    "len(df)"
   ]
  },
  {
   "cell_type": "code",
   "execution_count": 9,
   "metadata": {
    "collapsed": true
   },
   "outputs": [],
   "source": [
    "df.drop_duplicates(inplace=True)"
   ]
  },
  {
   "cell_type": "code",
   "execution_count": 10,
   "metadata": {},
   "outputs": [
    {
     "data": {
      "text/plain": [
       "85"
      ]
     },
     "execution_count": 10,
     "metadata": {},
     "output_type": "execute_result"
    }
   ],
   "source": [
    "len(df)"
   ]
  },
  {
   "cell_type": "code",
   "execution_count": 11,
   "metadata": {},
   "outputs": [
    {
     "name": "stdout",
     "output_type": "stream",
     "text": [
      "What is the fundamental difference between a prata and a pizza? One ingredient:  Yeast The other ingredients for the dough is essentially the same:  Plain flour, water, salt, sugar and oil.  All you need to change a prata dough into a pizza dough is to add yeast to the mix and allow it to proof! So, why is it that people are happy paying $20 for a pizza, but would think twice about paying half of that for a murtabak with the same ingredients? That is the kind of culinary prejudice that is working against purveyors of local cuisine.  The kind of prejudice which my friend Gunalan, the owner of Springleaf Prata Place had to face when he started to introduce his creative pratas many years ago! When I first met Guna, he had already been doing all sorts of things with prata.  He started with a chicken floss prata and went on to create chocolate prata, red bean prata and the like.  But at that time, he was hard pressed to sell anything above $5. The breakthrough came when we created the Ultimate Murtabak for the first Ultamite Hawker Fest in 2012.  This was a murtabak made with tandoori chicken which he roasts himself in a tandoor, mozzarella cheese, portabello mushrooms and onions.  It was such a big hit at the Hawker Fest that he introduced it at his restaurant after the event.  At first many of his patrons balked at the price.  But his prata-men, embolden by the excellent feedback during the ultimate hawker fest, had the confidence to push it to their customers.  Soon, the word spread and people started to come just to eat it! The next year, we came up with the murtaburger, which was a cross between a Ramly burger and murtabak.  Guna had to come up with his own spiced lamb pattie and we stuffed the murtabak with eggs, cheese, mayo and chilli sauce.  It was another hit at Ultimate Hawker Fest 2013!  Again, it was introduced into the restaurant’s menu!  This time, it became easier for patrons to give the new murtabak a try!  For SG50, we created  the SG 50 Luncheon Meat Murthbak, which was another hit! Since then, Guna has been making it a point to introduce a new prata to his Ultimate series every year! This year, he came up with the Alfredo, which is a murtabak filled with rosemary roasted chicken which he cooks in the tandoor, portabello mushrooms, white sauce and mozzarella cheese.  The flavours are closer to what you would find at an Italian restaurant than what I expected.  I had thought it would taste really local, but they actually used fresh rosemary and made the white sauce themselves! 4.25/5 Guna has also just renovated his place at Railway Mall after taking over the premises next door.  The new place is very spacious and air-conditioned.  The kitchen is well insulated such that the curry smell doesn’t permeated the whole place.  He has also set up a curry station where you can help yourself to the curry. I have known Guna for a few years now and one of the things I noticed is how well he looks after his staff.  He has a couple of workers from India who have been working for him over the years and he has been generous enough to make them business owners, each with a share of his prata restaurants!  I applaud him for his forward thinking.  By giving his workers a chance at building a future for themselves, he has earned their loyalty and respect.  The results speak for themselves when you visit his restaurant. Conclusion The spacious, air-conditioned environment and creative gourmet murtabak make Springleaf one of the best places to satisfy your craving for pizza prata.\n"
     ]
    }
   ],
   "source": [
    "x = df.iloc[3,1]\n",
    "print x"
   ]
  },
  {
   "cell_type": "code",
   "execution_count": 12,
   "metadata": {
    "collapsed": true
   },
   "outputs": [],
   "source": [
    "# pickle dataframe\n",
    "df.to_pickle('ieatishoot.pickle')"
   ]
  },
  {
   "cell_type": "code",
   "execution_count": 13,
   "metadata": {
    "collapsed": true
   },
   "outputs": [],
   "source": [
    "wd.quit()"
   ]
  }
 ],
 "metadata": {
  "kernelspec": {
   "display_name": "Python 2",
   "language": "python",
   "name": "python2"
  },
  "language_info": {
   "codemirror_mode": {
    "name": "ipython",
    "version": 2
   },
   "file_extension": ".py",
   "mimetype": "text/x-python",
   "name": "python",
   "nbconvert_exporter": "python",
   "pygments_lexer": "ipython2",
   "version": "2.7.13"
  }
 },
 "nbformat": 4,
 "nbformat_minor": 2
}

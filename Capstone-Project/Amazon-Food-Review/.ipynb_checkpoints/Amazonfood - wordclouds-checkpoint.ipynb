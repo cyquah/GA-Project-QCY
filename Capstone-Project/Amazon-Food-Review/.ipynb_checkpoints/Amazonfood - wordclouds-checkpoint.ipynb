{
 "cells": [
  {
   "cell_type": "code",
   "execution_count": 77,
   "metadata": {
    "collapsed": true
   },
   "outputs": [],
   "source": [
    "import pandas as pd\n",
    "import numpy as np\n",
    "import random\n",
    "from PIL import Image\n",
    "from wordcloud import WordCloud, STOPWORDS\n",
    "from palettable.colorbrewer.qualitative import Dark2_8"
   ]
  },
  {
   "cell_type": "code",
   "execution_count": 61,
   "metadata": {},
   "outputs": [
    {
     "data": {
      "text/plain": [
       "Index([u'reviewText', u'overall', u'reviewText_tokenize'], dtype='object')"
      ]
     },
     "execution_count": 61,
     "metadata": {},
     "output_type": "execute_result"
    }
   ],
   "source": [
    "# encoding to utf-8 here is important \n",
    "df = pd.read_csv('amazon_food-tokenize.csv', index_col=0, encoding = 'utf-8')\n",
    "df.columns"
   ]
  },
  {
   "cell_type": "code",
   "execution_count": 62,
   "metadata": {},
   "outputs": [
    {
     "data": {
      "text/html": [
       "<div>\n",
       "<style>\n",
       "    .dataframe thead tr:only-child th {\n",
       "        text-align: right;\n",
       "    }\n",
       "\n",
       "    .dataframe thead th {\n",
       "        text-align: left;\n",
       "    }\n",
       "\n",
       "    .dataframe tbody tr th {\n",
       "        vertical-align: top;\n",
       "    }\n",
       "</style>\n",
       "<table border=\"1\" class=\"dataframe\">\n",
       "  <thead>\n",
       "    <tr style=\"text-align: right;\">\n",
       "      <th></th>\n",
       "      <th>reviewText</th>\n",
       "      <th>overall</th>\n",
       "      <th>reviewText_tokenize</th>\n",
       "    </tr>\n",
       "  </thead>\n",
       "  <tbody>\n",
       "    <tr>\n",
       "      <th>0</th>\n",
       "      <td>just another flavor of kit kat but the taste i...</td>\n",
       "      <td>4.0</td>\n",
       "      <td>[flavor, kit, kat, taste, unique, bit, differe...</td>\n",
       "    </tr>\n",
       "    <tr>\n",
       "      <th>1</th>\n",
       "      <td>i bought this on impulse and it comes from jap...</td>\n",
       "      <td>3.0</td>\n",
       "      <td>[bought, impulse, japan, amused, family, weird...</td>\n",
       "    </tr>\n",
       "    <tr>\n",
       "      <th>2</th>\n",
       "      <td>really good great gift for any fan of green te...</td>\n",
       "      <td>4.0</td>\n",
       "      <td>[good, great, gift, fan, green, tea, expensive...</td>\n",
       "    </tr>\n",
       "    <tr>\n",
       "      <th>3</th>\n",
       "      <td>i had never had it before was curious to see w...</td>\n",
       "      <td>5.0</td>\n",
       "      <td>[curious, like, smooth, great, subtle, good, f...</td>\n",
       "    </tr>\n",
       "    <tr>\n",
       "      <th>4</th>\n",
       "      <td>ive been looking forward to trying these after...</td>\n",
       "      <td>4.0</td>\n",
       "      <td>[ive, looking, forward, trying, hearing, popul...</td>\n",
       "    </tr>\n",
       "  </tbody>\n",
       "</table>\n",
       "</div>"
      ],
      "text/plain": [
       "                                          reviewText  overall  \\\n",
       "0  just another flavor of kit kat but the taste i...      4.0   \n",
       "1  i bought this on impulse and it comes from jap...      3.0   \n",
       "2  really good great gift for any fan of green te...      4.0   \n",
       "3  i had never had it before was curious to see w...      5.0   \n",
       "4  ive been looking forward to trying these after...      4.0   \n",
       "\n",
       "                                 reviewText_tokenize  \n",
       "0  [flavor, kit, kat, taste, unique, bit, differe...  \n",
       "1  [bought, impulse, japan, amused, family, weird...  \n",
       "2  [good, great, gift, fan, green, tea, expensive...  \n",
       "3  [curious, like, smooth, great, subtle, good, f...  \n",
       "4  [ive, looking, forward, trying, hearing, popul...  "
      ]
     },
     "execution_count": 62,
     "metadata": {},
     "output_type": "execute_result"
    }
   ],
   "source": [
    "df.head()"
   ]
  },
  {
   "cell_type": "code",
   "execution_count": 63,
   "metadata": {},
   "outputs": [
    {
     "data": {
      "text/plain": [
       "151254"
      ]
     },
     "execution_count": 63,
     "metadata": {},
     "output_type": "execute_result"
    }
   ],
   "source": [
    "len(df)"
   ]
  },
  {
   "cell_type": "code",
   "execution_count": 64,
   "metadata": {},
   "outputs": [
    {
     "data": {
      "text/plain": [
       "120044"
      ]
     },
     "execution_count": 64,
     "metadata": {},
     "output_type": "execute_result"
    }
   ],
   "source": [
    "good = df[(df.overall == 4.0) | (df.overall == 5.0)]\n",
    "good.head()\n",
    "len(good)"
   ]
  },
  {
   "cell_type": "code",
   "execution_count": 65,
   "metadata": {},
   "outputs": [
    {
     "data": {
      "text/plain": [
       "13696"
      ]
     },
     "execution_count": 65,
     "metadata": {},
     "output_type": "execute_result"
    }
   ],
   "source": [
    "bad = df[(df.overall == 1.0) | (df.overall == 2.0)]\n",
    "bad.head()\n",
    "len(bad)"
   ]
  },
  {
   "cell_type": "code",
   "execution_count": 66,
   "metadata": {},
   "outputs": [
    {
     "name": "stdout",
     "output_type": "stream",
     "text": [
      "14000\n"
     ]
    }
   ],
   "source": [
    "goodtokens = []\n",
    "for item in good.reviewText_tokenize[:14000]:  \n",
    "    try:\n",
    "        Tokens = nltk.word_tokenize(item)\n",
    "        t = [tok for tok in Tokens if tok not in STOPLIST]\n",
    "        # print t\n",
    "    except:\n",
    "        continue\n",
    "    goodtokens.append(t)\n",
    "    \n",
    "print len(goodtokens)"
   ]
  },
  {
   "cell_type": "code",
   "execution_count": 71,
   "metadata": {},
   "outputs": [
    {
     "name": "stdout",
     "output_type": "stream",
     "text": [
      "[[u'flavor', u'kit', u'kat', u'taste', u'unique', u'bit', u'different', u'bothersome', u'price', u'thought', u'bit', u'expensive'], [u'good', u'great', u'gift', u'fan', u'green', u'tea', u'expensive', u'purchase', u'candy', u'sea'], [u'curious', u'like', u'smooth', u'great', u'subtle', u'good', u'flavor', u'ordering', u'plan', u'make', u'routine']]\n"
     ]
    }
   ],
   "source": [
    "print goodtokens[:3]"
   ]
  },
  {
   "cell_type": "code",
   "execution_count": 67,
   "metadata": {},
   "outputs": [
    {
     "name": "stdout",
     "output_type": "stream",
     "text": [
      "13696\n"
     ]
    }
   ],
   "source": [
    "badtokens = []\n",
    "for item in bad.reviewText_tokenize:  \n",
    "    try:\n",
    "        Tokens = nltk.word_tokenize(item)\n",
    "        t = [tok for tok in Tokens if tok not in STOPLIST]\n",
    "    except:\n",
    "        continue\n",
    "    badtokens.append(t)\n",
    "    \n",
    "print len(badtokens)"
   ]
  },
  {
   "cell_type": "code",
   "execution_count": 109,
   "metadata": {
    "collapsed": true
   },
   "outputs": [],
   "source": [
    "# No option for wordcloud to generate form tokens, so need to convert to text first\n",
    "goodmessage = ''\n",
    "for row in goodtokens:\n",
    "    row = ' '.join(row)\n",
    "    goodmessage += ' ' + row "
   ]
  },
  {
   "cell_type": "code",
   "execution_count": 103,
   "metadata": {},
   "outputs": [
    {
     "data": {
      "text/plain": [
       "unicode"
      ]
     },
     "execution_count": 103,
     "metadata": {},
     "output_type": "execute_result"
    }
   ],
   "source": [
    "type(goodmessage)"
   ]
  },
  {
   "cell_type": "code",
   "execution_count": 104,
   "metadata": {
    "collapsed": true
   },
   "outputs": [],
   "source": [
    "badmessage = ''\n",
    "for row in badtokens:\n",
    "    row = ' '.join(row)\n",
    "    badmessage += ' ' + row "
   ]
  },
  {
   "cell_type": "code",
   "execution_count": 98,
   "metadata": {
    "collapsed": true
   },
   "outputs": [],
   "source": [
    "def color_func(word, font_size, position, orientation, random_state=None, **kwargs):\n",
    "    return tuple(Dark2_8.colors[random.randint(0,7)])"
   ]
  },
  {
   "cell_type": "code",
   "execution_count": 110,
   "metadata": {
    "collapsed": true
   },
   "outputs": [],
   "source": [
    "# http://stackoverflow.com/questions/7911451/pil-convert-png-or-gif-with-transparency-to-jpg-without\n",
    "icon = Image.open('thumbs-up.png')\n",
    "mask = Image.new(\"RGB\", icon.size, (255,255,255))\n",
    "mask.paste(icon,icon)\n",
    "mask = np.array(mask)"
   ]
  },
  {
   "cell_type": "code",
   "execution_count": 111,
   "metadata": {
    "collapsed": true
   },
   "outputs": [],
   "source": [
    "wc = WordCloud(font_path='AmaticSC-Bold.ttf', background_color=\"white\", max_words=10000, mask=mask, \n",
    "               width=4000, height=100, max_font_size=100, random_state=42)"
   ]
  },
  {
   "cell_type": "code",
   "execution_count": 112,
   "metadata": {},
   "outputs": [
    {
     "data": {
      "text/plain": [
       "<wordcloud.wordcloud.WordCloud at 0x1a3cee84d0>"
      ]
     },
     "execution_count": 112,
     "metadata": {},
     "output_type": "execute_result"
    }
   ],
   "source": [
    "# generate word cloud for goodmessage\n",
    "wc.generate_from_text(goodmessage)\n",
    "wc.recolor(color_func=color_func, random_state=3)\n",
    "wc.to_file(\"good-wordcloud.png\")"
   ]
  },
  {
   "cell_type": "code",
   "execution_count": 106,
   "metadata": {
    "collapsed": true
   },
   "outputs": [],
   "source": [
    "icon = Image.open('thumbs-down.png')\n",
    "mask = Image.new(\"RGB\", icon.size, (255,255,255))\n",
    "mask.paste(icon,icon)\n",
    "mask = np.array(mask)"
   ]
  },
  {
   "cell_type": "code",
   "execution_count": 107,
   "metadata": {
    "collapsed": true
   },
   "outputs": [],
   "source": [
    "wc = WordCloud(font_path='AmaticSC-Bold.ttf', background_color=\"white\", max_words=10000, mask=mask, \n",
    "               width=4000, height=100, max_font_size=100, random_state=42)"
   ]
  },
  {
   "cell_type": "code",
   "execution_count": 108,
   "metadata": {},
   "outputs": [
    {
     "data": {
      "text/plain": [
       "<wordcloud.wordcloud.WordCloud at 0x1a4bb9d750>"
      ]
     },
     "execution_count": 108,
     "metadata": {},
     "output_type": "execute_result"
    }
   ],
   "source": [
    "# generate word cloud for badmessage\n",
    "wc.generate_from_text(badmessage)\n",
    "wc.recolor(color_func=color_func, random_state=3)\n",
    "wc.to_file(\"bad-wordcloud.png\")"
   ]
  },
  {
   "cell_type": "code",
   "execution_count": null,
   "metadata": {
    "collapsed": true
   },
   "outputs": [],
   "source": []
  }
 ],
 "metadata": {
  "kernelspec": {
   "display_name": "Python 2",
   "language": "python",
   "name": "python2"
  },
  "language_info": {
   "codemirror_mode": {
    "name": "ipython",
    "version": 2
   },
   "file_extension": ".py",
   "mimetype": "text/x-python",
   "name": "python",
   "nbconvert_exporter": "python",
   "pygments_lexer": "ipython2",
   "version": "2.7.13"
  }
 },
 "nbformat": 4,
 "nbformat_minor": 2
}

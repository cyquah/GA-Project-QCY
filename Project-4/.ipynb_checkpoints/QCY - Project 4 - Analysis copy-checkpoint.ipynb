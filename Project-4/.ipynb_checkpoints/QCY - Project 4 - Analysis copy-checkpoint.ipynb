{
 "cells": [
  {
   "cell_type": "code",
   "execution_count": 1,
   "metadata": {
    "collapsed": true
   },
   "outputs": [],
   "source": [
    "import pandas as pd, seaborn as sns, numpy as np, matplotlib.pyplot as plt\n",
    "import time\n",
    "\n",
    "from sklearn.feature_extraction.text import CountVectorizer, TfidfTransformer, TfidfVectorizer \n",
    "from sklearn.model_selection import cross_val_score, train_test_split, cross_val_predict, GridSearchCV\n",
    "from sklearn.metrics import classification_report, confusion_matrix, accuracy_score, roc_curve, auc, r2_score\n",
    "from sklearn.pipeline import Pipeline\n",
    "from sklearn.linear_model import ElasticNet, LogisticRegression, SGDClassifier\n",
    "from sklearn.ensemble import RandomForestClassifier\n",
    "\n",
    "from sklearn.feature_extraction.stop_words import ENGLISH_STOP_WORDS\n",
    "from nltk.corpus import stopwords\n",
    "from nltk.tokenize import word_tokenize\n",
    "import nltk\n",
    "\n",
    "from imblearn.combine import SMOTEENN\n",
    "\n",
    "from xgboost.sklearn import XGBClassifier\n",
    "\n",
    "from vaderSentiment.vaderSentiment import SentimentIntensityAnalyzer\n",
    "\n",
    "%matplotlib inline\n",
    "\n",
    "sns.set_style(\"darkgrid\")"
   ]
  },
  {
   "cell_type": "markdown",
   "metadata": {},
   "source": [
    "### QUESTION 1: Using both Regressor and Classifier to model salary ###\n",
    "\n",
    "1. X = job_description, y = salary\n",
    "2. Train_Test_Split, CountVectorizer, TFIDF Transformer\n",
    "3. Use Pipeline, ElasticNet, GridsearchCV\n",
    "4. Use Pipeline, SGDClassifier, GridsearchCV"
   ]
  },
  {
   "cell_type": "code",
   "execution_count": 2,
   "metadata": {},
   "outputs": [
    {
     "data": {
      "text/html": [
       "<div>\n",
       "<style>\n",
       "    .dataframe thead tr:only-child th {\n",
       "        text-align: right;\n",
       "    }\n",
       "\n",
       "    .dataframe thead th {\n",
       "        text-align: left;\n",
       "    }\n",
       "\n",
       "    .dataframe tbody tr th {\n",
       "        vertical-align: top;\n",
       "    }\n",
       "</style>\n",
       "<table border=\"1\" class=\"dataframe\">\n",
       "  <thead>\n",
       "    <tr style=\"text-align: right;\">\n",
       "      <th></th>\n",
       "      <th>job_category</th>\n",
       "      <th>job_title</th>\n",
       "      <th>company_name</th>\n",
       "      <th>location</th>\n",
       "      <th>job_description</th>\n",
       "      <th>salary</th>\n",
       "    </tr>\n",
       "  </thead>\n",
       "  <tbody>\n",
       "    <tr>\n",
       "      <th>0</th>\n",
       "      <td>data scientist</td>\n",
       "      <td>number summer intern data scientist</td>\n",
       "      <td>akamai</td>\n",
       "      <td>cambridge, ma 02139 (area iv area)</td>\n",
       "      <td>please use google chrome when applying for job...</td>\n",
       "      <td>30000.0</td>\n",
       "    </tr>\n",
       "    <tr>\n",
       "      <th>1</th>\n",
       "      <td>data scientist</td>\n",
       "      <td>production control data scientist</td>\n",
       "      <td>tesla motors</td>\n",
       "      <td>sparks, nv</td>\n",
       "      <td>job title production control data scientist de...</td>\n",
       "      <td>50000.0</td>\n",
       "    </tr>\n",
       "    <tr>\n",
       "      <th>2</th>\n",
       "      <td>data scientist</td>\n",
       "      <td>data scientist</td>\n",
       "      <td>microsoft</td>\n",
       "      <td>bellevue, wa</td>\n",
       "      <td>the microsoft knowledge graph team in the arti...</td>\n",
       "      <td>50000.0</td>\n",
       "    </tr>\n",
       "    <tr>\n",
       "      <th>3</th>\n",
       "      <td>data scientist</td>\n",
       "      <td>data scientist</td>\n",
       "      <td>schneider electric</td>\n",
       "      <td>andover, ma 01810</td>\n",
       "      <td>schneider electrictm creates connected technol...</td>\n",
       "      <td>50000.0</td>\n",
       "    </tr>\n",
       "    <tr>\n",
       "      <th>4</th>\n",
       "      <td>data scientist</td>\n",
       "      <td>data scientist</td>\n",
       "      <td>university of chicago</td>\n",
       "      <td>chicago, il</td>\n",
       "      <td>the university of chicago is an affirmative ac...</td>\n",
       "      <td>50000.0</td>\n",
       "    </tr>\n",
       "  </tbody>\n",
       "</table>\n",
       "</div>"
      ],
      "text/plain": [
       "     job_category                            job_title           company_name  \\\n",
       "0  data scientist  number summer intern data scientist                 akamai   \n",
       "1  data scientist    production control data scientist           tesla motors   \n",
       "2  data scientist                       data scientist              microsoft   \n",
       "3  data scientist                       data scientist     schneider electric   \n",
       "4  data scientist                       data scientist  university of chicago   \n",
       "\n",
       "                             location  \\\n",
       "0  cambridge, ma 02139 (area iv area)   \n",
       "1                          sparks, nv   \n",
       "2                        bellevue, wa   \n",
       "3                   andover, ma 01810   \n",
       "4                         chicago, il   \n",
       "\n",
       "                                     job_description   salary  \n",
       "0  please use google chrome when applying for job...  30000.0  \n",
       "1  job title production control data scientist de...  50000.0  \n",
       "2  the microsoft knowledge graph team in the arti...  50000.0  \n",
       "3  schneider electrictm creates connected technol...  50000.0  \n",
       "4  the university of chicago is an affirmative ac...  50000.0  "
      ]
     },
     "execution_count": 2,
     "metadata": {},
     "output_type": "execute_result"
    }
   ],
   "source": [
    "df = pd.read_csv('job_results.csv', index_col=0, encoding='utf-8')\n",
    "df.head()"
   ]
  },
  {
   "cell_type": "code",
   "execution_count": 299,
   "metadata": {
    "collapsed": true
   },
   "outputs": [],
   "source": [
    "X = df['job_description']\n",
    "y = df.salary"
   ]
  },
  {
   "cell_type": "code",
   "execution_count": 300,
   "metadata": {
    "collapsed": true
   },
   "outputs": [],
   "source": [
    "X_train, X_test, y_train, y_test = train_test_split(X, y, test_size=0.3, shuffle=True)"
   ]
  },
  {
   "cell_type": "code",
   "execution_count": 11,
   "metadata": {
    "collapsed": true
   },
   "outputs": [],
   "source": [
    "stoplist = set(stopwords.words('english') + list(ENGLISH_STOP_WORDS))"
   ]
  },
  {
   "cell_type": "code",
   "execution_count": 302,
   "metadata": {
    "scrolled": false
   },
   "outputs": [
    {
     "name": "stdout",
     "output_type": "stream",
     "text": [
      "best hyper-parameters = {'rgs__alpha': 50.0, 'rgs__l1_ratio': 1.0}\n",
      "best score = 0.376558310352\n",
      "\n",
      "best estimator = Pipeline(memory=None,\n",
      "     steps=[('vect', CountVectorizer(analyzer=u'word', binary=False, decode_error='ignore',\n",
      "        dtype=<type 'numpy.int64'>, encoding=u'utf-8', input=u'content',\n",
      "        lowercase=True, max_df=1.0, max_features=None, min_df=1,\n",
      "        ngram_range=(1, 1), preprocessor=None,\n",
      "        stop_words=set([u'al...alse, precompute=False,\n",
      "      random_state=None, selection='cyclic', tol=0.0001, warm_start=False))])\n",
      "\n",
      "Time taken : 14.3803699334  minutes\n"
     ]
    }
   ],
   "source": [
    "# ElasticNet Regressor - GridSearchCV\n",
    "start = time.time()\n",
    "\n",
    "pipeline = Pipeline([\n",
    "    ('vect', CountVectorizer(decode_error='ignore', ngram_range=(1,1), strip_accents='unicode', \\\n",
    "                             stop_words=stoplist, tokenizer=word_tokenize)),\n",
    "    ('tfidf', TfidfTransformer()),\n",
    "    ('rgs', ElasticNet())\n",
    "]) \n",
    "\n",
    "params = dict(rgs__alpha=np.linspace(50, 500, 5), rgs__l1_ratio=[0.1, 0.5, 1.0])\n",
    "grid_search = GridSearchCV(pipeline, param_grid=params, cv=5)\n",
    "\n",
    "grid_search.fit(X_train, y_train)\n",
    "print 'best hyper-parameters =', grid_search.best_params_\n",
    "print 'best score =', grid_search.best_score_\n",
    "print ''\n",
    "print 'best estimator =',grid_search.best_estimator_\n",
    "print ''\n",
    "\n",
    "end = time.time()\n",
    "exe_time = (end - start)/60\n",
    "print 'Time taken :',(exe_time),' minutes'"
   ]
  },
  {
   "cell_type": "code",
   "execution_count": 303,
   "metadata": {},
   "outputs": [
    {
     "name": "stdout",
     "output_type": "stream",
     "text": [
      "90000.0     691\n",
      "70000.0     596\n",
      "110000.0    452\n",
      "50000.0     334\n",
      "130000.0    279\n",
      "150000.0    102\n",
      "30000.0      64\n",
      "170000.0     13\n",
      "190000.0      3\n",
      "10000.0       3\n",
      "210000.0      1\n",
      "Name: salary, dtype: int64\n",
      "2538\n"
     ]
    }
   ],
   "source": [
    "print y.value_counts()\n",
    "print len(y)"
   ]
  },
  {
   "cell_type": "code",
   "execution_count": 305,
   "metadata": {},
   "outputs": [
    {
     "name": "stdout",
     "output_type": "stream",
     "text": [
      "best hyper-parameters = {'cls__penalty': 'l2', 'cls__alpha': 0.01, 'cls__l1_ratio': 0.5}\n",
      "best score = 0.39527027027\n",
      "\n",
      "best estimator = Pipeline(memory=None,\n",
      "     steps=[('vect', CountVectorizer(analyzer=u'word', binary=False, decode_error='ignore',\n",
      "        dtype=<type 'numpy.int64'>, encoding=u'utf-8', input=u'content',\n",
      "        lowercase=True, max_df=1.0, max_features=None, min_df=1,\n",
      "        ngram_range=(1, 1), preprocessor=None,\n",
      "        stop_words=set([u'al...       power_t=0.5, random_state=None, shuffle=True, tol=None, verbose=0,\n",
      "       warm_start=False))])\n",
      "\n",
      "Time taken : 42.8034679174  minutes\n"
     ]
    }
   ],
   "source": [
    "# SGD Classifier - GridSearch : y = full salary\n",
    "start = time.time()\n",
    "\n",
    "pipeline = Pipeline([\n",
    "    ('vect', CountVectorizer(decode_error='ignore', ngram_range=(1,1), strip_accents='unicode', \\\n",
    "                             stop_words=stoplist, tokenizer=word_tokenize)),\n",
    "    ('tfidf', TfidfTransformer()),\n",
    "    ('cls', SGDClassifier(n_jobs=-1, max_iter=5, tol=None))\n",
    "]) \n",
    "\n",
    "params = dict(cls__alpha=np.linspace(0.01, 10, 5), cls__penalty=['l1','l2','elasticnet'], cls__l1_ratio=[0.2, 0.5, 0.8])\n",
    "grid_search = GridSearchCV(pipeline, param_grid=params, cv=5)\n",
    "\n",
    "grid_search.fit(X_train, y_train)\n",
    "print 'best hyper-parameters =', grid_search.best_params_\n",
    "print 'best score =', grid_search.best_score_\n",
    "print ''\n",
    "print 'best estimator =',grid_search.best_estimator_\n",
    "print ''\n",
    "\n",
    "end = time.time()\n",
    "exe_time = (end - start)/60\n",
    "print 'Time taken :',(exe_time),' minutes'\n"
   ]
  },
  {
   "cell_type": "code",
   "execution_count": 3,
   "metadata": {},
   "outputs": [
    {
     "data": {
      "text/plain": [
       "90000.0"
      ]
     },
     "execution_count": 3,
     "metadata": {},
     "output_type": "execute_result"
    }
   ],
   "source": [
    "# Alternative approach - create salary category\n",
    "median = np.median(df.salary)\n",
    "median"
   ]
  },
  {
   "cell_type": "code",
   "execution_count": 4,
   "metadata": {
    "collapsed": true
   },
   "outputs": [],
   "source": [
    "sal_cat = []\n",
    "for s in df.salary:\n",
    "    if s > median:\n",
    "        sal_cat.append(3)\n",
    "    elif s < median:\n",
    "        sal_cat.append(1)\n",
    "    else:\n",
    "        sal_cat.append(2)"
   ]
  },
  {
   "cell_type": "code",
   "execution_count": 5,
   "metadata": {},
   "outputs": [
    {
     "data": {
      "text/html": [
       "<div>\n",
       "<style>\n",
       "    .dataframe thead tr:only-child th {\n",
       "        text-align: right;\n",
       "    }\n",
       "\n",
       "    .dataframe thead th {\n",
       "        text-align: left;\n",
       "    }\n",
       "\n",
       "    .dataframe tbody tr th {\n",
       "        vertical-align: top;\n",
       "    }\n",
       "</style>\n",
       "<table border=\"1\" class=\"dataframe\">\n",
       "  <thead>\n",
       "    <tr style=\"text-align: right;\">\n",
       "      <th></th>\n",
       "      <th>job_category</th>\n",
       "      <th>job_title</th>\n",
       "      <th>company_name</th>\n",
       "      <th>location</th>\n",
       "      <th>job_description</th>\n",
       "      <th>salary</th>\n",
       "      <th>sal_cat</th>\n",
       "    </tr>\n",
       "  </thead>\n",
       "  <tbody>\n",
       "    <tr>\n",
       "      <th>0</th>\n",
       "      <td>data scientist</td>\n",
       "      <td>number summer intern data scientist</td>\n",
       "      <td>akamai</td>\n",
       "      <td>cambridge, ma 02139 (area iv area)</td>\n",
       "      <td>please use google chrome when applying for job...</td>\n",
       "      <td>30000.0</td>\n",
       "      <td>1</td>\n",
       "    </tr>\n",
       "    <tr>\n",
       "      <th>1</th>\n",
       "      <td>data scientist</td>\n",
       "      <td>production control data scientist</td>\n",
       "      <td>tesla motors</td>\n",
       "      <td>sparks, nv</td>\n",
       "      <td>job title production control data scientist de...</td>\n",
       "      <td>50000.0</td>\n",
       "      <td>1</td>\n",
       "    </tr>\n",
       "    <tr>\n",
       "      <th>2</th>\n",
       "      <td>data scientist</td>\n",
       "      <td>data scientist</td>\n",
       "      <td>microsoft</td>\n",
       "      <td>bellevue, wa</td>\n",
       "      <td>the microsoft knowledge graph team in the arti...</td>\n",
       "      <td>50000.0</td>\n",
       "      <td>1</td>\n",
       "    </tr>\n",
       "    <tr>\n",
       "      <th>3</th>\n",
       "      <td>data scientist</td>\n",
       "      <td>data scientist</td>\n",
       "      <td>schneider electric</td>\n",
       "      <td>andover, ma 01810</td>\n",
       "      <td>schneider electrictm creates connected technol...</td>\n",
       "      <td>50000.0</td>\n",
       "      <td>1</td>\n",
       "    </tr>\n",
       "    <tr>\n",
       "      <th>4</th>\n",
       "      <td>data scientist</td>\n",
       "      <td>data scientist</td>\n",
       "      <td>university of chicago</td>\n",
       "      <td>chicago, il</td>\n",
       "      <td>the university of chicago is an affirmative ac...</td>\n",
       "      <td>50000.0</td>\n",
       "      <td>1</td>\n",
       "    </tr>\n",
       "  </tbody>\n",
       "</table>\n",
       "</div>"
      ],
      "text/plain": [
       "     job_category                            job_title           company_name  \\\n",
       "0  data scientist  number summer intern data scientist                 akamai   \n",
       "1  data scientist    production control data scientist           tesla motors   \n",
       "2  data scientist                       data scientist              microsoft   \n",
       "3  data scientist                       data scientist     schneider electric   \n",
       "4  data scientist                       data scientist  university of chicago   \n",
       "\n",
       "                             location  \\\n",
       "0  cambridge, ma 02139 (area iv area)   \n",
       "1                          sparks, nv   \n",
       "2                        bellevue, wa   \n",
       "3                   andover, ma 01810   \n",
       "4                         chicago, il   \n",
       "\n",
       "                                     job_description   salary  sal_cat  \n",
       "0  please use google chrome when applying for job...  30000.0        1  \n",
       "1  job title production control data scientist de...  50000.0        1  \n",
       "2  the microsoft knowledge graph team in the arti...  50000.0        1  \n",
       "3  schneider electrictm creates connected technol...  50000.0        1  \n",
       "4  the university of chicago is an affirmative ac...  50000.0        1  "
      ]
     },
     "execution_count": 5,
     "metadata": {},
     "output_type": "execute_result"
    }
   ],
   "source": [
    "df['sal_cat'] = sal_cat\n",
    "df.head()"
   ]
  },
  {
   "cell_type": "code",
   "execution_count": 6,
   "metadata": {},
   "outputs": [
    {
     "data": {
      "text/plain": [
       "1    997\n",
       "3    850\n",
       "2    691\n",
       "Name: sal_cat, dtype: int64"
      ]
     },
     "execution_count": 6,
     "metadata": {},
     "output_type": "execute_result"
    }
   ],
   "source": [
    "df.sal_cat.value_counts()"
   ]
  },
  {
   "cell_type": "code",
   "execution_count": 7,
   "metadata": {
    "collapsed": true
   },
   "outputs": [],
   "source": [
    "X = df['job_description']\n",
    "y = df.sal_cat"
   ]
  },
  {
   "cell_type": "code",
   "execution_count": 8,
   "metadata": {},
   "outputs": [
    {
     "data": {
      "text/plain": [
       "1    0.392829\n",
       "3    0.334909\n",
       "2    0.272262\n",
       "Name: sal_cat, dtype: float64"
      ]
     },
     "execution_count": 8,
     "metadata": {},
     "output_type": "execute_result"
    }
   ],
   "source": [
    "base_accuracy = y.value_counts() / len(y)\n",
    "base_accuracy"
   ]
  },
  {
   "cell_type": "code",
   "execution_count": 9,
   "metadata": {
    "collapsed": true
   },
   "outputs": [],
   "source": [
    "X_train, X_test, y_train, y_test = train_test_split(X, y, test_size=0.3, shuffle=True)"
   ]
  },
  {
   "cell_type": "code",
   "execution_count": null,
   "metadata": {},
   "outputs": [],
   "source": [
    "# SGD Classifier - GridSearch : y = salary category\n",
    "start = time.time()\n",
    "\n",
    "pipeline = Pipeline([\n",
    "    ('vect', CountVectorizer(decode_error='ignore', ngram_range=(1,1), strip_accents='unicode', \\\n",
    "                             stop_words=stoplist, tokenizer=word_tokenize)),\n",
    "    ('tfidf', TfidfTransformer()),\n",
    "    ('cls', SGDClassifier(n_jobs=-1, max_iter=5, tol=None))\n",
    "]) \n",
    "\n",
    "params = dict(cls__alpha=np.linspace(0.01, 10, 5), cls__penalty=['l1','l2','elasticnet'], cls__l1_ratio=[0.2, 0.5, 0.8])\n",
    "grid_search = GridSearchCV(pipeline, param_grid=params, cv=5)\n",
    "\n",
    "grid_search.fit(X_train, y_train)\n",
    "print 'best hyper-parameters =', grid_search.best_params_\n",
    "print 'best score =', grid_search.best_score_\n",
    "print ''\n",
    "print 'best estimator =',grid_search.best_estimator_\n",
    "print ''\n",
    "\n",
    "end = time.time()\n",
    "exe_time = (end - start)/60\n",
    "print 'Time taken :',(exe_time),' minutes'"
   ]
  },
  {
   "cell_type": "markdown",
   "metadata": {},
   "source": [
    "### QUESTION 2: Factors that distinguish job category ###\n",
    "\n",
    "1. X = job_description, y = job_category\n",
    "2. TfidfVectorizer followed by Train_Test_Split\n",
    "3. RandomForestClassifier\n",
    "4. Determine the top 20 features that distinguish job categories\n"
   ]
  },
  {
   "cell_type": "code",
   "execution_count": 238,
   "metadata": {
    "collapsed": true
   },
   "outputs": [],
   "source": [
    "Stoplist = set(stopwords.words('english') + ['data', 'scientist', 'analyst', 'research', 'business', 'intelligence'] +\\\n",
    "               list(ENGLISH_STOP_WORDS))"
   ]
  },
  {
   "cell_type": "code",
   "execution_count": 239,
   "metadata": {
    "collapsed": true
   },
   "outputs": [],
   "source": [
    "vect = TfidfVectorizer(decode_error='ignore', ngram_range=(1,1), strip_accents='unicode', stop_words=Stoplist, \\\n",
    "                      tokenizer=word_tokenize)"
   ]
  },
  {
   "cell_type": "code",
   "execution_count": 240,
   "metadata": {
    "collapsed": true
   },
   "outputs": [],
   "source": [
    "X = df['job_description']\n",
    "y = df['job_category']"
   ]
  },
  {
   "cell_type": "code",
   "execution_count": 244,
   "metadata": {},
   "outputs": [
    {
     "data": {
      "text/plain": [
       "data analyst             0.399133\n",
       "data scientist           0.267139\n",
       "business intelligence    0.176517\n",
       "research scientist       0.157210\n",
       "Name: job_category, dtype: float64"
      ]
     },
     "execution_count": 244,
     "metadata": {},
     "output_type": "execute_result"
    }
   ],
   "source": [
    "base_accuracy = y.value_counts()/len(y)\n",
    "base_accuracy"
   ]
  },
  {
   "cell_type": "code",
   "execution_count": 212,
   "metadata": {},
   "outputs": [
    {
     "data": {
      "text/plain": [
       "2538"
      ]
     },
     "execution_count": 212,
     "metadata": {},
     "output_type": "execute_result"
    }
   ],
   "source": [
    "X_vect = vect.fit_transform(X)\n",
    "X_vect.shape[0]"
   ]
  },
  {
   "cell_type": "code",
   "execution_count": 213,
   "metadata": {
    "collapsed": true
   },
   "outputs": [],
   "source": [
    "X_train_vect, X_test_vect, y_train, y_test = train_test_split(X_vect, y, test_size=0.3, shuffle=True)"
   ]
  },
  {
   "cell_type": "code",
   "execution_count": 219,
   "metadata": {
    "collapsed": true
   },
   "outputs": [],
   "source": [
    "rfc = RandomForestClassifier(max_depth=30)"
   ]
  },
  {
   "cell_type": "code",
   "execution_count": 220,
   "metadata": {},
   "outputs": [
    {
     "name": "stdout",
     "output_type": "stream",
     "text": [
      "0.702099737533\n"
     ]
    }
   ],
   "source": [
    "rfc.fit(X_train_vect, y_train)\n",
    "y_predicted = rfc.predict(X_test_vect)\n",
    "print rfc.score(X_test_vect, y_test)"
   ]
  },
  {
   "cell_type": "code",
   "execution_count": 227,
   "metadata": {
    "collapsed": true
   },
   "outputs": [],
   "source": [
    "vocab = vect.vocabulary_\n",
    "features = [key for key, value in vocab.items()]\n",
    "# features[:20]"
   ]
  },
  {
   "cell_type": "code",
   "execution_count": 228,
   "metadata": {
    "collapsed": true
   },
   "outputs": [],
   "source": [
    "feature_imp = rfc.feature_importances_\n",
    "# feature_imp[:20]"
   ]
  },
  {
   "cell_type": "code",
   "execution_count": 323,
   "metadata": {},
   "outputs": [
    {
     "data": {
      "image/png": "[encoded data removed]",
      "text/plain": [
       "<matplotlib.figure.Figure at 0x1a3f536310>"
      ]
     },
     "metadata": {},
     "output_type": "display_data"
    }
   ],
   "source": [
    "f_rank = zip(features, feature_imp)\n",
    "    \n",
    "df1 = pd.DataFrame(f_rank, columns=['Features', 'Feature Importance'])\n",
    "\n",
    "df1 = df1.sort_values('Feature Importance', ascending=False)\n",
    "\n",
    "df1[:20].plot(kind='barh', x = 'Features', y = 'Feature Importance', figsize=[15,10], fontsize = 17)\n",
    "plt.xlabel('Features', fontsize=17)\n",
    "plt.ylabel('Feature Importance', fontsize=17)\n",
    "plt.show()"
   ]
  },
  {
   "cell_type": "markdown",
   "metadata": {},
   "source": [
    "### Bonus Problem ###\n",
    "\n",
    "*** Your boss would rather tell a client incorrectly that they would get a lower salary job than tell a client \n",
    "incorrectly that they would get a high salary job. ***\n",
    "\n",
    "1. Find median salary\n",
    "2. Split salary column into High (1) and Low (0). High > median\n",
    "3. Train_Test_split (X = job_description, y = sal_high_low)\n",
    "3. Pipeline CountVectorize, TFIDF transform and Logistic Regression estimator\n",
    "4. Confusion matrix, FP vs FN plot, ROC\n"
   ]
  },
  {
   "cell_type": "code",
   "execution_count": 247,
   "metadata": {},
   "outputs": [
    {
     "data": {
      "text/plain": [
       "90000.0"
      ]
     },
     "execution_count": 247,
     "metadata": {},
     "output_type": "execute_result"
    }
   ],
   "source": [
    "sal_median = np.median(df.salary)\n",
    "sal_median"
   ]
  },
  {
   "cell_type": "code",
   "execution_count": 248,
   "metadata": {
    "collapsed": true
   },
   "outputs": [],
   "source": [
    "# High salary 1 - higher than median\n",
    "# Low salary 0 - median or lower\n",
    "\n",
    "df['sal_high_low'] = df.salary.map(lambda x : 1 if x > sal_median else 0)"
   ]
  },
  {
   "cell_type": "code",
   "execution_count": 249,
   "metadata": {},
   "outputs": [
    {
     "data": {
      "text/html": [
       "<div>\n",
       "<style>\n",
       "    .dataframe thead tr:only-child th {\n",
       "        text-align: right;\n",
       "    }\n",
       "\n",
       "    .dataframe thead th {\n",
       "        text-align: left;\n",
       "    }\n",
       "\n",
       "    .dataframe tbody tr th {\n",
       "        vertical-align: top;\n",
       "    }\n",
       "</style>\n",
       "<table border=\"1\" class=\"dataframe\">\n",
       "  <thead>\n",
       "    <tr style=\"text-align: right;\">\n",
       "      <th></th>\n",
       "      <th>job_category</th>\n",
       "      <th>job_title</th>\n",
       "      <th>company_name</th>\n",
       "      <th>location</th>\n",
       "      <th>job_description</th>\n",
       "      <th>salary</th>\n",
       "      <th>sal_high_low</th>\n",
       "    </tr>\n",
       "  </thead>\n",
       "  <tbody>\n",
       "    <tr>\n",
       "      <th>0</th>\n",
       "      <td>data scientist</td>\n",
       "      <td>number summer intern data scientist</td>\n",
       "      <td>akamai</td>\n",
       "      <td>cambridge, ma 02139 (area iv area)</td>\n",
       "      <td>please use google chrome when applying for job...</td>\n",
       "      <td>30000.0</td>\n",
       "      <td>0</td>\n",
       "    </tr>\n",
       "    <tr>\n",
       "      <th>1</th>\n",
       "      <td>data scientist</td>\n",
       "      <td>production control data scientist</td>\n",
       "      <td>tesla motors</td>\n",
       "      <td>sparks, nv</td>\n",
       "      <td>job title production control data scientist de...</td>\n",
       "      <td>50000.0</td>\n",
       "      <td>0</td>\n",
       "    </tr>\n",
       "    <tr>\n",
       "      <th>2</th>\n",
       "      <td>data scientist</td>\n",
       "      <td>data scientist</td>\n",
       "      <td>microsoft</td>\n",
       "      <td>bellevue, wa</td>\n",
       "      <td>the microsoft knowledge graph team in the arti...</td>\n",
       "      <td>50000.0</td>\n",
       "      <td>0</td>\n",
       "    </tr>\n",
       "    <tr>\n",
       "      <th>3</th>\n",
       "      <td>data scientist</td>\n",
       "      <td>data scientist</td>\n",
       "      <td>schneider electric</td>\n",
       "      <td>andover, ma 01810</td>\n",
       "      <td>schneider electrictm creates connected technol...</td>\n",
       "      <td>50000.0</td>\n",
       "      <td>0</td>\n",
       "    </tr>\n",
       "    <tr>\n",
       "      <th>4</th>\n",
       "      <td>data scientist</td>\n",
       "      <td>data scientist</td>\n",
       "      <td>university of chicago</td>\n",
       "      <td>chicago, il</td>\n",
       "      <td>the university of chicago is an affirmative ac...</td>\n",
       "      <td>50000.0</td>\n",
       "      <td>0</td>\n",
       "    </tr>\n",
       "  </tbody>\n",
       "</table>\n",
       "</div>"
      ],
      "text/plain": [
       "     job_category                            job_title           company_name  \\\n",
       "0  data scientist  number summer intern data scientist                 akamai   \n",
       "1  data scientist    production control data scientist           tesla motors   \n",
       "2  data scientist                       data scientist              microsoft   \n",
       "3  data scientist                       data scientist     schneider electric   \n",
       "4  data scientist                       data scientist  university of chicago   \n",
       "\n",
       "                             location  \\\n",
       "0  cambridge, ma 02139 (area iv area)   \n",
       "1                          sparks, nv   \n",
       "2                        bellevue, wa   \n",
       "3                   andover, ma 01810   \n",
       "4                         chicago, il   \n",
       "\n",
       "                                     job_description   salary  sal_high_low  \n",
       "0  please use google chrome when applying for job...  30000.0             0  \n",
       "1  job title production control data scientist de...  50000.0             0  \n",
       "2  the microsoft knowledge graph team in the arti...  50000.0             0  \n",
       "3  schneider electrictm creates connected technol...  50000.0             0  \n",
       "4  the university of chicago is an affirmative ac...  50000.0             0  "
      ]
     },
     "execution_count": 249,
     "metadata": {},
     "output_type": "execute_result"
    }
   ],
   "source": [
    "df.head()"
   ]
  },
  {
   "cell_type": "code",
   "execution_count": 250,
   "metadata": {
    "collapsed": true
   },
   "outputs": [],
   "source": [
    "X = df['job_description']\n",
    "y = df.sal_high_low"
   ]
  },
  {
   "cell_type": "code",
   "execution_count": 251,
   "metadata": {},
   "outputs": [
    {
     "data": {
      "text/plain": [
       "0    please use google chrome when applying for job...\n",
       "1    job title production control data scientist de...\n",
       "2    the microsoft knowledge graph team in the arti...\n",
       "3    schneider electrictm creates connected technol...\n",
       "4    the university of chicago is an affirmative ac...\n",
       "Name: job_description, dtype: object"
      ]
     },
     "execution_count": 251,
     "metadata": {},
     "output_type": "execute_result"
    }
   ],
   "source": [
    "X.head()"
   ]
  },
  {
   "cell_type": "code",
   "execution_count": 252,
   "metadata": {
    "collapsed": true
   },
   "outputs": [],
   "source": [
    "X_train, X_test, y_train, y_test = train_test_split(X, y, test_size=0.3, shuffle=True)"
   ]
  },
  {
   "cell_type": "code",
   "execution_count": 253,
   "metadata": {},
   "outputs": [
    {
     "data": {
      "text/plain": [
       "762"
      ]
     },
     "execution_count": 253,
     "metadata": {},
     "output_type": "execute_result"
    }
   ],
   "source": [
    "len(y_test)"
   ]
  },
  {
   "cell_type": "code",
   "execution_count": 254,
   "metadata": {
    "collapsed": true
   },
   "outputs": [],
   "source": [
    "stoplist = set(stopwords.words('english') + list(ENGLISH_STOP_WORDS))"
   ]
  },
  {
   "cell_type": "code",
   "execution_count": 255,
   "metadata": {},
   "outputs": [
    {
     "name": "stdout",
     "output_type": "stream",
     "text": [
      "0.814960629921\n",
      "Time taken : 2.72261285782  seconds\n"
     ]
    }
   ],
   "source": [
    "# Logistic Regression\n",
    "start = time.time()\n",
    "\n",
    "pipeline = Pipeline([\n",
    "    ('vect', CountVectorizer(decode_error='ignore', ngram_range=(1,1), strip_accents='unicode', stop_words=stoplist)),\n",
    "    ('tfidf', TfidfTransformer()),\n",
    "    ('cls', LogisticRegression())\n",
    "]) \n",
    "pipeline.fit(X_train, y_train)\n",
    "y_predicted = pipeline.predict(X_test)\n",
    "y_proba = pipeline.predict_proba(X_test)\n",
    "print pipeline.score(X_test, y_test)\n",
    "\n",
    "end = time.time()\n",
    "exe_time = end - start\n",
    "print 'Time taken :',(exe_time),' seconds'"
   ]
  },
  {
   "cell_type": "code",
   "execution_count": 256,
   "metadata": {},
   "outputs": [
    {
     "data": {
      "text/plain": [
       "0.6650906225374311"
      ]
     },
     "execution_count": 256,
     "metadata": {},
     "output_type": "execute_result"
    }
   ],
   "source": [
    "base_accuracy = 1 - np.mean(df.sal_high_low)\n",
    "base_accuracy"
   ]
  },
  {
   "cell_type": "code",
   "execution_count": 257,
   "metadata": {},
   "outputs": [
    {
     "name": "stdout",
     "output_type": "stream",
     "text": [
      "             precision    recall  f1-score   support\n",
      "\n",
      "          0       0.81      0.94      0.87       510\n",
      "          1       0.82      0.56      0.67       252\n",
      "\n",
      "avg / total       0.82      0.81      0.80       762\n",
      "\n"
     ]
    }
   ],
   "source": [
    "print classification_report(y_test, y_predicted)"
   ]
  },
  {
   "cell_type": "code",
   "execution_count": 39,
   "metadata": {},
   "outputs": [
    {
     "data": {
      "text/html": [
       "<div>\n",
       "<style>\n",
       "    .dataframe thead tr:only-child th {\n",
       "        text-align: right;\n",
       "    }\n",
       "\n",
       "    .dataframe thead th {\n",
       "        text-align: left;\n",
       "    }\n",
       "\n",
       "    .dataframe tbody tr th {\n",
       "        vertical-align: top;\n",
       "    }\n",
       "</style>\n",
       "<table border=\"1\" class=\"dataframe\">\n",
       "  <thead>\n",
       "    <tr style=\"text-align: right;\">\n",
       "      <th></th>\n",
       "      <th>Low Salary</th>\n",
       "      <th>High Salary</th>\n",
       "    </tr>\n",
       "  </thead>\n",
       "  <tbody>\n",
       "    <tr>\n",
       "      <th>0</th>\n",
       "      <td>0.798551</td>\n",
       "      <td>0.201449</td>\n",
       "    </tr>\n",
       "    <tr>\n",
       "      <th>1</th>\n",
       "      <td>0.783015</td>\n",
       "      <td>0.216985</td>\n",
       "    </tr>\n",
       "    <tr>\n",
       "      <th>2</th>\n",
       "      <td>0.723196</td>\n",
       "      <td>0.276804</td>\n",
       "    </tr>\n",
       "    <tr>\n",
       "      <th>3</th>\n",
       "      <td>0.897629</td>\n",
       "      <td>0.102371</td>\n",
       "    </tr>\n",
       "    <tr>\n",
       "      <th>4</th>\n",
       "      <td>0.876630</td>\n",
       "      <td>0.123370</td>\n",
       "    </tr>\n",
       "  </tbody>\n",
       "</table>\n",
       "</div>"
      ],
      "text/plain": [
       "   Low Salary  High Salary\n",
       "0    0.798551     0.201449\n",
       "1    0.783015     0.216985\n",
       "2    0.723196     0.276804\n",
       "3    0.897629     0.102371\n",
       "4    0.876630     0.123370"
      ]
     },
     "execution_count": 39,
     "metadata": {},
     "output_type": "execute_result"
    }
   ],
   "source": [
    "# Calculate probability of prediciton\n",
    "y_proba_df = pd.DataFrame(y_proba, columns=['Low Salary', 'High Salary'])\n",
    "y_proba_df.head()"
   ]
  },
  {
   "cell_type": "code",
   "execution_count": 40,
   "metadata": {},
   "outputs": [
    {
     "name": "stdout",
     "output_type": "stream",
     "text": [
      "Actual Salary Low, Predicted High :  28\n",
      "Actual Salary High, Predicted Low :  118\n"
     ]
    }
   ],
   "source": [
    "tn, fp, fn, tp = confusion_matrix(y_test, y_predicted).ravel()\n",
    "print 'Actual Salary Low, Predicted High : ', fp\n",
    "print 'Actual Salary High, Predicted Low : ', fn"
   ]
  },
  {
   "cell_type": "code",
   "execution_count": 43,
   "metadata": {},
   "outputs": [
    {
     "data": {
      "text/html": [
       "<div>\n",
       "<style>\n",
       "    .dataframe thead tr:only-child th {\n",
       "        text-align: right;\n",
       "    }\n",
       "\n",
       "    .dataframe thead th {\n",
       "        text-align: left;\n",
       "    }\n",
       "\n",
       "    .dataframe tbody tr th {\n",
       "        vertical-align: top;\n",
       "    }\n",
       "</style>\n",
       "<table border=\"1\" class=\"dataframe\">\n",
       "  <thead>\n",
       "    <tr style=\"text-align: right;\">\n",
       "      <th></th>\n",
       "      <th>Predicted High</th>\n",
       "      <th>Predicted Low</th>\n",
       "    </tr>\n",
       "  </thead>\n",
       "  <tbody>\n",
       "    <tr>\n",
       "      <th>High Salary</th>\n",
       "      <td>130</td>\n",
       "      <td>118</td>\n",
       "    </tr>\n",
       "    <tr>\n",
       "      <th>Low Salary</th>\n",
       "      <td>28</td>\n",
       "      <td>486</td>\n",
       "    </tr>\n",
       "  </tbody>\n",
       "</table>\n",
       "</div>"
      ],
      "text/plain": [
       "             Predicted High  Predicted Low\n",
       "High Salary             130            118\n",
       "Low Salary               28            486"
      ]
     },
     "execution_count": 43,
     "metadata": {},
     "output_type": "execute_result"
    }
   ],
   "source": [
    "# Create Confusion Matrix\n",
    "cm = confusion_matrix(y_test, y_predicted, labels=[1,0])\n",
    "\n",
    "cm_df = pd.DataFrame(cm, index=['High Salary', 'Low Salary'], columns=['Predicted High', 'Predicted Low'])\n",
    "cm_df"
   ]
  },
  {
   "cell_type": "code",
   "execution_count": 63,
   "metadata": {
    "collapsed": true,
    "scrolled": true
   },
   "outputs": [],
   "source": [
    "# Set up threshold range and calculate fp and fn\n",
    "threshold = np.arange(1,100)/100.\n",
    "fp = []\n",
    "fn = []\n",
    "\n",
    "for thresh in threshold:\n",
    "    labeled_high = np.array([1 if x >= thresh else 0 for x in y_proba_df['High Salary']])\n",
    "    # print 'Threshold:', thresh, 'false positives:', np.sum((y_test == 0) & (labeled_high == 1)), \\\n",
    "    #                              'false negatives:', np.sum((y_test == 1) & (labeled_high == 0))\n",
    "    fp.append(np.sum((y_test == 0) & (labeled_high == 1)))\n",
    "    fn.append(np.sum((y_test == 1) & (labeled_high == 0)))"
   ]
  },
  {
   "cell_type": "code",
   "execution_count": 69,
   "metadata": {},
   "outputs": [
    {
     "data": {
      "image/png": "[encoded data removed]",
      "text/plain": [
       "<matplotlib.figure.Figure at 0x10d7ad1d0>"
      ]
     },
     "metadata": {},
     "output_type": "display_data"
    }
   ],
   "source": [
    "fig = plt.figure(figsize=(12,8))\n",
    "ax = fig.gca()\n",
    "\n",
    "plt.plot(threshold, fp, 'bs', threshold, fn, 'g^', axes=ax)\n",
    "plt.title('Plot of False Positives vs False Negatives', fontsize=20)\n",
    "plt.xlabel('Threshold', fontsize=20)\n",
    "plt.ylabel('FP and FN Counts', fontsize=20)\n",
    "plt.xticks(fontsize=20)\n",
    "plt.yticks(fontsize=20)\n",
    "plt.text(0.15, 400, 'FP - Actual Low Salary, Predicted High', fontsize=20)\n",
    "plt.text(0.4, 260, 'FN - Actual High Salary, Predicted Low', fontsize=20)\n",
    "\n",
    "plt.show()"
   ]
  },
  {
   "cell_type": "code",
   "execution_count": 68,
   "metadata": {},
   "outputs": [
    {
     "data": {
      "image/png": "[encoded data removed]",
      "text/plain": [
       "<matplotlib.figure.Figure at 0x1a18632f50>"
      ]
     },
     "metadata": {},
     "output_type": "display_data"
    }
   ],
   "source": [
    "fpr, tpr, _ = roc_curve(y_test, y_proba[:,1])\n",
    "roc_auc = auc(fpr, tpr)\n",
    "\n",
    "plt.figure(figsize=[10,10])\n",
    "plt.plot(fpr, tpr, label='ROC curve (area = %0.2f)' % roc_auc, linewidth=4)\n",
    "plt.plot([0, 1], [0, 1], 'k--', linewidth=4)\n",
    "plt.xlim([-0.05, 1.0])\n",
    "plt.ylim([-0.05, 1.05])\n",
    "plt.xticks(fontsize=18)\n",
    "plt.yticks(fontsize=18)\n",
    "plt.xlabel('False Positive Rate', fontsize=18)\n",
    "plt.ylabel('True Positive Rate', fontsize=18)\n",
    "plt.title('Receiver operating characteristic: High Salary', fontsize=18)\n",
    "plt.legend(loc=\"lower right\")\n",
    "plt.show()"
   ]
  },
  {
   "cell_type": "code",
   "execution_count": null,
   "metadata": {
    "collapsed": true
   },
   "outputs": [],
   "source": []
  }
 ],
 "metadata": {
  "kernelspec": {
   "display_name": "Python 2",
   "language": "python",
   "name": "python2"
  },
  "language_info": {
   "codemirror_mode": {
    "name": "ipython",
    "version": 2
   },
   "file_extension": ".py",
   "mimetype": "text/x-python",
   "name": "python",
   "nbconvert_exporter": "python",
   "pygments_lexer": "ipython2",
   "version": "2.7.13"
  }
 },
 "nbformat": 4,
 "nbformat_minor": 2
}

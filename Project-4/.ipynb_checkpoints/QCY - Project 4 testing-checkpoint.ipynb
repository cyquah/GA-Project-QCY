{
 "cells": [
  {
   "cell_type": "code",
   "execution_count": 7,
   "metadata": {
    "collapsed": true
   },
   "outputs": [],
   "source": [
    "from selenium import webdriver\n",
    "from textacy.preprocess import preprocess_text\n",
    "from bs4 import BeautifulSoup as bs\n",
    "\n",
    "import pandas as pd\n",
    "import numpy as np\n",
    "import requests\n",
    "import re\n",
    "import time"
   ]
  },
  {
   "cell_type": "code",
   "execution_count": 8,
   "metadata": {
    "collapsed": true
   },
   "outputs": [],
   "source": [
    "url = 'https://www.indeed.com/advanced_search?q=title%3A%28data+scientist%29+%24100%2C000+-+%24110%2C000&l=United+States&radius=0&limit=50'"
   ]
  },
  {
   "cell_type": "code",
   "execution_count": 9,
   "metadata": {
    "collapsed": true
   },
   "outputs": [],
   "source": [
    "# Start the WebDriver\n",
    "wd = webdriver.Chrome()"
   ]
  },
  {
   "cell_type": "code",
   "execution_count": 18,
   "metadata": {
    "scrolled": true
   },
   "outputs": [
    {
     "name": "stdout",
     "output_type": "stream",
     "text": [
      "Time taken : 1057.95562005  seconds\n"
     ]
    }
   ],
   "source": [
    "\n",
    "\n",
    "# list of job categories to search\n",
    "ttl_list = ['data scientist', 'data analyst', 'research scientist', 'business intelligence']\n",
    "\n",
    "# list of salary ranges to search\n",
    "sal_list = []\n",
    "for i in range(0, 300000, 20000):\n",
    "    sal = '$'+ str(i) + ' - ' + '$' + str(i + 20000)\n",
    "    sal_list.append(sal)\n",
    "\n",
    "# Start looping through the job categories list\n",
    "final_list = []\n",
    "for i in ttl_list:\n",
    "    wd.get(url)\n",
    "    ttl = wd.find_element_by_id('as_ttl')\n",
    "    ttl.clear()\n",
    "    ttl.send_keys(ttl_list[i])     \n",
    "    \n",
    "    cat_holding_list = []\n",
    "    for j in sal_list:\n",
    "        sal = wd.find_element_by_id('salary')\n",
    "        sal.clear()\n",
    "        sal.send_keys(sal_list[j])\n",
    "\n",
    "        # define salary as the average of the salary range. This will serve as target for regression later\n",
    "        sals = re.findall('[\\d]+', sal_list[j])\n",
    "        salary = np.mean([int(x) for x in sals])\n",
    "\n",
    "        form = wd.find_element_by_tag_name('form')\n",
    "        form.submit()\n",
    "\n"
   ]
  },
  {
   "cell_type": "code",
   "execution_count": 19,
   "metadata": {},
   "outputs": [
    {
     "name": "stdout",
     "output_type": "stream",
     "text": [
      "144\n"
     ]
    }
   ],
   "source": [
    "print len(sal_holding_list)"
   ]
  },
  {
   "cell_type": "code",
   "execution_count": null,
   "metadata": {
    "collapsed": true
   },
   "outputs": [],
   "source": []
  },
  {
   "cell_type": "code",
   "execution_count": null,
   "metadata": {
    "collapsed": true
   },
   "outputs": [],
   "source": []
  },
  {
   "cell_type": "code",
   "execution_count": null,
   "metadata": {
    "collapsed": true
   },
   "outputs": [],
   "source": []
  },
  {
   "cell_type": "code",
   "execution_count": null,
   "metadata": {
    "collapsed": true
   },
   "outputs": [],
   "source": []
  },
  {
   "cell_type": "code",
   "execution_count": null,
   "metadata": {
    "collapsed": true
   },
   "outputs": [],
   "source": []
  },
  {
   "cell_type": "code",
   "execution_count": null,
   "metadata": {
    "collapsed": true
   },
   "outputs": [],
   "source": []
  },
  {
   "cell_type": "code",
   "execution_count": null,
   "metadata": {
    "collapsed": true
   },
   "outputs": [],
   "source": [
    "wd.quit()"
   ]
  }
 ],
 "metadata": {
  "kernelspec": {
   "display_name": "Python 2",
   "language": "python",
   "name": "python2"
  },
  "language_info": {
   "codemirror_mode": {
    "name": "ipython",
    "version": 2
   },
   "file_extension": ".py",
   "mimetype": "text/x-python",
   "name": "python",
   "nbconvert_exporter": "python",
   "pygments_lexer": "ipython2",
   "version": "2.7.13"
  }
 },
 "nbformat": 4,
 "nbformat_minor": 2
}

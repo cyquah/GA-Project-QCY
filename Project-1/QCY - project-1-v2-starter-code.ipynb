{
 "cells": [
  {
   "cell_type": "markdown",
   "metadata": {},
   "source": [
    "<img src=\"http://imgur.com/1ZcRyrc.png\" style=\"float: left; margin: 15px; height: 80px\">\n",
    "\n",
    "# Project 1\n",
    "\n",
    "### Building \"Pokemon Stay\"\n",
    "\n",
    "---\n",
    "You are an analyst at a \"scrappy\" online gaming company that specializes in remakes of last year's fads.\n",
    "\n",
    "Your boss, who runs the product development team, is convinced that Pokemon Go's fatal flaw was that you had to actually move around outside. She has design mock-ups for a new game called Pokemon Stay: in this version players still need to move, but just from website to website. Pokemon gyms are now popular online destinations, and catching Pokemon in the \"wild\" simply requires browsing the internet for hours in the comfort of your home.\n",
    "\n",
    "She wants you to program a prototype version of the game, and analyze the planned content to help the team calibrate the design."
   ]
  },
  {
   "cell_type": "markdown",
   "metadata": {},
   "source": [
    "#### Package imports\n",
    "\n",
    "The pprint package below is the only package imported here, and it's not even strictly required to do any of the project. Printing python variables and objects with pprint can help to format them in a \"prettier\" way."
   ]
  },
  {
   "cell_type": "code",
   "execution_count": 41,
   "metadata": {
    "collapsed": true
   },
   "outputs": [],
   "source": [
    "from pprint import pprint"
   ]
  },
  {
   "cell_type": "markdown",
   "metadata": {},
   "source": [
    "<img src=\"http://imgur.com/l5NasQj.png\" style=\"float: left; margin: 25px 15px 0px 0px; height: 25px\">\n",
    "\n",
    "## 1. Defining a player\n",
    "\n",
    "---\n",
    "\n",
    "The player variables are:\n",
    "\n",
    "    player_id : id code unique to each player (integer)\n",
    "    player_name : entered name of the player (string)\n",
    "    time_played : number of time played the game in minutes (float)\n",
    "    player_pokemon: the player's captured pokemon (dictionary)\n",
    "    gyms_visited: ids of the gyms that a player has visited (list)\n",
    "    \n",
    "Create the components for a player object by defining each of these variables. The dictionary and list variables should just be defined as empty; you can use any (correctly typed) values for the others."
   ]
  },
  {
   "cell_type": "code",
   "execution_count": 42,
   "metadata": {
    "collapsed": true
   },
   "outputs": [],
   "source": [
    "player_id = 80\n",
    "player_name = 'Shazam'\n",
    "time_played = 100.5\n",
    "player_pokemon = {}\n",
    "gyms_visited = []"
   ]
  },
  {
   "cell_type": "markdown",
   "metadata": {},
   "source": [
    "<img src=\"http://imgur.com/l5NasQj.png\" style=\"float: left; margin: 25px 15px 0px 0px; height: 25px\">\n",
    "\n",
    "## 2. Defining \"gym\" locations\n",
    "\n",
    "---\n",
    "\n",
    "As the sole programmer, Pokemon Stay will have to start small. To begin, there will be 10 different gym location websites on the internet. The gym locations are:\n",
    "\n",
    "    1. 'reddit.com'\n",
    "    2. 'amazon.com'\n",
    "    3. 'twitter.com'\n",
    "    4. 'linkedin.com'\n",
    "    5. 'ebay.com'\n",
    "    6. 'netflix.com'\n",
    "    7. 'sporcle.com'\n",
    "    8. 'stackoverflow.com'\n",
    "    9. 'github.com'\n",
    "    10. 'quora.com'\n",
    "\n",
    "1. Set up a list of all the gym locations. This will be a list of strings.\n",
    "2. Append two of these locations to your player's list of visited gyms.\n",
    "3. Print the list."
   ]
  },
  {
   "cell_type": "code",
   "execution_count": 43,
   "metadata": {},
   "outputs": [
    {
     "name": "stdout",
     "output_type": "stream",
     "text": [
      "['linkedin.com', 'ebay.com']\n"
     ]
    }
   ],
   "source": [
    "gym_locations = ['reddit.com','amazon.com','twitter.com','linkedin.com','ebay.com','netflix.com','sporcle.com','stackoverflow.com','github.com','quora.com']\n",
    "\n",
    "gyms_visited = ['linkedin.com','ebay.com']\n",
    "\n",
    "print gyms_visited"
   ]
  },
  {
   "cell_type": "markdown",
   "metadata": {},
   "source": [
    "<img src=\"http://imgur.com/l5NasQj.png\" style=\"float: left; margin: 25px 15px 0px 0px; height: 25px\">\n",
    "\n",
    "## 3. Create a pokedex\n",
    "\n",
    "---\n",
    "\n",
    "We also need to create some pokemon to catch. Each pokemon will be defined by these variables:\n",
    "\n",
    "    pokemon_id : unique identifier for each pokemon (integer)\n",
    "    name : the name of the pokemon (string)\n",
    "    type : the category of pokemon (string)\n",
    "    hp : base hitpoints (integer)\n",
    "    attack : base attack (integer)\n",
    "    defense : base defense (integer)\n",
    "    special_attack : base special attack (integer)\n",
    "    special_defense : base sepecial defense (integer)\n",
    "    speed : base speed (integer)\n",
    "\n",
    "We are only going to create 3 different pokemon with these `pokemon_id` and `pokemon_name` values:\n",
    "\n",
    "   **_1 : 'charmander'\n",
    "![charmander](charmander.png)\n",
    "   2 : 'squirtle'\n",
    "![squirtle](squirtle.png)\n",
    "   3 : 'bulbasaur'_**\n",
    "![bulbasaur](bulbasaur.png)\n",
    "\n",
    "Create a dictionary that will contain the pokemon. The keys of the dictionary will be the `pokemon_id` and the values will themselves dictionaries that contain the other pokemon variables. The structure of the pokedex dictionary will start like so:\n",
    "     \n",
    "     {\n",
    "         1: {\n",
    "                 'name':'charmander',\n",
    "                 'type':'fire',\n",
    "                 ...\n",
    "                 \n",
    "The `type` of charmander, squirtle, and bulbasaur should be `'fire'`, `'water'`, and `'poison'` respectively. The other values are up to you, make them anything you like!\n",
    "\n",
    "Print (or pretty print) the pokedex dictionary with the 3 pokemon."
   ]
  },
  {
   "cell_type": "code",
   "execution_count": 44,
   "metadata": {},
   "outputs": [
    {
     "name": "stdout",
     "output_type": "stream",
     "text": [
      "{1: {'attack': 50,\n",
      "     'defense': 50,\n",
      "     'hp': 100,\n",
      "     'name': 'charmander',\n",
      "     'special_attack': 100,\n",
      "     'special_defense': 100,\n",
      "     'speed': 30,\n",
      "     'type': 'fire'},\n",
      " 2: {'attack': 80,\n",
      "     'defense': 80,\n",
      "     'hp': 170,\n",
      "     'name': 'squirtle',\n",
      "     'special_attack': 160,\n",
      "     'special_defense': 160,\n",
      "     'speed': 60,\n",
      "     'type': 'water'},\n",
      " 3: {'attack': 110,\n",
      "     'defense': 110,\n",
      "     'hp': 240,\n",
      "     'name': 'bulbasaur',\n",
      "     'special_attack': 220,\n",
      "     'special_defense': 220,\n",
      "     'speed': 90,\n",
      "     'type': 'poison'}}\n"
     ]
    }
   ],
   "source": [
    "pokedex = {\n",
    "    1: {\n",
    "            'name' : 'charmander',\n",
    "            'type' : 'fire',\n",
    "            'hp' : 100,\n",
    "            'attack' : 50,\n",
    "            'defense' : 50,\n",
    "            'special_attack' : 100,\n",
    "            'special_defense' : 100,\n",
    "            'speed' : 30\n",
    "    },\n",
    "    \n",
    "    2: {\n",
    "            'name' : 'squirtle',\n",
    "            'type' : 'water',\n",
    "            'hp' : 170,\n",
    "            'attack' : 80,\n",
    "            'defense' : 80,\n",
    "            'special_attack' : 160,\n",
    "            'special_defense' : 160,\n",
    "            'speed' : 60   \n",
    "    },\n",
    "    \n",
    "    3: {\n",
    "            'name' : 'bulbasaur',\n",
    "            'type' : 'poison',\n",
    "            'hp' : 240,\n",
    "            'attack' : 110,\n",
    "            'defense' : 110,\n",
    "            'special_attack' : 220,\n",
    "            'special_defense' : 220,\n",
    "            'speed' : 90\n",
    "        \n",
    "    }\n",
    "}\n",
    "\n",
    "pprint(pokedex)"
   ]
  },
  {
   "cell_type": "markdown",
   "metadata": {},
   "source": [
    "<img src=\"http://imgur.com/l5NasQj.png\" style=\"float: left; margin: 25px 15px 0px 0px; height: 25px\">\n",
    "\n",
    "## 4. Create a data structure for players\n",
    "\n",
    "---\n",
    "\n",
    "### 4.1 \n",
    "\n",
    "In order to maintain a database of multiple players, create a dictionary that keeps track of players indexed by `player_id`. \n",
    "\n",
    "The keys of the dictionary will be `player_id` and values will be dictionaries containing each player's variables (from question 1). \n",
    "\n",
    "Construct the `players` dictionary and insert the player that you defined in question 1, then print `players`."
   ]
  },
  {
   "cell_type": "code",
   "execution_count": 45,
   "metadata": {},
   "outputs": [
    {
     "name": "stdout",
     "output_type": "stream",
     "text": [
      "{80: {'gyms_visited': ['linkedin.com', 'ebay.com'],\n",
      "      'name': 'Shazam',\n",
      "      'player_pokemon': {},\n",
      "      'time_played': 100.5}}\n"
     ]
    }
   ],
   "source": [
    "players = {\n",
    "    80: {\n",
    "            'name' : 'Shazam',\n",
    "            'time_played' : 100.5,\n",
    "            'player_pokemon' : {},\n",
    "            'gyms_visited' : ['linkedin.com','ebay.com']\n",
    "    }    \n",
    "}\n",
    "\n",
    "pprint(players)"
   ]
  },
  {
   "cell_type": "markdown",
   "metadata": {},
   "source": [
    "---\n",
    "\n",
    "### 4.2\n",
    "\n",
    "Create a new player with `player_id = 2` in the `players` dictionary. Leave the `'player_pokemon'` dictionary empty. Append `'alcatraz'` and `'pacific_beach'` to the `'gyms_visited'` list for player 2.\n",
    "\n",
    "The `'player_name'` and `'time_played'` values are up to you, but must be a string and float, respectively.\n",
    "\n",
    "Remember, the player_id is the key for the player in the players dictionary.\n",
    "\n",
    "Print the `players` dictionary with the new player inserted."
   ]
  },
  {
   "cell_type": "code",
   "execution_count": 46,
   "metadata": {},
   "outputs": [
    {
     "name": "stdout",
     "output_type": "stream",
     "text": [
      "{2: {'gyms_visited': ['alcatraz', 'pacific_beach'],\n",
      "     'name': 'Deadpool',\n",
      "     'player_pokemon': {},\n",
      "     'time_played': 150.8},\n",
      " 80: {'gyms_visited': ['linkedin.com', 'ebay.com'],\n",
      "      'name': 'Shazam',\n",
      "      'player_pokemon': {},\n",
      "      'time_played': 100.5}}\n"
     ]
    }
   ],
   "source": [
    "players[2] = {\n",
    "            'name' : 'Deadpool',\n",
    "            'time_played' : 150.8,\n",
    "            'player_pokemon' : {},\n",
    "            'gyms_visited' : ['alcatraz', 'pacific_beach']    \n",
    "}\n",
    "\n",
    "pprint(players)"
   ]
  },
  {
   "cell_type": "markdown",
   "metadata": {},
   "source": [
    "<img src=\"http://imgur.com/l5NasQj.png\" style=\"float: left; margin: 25px 15px 0px 0px; height: 25px\">\n",
    "\n",
    "## 5. Add captured pokemon for each player\n",
    "\n",
    "---\n",
    "\n",
    "The `'player_pokemon'` keyed dictionaries for each player keep track of which of the pokemon each player has.\n",
    "\n",
    "The keys of the `'player_pokemon'` dictionaries are the pokemon ids that correspond to the ids in the `pokedex` dictionary you created earlier. \n",
    "### The values are integers specifying the stats for the pokemon. ###\n",
    "\n",
    "Give player 1 a squirtle. Give player 2 charmander and a bulbasaur.\n",
    "\n",
    "Print the players dictionary after adding the pokemon for each player.\n"
   ]
  },
  {
   "cell_type": "code",
   "execution_count": 47,
   "metadata": {},
   "outputs": [
    {
     "name": "stdout",
     "output_type": "stream",
     "text": [
      "{2: {'gyms_visited': ['alcatraz', 'pacific_beach'],\n",
      "     'name': 'Deadpool',\n",
      "     'player_pokemon': {1: 100, 3: 240},\n",
      "     'time_played': 150.8},\n",
      " 80: {'gyms_visited': ['linkedin.com', 'ebay.com'],\n",
      "      'name': 'Shazam',\n",
      "      'player_pokemon': {2: 170},\n",
      "      'time_played': 100.5}}\n"
     ]
    }
   ],
   "source": [
    "# not clear what above bold sentence wants . Which stats ? hp used in code below\n",
    "\n",
    "players[80]['player_pokemon'] = {2 : 170}\n",
    "\n",
    "players[2]['player_pokemon'] = {1:100, 3:240}\n",
    "\n",
    "pprint(players)"
   ]
  },
  {
   "cell_type": "code",
   "execution_count": 48,
   "metadata": {},
   "outputs": [
    {
     "data": {
      "text/plain": [
       "\"\\na = pokedex.keys()[1]\\nb = pokedex[a]\\n\\nplayers[80]['player_pokemon'] = {a : b}\\n\\nc = pokedex.keys()[0]\\nd = pokedex[c]\\n\\ne = pokedex.keys()[2]\\nf = pokedex[e]\\n\\nplayers[2]['player_pokemon'] = {c:d, e:f}\\n\\npprint(players)\\n\""
      ]
     },
     "execution_count": 48,
     "metadata": {},
     "output_type": "execute_result"
    }
   ],
   "source": [
    "# following code will include all stats for the pokemon\n",
    "\"\"\"\n",
    "a = pokedex.keys()[1]\n",
    "b = pokedex[a]\n",
    "\n",
    "players[80]['player_pokemon'] = {a : b}\n",
    "\n",
    "c = pokedex.keys()[0]\n",
    "d = pokedex[c]\n",
    "\n",
    "e = pokedex.keys()[2]\n",
    "f = pokedex[e]\n",
    "\n",
    "players[2]['player_pokemon'] = {c:d, e:f}\n",
    "\n",
    "pprint(players)\n",
    "\"\"\""
   ]
  },
  {
   "cell_type": "markdown",
   "metadata": {},
   "source": [
    "\n",
    "\n",
    "## 6. What gyms have players visited?\n",
    "\n",
    "---\n",
    "<img src=\"http://imgur.com/l5NasQj.png\" style=\"float: left; margin: 25px 15px 0px 0px; height: 25px\">\n",
    "### 6.1\n",
    "\n",
    "Write a for-loop that:\n",
    "\n",
    "1. Iterates through the `pokemon_gyms` list of gym locations you defined before.\n",
    "2. For each gym, iterate through each player in the `players` dictionary with a second, internal for-loop.\n",
    "3. If the player has visited the gym, print out \"[player] has visited [gym location].\", filling in [player] and [gym location] with the current player's name and current gym location."
   ]
  },
  {
   "cell_type": "code",
   "execution_count": 49,
   "metadata": {},
   "outputs": [
    {
     "name": "stdout",
     "output_type": "stream",
     "text": [
      "Shazam has visited linkedin.com\n",
      "Shazam has visited ebay.com\n",
      "0.000741958618164\n"
     ]
    }
   ],
   "source": [
    "import time\n",
    "\n",
    "start = time.time()\n",
    "for g in gym_locations:\n",
    "    for key, value in players.items():\n",
    "        if g in value['gyms_visited']:\n",
    "            print value['name'] + ' has visited ' + g                                    \n",
    "end = time.time()\n",
    "exe_time = end - start\n",
    "print (exe_time)"
   ]
  },
  {
   "cell_type": "markdown",
   "metadata": {},
   "source": [
    "<img src=\"http://imgur.com/xDpSobf.png\" style=\"float: left; margin: 25px 15px 0px 0px; height: 25px\">\n",
    "### 6.2\n",
    "\n",
    "How many times did that loop run? If you have N gyms and also N players, how many times would it run as a function of N?\n",
    "\n",
    "Can you think of a more efficient way to accomplish the same thing? \n",
    "\n",
    "(You can write your answer as Markdown text.)"
   ]
  },
  {
   "cell_type": "markdown",
   "metadata": {
    "collapsed": true
   },
   "source": [
    "<div style= \"border-style: ridge; padding: 15px; background-color:#F5F5F5\">\n",
    "<p  style= \"font-family: 'Comic Sans MS', cursive, sans-serif; color: blue; font-size: 20px\">That loop ran for 20 times</p> \n",
    "\n",
    "<p style= \"font-family: 'Comic Sans MS', cursive, sans-serif; color: brown; font-size: 20px\">For N gyms and N players, it would run N**2 times</p>\n",
    "\n",
    "<p style= \"font-family: 'Comic Sans MS', cursive, sans-serif; color: green; font-size: 20px\">Use list comprehension as shown below :</p>\n",
    "</div>"
   ]
  },
  {
   "cell_type": "code",
   "execution_count": 50,
   "metadata": {},
   "outputs": [
    {
     "name": "stdout",
     "output_type": "stream",
     "text": [
      "['Shazam has visited linkedin.com', 'Shazam has visited ebay.com']\n",
      "0.00143003463745\n"
     ]
    }
   ],
   "source": [
    "start1 = time.time()\n",
    "list1 = [(value['name']+' has visited '+g) for g in gym_locations for key,value in players.items() \n",
    "         if g in value['gyms_visited']]\n",
    "print (list1)\n",
    "end1 = time.time()\n",
    "\n",
    "exe_time1 = end1 - start1\n",
    "print (exe_time1)"
   ]
  },
  {
   "cell_type": "markdown",
   "metadata": {},
   "source": [
    "<img src=\"http://imgur.com/l5NasQj.png\" style=\"float: left; margin: 25px 15px 0px 0px; height: 25px\">\n",
    "\n",
    "## 7. Calculate player \"power\".\n",
    "\n",
    "---\n",
    "\n",
    "Define a function that will calculate a player's \"power\". Player power is defined as the sum of the base statistics all of their pokemon.\n",
    "\n",
    "Your function will:\n",
    "\n",
    "1. Accept the `players` dictionary, `pokedex` dictionary, and a player_id as arguments.\n",
    "2. For the specified player_id, look up that player's pokemon and their level(s).\n",
    "3. Find and aggregate the attack and defense values for each of the player's pokemon from the `pokedex` dictionary.\n",
    "4. Print \"[player name]'s power is [player power].\", where the player power is the sum of the base statistics for all of their pokemon.\n",
    "5. Return the player's power value.\n",
    "\n",
    "Print out the pokemon power for each of your players."
   ]
  },
  {
   "cell_type": "code",
   "execution_count": 51,
   "metadata": {},
   "outputs": [
    {
     "name": "stdout",
     "output_type": "stream",
     "text": [
      "Shazam's power is 160\n",
      "Deadpool's power is 320\n"
     ]
    },
    {
     "data": {
      "text/plain": [
       "320"
      ]
     },
     "execution_count": 51,
     "metadata": {},
     "output_type": "execute_result"
    }
   ],
   "source": [
    "def player_power(players, pokedex, player_id):\n",
    "    \n",
    "    player_pokemon = players[player_id]['player_pokemon']\n",
    "    power = 0\n",
    "    for j in range(len(player_pokemon)):\n",
    "        pokemon_id = player_pokemon.keys()[j]\n",
    "        power = power + pokedex[pokemon_id]['attack'] + pokedex[pokemon_id]['defense'] \n",
    "        \n",
    "    print players[player_id]['name']+\"'s power is \"+str(power)\n",
    "    return power\n",
    "\n",
    "player_power(players, pokedex, 80)\n",
    "player_power(players, pokedex, 2)"
   ]
  },
  {
   "cell_type": "markdown",
   "metadata": {
    "collapsed": true
   },
   "source": [
    "<img src=\"http://imgur.com/l5NasQj.png\" style=\"float: left; margin: 25px 15px 0px 0px; height: 25px\">\n",
    "\n",
    "## 8. Load a pokedex file containing all the pokemon\n",
    "\n",
    "---\n",
    "\n",
    "### 8.1\n",
    "\n",
    "While you were putting together the prototype code, your colleagues were preparing a dataset of Pokemon and their attributes. (This was a rush job, so they may have picked some crazy values for some...)\n",
    "\n",
    "The code below loads information from a comma separated value (csv) file. You need to parse this string into a more useable format. The format of the string is:\n",
    "\n",
    "- Rows are separated by newline characters: \\n\n",
    "- Columns are separated by commas: ,\n",
    "- All cells in the csv are double quoted. Ex: \"PokedexNumber\" is the first cell of the first row.\n",
    "\n",
    "\n",
    "Using for-loops, create a list of lists where each list within the overall list is a row of the csv/matrix, and each element in that list is a cell in that row. Additional criteria:\n",
    "\n",
    "1. Quotes are removed from each cell item.\n",
    "2. Numeric column values are converted to floats.\n",
    "3. There are some cells that are empty and have no information. For these cells put a -1 value in place.\n",
    "\n",
    "Your end result is effectively a matrix. Each list in the outer list is a row, and the *j*th elements of list together form the *j*th column, which represents a data attribute. The first three lists in your pokedex list should look like this:\n",
    "\n",
    "    ['PokedexNumber', 'Name', 'Type', 'Total', 'HP', 'Attack', 'Defense', 'SpecialAttack', 'SpecialDefense', 'Speed']\n",
    "    [1.0, 'Bulbasaur', 'GrassPoison', 318.0, 45.0, 49.0, 49.0, 65.0, 65.0, 45.0]\n",
    "    [2.0, 'Ivysaur', 'GrassPoison', 405.0, 60.0, 62.0, 63.0, 80.0, 80.0, 60.0]"
   ]
  },
  {
   "cell_type": "code",
   "execution_count": 52,
   "metadata": {
    "collapsed": true
   },
   "outputs": [],
   "source": [
    "# printing out for reference purposes during presentation\n",
    "raw_pd = ''\n",
    "pokedex_file = 'pokedex_basic.csv'\n",
    "with open(pokedex_file, 'r') as f:\n",
    "    raw_pd = f.readlines()\n",
    "    \n",
    "#pprint (raw_pd)"
   ]
  },
  {
   "cell_type": "code",
   "execution_count": 53,
   "metadata": {},
   "outputs": [
    {
     "name": "stdout",
     "output_type": "stream",
     "text": [
      "No replaced empty cells found\n",
      "\n",
      "[['PokedexNumber',\n",
      "  'Name',\n",
      "  'Type',\n",
      "  'Total',\n",
      "  'HP',\n",
      "  'Attack',\n",
      "  'Defense',\n",
      "  'SpecialAttack',\n",
      "  'SpecialDefense',\n",
      "  'Speed'],\n",
      " [1.0, 'Bulbasaur', 'GrassPoison', 318.0, 45.0, 49.0, 49.0, 65.0, 65.0, 45.0],\n",
      " [2.0, 'Ivysaur', 'GrassPoison', 405.0, 60.0, 62.0, 63.0, 80.0, 80.0, 60.0]]\n"
     ]
    }
   ],
   "source": [
    "# Code to read in pokedex info\n",
    "raw_pd = ''\n",
    "pokedex_file = 'pokedex_basic.csv'\n",
    "with open(pokedex_file, 'r') as f:\n",
    "    raw_pd = f.readlines()\n",
    "\n",
    "# organise raw_pd into list of lists by lines of strings     \n",
    "pd_list = []\n",
    "for row in raw_pd:\n",
    "    # [:-1] removes the empty element \"\" created from the row.split\n",
    "    srow = row.split(\"\\n\")[:-1]\n",
    "    pd_list.append(srow)\n",
    "# remove empty list created at the end\n",
    "pd_list.pop()    \n",
    "\n",
    "# split string in list to list of strings \n",
    "pokedex_list = []\n",
    "num_str = '0123456789'\n",
    "for row in pd_list:\n",
    "    # pull out element 0 of row (which is a string) and split it into a list of strings\n",
    "    srow = row[0].split(\",\")\n",
    "    for index, value in enumerate(srow):\n",
    "        # remove the quotes in each string\n",
    "        srow[index] = value.replace('\"','')\n",
    "        # check for empty cell and replace by -1\n",
    "        if (srow[index] == \"\" or srow[index] == \" \"):\n",
    "            srow[index] = -1\n",
    "        # if the 1st letter of str is a digit in numbers string, convert that str to a float    \n",
    "        if srow[index][0] in num_str:\n",
    "            srow[index] = float(srow[index])        \n",
    "    pokedex_list.append(srow)\n",
    "        \n",
    "# check how many empty cells replaced  \n",
    "count = 0\n",
    "for row in pokedex_list:\n",
    "    for item in row:\n",
    "        if item == -1.0:\n",
    "            print row\n",
    "            count += 1\n",
    "if count == 0:\n",
    "    print \"No replaced empty cells found\"\n",
    "    print \"\"\n",
    "        \n",
    "    \n",
    "pprint (pokedex_list[:3])\n",
    " "
   ]
  },
  {
   "cell_type": "markdown",
   "metadata": {},
   "source": [
    "<img src=\"http://imgur.com/xDpSobf.png\" style=\"float: left; margin: 25px 15px 0px 0px; height: 25px\">\n",
    "\n",
    "### 8.2 Parse the raw pokedex with list comprehensions\n",
    "\n",
    "---\n",
    "\n",
    "Perform the same parsing as above, but **using only a single list comprehension** instead of for loops. You may have nested list comprehensions within the main list comprehension! The output should be exactly the same."
   ]
  },
  {
   "cell_type": "code",
   "execution_count": 54,
   "metadata": {},
   "outputs": [
    {
     "name": "stdout",
     "output_type": "stream",
     "text": [
      "[['PokedexNumber',\n",
      "  'Name',\n",
      "  'Type',\n",
      "  'Total',\n",
      "  'HP',\n",
      "  'Attack',\n",
      "  'Defense',\n",
      "  'SpecialAttack',\n",
      "  'SpecialDefense',\n",
      "  'Speed'],\n",
      " [1.0, 'Bulbasaur', 'GrassPoison', 318.0, 45.0, 49.0, 49.0, 65.0, 65.0, 45.0],\n",
      " [2.0, 'Ivysaur', 'GrassPoison', 405.0, 60.0, 62.0, 63.0, 80.0, 80.0, 60.0]]\n"
     ]
    }
   ],
   "source": [
    "# Code to read in pokedex info\n",
    "raw_pd = ''\n",
    "pokedex_file = 'pokedex_basic.csv'\n",
    "with open(pokedex_file, 'r') as f:\n",
    "    raw_pd = f.readlines()\n",
    "\n",
    "\"\"\"\n",
    "# breakdown for easier understanding\n",
    "a = [row.split(\"\\n\")[:-1] for row in raw_pd][:-1]    # list of long strings    \n",
    "\n",
    "y = subrow[0].split(\",\")    # sublist of short strings\n",
    "b = [y for subrow in a]\n",
    "\n",
    "z = value.replace('\"','')\n",
    "c = list(float(z) if value[0] in '0123456789' else (-1 if z==\"\" or z==\" \" else z) for value in y \n",
    "     # above change elements in y according to conditions\n",
    "\n",
    "pokedex_list = [c for subrow in a]    \n",
    "\"\"\"\n",
    "\n",
    "pokedex_list = [list(float(value.replace('\"','')) if value.replace('\"','')[0] in '0123456789'\\\n",
    "                else (-1 if value.replace('\"','') == \"\"  or value.replace('\"','') == \" \" else value.replace('\"',''))\\\n",
    "                 for value in subrow[0].split(\",\")) for subrow in [row.split(\"\\n\")[:-1]\\\n",
    "                for row in raw_pd][:-1]]\n",
    "\n",
    "pprint (pokedex_list[:3])"
   ]
  },
  {
   "cell_type": "markdown",
   "metadata": {},
   "source": [
    "<img src=\"http://imgur.com/l5NasQj.png\" style=\"float: left; margin: 25px 15px 0px 0px; height: 25px\">\n",
    "\n",
    "## 9. Write a function to generate the full pokedex\n",
    "\n",
    "---\n",
    "\n",
    "Write a function that recreates the pokedex you made before, but with the data read in from the full pokemon file. The `PokedexNumber` should be used as the `pokemon_id` key values for the dictionary of pokemon.\n",
    "\n",
    "Your function should:\n",
    "\n",
    "1. Take the parsed pokedex information you created above as an argument.\n",
    "2. Return a dictionary in the same format as your original pokedex you created before containing the information from the parsed full pokedex file.\n",
    "\n",
    "To test the function, print out the pokemon with id = 100."
   ]
  },
  {
   "cell_type": "code",
   "execution_count": 55,
   "metadata": {},
   "outputs": [
    {
     "name": "stdout",
     "output_type": "stream",
     "text": [
      "800\n"
     ]
    }
   ],
   "source": [
    "print len(pokedex_list)"
   ]
  },
  {
   "cell_type": "code",
   "execution_count": 56,
   "metadata": {
    "scrolled": true
   },
   "outputs": [
    {
     "name": "stdout",
     "output_type": "stream",
     "text": [
      "[(1.0, {'Attack': 49.0, 'Defense': 49.0, 'Name': 'Bulbasaur', 'SpecialAttack': 65.0, 'HP': 45.0, 'Total': 318.0, 'Type': 'GrassPoison', 'Speed': 45.0, 'SpecialDefense': 65.0}), (2.0, {'Attack': 62.0, 'Defense': 63.0, 'Name': 'Ivysaur', 'SpecialAttack': 80.0, 'HP': 60.0, 'Total': 405.0, 'Type': 'GrassPoison', 'Speed': 60.0, 'SpecialDefense': 80.0}), (3.0, {'Attack': 100.0, 'Defense': 123.0, 'Name': 'VenusaurMega Venusaur', 'SpecialAttack': 122.0, 'HP': 80.0, 'Total': 625.0, 'Type': 'GrassPoison', 'Speed': 80.0, 'SpecialDefense': 120.0})]\n",
      "\n",
      "{'Attack': 30.0,\n",
      " 'Defense': 50.0,\n",
      " 'HP': 40.0,\n",
      " 'Name': 'Voltorb',\n",
      " 'SpecialAttack': 55.0,\n",
      " 'SpecialDefense': 55.0,\n",
      " 'Speed': 100.0,\n",
      " 'Total': 330.0,\n",
      " 'Type': 'Electric'}\n"
     ]
    }
   ],
   "source": [
    "def pd_gen(pdex_list):\n",
    "    \n",
    "    pdex_full = {}\n",
    "    \n",
    "    # loop thru pdex_list starting from row 2 which contains the values\n",
    "    for i in range(1,len(pdex_list)):\n",
    "        # pick the appropriate value needed via indexing\n",
    "        id = pdex_list[i][0]\n",
    "        namevalue = pdex_list[i][1]\n",
    "        typevalue = pdex_list[i][2]\n",
    "        totalvalue = pdex_list[i][3]\n",
    "        hpvalue = pdex_list[i][4]\n",
    "        attackvalue = pdex_list[i][5]\n",
    "        defensevalue = pdex_list[i][6]\n",
    "        specialattackvalue = pdex_list[i][7]\n",
    "        specialdefensevalue = pdex_list[i][8]\n",
    "        speedvalue = pdex_list[i][9]\n",
    "        \n",
    "        pdex_full[id] = {'Name':namevalue, 'Type':typevalue, 'Total':totalvalue, 'HP':hpvalue, 'Attack':attackvalue, \\\n",
    "                        'Defense':defensevalue, 'SpecialAttack':specialattackvalue, \\\n",
    "                         'SpecialDefense':specialdefensevalue, 'Speed':speedvalue} \n",
    "    return pdex_full\n",
    "\n",
    "pokedex_full = pd_gen(pokedex_list)\n",
    "print (pokedex_full.items()[:3])\n",
    "print \"\"\n",
    "pprint (pokedex_full[100])\n"
   ]
  },
  {
   "cell_type": "markdown",
   "metadata": {},
   "source": [
    "<img src=\"http://i.imgur.com/GCAf1UX.png\" style=\"float: left; margin: 25px 15px 0px 0px; height: 25px\">\n",
    "\n",
    "## 10. Write a function to generate a \"filtered\" pokedex\n",
    "---\n",
    "Your function should:\n",
    "1. Take the parsed pokedex information you created above as an argument.\n",
    "1. Take a dictionary as a parameter with keys matching the features of the Pokedex, filtering by exact match for string type values, and/or filter continuous variables specified value that is greater than or equal to the dictionary key parameter.\n",
    "1. Return multiple elements from the Pokedex\n",
    "\n",
    "Example:\n",
    "\n",
    "```python\n",
    "\n",
    "# Only filter based on parameters passed\n",
    "filter_options = {\n",
    "    'Attack':   25,\n",
    "    'Defense':  30,\n",
    "    'Type':     'Electric'\n",
    "}\n",
    "\n",
    "# Return records with attack >= 24, defense >= 30, and type == \"Electric\"\n",
    "# Also anticipate that other paramters can also be passed such as \"SpecialAttack\", \"Speed\", etc.\n",
    "filtered_pokedex(pokedex_data, filter=filter_options)\n",
    "\n",
    "# Example output:\n",
    "# [{'Attack': 30.0,\n",
    "#  'Defense': 50.0,\n",
    "#  'HP': 40.0,\n",
    "#  'Name': 'Voltorb',\n",
    "#  'SpecialAttack': 55.0,\n",
    "#  'SpecialDefense': 55.0,\n",
    "#  'Speed': 100.0,\n",
    "#  'Total': 330.0,\n",
    "#  'Type': 'Electric'},\n",
    "#  {'Attack': 30.0,\n",
    "#  'Defense': 33.0,\n",
    "#  'HP': 32.0,\n",
    "#  'Name': 'Pikachu',\n",
    "#  'SpecialAttack': 55.0,\n",
    "#  'SpecialDefense': 55.0,\n",
    "#  'Speed': 100.0,\n",
    "#  'Total': 330.0,\n",
    "#  'Type': 'Electric'},\n",
    "#  ... etc\n",
    "#  ]\n",
    "\n",
    "```\n",
    "\n"
   ]
  },
  {
   "cell_type": "code",
   "execution_count": 57,
   "metadata": {},
   "outputs": [
    {
     "name": "stdout",
     "output_type": "stream",
     "text": [
      "[{'Attack': 100.0,\n",
      "  'Defense': 63.0,\n",
      "  'HP': 75.0,\n",
      "  'Name': 'Zebstrika',\n",
      "  'SpecialAttack': 80.0,\n",
      "  'SpecialDefense': 63.0,\n",
      "  'Speed': 116.0,\n",
      "  'Total': 497.0,\n",
      "  'Type': 'Electric'},\n",
      " {'Attack': 75.0,\n",
      "  'Defense': 80.0,\n",
      "  'HP': 70.0,\n",
      "  'Name': 'ManectricMega Manectric',\n",
      "  'SpecialAttack': 135.0,\n",
      "  'SpecialDefense': 80.0,\n",
      "  'Speed': 135.0,\n",
      "  'Total': 575.0,\n",
      "  'Type': 'Electric'},\n",
      " {'Attack': 85.0,\n",
      "  'Defense': 75.0,\n",
      "  'HP': 90.0,\n",
      "  'Name': 'Raikou',\n",
      "  'SpecialAttack': 115.0,\n",
      "  'SpecialDefense': 100.0,\n",
      "  'Speed': 115.0,\n",
      "  'Total': 580.0,\n",
      "  'Type': 'Electric'}]\n"
     ]
    }
   ],
   "source": [
    "filter_options = {\n",
    "    'Attack':   25,\n",
    "    'Defense':  30,\n",
    "    'Type':     'Electric',\n",
    "    'HP':       70,\n",
    "    'Speed':    115\n",
    "}\n",
    "\n",
    "def filteredpokedex(pdex_full, filter=filter_options):\n",
    "    \n",
    "    # 1st loop is to loop through parameters in the filter\n",
    "    for key, value in filter.items():\n",
    "        placeholder = {}\n",
    "        # 2nd loop is to loop through the pokemons in pdex_full\n",
    "        for pok, stats in pdex_full.items():\n",
    "            # 3rd loop is to loop through the stats of the pokemon\n",
    "            for stat, lvl in stats.items():\n",
    "                # check whether the parameter value is float (Type and Name are strings)\n",
    "                if type(lvl) != float:\n",
    "                    if (key == stat and lvl == value):\n",
    "                        placeholder.update({pok:stats})\n",
    "                else:    \n",
    "                    if (key == stat and lvl >= value):\n",
    "                        placeholder.update({pok:stats})\n",
    "        pdex_full = placeholder            \n",
    "    return pdex_full.values()\n",
    "\n",
    "filtered_pokemon = filteredpokedex(pokedex_full)\n",
    "pprint (filtered_pokemon)\n"
   ]
  },
  {
   "cell_type": "markdown",
   "metadata": {
    "collapsed": true
   },
   "source": [
    "\n",
    "## 9. Descriptive statistics on the prototype pokedex\n",
    "\n",
    "<img src=\"http://imgur.com/l5NasQj.png\" style=\"float: left; margin: 25px 15px 0px 0px; height: 25px\">\n",
    "### 9.1\n",
    "\n",
    "What is the population mean and standard deviation of the \"Total\" attribute for all characters in the Pokedex?\n",
    "\n"
   ]
  },
  {
   "cell_type": "code",
   "execution_count": 58,
   "metadata": {},
   "outputs": [
    {
     "name": "stdout",
     "output_type": "stream",
     "text": [
      "mean = 434.921151439\n",
      "standard deviation = 119.895094073\n"
     ]
    }
   ],
   "source": [
    "import numpy as np\n",
    "\n",
    "total = []\n",
    "for i in range(1,len(pokedex_list)):\n",
    "    total.append(pokedex_list[i][3])\n",
    "        \n",
    "avg = np.mean(total)\n",
    "std_dev = np.std(total)  \n",
    "    \n",
    "print \"mean =\", avg\n",
    "print \"standard deviation =\", std_dev\n"
   ]
  },
  {
   "cell_type": "markdown",
   "metadata": {},
   "source": [
    "<img src=\"http://imgur.com/l5NasQj.png\" style=\"float: left; margin: 25px 15px 0px 0px; height: 25px\">\n",
    "### 9.2\n",
    "\n",
    "The game is no fun if the characters are wildly unbalanced! Are any characters \"overpowered\", which we'll define as having a \"Total\" more than three standard deviations from the population mean?"
   ]
  },
  {
   "cell_type": "code",
   "execution_count": 59,
   "metadata": {},
   "outputs": [
    {
     "name": "stdout",
     "output_type": "stream",
     "text": [
      "[{'name': 'MewtwoMega Mewtwo X', 'pokemon_id': 150.0, 'total_power': 800.0}]\n"
     ]
    }
   ],
   "source": [
    "overpowered = []\n",
    "for i in range(1,len(pokedex_list)):\n",
    "    if pokedex_list[i][3] > (avg + 3 * std_dev):\n",
    "        overpowered.append({'pokemon_id':pokedex_list[i][0], 'name':pokedex_list[i][1], 'total_power':pokedex_list[i][3]})\n",
    "        \n",
    "pprint (overpowered)\n",
    "        "
   ]
  },
  {
   "cell_type": "markdown",
   "metadata": {},
   "source": [
    "![mega_mewtwo_x](mega_mewtwo_x.png)"
   ]
  },
  {
   "cell_type": "markdown",
   "metadata": {},
   "source": [
    "<img src=\"http://imgur.com/xDpSobf.png\" style=\"float: left; margin: 25px 15px 0px 0px; height: 25px\">\n",
    "\n",
    "## 10. Calibrate the frequency of Pokemon\n",
    "\n",
    "The design team wants you to make the powerful Pokemon rare, and the weaklings more common. How would you set the probability $p_i$ of finding Pokemon *i* each time a player visits a gym?\n",
    "\n",
    "Write a function that takes in a Pokedex number and returns a value $p_i$ for that character.\n",
    "\n",
    "Hint: there are many ways you could do this. What do _you_ think makes sense? Start with simplifying assumptions: for example, you could assume that the probabilities of encountering any two Pokemon on one visit to a gym are independent of each other."
   ]
  },
  {
   "cell_type": "code",
   "execution_count": 60,
   "metadata": {},
   "outputs": [
    {
     "name": "stdout",
     "output_type": "stream",
     "text": [
      "0.180196081844 525.0\n"
     ]
    }
   ],
   "source": [
    "# Approach here to assign probabability based on the inverse exponential function for min of 0.5 and max of 9\n",
    "# (i.e. 1/(e**0.5) to 1/(e**9) tied in to the total power spread of the pokemon)\n",
    "\n",
    "import math\n",
    "\n",
    "power_min = min(total)\n",
    "power_max = max(total)\n",
    "exp_min = 0.1\n",
    "exp_max = 3\n",
    "\n",
    "def poke_prob(pokemon_id, pd_list=pokedex_list):\n",
    "    \n",
    "    global power_min, power_max, exp_min, exp_max, poke_power\n",
    "    # range_factor use to convert pokemon power to exp parameter\n",
    "    range_factor = (exp_max - exp_min)/(max(total)- min(total))\n",
    "    \n",
    "    # loop for the pokemon and determine its total power\n",
    "    for i in range(1,len(pd_list)):\n",
    "        if pd_list[i][0] == pokemon_id:\n",
    "            poke_power = pd_list[i][3]\n",
    "            \n",
    "            # use the poke_power and range_factor to determine the exp_parameter to use \n",
    "            exp_parameter = exp_min + (poke_power - power_min) * range_factor\n",
    "            probability = 1 / math.exp(exp_parameter)\n",
    "            \n",
    "    return  probability \n",
    "          \n",
    "x = poke_prob(450)\n",
    "print x, poke_power\n",
    "    "
   ]
  },
  {
   "cell_type": "code",
   "execution_count": 61,
   "metadata": {},
   "outputs": [
    {
     "data": {
      "text/plain": [
       "<function matplotlib.pyplot.show>"
      ]
     },
     "execution_count": 61,
     "metadata": {},
     "output_type": "execute_result"
    },
    {
     "data": {
      "image/png": "[encoded data removed]",
      "text/plain": [
       "<matplotlib.figure.Figure at 0x11110fd10>"
      ]
     },
     "metadata": {},
     "output_type": "display_data"
    }
   ],
   "source": [
    "%matplotlib inline\n",
    "import matplotlib.pyplot as plt\n",
    "\n",
    "# plot distribution of power\n",
    "plt.hist(total, bins=40)\n",
    "plt.xlabel('total power of pokemon')\n",
    "plt.ylabel('count frequency')\n",
    "plt.show\n"
   ]
  },
  {
   "cell_type": "code",
   "execution_count": 62,
   "metadata": {},
   "outputs": [
    {
     "data": {
      "text/plain": [
       "<function matplotlib.pyplot.show>"
      ]
     },
     "execution_count": 62,
     "metadata": {},
     "output_type": "execute_result"
    },
    {
     "data": {
      "image/png": "[encoded data removed]",
      "text/plain": [
       "<matplotlib.figure.Figure at 0x11af30850>"
      ]
     },
     "metadata": {},
     "output_type": "display_data"
    }
   ],
   "source": [
    "# Plot power vs. probability for all pokemons\n",
    "\n",
    "# Find the probability of all pokemons in pokedex_full\n",
    "prob_list = []\n",
    "for i in range(1,len(pokedex_list)):\n",
    "    prob_list.append(poke_prob(pokedex_list[i][0]))\n",
    "        \n",
    "plt.plot(total,prob_list, 'r.')\n",
    "plt.xlabel('pokemon total power')\n",
    "plt.ylabel('probability of finding pokemon')\n",
    "\n",
    "plt.show\n"
   ]
  },
  {
   "cell_type": "code",
   "execution_count": null,
   "metadata": {
    "collapsed": true
   },
   "outputs": [],
   "source": []
  }
 ],
 "metadata": {
  "anaconda-cloud": {},
  "kernelspec": {
   "display_name": "Python 2",
   "language": "python",
   "name": "python2"
  },
  "language_info": {
   "codemirror_mode": {
    "name": "ipython",
    "version": 2
   },
   "file_extension": ".py",
   "mimetype": "text/x-python",
   "name": "python",
   "nbconvert_exporter": "python",
   "pygments_lexer": "ipython2",
   "version": "2.7.13"
  }
 },
 "nbformat": 4,
 "nbformat_minor": 1
}
